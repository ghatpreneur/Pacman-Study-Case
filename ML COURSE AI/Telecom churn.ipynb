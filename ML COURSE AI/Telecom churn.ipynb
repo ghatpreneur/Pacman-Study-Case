{
 "cells": [
  {
   "cell_type": "markdown",
   "id": "9fcf03fc",
   "metadata": {},
   "source": [
    "# Telecom Churn"
   ]
  },
  {
   "cell_type": "code",
   "execution_count": 2,
   "id": "6ef277fb",
   "metadata": {},
   "outputs": [],
   "source": [
    "import pandas as pd\n",
    "import numpy as np \n",
    "import seaborn as sns\n",
    "import matplotlib.pyplot as plt"
   ]
  },
  {
   "cell_type": "code",
   "execution_count": 3,
   "id": "d7f4cfe4",
   "metadata": {},
   "outputs": [
    {
     "data": {
      "application/vnd.microsoft.datawrangler.viewer.v0+json": {
       "columns": [
        {
         "name": "index",
         "rawType": "int64",
         "type": "integer"
        },
        {
         "name": "State",
         "rawType": "object",
         "type": "string"
        },
        {
         "name": "Account length",
         "rawType": "int64",
         "type": "integer"
        },
        {
         "name": "Area code",
         "rawType": "int64",
         "type": "integer"
        },
        {
         "name": "International plan",
         "rawType": "object",
         "type": "string"
        },
        {
         "name": "Voice mail plan",
         "rawType": "object",
         "type": "string"
        },
        {
         "name": "Number vmail messages",
         "rawType": "int64",
         "type": "integer"
        },
        {
         "name": "Total day minutes",
         "rawType": "float64",
         "type": "float"
        },
        {
         "name": "Total day calls",
         "rawType": "int64",
         "type": "integer"
        },
        {
         "name": "Total day charge",
         "rawType": "float64",
         "type": "float"
        },
        {
         "name": "Total eve minutes",
         "rawType": "float64",
         "type": "float"
        },
        {
         "name": "Total eve calls",
         "rawType": "int64",
         "type": "integer"
        },
        {
         "name": "Total eve charge",
         "rawType": "float64",
         "type": "float"
        },
        {
         "name": "Total night minutes",
         "rawType": "float64",
         "type": "float"
        },
        {
         "name": "Total night calls",
         "rawType": "int64",
         "type": "integer"
        },
        {
         "name": "Total night charge",
         "rawType": "float64",
         "type": "float"
        },
        {
         "name": "Total intl minutes",
         "rawType": "float64",
         "type": "float"
        },
        {
         "name": "Total intl calls",
         "rawType": "int64",
         "type": "integer"
        },
        {
         "name": "Total intl charge",
         "rawType": "float64",
         "type": "float"
        },
        {
         "name": "Customer service calls",
         "rawType": "int64",
         "type": "integer"
        },
        {
         "name": "Churn",
         "rawType": "bool",
         "type": "boolean"
        }
       ],
       "ref": "89720a0c-cb33-4390-9e5f-fb3a15d6983b",
       "rows": [
        [
         "0",
         "KS",
         "128",
         "415",
         "No",
         "Yes",
         "25",
         "265.1",
         "110",
         "45.07",
         "197.4",
         "99",
         "16.78",
         "244.7",
         "91",
         "11.01",
         "10.0",
         "3",
         "2.7",
         "1",
         "False"
        ],
        [
         "1",
         "OH",
         "107",
         "415",
         "No",
         "Yes",
         "26",
         "161.6",
         "123",
         "27.47",
         "195.5",
         "103",
         "16.62",
         "254.4",
         "103",
         "11.45",
         "13.7",
         "3",
         "3.7",
         "1",
         "False"
        ],
        [
         "2",
         "NJ",
         "137",
         "415",
         "No",
         "No",
         "0",
         "243.4",
         "114",
         "41.38",
         "121.2",
         "110",
         "10.3",
         "162.6",
         "104",
         "7.32",
         "12.2",
         "5",
         "3.29",
         "0",
         "False"
        ],
        [
         "3",
         "OH",
         "84",
         "408",
         "Yes",
         "No",
         "0",
         "299.4",
         "71",
         "50.9",
         "61.9",
         "88",
         "5.26",
         "196.9",
         "89",
         "8.86",
         "6.6",
         "7",
         "1.78",
         "2",
         "False"
        ],
        [
         "4",
         "OK",
         "75",
         "415",
         "Yes",
         "No",
         "0",
         "166.7",
         "113",
         "28.34",
         "148.3",
         "122",
         "12.61",
         "186.9",
         "121",
         "8.41",
         "10.1",
         "3",
         "2.73",
         "3",
         "False"
        ]
       ],
       "shape": {
        "columns": 20,
        "rows": 5
       }
      },
      "text/html": [
       "<div>\n",
       "<style scoped>\n",
       "    .dataframe tbody tr th:only-of-type {\n",
       "        vertical-align: middle;\n",
       "    }\n",
       "\n",
       "    .dataframe tbody tr th {\n",
       "        vertical-align: top;\n",
       "    }\n",
       "\n",
       "    .dataframe thead th {\n",
       "        text-align: right;\n",
       "    }\n",
       "</style>\n",
       "<table border=\"1\" class=\"dataframe\">\n",
       "  <thead>\n",
       "    <tr style=\"text-align: right;\">\n",
       "      <th></th>\n",
       "      <th>State</th>\n",
       "      <th>Account length</th>\n",
       "      <th>Area code</th>\n",
       "      <th>International plan</th>\n",
       "      <th>Voice mail plan</th>\n",
       "      <th>Number vmail messages</th>\n",
       "      <th>Total day minutes</th>\n",
       "      <th>Total day calls</th>\n",
       "      <th>Total day charge</th>\n",
       "      <th>Total eve minutes</th>\n",
       "      <th>Total eve calls</th>\n",
       "      <th>Total eve charge</th>\n",
       "      <th>Total night minutes</th>\n",
       "      <th>Total night calls</th>\n",
       "      <th>Total night charge</th>\n",
       "      <th>Total intl minutes</th>\n",
       "      <th>Total intl calls</th>\n",
       "      <th>Total intl charge</th>\n",
       "      <th>Customer service calls</th>\n",
       "      <th>Churn</th>\n",
       "    </tr>\n",
       "  </thead>\n",
       "  <tbody>\n",
       "    <tr>\n",
       "      <th>0</th>\n",
       "      <td>KS</td>\n",
       "      <td>128</td>\n",
       "      <td>415</td>\n",
       "      <td>No</td>\n",
       "      <td>Yes</td>\n",
       "      <td>25</td>\n",
       "      <td>265.1</td>\n",
       "      <td>110</td>\n",
       "      <td>45.07</td>\n",
       "      <td>197.4</td>\n",
       "      <td>99</td>\n",
       "      <td>16.78</td>\n",
       "      <td>244.7</td>\n",
       "      <td>91</td>\n",
       "      <td>11.01</td>\n",
       "      <td>10.0</td>\n",
       "      <td>3</td>\n",
       "      <td>2.70</td>\n",
       "      <td>1</td>\n",
       "      <td>False</td>\n",
       "    </tr>\n",
       "    <tr>\n",
       "      <th>1</th>\n",
       "      <td>OH</td>\n",
       "      <td>107</td>\n",
       "      <td>415</td>\n",
       "      <td>No</td>\n",
       "      <td>Yes</td>\n",
       "      <td>26</td>\n",
       "      <td>161.6</td>\n",
       "      <td>123</td>\n",
       "      <td>27.47</td>\n",
       "      <td>195.5</td>\n",
       "      <td>103</td>\n",
       "      <td>16.62</td>\n",
       "      <td>254.4</td>\n",
       "      <td>103</td>\n",
       "      <td>11.45</td>\n",
       "      <td>13.7</td>\n",
       "      <td>3</td>\n",
       "      <td>3.70</td>\n",
       "      <td>1</td>\n",
       "      <td>False</td>\n",
       "    </tr>\n",
       "    <tr>\n",
       "      <th>2</th>\n",
       "      <td>NJ</td>\n",
       "      <td>137</td>\n",
       "      <td>415</td>\n",
       "      <td>No</td>\n",
       "      <td>No</td>\n",
       "      <td>0</td>\n",
       "      <td>243.4</td>\n",
       "      <td>114</td>\n",
       "      <td>41.38</td>\n",
       "      <td>121.2</td>\n",
       "      <td>110</td>\n",
       "      <td>10.30</td>\n",
       "      <td>162.6</td>\n",
       "      <td>104</td>\n",
       "      <td>7.32</td>\n",
       "      <td>12.2</td>\n",
       "      <td>5</td>\n",
       "      <td>3.29</td>\n",
       "      <td>0</td>\n",
       "      <td>False</td>\n",
       "    </tr>\n",
       "    <tr>\n",
       "      <th>3</th>\n",
       "      <td>OH</td>\n",
       "      <td>84</td>\n",
       "      <td>408</td>\n",
       "      <td>Yes</td>\n",
       "      <td>No</td>\n",
       "      <td>0</td>\n",
       "      <td>299.4</td>\n",
       "      <td>71</td>\n",
       "      <td>50.90</td>\n",
       "      <td>61.9</td>\n",
       "      <td>88</td>\n",
       "      <td>5.26</td>\n",
       "      <td>196.9</td>\n",
       "      <td>89</td>\n",
       "      <td>8.86</td>\n",
       "      <td>6.6</td>\n",
       "      <td>7</td>\n",
       "      <td>1.78</td>\n",
       "      <td>2</td>\n",
       "      <td>False</td>\n",
       "    </tr>\n",
       "    <tr>\n",
       "      <th>4</th>\n",
       "      <td>OK</td>\n",
       "      <td>75</td>\n",
       "      <td>415</td>\n",
       "      <td>Yes</td>\n",
       "      <td>No</td>\n",
       "      <td>0</td>\n",
       "      <td>166.7</td>\n",
       "      <td>113</td>\n",
       "      <td>28.34</td>\n",
       "      <td>148.3</td>\n",
       "      <td>122</td>\n",
       "      <td>12.61</td>\n",
       "      <td>186.9</td>\n",
       "      <td>121</td>\n",
       "      <td>8.41</td>\n",
       "      <td>10.1</td>\n",
       "      <td>3</td>\n",
       "      <td>2.73</td>\n",
       "      <td>3</td>\n",
       "      <td>False</td>\n",
       "    </tr>\n",
       "  </tbody>\n",
       "</table>\n",
       "</div>"
      ],
      "text/plain": [
       "  State  Account length  Area code International plan Voice mail plan  \\\n",
       "0    KS             128        415                 No             Yes   \n",
       "1    OH             107        415                 No             Yes   \n",
       "2    NJ             137        415                 No              No   \n",
       "3    OH              84        408                Yes              No   \n",
       "4    OK              75        415                Yes              No   \n",
       "\n",
       "   Number vmail messages  Total day minutes  Total day calls  \\\n",
       "0                     25              265.1              110   \n",
       "1                     26              161.6              123   \n",
       "2                      0              243.4              114   \n",
       "3                      0              299.4               71   \n",
       "4                      0              166.7              113   \n",
       "\n",
       "   Total day charge  Total eve minutes  Total eve calls  Total eve charge  \\\n",
       "0             45.07              197.4               99             16.78   \n",
       "1             27.47              195.5              103             16.62   \n",
       "2             41.38              121.2              110             10.30   \n",
       "3             50.90               61.9               88              5.26   \n",
       "4             28.34              148.3              122             12.61   \n",
       "\n",
       "   Total night minutes  Total night calls  Total night charge  \\\n",
       "0                244.7                 91               11.01   \n",
       "1                254.4                103               11.45   \n",
       "2                162.6                104                7.32   \n",
       "3                196.9                 89                8.86   \n",
       "4                186.9                121                8.41   \n",
       "\n",
       "   Total intl minutes  Total intl calls  Total intl charge  \\\n",
       "0                10.0                 3               2.70   \n",
       "1                13.7                 3               3.70   \n",
       "2                12.2                 5               3.29   \n",
       "3                 6.6                 7               1.78   \n",
       "4                10.1                 3               2.73   \n",
       "\n",
       "   Customer service calls  Churn  \n",
       "0                       1  False  \n",
       "1                       1  False  \n",
       "2                       0  False  \n",
       "3                       2  False  \n",
       "4                       3  False  "
      ]
     },
     "execution_count": 3,
     "metadata": {},
     "output_type": "execute_result"
    }
   ],
   "source": [
    "DATA_URL =   \"https://raw.githubusercontent.com/Yorko/mlcourse.ai/main/data/\"\n",
    "\n",
    "df = pd.read_csv(DATA_URL + \"telecom_churn.csv\")\n",
    "df.head()"
   ]
  },
  {
   "cell_type": "markdown",
   "id": "c85160ba",
   "metadata": {},
   "source": [
    "overview dataset"
   ]
  },
  {
   "cell_type": "code",
   "execution_count": 4,
   "id": "5e197d9c",
   "metadata": {},
   "outputs": [
    {
     "data": {
      "text/plain": [
       "(3333, 20)"
      ]
     },
     "execution_count": 4,
     "metadata": {},
     "output_type": "execute_result"
    }
   ],
   "source": [
    "# melihat data dimensi\n",
    "df.shape"
   ]
  },
  {
   "cell_type": "code",
   "execution_count": 5,
   "id": "9e0e3e73",
   "metadata": {},
   "outputs": [
    {
     "data": {
      "text/plain": [
       "Index(['State', 'Account length', 'Area code', 'International plan',\n",
       "       'Voice mail plan', 'Number vmail messages', 'Total day minutes',\n",
       "       'Total day calls', 'Total day charge', 'Total eve minutes',\n",
       "       'Total eve calls', 'Total eve charge', 'Total night minutes',\n",
       "       'Total night calls', 'Total night charge', 'Total intl minutes',\n",
       "       'Total intl calls', 'Total intl charge', 'Customer service calls',\n",
       "       'Churn'],\n",
       "      dtype='object')"
      ]
     },
     "execution_count": 5,
     "metadata": {},
     "output_type": "execute_result"
    }
   ],
   "source": [
    "# melihat columns\n",
    "df.columns"
   ]
  },
  {
   "cell_type": "code",
   "execution_count": 6,
   "id": "ad4561b8",
   "metadata": {},
   "outputs": [
    {
     "name": "stdout",
     "output_type": "stream",
     "text": [
      "<class 'pandas.core.frame.DataFrame'>\n",
      "RangeIndex: 3333 entries, 0 to 3332\n",
      "Data columns (total 20 columns):\n",
      " #   Column                  Non-Null Count  Dtype  \n",
      "---  ------                  --------------  -----  \n",
      " 0   State                   3333 non-null   object \n",
      " 1   Account length          3333 non-null   int64  \n",
      " 2   Area code               3333 non-null   int64  \n",
      " 3   International plan      3333 non-null   object \n",
      " 4   Voice mail plan         3333 non-null   object \n",
      " 5   Number vmail messages   3333 non-null   int64  \n",
      " 6   Total day minutes       3333 non-null   float64\n",
      " 7   Total day calls         3333 non-null   int64  \n",
      " 8   Total day charge        3333 non-null   float64\n",
      " 9   Total eve minutes       3333 non-null   float64\n",
      " 10  Total eve calls         3333 non-null   int64  \n",
      " 11  Total eve charge        3333 non-null   float64\n",
      " 12  Total night minutes     3333 non-null   float64\n",
      " 13  Total night calls       3333 non-null   int64  \n",
      " 14  Total night charge      3333 non-null   float64\n",
      " 15  Total intl minutes      3333 non-null   float64\n",
      " 16  Total intl calls        3333 non-null   int64  \n",
      " 17  Total intl charge       3333 non-null   float64\n",
      " 18  Customer service calls  3333 non-null   int64  \n",
      " 19  Churn                   3333 non-null   bool   \n",
      "dtypes: bool(1), float64(8), int64(8), object(3)\n",
      "memory usage: 498.1+ KB\n"
     ]
    }
   ],
   "source": [
    "# melihat info Dataframe\n",
    "df.info()"
   ]
  },
  {
   "cell_type": "code",
   "execution_count": 7,
   "id": "dbb96f25",
   "metadata": {},
   "outputs": [],
   "source": [
    "# mengubah churn dari boolean ke int64\n",
    "df['churn'] = df['Churn'].astype('int64')"
   ]
  },
  {
   "cell_type": "code",
   "execution_count": 8,
   "id": "7f8a58d9",
   "metadata": {},
   "outputs": [
    {
     "data": {
      "application/vnd.microsoft.datawrangler.viewer.v0+json": {
       "columns": [
        {
         "name": "index",
         "rawType": "object",
         "type": "string"
        },
        {
         "name": "Account length",
         "rawType": "float64",
         "type": "float"
        },
        {
         "name": "Area code",
         "rawType": "float64",
         "type": "float"
        },
        {
         "name": "Number vmail messages",
         "rawType": "float64",
         "type": "float"
        },
        {
         "name": "Total day minutes",
         "rawType": "float64",
         "type": "float"
        },
        {
         "name": "Total day calls",
         "rawType": "float64",
         "type": "float"
        },
        {
         "name": "Total day charge",
         "rawType": "float64",
         "type": "float"
        },
        {
         "name": "Total eve minutes",
         "rawType": "float64",
         "type": "float"
        },
        {
         "name": "Total eve calls",
         "rawType": "float64",
         "type": "float"
        },
        {
         "name": "Total eve charge",
         "rawType": "float64",
         "type": "float"
        },
        {
         "name": "Total night minutes",
         "rawType": "float64",
         "type": "float"
        },
        {
         "name": "Total night calls",
         "rawType": "float64",
         "type": "float"
        },
        {
         "name": "Total night charge",
         "rawType": "float64",
         "type": "float"
        },
        {
         "name": "Total intl minutes",
         "rawType": "float64",
         "type": "float"
        },
        {
         "name": "Total intl calls",
         "rawType": "float64",
         "type": "float"
        },
        {
         "name": "Total intl charge",
         "rawType": "float64",
         "type": "float"
        },
        {
         "name": "Customer service calls",
         "rawType": "float64",
         "type": "float"
        },
        {
         "name": "churn",
         "rawType": "float64",
         "type": "float"
        }
       ],
       "ref": "b9e7d595-3694-4dbc-b6a9-7215e4968b8e",
       "rows": [
        [
         "count",
         "3333.0",
         "3333.0",
         "3333.0",
         "3333.0",
         "3333.0",
         "3333.0",
         "3333.0",
         "3333.0",
         "3333.0",
         "3333.0",
         "3333.0",
         "3333.0",
         "3333.0",
         "3333.0",
         "3333.0",
         "3333.0",
         "3333.0"
        ],
        [
         "mean",
         "101.06480648064806",
         "437.18241824182417",
         "8.099009900990099",
         "179.77509750975094",
         "100.43564356435644",
         "30.562307230723075",
         "200.98034803480348",
         "100.11431143114311",
         "17.083540354035403",
         "200.87203720372037",
         "100.10771077107711",
         "9.03932493249325",
         "10.237293729372938",
         "4.4794479447944795",
         "2.7645814581458144",
         "1.5628562856285628",
         "0.14491449144914492"
        ],
        [
         "std",
         "39.822105928595604",
         "42.371290485606615",
         "13.688365372038598",
         "54.46738920237137",
         "20.069084207300897",
         "9.2594345539305",
         "50.713844425812",
         "19.922625293943103",
         "4.310667643110341",
         "50.57384701365836",
         "19.568609346058558",
         "2.275872837660029",
         "2.791839548408416",
         "2.461214270546094",
         "0.753772612663046",
         "1.3154910448664767",
         "0.352067423624126"
        ],
        [
         "min",
         "1.0",
         "408.0",
         "0.0",
         "0.0",
         "0.0",
         "0.0",
         "0.0",
         "0.0",
         "0.0",
         "23.2",
         "33.0",
         "1.04",
         "0.0",
         "0.0",
         "0.0",
         "0.0",
         "0.0"
        ],
        [
         "25%",
         "74.0",
         "408.0",
         "0.0",
         "143.7",
         "87.0",
         "24.43",
         "166.6",
         "87.0",
         "14.16",
         "167.0",
         "87.0",
         "7.52",
         "8.5",
         "3.0",
         "2.3",
         "1.0",
         "0.0"
        ],
        [
         "50%",
         "101.0",
         "415.0",
         "0.0",
         "179.4",
         "101.0",
         "30.5",
         "201.4",
         "100.0",
         "17.12",
         "201.2",
         "100.0",
         "9.05",
         "10.3",
         "4.0",
         "2.78",
         "1.0",
         "0.0"
        ],
        [
         "75%",
         "127.0",
         "510.0",
         "20.0",
         "216.4",
         "114.0",
         "36.79",
         "235.3",
         "114.0",
         "20.0",
         "235.3",
         "113.0",
         "10.59",
         "12.1",
         "6.0",
         "3.27",
         "2.0",
         "0.0"
        ],
        [
         "max",
         "243.0",
         "510.0",
         "51.0",
         "350.8",
         "165.0",
         "59.64",
         "363.7",
         "170.0",
         "30.91",
         "395.0",
         "175.0",
         "17.77",
         "20.0",
         "20.0",
         "5.4",
         "9.0",
         "1.0"
        ]
       ],
       "shape": {
        "columns": 17,
        "rows": 8
       }
      },
      "text/html": [
       "<div>\n",
       "<style scoped>\n",
       "    .dataframe tbody tr th:only-of-type {\n",
       "        vertical-align: middle;\n",
       "    }\n",
       "\n",
       "    .dataframe tbody tr th {\n",
       "        vertical-align: top;\n",
       "    }\n",
       "\n",
       "    .dataframe thead th {\n",
       "        text-align: right;\n",
       "    }\n",
       "</style>\n",
       "<table border=\"1\" class=\"dataframe\">\n",
       "  <thead>\n",
       "    <tr style=\"text-align: right;\">\n",
       "      <th></th>\n",
       "      <th>Account length</th>\n",
       "      <th>Area code</th>\n",
       "      <th>Number vmail messages</th>\n",
       "      <th>Total day minutes</th>\n",
       "      <th>Total day calls</th>\n",
       "      <th>Total day charge</th>\n",
       "      <th>Total eve minutes</th>\n",
       "      <th>Total eve calls</th>\n",
       "      <th>Total eve charge</th>\n",
       "      <th>Total night minutes</th>\n",
       "      <th>Total night calls</th>\n",
       "      <th>Total night charge</th>\n",
       "      <th>Total intl minutes</th>\n",
       "      <th>Total intl calls</th>\n",
       "      <th>Total intl charge</th>\n",
       "      <th>Customer service calls</th>\n",
       "      <th>churn</th>\n",
       "    </tr>\n",
       "  </thead>\n",
       "  <tbody>\n",
       "    <tr>\n",
       "      <th>count</th>\n",
       "      <td>3333.000000</td>\n",
       "      <td>3333.000000</td>\n",
       "      <td>3333.000000</td>\n",
       "      <td>3333.000000</td>\n",
       "      <td>3333.000000</td>\n",
       "      <td>3333.000000</td>\n",
       "      <td>3333.000000</td>\n",
       "      <td>3333.000000</td>\n",
       "      <td>3333.000000</td>\n",
       "      <td>3333.000000</td>\n",
       "      <td>3333.000000</td>\n",
       "      <td>3333.000000</td>\n",
       "      <td>3333.000000</td>\n",
       "      <td>3333.000000</td>\n",
       "      <td>3333.000000</td>\n",
       "      <td>3333.000000</td>\n",
       "      <td>3333.000000</td>\n",
       "    </tr>\n",
       "    <tr>\n",
       "      <th>mean</th>\n",
       "      <td>101.064806</td>\n",
       "      <td>437.182418</td>\n",
       "      <td>8.099010</td>\n",
       "      <td>179.775098</td>\n",
       "      <td>100.435644</td>\n",
       "      <td>30.562307</td>\n",
       "      <td>200.980348</td>\n",
       "      <td>100.114311</td>\n",
       "      <td>17.083540</td>\n",
       "      <td>200.872037</td>\n",
       "      <td>100.107711</td>\n",
       "      <td>9.039325</td>\n",
       "      <td>10.237294</td>\n",
       "      <td>4.479448</td>\n",
       "      <td>2.764581</td>\n",
       "      <td>1.562856</td>\n",
       "      <td>0.144914</td>\n",
       "    </tr>\n",
       "    <tr>\n",
       "      <th>std</th>\n",
       "      <td>39.822106</td>\n",
       "      <td>42.371290</td>\n",
       "      <td>13.688365</td>\n",
       "      <td>54.467389</td>\n",
       "      <td>20.069084</td>\n",
       "      <td>9.259435</td>\n",
       "      <td>50.713844</td>\n",
       "      <td>19.922625</td>\n",
       "      <td>4.310668</td>\n",
       "      <td>50.573847</td>\n",
       "      <td>19.568609</td>\n",
       "      <td>2.275873</td>\n",
       "      <td>2.791840</td>\n",
       "      <td>2.461214</td>\n",
       "      <td>0.753773</td>\n",
       "      <td>1.315491</td>\n",
       "      <td>0.352067</td>\n",
       "    </tr>\n",
       "    <tr>\n",
       "      <th>min</th>\n",
       "      <td>1.000000</td>\n",
       "      <td>408.000000</td>\n",
       "      <td>0.000000</td>\n",
       "      <td>0.000000</td>\n",
       "      <td>0.000000</td>\n",
       "      <td>0.000000</td>\n",
       "      <td>0.000000</td>\n",
       "      <td>0.000000</td>\n",
       "      <td>0.000000</td>\n",
       "      <td>23.200000</td>\n",
       "      <td>33.000000</td>\n",
       "      <td>1.040000</td>\n",
       "      <td>0.000000</td>\n",
       "      <td>0.000000</td>\n",
       "      <td>0.000000</td>\n",
       "      <td>0.000000</td>\n",
       "      <td>0.000000</td>\n",
       "    </tr>\n",
       "    <tr>\n",
       "      <th>25%</th>\n",
       "      <td>74.000000</td>\n",
       "      <td>408.000000</td>\n",
       "      <td>0.000000</td>\n",
       "      <td>143.700000</td>\n",
       "      <td>87.000000</td>\n",
       "      <td>24.430000</td>\n",
       "      <td>166.600000</td>\n",
       "      <td>87.000000</td>\n",
       "      <td>14.160000</td>\n",
       "      <td>167.000000</td>\n",
       "      <td>87.000000</td>\n",
       "      <td>7.520000</td>\n",
       "      <td>8.500000</td>\n",
       "      <td>3.000000</td>\n",
       "      <td>2.300000</td>\n",
       "      <td>1.000000</td>\n",
       "      <td>0.000000</td>\n",
       "    </tr>\n",
       "    <tr>\n",
       "      <th>50%</th>\n",
       "      <td>101.000000</td>\n",
       "      <td>415.000000</td>\n",
       "      <td>0.000000</td>\n",
       "      <td>179.400000</td>\n",
       "      <td>101.000000</td>\n",
       "      <td>30.500000</td>\n",
       "      <td>201.400000</td>\n",
       "      <td>100.000000</td>\n",
       "      <td>17.120000</td>\n",
       "      <td>201.200000</td>\n",
       "      <td>100.000000</td>\n",
       "      <td>9.050000</td>\n",
       "      <td>10.300000</td>\n",
       "      <td>4.000000</td>\n",
       "      <td>2.780000</td>\n",
       "      <td>1.000000</td>\n",
       "      <td>0.000000</td>\n",
       "    </tr>\n",
       "    <tr>\n",
       "      <th>75%</th>\n",
       "      <td>127.000000</td>\n",
       "      <td>510.000000</td>\n",
       "      <td>20.000000</td>\n",
       "      <td>216.400000</td>\n",
       "      <td>114.000000</td>\n",
       "      <td>36.790000</td>\n",
       "      <td>235.300000</td>\n",
       "      <td>114.000000</td>\n",
       "      <td>20.000000</td>\n",
       "      <td>235.300000</td>\n",
       "      <td>113.000000</td>\n",
       "      <td>10.590000</td>\n",
       "      <td>12.100000</td>\n",
       "      <td>6.000000</td>\n",
       "      <td>3.270000</td>\n",
       "      <td>2.000000</td>\n",
       "      <td>0.000000</td>\n",
       "    </tr>\n",
       "    <tr>\n",
       "      <th>max</th>\n",
       "      <td>243.000000</td>\n",
       "      <td>510.000000</td>\n",
       "      <td>51.000000</td>\n",
       "      <td>350.800000</td>\n",
       "      <td>165.000000</td>\n",
       "      <td>59.640000</td>\n",
       "      <td>363.700000</td>\n",
       "      <td>170.000000</td>\n",
       "      <td>30.910000</td>\n",
       "      <td>395.000000</td>\n",
       "      <td>175.000000</td>\n",
       "      <td>17.770000</td>\n",
       "      <td>20.000000</td>\n",
       "      <td>20.000000</td>\n",
       "      <td>5.400000</td>\n",
       "      <td>9.000000</td>\n",
       "      <td>1.000000</td>\n",
       "    </tr>\n",
       "  </tbody>\n",
       "</table>\n",
       "</div>"
      ],
      "text/plain": [
       "       Account length    Area code  Number vmail messages  Total day minutes  \\\n",
       "count     3333.000000  3333.000000            3333.000000        3333.000000   \n",
       "mean       101.064806   437.182418               8.099010         179.775098   \n",
       "std         39.822106    42.371290              13.688365          54.467389   \n",
       "min          1.000000   408.000000               0.000000           0.000000   \n",
       "25%         74.000000   408.000000               0.000000         143.700000   \n",
       "50%        101.000000   415.000000               0.000000         179.400000   \n",
       "75%        127.000000   510.000000              20.000000         216.400000   \n",
       "max        243.000000   510.000000              51.000000         350.800000   \n",
       "\n",
       "       Total day calls  Total day charge  Total eve minutes  Total eve calls  \\\n",
       "count      3333.000000       3333.000000        3333.000000      3333.000000   \n",
       "mean        100.435644         30.562307         200.980348       100.114311   \n",
       "std          20.069084          9.259435          50.713844        19.922625   \n",
       "min           0.000000          0.000000           0.000000         0.000000   \n",
       "25%          87.000000         24.430000         166.600000        87.000000   \n",
       "50%         101.000000         30.500000         201.400000       100.000000   \n",
       "75%         114.000000         36.790000         235.300000       114.000000   \n",
       "max         165.000000         59.640000         363.700000       170.000000   \n",
       "\n",
       "       Total eve charge  Total night minutes  Total night calls  \\\n",
       "count       3333.000000          3333.000000        3333.000000   \n",
       "mean          17.083540           200.872037         100.107711   \n",
       "std            4.310668            50.573847          19.568609   \n",
       "min            0.000000            23.200000          33.000000   \n",
       "25%           14.160000           167.000000          87.000000   \n",
       "50%           17.120000           201.200000         100.000000   \n",
       "75%           20.000000           235.300000         113.000000   \n",
       "max           30.910000           395.000000         175.000000   \n",
       "\n",
       "       Total night charge  Total intl minutes  Total intl calls  \\\n",
       "count         3333.000000         3333.000000       3333.000000   \n",
       "mean             9.039325           10.237294          4.479448   \n",
       "std              2.275873            2.791840          2.461214   \n",
       "min              1.040000            0.000000          0.000000   \n",
       "25%              7.520000            8.500000          3.000000   \n",
       "50%              9.050000           10.300000          4.000000   \n",
       "75%             10.590000           12.100000          6.000000   \n",
       "max             17.770000           20.000000         20.000000   \n",
       "\n",
       "       Total intl charge  Customer service calls        churn  \n",
       "count        3333.000000             3333.000000  3333.000000  \n",
       "mean            2.764581                1.562856     0.144914  \n",
       "std             0.753773                1.315491     0.352067  \n",
       "min             0.000000                0.000000     0.000000  \n",
       "25%             2.300000                1.000000     0.000000  \n",
       "50%             2.780000                1.000000     0.000000  \n",
       "75%             3.270000                2.000000     0.000000  \n",
       "max             5.400000                9.000000     1.000000  "
      ]
     },
     "execution_count": 8,
     "metadata": {},
     "output_type": "execute_result"
    }
   ],
   "source": [
    "# melihat statistik \n",
    "df.describe()"
   ]
  },
  {
   "cell_type": "code",
   "execution_count": 9,
   "id": "3a36fdb7",
   "metadata": {},
   "outputs": [
    {
     "data": {
      "application/vnd.microsoft.datawrangler.viewer.v0+json": {
       "columns": [
        {
         "name": "index",
         "rawType": "object",
         "type": "string"
        },
        {
         "name": "State",
         "rawType": "object",
         "type": "unknown"
        },
        {
         "name": "International plan",
         "rawType": "object",
         "type": "unknown"
        },
        {
         "name": "Voice mail plan",
         "rawType": "object",
         "type": "unknown"
        },
        {
         "name": "Churn",
         "rawType": "object",
         "type": "unknown"
        }
       ],
       "ref": "a3c08cd4-870c-4d79-b1d0-fe8b09e61c9c",
       "rows": [
        [
         "count",
         "3333",
         "3333",
         "3333",
         "3333"
        ],
        [
         "unique",
         "51",
         "2",
         "2",
         "2"
        ],
        [
         "top",
         "WV",
         "No",
         "No",
         "False"
        ],
        [
         "freq",
         "106",
         "3010",
         "2411",
         "2850"
        ]
       ],
       "shape": {
        "columns": 4,
        "rows": 4
       }
      },
      "text/html": [
       "<div>\n",
       "<style scoped>\n",
       "    .dataframe tbody tr th:only-of-type {\n",
       "        vertical-align: middle;\n",
       "    }\n",
       "\n",
       "    .dataframe tbody tr th {\n",
       "        vertical-align: top;\n",
       "    }\n",
       "\n",
       "    .dataframe thead th {\n",
       "        text-align: right;\n",
       "    }\n",
       "</style>\n",
       "<table border=\"1\" class=\"dataframe\">\n",
       "  <thead>\n",
       "    <tr style=\"text-align: right;\">\n",
       "      <th></th>\n",
       "      <th>State</th>\n",
       "      <th>International plan</th>\n",
       "      <th>Voice mail plan</th>\n",
       "      <th>Churn</th>\n",
       "    </tr>\n",
       "  </thead>\n",
       "  <tbody>\n",
       "    <tr>\n",
       "      <th>count</th>\n",
       "      <td>3333</td>\n",
       "      <td>3333</td>\n",
       "      <td>3333</td>\n",
       "      <td>3333</td>\n",
       "    </tr>\n",
       "    <tr>\n",
       "      <th>unique</th>\n",
       "      <td>51</td>\n",
       "      <td>2</td>\n",
       "      <td>2</td>\n",
       "      <td>2</td>\n",
       "    </tr>\n",
       "    <tr>\n",
       "      <th>top</th>\n",
       "      <td>WV</td>\n",
       "      <td>No</td>\n",
       "      <td>No</td>\n",
       "      <td>False</td>\n",
       "    </tr>\n",
       "    <tr>\n",
       "      <th>freq</th>\n",
       "      <td>106</td>\n",
       "      <td>3010</td>\n",
       "      <td>2411</td>\n",
       "      <td>2850</td>\n",
       "    </tr>\n",
       "  </tbody>\n",
       "</table>\n",
       "</div>"
      ],
      "text/plain": [
       "       State International plan Voice mail plan  Churn\n",
       "count   3333               3333            3333   3333\n",
       "unique    51                  2               2      2\n",
       "top       WV                 No              No  False\n",
       "freq     106               3010            2411   2850"
      ]
     },
     "execution_count": 9,
     "metadata": {},
     "output_type": "execute_result"
    }
   ],
   "source": [
    "# melihat statistik pada fitur non-numerik\n",
    "df.describe(include=[\"object\", \"bool\"])"
   ]
  },
  {
   "cell_type": "code",
   "execution_count": 10,
   "id": "8307bf63",
   "metadata": {},
   "outputs": [
    {
     "data": {
      "application/vnd.microsoft.datawrangler.viewer.v0+json": {
       "columns": [
        {
         "name": "Churn",
         "rawType": "bool",
         "type": "boolean"
        },
        {
         "name": "count",
         "rawType": "int64",
         "type": "integer"
        }
       ],
       "ref": "521c2e16-c748-489d-b736-fa610353219f",
       "rows": [
        [
         "False",
         "2850"
        ],
        [
         "True",
         "483"
        ]
       ],
       "shape": {
        "columns": 1,
        "rows": 2
       }
      },
      "text/plain": [
       "Churn\n",
       "False    2850\n",
       "True      483\n",
       "Name: count, dtype: int64"
      ]
     },
     "execution_count": 10,
     "metadata": {},
     "output_type": "execute_result"
    }
   ],
   "source": [
    "# melihat distribusi churn\n",
    "df['Churn'].value_counts()"
   ]
  },
  {
   "cell_type": "code",
   "execution_count": 11,
   "id": "9ce09131",
   "metadata": {},
   "outputs": [
    {
     "data": {
      "application/vnd.microsoft.datawrangler.viewer.v0+json": {
       "columns": [
        {
         "name": "churn",
         "rawType": "int64",
         "type": "integer"
        },
        {
         "name": "proportion",
         "rawType": "float64",
         "type": "float"
        }
       ],
       "ref": "4645ef59-c83e-4cf5-9f3e-e86e47099da2",
       "rows": [
        [
         "0",
         "0.8550855085508551"
        ],
        [
         "1",
         "0.14491449144914492"
        ]
       ],
       "shape": {
        "columns": 1,
        "rows": 2
       }
      },
      "text/plain": [
       "churn\n",
       "0    0.855086\n",
       "1    0.144914\n",
       "Name: proportion, dtype: float64"
      ]
     },
     "execution_count": 11,
     "metadata": {},
     "output_type": "execute_result"
    }
   ],
   "source": [
    "# melihat dalam bentuk persen\n",
    "df['churn'].value_counts(normalize=True)"
   ]
  },
  {
   "cell_type": "markdown",
   "id": "0f696019",
   "metadata": {},
   "source": [
    "# Sorting"
   ]
  },
  {
   "cell_type": "code",
   "execution_count": 12,
   "id": "7001bc3a",
   "metadata": {},
   "outputs": [
    {
     "data": {
      "application/vnd.microsoft.datawrangler.viewer.v0+json": {
       "columns": [
        {
         "name": "index",
         "rawType": "int64",
         "type": "integer"
        },
        {
         "name": "State",
         "rawType": "object",
         "type": "string"
        },
        {
         "name": "Account length",
         "rawType": "int64",
         "type": "integer"
        },
        {
         "name": "Area code",
         "rawType": "int64",
         "type": "integer"
        },
        {
         "name": "International plan",
         "rawType": "object",
         "type": "string"
        },
        {
         "name": "Voice mail plan",
         "rawType": "object",
         "type": "string"
        },
        {
         "name": "Number vmail messages",
         "rawType": "int64",
         "type": "integer"
        },
        {
         "name": "Total day minutes",
         "rawType": "float64",
         "type": "float"
        },
        {
         "name": "Total day calls",
         "rawType": "int64",
         "type": "integer"
        },
        {
         "name": "Total day charge",
         "rawType": "float64",
         "type": "float"
        },
        {
         "name": "Total eve minutes",
         "rawType": "float64",
         "type": "float"
        },
        {
         "name": "Total eve calls",
         "rawType": "int64",
         "type": "integer"
        },
        {
         "name": "Total eve charge",
         "rawType": "float64",
         "type": "float"
        },
        {
         "name": "Total night minutes",
         "rawType": "float64",
         "type": "float"
        },
        {
         "name": "Total night calls",
         "rawType": "int64",
         "type": "integer"
        },
        {
         "name": "Total night charge",
         "rawType": "float64",
         "type": "float"
        },
        {
         "name": "Total intl minutes",
         "rawType": "float64",
         "type": "float"
        },
        {
         "name": "Total intl calls",
         "rawType": "int64",
         "type": "integer"
        },
        {
         "name": "Total intl charge",
         "rawType": "float64",
         "type": "float"
        },
        {
         "name": "Customer service calls",
         "rawType": "int64",
         "type": "integer"
        },
        {
         "name": "Churn",
         "rawType": "bool",
         "type": "boolean"
        },
        {
         "name": "churn",
         "rawType": "int64",
         "type": "integer"
        }
       ],
       "ref": "c7ee782b-4b24-4e9b-b9c4-4e31c8bb1ce3",
       "rows": [
        [
         "365",
         "CO",
         "154",
         "415",
         "No",
         "No",
         "0",
         "350.8",
         "75",
         "59.64",
         "216.5",
         "94",
         "18.4",
         "253.9",
         "100",
         "11.43",
         "10.1",
         "9",
         "2.73",
         "1",
         "True",
         "1"
        ],
        [
         "985",
         "NY",
         "64",
         "415",
         "Yes",
         "No",
         "0",
         "346.8",
         "55",
         "58.96",
         "249.5",
         "79",
         "21.21",
         "275.4",
         "102",
         "12.39",
         "13.3",
         "9",
         "3.59",
         "1",
         "True",
         "1"
        ],
        [
         "2594",
         "OH",
         "115",
         "510",
         "Yes",
         "No",
         "0",
         "345.3",
         "81",
         "58.7",
         "203.4",
         "106",
         "17.29",
         "217.5",
         "107",
         "9.79",
         "11.8",
         "8",
         "3.19",
         "1",
         "True",
         "1"
        ],
        [
         "156",
         "OH",
         "83",
         "415",
         "No",
         "No",
         "0",
         "337.4",
         "120",
         "57.36",
         "227.4",
         "116",
         "19.33",
         "153.9",
         "114",
         "6.93",
         "15.8",
         "7",
         "4.27",
         "0",
         "True",
         "1"
        ],
        [
         "605",
         "MO",
         "112",
         "415",
         "No",
         "No",
         "0",
         "335.5",
         "77",
         "57.04",
         "212.5",
         "109",
         "18.06",
         "265.0",
         "132",
         "11.93",
         "12.7",
         "8",
         "3.43",
         "2",
         "True",
         "1"
        ]
       ],
       "shape": {
        "columns": 21,
        "rows": 5
       }
      },
      "text/html": [
       "<div>\n",
       "<style scoped>\n",
       "    .dataframe tbody tr th:only-of-type {\n",
       "        vertical-align: middle;\n",
       "    }\n",
       "\n",
       "    .dataframe tbody tr th {\n",
       "        vertical-align: top;\n",
       "    }\n",
       "\n",
       "    .dataframe thead th {\n",
       "        text-align: right;\n",
       "    }\n",
       "</style>\n",
       "<table border=\"1\" class=\"dataframe\">\n",
       "  <thead>\n",
       "    <tr style=\"text-align: right;\">\n",
       "      <th></th>\n",
       "      <th>State</th>\n",
       "      <th>Account length</th>\n",
       "      <th>Area code</th>\n",
       "      <th>International plan</th>\n",
       "      <th>Voice mail plan</th>\n",
       "      <th>Number vmail messages</th>\n",
       "      <th>Total day minutes</th>\n",
       "      <th>Total day calls</th>\n",
       "      <th>Total day charge</th>\n",
       "      <th>Total eve minutes</th>\n",
       "      <th>...</th>\n",
       "      <th>Total eve charge</th>\n",
       "      <th>Total night minutes</th>\n",
       "      <th>Total night calls</th>\n",
       "      <th>Total night charge</th>\n",
       "      <th>Total intl minutes</th>\n",
       "      <th>Total intl calls</th>\n",
       "      <th>Total intl charge</th>\n",
       "      <th>Customer service calls</th>\n",
       "      <th>Churn</th>\n",
       "      <th>churn</th>\n",
       "    </tr>\n",
       "  </thead>\n",
       "  <tbody>\n",
       "    <tr>\n",
       "      <th>365</th>\n",
       "      <td>CO</td>\n",
       "      <td>154</td>\n",
       "      <td>415</td>\n",
       "      <td>No</td>\n",
       "      <td>No</td>\n",
       "      <td>0</td>\n",
       "      <td>350.8</td>\n",
       "      <td>75</td>\n",
       "      <td>59.64</td>\n",
       "      <td>216.5</td>\n",
       "      <td>...</td>\n",
       "      <td>18.40</td>\n",
       "      <td>253.9</td>\n",
       "      <td>100</td>\n",
       "      <td>11.43</td>\n",
       "      <td>10.1</td>\n",
       "      <td>9</td>\n",
       "      <td>2.73</td>\n",
       "      <td>1</td>\n",
       "      <td>True</td>\n",
       "      <td>1</td>\n",
       "    </tr>\n",
       "    <tr>\n",
       "      <th>985</th>\n",
       "      <td>NY</td>\n",
       "      <td>64</td>\n",
       "      <td>415</td>\n",
       "      <td>Yes</td>\n",
       "      <td>No</td>\n",
       "      <td>0</td>\n",
       "      <td>346.8</td>\n",
       "      <td>55</td>\n",
       "      <td>58.96</td>\n",
       "      <td>249.5</td>\n",
       "      <td>...</td>\n",
       "      <td>21.21</td>\n",
       "      <td>275.4</td>\n",
       "      <td>102</td>\n",
       "      <td>12.39</td>\n",
       "      <td>13.3</td>\n",
       "      <td>9</td>\n",
       "      <td>3.59</td>\n",
       "      <td>1</td>\n",
       "      <td>True</td>\n",
       "      <td>1</td>\n",
       "    </tr>\n",
       "    <tr>\n",
       "      <th>2594</th>\n",
       "      <td>OH</td>\n",
       "      <td>115</td>\n",
       "      <td>510</td>\n",
       "      <td>Yes</td>\n",
       "      <td>No</td>\n",
       "      <td>0</td>\n",
       "      <td>345.3</td>\n",
       "      <td>81</td>\n",
       "      <td>58.70</td>\n",
       "      <td>203.4</td>\n",
       "      <td>...</td>\n",
       "      <td>17.29</td>\n",
       "      <td>217.5</td>\n",
       "      <td>107</td>\n",
       "      <td>9.79</td>\n",
       "      <td>11.8</td>\n",
       "      <td>8</td>\n",
       "      <td>3.19</td>\n",
       "      <td>1</td>\n",
       "      <td>True</td>\n",
       "      <td>1</td>\n",
       "    </tr>\n",
       "    <tr>\n",
       "      <th>156</th>\n",
       "      <td>OH</td>\n",
       "      <td>83</td>\n",
       "      <td>415</td>\n",
       "      <td>No</td>\n",
       "      <td>No</td>\n",
       "      <td>0</td>\n",
       "      <td>337.4</td>\n",
       "      <td>120</td>\n",
       "      <td>57.36</td>\n",
       "      <td>227.4</td>\n",
       "      <td>...</td>\n",
       "      <td>19.33</td>\n",
       "      <td>153.9</td>\n",
       "      <td>114</td>\n",
       "      <td>6.93</td>\n",
       "      <td>15.8</td>\n",
       "      <td>7</td>\n",
       "      <td>4.27</td>\n",
       "      <td>0</td>\n",
       "      <td>True</td>\n",
       "      <td>1</td>\n",
       "    </tr>\n",
       "    <tr>\n",
       "      <th>605</th>\n",
       "      <td>MO</td>\n",
       "      <td>112</td>\n",
       "      <td>415</td>\n",
       "      <td>No</td>\n",
       "      <td>No</td>\n",
       "      <td>0</td>\n",
       "      <td>335.5</td>\n",
       "      <td>77</td>\n",
       "      <td>57.04</td>\n",
       "      <td>212.5</td>\n",
       "      <td>...</td>\n",
       "      <td>18.06</td>\n",
       "      <td>265.0</td>\n",
       "      <td>132</td>\n",
       "      <td>11.93</td>\n",
       "      <td>12.7</td>\n",
       "      <td>8</td>\n",
       "      <td>3.43</td>\n",
       "      <td>2</td>\n",
       "      <td>True</td>\n",
       "      <td>1</td>\n",
       "    </tr>\n",
       "  </tbody>\n",
       "</table>\n",
       "<p>5 rows × 21 columns</p>\n",
       "</div>"
      ],
      "text/plain": [
       "     State  Account length  Area code International plan Voice mail plan  \\\n",
       "365     CO             154        415                 No              No   \n",
       "985     NY              64        415                Yes              No   \n",
       "2594    OH             115        510                Yes              No   \n",
       "156     OH              83        415                 No              No   \n",
       "605     MO             112        415                 No              No   \n",
       "\n",
       "      Number vmail messages  Total day minutes  Total day calls  \\\n",
       "365                       0              350.8               75   \n",
       "985                       0              346.8               55   \n",
       "2594                      0              345.3               81   \n",
       "156                       0              337.4              120   \n",
       "605                       0              335.5               77   \n",
       "\n",
       "      Total day charge  Total eve minutes  ...  Total eve charge  \\\n",
       "365              59.64              216.5  ...             18.40   \n",
       "985              58.96              249.5  ...             21.21   \n",
       "2594             58.70              203.4  ...             17.29   \n",
       "156              57.36              227.4  ...             19.33   \n",
       "605              57.04              212.5  ...             18.06   \n",
       "\n",
       "      Total night minutes  Total night calls  Total night charge  \\\n",
       "365                 253.9                100               11.43   \n",
       "985                 275.4                102               12.39   \n",
       "2594                217.5                107                9.79   \n",
       "156                 153.9                114                6.93   \n",
       "605                 265.0                132               11.93   \n",
       "\n",
       "      Total intl minutes  Total intl calls  Total intl charge  \\\n",
       "365                 10.1                 9               2.73   \n",
       "985                 13.3                 9               3.59   \n",
       "2594                11.8                 8               3.19   \n",
       "156                 15.8                 7               4.27   \n",
       "605                 12.7                 8               3.43   \n",
       "\n",
       "      Customer service calls  Churn  churn  \n",
       "365                        1   True      1  \n",
       "985                        1   True      1  \n",
       "2594                       1   True      1  \n",
       "156                        0   True      1  \n",
       "605                        2   True      1  \n",
       "\n",
       "[5 rows x 21 columns]"
      ]
     },
     "execution_count": 12,
     "metadata": {},
     "output_type": "execute_result"
    }
   ],
   "source": [
    "# mengurutkan berdasarkan Total day charge\n",
    "df.sort_values(by=\"Total day charge\", ascending=False).head()"
   ]
  },
  {
   "cell_type": "code",
   "execution_count": 13,
   "id": "94b47835",
   "metadata": {},
   "outputs": [
    {
     "data": {
      "application/vnd.microsoft.datawrangler.viewer.v0+json": {
       "columns": [
        {
         "name": "index",
         "rawType": "int64",
         "type": "integer"
        },
        {
         "name": "State",
         "rawType": "object",
         "type": "string"
        },
        {
         "name": "Account length",
         "rawType": "int64",
         "type": "integer"
        },
        {
         "name": "Area code",
         "rawType": "int64",
         "type": "integer"
        },
        {
         "name": "International plan",
         "rawType": "object",
         "type": "string"
        },
        {
         "name": "Voice mail plan",
         "rawType": "object",
         "type": "string"
        },
        {
         "name": "Number vmail messages",
         "rawType": "int64",
         "type": "integer"
        },
        {
         "name": "Total day minutes",
         "rawType": "float64",
         "type": "float"
        },
        {
         "name": "Total day calls",
         "rawType": "int64",
         "type": "integer"
        },
        {
         "name": "Total day charge",
         "rawType": "float64",
         "type": "float"
        },
        {
         "name": "Total eve minutes",
         "rawType": "float64",
         "type": "float"
        },
        {
         "name": "Total eve calls",
         "rawType": "int64",
         "type": "integer"
        },
        {
         "name": "Total eve charge",
         "rawType": "float64",
         "type": "float"
        },
        {
         "name": "Total night minutes",
         "rawType": "float64",
         "type": "float"
        },
        {
         "name": "Total night calls",
         "rawType": "int64",
         "type": "integer"
        },
        {
         "name": "Total night charge",
         "rawType": "float64",
         "type": "float"
        },
        {
         "name": "Total intl minutes",
         "rawType": "float64",
         "type": "float"
        },
        {
         "name": "Total intl calls",
         "rawType": "int64",
         "type": "integer"
        },
        {
         "name": "Total intl charge",
         "rawType": "float64",
         "type": "float"
        },
        {
         "name": "Customer service calls",
         "rawType": "int64",
         "type": "integer"
        },
        {
         "name": "Churn",
         "rawType": "bool",
         "type": "boolean"
        },
        {
         "name": "churn",
         "rawType": "int64",
         "type": "integer"
        }
       ],
       "ref": "8946cbb3-96c7-462e-8702-51e4d367290d",
       "rows": [
        [
         "688",
         "MN",
         "13",
         "510",
         "No",
         "Yes",
         "21",
         "315.6",
         "105",
         "53.65",
         "208.9",
         "71",
         "17.76",
         "260.1",
         "123",
         "11.7",
         "12.1",
         "3",
         "3.27",
         "3",
         "False",
         "0"
        ],
        [
         "2259",
         "NC",
         "210",
         "415",
         "No",
         "Yes",
         "31",
         "313.8",
         "87",
         "53.35",
         "147.7",
         "103",
         "12.55",
         "192.7",
         "97",
         "8.67",
         "10.1",
         "7",
         "2.73",
         "3",
         "False",
         "0"
        ],
        [
         "534",
         "LA",
         "67",
         "510",
         "No",
         "No",
         "0",
         "310.4",
         "97",
         "52.77",
         "66.5",
         "123",
         "5.65",
         "246.5",
         "99",
         "11.09",
         "9.2",
         "10",
         "2.48",
         "4",
         "False",
         "0"
        ],
        [
         "575",
         "SD",
         "114",
         "415",
         "No",
         "Yes",
         "36",
         "309.9",
         "90",
         "52.68",
         "200.3",
         "89",
         "17.03",
         "183.5",
         "105",
         "8.26",
         "14.2",
         "2",
         "3.83",
         "1",
         "False",
         "0"
        ],
        [
         "2858",
         "AL",
         "141",
         "510",
         "No",
         "Yes",
         "28",
         "308.0",
         "123",
         "52.36",
         "247.8",
         "128",
         "21.06",
         "152.9",
         "103",
         "6.88",
         "7.4",
         "3",
         "2.0",
         "1",
         "False",
         "0"
        ]
       ],
       "shape": {
        "columns": 21,
        "rows": 5
       }
      },
      "text/html": [
       "<div>\n",
       "<style scoped>\n",
       "    .dataframe tbody tr th:only-of-type {\n",
       "        vertical-align: middle;\n",
       "    }\n",
       "\n",
       "    .dataframe tbody tr th {\n",
       "        vertical-align: top;\n",
       "    }\n",
       "\n",
       "    .dataframe thead th {\n",
       "        text-align: right;\n",
       "    }\n",
       "</style>\n",
       "<table border=\"1\" class=\"dataframe\">\n",
       "  <thead>\n",
       "    <tr style=\"text-align: right;\">\n",
       "      <th></th>\n",
       "      <th>State</th>\n",
       "      <th>Account length</th>\n",
       "      <th>Area code</th>\n",
       "      <th>International plan</th>\n",
       "      <th>Voice mail plan</th>\n",
       "      <th>Number vmail messages</th>\n",
       "      <th>Total day minutes</th>\n",
       "      <th>Total day calls</th>\n",
       "      <th>Total day charge</th>\n",
       "      <th>Total eve minutes</th>\n",
       "      <th>...</th>\n",
       "      <th>Total eve charge</th>\n",
       "      <th>Total night minutes</th>\n",
       "      <th>Total night calls</th>\n",
       "      <th>Total night charge</th>\n",
       "      <th>Total intl minutes</th>\n",
       "      <th>Total intl calls</th>\n",
       "      <th>Total intl charge</th>\n",
       "      <th>Customer service calls</th>\n",
       "      <th>Churn</th>\n",
       "      <th>churn</th>\n",
       "    </tr>\n",
       "  </thead>\n",
       "  <tbody>\n",
       "    <tr>\n",
       "      <th>688</th>\n",
       "      <td>MN</td>\n",
       "      <td>13</td>\n",
       "      <td>510</td>\n",
       "      <td>No</td>\n",
       "      <td>Yes</td>\n",
       "      <td>21</td>\n",
       "      <td>315.6</td>\n",
       "      <td>105</td>\n",
       "      <td>53.65</td>\n",
       "      <td>208.9</td>\n",
       "      <td>...</td>\n",
       "      <td>17.76</td>\n",
       "      <td>260.1</td>\n",
       "      <td>123</td>\n",
       "      <td>11.70</td>\n",
       "      <td>12.1</td>\n",
       "      <td>3</td>\n",
       "      <td>3.27</td>\n",
       "      <td>3</td>\n",
       "      <td>False</td>\n",
       "      <td>0</td>\n",
       "    </tr>\n",
       "    <tr>\n",
       "      <th>2259</th>\n",
       "      <td>NC</td>\n",
       "      <td>210</td>\n",
       "      <td>415</td>\n",
       "      <td>No</td>\n",
       "      <td>Yes</td>\n",
       "      <td>31</td>\n",
       "      <td>313.8</td>\n",
       "      <td>87</td>\n",
       "      <td>53.35</td>\n",
       "      <td>147.7</td>\n",
       "      <td>...</td>\n",
       "      <td>12.55</td>\n",
       "      <td>192.7</td>\n",
       "      <td>97</td>\n",
       "      <td>8.67</td>\n",
       "      <td>10.1</td>\n",
       "      <td>7</td>\n",
       "      <td>2.73</td>\n",
       "      <td>3</td>\n",
       "      <td>False</td>\n",
       "      <td>0</td>\n",
       "    </tr>\n",
       "    <tr>\n",
       "      <th>534</th>\n",
       "      <td>LA</td>\n",
       "      <td>67</td>\n",
       "      <td>510</td>\n",
       "      <td>No</td>\n",
       "      <td>No</td>\n",
       "      <td>0</td>\n",
       "      <td>310.4</td>\n",
       "      <td>97</td>\n",
       "      <td>52.77</td>\n",
       "      <td>66.5</td>\n",
       "      <td>...</td>\n",
       "      <td>5.65</td>\n",
       "      <td>246.5</td>\n",
       "      <td>99</td>\n",
       "      <td>11.09</td>\n",
       "      <td>9.2</td>\n",
       "      <td>10</td>\n",
       "      <td>2.48</td>\n",
       "      <td>4</td>\n",
       "      <td>False</td>\n",
       "      <td>0</td>\n",
       "    </tr>\n",
       "    <tr>\n",
       "      <th>575</th>\n",
       "      <td>SD</td>\n",
       "      <td>114</td>\n",
       "      <td>415</td>\n",
       "      <td>No</td>\n",
       "      <td>Yes</td>\n",
       "      <td>36</td>\n",
       "      <td>309.9</td>\n",
       "      <td>90</td>\n",
       "      <td>52.68</td>\n",
       "      <td>200.3</td>\n",
       "      <td>...</td>\n",
       "      <td>17.03</td>\n",
       "      <td>183.5</td>\n",
       "      <td>105</td>\n",
       "      <td>8.26</td>\n",
       "      <td>14.2</td>\n",
       "      <td>2</td>\n",
       "      <td>3.83</td>\n",
       "      <td>1</td>\n",
       "      <td>False</td>\n",
       "      <td>0</td>\n",
       "    </tr>\n",
       "    <tr>\n",
       "      <th>2858</th>\n",
       "      <td>AL</td>\n",
       "      <td>141</td>\n",
       "      <td>510</td>\n",
       "      <td>No</td>\n",
       "      <td>Yes</td>\n",
       "      <td>28</td>\n",
       "      <td>308.0</td>\n",
       "      <td>123</td>\n",
       "      <td>52.36</td>\n",
       "      <td>247.8</td>\n",
       "      <td>...</td>\n",
       "      <td>21.06</td>\n",
       "      <td>152.9</td>\n",
       "      <td>103</td>\n",
       "      <td>6.88</td>\n",
       "      <td>7.4</td>\n",
       "      <td>3</td>\n",
       "      <td>2.00</td>\n",
       "      <td>1</td>\n",
       "      <td>False</td>\n",
       "      <td>0</td>\n",
       "    </tr>\n",
       "  </tbody>\n",
       "</table>\n",
       "<p>5 rows × 21 columns</p>\n",
       "</div>"
      ],
      "text/plain": [
       "     State  Account length  Area code International plan Voice mail plan  \\\n",
       "688     MN              13        510                 No             Yes   \n",
       "2259    NC             210        415                 No             Yes   \n",
       "534     LA              67        510                 No              No   \n",
       "575     SD             114        415                 No             Yes   \n",
       "2858    AL             141        510                 No             Yes   \n",
       "\n",
       "      Number vmail messages  Total day minutes  Total day calls  \\\n",
       "688                      21              315.6              105   \n",
       "2259                     31              313.8               87   \n",
       "534                       0              310.4               97   \n",
       "575                      36              309.9               90   \n",
       "2858                     28              308.0              123   \n",
       "\n",
       "      Total day charge  Total eve minutes  ...  Total eve charge  \\\n",
       "688              53.65              208.9  ...             17.76   \n",
       "2259             53.35              147.7  ...             12.55   \n",
       "534              52.77               66.5  ...              5.65   \n",
       "575              52.68              200.3  ...             17.03   \n",
       "2858             52.36              247.8  ...             21.06   \n",
       "\n",
       "      Total night minutes  Total night calls  Total night charge  \\\n",
       "688                 260.1                123               11.70   \n",
       "2259                192.7                 97                8.67   \n",
       "534                 246.5                 99               11.09   \n",
       "575                 183.5                105                8.26   \n",
       "2858                152.9                103                6.88   \n",
       "\n",
       "      Total intl minutes  Total intl calls  Total intl charge  \\\n",
       "688                 12.1                 3               3.27   \n",
       "2259                10.1                 7               2.73   \n",
       "534                  9.2                10               2.48   \n",
       "575                 14.2                 2               3.83   \n",
       "2858                 7.4                 3               2.00   \n",
       "\n",
       "      Customer service calls  Churn  churn  \n",
       "688                        3  False      0  \n",
       "2259                       3  False      0  \n",
       "534                        4  False      0  \n",
       "575                        1  False      0  \n",
       "2858                       1  False      0  \n",
       "\n",
       "[5 rows x 21 columns]"
      ]
     },
     "execution_count": 13,
     "metadata": {},
     "output_type": "execute_result"
    }
   ],
   "source": [
    "# mengurutkan berdasarkan Churn dan Total day charge\n",
    "df.sort_values(by=['Churn', \"Total day charge\"], ascending=[True, False]).head()"
   ]
  },
  {
   "cell_type": "markdown",
   "id": "5aa033b4",
   "metadata": {},
   "source": [
    "# indexing and retrieving data"
   ]
  },
  {
   "cell_type": "code",
   "execution_count": 14,
   "id": "dadc217f",
   "metadata": {},
   "outputs": [
    {
     "data": {
      "text/plain": [
       "0.14491449144914492"
      ]
     },
     "execution_count": 14,
     "metadata": {},
     "output_type": "execute_result"
    }
   ],
   "source": [
    "# melihat proporsi pengguna yang churned dalam dataframe kita adalah apa \n",
    "df['Churn'].mean()"
   ]
  },
  {
   "cell_type": "markdown",
   "id": "d08dbfb2",
   "metadata": {},
   "source": [
    "Apa adakah Berapa nilai rata-rata fitur numerik untuk pengguna yang churn?"
   ]
  },
  {
   "cell_type": "code",
   "execution_count": 15,
   "id": "211ebcc6",
   "metadata": {},
   "outputs": [
    {
     "data": {
      "application/vnd.microsoft.datawrangler.viewer.v0+json": {
       "columns": [
        {
         "name": "index",
         "rawType": "object",
         "type": "string"
        },
        {
         "name": "0",
         "rawType": "float64",
         "type": "float"
        }
       ],
       "ref": "a5f82a13-b098-4c25-b143-2df0feee3cca",
       "rows": [
        [
         "Account length",
         "102.66459627329192"
        ],
        [
         "Area code",
         "437.8178053830228"
        ],
        [
         "Number vmail messages",
         "5.115942028985507"
        ],
        [
         "Total day minutes",
         "206.91407867494823"
        ],
        [
         "Total day calls",
         "101.33540372670808"
        ],
        [
         "Total day charge",
         "35.17592132505176"
        ],
        [
         "Total eve minutes",
         "212.41014492753624"
        ],
        [
         "Total eve calls",
         "100.56107660455487"
        ],
        [
         "Total eve charge",
         "18.05496894409938"
        ],
        [
         "Total night minutes",
         "205.23167701863352"
        ],
        [
         "Total night calls",
         "100.39958592132506"
        ],
        [
         "Total night charge",
         "9.23552795031056"
        ],
        [
         "Total intl minutes",
         "10.700000000000001"
        ],
        [
         "Total intl calls",
         "4.163561076604555"
        ],
        [
         "Total intl charge",
         "2.8895445134575573"
        ],
        [
         "Customer service calls",
         "2.229813664596273"
        ],
        [
         "churn",
         "1.0"
        ]
       ],
       "shape": {
        "columns": 1,
        "rows": 17
       }
      },
      "text/plain": [
       "Account length            102.664596\n",
       "Area code                 437.817805\n",
       "Number vmail messages       5.115942\n",
       "Total day minutes         206.914079\n",
       "Total day calls           101.335404\n",
       "Total day charge           35.175921\n",
       "Total eve minutes         212.410145\n",
       "Total eve calls           100.561077\n",
       "Total eve charge           18.054969\n",
       "Total night minutes       205.231677\n",
       "Total night calls         100.399586\n",
       "Total night charge          9.235528\n",
       "Total intl minutes         10.700000\n",
       "Total intl calls            4.163561\n",
       "Total intl charge           2.889545\n",
       "Customer service calls      2.229814\n",
       "churn                       1.000000\n",
       "dtype: float64"
      ]
     },
     "execution_count": 15,
     "metadata": {},
     "output_type": "execute_result"
    }
   ],
   "source": [
    "# select_dtypes untuk memilih semua kolom\n",
    "df.select_dtypes(include=np.number)[df[\"Churn\"]==1].mean()"
   ]
  },
  {
   "cell_type": "markdown",
   "id": "cbc85621",
   "metadata": {},
   "source": [
    "Berapa banyak waktu (rata-rata) yang dihabiskan pengguna yang churn di telepon pada siang hari?"
   ]
  },
  {
   "cell_type": "code",
   "execution_count": 16,
   "id": "484a1d7f",
   "metadata": {},
   "outputs": [
    {
     "data": {
      "text/plain": [
       "206.91407867494823"
      ]
     },
     "execution_count": 16,
     "metadata": {},
     "output_type": "execute_result"
    }
   ],
   "source": [
    "df[df['churn'] == 1][\"Total day minutes\"].mean()"
   ]
  },
  {
   "cell_type": "markdown",
   "id": "adb46bfb",
   "metadata": {},
   "source": [
    "Berapa lama maksimum panggilan internasional di antara pengguna setia (Churn == 0) yang tidak memiliki paket internasional?"
   ]
  },
  {
   "cell_type": "code",
   "execution_count": 17,
   "id": "3d149f45",
   "metadata": {},
   "outputs": [
    {
     "data": {
      "text/plain": [
       "18.9"
      ]
     },
     "execution_count": 17,
     "metadata": {},
     "output_type": "execute_result"
    }
   ],
   "source": [
    "df[(df['Churn'] == 0) & (df[\"International plan\"] == \"No\")][\"Total intl minutes\"].max()"
   ]
  },
  {
   "cell_type": "markdown",
   "id": "4f8a59f3",
   "metadata": {},
   "source": [
    "# Menerapkan fungsi pada sel, kolom, dan baris"
   ]
  },
  {
   "cell_type": "code",
   "execution_count": 18,
   "id": "f63da4d3",
   "metadata": {},
   "outputs": [
    {
     "data": {
      "application/vnd.microsoft.datawrangler.viewer.v0+json": {
       "columns": [
        {
         "name": "index",
         "rawType": "object",
         "type": "string"
        },
        {
         "name": "0",
         "rawType": "object",
         "type": "unknown"
        }
       ],
       "ref": "8305d885-368a-4f54-accc-218841b9fdc0",
       "rows": [
        [
         "State",
         "WY"
        ],
        [
         "Account length",
         "243"
        ],
        [
         "Area code",
         "510"
        ],
        [
         "International plan",
         "Yes"
        ],
        [
         "Voice mail plan",
         "Yes"
        ],
        [
         "Number vmail messages",
         "51"
        ],
        [
         "Total day minutes",
         "350.8"
        ],
        [
         "Total day calls",
         "165"
        ],
        [
         "Total day charge",
         "59.64"
        ],
        [
         "Total eve minutes",
         "363.7"
        ],
        [
         "Total eve calls",
         "170"
        ],
        [
         "Total eve charge",
         "30.91"
        ],
        [
         "Total night minutes",
         "395.0"
        ],
        [
         "Total night calls",
         "175"
        ],
        [
         "Total night charge",
         "17.77"
        ],
        [
         "Total intl minutes",
         "20.0"
        ],
        [
         "Total intl calls",
         "20"
        ],
        [
         "Total intl charge",
         "5.4"
        ],
        [
         "Customer service calls",
         "9"
        ],
        [
         "Churn",
         "True"
        ],
        [
         "churn",
         "1"
        ]
       ],
       "shape": {
        "columns": 1,
        "rows": 21
       }
      },
      "text/plain": [
       "State                        WY\n",
       "Account length              243\n",
       "Area code                   510\n",
       "International plan          Yes\n",
       "Voice mail plan             Yes\n",
       "Number vmail messages        51\n",
       "Total day minutes         350.8\n",
       "Total day calls             165\n",
       "Total day charge          59.64\n",
       "Total eve minutes         363.7\n",
       "Total eve calls             170\n",
       "Total eve charge          30.91\n",
       "Total night minutes       395.0\n",
       "Total night calls           175\n",
       "Total night charge        17.77\n",
       "Total intl minutes         20.0\n",
       "Total intl calls             20\n",
       "Total intl charge           5.4\n",
       "Customer service calls        9\n",
       "Churn                      True\n",
       "churn                         1\n",
       "dtype: object"
      ]
     },
     "execution_count": 18,
     "metadata": {},
     "output_type": "execute_result"
    }
   ],
   "source": [
    "# menerapkan fungsi di setiap kolom\n",
    "df.apply(np.max)"
   ]
  },
  {
   "cell_type": "markdown",
   "id": "51000900",
   "metadata": {},
   "source": [
    "Metode apply juga dapat digunakan untuk menerapkan fungsi pada setiap baris. Untuk melakukannya, tentukan axis=1 . Fungsi lambda sangat praktis dalam skenario seperti ini. Misalnya, jika kita perlu memilih semua negara bagian yang dimulai dengan 'W', kita bisa melakukannya seperti ini:"
   ]
  },
  {
   "cell_type": "code",
   "execution_count": 19,
   "id": "010c8d87",
   "metadata": {},
   "outputs": [
    {
     "data": {
      "application/vnd.microsoft.datawrangler.viewer.v0+json": {
       "columns": [
        {
         "name": "index",
         "rawType": "int64",
         "type": "integer"
        },
        {
         "name": "State",
         "rawType": "object",
         "type": "string"
        },
        {
         "name": "Account length",
         "rawType": "int64",
         "type": "integer"
        },
        {
         "name": "Area code",
         "rawType": "int64",
         "type": "integer"
        },
        {
         "name": "International plan",
         "rawType": "object",
         "type": "string"
        },
        {
         "name": "Voice mail plan",
         "rawType": "object",
         "type": "string"
        },
        {
         "name": "Number vmail messages",
         "rawType": "int64",
         "type": "integer"
        },
        {
         "name": "Total day minutes",
         "rawType": "float64",
         "type": "float"
        },
        {
         "name": "Total day calls",
         "rawType": "int64",
         "type": "integer"
        },
        {
         "name": "Total day charge",
         "rawType": "float64",
         "type": "float"
        },
        {
         "name": "Total eve minutes",
         "rawType": "float64",
         "type": "float"
        },
        {
         "name": "Total eve calls",
         "rawType": "int64",
         "type": "integer"
        },
        {
         "name": "Total eve charge",
         "rawType": "float64",
         "type": "float"
        },
        {
         "name": "Total night minutes",
         "rawType": "float64",
         "type": "float"
        },
        {
         "name": "Total night calls",
         "rawType": "int64",
         "type": "integer"
        },
        {
         "name": "Total night charge",
         "rawType": "float64",
         "type": "float"
        },
        {
         "name": "Total intl minutes",
         "rawType": "float64",
         "type": "float"
        },
        {
         "name": "Total intl calls",
         "rawType": "int64",
         "type": "integer"
        },
        {
         "name": "Total intl charge",
         "rawType": "float64",
         "type": "float"
        },
        {
         "name": "Customer service calls",
         "rawType": "int64",
         "type": "integer"
        },
        {
         "name": "Churn",
         "rawType": "bool",
         "type": "boolean"
        },
        {
         "name": "churn",
         "rawType": "int64",
         "type": "integer"
        }
       ],
       "ref": "b2778cb6-a2a1-4846-a648-e8bba8e3bb27",
       "rows": [
        [
         "9",
         "WV",
         "141",
         "415",
         "Yes",
         "Yes",
         "37",
         "258.6",
         "84",
         "43.96",
         "222.0",
         "111",
         "18.87",
         "326.4",
         "97",
         "14.69",
         "11.2",
         "5",
         "3.02",
         "0",
         "False",
         "0"
        ],
        [
         "26",
         "WY",
         "57",
         "408",
         "No",
         "Yes",
         "39",
         "213.0",
         "115",
         "36.21",
         "191.1",
         "112",
         "16.24",
         "182.7",
         "115",
         "8.22",
         "9.5",
         "3",
         "2.57",
         "0",
         "False",
         "0"
        ],
        [
         "44",
         "WI",
         "64",
         "510",
         "No",
         "No",
         "0",
         "154.0",
         "67",
         "26.18",
         "225.8",
         "118",
         "19.19",
         "265.3",
         "86",
         "11.94",
         "3.5",
         "3",
         "0.95",
         "1",
         "False",
         "0"
        ],
        [
         "49",
         "WY",
         "97",
         "415",
         "No",
         "Yes",
         "24",
         "133.2",
         "135",
         "22.64",
         "217.2",
         "58",
         "18.46",
         "70.6",
         "79",
         "3.18",
         "11.0",
         "3",
         "2.97",
         "1",
         "False",
         "0"
        ],
        [
         "54",
         "WY",
         "87",
         "415",
         "No",
         "No",
         "0",
         "151.0",
         "83",
         "25.67",
         "219.7",
         "116",
         "18.67",
         "203.9",
         "127",
         "9.18",
         "9.7",
         "3",
         "2.62",
         "5",
         "True",
         "1"
        ]
       ],
       "shape": {
        "columns": 21,
        "rows": 5
       }
      },
      "text/html": [
       "<div>\n",
       "<style scoped>\n",
       "    .dataframe tbody tr th:only-of-type {\n",
       "        vertical-align: middle;\n",
       "    }\n",
       "\n",
       "    .dataframe tbody tr th {\n",
       "        vertical-align: top;\n",
       "    }\n",
       "\n",
       "    .dataframe thead th {\n",
       "        text-align: right;\n",
       "    }\n",
       "</style>\n",
       "<table border=\"1\" class=\"dataframe\">\n",
       "  <thead>\n",
       "    <tr style=\"text-align: right;\">\n",
       "      <th></th>\n",
       "      <th>State</th>\n",
       "      <th>Account length</th>\n",
       "      <th>Area code</th>\n",
       "      <th>International plan</th>\n",
       "      <th>Voice mail plan</th>\n",
       "      <th>Number vmail messages</th>\n",
       "      <th>Total day minutes</th>\n",
       "      <th>Total day calls</th>\n",
       "      <th>Total day charge</th>\n",
       "      <th>Total eve minutes</th>\n",
       "      <th>...</th>\n",
       "      <th>Total eve charge</th>\n",
       "      <th>Total night minutes</th>\n",
       "      <th>Total night calls</th>\n",
       "      <th>Total night charge</th>\n",
       "      <th>Total intl minutes</th>\n",
       "      <th>Total intl calls</th>\n",
       "      <th>Total intl charge</th>\n",
       "      <th>Customer service calls</th>\n",
       "      <th>Churn</th>\n",
       "      <th>churn</th>\n",
       "    </tr>\n",
       "  </thead>\n",
       "  <tbody>\n",
       "    <tr>\n",
       "      <th>9</th>\n",
       "      <td>WV</td>\n",
       "      <td>141</td>\n",
       "      <td>415</td>\n",
       "      <td>Yes</td>\n",
       "      <td>Yes</td>\n",
       "      <td>37</td>\n",
       "      <td>258.6</td>\n",
       "      <td>84</td>\n",
       "      <td>43.96</td>\n",
       "      <td>222.0</td>\n",
       "      <td>...</td>\n",
       "      <td>18.87</td>\n",
       "      <td>326.4</td>\n",
       "      <td>97</td>\n",
       "      <td>14.69</td>\n",
       "      <td>11.2</td>\n",
       "      <td>5</td>\n",
       "      <td>3.02</td>\n",
       "      <td>0</td>\n",
       "      <td>False</td>\n",
       "      <td>0</td>\n",
       "    </tr>\n",
       "    <tr>\n",
       "      <th>26</th>\n",
       "      <td>WY</td>\n",
       "      <td>57</td>\n",
       "      <td>408</td>\n",
       "      <td>No</td>\n",
       "      <td>Yes</td>\n",
       "      <td>39</td>\n",
       "      <td>213.0</td>\n",
       "      <td>115</td>\n",
       "      <td>36.21</td>\n",
       "      <td>191.1</td>\n",
       "      <td>...</td>\n",
       "      <td>16.24</td>\n",
       "      <td>182.7</td>\n",
       "      <td>115</td>\n",
       "      <td>8.22</td>\n",
       "      <td>9.5</td>\n",
       "      <td>3</td>\n",
       "      <td>2.57</td>\n",
       "      <td>0</td>\n",
       "      <td>False</td>\n",
       "      <td>0</td>\n",
       "    </tr>\n",
       "    <tr>\n",
       "      <th>44</th>\n",
       "      <td>WI</td>\n",
       "      <td>64</td>\n",
       "      <td>510</td>\n",
       "      <td>No</td>\n",
       "      <td>No</td>\n",
       "      <td>0</td>\n",
       "      <td>154.0</td>\n",
       "      <td>67</td>\n",
       "      <td>26.18</td>\n",
       "      <td>225.8</td>\n",
       "      <td>...</td>\n",
       "      <td>19.19</td>\n",
       "      <td>265.3</td>\n",
       "      <td>86</td>\n",
       "      <td>11.94</td>\n",
       "      <td>3.5</td>\n",
       "      <td>3</td>\n",
       "      <td>0.95</td>\n",
       "      <td>1</td>\n",
       "      <td>False</td>\n",
       "      <td>0</td>\n",
       "    </tr>\n",
       "    <tr>\n",
       "      <th>49</th>\n",
       "      <td>WY</td>\n",
       "      <td>97</td>\n",
       "      <td>415</td>\n",
       "      <td>No</td>\n",
       "      <td>Yes</td>\n",
       "      <td>24</td>\n",
       "      <td>133.2</td>\n",
       "      <td>135</td>\n",
       "      <td>22.64</td>\n",
       "      <td>217.2</td>\n",
       "      <td>...</td>\n",
       "      <td>18.46</td>\n",
       "      <td>70.6</td>\n",
       "      <td>79</td>\n",
       "      <td>3.18</td>\n",
       "      <td>11.0</td>\n",
       "      <td>3</td>\n",
       "      <td>2.97</td>\n",
       "      <td>1</td>\n",
       "      <td>False</td>\n",
       "      <td>0</td>\n",
       "    </tr>\n",
       "    <tr>\n",
       "      <th>54</th>\n",
       "      <td>WY</td>\n",
       "      <td>87</td>\n",
       "      <td>415</td>\n",
       "      <td>No</td>\n",
       "      <td>No</td>\n",
       "      <td>0</td>\n",
       "      <td>151.0</td>\n",
       "      <td>83</td>\n",
       "      <td>25.67</td>\n",
       "      <td>219.7</td>\n",
       "      <td>...</td>\n",
       "      <td>18.67</td>\n",
       "      <td>203.9</td>\n",
       "      <td>127</td>\n",
       "      <td>9.18</td>\n",
       "      <td>9.7</td>\n",
       "      <td>3</td>\n",
       "      <td>2.62</td>\n",
       "      <td>5</td>\n",
       "      <td>True</td>\n",
       "      <td>1</td>\n",
       "    </tr>\n",
       "  </tbody>\n",
       "</table>\n",
       "<p>5 rows × 21 columns</p>\n",
       "</div>"
      ],
      "text/plain": [
       "   State  Account length  Area code International plan Voice mail plan  \\\n",
       "9     WV             141        415                Yes             Yes   \n",
       "26    WY              57        408                 No             Yes   \n",
       "44    WI              64        510                 No              No   \n",
       "49    WY              97        415                 No             Yes   \n",
       "54    WY              87        415                 No              No   \n",
       "\n",
       "    Number vmail messages  Total day minutes  Total day calls  \\\n",
       "9                      37              258.6               84   \n",
       "26                     39              213.0              115   \n",
       "44                      0              154.0               67   \n",
       "49                     24              133.2              135   \n",
       "54                      0              151.0               83   \n",
       "\n",
       "    Total day charge  Total eve minutes  ...  Total eve charge  \\\n",
       "9              43.96              222.0  ...             18.87   \n",
       "26             36.21              191.1  ...             16.24   \n",
       "44             26.18              225.8  ...             19.19   \n",
       "49             22.64              217.2  ...             18.46   \n",
       "54             25.67              219.7  ...             18.67   \n",
       "\n",
       "    Total night minutes  Total night calls  Total night charge  \\\n",
       "9                 326.4                 97               14.69   \n",
       "26                182.7                115                8.22   \n",
       "44                265.3                 86               11.94   \n",
       "49                 70.6                 79                3.18   \n",
       "54                203.9                127                9.18   \n",
       "\n",
       "    Total intl minutes  Total intl calls  Total intl charge  \\\n",
       "9                 11.2                 5               3.02   \n",
       "26                 9.5                 3               2.57   \n",
       "44                 3.5                 3               0.95   \n",
       "49                11.0                 3               2.97   \n",
       "54                 9.7                 3               2.62   \n",
       "\n",
       "    Customer service calls  Churn  churn  \n",
       "9                        0  False      0  \n",
       "26                       0  False      0  \n",
       "44                       1  False      0  \n",
       "49                       1  False      0  \n",
       "54                       5   True      1  \n",
       "\n",
       "[5 rows x 21 columns]"
      ]
     },
     "execution_count": 19,
     "metadata": {},
     "output_type": "execute_result"
    }
   ],
   "source": [
    "df[df['State'].apply(lambda state: state[0] == 'W')].head()"
   ]
  },
  {
   "cell_type": "markdown",
   "id": "df28e525",
   "metadata": {},
   "source": [
    "Metode map dapat digunakan untuk mengganti nilai dalam kolom dengan memberikan kamus dalam bentuk {nilai_lama: nilai_baru} sebagai argumennya:"
   ]
  },
  {
   "cell_type": "code",
   "execution_count": 20,
   "id": "bf752836",
   "metadata": {},
   "outputs": [
    {
     "data": {
      "application/vnd.microsoft.datawrangler.viewer.v0+json": {
       "columns": [
        {
         "name": "index",
         "rawType": "int64",
         "type": "integer"
        },
        {
         "name": "State",
         "rawType": "object",
         "type": "string"
        },
        {
         "name": "Account length",
         "rawType": "int64",
         "type": "integer"
        },
        {
         "name": "Area code",
         "rawType": "int64",
         "type": "integer"
        },
        {
         "name": "International plan",
         "rawType": "bool",
         "type": "boolean"
        },
        {
         "name": "Voice mail plan",
         "rawType": "object",
         "type": "string"
        },
        {
         "name": "Number vmail messages",
         "rawType": "int64",
         "type": "integer"
        },
        {
         "name": "Total day minutes",
         "rawType": "float64",
         "type": "float"
        },
        {
         "name": "Total day calls",
         "rawType": "int64",
         "type": "integer"
        },
        {
         "name": "Total day charge",
         "rawType": "float64",
         "type": "float"
        },
        {
         "name": "Total eve minutes",
         "rawType": "float64",
         "type": "float"
        },
        {
         "name": "Total eve calls",
         "rawType": "int64",
         "type": "integer"
        },
        {
         "name": "Total eve charge",
         "rawType": "float64",
         "type": "float"
        },
        {
         "name": "Total night minutes",
         "rawType": "float64",
         "type": "float"
        },
        {
         "name": "Total night calls",
         "rawType": "int64",
         "type": "integer"
        },
        {
         "name": "Total night charge",
         "rawType": "float64",
         "type": "float"
        },
        {
         "name": "Total intl minutes",
         "rawType": "float64",
         "type": "float"
        },
        {
         "name": "Total intl calls",
         "rawType": "int64",
         "type": "integer"
        },
        {
         "name": "Total intl charge",
         "rawType": "float64",
         "type": "float"
        },
        {
         "name": "Customer service calls",
         "rawType": "int64",
         "type": "integer"
        },
        {
         "name": "Churn",
         "rawType": "bool",
         "type": "boolean"
        },
        {
         "name": "churn",
         "rawType": "int64",
         "type": "integer"
        }
       ],
       "ref": "61f07475-0cd3-4c80-9c30-10832c34e505",
       "rows": [
        [
         "0",
         "KS",
         "128",
         "415",
         "False",
         "Yes",
         "25",
         "265.1",
         "110",
         "45.07",
         "197.4",
         "99",
         "16.78",
         "244.7",
         "91",
         "11.01",
         "10.0",
         "3",
         "2.7",
         "1",
         "False",
         "0"
        ],
        [
         "1",
         "OH",
         "107",
         "415",
         "False",
         "Yes",
         "26",
         "161.6",
         "123",
         "27.47",
         "195.5",
         "103",
         "16.62",
         "254.4",
         "103",
         "11.45",
         "13.7",
         "3",
         "3.7",
         "1",
         "False",
         "0"
        ],
        [
         "2",
         "NJ",
         "137",
         "415",
         "False",
         "No",
         "0",
         "243.4",
         "114",
         "41.38",
         "121.2",
         "110",
         "10.3",
         "162.6",
         "104",
         "7.32",
         "12.2",
         "5",
         "3.29",
         "0",
         "False",
         "0"
        ],
        [
         "3",
         "OH",
         "84",
         "408",
         "True",
         "No",
         "0",
         "299.4",
         "71",
         "50.9",
         "61.9",
         "88",
         "5.26",
         "196.9",
         "89",
         "8.86",
         "6.6",
         "7",
         "1.78",
         "2",
         "False",
         "0"
        ],
        [
         "4",
         "OK",
         "75",
         "415",
         "True",
         "No",
         "0",
         "166.7",
         "113",
         "28.34",
         "148.3",
         "122",
         "12.61",
         "186.9",
         "121",
         "8.41",
         "10.1",
         "3",
         "2.73",
         "3",
         "False",
         "0"
        ]
       ],
       "shape": {
        "columns": 21,
        "rows": 5
       }
      },
      "text/html": [
       "<div>\n",
       "<style scoped>\n",
       "    .dataframe tbody tr th:only-of-type {\n",
       "        vertical-align: middle;\n",
       "    }\n",
       "\n",
       "    .dataframe tbody tr th {\n",
       "        vertical-align: top;\n",
       "    }\n",
       "\n",
       "    .dataframe thead th {\n",
       "        text-align: right;\n",
       "    }\n",
       "</style>\n",
       "<table border=\"1\" class=\"dataframe\">\n",
       "  <thead>\n",
       "    <tr style=\"text-align: right;\">\n",
       "      <th></th>\n",
       "      <th>State</th>\n",
       "      <th>Account length</th>\n",
       "      <th>Area code</th>\n",
       "      <th>International plan</th>\n",
       "      <th>Voice mail plan</th>\n",
       "      <th>Number vmail messages</th>\n",
       "      <th>Total day minutes</th>\n",
       "      <th>Total day calls</th>\n",
       "      <th>Total day charge</th>\n",
       "      <th>Total eve minutes</th>\n",
       "      <th>...</th>\n",
       "      <th>Total eve charge</th>\n",
       "      <th>Total night minutes</th>\n",
       "      <th>Total night calls</th>\n",
       "      <th>Total night charge</th>\n",
       "      <th>Total intl minutes</th>\n",
       "      <th>Total intl calls</th>\n",
       "      <th>Total intl charge</th>\n",
       "      <th>Customer service calls</th>\n",
       "      <th>Churn</th>\n",
       "      <th>churn</th>\n",
       "    </tr>\n",
       "  </thead>\n",
       "  <tbody>\n",
       "    <tr>\n",
       "      <th>0</th>\n",
       "      <td>KS</td>\n",
       "      <td>128</td>\n",
       "      <td>415</td>\n",
       "      <td>False</td>\n",
       "      <td>Yes</td>\n",
       "      <td>25</td>\n",
       "      <td>265.1</td>\n",
       "      <td>110</td>\n",
       "      <td>45.07</td>\n",
       "      <td>197.4</td>\n",
       "      <td>...</td>\n",
       "      <td>16.78</td>\n",
       "      <td>244.7</td>\n",
       "      <td>91</td>\n",
       "      <td>11.01</td>\n",
       "      <td>10.0</td>\n",
       "      <td>3</td>\n",
       "      <td>2.70</td>\n",
       "      <td>1</td>\n",
       "      <td>False</td>\n",
       "      <td>0</td>\n",
       "    </tr>\n",
       "    <tr>\n",
       "      <th>1</th>\n",
       "      <td>OH</td>\n",
       "      <td>107</td>\n",
       "      <td>415</td>\n",
       "      <td>False</td>\n",
       "      <td>Yes</td>\n",
       "      <td>26</td>\n",
       "      <td>161.6</td>\n",
       "      <td>123</td>\n",
       "      <td>27.47</td>\n",
       "      <td>195.5</td>\n",
       "      <td>...</td>\n",
       "      <td>16.62</td>\n",
       "      <td>254.4</td>\n",
       "      <td>103</td>\n",
       "      <td>11.45</td>\n",
       "      <td>13.7</td>\n",
       "      <td>3</td>\n",
       "      <td>3.70</td>\n",
       "      <td>1</td>\n",
       "      <td>False</td>\n",
       "      <td>0</td>\n",
       "    </tr>\n",
       "    <tr>\n",
       "      <th>2</th>\n",
       "      <td>NJ</td>\n",
       "      <td>137</td>\n",
       "      <td>415</td>\n",
       "      <td>False</td>\n",
       "      <td>No</td>\n",
       "      <td>0</td>\n",
       "      <td>243.4</td>\n",
       "      <td>114</td>\n",
       "      <td>41.38</td>\n",
       "      <td>121.2</td>\n",
       "      <td>...</td>\n",
       "      <td>10.30</td>\n",
       "      <td>162.6</td>\n",
       "      <td>104</td>\n",
       "      <td>7.32</td>\n",
       "      <td>12.2</td>\n",
       "      <td>5</td>\n",
       "      <td>3.29</td>\n",
       "      <td>0</td>\n",
       "      <td>False</td>\n",
       "      <td>0</td>\n",
       "    </tr>\n",
       "    <tr>\n",
       "      <th>3</th>\n",
       "      <td>OH</td>\n",
       "      <td>84</td>\n",
       "      <td>408</td>\n",
       "      <td>True</td>\n",
       "      <td>No</td>\n",
       "      <td>0</td>\n",
       "      <td>299.4</td>\n",
       "      <td>71</td>\n",
       "      <td>50.90</td>\n",
       "      <td>61.9</td>\n",
       "      <td>...</td>\n",
       "      <td>5.26</td>\n",
       "      <td>196.9</td>\n",
       "      <td>89</td>\n",
       "      <td>8.86</td>\n",
       "      <td>6.6</td>\n",
       "      <td>7</td>\n",
       "      <td>1.78</td>\n",
       "      <td>2</td>\n",
       "      <td>False</td>\n",
       "      <td>0</td>\n",
       "    </tr>\n",
       "    <tr>\n",
       "      <th>4</th>\n",
       "      <td>OK</td>\n",
       "      <td>75</td>\n",
       "      <td>415</td>\n",
       "      <td>True</td>\n",
       "      <td>No</td>\n",
       "      <td>0</td>\n",
       "      <td>166.7</td>\n",
       "      <td>113</td>\n",
       "      <td>28.34</td>\n",
       "      <td>148.3</td>\n",
       "      <td>...</td>\n",
       "      <td>12.61</td>\n",
       "      <td>186.9</td>\n",
       "      <td>121</td>\n",
       "      <td>8.41</td>\n",
       "      <td>10.1</td>\n",
       "      <td>3</td>\n",
       "      <td>2.73</td>\n",
       "      <td>3</td>\n",
       "      <td>False</td>\n",
       "      <td>0</td>\n",
       "    </tr>\n",
       "  </tbody>\n",
       "</table>\n",
       "<p>5 rows × 21 columns</p>\n",
       "</div>"
      ],
      "text/plain": [
       "  State  Account length  Area code  International plan Voice mail plan  \\\n",
       "0    KS             128        415               False             Yes   \n",
       "1    OH             107        415               False             Yes   \n",
       "2    NJ             137        415               False              No   \n",
       "3    OH              84        408                True              No   \n",
       "4    OK              75        415                True              No   \n",
       "\n",
       "   Number vmail messages  Total day minutes  Total day calls  \\\n",
       "0                     25              265.1              110   \n",
       "1                     26              161.6              123   \n",
       "2                      0              243.4              114   \n",
       "3                      0              299.4               71   \n",
       "4                      0              166.7              113   \n",
       "\n",
       "   Total day charge  Total eve minutes  ...  Total eve charge  \\\n",
       "0             45.07              197.4  ...             16.78   \n",
       "1             27.47              195.5  ...             16.62   \n",
       "2             41.38              121.2  ...             10.30   \n",
       "3             50.90               61.9  ...              5.26   \n",
       "4             28.34              148.3  ...             12.61   \n",
       "\n",
       "   Total night minutes  Total night calls  Total night charge  \\\n",
       "0                244.7                 91               11.01   \n",
       "1                254.4                103               11.45   \n",
       "2                162.6                104                7.32   \n",
       "3                196.9                 89                8.86   \n",
       "4                186.9                121                8.41   \n",
       "\n",
       "   Total intl minutes  Total intl calls  Total intl charge  \\\n",
       "0                10.0                 3               2.70   \n",
       "1                13.7                 3               3.70   \n",
       "2                12.2                 5               3.29   \n",
       "3                 6.6                 7               1.78   \n",
       "4                10.1                 3               2.73   \n",
       "\n",
       "   Customer service calls  Churn  churn  \n",
       "0                       1  False      0  \n",
       "1                       1  False      0  \n",
       "2                       0  False      0  \n",
       "3                       2  False      0  \n",
       "4                       3  False      0  \n",
       "\n",
       "[5 rows x 21 columns]"
      ]
     },
     "execution_count": 20,
     "metadata": {},
     "output_type": "execute_result"
    }
   ],
   "source": [
    "d = {'No': False, 'Yes': True}\n",
    "df[\"International plan\"] = df[\"International plan\"].map(d)\n",
    "df.head()"
   ]
  },
  {
   "cell_type": "markdown",
   "id": "53833975",
   "metadata": {},
   "source": [
    "Hampir hal yang sama bisa dilakukan dengan metode replace.\n",
    "\n",
    "Perbedaan dalam mengatasi nilai yang tidak ada dalam dictionary peta\n",
    "\n",
    "Ada perbedaan kecil. Metode `replace` tidak akan melakukan apa-apa pada nilai yang tidak ditemukan dalam kamus peta, sementara `map` akan mengubahnya menjadi NaN).\n"
   ]
  },
  {
   "cell_type": "code",
   "execution_count": 21,
   "id": "feb1410e",
   "metadata": {},
   "outputs": [
    {
     "data": {
      "application/vnd.microsoft.datawrangler.viewer.v0+json": {
       "columns": [
        {
         "name": "index",
         "rawType": "int64",
         "type": "integer"
        },
        {
         "name": "0",
         "rawType": "float64",
         "type": "float"
        }
       ],
       "ref": "93683795-8a41-48e5-95e2-f6ced17f0285",
       "rows": [
        [
         "0",
         "1.0"
        ],
        [
         "1",
         "2.0"
        ],
        [
         "2",
         null
        ]
       ],
       "shape": {
        "columns": 1,
        "rows": 3
       }
      },
      "text/plain": [
       "0    1.0\n",
       "1    2.0\n",
       "2    NaN\n",
       "dtype: float64"
      ]
     },
     "execution_count": 21,
     "metadata": {},
     "output_type": "execute_result"
    }
   ],
   "source": [
    "a_series = pd.Series(['a', 'b', 'c'])\n",
    "a_series.replace({'a': 1, 'b': 1})     # 1, 2, c\n",
    "a_series.map({'a': 1, 'b': 2})     # 1, 2, NaN"
   ]
  },
  {
   "cell_type": "code",
   "execution_count": 22,
   "id": "c24cd974",
   "metadata": {},
   "outputs": [
    {
     "name": "stderr",
     "output_type": "stream",
     "text": [
      "C:\\Users\\ghatfan\\AppData\\Local\\Temp\\ipykernel_22364\\1212166602.py:1: FutureWarning: Downcasting behavior in `replace` is deprecated and will be removed in a future version. To retain the old behavior, explicitly call `result.infer_objects(copy=False)`. To opt-in to the future behavior, set `pd.set_option('future.no_silent_downcasting', True)`\n",
      "  df = df.replace({\"Voice mail plan\": d})\n"
     ]
    },
    {
     "data": {
      "application/vnd.microsoft.datawrangler.viewer.v0+json": {
       "columns": [
        {
         "name": "index",
         "rawType": "int64",
         "type": "integer"
        },
        {
         "name": "State",
         "rawType": "object",
         "type": "string"
        },
        {
         "name": "Account length",
         "rawType": "int64",
         "type": "integer"
        },
        {
         "name": "Area code",
         "rawType": "int64",
         "type": "integer"
        },
        {
         "name": "International plan",
         "rawType": "bool",
         "type": "boolean"
        },
        {
         "name": "Voice mail plan",
         "rawType": "bool",
         "type": "boolean"
        },
        {
         "name": "Number vmail messages",
         "rawType": "int64",
         "type": "integer"
        },
        {
         "name": "Total day minutes",
         "rawType": "float64",
         "type": "float"
        },
        {
         "name": "Total day calls",
         "rawType": "int64",
         "type": "integer"
        },
        {
         "name": "Total day charge",
         "rawType": "float64",
         "type": "float"
        },
        {
         "name": "Total eve minutes",
         "rawType": "float64",
         "type": "float"
        },
        {
         "name": "Total eve calls",
         "rawType": "int64",
         "type": "integer"
        },
        {
         "name": "Total eve charge",
         "rawType": "float64",
         "type": "float"
        },
        {
         "name": "Total night minutes",
         "rawType": "float64",
         "type": "float"
        },
        {
         "name": "Total night calls",
         "rawType": "int64",
         "type": "integer"
        },
        {
         "name": "Total night charge",
         "rawType": "float64",
         "type": "float"
        },
        {
         "name": "Total intl minutes",
         "rawType": "float64",
         "type": "float"
        },
        {
         "name": "Total intl calls",
         "rawType": "int64",
         "type": "integer"
        },
        {
         "name": "Total intl charge",
         "rawType": "float64",
         "type": "float"
        },
        {
         "name": "Customer service calls",
         "rawType": "int64",
         "type": "integer"
        },
        {
         "name": "Churn",
         "rawType": "bool",
         "type": "boolean"
        },
        {
         "name": "churn",
         "rawType": "int64",
         "type": "integer"
        }
       ],
       "ref": "9c59a9d2-082b-4c1a-a005-d2b8ac1fbed1",
       "rows": [
        [
         "0",
         "KS",
         "128",
         "415",
         "False",
         "True",
         "25",
         "265.1",
         "110",
         "45.07",
         "197.4",
         "99",
         "16.78",
         "244.7",
         "91",
         "11.01",
         "10.0",
         "3",
         "2.7",
         "1",
         "False",
         "0"
        ],
        [
         "1",
         "OH",
         "107",
         "415",
         "False",
         "True",
         "26",
         "161.6",
         "123",
         "27.47",
         "195.5",
         "103",
         "16.62",
         "254.4",
         "103",
         "11.45",
         "13.7",
         "3",
         "3.7",
         "1",
         "False",
         "0"
        ],
        [
         "2",
         "NJ",
         "137",
         "415",
         "False",
         "False",
         "0",
         "243.4",
         "114",
         "41.38",
         "121.2",
         "110",
         "10.3",
         "162.6",
         "104",
         "7.32",
         "12.2",
         "5",
         "3.29",
         "0",
         "False",
         "0"
        ],
        [
         "3",
         "OH",
         "84",
         "408",
         "True",
         "False",
         "0",
         "299.4",
         "71",
         "50.9",
         "61.9",
         "88",
         "5.26",
         "196.9",
         "89",
         "8.86",
         "6.6",
         "7",
         "1.78",
         "2",
         "False",
         "0"
        ],
        [
         "4",
         "OK",
         "75",
         "415",
         "True",
         "False",
         "0",
         "166.7",
         "113",
         "28.34",
         "148.3",
         "122",
         "12.61",
         "186.9",
         "121",
         "8.41",
         "10.1",
         "3",
         "2.73",
         "3",
         "False",
         "0"
        ]
       ],
       "shape": {
        "columns": 21,
        "rows": 5
       }
      },
      "text/html": [
       "<div>\n",
       "<style scoped>\n",
       "    .dataframe tbody tr th:only-of-type {\n",
       "        vertical-align: middle;\n",
       "    }\n",
       "\n",
       "    .dataframe tbody tr th {\n",
       "        vertical-align: top;\n",
       "    }\n",
       "\n",
       "    .dataframe thead th {\n",
       "        text-align: right;\n",
       "    }\n",
       "</style>\n",
       "<table border=\"1\" class=\"dataframe\">\n",
       "  <thead>\n",
       "    <tr style=\"text-align: right;\">\n",
       "      <th></th>\n",
       "      <th>State</th>\n",
       "      <th>Account length</th>\n",
       "      <th>Area code</th>\n",
       "      <th>International plan</th>\n",
       "      <th>Voice mail plan</th>\n",
       "      <th>Number vmail messages</th>\n",
       "      <th>Total day minutes</th>\n",
       "      <th>Total day calls</th>\n",
       "      <th>Total day charge</th>\n",
       "      <th>Total eve minutes</th>\n",
       "      <th>...</th>\n",
       "      <th>Total eve charge</th>\n",
       "      <th>Total night minutes</th>\n",
       "      <th>Total night calls</th>\n",
       "      <th>Total night charge</th>\n",
       "      <th>Total intl minutes</th>\n",
       "      <th>Total intl calls</th>\n",
       "      <th>Total intl charge</th>\n",
       "      <th>Customer service calls</th>\n",
       "      <th>Churn</th>\n",
       "      <th>churn</th>\n",
       "    </tr>\n",
       "  </thead>\n",
       "  <tbody>\n",
       "    <tr>\n",
       "      <th>0</th>\n",
       "      <td>KS</td>\n",
       "      <td>128</td>\n",
       "      <td>415</td>\n",
       "      <td>False</td>\n",
       "      <td>True</td>\n",
       "      <td>25</td>\n",
       "      <td>265.1</td>\n",
       "      <td>110</td>\n",
       "      <td>45.07</td>\n",
       "      <td>197.4</td>\n",
       "      <td>...</td>\n",
       "      <td>16.78</td>\n",
       "      <td>244.7</td>\n",
       "      <td>91</td>\n",
       "      <td>11.01</td>\n",
       "      <td>10.0</td>\n",
       "      <td>3</td>\n",
       "      <td>2.70</td>\n",
       "      <td>1</td>\n",
       "      <td>False</td>\n",
       "      <td>0</td>\n",
       "    </tr>\n",
       "    <tr>\n",
       "      <th>1</th>\n",
       "      <td>OH</td>\n",
       "      <td>107</td>\n",
       "      <td>415</td>\n",
       "      <td>False</td>\n",
       "      <td>True</td>\n",
       "      <td>26</td>\n",
       "      <td>161.6</td>\n",
       "      <td>123</td>\n",
       "      <td>27.47</td>\n",
       "      <td>195.5</td>\n",
       "      <td>...</td>\n",
       "      <td>16.62</td>\n",
       "      <td>254.4</td>\n",
       "      <td>103</td>\n",
       "      <td>11.45</td>\n",
       "      <td>13.7</td>\n",
       "      <td>3</td>\n",
       "      <td>3.70</td>\n",
       "      <td>1</td>\n",
       "      <td>False</td>\n",
       "      <td>0</td>\n",
       "    </tr>\n",
       "    <tr>\n",
       "      <th>2</th>\n",
       "      <td>NJ</td>\n",
       "      <td>137</td>\n",
       "      <td>415</td>\n",
       "      <td>False</td>\n",
       "      <td>False</td>\n",
       "      <td>0</td>\n",
       "      <td>243.4</td>\n",
       "      <td>114</td>\n",
       "      <td>41.38</td>\n",
       "      <td>121.2</td>\n",
       "      <td>...</td>\n",
       "      <td>10.30</td>\n",
       "      <td>162.6</td>\n",
       "      <td>104</td>\n",
       "      <td>7.32</td>\n",
       "      <td>12.2</td>\n",
       "      <td>5</td>\n",
       "      <td>3.29</td>\n",
       "      <td>0</td>\n",
       "      <td>False</td>\n",
       "      <td>0</td>\n",
       "    </tr>\n",
       "    <tr>\n",
       "      <th>3</th>\n",
       "      <td>OH</td>\n",
       "      <td>84</td>\n",
       "      <td>408</td>\n",
       "      <td>True</td>\n",
       "      <td>False</td>\n",
       "      <td>0</td>\n",
       "      <td>299.4</td>\n",
       "      <td>71</td>\n",
       "      <td>50.90</td>\n",
       "      <td>61.9</td>\n",
       "      <td>...</td>\n",
       "      <td>5.26</td>\n",
       "      <td>196.9</td>\n",
       "      <td>89</td>\n",
       "      <td>8.86</td>\n",
       "      <td>6.6</td>\n",
       "      <td>7</td>\n",
       "      <td>1.78</td>\n",
       "      <td>2</td>\n",
       "      <td>False</td>\n",
       "      <td>0</td>\n",
       "    </tr>\n",
       "    <tr>\n",
       "      <th>4</th>\n",
       "      <td>OK</td>\n",
       "      <td>75</td>\n",
       "      <td>415</td>\n",
       "      <td>True</td>\n",
       "      <td>False</td>\n",
       "      <td>0</td>\n",
       "      <td>166.7</td>\n",
       "      <td>113</td>\n",
       "      <td>28.34</td>\n",
       "      <td>148.3</td>\n",
       "      <td>...</td>\n",
       "      <td>12.61</td>\n",
       "      <td>186.9</td>\n",
       "      <td>121</td>\n",
       "      <td>8.41</td>\n",
       "      <td>10.1</td>\n",
       "      <td>3</td>\n",
       "      <td>2.73</td>\n",
       "      <td>3</td>\n",
       "      <td>False</td>\n",
       "      <td>0</td>\n",
       "    </tr>\n",
       "  </tbody>\n",
       "</table>\n",
       "<p>5 rows × 21 columns</p>\n",
       "</div>"
      ],
      "text/plain": [
       "  State  Account length  Area code  International plan  Voice mail plan  \\\n",
       "0    KS             128        415               False             True   \n",
       "1    OH             107        415               False             True   \n",
       "2    NJ             137        415               False            False   \n",
       "3    OH              84        408                True            False   \n",
       "4    OK              75        415                True            False   \n",
       "\n",
       "   Number vmail messages  Total day minutes  Total day calls  \\\n",
       "0                     25              265.1              110   \n",
       "1                     26              161.6              123   \n",
       "2                      0              243.4              114   \n",
       "3                      0              299.4               71   \n",
       "4                      0              166.7              113   \n",
       "\n",
       "   Total day charge  Total eve minutes  ...  Total eve charge  \\\n",
       "0             45.07              197.4  ...             16.78   \n",
       "1             27.47              195.5  ...             16.62   \n",
       "2             41.38              121.2  ...             10.30   \n",
       "3             50.90               61.9  ...              5.26   \n",
       "4             28.34              148.3  ...             12.61   \n",
       "\n",
       "   Total night minutes  Total night calls  Total night charge  \\\n",
       "0                244.7                 91               11.01   \n",
       "1                254.4                103               11.45   \n",
       "2                162.6                104                7.32   \n",
       "3                196.9                 89                8.86   \n",
       "4                186.9                121                8.41   \n",
       "\n",
       "   Total intl minutes  Total intl calls  Total intl charge  \\\n",
       "0                10.0                 3               2.70   \n",
       "1                13.7                 3               3.70   \n",
       "2                12.2                 5               3.29   \n",
       "3                 6.6                 7               1.78   \n",
       "4                10.1                 3               2.73   \n",
       "\n",
       "   Customer service calls  Churn  churn  \n",
       "0                       1  False      0  \n",
       "1                       1  False      0  \n",
       "2                       0  False      0  \n",
       "3                       2  False      0  \n",
       "4                       3  False      0  \n",
       "\n",
       "[5 rows x 21 columns]"
      ]
     },
     "execution_count": 22,
     "metadata": {},
     "output_type": "execute_result"
    }
   ],
   "source": [
    "df = df.replace({\"Voice mail plan\": d})\n",
    "df.head()"
   ]
  },
  {
   "cell_type": "markdown",
   "id": "c7394c37",
   "metadata": {},
   "source": [
    "# Grouping"
   ]
  },
  {
   "cell_type": "markdown",
   "id": "32d0fd3a",
   "metadata": {},
   "source": [
    "Secara umum, pengelompokan data di Pandas bekerja sebagai berikut:\n",
    "df.groupby(by=grouping_columns)[columns_to_show].function()\n",
    "\n",
    "- Pertama, metode groupby membagi grouping_columns dengan nilai-nilainya. Mereka menjadi indeks baru dalam dataframe yang dihasilkan.\n",
    "\n",
    "- Lalu, kolom-kolom yang diinginkan dipilih ( columns_to_show ). Jika columns_to_show tidak termasuk, semua klausa non groupby akan dimasukkan.\n",
    "\n",
    "- Akhirnya, satu atau beberapa fungsi diterapkan pada kelompok-kelompok yang diperoleh per kolom yang dipilih.\n",
    "\n",
    "Berikut adalah contoh di mana kami mengelompokkan data berdasarkan nilai variabel Churn dan menampilkan statistik tiga kolom di setiap kelompok:"
   ]
  },
  {
   "cell_type": "code",
   "execution_count": 23,
   "id": "23043a91",
   "metadata": {},
   "outputs": [
    {
     "data": {
      "application/vnd.microsoft.datawrangler.viewer.v0+json": {
       "columns": [
        {
         "name": "Churn",
         "rawType": "bool",
         "type": "boolean"
        },
        {
         "name": "('Total day minutes', 'count')",
         "rawType": "float64",
         "type": "float"
        },
        {
         "name": "('Total day minutes', 'mean')",
         "rawType": "float64",
         "type": "float"
        },
        {
         "name": "('Total day minutes', 'std')",
         "rawType": "float64",
         "type": "float"
        },
        {
         "name": "('Total day minutes', 'min')",
         "rawType": "float64",
         "type": "float"
        },
        {
         "name": "('Total day minutes', '50%')",
         "rawType": "float64",
         "type": "float"
        },
        {
         "name": "('Total day minutes', 'max')",
         "rawType": "float64",
         "type": "float"
        },
        {
         "name": "('Total eve minutes', 'count')",
         "rawType": "float64",
         "type": "float"
        },
        {
         "name": "('Total eve minutes', 'mean')",
         "rawType": "float64",
         "type": "float"
        },
        {
         "name": "('Total eve minutes', 'std')",
         "rawType": "float64",
         "type": "float"
        },
        {
         "name": "('Total eve minutes', 'min')",
         "rawType": "float64",
         "type": "float"
        },
        {
         "name": "('Total eve minutes', '50%')",
         "rawType": "float64",
         "type": "float"
        },
        {
         "name": "('Total eve minutes', 'max')",
         "rawType": "float64",
         "type": "float"
        },
        {
         "name": "('Total night minutes', 'count')",
         "rawType": "float64",
         "type": "float"
        },
        {
         "name": "('Total night minutes', 'mean')",
         "rawType": "float64",
         "type": "float"
        },
        {
         "name": "('Total night minutes', 'std')",
         "rawType": "float64",
         "type": "float"
        },
        {
         "name": "('Total night minutes', 'min')",
         "rawType": "float64",
         "type": "float"
        },
        {
         "name": "('Total night minutes', '50%')",
         "rawType": "float64",
         "type": "float"
        },
        {
         "name": "('Total night minutes', 'max')",
         "rawType": "float64",
         "type": "float"
        }
       ],
       "ref": "02bee4bb-20e9-4765-8191-ebcbc57a318d",
       "rows": [
        [
         "False",
         "2850.0",
         "175.1757543859649",
         "50.18165518287504",
         "0.0",
         "177.2",
         "315.6",
         "2850.0",
         "199.043298245614",
         "50.292174620000246",
         "0.0",
         "199.6",
         "361.8",
         "2850.0",
         "200.13319298245614",
         "51.10503234833754",
         "23.2",
         "200.25",
         "395.0"
        ],
        [
         "True",
         "483.0",
         "206.91407867494823",
         "68.99779153758718",
         "0.0",
         "217.6",
         "350.8",
         "483.0",
         "212.41014492753624",
         "51.72890955344904",
         "70.9",
         "211.3",
         "363.7",
         "483.0",
         "205.23167701863352",
         "47.13282470433062",
         "47.4",
         "204.8",
         "354.9"
        ]
       ],
       "shape": {
        "columns": 18,
        "rows": 2
       }
      },
      "text/html": [
       "<div>\n",
       "<style scoped>\n",
       "    .dataframe tbody tr th:only-of-type {\n",
       "        vertical-align: middle;\n",
       "    }\n",
       "\n",
       "    .dataframe tbody tr th {\n",
       "        vertical-align: top;\n",
       "    }\n",
       "\n",
       "    .dataframe thead tr th {\n",
       "        text-align: left;\n",
       "    }\n",
       "\n",
       "    .dataframe thead tr:last-of-type th {\n",
       "        text-align: right;\n",
       "    }\n",
       "</style>\n",
       "<table border=\"1\" class=\"dataframe\">\n",
       "  <thead>\n",
       "    <tr>\n",
       "      <th></th>\n",
       "      <th colspan=\"6\" halign=\"left\">Total day minutes</th>\n",
       "      <th colspan=\"6\" halign=\"left\">Total eve minutes</th>\n",
       "      <th colspan=\"6\" halign=\"left\">Total night minutes</th>\n",
       "    </tr>\n",
       "    <tr>\n",
       "      <th></th>\n",
       "      <th>count</th>\n",
       "      <th>mean</th>\n",
       "      <th>std</th>\n",
       "      <th>min</th>\n",
       "      <th>50%</th>\n",
       "      <th>max</th>\n",
       "      <th>count</th>\n",
       "      <th>mean</th>\n",
       "      <th>std</th>\n",
       "      <th>min</th>\n",
       "      <th>50%</th>\n",
       "      <th>max</th>\n",
       "      <th>count</th>\n",
       "      <th>mean</th>\n",
       "      <th>std</th>\n",
       "      <th>min</th>\n",
       "      <th>50%</th>\n",
       "      <th>max</th>\n",
       "    </tr>\n",
       "    <tr>\n",
       "      <th>Churn</th>\n",
       "      <th></th>\n",
       "      <th></th>\n",
       "      <th></th>\n",
       "      <th></th>\n",
       "      <th></th>\n",
       "      <th></th>\n",
       "      <th></th>\n",
       "      <th></th>\n",
       "      <th></th>\n",
       "      <th></th>\n",
       "      <th></th>\n",
       "      <th></th>\n",
       "      <th></th>\n",
       "      <th></th>\n",
       "      <th></th>\n",
       "      <th></th>\n",
       "      <th></th>\n",
       "      <th></th>\n",
       "    </tr>\n",
       "  </thead>\n",
       "  <tbody>\n",
       "    <tr>\n",
       "      <th>False</th>\n",
       "      <td>2850.0</td>\n",
       "      <td>175.175754</td>\n",
       "      <td>50.181655</td>\n",
       "      <td>0.0</td>\n",
       "      <td>177.2</td>\n",
       "      <td>315.6</td>\n",
       "      <td>2850.0</td>\n",
       "      <td>199.043298</td>\n",
       "      <td>50.292175</td>\n",
       "      <td>0.0</td>\n",
       "      <td>199.6</td>\n",
       "      <td>361.8</td>\n",
       "      <td>2850.0</td>\n",
       "      <td>200.133193</td>\n",
       "      <td>51.105032</td>\n",
       "      <td>23.2</td>\n",
       "      <td>200.25</td>\n",
       "      <td>395.0</td>\n",
       "    </tr>\n",
       "    <tr>\n",
       "      <th>True</th>\n",
       "      <td>483.0</td>\n",
       "      <td>206.914079</td>\n",
       "      <td>68.997792</td>\n",
       "      <td>0.0</td>\n",
       "      <td>217.6</td>\n",
       "      <td>350.8</td>\n",
       "      <td>483.0</td>\n",
       "      <td>212.410145</td>\n",
       "      <td>51.728910</td>\n",
       "      <td>70.9</td>\n",
       "      <td>211.3</td>\n",
       "      <td>363.7</td>\n",
       "      <td>483.0</td>\n",
       "      <td>205.231677</td>\n",
       "      <td>47.132825</td>\n",
       "      <td>47.4</td>\n",
       "      <td>204.80</td>\n",
       "      <td>354.9</td>\n",
       "    </tr>\n",
       "  </tbody>\n",
       "</table>\n",
       "</div>"
      ],
      "text/plain": [
       "      Total day minutes                                            \\\n",
       "                  count        mean        std  min    50%    max   \n",
       "Churn                                                               \n",
       "False            2850.0  175.175754  50.181655  0.0  177.2  315.6   \n",
       "True              483.0  206.914079  68.997792  0.0  217.6  350.8   \n",
       "\n",
       "      Total eve minutes                                             \\\n",
       "                  count        mean        std   min    50%    max   \n",
       "Churn                                                                \n",
       "False            2850.0  199.043298  50.292175   0.0  199.6  361.8   \n",
       "True              483.0  212.410145  51.728910  70.9  211.3  363.7   \n",
       "\n",
       "      Total night minutes                                              \n",
       "                    count        mean        std   min     50%    max  \n",
       "Churn                                                                  \n",
       "False              2850.0  200.133193  51.105032  23.2  200.25  395.0  \n",
       "True                483.0  205.231677  47.132825  47.4  204.80  354.9  "
      ]
     },
     "execution_count": 23,
     "metadata": {},
     "output_type": "execute_result"
    }
   ],
   "source": [
    "columns_to_show = [\"Total day minutes\", \"Total eve minutes\", \"Total night minutes\"]\n",
    "\n",
    "df.groupby([\"Churn\"])[columns_to_show].describe(percentiles=[])"
   ]
  },
  {
   "cell_type": "markdown",
   "id": "cb263343",
   "metadata": {},
   "source": [
    "Ayo lakukan hal yang sama, tetapi sedikit berbeda dengan mengirimkan daftar fungsi ke agg() :"
   ]
  },
  {
   "cell_type": "code",
   "execution_count": 24,
   "id": "8c33dbc6",
   "metadata": {},
   "outputs": [
    {
     "data": {
      "application/vnd.microsoft.datawrangler.viewer.v0+json": {
       "columns": [
        {
         "name": "Churn",
         "rawType": "bool",
         "type": "boolean"
        },
        {
         "name": "('Total day minutes', 'mean')",
         "rawType": "float64",
         "type": "float"
        },
        {
         "name": "('Total day minutes', 'std')",
         "rawType": "float64",
         "type": "float"
        },
        {
         "name": "('Total day minutes', 'min')",
         "rawType": "float64",
         "type": "float"
        },
        {
         "name": "('Total day minutes', 'max')",
         "rawType": "float64",
         "type": "float"
        },
        {
         "name": "('Total eve minutes', 'mean')",
         "rawType": "float64",
         "type": "float"
        },
        {
         "name": "('Total eve minutes', 'std')",
         "rawType": "float64",
         "type": "float"
        },
        {
         "name": "('Total eve minutes', 'min')",
         "rawType": "float64",
         "type": "float"
        },
        {
         "name": "('Total eve minutes', 'max')",
         "rawType": "float64",
         "type": "float"
        },
        {
         "name": "('Total night minutes', 'mean')",
         "rawType": "float64",
         "type": "float"
        },
        {
         "name": "('Total night minutes', 'std')",
         "rawType": "float64",
         "type": "float"
        },
        {
         "name": "('Total night minutes', 'min')",
         "rawType": "float64",
         "type": "float"
        },
        {
         "name": "('Total night minutes', 'max')",
         "rawType": "float64",
         "type": "float"
        }
       ],
       "ref": "25eefa9c-d59f-4fed-8f5c-49647d52918e",
       "rows": [
        [
         "False",
         "175.17575438596492",
         "50.181655182875026",
         "0.0",
         "315.6",
         "199.04329824561404",
         "50.29217462000027",
         "0.0",
         "361.8",
         "200.13319298245614",
         "51.105032348337566",
         "23.2",
         "395.0"
        ],
        [
         "True",
         "206.91407867494823",
         "68.99779153758713",
         "0.0",
         "350.8",
         "212.41014492753624",
         "51.72890955344904",
         "70.9",
         "363.7",
         "205.23167701863352",
         "47.13282470433066",
         "47.4",
         "354.9"
        ]
       ],
       "shape": {
        "columns": 12,
        "rows": 2
       }
      },
      "text/html": [
       "<div>\n",
       "<style scoped>\n",
       "    .dataframe tbody tr th:only-of-type {\n",
       "        vertical-align: middle;\n",
       "    }\n",
       "\n",
       "    .dataframe tbody tr th {\n",
       "        vertical-align: top;\n",
       "    }\n",
       "\n",
       "    .dataframe thead tr th {\n",
       "        text-align: left;\n",
       "    }\n",
       "\n",
       "    .dataframe thead tr:last-of-type th {\n",
       "        text-align: right;\n",
       "    }\n",
       "</style>\n",
       "<table border=\"1\" class=\"dataframe\">\n",
       "  <thead>\n",
       "    <tr>\n",
       "      <th></th>\n",
       "      <th colspan=\"4\" halign=\"left\">Total day minutes</th>\n",
       "      <th colspan=\"4\" halign=\"left\">Total eve minutes</th>\n",
       "      <th colspan=\"4\" halign=\"left\">Total night minutes</th>\n",
       "    </tr>\n",
       "    <tr>\n",
       "      <th></th>\n",
       "      <th>mean</th>\n",
       "      <th>std</th>\n",
       "      <th>min</th>\n",
       "      <th>max</th>\n",
       "      <th>mean</th>\n",
       "      <th>std</th>\n",
       "      <th>min</th>\n",
       "      <th>max</th>\n",
       "      <th>mean</th>\n",
       "      <th>std</th>\n",
       "      <th>min</th>\n",
       "      <th>max</th>\n",
       "    </tr>\n",
       "    <tr>\n",
       "      <th>Churn</th>\n",
       "      <th></th>\n",
       "      <th></th>\n",
       "      <th></th>\n",
       "      <th></th>\n",
       "      <th></th>\n",
       "      <th></th>\n",
       "      <th></th>\n",
       "      <th></th>\n",
       "      <th></th>\n",
       "      <th></th>\n",
       "      <th></th>\n",
       "      <th></th>\n",
       "    </tr>\n",
       "  </thead>\n",
       "  <tbody>\n",
       "    <tr>\n",
       "      <th>False</th>\n",
       "      <td>175.175754</td>\n",
       "      <td>50.181655</td>\n",
       "      <td>0.0</td>\n",
       "      <td>315.6</td>\n",
       "      <td>199.043298</td>\n",
       "      <td>50.292175</td>\n",
       "      <td>0.0</td>\n",
       "      <td>361.8</td>\n",
       "      <td>200.133193</td>\n",
       "      <td>51.105032</td>\n",
       "      <td>23.2</td>\n",
       "      <td>395.0</td>\n",
       "    </tr>\n",
       "    <tr>\n",
       "      <th>True</th>\n",
       "      <td>206.914079</td>\n",
       "      <td>68.997792</td>\n",
       "      <td>0.0</td>\n",
       "      <td>350.8</td>\n",
       "      <td>212.410145</td>\n",
       "      <td>51.728910</td>\n",
       "      <td>70.9</td>\n",
       "      <td>363.7</td>\n",
       "      <td>205.231677</td>\n",
       "      <td>47.132825</td>\n",
       "      <td>47.4</td>\n",
       "      <td>354.9</td>\n",
       "    </tr>\n",
       "  </tbody>\n",
       "</table>\n",
       "</div>"
      ],
      "text/plain": [
       "      Total day minutes                        Total eve minutes             \\\n",
       "                   mean        std  min    max              mean        std   \n",
       "Churn                                                                         \n",
       "False        175.175754  50.181655  0.0  315.6        199.043298  50.292175   \n",
       "True         206.914079  68.997792  0.0  350.8        212.410145  51.728910   \n",
       "\n",
       "                   Total night minutes                          \n",
       "        min    max                mean        std   min    max  \n",
       "Churn                                                           \n",
       "False   0.0  361.8          200.133193  51.105032  23.2  395.0  \n",
       "True   70.9  363.7          205.231677  47.132825  47.4  354.9  "
      ]
     },
     "execution_count": 24,
     "metadata": {},
     "output_type": "execute_result"
    }
   ],
   "source": [
    "columns_to_show = [\"Total day minutes\", \"Total eve minutes\", \"Total night minutes\"]\n",
    "\n",
    "df.groupby([\"Churn\"])[columns_to_show].agg([\"mean\", \"std\", \"min\", \"max\"])"
   ]
  },
  {
   "cell_type": "markdown",
   "id": "e7b33098",
   "metadata": {},
   "source": [
    "# Summary tables"
   ]
  },
  {
   "cell_type": "markdown",
   "id": "96581f90",
   "metadata": {},
   "source": [
    "Misalkan kita ingin melihat bagaimana pengamatan dalam dataset kita ditata dalam konteks dua variabel – Churn dan International plan . Untuk melakukannya, kita dapat membangun tabel ketergantungan menggunakan metode crosstab :"
   ]
  },
  {
   "cell_type": "code",
   "execution_count": 25,
   "id": "ce164a41",
   "metadata": {},
   "outputs": [
    {
     "data": {
      "application/vnd.microsoft.datawrangler.viewer.v0+json": {
       "columns": [
        {
         "name": "Churn",
         "rawType": "bool",
         "type": "boolean"
        },
        {
         "name": "False",
         "rawType": "int64",
         "type": "integer"
        },
        {
         "name": "True",
         "rawType": "int64",
         "type": "integer"
        }
       ],
       "ref": "63dc9bae-f7e1-4ff1-8f96-57b296059224",
       "rows": [
        [
         "False",
         "2664",
         "186"
        ],
        [
         "True",
         "346",
         "137"
        ]
       ],
       "shape": {
        "columns": 2,
        "rows": 2
       }
      },
      "text/html": [
       "<div>\n",
       "<style scoped>\n",
       "    .dataframe tbody tr th:only-of-type {\n",
       "        vertical-align: middle;\n",
       "    }\n",
       "\n",
       "    .dataframe tbody tr th {\n",
       "        vertical-align: top;\n",
       "    }\n",
       "\n",
       "    .dataframe thead th {\n",
       "        text-align: right;\n",
       "    }\n",
       "</style>\n",
       "<table border=\"1\" class=\"dataframe\">\n",
       "  <thead>\n",
       "    <tr style=\"text-align: right;\">\n",
       "      <th>International plan</th>\n",
       "      <th>False</th>\n",
       "      <th>True</th>\n",
       "    </tr>\n",
       "    <tr>\n",
       "      <th>Churn</th>\n",
       "      <th></th>\n",
       "      <th></th>\n",
       "    </tr>\n",
       "  </thead>\n",
       "  <tbody>\n",
       "    <tr>\n",
       "      <th>False</th>\n",
       "      <td>2664</td>\n",
       "      <td>186</td>\n",
       "    </tr>\n",
       "    <tr>\n",
       "      <th>True</th>\n",
       "      <td>346</td>\n",
       "      <td>137</td>\n",
       "    </tr>\n",
       "  </tbody>\n",
       "</table>\n",
       "</div>"
      ],
      "text/plain": [
       "International plan  False  True \n",
       "Churn                           \n",
       "False                2664    186\n",
       "True                  346    137"
      ]
     },
     "execution_count": 25,
     "metadata": {},
     "output_type": "execute_result"
    }
   ],
   "source": [
    "pd.crosstab(df[\"Churn\"], df[\"International plan\"])"
   ]
  },
  {
   "cell_type": "code",
   "execution_count": 26,
   "id": "72c230e4",
   "metadata": {},
   "outputs": [
    {
     "data": {
      "application/vnd.microsoft.datawrangler.viewer.v0+json": {
       "columns": [
        {
         "name": "Churn",
         "rawType": "bool",
         "type": "boolean"
        },
        {
         "name": "False",
         "rawType": "float64",
         "type": "float"
        },
        {
         "name": "True",
         "rawType": "float64",
         "type": "float"
        }
       ],
       "ref": "757d11e5-e502-4368-aede-e5db9058f54d",
       "rows": [
        [
         "False",
         "0.6024602460246025",
         "0.2526252625262526"
        ],
        [
         "True",
         "0.12091209120912091",
         "0.024002400240024"
        ]
       ],
       "shape": {
        "columns": 2,
        "rows": 2
       }
      },
      "text/html": [
       "<div>\n",
       "<style scoped>\n",
       "    .dataframe tbody tr th:only-of-type {\n",
       "        vertical-align: middle;\n",
       "    }\n",
       "\n",
       "    .dataframe tbody tr th {\n",
       "        vertical-align: top;\n",
       "    }\n",
       "\n",
       "    .dataframe thead th {\n",
       "        text-align: right;\n",
       "    }\n",
       "</style>\n",
       "<table border=\"1\" class=\"dataframe\">\n",
       "  <thead>\n",
       "    <tr style=\"text-align: right;\">\n",
       "      <th>Voice mail plan</th>\n",
       "      <th>False</th>\n",
       "      <th>True</th>\n",
       "    </tr>\n",
       "    <tr>\n",
       "      <th>Churn</th>\n",
       "      <th></th>\n",
       "      <th></th>\n",
       "    </tr>\n",
       "  </thead>\n",
       "  <tbody>\n",
       "    <tr>\n",
       "      <th>False</th>\n",
       "      <td>0.602460</td>\n",
       "      <td>0.252625</td>\n",
       "    </tr>\n",
       "    <tr>\n",
       "      <th>True</th>\n",
       "      <td>0.120912</td>\n",
       "      <td>0.024002</td>\n",
       "    </tr>\n",
       "  </tbody>\n",
       "</table>\n",
       "</div>"
      ],
      "text/plain": [
       "Voice mail plan     False     True \n",
       "Churn                              \n",
       "False            0.602460  0.252625\n",
       "True             0.120912  0.024002"
      ]
     },
     "execution_count": 26,
     "metadata": {},
     "output_type": "execute_result"
    }
   ],
   "source": [
    "pd.crosstab(df[\"Churn\"], df[\"Voice mail plan\"], normalize=True)"
   ]
  },
  {
   "cell_type": "markdown",
   "id": "e106cb51",
   "metadata": {},
   "source": [
    "Kita bisa melihat bahwa sebagian besar pengguna loyal dan tidak menggunakan layanan tambahan (Rencana Internasional/Pengiriman Suara).\n",
    "\n",
    "Ini akan menyerupai tabel pivot bagi mereka yang familiar dengan Excel. Dan tentu saja, tabel pivot diimplementasikan dalam Pandas: metode pivot_table mengambil parameter berikut:\n",
    "\n",
    "- values – daftar variabel untuk menghitung statistik,\n",
    "- index – daftar variabel untuk mengelompokkan data,\n",
    "- aggfunc – apa statistik yang perlu kita hitung untuk kelompok, misalnya jumlah, rata-rata, maksimum, minimum atau sesuatu lainnya."
   ]
  },
  {
   "cell_type": "markdown",
   "id": "0c2f8610",
   "metadata": {},
   "source": [
    "Lihatlah jumlah rata-rata panggilan harian, sore, dan malam berdasarkan kode area:"
   ]
  },
  {
   "cell_type": "code",
   "execution_count": 27,
   "id": "07f2560b",
   "metadata": {},
   "outputs": [
    {
     "data": {
      "application/vnd.microsoft.datawrangler.viewer.v0+json": {
       "columns": [
        {
         "name": "Area code",
         "rawType": "int64",
         "type": "integer"
        },
        {
         "name": "Total day calls",
         "rawType": "float64",
         "type": "float"
        },
        {
         "name": "Total eve calls",
         "rawType": "float64",
         "type": "float"
        },
        {
         "name": "Total night calls",
         "rawType": "float64",
         "type": "float"
        }
       ],
       "ref": "fe8164bd-6602-4f96-bb24-9ce4dc014f50",
       "rows": [
        [
         "408",
         "100.4964200477327",
         "99.78878281622912",
         "99.03937947494033"
        ],
        [
         "415",
         "100.57643504531723",
         "100.50392749244713",
         "100.39818731117825"
        ],
        [
         "510",
         "100.09761904761905",
         "99.67142857142858",
         "100.60119047619048"
        ]
       ],
       "shape": {
        "columns": 3,
        "rows": 3
       }
      },
      "text/html": [
       "<div>\n",
       "<style scoped>\n",
       "    .dataframe tbody tr th:only-of-type {\n",
       "        vertical-align: middle;\n",
       "    }\n",
       "\n",
       "    .dataframe tbody tr th {\n",
       "        vertical-align: top;\n",
       "    }\n",
       "\n",
       "    .dataframe thead th {\n",
       "        text-align: right;\n",
       "    }\n",
       "</style>\n",
       "<table border=\"1\" class=\"dataframe\">\n",
       "  <thead>\n",
       "    <tr style=\"text-align: right;\">\n",
       "      <th></th>\n",
       "      <th>Total day calls</th>\n",
       "      <th>Total eve calls</th>\n",
       "      <th>Total night calls</th>\n",
       "    </tr>\n",
       "    <tr>\n",
       "      <th>Area code</th>\n",
       "      <th></th>\n",
       "      <th></th>\n",
       "      <th></th>\n",
       "    </tr>\n",
       "  </thead>\n",
       "  <tbody>\n",
       "    <tr>\n",
       "      <th>408</th>\n",
       "      <td>100.496420</td>\n",
       "      <td>99.788783</td>\n",
       "      <td>99.039379</td>\n",
       "    </tr>\n",
       "    <tr>\n",
       "      <th>415</th>\n",
       "      <td>100.576435</td>\n",
       "      <td>100.503927</td>\n",
       "      <td>100.398187</td>\n",
       "    </tr>\n",
       "    <tr>\n",
       "      <th>510</th>\n",
       "      <td>100.097619</td>\n",
       "      <td>99.671429</td>\n",
       "      <td>100.601190</td>\n",
       "    </tr>\n",
       "  </tbody>\n",
       "</table>\n",
       "</div>"
      ],
      "text/plain": [
       "           Total day calls  Total eve calls  Total night calls\n",
       "Area code                                                     \n",
       "408             100.496420        99.788783          99.039379\n",
       "415             100.576435       100.503927         100.398187\n",
       "510             100.097619        99.671429         100.601190"
      ]
     },
     "execution_count": 27,
     "metadata": {},
     "output_type": "execute_result"
    }
   ],
   "source": [
    "df.pivot_table(\n",
    "    [\"Total day calls\", \"Total eve calls\", \"Total night calls\"],\n",
    "    [\"Area code\"],\n",
    "    aggfunc=\"mean\",\n",
    ")"
   ]
  },
  {
   "cell_type": "markdown",
   "id": "88d9d16b",
   "metadata": {},
   "source": [
    "# Transformasi Datagrame"
   ]
  },
  {
   "cell_type": "markdown",
   "id": "ad43b370",
   "metadata": {},
   "source": [
    "Seperti banyak hal lain di Pandas, menambahkan kolom ke DataFrame dapat dilakukan dengan banyak cara."
   ]
  },
  {
   "cell_type": "markdown",
   "id": "3adb9cb5",
   "metadata": {},
   "source": [
    "Misalnya, jika ingin menghitung jumlah panggilan total untuk semua pengguna, mari kita buat Series total_calls dan tempatkankannya ke dalam DataFrame:"
   ]
  },
  {
   "cell_type": "code",
   "execution_count": 28,
   "id": "661fd071",
   "metadata": {},
   "outputs": [
    {
     "data": {
      "application/vnd.microsoft.datawrangler.viewer.v0+json": {
       "columns": [
        {
         "name": "index",
         "rawType": "int64",
         "type": "integer"
        },
        {
         "name": "State",
         "rawType": "object",
         "type": "string"
        },
        {
         "name": "Account length",
         "rawType": "int64",
         "type": "integer"
        },
        {
         "name": "Area code",
         "rawType": "int64",
         "type": "integer"
        },
        {
         "name": "International plan",
         "rawType": "bool",
         "type": "boolean"
        },
        {
         "name": "Voice mail plan",
         "rawType": "bool",
         "type": "boolean"
        },
        {
         "name": "Number vmail messages",
         "rawType": "int64",
         "type": "integer"
        },
        {
         "name": "Total day minutes",
         "rawType": "float64",
         "type": "float"
        },
        {
         "name": "Total day calls",
         "rawType": "int64",
         "type": "integer"
        },
        {
         "name": "Total day charge",
         "rawType": "float64",
         "type": "float"
        },
        {
         "name": "Total eve minutes",
         "rawType": "float64",
         "type": "float"
        },
        {
         "name": "Total eve calls",
         "rawType": "int64",
         "type": "integer"
        },
        {
         "name": "Total eve charge",
         "rawType": "float64",
         "type": "float"
        },
        {
         "name": "Total night minutes",
         "rawType": "float64",
         "type": "float"
        },
        {
         "name": "Total night calls",
         "rawType": "int64",
         "type": "integer"
        },
        {
         "name": "Total night charge",
         "rawType": "float64",
         "type": "float"
        },
        {
         "name": "Total intl minutes",
         "rawType": "float64",
         "type": "float"
        },
        {
         "name": "Total intl calls",
         "rawType": "int64",
         "type": "integer"
        },
        {
         "name": "Total intl charge",
         "rawType": "float64",
         "type": "float"
        },
        {
         "name": "Customer service calls",
         "rawType": "int64",
         "type": "integer"
        },
        {
         "name": "Churn",
         "rawType": "bool",
         "type": "boolean"
        },
        {
         "name": "churn",
         "rawType": "int64",
         "type": "integer"
        },
        {
         "name": "Total calls",
         "rawType": "int64",
         "type": "integer"
        }
       ],
       "ref": "56b946c0-929d-4d43-9bbe-2243cf6c3aca",
       "rows": [
        [
         "0",
         "KS",
         "128",
         "415",
         "False",
         "True",
         "25",
         "265.1",
         "110",
         "45.07",
         "197.4",
         "99",
         "16.78",
         "244.7",
         "91",
         "11.01",
         "10.0",
         "3",
         "2.7",
         "1",
         "False",
         "0",
         "303"
        ],
        [
         "1",
         "OH",
         "107",
         "415",
         "False",
         "True",
         "26",
         "161.6",
         "123",
         "27.47",
         "195.5",
         "103",
         "16.62",
         "254.4",
         "103",
         "11.45",
         "13.7",
         "3",
         "3.7",
         "1",
         "False",
         "0",
         "332"
        ],
        [
         "2",
         "NJ",
         "137",
         "415",
         "False",
         "False",
         "0",
         "243.4",
         "114",
         "41.38",
         "121.2",
         "110",
         "10.3",
         "162.6",
         "104",
         "7.32",
         "12.2",
         "5",
         "3.29",
         "0",
         "False",
         "0",
         "333"
        ],
        [
         "3",
         "OH",
         "84",
         "408",
         "True",
         "False",
         "0",
         "299.4",
         "71",
         "50.9",
         "61.9",
         "88",
         "5.26",
         "196.9",
         "89",
         "8.86",
         "6.6",
         "7",
         "1.78",
         "2",
         "False",
         "0",
         "255"
        ],
        [
         "4",
         "OK",
         "75",
         "415",
         "True",
         "False",
         "0",
         "166.7",
         "113",
         "28.34",
         "148.3",
         "122",
         "12.61",
         "186.9",
         "121",
         "8.41",
         "10.1",
         "3",
         "2.73",
         "3",
         "False",
         "0",
         "359"
        ]
       ],
       "shape": {
        "columns": 22,
        "rows": 5
       }
      },
      "text/html": [
       "<div>\n",
       "<style scoped>\n",
       "    .dataframe tbody tr th:only-of-type {\n",
       "        vertical-align: middle;\n",
       "    }\n",
       "\n",
       "    .dataframe tbody tr th {\n",
       "        vertical-align: top;\n",
       "    }\n",
       "\n",
       "    .dataframe thead th {\n",
       "        text-align: right;\n",
       "    }\n",
       "</style>\n",
       "<table border=\"1\" class=\"dataframe\">\n",
       "  <thead>\n",
       "    <tr style=\"text-align: right;\">\n",
       "      <th></th>\n",
       "      <th>State</th>\n",
       "      <th>Account length</th>\n",
       "      <th>Area code</th>\n",
       "      <th>International plan</th>\n",
       "      <th>Voice mail plan</th>\n",
       "      <th>Number vmail messages</th>\n",
       "      <th>Total day minutes</th>\n",
       "      <th>Total day calls</th>\n",
       "      <th>Total day charge</th>\n",
       "      <th>Total eve minutes</th>\n",
       "      <th>...</th>\n",
       "      <th>Total night minutes</th>\n",
       "      <th>Total night calls</th>\n",
       "      <th>Total night charge</th>\n",
       "      <th>Total intl minutes</th>\n",
       "      <th>Total intl calls</th>\n",
       "      <th>Total intl charge</th>\n",
       "      <th>Customer service calls</th>\n",
       "      <th>Churn</th>\n",
       "      <th>churn</th>\n",
       "      <th>Total calls</th>\n",
       "    </tr>\n",
       "  </thead>\n",
       "  <tbody>\n",
       "    <tr>\n",
       "      <th>0</th>\n",
       "      <td>KS</td>\n",
       "      <td>128</td>\n",
       "      <td>415</td>\n",
       "      <td>False</td>\n",
       "      <td>True</td>\n",
       "      <td>25</td>\n",
       "      <td>265.1</td>\n",
       "      <td>110</td>\n",
       "      <td>45.07</td>\n",
       "      <td>197.4</td>\n",
       "      <td>...</td>\n",
       "      <td>244.7</td>\n",
       "      <td>91</td>\n",
       "      <td>11.01</td>\n",
       "      <td>10.0</td>\n",
       "      <td>3</td>\n",
       "      <td>2.70</td>\n",
       "      <td>1</td>\n",
       "      <td>False</td>\n",
       "      <td>0</td>\n",
       "      <td>303</td>\n",
       "    </tr>\n",
       "    <tr>\n",
       "      <th>1</th>\n",
       "      <td>OH</td>\n",
       "      <td>107</td>\n",
       "      <td>415</td>\n",
       "      <td>False</td>\n",
       "      <td>True</td>\n",
       "      <td>26</td>\n",
       "      <td>161.6</td>\n",
       "      <td>123</td>\n",
       "      <td>27.47</td>\n",
       "      <td>195.5</td>\n",
       "      <td>...</td>\n",
       "      <td>254.4</td>\n",
       "      <td>103</td>\n",
       "      <td>11.45</td>\n",
       "      <td>13.7</td>\n",
       "      <td>3</td>\n",
       "      <td>3.70</td>\n",
       "      <td>1</td>\n",
       "      <td>False</td>\n",
       "      <td>0</td>\n",
       "      <td>332</td>\n",
       "    </tr>\n",
       "    <tr>\n",
       "      <th>2</th>\n",
       "      <td>NJ</td>\n",
       "      <td>137</td>\n",
       "      <td>415</td>\n",
       "      <td>False</td>\n",
       "      <td>False</td>\n",
       "      <td>0</td>\n",
       "      <td>243.4</td>\n",
       "      <td>114</td>\n",
       "      <td>41.38</td>\n",
       "      <td>121.2</td>\n",
       "      <td>...</td>\n",
       "      <td>162.6</td>\n",
       "      <td>104</td>\n",
       "      <td>7.32</td>\n",
       "      <td>12.2</td>\n",
       "      <td>5</td>\n",
       "      <td>3.29</td>\n",
       "      <td>0</td>\n",
       "      <td>False</td>\n",
       "      <td>0</td>\n",
       "      <td>333</td>\n",
       "    </tr>\n",
       "    <tr>\n",
       "      <th>3</th>\n",
       "      <td>OH</td>\n",
       "      <td>84</td>\n",
       "      <td>408</td>\n",
       "      <td>True</td>\n",
       "      <td>False</td>\n",
       "      <td>0</td>\n",
       "      <td>299.4</td>\n",
       "      <td>71</td>\n",
       "      <td>50.90</td>\n",
       "      <td>61.9</td>\n",
       "      <td>...</td>\n",
       "      <td>196.9</td>\n",
       "      <td>89</td>\n",
       "      <td>8.86</td>\n",
       "      <td>6.6</td>\n",
       "      <td>7</td>\n",
       "      <td>1.78</td>\n",
       "      <td>2</td>\n",
       "      <td>False</td>\n",
       "      <td>0</td>\n",
       "      <td>255</td>\n",
       "    </tr>\n",
       "    <tr>\n",
       "      <th>4</th>\n",
       "      <td>OK</td>\n",
       "      <td>75</td>\n",
       "      <td>415</td>\n",
       "      <td>True</td>\n",
       "      <td>False</td>\n",
       "      <td>0</td>\n",
       "      <td>166.7</td>\n",
       "      <td>113</td>\n",
       "      <td>28.34</td>\n",
       "      <td>148.3</td>\n",
       "      <td>...</td>\n",
       "      <td>186.9</td>\n",
       "      <td>121</td>\n",
       "      <td>8.41</td>\n",
       "      <td>10.1</td>\n",
       "      <td>3</td>\n",
       "      <td>2.73</td>\n",
       "      <td>3</td>\n",
       "      <td>False</td>\n",
       "      <td>0</td>\n",
       "      <td>359</td>\n",
       "    </tr>\n",
       "  </tbody>\n",
       "</table>\n",
       "<p>5 rows × 22 columns</p>\n",
       "</div>"
      ],
      "text/plain": [
       "  State  Account length  Area code  International plan  Voice mail plan  \\\n",
       "0    KS             128        415               False             True   \n",
       "1    OH             107        415               False             True   \n",
       "2    NJ             137        415               False            False   \n",
       "3    OH              84        408                True            False   \n",
       "4    OK              75        415                True            False   \n",
       "\n",
       "   Number vmail messages  Total day minutes  Total day calls  \\\n",
       "0                     25              265.1              110   \n",
       "1                     26              161.6              123   \n",
       "2                      0              243.4              114   \n",
       "3                      0              299.4               71   \n",
       "4                      0              166.7              113   \n",
       "\n",
       "   Total day charge  Total eve minutes  ...  Total night minutes  \\\n",
       "0             45.07              197.4  ...                244.7   \n",
       "1             27.47              195.5  ...                254.4   \n",
       "2             41.38              121.2  ...                162.6   \n",
       "3             50.90               61.9  ...                196.9   \n",
       "4             28.34              148.3  ...                186.9   \n",
       "\n",
       "   Total night calls  Total night charge  Total intl minutes  \\\n",
       "0                 91               11.01                10.0   \n",
       "1                103               11.45                13.7   \n",
       "2                104                7.32                12.2   \n",
       "3                 89                8.86                 6.6   \n",
       "4                121                8.41                10.1   \n",
       "\n",
       "   Total intl calls  Total intl charge  Customer service calls  Churn  churn  \\\n",
       "0                 3               2.70                       1  False      0   \n",
       "1                 3               3.70                       1  False      0   \n",
       "2                 5               3.29                       0  False      0   \n",
       "3                 7               1.78                       2  False      0   \n",
       "4                 3               2.73                       3  False      0   \n",
       "\n",
       "   Total calls  \n",
       "0          303  \n",
       "1          332  \n",
       "2          333  \n",
       "3          255  \n",
       "4          359  \n",
       "\n",
       "[5 rows x 22 columns]"
      ]
     },
     "execution_count": 28,
     "metadata": {},
     "output_type": "execute_result"
    }
   ],
   "source": [
    "total_calls = (\n",
    "    df[\"Total day calls\"]\n",
    "    + df[\"Total eve calls\"]\n",
    "    + df[\"Total night calls\"]\n",
    "    + df[\"Total intl calls\"]\n",
    ")\n",
    "df.insert(loc=len(df.columns), column=\"Total calls\", value=total_calls)\n",
    "# loc parameter is the number of columns after which to insert the Series object\n",
    "# we set it to len(df.columns) to paste it at the very end of the dataframe\n",
    "df.head()"
   ]
  },
  {
   "cell_type": "markdown",
   "id": "5e027bd4",
   "metadata": {},
   "source": [
    "Bisa juga menambahkan kolom dengan lebih mudah tanpa membuat instance Series intermediate:"
   ]
  },
  {
   "cell_type": "code",
   "execution_count": 29,
   "id": "fee80596",
   "metadata": {},
   "outputs": [
    {
     "data": {
      "application/vnd.microsoft.datawrangler.viewer.v0+json": {
       "columns": [
        {
         "name": "index",
         "rawType": "int64",
         "type": "integer"
        },
        {
         "name": "State",
         "rawType": "object",
         "type": "string"
        },
        {
         "name": "Account length",
         "rawType": "int64",
         "type": "integer"
        },
        {
         "name": "Area code",
         "rawType": "int64",
         "type": "integer"
        },
        {
         "name": "International plan",
         "rawType": "bool",
         "type": "boolean"
        },
        {
         "name": "Voice mail plan",
         "rawType": "bool",
         "type": "boolean"
        },
        {
         "name": "Number vmail messages",
         "rawType": "int64",
         "type": "integer"
        },
        {
         "name": "Total day minutes",
         "rawType": "float64",
         "type": "float"
        },
        {
         "name": "Total day calls",
         "rawType": "int64",
         "type": "integer"
        },
        {
         "name": "Total day charge",
         "rawType": "float64",
         "type": "float"
        },
        {
         "name": "Total eve minutes",
         "rawType": "float64",
         "type": "float"
        },
        {
         "name": "Total eve calls",
         "rawType": "int64",
         "type": "integer"
        },
        {
         "name": "Total eve charge",
         "rawType": "float64",
         "type": "float"
        },
        {
         "name": "Total night minutes",
         "rawType": "float64",
         "type": "float"
        },
        {
         "name": "Total night calls",
         "rawType": "int64",
         "type": "integer"
        },
        {
         "name": "Total night charge",
         "rawType": "float64",
         "type": "float"
        },
        {
         "name": "Total intl minutes",
         "rawType": "float64",
         "type": "float"
        },
        {
         "name": "Total intl calls",
         "rawType": "int64",
         "type": "integer"
        },
        {
         "name": "Total intl charge",
         "rawType": "float64",
         "type": "float"
        },
        {
         "name": "Customer service calls",
         "rawType": "int64",
         "type": "integer"
        },
        {
         "name": "Churn",
         "rawType": "bool",
         "type": "boolean"
        },
        {
         "name": "churn",
         "rawType": "int64",
         "type": "integer"
        },
        {
         "name": "Total calls",
         "rawType": "int64",
         "type": "integer"
        },
        {
         "name": "Total charge",
         "rawType": "float64",
         "type": "float"
        }
       ],
       "ref": "37407024-8e7c-42b9-8c92-0e53b17436f1",
       "rows": [
        [
         "0",
         "KS",
         "128",
         "415",
         "False",
         "True",
         "25",
         "265.1",
         "110",
         "45.07",
         "197.4",
         "99",
         "16.78",
         "244.7",
         "91",
         "11.01",
         "10.0",
         "3",
         "2.7",
         "1",
         "False",
         "0",
         "303",
         "75.56"
        ],
        [
         "1",
         "OH",
         "107",
         "415",
         "False",
         "True",
         "26",
         "161.6",
         "123",
         "27.47",
         "195.5",
         "103",
         "16.62",
         "254.4",
         "103",
         "11.45",
         "13.7",
         "3",
         "3.7",
         "1",
         "False",
         "0",
         "332",
         "59.24000000000001"
        ],
        [
         "2",
         "NJ",
         "137",
         "415",
         "False",
         "False",
         "0",
         "243.4",
         "114",
         "41.38",
         "121.2",
         "110",
         "10.3",
         "162.6",
         "104",
         "7.32",
         "12.2",
         "5",
         "3.29",
         "0",
         "False",
         "0",
         "333",
         "62.290000000000006"
        ],
        [
         "3",
         "OH",
         "84",
         "408",
         "True",
         "False",
         "0",
         "299.4",
         "71",
         "50.9",
         "61.9",
         "88",
         "5.26",
         "196.9",
         "89",
         "8.86",
         "6.6",
         "7",
         "1.78",
         "2",
         "False",
         "0",
         "255",
         "66.8"
        ],
        [
         "4",
         "OK",
         "75",
         "415",
         "True",
         "False",
         "0",
         "166.7",
         "113",
         "28.34",
         "148.3",
         "122",
         "12.61",
         "186.9",
         "121",
         "8.41",
         "10.1",
         "3",
         "2.73",
         "3",
         "False",
         "0",
         "359",
         "52.089999999999996"
        ]
       ],
       "shape": {
        "columns": 23,
        "rows": 5
       }
      },
      "text/html": [
       "<div>\n",
       "<style scoped>\n",
       "    .dataframe tbody tr th:only-of-type {\n",
       "        vertical-align: middle;\n",
       "    }\n",
       "\n",
       "    .dataframe tbody tr th {\n",
       "        vertical-align: top;\n",
       "    }\n",
       "\n",
       "    .dataframe thead th {\n",
       "        text-align: right;\n",
       "    }\n",
       "</style>\n",
       "<table border=\"1\" class=\"dataframe\">\n",
       "  <thead>\n",
       "    <tr style=\"text-align: right;\">\n",
       "      <th></th>\n",
       "      <th>State</th>\n",
       "      <th>Account length</th>\n",
       "      <th>Area code</th>\n",
       "      <th>International plan</th>\n",
       "      <th>Voice mail plan</th>\n",
       "      <th>Number vmail messages</th>\n",
       "      <th>Total day minutes</th>\n",
       "      <th>Total day calls</th>\n",
       "      <th>Total day charge</th>\n",
       "      <th>Total eve minutes</th>\n",
       "      <th>...</th>\n",
       "      <th>Total night calls</th>\n",
       "      <th>Total night charge</th>\n",
       "      <th>Total intl minutes</th>\n",
       "      <th>Total intl calls</th>\n",
       "      <th>Total intl charge</th>\n",
       "      <th>Customer service calls</th>\n",
       "      <th>Churn</th>\n",
       "      <th>churn</th>\n",
       "      <th>Total calls</th>\n",
       "      <th>Total charge</th>\n",
       "    </tr>\n",
       "  </thead>\n",
       "  <tbody>\n",
       "    <tr>\n",
       "      <th>0</th>\n",
       "      <td>KS</td>\n",
       "      <td>128</td>\n",
       "      <td>415</td>\n",
       "      <td>False</td>\n",
       "      <td>True</td>\n",
       "      <td>25</td>\n",
       "      <td>265.1</td>\n",
       "      <td>110</td>\n",
       "      <td>45.07</td>\n",
       "      <td>197.4</td>\n",
       "      <td>...</td>\n",
       "      <td>91</td>\n",
       "      <td>11.01</td>\n",
       "      <td>10.0</td>\n",
       "      <td>3</td>\n",
       "      <td>2.70</td>\n",
       "      <td>1</td>\n",
       "      <td>False</td>\n",
       "      <td>0</td>\n",
       "      <td>303</td>\n",
       "      <td>75.56</td>\n",
       "    </tr>\n",
       "    <tr>\n",
       "      <th>1</th>\n",
       "      <td>OH</td>\n",
       "      <td>107</td>\n",
       "      <td>415</td>\n",
       "      <td>False</td>\n",
       "      <td>True</td>\n",
       "      <td>26</td>\n",
       "      <td>161.6</td>\n",
       "      <td>123</td>\n",
       "      <td>27.47</td>\n",
       "      <td>195.5</td>\n",
       "      <td>...</td>\n",
       "      <td>103</td>\n",
       "      <td>11.45</td>\n",
       "      <td>13.7</td>\n",
       "      <td>3</td>\n",
       "      <td>3.70</td>\n",
       "      <td>1</td>\n",
       "      <td>False</td>\n",
       "      <td>0</td>\n",
       "      <td>332</td>\n",
       "      <td>59.24</td>\n",
       "    </tr>\n",
       "    <tr>\n",
       "      <th>2</th>\n",
       "      <td>NJ</td>\n",
       "      <td>137</td>\n",
       "      <td>415</td>\n",
       "      <td>False</td>\n",
       "      <td>False</td>\n",
       "      <td>0</td>\n",
       "      <td>243.4</td>\n",
       "      <td>114</td>\n",
       "      <td>41.38</td>\n",
       "      <td>121.2</td>\n",
       "      <td>...</td>\n",
       "      <td>104</td>\n",
       "      <td>7.32</td>\n",
       "      <td>12.2</td>\n",
       "      <td>5</td>\n",
       "      <td>3.29</td>\n",
       "      <td>0</td>\n",
       "      <td>False</td>\n",
       "      <td>0</td>\n",
       "      <td>333</td>\n",
       "      <td>62.29</td>\n",
       "    </tr>\n",
       "    <tr>\n",
       "      <th>3</th>\n",
       "      <td>OH</td>\n",
       "      <td>84</td>\n",
       "      <td>408</td>\n",
       "      <td>True</td>\n",
       "      <td>False</td>\n",
       "      <td>0</td>\n",
       "      <td>299.4</td>\n",
       "      <td>71</td>\n",
       "      <td>50.90</td>\n",
       "      <td>61.9</td>\n",
       "      <td>...</td>\n",
       "      <td>89</td>\n",
       "      <td>8.86</td>\n",
       "      <td>6.6</td>\n",
       "      <td>7</td>\n",
       "      <td>1.78</td>\n",
       "      <td>2</td>\n",
       "      <td>False</td>\n",
       "      <td>0</td>\n",
       "      <td>255</td>\n",
       "      <td>66.80</td>\n",
       "    </tr>\n",
       "    <tr>\n",
       "      <th>4</th>\n",
       "      <td>OK</td>\n",
       "      <td>75</td>\n",
       "      <td>415</td>\n",
       "      <td>True</td>\n",
       "      <td>False</td>\n",
       "      <td>0</td>\n",
       "      <td>166.7</td>\n",
       "      <td>113</td>\n",
       "      <td>28.34</td>\n",
       "      <td>148.3</td>\n",
       "      <td>...</td>\n",
       "      <td>121</td>\n",
       "      <td>8.41</td>\n",
       "      <td>10.1</td>\n",
       "      <td>3</td>\n",
       "      <td>2.73</td>\n",
       "      <td>3</td>\n",
       "      <td>False</td>\n",
       "      <td>0</td>\n",
       "      <td>359</td>\n",
       "      <td>52.09</td>\n",
       "    </tr>\n",
       "  </tbody>\n",
       "</table>\n",
       "<p>5 rows × 23 columns</p>\n",
       "</div>"
      ],
      "text/plain": [
       "  State  Account length  Area code  International plan  Voice mail plan  \\\n",
       "0    KS             128        415               False             True   \n",
       "1    OH             107        415               False             True   \n",
       "2    NJ             137        415               False            False   \n",
       "3    OH              84        408                True            False   \n",
       "4    OK              75        415                True            False   \n",
       "\n",
       "   Number vmail messages  Total day minutes  Total day calls  \\\n",
       "0                     25              265.1              110   \n",
       "1                     26              161.6              123   \n",
       "2                      0              243.4              114   \n",
       "3                      0              299.4               71   \n",
       "4                      0              166.7              113   \n",
       "\n",
       "   Total day charge  Total eve minutes  ...  Total night calls  \\\n",
       "0             45.07              197.4  ...                 91   \n",
       "1             27.47              195.5  ...                103   \n",
       "2             41.38              121.2  ...                104   \n",
       "3             50.90               61.9  ...                 89   \n",
       "4             28.34              148.3  ...                121   \n",
       "\n",
       "   Total night charge  Total intl minutes  Total intl calls  \\\n",
       "0               11.01                10.0                 3   \n",
       "1               11.45                13.7                 3   \n",
       "2                7.32                12.2                 5   \n",
       "3                8.86                 6.6                 7   \n",
       "4                8.41                10.1                 3   \n",
       "\n",
       "   Total intl charge  Customer service calls  Churn  churn  Total calls  \\\n",
       "0               2.70                       1  False      0          303   \n",
       "1               3.70                       1  False      0          332   \n",
       "2               3.29                       0  False      0          333   \n",
       "3               1.78                       2  False      0          255   \n",
       "4               2.73                       3  False      0          359   \n",
       "\n",
       "   Total charge  \n",
       "0         75.56  \n",
       "1         59.24  \n",
       "2         62.29  \n",
       "3         66.80  \n",
       "4         52.09  \n",
       "\n",
       "[5 rows x 23 columns]"
      ]
     },
     "execution_count": 29,
     "metadata": {},
     "output_type": "execute_result"
    }
   ],
   "source": [
    "df[\"Total charge\"] = (\n",
    "    df[\"Total day charge\"]\n",
    "    + df[\"Total eve charge\"]\n",
    "    + df[\"Total night charge\"]\n",
    "    + df[\"Total intl charge\"]\n",
    ")\n",
    "df.head()"
   ]
  },
  {
   "cell_type": "markdown",
   "id": "37c8e7e9",
   "metadata": {},
   "source": [
    "Untuk menghapus kolom atau baris, gunakan metode drop dengan mengirimkan indeks yang diperlukan dan parameter axis ( 1 jika Anda menghapus kolom, dan tidak apa-apa atau 0 jika Anda menghapus baris). Argument inplace menunjukkan apakah ingin mengubah DataFrame asli. Dengan inplace=False , metode drop tidak mengubah DataFrame yang ada dan mengembalikan DataFrame baru dengan baris atau kolom yang dihapus. Dengan inplace=True , ia mengubah DataFrame."
   ]
  },
  {
   "cell_type": "code",
   "execution_count": 30,
   "id": "1d51f789",
   "metadata": {},
   "outputs": [
    {
     "data": {
      "application/vnd.microsoft.datawrangler.viewer.v0+json": {
       "columns": [
        {
         "name": "index",
         "rawType": "int64",
         "type": "integer"
        },
        {
         "name": "State",
         "rawType": "object",
         "type": "string"
        },
        {
         "name": "Account length",
         "rawType": "int64",
         "type": "integer"
        },
        {
         "name": "Area code",
         "rawType": "int64",
         "type": "integer"
        },
        {
         "name": "International plan",
         "rawType": "bool",
         "type": "boolean"
        },
        {
         "name": "Voice mail plan",
         "rawType": "bool",
         "type": "boolean"
        },
        {
         "name": "Number vmail messages",
         "rawType": "int64",
         "type": "integer"
        },
        {
         "name": "Total day minutes",
         "rawType": "float64",
         "type": "float"
        },
        {
         "name": "Total day calls",
         "rawType": "int64",
         "type": "integer"
        },
        {
         "name": "Total day charge",
         "rawType": "float64",
         "type": "float"
        },
        {
         "name": "Total eve minutes",
         "rawType": "float64",
         "type": "float"
        },
        {
         "name": "Total eve calls",
         "rawType": "int64",
         "type": "integer"
        },
        {
         "name": "Total eve charge",
         "rawType": "float64",
         "type": "float"
        },
        {
         "name": "Total night minutes",
         "rawType": "float64",
         "type": "float"
        },
        {
         "name": "Total night calls",
         "rawType": "int64",
         "type": "integer"
        },
        {
         "name": "Total night charge",
         "rawType": "float64",
         "type": "float"
        },
        {
         "name": "Total intl minutes",
         "rawType": "float64",
         "type": "float"
        },
        {
         "name": "Total intl calls",
         "rawType": "int64",
         "type": "integer"
        },
        {
         "name": "Total intl charge",
         "rawType": "float64",
         "type": "float"
        },
        {
         "name": "Customer service calls",
         "rawType": "int64",
         "type": "integer"
        },
        {
         "name": "Churn",
         "rawType": "bool",
         "type": "boolean"
        },
        {
         "name": "churn",
         "rawType": "int64",
         "type": "integer"
        }
       ],
       "ref": "64b26965-c8a1-45c3-b4f8-a0a20dae412f",
       "rows": [
        [
         "0",
         "KS",
         "128",
         "415",
         "False",
         "True",
         "25",
         "265.1",
         "110",
         "45.07",
         "197.4",
         "99",
         "16.78",
         "244.7",
         "91",
         "11.01",
         "10.0",
         "3",
         "2.7",
         "1",
         "False",
         "0"
        ],
        [
         "3",
         "OH",
         "84",
         "408",
         "True",
         "False",
         "0",
         "299.4",
         "71",
         "50.9",
         "61.9",
         "88",
         "5.26",
         "196.9",
         "89",
         "8.86",
         "6.6",
         "7",
         "1.78",
         "2",
         "False",
         "0"
        ],
        [
         "4",
         "OK",
         "75",
         "415",
         "True",
         "False",
         "0",
         "166.7",
         "113",
         "28.34",
         "148.3",
         "122",
         "12.61",
         "186.9",
         "121",
         "8.41",
         "10.1",
         "3",
         "2.73",
         "3",
         "False",
         "0"
        ],
        [
         "5",
         "AL",
         "118",
         "510",
         "True",
         "False",
         "0",
         "223.4",
         "98",
         "37.98",
         "220.6",
         "101",
         "18.75",
         "203.9",
         "118",
         "9.18",
         "6.3",
         "6",
         "1.7",
         "0",
         "False",
         "0"
        ],
        [
         "6",
         "MA",
         "121",
         "510",
         "False",
         "True",
         "24",
         "218.2",
         "88",
         "37.09",
         "348.5",
         "108",
         "29.62",
         "212.6",
         "118",
         "9.57",
         "7.5",
         "7",
         "2.03",
         "3",
         "False",
         "0"
        ]
       ],
       "shape": {
        "columns": 21,
        "rows": 5
       }
      },
      "text/html": [
       "<div>\n",
       "<style scoped>\n",
       "    .dataframe tbody tr th:only-of-type {\n",
       "        vertical-align: middle;\n",
       "    }\n",
       "\n",
       "    .dataframe tbody tr th {\n",
       "        vertical-align: top;\n",
       "    }\n",
       "\n",
       "    .dataframe thead th {\n",
       "        text-align: right;\n",
       "    }\n",
       "</style>\n",
       "<table border=\"1\" class=\"dataframe\">\n",
       "  <thead>\n",
       "    <tr style=\"text-align: right;\">\n",
       "      <th></th>\n",
       "      <th>State</th>\n",
       "      <th>Account length</th>\n",
       "      <th>Area code</th>\n",
       "      <th>International plan</th>\n",
       "      <th>Voice mail plan</th>\n",
       "      <th>Number vmail messages</th>\n",
       "      <th>Total day minutes</th>\n",
       "      <th>Total day calls</th>\n",
       "      <th>Total day charge</th>\n",
       "      <th>Total eve minutes</th>\n",
       "      <th>...</th>\n",
       "      <th>Total eve charge</th>\n",
       "      <th>Total night minutes</th>\n",
       "      <th>Total night calls</th>\n",
       "      <th>Total night charge</th>\n",
       "      <th>Total intl minutes</th>\n",
       "      <th>Total intl calls</th>\n",
       "      <th>Total intl charge</th>\n",
       "      <th>Customer service calls</th>\n",
       "      <th>Churn</th>\n",
       "      <th>churn</th>\n",
       "    </tr>\n",
       "  </thead>\n",
       "  <tbody>\n",
       "    <tr>\n",
       "      <th>0</th>\n",
       "      <td>KS</td>\n",
       "      <td>128</td>\n",
       "      <td>415</td>\n",
       "      <td>False</td>\n",
       "      <td>True</td>\n",
       "      <td>25</td>\n",
       "      <td>265.1</td>\n",
       "      <td>110</td>\n",
       "      <td>45.07</td>\n",
       "      <td>197.4</td>\n",
       "      <td>...</td>\n",
       "      <td>16.78</td>\n",
       "      <td>244.7</td>\n",
       "      <td>91</td>\n",
       "      <td>11.01</td>\n",
       "      <td>10.0</td>\n",
       "      <td>3</td>\n",
       "      <td>2.70</td>\n",
       "      <td>1</td>\n",
       "      <td>False</td>\n",
       "      <td>0</td>\n",
       "    </tr>\n",
       "    <tr>\n",
       "      <th>3</th>\n",
       "      <td>OH</td>\n",
       "      <td>84</td>\n",
       "      <td>408</td>\n",
       "      <td>True</td>\n",
       "      <td>False</td>\n",
       "      <td>0</td>\n",
       "      <td>299.4</td>\n",
       "      <td>71</td>\n",
       "      <td>50.90</td>\n",
       "      <td>61.9</td>\n",
       "      <td>...</td>\n",
       "      <td>5.26</td>\n",
       "      <td>196.9</td>\n",
       "      <td>89</td>\n",
       "      <td>8.86</td>\n",
       "      <td>6.6</td>\n",
       "      <td>7</td>\n",
       "      <td>1.78</td>\n",
       "      <td>2</td>\n",
       "      <td>False</td>\n",
       "      <td>0</td>\n",
       "    </tr>\n",
       "    <tr>\n",
       "      <th>4</th>\n",
       "      <td>OK</td>\n",
       "      <td>75</td>\n",
       "      <td>415</td>\n",
       "      <td>True</td>\n",
       "      <td>False</td>\n",
       "      <td>0</td>\n",
       "      <td>166.7</td>\n",
       "      <td>113</td>\n",
       "      <td>28.34</td>\n",
       "      <td>148.3</td>\n",
       "      <td>...</td>\n",
       "      <td>12.61</td>\n",
       "      <td>186.9</td>\n",
       "      <td>121</td>\n",
       "      <td>8.41</td>\n",
       "      <td>10.1</td>\n",
       "      <td>3</td>\n",
       "      <td>2.73</td>\n",
       "      <td>3</td>\n",
       "      <td>False</td>\n",
       "      <td>0</td>\n",
       "    </tr>\n",
       "    <tr>\n",
       "      <th>5</th>\n",
       "      <td>AL</td>\n",
       "      <td>118</td>\n",
       "      <td>510</td>\n",
       "      <td>True</td>\n",
       "      <td>False</td>\n",
       "      <td>0</td>\n",
       "      <td>223.4</td>\n",
       "      <td>98</td>\n",
       "      <td>37.98</td>\n",
       "      <td>220.6</td>\n",
       "      <td>...</td>\n",
       "      <td>18.75</td>\n",
       "      <td>203.9</td>\n",
       "      <td>118</td>\n",
       "      <td>9.18</td>\n",
       "      <td>6.3</td>\n",
       "      <td>6</td>\n",
       "      <td>1.70</td>\n",
       "      <td>0</td>\n",
       "      <td>False</td>\n",
       "      <td>0</td>\n",
       "    </tr>\n",
       "    <tr>\n",
       "      <th>6</th>\n",
       "      <td>MA</td>\n",
       "      <td>121</td>\n",
       "      <td>510</td>\n",
       "      <td>False</td>\n",
       "      <td>True</td>\n",
       "      <td>24</td>\n",
       "      <td>218.2</td>\n",
       "      <td>88</td>\n",
       "      <td>37.09</td>\n",
       "      <td>348.5</td>\n",
       "      <td>...</td>\n",
       "      <td>29.62</td>\n",
       "      <td>212.6</td>\n",
       "      <td>118</td>\n",
       "      <td>9.57</td>\n",
       "      <td>7.5</td>\n",
       "      <td>7</td>\n",
       "      <td>2.03</td>\n",
       "      <td>3</td>\n",
       "      <td>False</td>\n",
       "      <td>0</td>\n",
       "    </tr>\n",
       "  </tbody>\n",
       "</table>\n",
       "<p>5 rows × 21 columns</p>\n",
       "</div>"
      ],
      "text/plain": [
       "  State  Account length  Area code  International plan  Voice mail plan  \\\n",
       "0    KS             128        415               False             True   \n",
       "3    OH              84        408                True            False   \n",
       "4    OK              75        415                True            False   \n",
       "5    AL             118        510                True            False   \n",
       "6    MA             121        510               False             True   \n",
       "\n",
       "   Number vmail messages  Total day minutes  Total day calls  \\\n",
       "0                     25              265.1              110   \n",
       "3                      0              299.4               71   \n",
       "4                      0              166.7              113   \n",
       "5                      0              223.4               98   \n",
       "6                     24              218.2               88   \n",
       "\n",
       "   Total day charge  Total eve minutes  ...  Total eve charge  \\\n",
       "0             45.07              197.4  ...             16.78   \n",
       "3             50.90               61.9  ...              5.26   \n",
       "4             28.34              148.3  ...             12.61   \n",
       "5             37.98              220.6  ...             18.75   \n",
       "6             37.09              348.5  ...             29.62   \n",
       "\n",
       "   Total night minutes  Total night calls  Total night charge  \\\n",
       "0                244.7                 91               11.01   \n",
       "3                196.9                 89                8.86   \n",
       "4                186.9                121                8.41   \n",
       "5                203.9                118                9.18   \n",
       "6                212.6                118                9.57   \n",
       "\n",
       "   Total intl minutes  Total intl calls  Total intl charge  \\\n",
       "0                10.0                 3               2.70   \n",
       "3                 6.6                 7               1.78   \n",
       "4                10.1                 3               2.73   \n",
       "5                 6.3                 6               1.70   \n",
       "6                 7.5                 7               2.03   \n",
       "\n",
       "   Customer service calls  Churn  churn  \n",
       "0                       1  False      0  \n",
       "3                       2  False      0  \n",
       "4                       3  False      0  \n",
       "5                       0  False      0  \n",
       "6                       3  False      0  \n",
       "\n",
       "[5 rows x 21 columns]"
      ]
     },
     "execution_count": 30,
     "metadata": {},
     "output_type": "execute_result"
    }
   ],
   "source": [
    "# get rid of just created columns\n",
    "df.drop([\"Total charge\", \"Total calls\"], axis=1, inplace=True)\n",
    "# and here’s how you can delete rows\n",
    "df.drop([1, 2]).head()"
   ]
  },
  {
   "cell_type": "markdown",
   "id": "399319e2",
   "metadata": {},
   "source": [
    "# Memprediksi telecom churn columns"
   ]
  },
  {
   "cell_type": "markdown",
   "id": "9973244f",
   "metadata": {},
   "source": [
    "Lihatlah bagaimana tingkat churn terkait dengan fitur rencana internasional. Kami akan melakukannya menggunakan crosstab tabel ketergantungan dan juga melalui analisis visual dengan Seaborn (namun, analisis visual akan dibahas lebih lanjut di topik berikutnya)."
   ]
  },
  {
   "cell_type": "code",
   "execution_count": 31,
   "id": "1fa4f330",
   "metadata": {},
   "outputs": [
    {
     "data": {
      "application/vnd.microsoft.datawrangler.viewer.v0+json": {
       "columns": [
        {
         "name": "Churn",
         "rawType": "object",
         "type": "unknown"
        },
        {
         "name": "False",
         "rawType": "int64",
         "type": "integer"
        },
        {
         "name": "True",
         "rawType": "int64",
         "type": "integer"
        },
        {
         "name": "All",
         "rawType": "int64",
         "type": "integer"
        }
       ],
       "ref": "874e39ba-dabe-4518-9a8a-92786ce8ee6e",
       "rows": [
        [
         "False",
         "2664",
         "186",
         "2850"
        ],
        [
         "True",
         "346",
         "137",
         "483"
        ],
        [
         "All",
         "3010",
         "323",
         "3333"
        ]
       ],
       "shape": {
        "columns": 3,
        "rows": 3
       }
      },
      "text/html": [
       "<div>\n",
       "<style scoped>\n",
       "    .dataframe tbody tr th:only-of-type {\n",
       "        vertical-align: middle;\n",
       "    }\n",
       "\n",
       "    .dataframe tbody tr th {\n",
       "        vertical-align: top;\n",
       "    }\n",
       "\n",
       "    .dataframe thead th {\n",
       "        text-align: right;\n",
       "    }\n",
       "</style>\n",
       "<table border=\"1\" class=\"dataframe\">\n",
       "  <thead>\n",
       "    <tr style=\"text-align: right;\">\n",
       "      <th>International plan</th>\n",
       "      <th>False</th>\n",
       "      <th>True</th>\n",
       "      <th>All</th>\n",
       "    </tr>\n",
       "    <tr>\n",
       "      <th>Churn</th>\n",
       "      <th></th>\n",
       "      <th></th>\n",
       "      <th></th>\n",
       "    </tr>\n",
       "  </thead>\n",
       "  <tbody>\n",
       "    <tr>\n",
       "      <th>False</th>\n",
       "      <td>2664</td>\n",
       "      <td>186</td>\n",
       "      <td>2850</td>\n",
       "    </tr>\n",
       "    <tr>\n",
       "      <th>True</th>\n",
       "      <td>346</td>\n",
       "      <td>137</td>\n",
       "      <td>483</td>\n",
       "    </tr>\n",
       "    <tr>\n",
       "      <th>All</th>\n",
       "      <td>3010</td>\n",
       "      <td>323</td>\n",
       "      <td>3333</td>\n",
       "    </tr>\n",
       "  </tbody>\n",
       "</table>\n",
       "</div>"
      ],
      "text/plain": [
       "International plan  False  True   All\n",
       "Churn                                \n",
       "False                2664   186  2850\n",
       "True                  346   137   483\n",
       "All                  3010   323  3333"
      ]
     },
     "execution_count": 31,
     "metadata": {},
     "output_type": "execute_result"
    }
   ],
   "source": [
    "pd.crosstab(df[\"Churn\"], df[\"International plan\"], margins=True)"
   ]
  },
  {
   "cell_type": "code",
   "execution_count": 32,
   "id": "83402d84",
   "metadata": {},
   "outputs": [
    {
     "data": {
      "text/plain": [
       "<Axes: xlabel='International plan', ylabel='count'>"
      ]
     },
     "execution_count": 32,
     "metadata": {},
     "output_type": "execute_result"
    },
    {
     "data": {
      "image/png": "[encoded data removed]",
      "text/plain": [
       "<Figure size 640x480 with 1 Axes>"
      ]
     },
     "metadata": {},
     "output_type": "display_data"
    }
   ],
   "source": [
    "sns.countplot(x=\"International plan\", hue=\"Churn\", data=df)"
   ]
  },
  {
   "cell_type": "markdown",
   "id": "11c40ccc",
   "metadata": {},
   "source": [
    "Kami mengamati bahwa tingkat churn secara signifikan lebih tinggi pada Paket Internasional. Ini adalah temuan yang patut dicatat. Mungkin, biaya yang tinggi dan tidak dikelola dengan baik untuk panggilan internasional menyebabkan konflik dan mengakibatkan ketidakpuasan di antara pelanggan operator telekomunikasi."
   ]
  },
  {
   "cell_type": "markdown",
   "id": "ba53abd5",
   "metadata": {},
   "source": [
    "Berikutnya, mari kita lihat fitur penting lainnya – Panggilan layanan pelanggan. Mari kita juga buat tabel ringkasan dan gambar."
   ]
  },
  {
   "cell_type": "code",
   "execution_count": 33,
   "id": "283a122b",
   "metadata": {},
   "outputs": [
    {
     "data": {
      "application/vnd.microsoft.datawrangler.viewer.v0+json": {
       "columns": [
        {
         "name": "Churn",
         "rawType": "object",
         "type": "unknown"
        },
        {
         "name": "0",
         "rawType": "int64",
         "type": "integer"
        },
        {
         "name": "1",
         "rawType": "int64",
         "type": "integer"
        },
        {
         "name": "2",
         "rawType": "int64",
         "type": "integer"
        },
        {
         "name": "3",
         "rawType": "int64",
         "type": "integer"
        },
        {
         "name": "4",
         "rawType": "int64",
         "type": "integer"
        },
        {
         "name": "5",
         "rawType": "int64",
         "type": "integer"
        },
        {
         "name": "6",
         "rawType": "int64",
         "type": "integer"
        },
        {
         "name": "7",
         "rawType": "int64",
         "type": "integer"
        },
        {
         "name": "8",
         "rawType": "int64",
         "type": "integer"
        },
        {
         "name": "9",
         "rawType": "int64",
         "type": "integer"
        },
        {
         "name": "All",
         "rawType": "int64",
         "type": "integer"
        }
       ],
       "ref": "2493c920-b7fa-4c8f-b667-792bbee0e880",
       "rows": [
        [
         "False",
         "605",
         "1059",
         "672",
         "385",
         "90",
         "26",
         "8",
         "4",
         "1",
         "0",
         "2850"
        ],
        [
         "True",
         "92",
         "122",
         "87",
         "44",
         "76",
         "40",
         "14",
         "5",
         "1",
         "2",
         "483"
        ],
        [
         "All",
         "697",
         "1181",
         "759",
         "429",
         "166",
         "66",
         "22",
         "9",
         "2",
         "2",
         "3333"
        ]
       ],
       "shape": {
        "columns": 11,
        "rows": 3
       }
      },
      "text/html": [
       "<div>\n",
       "<style scoped>\n",
       "    .dataframe tbody tr th:only-of-type {\n",
       "        vertical-align: middle;\n",
       "    }\n",
       "\n",
       "    .dataframe tbody tr th {\n",
       "        vertical-align: top;\n",
       "    }\n",
       "\n",
       "    .dataframe thead th {\n",
       "        text-align: right;\n",
       "    }\n",
       "</style>\n",
       "<table border=\"1\" class=\"dataframe\">\n",
       "  <thead>\n",
       "    <tr style=\"text-align: right;\">\n",
       "      <th>Customer service calls</th>\n",
       "      <th>0</th>\n",
       "      <th>1</th>\n",
       "      <th>2</th>\n",
       "      <th>3</th>\n",
       "      <th>4</th>\n",
       "      <th>5</th>\n",
       "      <th>6</th>\n",
       "      <th>7</th>\n",
       "      <th>8</th>\n",
       "      <th>9</th>\n",
       "      <th>All</th>\n",
       "    </tr>\n",
       "    <tr>\n",
       "      <th>Churn</th>\n",
       "      <th></th>\n",
       "      <th></th>\n",
       "      <th></th>\n",
       "      <th></th>\n",
       "      <th></th>\n",
       "      <th></th>\n",
       "      <th></th>\n",
       "      <th></th>\n",
       "      <th></th>\n",
       "      <th></th>\n",
       "      <th></th>\n",
       "    </tr>\n",
       "  </thead>\n",
       "  <tbody>\n",
       "    <tr>\n",
       "      <th>False</th>\n",
       "      <td>605</td>\n",
       "      <td>1059</td>\n",
       "      <td>672</td>\n",
       "      <td>385</td>\n",
       "      <td>90</td>\n",
       "      <td>26</td>\n",
       "      <td>8</td>\n",
       "      <td>4</td>\n",
       "      <td>1</td>\n",
       "      <td>0</td>\n",
       "      <td>2850</td>\n",
       "    </tr>\n",
       "    <tr>\n",
       "      <th>True</th>\n",
       "      <td>92</td>\n",
       "      <td>122</td>\n",
       "      <td>87</td>\n",
       "      <td>44</td>\n",
       "      <td>76</td>\n",
       "      <td>40</td>\n",
       "      <td>14</td>\n",
       "      <td>5</td>\n",
       "      <td>1</td>\n",
       "      <td>2</td>\n",
       "      <td>483</td>\n",
       "    </tr>\n",
       "    <tr>\n",
       "      <th>All</th>\n",
       "      <td>697</td>\n",
       "      <td>1181</td>\n",
       "      <td>759</td>\n",
       "      <td>429</td>\n",
       "      <td>166</td>\n",
       "      <td>66</td>\n",
       "      <td>22</td>\n",
       "      <td>9</td>\n",
       "      <td>2</td>\n",
       "      <td>2</td>\n",
       "      <td>3333</td>\n",
       "    </tr>\n",
       "  </tbody>\n",
       "</table>\n",
       "</div>"
      ],
      "text/plain": [
       "Customer service calls    0     1    2    3    4   5   6  7  8  9   All\n",
       "Churn                                                                  \n",
       "False                   605  1059  672  385   90  26   8  4  1  0  2850\n",
       "True                     92   122   87   44   76  40  14  5  1  2   483\n",
       "All                     697  1181  759  429  166  66  22  9  2  2  3333"
      ]
     },
     "execution_count": 33,
     "metadata": {},
     "output_type": "execute_result"
    }
   ],
   "source": [
    "pd.crosstab(df[\"Churn\"], df[\"Customer service calls\"], margins=True)"
   ]
  },
  {
   "cell_type": "code",
   "execution_count": 34,
   "id": "2a9318c3",
   "metadata": {},
   "outputs": [
    {
     "data": {
      "image/png": "[encoded data removed]",
      "text/plain": [
       "<Figure size 640x480 with 1 Axes>"
      ]
     },
     "metadata": {},
     "output_type": "display_data"
    }
   ],
   "source": [
    "sns.countplot(x=\"Customer service calls\", hue=\"Churn\", data=df);"
   ]
  },
  {
   "cell_type": "markdown",
   "id": "18406c2a",
   "metadata": {},
   "source": [
    "Meskipun tidak terlihat jelas dari tabel ringkasan, dari plot di atas mudah untuk dilihat bahwa tingkat churn meningkat tajam dari 4 panggilan layanan pelanggan dan di atas."
   ]
  },
  {
   "cell_type": "markdown",
   "id": "d9b9daef",
   "metadata": {},
   "source": [
    "Sekarang mari kita tambahkan fitur biner ke DataFrame kami – Customer service calls > 3 . Dan sekali lagi, mari kita lihat bagaimana hubungannya dengan churn."
   ]
  },
  {
   "cell_type": "code",
   "execution_count": 35,
   "id": "e95e7211",
   "metadata": {},
   "outputs": [
    {
     "data": {
      "application/vnd.microsoft.datawrangler.viewer.v0+json": {
       "columns": [
        {
         "name": "Many_service_calls",
         "rawType": "object",
         "type": "unknown"
        },
        {
         "name": "False",
         "rawType": "int64",
         "type": "integer"
        },
        {
         "name": "True",
         "rawType": "int64",
         "type": "integer"
        },
        {
         "name": "All",
         "rawType": "int64",
         "type": "integer"
        }
       ],
       "ref": "154d8961-2292-4174-9893-15f14f4bf44a",
       "rows": [
        [
         "0",
         "2721",
         "345",
         "3066"
        ],
        [
         "1",
         "129",
         "138",
         "267"
        ],
        [
         "All",
         "2850",
         "483",
         "3333"
        ]
       ],
       "shape": {
        "columns": 3,
        "rows": 3
       }
      },
      "text/html": [
       "<div>\n",
       "<style scoped>\n",
       "    .dataframe tbody tr th:only-of-type {\n",
       "        vertical-align: middle;\n",
       "    }\n",
       "\n",
       "    .dataframe tbody tr th {\n",
       "        vertical-align: top;\n",
       "    }\n",
       "\n",
       "    .dataframe thead th {\n",
       "        text-align: right;\n",
       "    }\n",
       "</style>\n",
       "<table border=\"1\" class=\"dataframe\">\n",
       "  <thead>\n",
       "    <tr style=\"text-align: right;\">\n",
       "      <th>Churn</th>\n",
       "      <th>False</th>\n",
       "      <th>True</th>\n",
       "      <th>All</th>\n",
       "    </tr>\n",
       "    <tr>\n",
       "      <th>Many_service_calls</th>\n",
       "      <th></th>\n",
       "      <th></th>\n",
       "      <th></th>\n",
       "    </tr>\n",
       "  </thead>\n",
       "  <tbody>\n",
       "    <tr>\n",
       "      <th>0</th>\n",
       "      <td>2721</td>\n",
       "      <td>345</td>\n",
       "      <td>3066</td>\n",
       "    </tr>\n",
       "    <tr>\n",
       "      <th>1</th>\n",
       "      <td>129</td>\n",
       "      <td>138</td>\n",
       "      <td>267</td>\n",
       "    </tr>\n",
       "    <tr>\n",
       "      <th>All</th>\n",
       "      <td>2850</td>\n",
       "      <td>483</td>\n",
       "      <td>3333</td>\n",
       "    </tr>\n",
       "  </tbody>\n",
       "</table>\n",
       "</div>"
      ],
      "text/plain": [
       "Churn               False  True   All\n",
       "Many_service_calls                   \n",
       "0                    2721   345  3066\n",
       "1                     129   138   267\n",
       "All                  2850   483  3333"
      ]
     },
     "execution_count": 35,
     "metadata": {},
     "output_type": "execute_result"
    }
   ],
   "source": [
    "df[\"Many_service_calls\"] = (df[\"Customer service calls\"] > 3).astype(\"int\")\n",
    "\n",
    "pd.crosstab(df[\"Many_service_calls\"], df[\"Churn\"], margins=True)"
   ]
  },
  {
   "cell_type": "code",
   "execution_count": 36,
   "id": "c6ec8ca7",
   "metadata": {},
   "outputs": [
    {
     "data": {
      "text/plain": [
       "<Axes: xlabel='Many_service_calls', ylabel='count'>"
      ]
     },
     "execution_count": 36,
     "metadata": {},
     "output_type": "execute_result"
    },
    {
     "data": {
      "image/png": "[encoded data removed]",
      "text/plain": [
       "<Figure size 640x480 with 1 Axes>"
      ]
     },
     "metadata": {},
     "output_type": "display_data"
    }
   ],
   "source": [
    "sns.countplot(x=\"Many_service_calls\", hue=\"Churn\", data=df)"
   ]
  },
  {
   "cell_type": "markdown",
   "id": "dce9a739",
   "metadata": {},
   "source": [
    "Mari kita buat tabel kontingensi lain yang menghubungkan Churn dengan paket Internasional dan fitur Many_service_calls yang baru saja dibuat."
   ]
  },
  {
   "cell_type": "code",
   "execution_count": 37,
   "id": "3e8e926b",
   "metadata": {},
   "outputs": [
    {
     "data": {
      "application/vnd.microsoft.datawrangler.viewer.v0+json": {
       "columns": [
        {
         "name": "row_0",
         "rawType": "object",
         "type": "unknown"
        },
        {
         "name": "False",
         "rawType": "int64",
         "type": "integer"
        },
        {
         "name": "True",
         "rawType": "int64",
         "type": "integer"
        },
        {
         "name": "All",
         "rawType": "int64",
         "type": "integer"
        }
       ],
       "ref": "750b3b78-6bfd-4ae8-9c97-0b852007ef68",
       "rows": [
        [
         "False",
         "2841",
         "464",
         "3305"
        ],
        [
         "True",
         "9",
         "19",
         "28"
        ],
        [
         "All",
         "2850",
         "483",
         "3333"
        ]
       ],
       "shape": {
        "columns": 3,
        "rows": 3
       }
      },
      "text/html": [
       "<div>\n",
       "<style scoped>\n",
       "    .dataframe tbody tr th:only-of-type {\n",
       "        vertical-align: middle;\n",
       "    }\n",
       "\n",
       "    .dataframe tbody tr th {\n",
       "        vertical-align: top;\n",
       "    }\n",
       "\n",
       "    .dataframe thead th {\n",
       "        text-align: right;\n",
       "    }\n",
       "</style>\n",
       "<table border=\"1\" class=\"dataframe\">\n",
       "  <thead>\n",
       "    <tr style=\"text-align: right;\">\n",
       "      <th>Churn</th>\n",
       "      <th>False</th>\n",
       "      <th>True</th>\n",
       "      <th>All</th>\n",
       "    </tr>\n",
       "    <tr>\n",
       "      <th>row_0</th>\n",
       "      <th></th>\n",
       "      <th></th>\n",
       "      <th></th>\n",
       "    </tr>\n",
       "  </thead>\n",
       "  <tbody>\n",
       "    <tr>\n",
       "      <th>False</th>\n",
       "      <td>2841</td>\n",
       "      <td>464</td>\n",
       "      <td>3305</td>\n",
       "    </tr>\n",
       "    <tr>\n",
       "      <th>True</th>\n",
       "      <td>9</td>\n",
       "      <td>19</td>\n",
       "      <td>28</td>\n",
       "    </tr>\n",
       "    <tr>\n",
       "      <th>All</th>\n",
       "      <td>2850</td>\n",
       "      <td>483</td>\n",
       "      <td>3333</td>\n",
       "    </tr>\n",
       "  </tbody>\n",
       "</table>\n",
       "</div>"
      ],
      "text/plain": [
       "Churn  False  True   All\n",
       "row_0                   \n",
       "False   2841   464  3305\n",
       "True       9    19    28\n",
       "All     2850   483  3333"
      ]
     },
     "execution_count": 37,
     "metadata": {},
     "output_type": "execute_result"
    }
   ],
   "source": [
    "pd.crosstab(df[\"Many_service_calls\"] & df[\"International plan\"], df[\"Churn\"], margins=True)"
   ]
  },
  {
   "cell_type": "code",
   "execution_count": 41,
   "id": "133297b3",
   "metadata": {},
   "outputs": [
    {
     "data": {
      "text/plain": [
       "<Figure size 800x800 with 0 Axes>"
      ]
     },
     "metadata": {},
     "output_type": "display_data"
    },
    {
     "data": {
      "image/png": "[encoded data removed]",
      "text/plain": [
       "<Figure size 640x480 with 20 Axes>"
      ]
     },
     "metadata": {},
     "output_type": "display_data"
    }
   ],
   "source": [
    "plt.figure(figsize=(8, 8))\n",
    "df.hist();"
   ]
  },
  {
   "cell_type": "markdown",
   "id": "33f25436",
   "metadata": {},
   "source": [
    "Oleh karena itu, dengan memprediksi bahwa pelanggan tidak akan setia (Churn=1) jika mereka telah membuat lebih dari 3 panggilan ke pusat layanan AND telah menambahkan Rencana Internasional, dan memprediksi Churn=0 lainnya (dan “lainnya” di sini berarti negasi, yaitu Many_service_calls <= 3 ATAU Rencana Internasional tidak ditambahkan), kita berharap akurasi sebesar 85.8% (kami hanya akan salah 464 + 9 kali, lihat tabel ketergantungan di atas; dan ). Akurasi ini 85.8%, yang diperoleh melalui pemikiran yang sangat sederhana, menjadi titik awal yang bermanfaat (baseline) untuk pengembangan model machine learning di masa depan."
   ]
  },
  {
   "cell_type": "markdown",
   "id": "6bca5271",
   "metadata": {},
   "source": [
    "Seiring kita melanjutkan pelajaran ini, ingatlah bahwa, sebelum munculnya machine learning, proses analisis data tampak seperti ini. Mari kita ulas apa yang telah kita cover:"
   ]
  },
  {
   "cell_type": "markdown",
   "id": "5b1f386e",
   "metadata": {},
   "source": [
    "Bagian loyal clients dalam dataset adalah 85.5%. Model yang paling sederhana yang selalu memprediksi “customer loyal” pada data semacam ini akan benar dalam sekitar 85.5% dari semua kasus. Artinya, proporsi jawaban yang benar (akurasi) dari model berikutnya seharusnya tidak kurang dari angka ini, dan diharapkan jauh lebih tinggi;\n",
    "\n"
   ]
  },
  {
   "cell_type": "markdown",
   "id": "8957e809",
   "metadata": {},
   "source": [
    "Dengan bantuan prediksi sederhana yang dapat ditulis dalam rumus berikut: International plan = True & Customer Service calls > 3 => Churn = 1, else Churn = 0 , kita dapat mengharapkan tingkat tebakan sebesar 85.8%, yang sedikit di atas 85.5%. Selanjutnya, kita akan membahas pohon keputusan dan memahami cara menemukan aturan semacam secara otomatis hanya berdasarkan data input;"
   ]
  },
  {
   "cell_type": "markdown",
   "id": "4af14d29",
   "metadata": {},
   "source": [
    "Kita mendapatkan dua batas dasar ini tanpa menerapkan machine learning, dan mereka akan menjadi titik awal untuk model berikutnya. Jika ternyata dengan usaha yang sangat besar, kita hanya meningkatkan akurasi hanya 0.5%, misalnya, kemungkinan besar kita sedang melakukan sesuatu yang salah, dan cukup hanya menggunakan model sederhana “if-else” dengan dua kondisi;"
   ]
  },
  {
   "cell_type": "markdown",
   "id": "74fddf61",
   "metadata": {},
   "source": [
    "Sebelum melatih model kompleks, disarankan untuk mengolah data sedikit, membuat beberapa plot, dan memeriksa asumsi sederhana. Selain itu, dalam aplikasi kebisnisan machine learning, mereka biasanya dimulai dengan solusi sederhana lalu eksperimen dengan yang lebih kompleks."
   ]
  }
 ],
 "metadata": {
  "kernelspec": {
   "display_name": "Python 3",
   "language": "python",
   "name": "python3"
  },
  "language_info": {
   "codemirror_mode": {
    "name": "ipython",
    "version": 3
   },
   "file_extension": ".py",
   "mimetype": "text/x-python",
   "name": "python",
   "nbconvert_exporter": "python",
   "pygments_lexer": "ipython3",
   "version": "3.12.7"
  }
 },
 "nbformat": 4,
 "nbformat_minor": 5
}
