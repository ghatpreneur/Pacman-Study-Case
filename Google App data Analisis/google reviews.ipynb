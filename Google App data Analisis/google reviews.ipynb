{
 "cells": [
  {
   "cell_type": "code",
   "execution_count": 1,
   "id": "75e87607",
   "metadata": {},
   "outputs": [],
   "source": [
    "import pandas as pd\n",
    "import matplotlib.pyplot as plt\n",
    "import numpy as np\n",
    "import seaborn as sns"
   ]
  },
  {
   "cell_type": "code",
   "execution_count": 4,
   "id": "32fc9028",
   "metadata": {},
   "outputs": [],
   "source": [
    "reviews = pd.read_csv('googleplaystore_user_reviews.csv')"
   ]
  },
  {
   "cell_type": "code",
   "execution_count": 5,
   "id": "a571feee",
   "metadata": {},
   "outputs": [
    {
     "data": {
      "application/vnd.microsoft.datawrangler.viewer.v0+json": {
       "columns": [
        {
         "name": "index",
         "rawType": "int64",
         "type": "integer"
        },
        {
         "name": "App",
         "rawType": "object",
         "type": "string"
        },
        {
         "name": "Translated_Review",
         "rawType": "object",
         "type": "unknown"
        },
        {
         "name": "Sentiment",
         "rawType": "object",
         "type": "unknown"
        },
        {
         "name": "Sentiment_Polarity",
         "rawType": "float64",
         "type": "float"
        },
        {
         "name": "Sentiment_Subjectivity",
         "rawType": "float64",
         "type": "float"
        }
       ],
       "ref": "8c62c1b8-8832-4489-9a73-cf2e67afbcce",
       "rows": [
        [
         "0",
         "10 Best Foods for You",
         "I like eat delicious food. That's I'm cooking food myself, case \"10 Best Foods\" helps lot, also \"Best Before (Shelf Life)\"",
         "Positive",
         "1.0",
         "0.5333333333333333"
        ],
        [
         "1",
         "10 Best Foods for You",
         "This help eating healthy exercise regular basis",
         "Positive",
         "0.25",
         "0.2884615384615384"
        ],
        [
         "2",
         "10 Best Foods for You",
         null,
         null,
         null,
         null
        ],
        [
         "3",
         "10 Best Foods for You",
         "Works great especially going grocery store",
         "Positive",
         "0.4",
         "0.875"
        ],
        [
         "4",
         "10 Best Foods for You",
         "Best idea us",
         "Positive",
         "1.0",
         "0.3"
        ]
       ],
       "shape": {
        "columns": 5,
        "rows": 5
       }
      },
      "text/html": [
       "<div>\n",
       "<style scoped>\n",
       "    .dataframe tbody tr th:only-of-type {\n",
       "        vertical-align: middle;\n",
       "    }\n",
       "\n",
       "    .dataframe tbody tr th {\n",
       "        vertical-align: top;\n",
       "    }\n",
       "\n",
       "    .dataframe thead th {\n",
       "        text-align: right;\n",
       "    }\n",
       "</style>\n",
       "<table border=\"1\" class=\"dataframe\">\n",
       "  <thead>\n",
       "    <tr style=\"text-align: right;\">\n",
       "      <th></th>\n",
       "      <th>App</th>\n",
       "      <th>Translated_Review</th>\n",
       "      <th>Sentiment</th>\n",
       "      <th>Sentiment_Polarity</th>\n",
       "      <th>Sentiment_Subjectivity</th>\n",
       "    </tr>\n",
       "  </thead>\n",
       "  <tbody>\n",
       "    <tr>\n",
       "      <th>0</th>\n",
       "      <td>10 Best Foods for You</td>\n",
       "      <td>I like eat delicious food. That's I'm cooking ...</td>\n",
       "      <td>Positive</td>\n",
       "      <td>1.00</td>\n",
       "      <td>0.533333</td>\n",
       "    </tr>\n",
       "    <tr>\n",
       "      <th>1</th>\n",
       "      <td>10 Best Foods for You</td>\n",
       "      <td>This help eating healthy exercise regular basis</td>\n",
       "      <td>Positive</td>\n",
       "      <td>0.25</td>\n",
       "      <td>0.288462</td>\n",
       "    </tr>\n",
       "    <tr>\n",
       "      <th>2</th>\n",
       "      <td>10 Best Foods for You</td>\n",
       "      <td>NaN</td>\n",
       "      <td>NaN</td>\n",
       "      <td>NaN</td>\n",
       "      <td>NaN</td>\n",
       "    </tr>\n",
       "    <tr>\n",
       "      <th>3</th>\n",
       "      <td>10 Best Foods for You</td>\n",
       "      <td>Works great especially going grocery store</td>\n",
       "      <td>Positive</td>\n",
       "      <td>0.40</td>\n",
       "      <td>0.875000</td>\n",
       "    </tr>\n",
       "    <tr>\n",
       "      <th>4</th>\n",
       "      <td>10 Best Foods for You</td>\n",
       "      <td>Best idea us</td>\n",
       "      <td>Positive</td>\n",
       "      <td>1.00</td>\n",
       "      <td>0.300000</td>\n",
       "    </tr>\n",
       "  </tbody>\n",
       "</table>\n",
       "</div>"
      ],
      "text/plain": [
       "                     App                                  Translated_Review  \\\n",
       "0  10 Best Foods for You  I like eat delicious food. That's I'm cooking ...   \n",
       "1  10 Best Foods for You    This help eating healthy exercise regular basis   \n",
       "2  10 Best Foods for You                                                NaN   \n",
       "3  10 Best Foods for You         Works great especially going grocery store   \n",
       "4  10 Best Foods for You                                       Best idea us   \n",
       "\n",
       "  Sentiment  Sentiment_Polarity  Sentiment_Subjectivity  \n",
       "0  Positive                1.00                0.533333  \n",
       "1  Positive                0.25                0.288462  \n",
       "2       NaN                 NaN                     NaN  \n",
       "3  Positive                0.40                0.875000  \n",
       "4  Positive                1.00                0.300000  "
      ]
     },
     "execution_count": 5,
     "metadata": {},
     "output_type": "execute_result"
    }
   ],
   "source": [
    "reviews.head()"
   ]
  },
  {
   "cell_type": "code",
   "execution_count": 12,
   "id": "ac573f65",
   "metadata": {},
   "outputs": [
    {
     "data": {
      "text/plain": [
       "0"
      ]
     },
     "execution_count": 12,
     "metadata": {},
     "output_type": "execute_result"
    }
   ],
   "source": [
    "reviews.duplicated().sum()"
   ]
  },
  {
   "cell_type": "code",
   "execution_count": 7,
   "id": "2f0d4596",
   "metadata": {},
   "outputs": [
    {
     "name": "stdout",
     "output_type": "stream",
     "text": [
      "<class 'pandas.core.frame.DataFrame'>\n",
      "RangeIndex: 64295 entries, 0 to 64294\n",
      "Data columns (total 5 columns):\n",
      " #   Column                  Non-Null Count  Dtype  \n",
      "---  ------                  --------------  -----  \n",
      " 0   App                     64295 non-null  object \n",
      " 1   Translated_Review       37427 non-null  object \n",
      " 2   Sentiment               37432 non-null  object \n",
      " 3   Sentiment_Polarity      37432 non-null  float64\n",
      " 4   Sentiment_Subjectivity  37432 non-null  float64\n",
      "dtypes: float64(2), object(3)\n",
      "memory usage: 2.5+ MB\n"
     ]
    }
   ],
   "source": [
    "reviews.info()"
   ]
  },
  {
   "cell_type": "code",
   "execution_count": 8,
   "id": "fea75ace",
   "metadata": {},
   "outputs": [
    {
     "data": {
      "application/vnd.microsoft.datawrangler.viewer.v0+json": {
       "columns": [
        {
         "name": "index",
         "rawType": "object",
         "type": "string"
        },
        {
         "name": "0",
         "rawType": "int64",
         "type": "integer"
        }
       ],
       "ref": "3422c780-6b6f-4834-b80f-28b6a0d33994",
       "rows": [
        [
         "App",
         "0"
        ],
        [
         "Translated_Review",
         "26868"
        ],
        [
         "Sentiment",
         "26863"
        ],
        [
         "Sentiment_Polarity",
         "26863"
        ],
        [
         "Sentiment_Subjectivity",
         "26863"
        ]
       ],
       "shape": {
        "columns": 1,
        "rows": 5
       }
      },
      "text/plain": [
       "App                           0\n",
       "Translated_Review         26868\n",
       "Sentiment                 26863\n",
       "Sentiment_Polarity        26863\n",
       "Sentiment_Subjectivity    26863\n",
       "dtype: int64"
      ]
     },
     "execution_count": 8,
     "metadata": {},
     "output_type": "execute_result"
    }
   ],
   "source": [
    "reviews.isnull().sum()"
   ]
  },
  {
   "cell_type": "code",
   "execution_count": 11,
   "id": "ec61ba7d",
   "metadata": {},
   "outputs": [],
   "source": [
    "reviews.drop_duplicates(inplace=True)"
   ]
  },
  {
   "cell_type": "code",
   "execution_count": 17,
   "id": "0bf6f27a",
   "metadata": {},
   "outputs": [
    {
     "data": {
      "text/plain": [
       "array(['10 Best Foods for You', '104 找工作 - 找工作 找打工 找兼職 履歷健檢 履歷診療室',\n",
       "       '11st', ..., 'Hotwire Hotel & Car Rental App',\n",
       "       'Housing-Real Estate & Property', 'Houzz Interior Design Ideas'],\n",
       "      dtype=object)"
      ]
     },
     "execution_count": 17,
     "metadata": {},
     "output_type": "execute_result"
    }
   ],
   "source": [
    "reviews['App'].unique()"
   ]
  },
  {
   "cell_type": "code",
   "execution_count": 21,
   "id": "d6f3d2f4",
   "metadata": {},
   "outputs": [
    {
     "data": {
      "application/vnd.microsoft.datawrangler.viewer.v0+json": {
       "columns": [
        {
         "name": "Sentiment_Polarity",
         "rawType": "float64",
         "type": "float"
        },
        {
         "name": "count",
         "rawType": "int64",
         "type": "integer"
        }
       ],
       "ref": "2cc24ec8-cd67-4a52-894e-fd9be27e1569",
       "rows": [
        [
         "0.0",
         "4361"
        ],
        [
         "0.5",
         "1275"
        ],
        [
         "1.0",
         "814"
        ],
        [
         "0.7",
         "779"
        ],
        [
         "0.8",
         "525"
        ],
        [
         "0.6",
         "506"
        ],
        [
         "0.2",
         "498"
        ],
        [
         "0.3",
         "464"
        ],
        [
         "0.25",
         "383"
        ],
        [
         "0.4",
         "376"
        ],
        [
         "0.35",
         "372"
        ],
        [
         "-0.5",
         "289"
        ],
        [
         "0.1",
         "269"
        ],
        [
         "-0.4",
         "245"
        ],
        [
         "0.4333333333333333",
         "217"
        ],
        [
         "-0.2",
         "206"
        ],
        [
         "-1.0",
         "190"
        ],
        [
         "-0.3",
         "184"
        ],
        [
         "-0.25",
         "183"
        ],
        [
         "0.15",
         "177"
        ],
        [
         "-0.1",
         "163"
        ],
        [
         "0.1666666666666666",
         "156"
        ],
        [
         "-0.05",
         "153"
        ],
        [
         "0.0499999999999999",
         "153"
        ],
        [
         "0.55",
         "152"
        ],
        [
         "0.3333333333333333",
         "152"
        ],
        [
         "0.75",
         "137"
        ],
        [
         "0.0999999999999999",
         "134"
        ],
        [
         "0.625",
         "126"
        ],
        [
         "0.375",
         "126"
        ],
        [
         "-0.15",
         "116"
        ],
        [
         "0.91",
         "110"
        ],
        [
         "0.2666666666666666",
         "108"
        ],
        [
         "0.2333333333333333",
         "107"
        ],
        [
         "0.125",
         "100"
        ],
        [
         "-0.8",
         "100"
        ],
        [
         "0.65",
         "99"
        ],
        [
         "0.1363636363636363",
         "98"
        ],
        [
         "-0.1666666666666666",
         "98"
        ],
        [
         "0.3999999999999999",
         "97"
        ],
        [
         "0.1999999999999999",
         "95"
        ],
        [
         "0.175",
         "91"
        ],
        [
         "0.0333333333333333",
         "91"
        ],
        [
         "0.45",
         "89"
        ],
        [
         "0.3666666666666667",
         "88"
        ],
        [
         "0.1333333333333333",
         "87"
        ],
        [
         "0.05",
         "85"
        ],
        [
         "0.6000000000000001",
         "85"
        ],
        [
         "0.0666666666666666",
         "82"
        ],
        [
         "-0.125",
         "79"
        ]
       ],
       "shape": {
        "columns": 1,
        "rows": 5410
       }
      },
      "text/plain": [
       "Sentiment_Polarity\n",
       "0.000000    4361\n",
       "0.500000    1275\n",
       "1.000000     814\n",
       "0.700000     779\n",
       "0.800000     525\n",
       "            ... \n",
       "0.005892       1\n",
       "0.147457       1\n",
       "0.493750       1\n",
       "0.194643       1\n",
       "0.173333       1\n",
       "Name: count, Length: 5410, dtype: int64"
      ]
     },
     "execution_count": 21,
     "metadata": {},
     "output_type": "execute_result"
    }
   ],
   "source": [
    "reviews['Sentiment_Polarity'].value_counts()"
   ]
  },
  {
   "cell_type": "code",
   "execution_count": null,
   "id": "2015c1ea",
   "metadata": {},
   "outputs": [],
   "source": []
  }
 ],
 "metadata": {
  "kernelspec": {
   "display_name": "Python 3",
   "language": "python",
   "name": "python3"
  },
  "language_info": {
   "codemirror_mode": {
    "name": "ipython",
    "version": 3
   },
   "file_extension": ".py",
   "mimetype": "text/x-python",
   "name": "python",
   "nbconvert_exporter": "python",
   "pygments_lexer": "ipython3",
   "version": "3.12.7"
  }
 },
 "nbformat": 4,
 "nbformat_minor": 5
}
