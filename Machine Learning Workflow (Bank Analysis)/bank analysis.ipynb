{
 "cells": [
  {
   "cell_type": "markdown",
   "id": "fb86fe11",
   "metadata": {},
   "source": [
    "# **Machine Learning Workflow**\n",
    "---\n",
    "> Introduction to Machine Learning <br>\n",
    "> Sekolah Data, Pacmann"
   ]
  },
  {
   "cell_type": "markdown",
   "id": "2c11028c",
   "metadata": {},
   "source": [
    "## **Machine Learning with Scikit-Learn is Easy**\n",
    "---\n",
    "\n",
    "<center>\n",
    "<img src=\"https://img.ifunny.co/images/1f58ab4c0a13ce4b916aa56838792ea21938849394e9a0b309fffbe69e9dce21_1.jpg\">\n",
    "</center>\n"
   ]
  },
  {
   "cell_type": "markdown",
   "id": "ed5a4fb7",
   "metadata": {},
   "source": [
    "## **Machine Learning Workflow** (Simplified)\n",
    "---\n",
    "\n",
    "### 1. <font color='blue'> Importing Data to Python</font> \n",
    "    * Drop Duplicates \n",
    "### 2. <font color='blue'> Data Preprocessing:</font> \n",
    "    * Input-Output Split, Train-Test Split\n",
    "    * Imputation, Processing Categorical, Normalization \n",
    "### 3. <font color='blue'> Training Machine Learning:</font> \n",
    "    * Choose Score to optimize and Hyperparameter Space"
   ]
  },
  {
   "cell_type": "markdown",
   "id": "b22bce2a",
   "metadata": {},
   "source": [
    "## **Bank Analysis**\n",
    "---\n",
    "\n",
    "- Task : Classification\n",
    "- Objective : Prediksi client bank yang berlangganan term deposit\n",
    "\n",
    "<br>\n",
    "\n",
    "<center>\n",
    "<img src=\"https://keralagbank.com/public/images/inner/personal/term-deposit.png\">\n",
    "</center>"
   ]
  },
  {
   "cell_type": "markdown",
   "id": "e7792e71",
   "metadata": {},
   "source": [
    "### **Data description:**\n",
    "\n",
    "**Bank Client Data**:\n",
    "\n",
    "- `age` (numeric)\n",
    "- `job` : type of job (categorical: \"admin.\", \"unknown\", \"unemployed\", \"management\", \"housemaid\", \"entrepreneur\", \"student\", \"blue-collar\", \"self-employed\", \"retired\", \"technician\", \"services\")\n",
    "- `marital` : marital status (categorical: \"married\", \"divorced\", \"single\"; note: \"divorced\" means divorced or widowed)\n",
    "- `education` (categorical: \"unknown\", \"secondary\", \"primary\", \"tertiary\")\n",
    "- `default`: has credit in default? (binary: \"yes\", \"no\")\n",
    "- `balance`: average yearly balance, in euros (numeric)\n",
    "- `housing`: has housing loan? (binary: \"yes\", \"no\")\n",
    "- `loan`: has personal loan? (binary: \"yes\", \"no\")\n",
    "\n",
    "<br>\n",
    "\n",
    "**Kondisi komunikasi dengan campaign terakhir**\n",
    "- `contact`: contact communication type (categorical: \"unknown\", \"telephone\", \"cellular\")\n",
    "- `day`: last contact day of the month (numeric)\n",
    "- `month`: last contact month of year (categorical: \"jan\", \"feb\", \"mar\", ..., \"nov\", \"dec\")\n",
    "- `duration`: last contact duration, in seconds (numeric)\n",
    "\n",
    "<br>\n",
    "\n",
    "**Atribut/Fitur lain**\n",
    "- `campaign`: number of contacts performed during this campaign and for this client (numeric, includes last contact)\n",
    "- `pdays`: number of days that passed by after the client was last contacted from a previous campaign (numeric, -1 means client was not previously contacted)\n",
    "- `previous`: number of contacts performed before this campaign and for this client (numeric)\n",
    "- `poutcome`: outcome of the previous marketing campaign (categorical: \"unknown\",\"other\",\"failure\",\"success\")\n",
    "\n",
    "<br>\n",
    "\n",
    "**Output variable (desired target)**\n",
    "- `y` - has the client subscribed a term deposit? (binary: \"yes\",\"no\")"
   ]
  },
  {
   "cell_type": "markdown",
   "id": "f5189480",
   "metadata": {},
   "source": [
    "## <b><font color='blue'>1.  Importing Data to Python</font></b>\n",
    "---"
   ]
  },
  {
   "cell_type": "markdown",
   "id": "624f8b0f",
   "metadata": {},
   "source": [
    "Anda dapat import data dari berbagai format:\n",
    "- .csv\n",
    "- .Excel\n",
    "- .txt\n",
    "- .SQL\n",
    "- .dat"
   ]
  },
  {
   "cell_type": "markdown",
   "id": "eca37553",
   "metadata": {},
   "source": [
    "**Import library pengolahan data**\n",
    "\n",
    "Biasanya\n",
    "- Pandas\n",
    "- Numpy"
   ]
  },
  {
   "cell_type": "code",
   "execution_count": 1,
   "id": "aa706eba",
   "metadata": {},
   "outputs": [],
   "source": [
    "# import library pengolahan data\n",
    "import pandas as pd\n",
    "import numpy as np\n"
   ]
  },
  {
   "cell_type": "markdown",
   "id": "50bae5d1",
   "metadata": {},
   "source": [
    "**Load data**\n",
    "\n",
    "- Pakai `pd.read_csv()` apabila file-nya .csv\n",
    "- Load data `bank-data.csv`"
   ]
  },
  {
   "cell_type": "code",
   "execution_count": 2,
   "id": "5a7edd3d",
   "metadata": {},
   "outputs": [
    {
     "data": {
      "application/vnd.microsoft.datawrangler.viewer.v0+json": {
       "columns": [
        {
         "name": "index",
         "rawType": "int64",
         "type": "integer"
        },
        {
         "name": "age",
         "rawType": "float64",
         "type": "float"
        },
        {
         "name": "job",
         "rawType": "object",
         "type": "unknown"
        },
        {
         "name": "marital",
         "rawType": "object",
         "type": "unknown"
        },
        {
         "name": "education",
         "rawType": "object",
         "type": "unknown"
        },
        {
         "name": "default",
         "rawType": "object",
         "type": "unknown"
        },
        {
         "name": "balance",
         "rawType": "float64",
         "type": "float"
        },
        {
         "name": "housing",
         "rawType": "object",
         "type": "unknown"
        },
        {
         "name": "loan",
         "rawType": "object",
         "type": "unknown"
        },
        {
         "name": "contact",
         "rawType": "object",
         "type": "unknown"
        },
        {
         "name": "day",
         "rawType": "float64",
         "type": "float"
        },
        {
         "name": "month",
         "rawType": "object",
         "type": "unknown"
        },
        {
         "name": "duration",
         "rawType": "float64",
         "type": "float"
        },
        {
         "name": "campaign",
         "rawType": "float64",
         "type": "float"
        },
        {
         "name": "pdays",
         "rawType": "float64",
         "type": "float"
        },
        {
         "name": "previous",
         "rawType": "float64",
         "type": "float"
        },
        {
         "name": "poutcome",
         "rawType": "object",
         "type": "unknown"
        },
        {
         "name": "y",
         "rawType": "object",
         "type": "string"
        }
       ],
       "ref": "17357903-2a29-4ec4-9877-a026a71802e7",
       "rows": [
        [
         "0",
         "58.0",
         "management",
         "married",
         "tertiary",
         "no",
         "2143.0",
         "yes",
         "no",
         "unknown",
         null,
         null,
         "261.0",
         "1.0",
         "-1.0",
         "0.0",
         "unknown",
         "no"
        ],
        [
         "1",
         null,
         "technician",
         "single",
         "secondary",
         "no",
         "29.0",
         "yes",
         "no",
         "unknown",
         "5.0",
         "may",
         "151.0",
         "1.0",
         "-1.0",
         "0.0",
         "unknown",
         "no"
        ],
        [
         "2",
         null,
         "entrepreneur",
         "married",
         "secondary",
         "no",
         "2.0",
         "yes",
         "yes",
         "unknown",
         "5.0",
         "may",
         "76.0",
         "1.0",
         "-1.0",
         "0.0",
         "unknown",
         "no"
        ],
        [
         "3",
         null,
         "blue-collar",
         "married",
         "unknown",
         "no",
         "1506.0",
         "yes",
         "no",
         "unknown",
         "5.0",
         "may",
         "92.0",
         "1.0",
         "-1.0",
         "0.0",
         "unknown",
         "no"
        ],
        [
         "4",
         "33.0",
         "unknown",
         "single",
         "unknown",
         "no",
         "1.0",
         "no",
         "no",
         null,
         "5.0",
         "may",
         "198.0",
         "1.0",
         "-1.0",
         "0.0",
         "unknown",
         "no"
        ],
        [
         "5",
         null,
         "management",
         "married",
         "tertiary",
         "no",
         "231.0",
         "yes",
         "no",
         "unknown",
         "5.0",
         "may",
         "139.0",
         "1.0",
         "-1.0",
         "0.0",
         "unknown",
         "no"
        ],
        [
         "6",
         "28.0",
         "management",
         "single",
         "tertiary",
         "no",
         "447.0",
         "yes",
         "yes",
         "unknown",
         "5.0",
         "may",
         "217.0",
         null,
         null,
         "0.0",
         "unknown",
         "no"
        ],
        [
         "7",
         "42.0",
         "entrepreneur",
         null,
         "tertiary",
         "yes",
         "2.0",
         "yes",
         "no",
         "unknown",
         "5.0",
         "may",
         "380.0",
         null,
         "-1.0",
         "0.0",
         "unknown",
         "no"
        ],
        [
         "8",
         "58.0",
         "retired",
         "married",
         "primary",
         "no",
         "121.0",
         "yes",
         null,
         "unknown",
         "5.0",
         "may",
         "50.0",
         "1.0",
         "-1.0",
         "0.0",
         "unknown",
         "no"
        ],
        [
         "9",
         "43.0",
         "technician",
         "single",
         "secondary",
         null,
         "593.0",
         "yes",
         "no",
         "unknown",
         "5.0",
         "may",
         "55.0",
         "1.0",
         null,
         "0.0",
         "unknown",
         "no"
        ],
        [
         "10",
         "41.0",
         "admin.",
         "divorced",
         "secondary",
         null,
         "270.0",
         "yes",
         "no",
         "unknown",
         "5.0",
         "may",
         "222.0",
         "1.0",
         "-1.0",
         "0.0",
         "unknown",
         "no"
        ],
        [
         "11",
         "29.0",
         "admin.",
         "single",
         "secondary",
         "no",
         "390.0",
         "yes",
         "no",
         "unknown",
         "5.0",
         "may",
         "137.0",
         "1.0",
         "-1.0",
         "0.0",
         "unknown",
         "no"
        ],
        [
         "12",
         "53.0",
         "technician",
         null,
         "secondary",
         "no",
         "6.0",
         "yes",
         "no",
         "unknown",
         "5.0",
         "may",
         null,
         "1.0",
         "-1.0",
         "0.0",
         "unknown",
         "no"
        ],
        [
         "13",
         null,
         "technician",
         "married",
         "unknown",
         "no",
         "71.0",
         "yes",
         "no",
         "unknown",
         "5.0",
         "may",
         "71.0",
         "1.0",
         "-1.0",
         "0.0",
         "unknown",
         "no"
        ],
        [
         "14",
         "57.0",
         "services",
         "married",
         "secondary",
         "no",
         "162.0",
         null,
         "no",
         "unknown",
         "5.0",
         "may",
         "174.0",
         "1.0",
         "-1.0",
         "0.0",
         "unknown",
         "no"
        ],
        [
         "15",
         "51.0",
         "retired",
         "married",
         "primary",
         "no",
         null,
         "yes",
         "no",
         "unknown",
         "5.0",
         "may",
         "353.0",
         "1.0",
         "-1.0",
         "0.0",
         "unknown",
         "no"
        ],
        [
         "16",
         "45.0",
         "admin.",
         "single",
         "unknown",
         null,
         "13.0",
         "yes",
         "no",
         "unknown",
         "5.0",
         "may",
         "98.0",
         "1.0",
         "-1.0",
         "0.0",
         "unknown",
         "no"
        ],
        [
         "17",
         "57.0",
         "blue-collar",
         "married",
         "primary",
         "no",
         "52.0",
         "yes",
         "no",
         "unknown",
         "5.0",
         "may",
         "38.0",
         "1.0",
         "-1.0",
         "0.0",
         "unknown",
         "no"
        ],
        [
         "18",
         "60.0",
         "retired",
         "married",
         "primary",
         "no",
         "60.0",
         "yes",
         "no",
         "unknown",
         "5.0",
         "may",
         "219.0",
         "1.0",
         "-1.0",
         "0.0",
         "unknown",
         "no"
        ],
        [
         "19",
         "33.0",
         "services",
         "married",
         "secondary",
         "no",
         "0.0",
         "yes",
         "no",
         "unknown",
         "5.0",
         "may",
         null,
         "1.0",
         "-1.0",
         "0.0",
         "unknown",
         "no"
        ],
        [
         "20",
         "28.0",
         "blue-collar",
         "married",
         "secondary",
         "no",
         "723.0",
         "yes",
         "yes",
         "unknown",
         "5.0",
         "may",
         "262.0",
         "1.0",
         "-1.0",
         "0.0",
         "unknown",
         "no"
        ],
        [
         "21",
         "56.0",
         "management",
         "married",
         "tertiary",
         "no",
         "779.0",
         "yes",
         "no",
         "unknown",
         "5.0",
         "may",
         "164.0",
         "1.0",
         "-1.0",
         "0.0",
         "unknown",
         "no"
        ],
        [
         "22",
         "32.0",
         "blue-collar",
         "single",
         "primary",
         "no",
         "23.0",
         "yes",
         "yes",
         "unknown",
         "5.0",
         "may",
         "160.0",
         null,
         "-1.0",
         "0.0",
         "unknown",
         "no"
        ],
        [
         "23",
         "25.0",
         null,
         "married",
         "secondary",
         "no",
         "50.0",
         "yes",
         "no",
         "unknown",
         "5.0",
         "may",
         "342.0",
         "1.0",
         "-1.0",
         "0.0",
         "unknown",
         "no"
        ],
        [
         "24",
         "40.0",
         "retired",
         "married",
         "primary",
         "no",
         "0.0",
         "yes",
         "yes",
         "unknown",
         "5.0",
         "may",
         "181.0",
         "1.0",
         "-1.0",
         "0.0",
         "unknown",
         "no"
        ],
        [
         "25",
         "44.0",
         "admin.",
         "married",
         "secondary",
         "no",
         "-372.0",
         "yes",
         "no",
         "unknown",
         "5.0",
         "may",
         "172.0",
         "1.0",
         "-1.0",
         "0.0",
         "unknown",
         "no"
        ],
        [
         "26",
         "39.0",
         "management",
         "single",
         "tertiary",
         null,
         "255.0",
         "yes",
         "no",
         "unknown",
         "5.0",
         "may",
         "296.0",
         "1.0",
         "-1.0",
         "0.0",
         "unknown",
         "no"
        ],
        [
         "27",
         "52.0",
         "entrepreneur",
         "married",
         null,
         "no",
         "113.0",
         "yes",
         null,
         "unknown",
         "5.0",
         "may",
         "127.0",
         "1.0",
         "-1.0",
         "0.0",
         "unknown",
         "no"
        ],
        [
         "28",
         "46.0",
         "management",
         "single",
         "secondary",
         "no",
         "-246.0",
         null,
         "no",
         "unknown",
         "5.0",
         "may",
         null,
         "2.0",
         "-1.0",
         "0.0",
         "unknown",
         "no"
        ],
        [
         "29",
         "36.0",
         "technician",
         "single",
         "secondary",
         "no",
         "265.0",
         "yes",
         "yes",
         "unknown",
         "5.0",
         "may",
         "348.0",
         "1.0",
         "-1.0",
         "0.0",
         "unknown",
         "no"
        ],
        [
         "30",
         "57.0",
         "technician",
         "married",
         "secondary",
         "no",
         "839.0",
         "no",
         "yes",
         "unknown",
         "5.0",
         "may",
         "225.0",
         "1.0",
         "-1.0",
         "0.0",
         "unknown",
         "no"
        ],
        [
         "31",
         "49.0",
         "management",
         null,
         "tertiary",
         "no",
         null,
         "yes",
         "no",
         "unknown",
         null,
         null,
         "230.0",
         "1.0",
         "-1.0",
         "0.0",
         "unknown",
         "no"
        ],
        [
         "32",
         "60.0",
         "admin.",
         "married",
         "secondary",
         "no",
         "39.0",
         "yes",
         "yes",
         "unknown",
         "5.0",
         "may",
         "208.0",
         "1.0",
         "-1.0",
         "0.0",
         "unknown",
         "no"
        ],
        [
         "33",
         "59.0",
         "blue-collar",
         "married",
         "secondary",
         "no",
         "0.0",
         "yes",
         "no",
         "unknown",
         "5.0",
         "may",
         null,
         "1.0",
         "-1.0",
         "0.0",
         "unknown",
         "no"
        ],
        [
         "34",
         "51.0",
         "management",
         "married",
         "tertiary",
         "no",
         "10635.0",
         "yes",
         null,
         "unknown",
         "5.0",
         "may",
         "336.0",
         "1.0",
         "-1.0",
         "0.0",
         "unknown",
         "no"
        ],
        [
         "35",
         "57.0",
         "technician",
         "divorced",
         "secondary",
         "no",
         null,
         "yes",
         "no",
         "unknown",
         "5.0",
         "may",
         "242.0",
         "1.0",
         null,
         "0.0",
         "unknown",
         "no"
        ],
        [
         "36",
         "25.0",
         "blue-collar",
         "married",
         "secondary",
         "no",
         "-7.0",
         "yes",
         "no",
         "unknown",
         "5.0",
         "may",
         "365.0",
         "1.0",
         "-1.0",
         null,
         "unknown",
         "no"
        ],
        [
         "37",
         "53.0",
         "technician",
         "married",
         "secondary",
         "no",
         "-3.0",
         null,
         "no",
         "unknown",
         "5.0",
         null,
         "1666.0",
         "1.0",
         "-1.0",
         "0.0",
         "unknown",
         "no"
        ],
        [
         "38",
         "36.0",
         "admin.",
         "divorced",
         "secondary",
         "no",
         "506.0",
         null,
         "no",
         "unknown",
         "5.0",
         "may",
         "577.0",
         null,
         "-1.0",
         "0.0",
         "unknown",
         "no"
        ],
        [
         "39",
         "37.0",
         "admin.",
         "single",
         "secondary",
         "no",
         "0.0",
         "yes",
         "no",
         "unknown",
         "5.0",
         "may",
         "137.0",
         "1.0",
         "-1.0",
         null,
         "unknown",
         "no"
        ],
        [
         "40",
         "44.0",
         "services",
         "divorced",
         "secondary",
         "no",
         "2586.0",
         null,
         null,
         "unknown",
         "5.0",
         "may",
         null,
         "1.0",
         "-1.0",
         "0.0",
         "unknown",
         "no"
        ],
        [
         "41",
         "50.0",
         "management",
         "married",
         "secondary",
         "no",
         "49.0",
         "yes",
         "no",
         "unknown",
         "5.0",
         "may",
         "180.0",
         "2.0",
         "-1.0",
         "0.0",
         "unknown",
         "no"
        ],
        [
         "42",
         "60.0",
         null,
         "married",
         "unknown",
         "no",
         "104.0",
         "yes",
         "no",
         "unknown",
         "5.0",
         "may",
         "22.0",
         null,
         "-1.0",
         "0.0",
         null,
         "no"
        ],
        [
         "43",
         "54.0",
         "retired",
         "married",
         "secondary",
         "no",
         "529.0",
         "yes",
         "no",
         "unknown",
         "5.0",
         "may",
         "1492.0",
         "1.0",
         "-1.0",
         "0.0",
         null,
         "no"
        ],
        [
         "44",
         "58.0",
         "retired",
         "married",
         "unknown",
         "no",
         "96.0",
         null,
         "no",
         "unknown",
         "5.0",
         "may",
         "616.0",
         "1.0",
         "-1.0",
         "0.0",
         "unknown",
         "no"
        ],
        [
         "45",
         "36.0",
         "admin.",
         null,
         "primary",
         "no",
         "-171.0",
         "yes",
         "no",
         "unknown",
         "5.0",
         "may",
         "242.0",
         "1.0",
         "-1.0",
         "0.0",
         "unknown",
         "no"
        ],
        [
         "46",
         "58.0",
         "self-employed",
         "married",
         "tertiary",
         "no",
         "-364.0",
         "yes",
         "no",
         "unknown",
         "5.0",
         "may",
         "355.0",
         "1.0",
         "-1.0",
         "0.0",
         "unknown",
         "no"
        ],
        [
         "47",
         "44.0",
         "technician",
         "married",
         "secondary",
         "no",
         "0.0",
         "yes",
         "no",
         "unknown",
         "5.0",
         "may",
         null,
         "2.0",
         "-1.0",
         "0.0",
         "unknown",
         "no"
        ],
        [
         "48",
         "55.0",
         "technician",
         null,
         "secondary",
         "no",
         "0.0",
         "no",
         "no",
         "unknown",
         "5.0",
         "may",
         "160.0",
         "1.0",
         "-1.0",
         "0.0",
         "unknown",
         "no"
        ],
        [
         "49",
         "29.0",
         "management",
         "single",
         "tertiary",
         "no",
         "0.0",
         "yes",
         "no",
         "unknown",
         "5.0",
         "may",
         "363.0",
         "1.0",
         "-1.0",
         "0.0",
         "unknown",
         "no"
        ]
       ],
       "shape": {
        "columns": 17,
        "rows": 45211
       }
      },
      "text/html": [
       "<div>\n",
       "<style scoped>\n",
       "    .dataframe tbody tr th:only-of-type {\n",
       "        vertical-align: middle;\n",
       "    }\n",
       "\n",
       "    .dataframe tbody tr th {\n",
       "        vertical-align: top;\n",
       "    }\n",
       "\n",
       "    .dataframe thead th {\n",
       "        text-align: right;\n",
       "    }\n",
       "</style>\n",
       "<table border=\"1\" class=\"dataframe\">\n",
       "  <thead>\n",
       "    <tr style=\"text-align: right;\">\n",
       "      <th></th>\n",
       "      <th>age</th>\n",
       "      <th>job</th>\n",
       "      <th>marital</th>\n",
       "      <th>education</th>\n",
       "      <th>default</th>\n",
       "      <th>balance</th>\n",
       "      <th>housing</th>\n",
       "      <th>loan</th>\n",
       "      <th>contact</th>\n",
       "      <th>day</th>\n",
       "      <th>month</th>\n",
       "      <th>duration</th>\n",
       "      <th>campaign</th>\n",
       "      <th>pdays</th>\n",
       "      <th>previous</th>\n",
       "      <th>poutcome</th>\n",
       "      <th>y</th>\n",
       "    </tr>\n",
       "  </thead>\n",
       "  <tbody>\n",
       "    <tr>\n",
       "      <th>0</th>\n",
       "      <td>58.0</td>\n",
       "      <td>management</td>\n",
       "      <td>married</td>\n",
       "      <td>tertiary</td>\n",
       "      <td>no</td>\n",
       "      <td>2143.0</td>\n",
       "      <td>yes</td>\n",
       "      <td>no</td>\n",
       "      <td>unknown</td>\n",
       "      <td>NaN</td>\n",
       "      <td>NaN</td>\n",
       "      <td>261.0</td>\n",
       "      <td>1.0</td>\n",
       "      <td>-1.0</td>\n",
       "      <td>0.0</td>\n",
       "      <td>unknown</td>\n",
       "      <td>no</td>\n",
       "    </tr>\n",
       "    <tr>\n",
       "      <th>1</th>\n",
       "      <td>NaN</td>\n",
       "      <td>technician</td>\n",
       "      <td>single</td>\n",
       "      <td>secondary</td>\n",
       "      <td>no</td>\n",
       "      <td>29.0</td>\n",
       "      <td>yes</td>\n",
       "      <td>no</td>\n",
       "      <td>unknown</td>\n",
       "      <td>5.0</td>\n",
       "      <td>may</td>\n",
       "      <td>151.0</td>\n",
       "      <td>1.0</td>\n",
       "      <td>-1.0</td>\n",
       "      <td>0.0</td>\n",
       "      <td>unknown</td>\n",
       "      <td>no</td>\n",
       "    </tr>\n",
       "    <tr>\n",
       "      <th>2</th>\n",
       "      <td>NaN</td>\n",
       "      <td>entrepreneur</td>\n",
       "      <td>married</td>\n",
       "      <td>secondary</td>\n",
       "      <td>no</td>\n",
       "      <td>2.0</td>\n",
       "      <td>yes</td>\n",
       "      <td>yes</td>\n",
       "      <td>unknown</td>\n",
       "      <td>5.0</td>\n",
       "      <td>may</td>\n",
       "      <td>76.0</td>\n",
       "      <td>1.0</td>\n",
       "      <td>-1.0</td>\n",
       "      <td>0.0</td>\n",
       "      <td>unknown</td>\n",
       "      <td>no</td>\n",
       "    </tr>\n",
       "    <tr>\n",
       "      <th>3</th>\n",
       "      <td>NaN</td>\n",
       "      <td>blue-collar</td>\n",
       "      <td>married</td>\n",
       "      <td>unknown</td>\n",
       "      <td>no</td>\n",
       "      <td>1506.0</td>\n",
       "      <td>yes</td>\n",
       "      <td>no</td>\n",
       "      <td>unknown</td>\n",
       "      <td>5.0</td>\n",
       "      <td>may</td>\n",
       "      <td>92.0</td>\n",
       "      <td>1.0</td>\n",
       "      <td>-1.0</td>\n",
       "      <td>0.0</td>\n",
       "      <td>unknown</td>\n",
       "      <td>no</td>\n",
       "    </tr>\n",
       "    <tr>\n",
       "      <th>4</th>\n",
       "      <td>33.0</td>\n",
       "      <td>unknown</td>\n",
       "      <td>single</td>\n",
       "      <td>unknown</td>\n",
       "      <td>no</td>\n",
       "      <td>1.0</td>\n",
       "      <td>no</td>\n",
       "      <td>no</td>\n",
       "      <td>NaN</td>\n",
       "      <td>5.0</td>\n",
       "      <td>may</td>\n",
       "      <td>198.0</td>\n",
       "      <td>1.0</td>\n",
       "      <td>-1.0</td>\n",
       "      <td>0.0</td>\n",
       "      <td>unknown</td>\n",
       "      <td>no</td>\n",
       "    </tr>\n",
       "    <tr>\n",
       "      <th>...</th>\n",
       "      <td>...</td>\n",
       "      <td>...</td>\n",
       "      <td>...</td>\n",
       "      <td>...</td>\n",
       "      <td>...</td>\n",
       "      <td>...</td>\n",
       "      <td>...</td>\n",
       "      <td>...</td>\n",
       "      <td>...</td>\n",
       "      <td>...</td>\n",
       "      <td>...</td>\n",
       "      <td>...</td>\n",
       "      <td>...</td>\n",
       "      <td>...</td>\n",
       "      <td>...</td>\n",
       "      <td>...</td>\n",
       "      <td>...</td>\n",
       "    </tr>\n",
       "    <tr>\n",
       "      <th>45206</th>\n",
       "      <td>51.0</td>\n",
       "      <td>technician</td>\n",
       "      <td>married</td>\n",
       "      <td>tertiary</td>\n",
       "      <td>no</td>\n",
       "      <td>825.0</td>\n",
       "      <td>no</td>\n",
       "      <td>no</td>\n",
       "      <td>NaN</td>\n",
       "      <td>17.0</td>\n",
       "      <td>nov</td>\n",
       "      <td>977.0</td>\n",
       "      <td>3.0</td>\n",
       "      <td>-1.0</td>\n",
       "      <td>0.0</td>\n",
       "      <td>unknown</td>\n",
       "      <td>yes</td>\n",
       "    </tr>\n",
       "    <tr>\n",
       "      <th>45207</th>\n",
       "      <td>71.0</td>\n",
       "      <td>retired</td>\n",
       "      <td>divorced</td>\n",
       "      <td>primary</td>\n",
       "      <td>no</td>\n",
       "      <td>1729.0</td>\n",
       "      <td>no</td>\n",
       "      <td>no</td>\n",
       "      <td>cellular</td>\n",
       "      <td>17.0</td>\n",
       "      <td>nov</td>\n",
       "      <td>456.0</td>\n",
       "      <td>2.0</td>\n",
       "      <td>-1.0</td>\n",
       "      <td>0.0</td>\n",
       "      <td>unknown</td>\n",
       "      <td>yes</td>\n",
       "    </tr>\n",
       "    <tr>\n",
       "      <th>45208</th>\n",
       "      <td>72.0</td>\n",
       "      <td>NaN</td>\n",
       "      <td>married</td>\n",
       "      <td>NaN</td>\n",
       "      <td>no</td>\n",
       "      <td>5715.0</td>\n",
       "      <td>no</td>\n",
       "      <td>NaN</td>\n",
       "      <td>cellular</td>\n",
       "      <td>NaN</td>\n",
       "      <td>nov</td>\n",
       "      <td>1127.0</td>\n",
       "      <td>5.0</td>\n",
       "      <td>184.0</td>\n",
       "      <td>NaN</td>\n",
       "      <td>success</td>\n",
       "      <td>yes</td>\n",
       "    </tr>\n",
       "    <tr>\n",
       "      <th>45209</th>\n",
       "      <td>57.0</td>\n",
       "      <td>blue-collar</td>\n",
       "      <td>married</td>\n",
       "      <td>secondary</td>\n",
       "      <td>no</td>\n",
       "      <td>668.0</td>\n",
       "      <td>no</td>\n",
       "      <td>no</td>\n",
       "      <td>telephone</td>\n",
       "      <td>17.0</td>\n",
       "      <td>nov</td>\n",
       "      <td>508.0</td>\n",
       "      <td>4.0</td>\n",
       "      <td>-1.0</td>\n",
       "      <td>NaN</td>\n",
       "      <td>unknown</td>\n",
       "      <td>no</td>\n",
       "    </tr>\n",
       "    <tr>\n",
       "      <th>45210</th>\n",
       "      <td>37.0</td>\n",
       "      <td>entrepreneur</td>\n",
       "      <td>married</td>\n",
       "      <td>secondary</td>\n",
       "      <td>no</td>\n",
       "      <td>NaN</td>\n",
       "      <td>NaN</td>\n",
       "      <td>no</td>\n",
       "      <td>cellular</td>\n",
       "      <td>17.0</td>\n",
       "      <td>nov</td>\n",
       "      <td>361.0</td>\n",
       "      <td>2.0</td>\n",
       "      <td>188.0</td>\n",
       "      <td>11.0</td>\n",
       "      <td>other</td>\n",
       "      <td>no</td>\n",
       "    </tr>\n",
       "  </tbody>\n",
       "</table>\n",
       "<p>45211 rows × 17 columns</p>\n",
       "</div>"
      ],
      "text/plain": [
       "        age           job   marital  education default  balance housing loan  \\\n",
       "0      58.0    management   married   tertiary      no   2143.0     yes   no   \n",
       "1       NaN    technician    single  secondary      no     29.0     yes   no   \n",
       "2       NaN  entrepreneur   married  secondary      no      2.0     yes  yes   \n",
       "3       NaN   blue-collar   married    unknown      no   1506.0     yes   no   \n",
       "4      33.0       unknown    single    unknown      no      1.0      no   no   \n",
       "...     ...           ...       ...        ...     ...      ...     ...  ...   \n",
       "45206  51.0    technician   married   tertiary      no    825.0      no   no   \n",
       "45207  71.0       retired  divorced    primary      no   1729.0      no   no   \n",
       "45208  72.0           NaN   married        NaN      no   5715.0      no  NaN   \n",
       "45209  57.0   blue-collar   married  secondary      no    668.0      no   no   \n",
       "45210  37.0  entrepreneur   married  secondary      no      NaN     NaN   no   \n",
       "\n",
       "         contact   day month  duration  campaign  pdays  previous poutcome  \\\n",
       "0        unknown   NaN   NaN     261.0       1.0   -1.0       0.0  unknown   \n",
       "1        unknown   5.0   may     151.0       1.0   -1.0       0.0  unknown   \n",
       "2        unknown   5.0   may      76.0       1.0   -1.0       0.0  unknown   \n",
       "3        unknown   5.0   may      92.0       1.0   -1.0       0.0  unknown   \n",
       "4            NaN   5.0   may     198.0       1.0   -1.0       0.0  unknown   \n",
       "...          ...   ...   ...       ...       ...    ...       ...      ...   \n",
       "45206        NaN  17.0   nov     977.0       3.0   -1.0       0.0  unknown   \n",
       "45207   cellular  17.0   nov     456.0       2.0   -1.0       0.0  unknown   \n",
       "45208   cellular   NaN   nov    1127.0       5.0  184.0       NaN  success   \n",
       "45209  telephone  17.0   nov     508.0       4.0   -1.0       NaN  unknown   \n",
       "45210   cellular  17.0   nov     361.0       2.0  188.0      11.0    other   \n",
       "\n",
       "         y  \n",
       "0       no  \n",
       "1       no  \n",
       "2       no  \n",
       "3       no  \n",
       "4       no  \n",
       "...    ...  \n",
       "45206  yes  \n",
       "45207  yes  \n",
       "45208  yes  \n",
       "45209   no  \n",
       "45210   no  \n",
       "\n",
       "[45211 rows x 17 columns]"
      ]
     },
     "execution_count": 2,
     "metadata": {},
     "output_type": "execute_result"
    }
   ],
   "source": [
    "# load data \n",
    "path = 'bank-data.csv'\n",
    "\n",
    "bank = pd.read_csv(path)\n",
    "\n",
    "bank"
   ]
  },
  {
   "cell_type": "code",
   "execution_count": 3,
   "id": "ad09d281",
   "metadata": {},
   "outputs": [
    {
     "data": {
      "application/vnd.microsoft.datawrangler.viewer.v0+json": {
       "columns": [
        {
         "name": "index",
         "rawType": "int64",
         "type": "integer"
        },
        {
         "name": "age",
         "rawType": "float64",
         "type": "float"
        },
        {
         "name": "job",
         "rawType": "object",
         "type": "string"
        },
        {
         "name": "marital",
         "rawType": "object",
         "type": "string"
        },
        {
         "name": "education",
         "rawType": "object",
         "type": "string"
        },
        {
         "name": "default",
         "rawType": "object",
         "type": "string"
        },
        {
         "name": "balance",
         "rawType": "float64",
         "type": "float"
        },
        {
         "name": "housing",
         "rawType": "object",
         "type": "string"
        },
        {
         "name": "loan",
         "rawType": "object",
         "type": "string"
        },
        {
         "name": "contact",
         "rawType": "object",
         "type": "unknown"
        },
        {
         "name": "day",
         "rawType": "float64",
         "type": "float"
        },
        {
         "name": "month",
         "rawType": "object",
         "type": "unknown"
        },
        {
         "name": "duration",
         "rawType": "float64",
         "type": "float"
        },
        {
         "name": "campaign",
         "rawType": "float64",
         "type": "float"
        },
        {
         "name": "pdays",
         "rawType": "float64",
         "type": "float"
        },
        {
         "name": "previous",
         "rawType": "float64",
         "type": "float"
        },
        {
         "name": "poutcome",
         "rawType": "object",
         "type": "string"
        },
        {
         "name": "y",
         "rawType": "object",
         "type": "string"
        }
       ],
       "ref": "9f904b0e-1eff-4ea4-9097-fcd589ae66e9",
       "rows": [
        [
         "0",
         "58.0",
         "management",
         "married",
         "tertiary",
         "no",
         "2143.0",
         "yes",
         "no",
         "unknown",
         null,
         null,
         "261.0",
         "1.0",
         "-1.0",
         "0.0",
         "unknown",
         "no"
        ],
        [
         "1",
         null,
         "technician",
         "single",
         "secondary",
         "no",
         "29.0",
         "yes",
         "no",
         "unknown",
         "5.0",
         "may",
         "151.0",
         "1.0",
         "-1.0",
         "0.0",
         "unknown",
         "no"
        ],
        [
         "2",
         null,
         "entrepreneur",
         "married",
         "secondary",
         "no",
         "2.0",
         "yes",
         "yes",
         "unknown",
         "5.0",
         "may",
         "76.0",
         "1.0",
         "-1.0",
         "0.0",
         "unknown",
         "no"
        ],
        [
         "3",
         null,
         "blue-collar",
         "married",
         "unknown",
         "no",
         "1506.0",
         "yes",
         "no",
         "unknown",
         "5.0",
         "may",
         "92.0",
         "1.0",
         "-1.0",
         "0.0",
         "unknown",
         "no"
        ],
        [
         "4",
         "33.0",
         "unknown",
         "single",
         "unknown",
         "no",
         "1.0",
         "no",
         "no",
         null,
         "5.0",
         "may",
         "198.0",
         "1.0",
         "-1.0",
         "0.0",
         "unknown",
         "no"
        ]
       ],
       "shape": {
        "columns": 17,
        "rows": 5
       }
      },
      "text/html": [
       "<div>\n",
       "<style scoped>\n",
       "    .dataframe tbody tr th:only-of-type {\n",
       "        vertical-align: middle;\n",
       "    }\n",
       "\n",
       "    .dataframe tbody tr th {\n",
       "        vertical-align: top;\n",
       "    }\n",
       "\n",
       "    .dataframe thead th {\n",
       "        text-align: right;\n",
       "    }\n",
       "</style>\n",
       "<table border=\"1\" class=\"dataframe\">\n",
       "  <thead>\n",
       "    <tr style=\"text-align: right;\">\n",
       "      <th></th>\n",
       "      <th>age</th>\n",
       "      <th>job</th>\n",
       "      <th>marital</th>\n",
       "      <th>education</th>\n",
       "      <th>default</th>\n",
       "      <th>balance</th>\n",
       "      <th>housing</th>\n",
       "      <th>loan</th>\n",
       "      <th>contact</th>\n",
       "      <th>day</th>\n",
       "      <th>month</th>\n",
       "      <th>duration</th>\n",
       "      <th>campaign</th>\n",
       "      <th>pdays</th>\n",
       "      <th>previous</th>\n",
       "      <th>poutcome</th>\n",
       "      <th>y</th>\n",
       "    </tr>\n",
       "  </thead>\n",
       "  <tbody>\n",
       "    <tr>\n",
       "      <th>0</th>\n",
       "      <td>58.0</td>\n",
       "      <td>management</td>\n",
       "      <td>married</td>\n",
       "      <td>tertiary</td>\n",
       "      <td>no</td>\n",
       "      <td>2143.0</td>\n",
       "      <td>yes</td>\n",
       "      <td>no</td>\n",
       "      <td>unknown</td>\n",
       "      <td>NaN</td>\n",
       "      <td>NaN</td>\n",
       "      <td>261.0</td>\n",
       "      <td>1.0</td>\n",
       "      <td>-1.0</td>\n",
       "      <td>0.0</td>\n",
       "      <td>unknown</td>\n",
       "      <td>no</td>\n",
       "    </tr>\n",
       "    <tr>\n",
       "      <th>1</th>\n",
       "      <td>NaN</td>\n",
       "      <td>technician</td>\n",
       "      <td>single</td>\n",
       "      <td>secondary</td>\n",
       "      <td>no</td>\n",
       "      <td>29.0</td>\n",
       "      <td>yes</td>\n",
       "      <td>no</td>\n",
       "      <td>unknown</td>\n",
       "      <td>5.0</td>\n",
       "      <td>may</td>\n",
       "      <td>151.0</td>\n",
       "      <td>1.0</td>\n",
       "      <td>-1.0</td>\n",
       "      <td>0.0</td>\n",
       "      <td>unknown</td>\n",
       "      <td>no</td>\n",
       "    </tr>\n",
       "    <tr>\n",
       "      <th>2</th>\n",
       "      <td>NaN</td>\n",
       "      <td>entrepreneur</td>\n",
       "      <td>married</td>\n",
       "      <td>secondary</td>\n",
       "      <td>no</td>\n",
       "      <td>2.0</td>\n",
       "      <td>yes</td>\n",
       "      <td>yes</td>\n",
       "      <td>unknown</td>\n",
       "      <td>5.0</td>\n",
       "      <td>may</td>\n",
       "      <td>76.0</td>\n",
       "      <td>1.0</td>\n",
       "      <td>-1.0</td>\n",
       "      <td>0.0</td>\n",
       "      <td>unknown</td>\n",
       "      <td>no</td>\n",
       "    </tr>\n",
       "    <tr>\n",
       "      <th>3</th>\n",
       "      <td>NaN</td>\n",
       "      <td>blue-collar</td>\n",
       "      <td>married</td>\n",
       "      <td>unknown</td>\n",
       "      <td>no</td>\n",
       "      <td>1506.0</td>\n",
       "      <td>yes</td>\n",
       "      <td>no</td>\n",
       "      <td>unknown</td>\n",
       "      <td>5.0</td>\n",
       "      <td>may</td>\n",
       "      <td>92.0</td>\n",
       "      <td>1.0</td>\n",
       "      <td>-1.0</td>\n",
       "      <td>0.0</td>\n",
       "      <td>unknown</td>\n",
       "      <td>no</td>\n",
       "    </tr>\n",
       "    <tr>\n",
       "      <th>4</th>\n",
       "      <td>33.0</td>\n",
       "      <td>unknown</td>\n",
       "      <td>single</td>\n",
       "      <td>unknown</td>\n",
       "      <td>no</td>\n",
       "      <td>1.0</td>\n",
       "      <td>no</td>\n",
       "      <td>no</td>\n",
       "      <td>NaN</td>\n",
       "      <td>5.0</td>\n",
       "      <td>may</td>\n",
       "      <td>198.0</td>\n",
       "      <td>1.0</td>\n",
       "      <td>-1.0</td>\n",
       "      <td>0.0</td>\n",
       "      <td>unknown</td>\n",
       "      <td>no</td>\n",
       "    </tr>\n",
       "  </tbody>\n",
       "</table>\n",
       "</div>"
      ],
      "text/plain": [
       "    age           job  marital  education default  balance housing loan  \\\n",
       "0  58.0    management  married   tertiary      no   2143.0     yes   no   \n",
       "1   NaN    technician   single  secondary      no     29.0     yes   no   \n",
       "2   NaN  entrepreneur  married  secondary      no      2.0     yes  yes   \n",
       "3   NaN   blue-collar  married    unknown      no   1506.0     yes   no   \n",
       "4  33.0       unknown   single    unknown      no      1.0      no   no   \n",
       "\n",
       "   contact  day month  duration  campaign  pdays  previous poutcome   y  \n",
       "0  unknown  NaN   NaN     261.0       1.0   -1.0       0.0  unknown  no  \n",
       "1  unknown  5.0   may     151.0       1.0   -1.0       0.0  unknown  no  \n",
       "2  unknown  5.0   may      76.0       1.0   -1.0       0.0  unknown  no  \n",
       "3  unknown  5.0   may      92.0       1.0   -1.0       0.0  unknown  no  \n",
       "4      NaN  5.0   may     198.0       1.0   -1.0       0.0  unknown  no  "
      ]
     },
     "execution_count": 3,
     "metadata": {},
     "output_type": "execute_result"
    }
   ],
   "source": [
    "bank.head()"
   ]
  },
  {
   "cell_type": "markdown",
   "id": "54bf9f30",
   "metadata": {},
   "source": [
    "**Cek banyak observasi**"
   ]
  },
  {
   "cell_type": "code",
   "execution_count": 4,
   "id": "782581ea",
   "metadata": {},
   "outputs": [
    {
     "name": "stdout",
     "output_type": "stream",
     "text": [
      "Banyaknya baris sebanyak 45211 dan jumlah kolom sebanyak 17\n"
     ]
    }
   ],
   "source": [
    "# cek dimensi data\n",
    "row, columns = bank.shape\n",
    "\n",
    "print(f\"Banyaknya baris sebanyak {row} dan jumlah kolom sebanyak {columns}\")"
   ]
  },
  {
   "cell_type": "markdown",
   "id": "b9da4767",
   "metadata": {},
   "source": [
    "**Cek & Drop data yang duplikat**\n",
    "\n",
    "- cek-nya pakai `.duplicated()`"
   ]
  },
  {
   "cell_type": "code",
   "execution_count": 5,
   "id": "861aad0c",
   "metadata": {},
   "outputs": [
    {
     "data": {
      "text/plain": [
       "np.int64(0)"
      ]
     },
     "execution_count": 5,
     "metadata": {},
     "output_type": "execute_result"
    }
   ],
   "source": [
    "# cek data duplikat\n",
    "data_duplicated = bank.duplicated().any().sum()\n",
    "\n",
    "data_duplicated"
   ]
  },
  {
   "cell_type": "code",
   "execution_count": 6,
   "id": "50783105",
   "metadata": {},
   "outputs": [],
   "source": [
    "# drop data duplikat\n",
    "bank = bank.drop_duplicates()"
   ]
  },
  {
   "cell_type": "code",
   "execution_count": 7,
   "id": "b1c2fb57",
   "metadata": {},
   "outputs": [
    {
     "data": {
      "text/plain": [
       "(45211, 17)"
      ]
     },
     "execution_count": 7,
     "metadata": {},
     "output_type": "execute_result"
    }
   ],
   "source": [
    "# cek apakah ada yang ke drop\n",
    "bank.shape"
   ]
  },
  {
   "cell_type": "markdown",
   "id": "6b961585",
   "metadata": {},
   "source": [
    "**Buat semuanya dalam fungsi**\n",
    "\n",
    "1. Import data\n",
    "2. Cek **Jumlah observasi** dan **Jumlah kolom**\n",
    "3. Drop duplicate\n",
    "4. Cek **Jumlah observasi** dan **Jumlah kolom** setelah di-drop\n",
    "5. Return data setelah di-drop"
   ]
  },
  {
   "cell_type": "code",
   "execution_count": 8,
   "id": "90265b62",
   "metadata": {},
   "outputs": [
    {
     "name": "stdout",
     "output_type": "stream",
     "text": [
      "Data asli                    :  (45211, 17) -(#Observasi, #kolom)\n",
      "Data setelah di drop         :  (45211, 17) -(#Observasi, #kolom)\n"
     ]
    }
   ],
   "source": [
    "# membuat fungsi yang perintahnya sebagai berikut\n",
    "bank = pd.read_csv('bank-data.csv')\n",
    "print(\"Data asli                    : \", bank.shape, \"-(#Observasi, #kolom)\")   \n",
    "\n",
    "bank = bank.drop_duplicates()\n",
    "print(\"Data setelah di drop         : \", bank.shape, \"-(#Observasi, #kolom)\")   "
   ]
  },
  {
   "cell_type": "code",
   "execution_count": 9,
   "id": "215878b5",
   "metadata": {},
   "outputs": [],
   "source": [
    "def importData(filename):\n",
    "    \"\"\"\n",
    "    Fungsi untuk import data & hapus duplikat\n",
    "    :param filename: <string> nama file input (format .csv)\n",
    "    :return df: <pandas dataframe> sampel data\n",
    "    \"\"\"\n",
    "\n",
    "    # read data\n",
    "    df = pd.read_csv(filename)\n",
    "    print(\"Data asli            : \", df.shape, \"- (#observasi, #kolom)\")\n",
    "\n",
    "    # drop duplicates\n",
    "    df = df.drop_duplicates()\n",
    "    print(\"Data setelah di-drop : \", df.shape, \"- (#observasi, #kolom)\")\n",
    "\n",
    "    return df\n",
    "\n",
    "# (filename) adalah argumen\n",
    "# Argumen adalah sebuah variable. \n",
    "# Jika fungsi tsb. diberi argumen filename = \"bank_data.csv\", \n",
    "# maka semua variabel 'filename' di dalam fungsi \n",
    "# akan berubah menjadi \"bank_data.csv\""
   ]
  },
  {
   "cell_type": "code",
   "execution_count": 10,
   "id": "3c134e3d",
   "metadata": {},
   "outputs": [
    {
     "name": "stdout",
     "output_type": "stream",
     "text": [
      "Data asli            :  (45211, 17) - (#observasi, #kolom)\n",
      "Data setelah di-drop :  (45211, 17) - (#observasi, #kolom)\n"
     ]
    }
   ],
   "source": [
    "# import\n",
    "file_bank = 'bank-data.csv'\n",
    "\n",
    "# import fungsi\n",
    "bank = importData(filename = file_bank)"
   ]
  },
  {
   "cell_type": "code",
   "execution_count": 11,
   "id": "deeacd22",
   "metadata": {},
   "outputs": [
    {
     "data": {
      "application/vnd.microsoft.datawrangler.viewer.v0+json": {
       "columns": [
        {
         "name": "index",
         "rawType": "int64",
         "type": "integer"
        },
        {
         "name": "age",
         "rawType": "float64",
         "type": "float"
        },
        {
         "name": "job",
         "rawType": "object",
         "type": "string"
        },
        {
         "name": "marital",
         "rawType": "object",
         "type": "string"
        },
        {
         "name": "education",
         "rawType": "object",
         "type": "string"
        },
        {
         "name": "default",
         "rawType": "object",
         "type": "string"
        },
        {
         "name": "balance",
         "rawType": "float64",
         "type": "float"
        },
        {
         "name": "housing",
         "rawType": "object",
         "type": "string"
        },
        {
         "name": "loan",
         "rawType": "object",
         "type": "string"
        },
        {
         "name": "contact",
         "rawType": "object",
         "type": "unknown"
        },
        {
         "name": "day",
         "rawType": "float64",
         "type": "float"
        },
        {
         "name": "month",
         "rawType": "object",
         "type": "unknown"
        },
        {
         "name": "duration",
         "rawType": "float64",
         "type": "float"
        },
        {
         "name": "campaign",
         "rawType": "float64",
         "type": "float"
        },
        {
         "name": "pdays",
         "rawType": "float64",
         "type": "float"
        },
        {
         "name": "previous",
         "rawType": "float64",
         "type": "float"
        },
        {
         "name": "poutcome",
         "rawType": "object",
         "type": "string"
        },
        {
         "name": "y",
         "rawType": "object",
         "type": "string"
        }
       ],
       "ref": "cae67128-41c8-40bc-807a-222e09cbaf81",
       "rows": [
        [
         "0",
         "58.0",
         "management",
         "married",
         "tertiary",
         "no",
         "2143.0",
         "yes",
         "no",
         "unknown",
         null,
         null,
         "261.0",
         "1.0",
         "-1.0",
         "0.0",
         "unknown",
         "no"
        ],
        [
         "1",
         null,
         "technician",
         "single",
         "secondary",
         "no",
         "29.0",
         "yes",
         "no",
         "unknown",
         "5.0",
         "may",
         "151.0",
         "1.0",
         "-1.0",
         "0.0",
         "unknown",
         "no"
        ],
        [
         "2",
         null,
         "entrepreneur",
         "married",
         "secondary",
         "no",
         "2.0",
         "yes",
         "yes",
         "unknown",
         "5.0",
         "may",
         "76.0",
         "1.0",
         "-1.0",
         "0.0",
         "unknown",
         "no"
        ],
        [
         "3",
         null,
         "blue-collar",
         "married",
         "unknown",
         "no",
         "1506.0",
         "yes",
         "no",
         "unknown",
         "5.0",
         "may",
         "92.0",
         "1.0",
         "-1.0",
         "0.0",
         "unknown",
         "no"
        ],
        [
         "4",
         "33.0",
         "unknown",
         "single",
         "unknown",
         "no",
         "1.0",
         "no",
         "no",
         null,
         "5.0",
         "may",
         "198.0",
         "1.0",
         "-1.0",
         "0.0",
         "unknown",
         "no"
        ]
       ],
       "shape": {
        "columns": 17,
        "rows": 5
       }
      },
      "text/html": [
       "<div>\n",
       "<style scoped>\n",
       "    .dataframe tbody tr th:only-of-type {\n",
       "        vertical-align: middle;\n",
       "    }\n",
       "\n",
       "    .dataframe tbody tr th {\n",
       "        vertical-align: top;\n",
       "    }\n",
       "\n",
       "    .dataframe thead th {\n",
       "        text-align: right;\n",
       "    }\n",
       "</style>\n",
       "<table border=\"1\" class=\"dataframe\">\n",
       "  <thead>\n",
       "    <tr style=\"text-align: right;\">\n",
       "      <th></th>\n",
       "      <th>age</th>\n",
       "      <th>job</th>\n",
       "      <th>marital</th>\n",
       "      <th>education</th>\n",
       "      <th>default</th>\n",
       "      <th>balance</th>\n",
       "      <th>housing</th>\n",
       "      <th>loan</th>\n",
       "      <th>contact</th>\n",
       "      <th>day</th>\n",
       "      <th>month</th>\n",
       "      <th>duration</th>\n",
       "      <th>campaign</th>\n",
       "      <th>pdays</th>\n",
       "      <th>previous</th>\n",
       "      <th>poutcome</th>\n",
       "      <th>y</th>\n",
       "    </tr>\n",
       "  </thead>\n",
       "  <tbody>\n",
       "    <tr>\n",
       "      <th>0</th>\n",
       "      <td>58.0</td>\n",
       "      <td>management</td>\n",
       "      <td>married</td>\n",
       "      <td>tertiary</td>\n",
       "      <td>no</td>\n",
       "      <td>2143.0</td>\n",
       "      <td>yes</td>\n",
       "      <td>no</td>\n",
       "      <td>unknown</td>\n",
       "      <td>NaN</td>\n",
       "      <td>NaN</td>\n",
       "      <td>261.0</td>\n",
       "      <td>1.0</td>\n",
       "      <td>-1.0</td>\n",
       "      <td>0.0</td>\n",
       "      <td>unknown</td>\n",
       "      <td>no</td>\n",
       "    </tr>\n",
       "    <tr>\n",
       "      <th>1</th>\n",
       "      <td>NaN</td>\n",
       "      <td>technician</td>\n",
       "      <td>single</td>\n",
       "      <td>secondary</td>\n",
       "      <td>no</td>\n",
       "      <td>29.0</td>\n",
       "      <td>yes</td>\n",
       "      <td>no</td>\n",
       "      <td>unknown</td>\n",
       "      <td>5.0</td>\n",
       "      <td>may</td>\n",
       "      <td>151.0</td>\n",
       "      <td>1.0</td>\n",
       "      <td>-1.0</td>\n",
       "      <td>0.0</td>\n",
       "      <td>unknown</td>\n",
       "      <td>no</td>\n",
       "    </tr>\n",
       "    <tr>\n",
       "      <th>2</th>\n",
       "      <td>NaN</td>\n",
       "      <td>entrepreneur</td>\n",
       "      <td>married</td>\n",
       "      <td>secondary</td>\n",
       "      <td>no</td>\n",
       "      <td>2.0</td>\n",
       "      <td>yes</td>\n",
       "      <td>yes</td>\n",
       "      <td>unknown</td>\n",
       "      <td>5.0</td>\n",
       "      <td>may</td>\n",
       "      <td>76.0</td>\n",
       "      <td>1.0</td>\n",
       "      <td>-1.0</td>\n",
       "      <td>0.0</td>\n",
       "      <td>unknown</td>\n",
       "      <td>no</td>\n",
       "    </tr>\n",
       "    <tr>\n",
       "      <th>3</th>\n",
       "      <td>NaN</td>\n",
       "      <td>blue-collar</td>\n",
       "      <td>married</td>\n",
       "      <td>unknown</td>\n",
       "      <td>no</td>\n",
       "      <td>1506.0</td>\n",
       "      <td>yes</td>\n",
       "      <td>no</td>\n",
       "      <td>unknown</td>\n",
       "      <td>5.0</td>\n",
       "      <td>may</td>\n",
       "      <td>92.0</td>\n",
       "      <td>1.0</td>\n",
       "      <td>-1.0</td>\n",
       "      <td>0.0</td>\n",
       "      <td>unknown</td>\n",
       "      <td>no</td>\n",
       "    </tr>\n",
       "    <tr>\n",
       "      <th>4</th>\n",
       "      <td>33.0</td>\n",
       "      <td>unknown</td>\n",
       "      <td>single</td>\n",
       "      <td>unknown</td>\n",
       "      <td>no</td>\n",
       "      <td>1.0</td>\n",
       "      <td>no</td>\n",
       "      <td>no</td>\n",
       "      <td>NaN</td>\n",
       "      <td>5.0</td>\n",
       "      <td>may</td>\n",
       "      <td>198.0</td>\n",
       "      <td>1.0</td>\n",
       "      <td>-1.0</td>\n",
       "      <td>0.0</td>\n",
       "      <td>unknown</td>\n",
       "      <td>no</td>\n",
       "    </tr>\n",
       "  </tbody>\n",
       "</table>\n",
       "</div>"
      ],
      "text/plain": [
       "    age           job  marital  education default  balance housing loan  \\\n",
       "0  58.0    management  married   tertiary      no   2143.0     yes   no   \n",
       "1   NaN    technician   single  secondary      no     29.0     yes   no   \n",
       "2   NaN  entrepreneur  married  secondary      no      2.0     yes  yes   \n",
       "3   NaN   blue-collar  married    unknown      no   1506.0     yes   no   \n",
       "4  33.0       unknown   single    unknown      no      1.0      no   no   \n",
       "\n",
       "   contact  day month  duration  campaign  pdays  previous poutcome   y  \n",
       "0  unknown  NaN   NaN     261.0       1.0   -1.0       0.0  unknown  no  \n",
       "1  unknown  5.0   may     151.0       1.0   -1.0       0.0  unknown  no  \n",
       "2  unknown  5.0   may      76.0       1.0   -1.0       0.0  unknown  no  \n",
       "3  unknown  5.0   may      92.0       1.0   -1.0       0.0  unknown  no  \n",
       "4      NaN  5.0   may     198.0       1.0   -1.0       0.0  unknown  no  "
      ]
     },
     "execution_count": 11,
     "metadata": {},
     "output_type": "execute_result"
    }
   ],
   "source": [
    "bank.head()"
   ]
  },
  {
   "cell_type": "markdown",
   "id": "75f57ac3",
   "metadata": {},
   "source": [
    "## <b><font color='blue'> 2. Data Preprocessing:</font></b>\n",
    "---\n",
    "    * Input-Output Split, Train-Test Split\n",
    "    * Processing Categorical\n",
    "    * Imputation, Normalization, Drop Duplicates"
   ]
  },
  {
   "cell_type": "markdown",
   "id": "a6fa16cf",
   "metadata": {},
   "source": [
    "### **Input-Output Split**\n",
    "\n",
    "- Fitur `y` adalah output variabel dari data marketing\n",
    "- yang lainnya menjadi input"
   ]
  },
  {
   "cell_type": "markdown",
   "id": "e3c55dc2",
   "metadata": {},
   "source": [
    "**Buat data output**"
   ]
  },
  {
   "cell_type": "code",
   "execution_count": 12,
   "id": "6d04e335",
   "metadata": {},
   "outputs": [
    {
     "data": {
      "application/vnd.microsoft.datawrangler.viewer.v0+json": {
       "columns": [
        {
         "name": "index",
         "rawType": "int64",
         "type": "integer"
        },
        {
         "name": "age",
         "rawType": "float64",
         "type": "float"
        },
        {
         "name": "job",
         "rawType": "object",
         "type": "string"
        },
        {
         "name": "marital",
         "rawType": "object",
         "type": "string"
        },
        {
         "name": "education",
         "rawType": "object",
         "type": "string"
        },
        {
         "name": "default",
         "rawType": "object",
         "type": "string"
        },
        {
         "name": "balance",
         "rawType": "float64",
         "type": "float"
        },
        {
         "name": "housing",
         "rawType": "object",
         "type": "string"
        },
        {
         "name": "loan",
         "rawType": "object",
         "type": "string"
        },
        {
         "name": "contact",
         "rawType": "object",
         "type": "unknown"
        },
        {
         "name": "day",
         "rawType": "float64",
         "type": "float"
        },
        {
         "name": "month",
         "rawType": "object",
         "type": "unknown"
        },
        {
         "name": "duration",
         "rawType": "float64",
         "type": "float"
        },
        {
         "name": "campaign",
         "rawType": "float64",
         "type": "float"
        },
        {
         "name": "pdays",
         "rawType": "float64",
         "type": "float"
        },
        {
         "name": "previous",
         "rawType": "float64",
         "type": "float"
        },
        {
         "name": "poutcome",
         "rawType": "object",
         "type": "string"
        },
        {
         "name": "y",
         "rawType": "object",
         "type": "string"
        }
       ],
       "ref": "98033a6b-03bc-49cd-ab07-02f7ed1b6f6d",
       "rows": [
        [
         "0",
         "58.0",
         "management",
         "married",
         "tertiary",
         "no",
         "2143.0",
         "yes",
         "no",
         "unknown",
         null,
         null,
         "261.0",
         "1.0",
         "-1.0",
         "0.0",
         "unknown",
         "no"
        ],
        [
         "1",
         null,
         "technician",
         "single",
         "secondary",
         "no",
         "29.0",
         "yes",
         "no",
         "unknown",
         "5.0",
         "may",
         "151.0",
         "1.0",
         "-1.0",
         "0.0",
         "unknown",
         "no"
        ],
        [
         "2",
         null,
         "entrepreneur",
         "married",
         "secondary",
         "no",
         "2.0",
         "yes",
         "yes",
         "unknown",
         "5.0",
         "may",
         "76.0",
         "1.0",
         "-1.0",
         "0.0",
         "unknown",
         "no"
        ],
        [
         "3",
         null,
         "blue-collar",
         "married",
         "unknown",
         "no",
         "1506.0",
         "yes",
         "no",
         "unknown",
         "5.0",
         "may",
         "92.0",
         "1.0",
         "-1.0",
         "0.0",
         "unknown",
         "no"
        ],
        [
         "4",
         "33.0",
         "unknown",
         "single",
         "unknown",
         "no",
         "1.0",
         "no",
         "no",
         null,
         "5.0",
         "may",
         "198.0",
         "1.0",
         "-1.0",
         "0.0",
         "unknown",
         "no"
        ]
       ],
       "shape": {
        "columns": 17,
        "rows": 5
       }
      },
      "text/html": [
       "<div>\n",
       "<style scoped>\n",
       "    .dataframe tbody tr th:only-of-type {\n",
       "        vertical-align: middle;\n",
       "    }\n",
       "\n",
       "    .dataframe tbody tr th {\n",
       "        vertical-align: top;\n",
       "    }\n",
       "\n",
       "    .dataframe thead th {\n",
       "        text-align: right;\n",
       "    }\n",
       "</style>\n",
       "<table border=\"1\" class=\"dataframe\">\n",
       "  <thead>\n",
       "    <tr style=\"text-align: right;\">\n",
       "      <th></th>\n",
       "      <th>age</th>\n",
       "      <th>job</th>\n",
       "      <th>marital</th>\n",
       "      <th>education</th>\n",
       "      <th>default</th>\n",
       "      <th>balance</th>\n",
       "      <th>housing</th>\n",
       "      <th>loan</th>\n",
       "      <th>contact</th>\n",
       "      <th>day</th>\n",
       "      <th>month</th>\n",
       "      <th>duration</th>\n",
       "      <th>campaign</th>\n",
       "      <th>pdays</th>\n",
       "      <th>previous</th>\n",
       "      <th>poutcome</th>\n",
       "      <th>y</th>\n",
       "    </tr>\n",
       "  </thead>\n",
       "  <tbody>\n",
       "    <tr>\n",
       "      <th>0</th>\n",
       "      <td>58.0</td>\n",
       "      <td>management</td>\n",
       "      <td>married</td>\n",
       "      <td>tertiary</td>\n",
       "      <td>no</td>\n",
       "      <td>2143.0</td>\n",
       "      <td>yes</td>\n",
       "      <td>no</td>\n",
       "      <td>unknown</td>\n",
       "      <td>NaN</td>\n",
       "      <td>NaN</td>\n",
       "      <td>261.0</td>\n",
       "      <td>1.0</td>\n",
       "      <td>-1.0</td>\n",
       "      <td>0.0</td>\n",
       "      <td>unknown</td>\n",
       "      <td>no</td>\n",
       "    </tr>\n",
       "    <tr>\n",
       "      <th>1</th>\n",
       "      <td>NaN</td>\n",
       "      <td>technician</td>\n",
       "      <td>single</td>\n",
       "      <td>secondary</td>\n",
       "      <td>no</td>\n",
       "      <td>29.0</td>\n",
       "      <td>yes</td>\n",
       "      <td>no</td>\n",
       "      <td>unknown</td>\n",
       "      <td>5.0</td>\n",
       "      <td>may</td>\n",
       "      <td>151.0</td>\n",
       "      <td>1.0</td>\n",
       "      <td>-1.0</td>\n",
       "      <td>0.0</td>\n",
       "      <td>unknown</td>\n",
       "      <td>no</td>\n",
       "    </tr>\n",
       "    <tr>\n",
       "      <th>2</th>\n",
       "      <td>NaN</td>\n",
       "      <td>entrepreneur</td>\n",
       "      <td>married</td>\n",
       "      <td>secondary</td>\n",
       "      <td>no</td>\n",
       "      <td>2.0</td>\n",
       "      <td>yes</td>\n",
       "      <td>yes</td>\n",
       "      <td>unknown</td>\n",
       "      <td>5.0</td>\n",
       "      <td>may</td>\n",
       "      <td>76.0</td>\n",
       "      <td>1.0</td>\n",
       "      <td>-1.0</td>\n",
       "      <td>0.0</td>\n",
       "      <td>unknown</td>\n",
       "      <td>no</td>\n",
       "    </tr>\n",
       "    <tr>\n",
       "      <th>3</th>\n",
       "      <td>NaN</td>\n",
       "      <td>blue-collar</td>\n",
       "      <td>married</td>\n",
       "      <td>unknown</td>\n",
       "      <td>no</td>\n",
       "      <td>1506.0</td>\n",
       "      <td>yes</td>\n",
       "      <td>no</td>\n",
       "      <td>unknown</td>\n",
       "      <td>5.0</td>\n",
       "      <td>may</td>\n",
       "      <td>92.0</td>\n",
       "      <td>1.0</td>\n",
       "      <td>-1.0</td>\n",
       "      <td>0.0</td>\n",
       "      <td>unknown</td>\n",
       "      <td>no</td>\n",
       "    </tr>\n",
       "    <tr>\n",
       "      <th>4</th>\n",
       "      <td>33.0</td>\n",
       "      <td>unknown</td>\n",
       "      <td>single</td>\n",
       "      <td>unknown</td>\n",
       "      <td>no</td>\n",
       "      <td>1.0</td>\n",
       "      <td>no</td>\n",
       "      <td>no</td>\n",
       "      <td>NaN</td>\n",
       "      <td>5.0</td>\n",
       "      <td>may</td>\n",
       "      <td>198.0</td>\n",
       "      <td>1.0</td>\n",
       "      <td>-1.0</td>\n",
       "      <td>0.0</td>\n",
       "      <td>unknown</td>\n",
       "      <td>no</td>\n",
       "    </tr>\n",
       "  </tbody>\n",
       "</table>\n",
       "</div>"
      ],
      "text/plain": [
       "    age           job  marital  education default  balance housing loan  \\\n",
       "0  58.0    management  married   tertiary      no   2143.0     yes   no   \n",
       "1   NaN    technician   single  secondary      no     29.0     yes   no   \n",
       "2   NaN  entrepreneur  married  secondary      no      2.0     yes  yes   \n",
       "3   NaN   blue-collar  married    unknown      no   1506.0     yes   no   \n",
       "4  33.0       unknown   single    unknown      no      1.0      no   no   \n",
       "\n",
       "   contact  day month  duration  campaign  pdays  previous poutcome   y  \n",
       "0  unknown  NaN   NaN     261.0       1.0   -1.0       0.0  unknown  no  \n",
       "1  unknown  5.0   may     151.0       1.0   -1.0       0.0  unknown  no  \n",
       "2  unknown  5.0   may      76.0       1.0   -1.0       0.0  unknown  no  \n",
       "3  unknown  5.0   may      92.0       1.0   -1.0       0.0  unknown  no  \n",
       "4      NaN  5.0   may     198.0       1.0   -1.0       0.0  unknown  no  "
      ]
     },
     "execution_count": 12,
     "metadata": {},
     "output_type": "execute_result"
    }
   ],
   "source": [
    "bank.head()"
   ]
  },
  {
   "cell_type": "code",
   "execution_count": 13,
   "id": "b3e050d9",
   "metadata": {},
   "outputs": [],
   "source": [
    "output_data = bank['y']\n",
    "\n",
    "# buat data yang berisi data target\n",
    "# pilih data dengan nama kolom 'y', lalu namakan sebagai output_data"
   ]
  },
  {
   "cell_type": "code",
   "execution_count": 14,
   "id": "5b4d8840",
   "metadata": {},
   "outputs": [
    {
     "data": {
      "application/vnd.microsoft.datawrangler.viewer.v0+json": {
       "columns": [
        {
         "name": "index",
         "rawType": "int64",
         "type": "integer"
        },
        {
         "name": "y",
         "rawType": "object",
         "type": "string"
        }
       ],
       "ref": "4d0f23b8-f76e-495b-8189-56b87bb2042a",
       "rows": [
        [
         "0",
         "no"
        ],
        [
         "1",
         "no"
        ],
        [
         "2",
         "no"
        ],
        [
         "3",
         "no"
        ],
        [
         "4",
         "no"
        ]
       ],
       "shape": {
        "columns": 1,
        "rows": 5
       }
      },
      "text/plain": [
       "0    no\n",
       "1    no\n",
       "2    no\n",
       "3    no\n",
       "4    no\n",
       "Name: y, dtype: object"
      ]
     },
     "execution_count": 14,
     "metadata": {},
     "output_type": "execute_result"
    }
   ],
   "source": [
    "output_data.head()"
   ]
  },
  {
   "cell_type": "markdown",
   "id": "3ceaf802",
   "metadata": {},
   "source": [
    "**Buat data input**\n",
    "\n",
    "- DATA = INPUT + OUTPUT\n",
    "- DATA - OUTPUT = INPUT\n",
    "- Jadi kalau dari data, kita drop VARIABLE OUTPUT, maka tersisa hanya variabel INPUT."
   ]
  },
  {
   "cell_type": "code",
   "execution_count": 15,
   "id": "f7926c55",
   "metadata": {},
   "outputs": [],
   "source": [
    "input_data = bank.drop(['y'],\n",
    "                       axis = 1)"
   ]
  },
  {
   "cell_type": "code",
   "execution_count": 16,
   "id": "3830c471",
   "metadata": {},
   "outputs": [
    {
     "data": {
      "application/vnd.microsoft.datawrangler.viewer.v0+json": {
       "columns": [
        {
         "name": "index",
         "rawType": "int64",
         "type": "integer"
        },
        {
         "name": "age",
         "rawType": "float64",
         "type": "float"
        },
        {
         "name": "job",
         "rawType": "object",
         "type": "string"
        },
        {
         "name": "marital",
         "rawType": "object",
         "type": "string"
        },
        {
         "name": "education",
         "rawType": "object",
         "type": "string"
        },
        {
         "name": "default",
         "rawType": "object",
         "type": "string"
        },
        {
         "name": "balance",
         "rawType": "float64",
         "type": "float"
        },
        {
         "name": "housing",
         "rawType": "object",
         "type": "string"
        },
        {
         "name": "loan",
         "rawType": "object",
         "type": "string"
        },
        {
         "name": "contact",
         "rawType": "object",
         "type": "unknown"
        },
        {
         "name": "day",
         "rawType": "float64",
         "type": "float"
        },
        {
         "name": "month",
         "rawType": "object",
         "type": "unknown"
        },
        {
         "name": "duration",
         "rawType": "float64",
         "type": "float"
        },
        {
         "name": "campaign",
         "rawType": "float64",
         "type": "float"
        },
        {
         "name": "pdays",
         "rawType": "float64",
         "type": "float"
        },
        {
         "name": "previous",
         "rawType": "float64",
         "type": "float"
        },
        {
         "name": "poutcome",
         "rawType": "object",
         "type": "string"
        }
       ],
       "ref": "0dc00c98-44df-4cbf-b2ac-93019306cb62",
       "rows": [
        [
         "0",
         "58.0",
         "management",
         "married",
         "tertiary",
         "no",
         "2143.0",
         "yes",
         "no",
         "unknown",
         null,
         null,
         "261.0",
         "1.0",
         "-1.0",
         "0.0",
         "unknown"
        ],
        [
         "1",
         null,
         "technician",
         "single",
         "secondary",
         "no",
         "29.0",
         "yes",
         "no",
         "unknown",
         "5.0",
         "may",
         "151.0",
         "1.0",
         "-1.0",
         "0.0",
         "unknown"
        ],
        [
         "2",
         null,
         "entrepreneur",
         "married",
         "secondary",
         "no",
         "2.0",
         "yes",
         "yes",
         "unknown",
         "5.0",
         "may",
         "76.0",
         "1.0",
         "-1.0",
         "0.0",
         "unknown"
        ],
        [
         "3",
         null,
         "blue-collar",
         "married",
         "unknown",
         "no",
         "1506.0",
         "yes",
         "no",
         "unknown",
         "5.0",
         "may",
         "92.0",
         "1.0",
         "-1.0",
         "0.0",
         "unknown"
        ],
        [
         "4",
         "33.0",
         "unknown",
         "single",
         "unknown",
         "no",
         "1.0",
         "no",
         "no",
         null,
         "5.0",
         "may",
         "198.0",
         "1.0",
         "-1.0",
         "0.0",
         "unknown"
        ]
       ],
       "shape": {
        "columns": 16,
        "rows": 5
       }
      },
      "text/html": [
       "<div>\n",
       "<style scoped>\n",
       "    .dataframe tbody tr th:only-of-type {\n",
       "        vertical-align: middle;\n",
       "    }\n",
       "\n",
       "    .dataframe tbody tr th {\n",
       "        vertical-align: top;\n",
       "    }\n",
       "\n",
       "    .dataframe thead th {\n",
       "        text-align: right;\n",
       "    }\n",
       "</style>\n",
       "<table border=\"1\" class=\"dataframe\">\n",
       "  <thead>\n",
       "    <tr style=\"text-align: right;\">\n",
       "      <th></th>\n",
       "      <th>age</th>\n",
       "      <th>job</th>\n",
       "      <th>marital</th>\n",
       "      <th>education</th>\n",
       "      <th>default</th>\n",
       "      <th>balance</th>\n",
       "      <th>housing</th>\n",
       "      <th>loan</th>\n",
       "      <th>contact</th>\n",
       "      <th>day</th>\n",
       "      <th>month</th>\n",
       "      <th>duration</th>\n",
       "      <th>campaign</th>\n",
       "      <th>pdays</th>\n",
       "      <th>previous</th>\n",
       "      <th>poutcome</th>\n",
       "    </tr>\n",
       "  </thead>\n",
       "  <tbody>\n",
       "    <tr>\n",
       "      <th>0</th>\n",
       "      <td>58.0</td>\n",
       "      <td>management</td>\n",
       "      <td>married</td>\n",
       "      <td>tertiary</td>\n",
       "      <td>no</td>\n",
       "      <td>2143.0</td>\n",
       "      <td>yes</td>\n",
       "      <td>no</td>\n",
       "      <td>unknown</td>\n",
       "      <td>NaN</td>\n",
       "      <td>NaN</td>\n",
       "      <td>261.0</td>\n",
       "      <td>1.0</td>\n",
       "      <td>-1.0</td>\n",
       "      <td>0.0</td>\n",
       "      <td>unknown</td>\n",
       "    </tr>\n",
       "    <tr>\n",
       "      <th>1</th>\n",
       "      <td>NaN</td>\n",
       "      <td>technician</td>\n",
       "      <td>single</td>\n",
       "      <td>secondary</td>\n",
       "      <td>no</td>\n",
       "      <td>29.0</td>\n",
       "      <td>yes</td>\n",
       "      <td>no</td>\n",
       "      <td>unknown</td>\n",
       "      <td>5.0</td>\n",
       "      <td>may</td>\n",
       "      <td>151.0</td>\n",
       "      <td>1.0</td>\n",
       "      <td>-1.0</td>\n",
       "      <td>0.0</td>\n",
       "      <td>unknown</td>\n",
       "    </tr>\n",
       "    <tr>\n",
       "      <th>2</th>\n",
       "      <td>NaN</td>\n",
       "      <td>entrepreneur</td>\n",
       "      <td>married</td>\n",
       "      <td>secondary</td>\n",
       "      <td>no</td>\n",
       "      <td>2.0</td>\n",
       "      <td>yes</td>\n",
       "      <td>yes</td>\n",
       "      <td>unknown</td>\n",
       "      <td>5.0</td>\n",
       "      <td>may</td>\n",
       "      <td>76.0</td>\n",
       "      <td>1.0</td>\n",
       "      <td>-1.0</td>\n",
       "      <td>0.0</td>\n",
       "      <td>unknown</td>\n",
       "    </tr>\n",
       "    <tr>\n",
       "      <th>3</th>\n",
       "      <td>NaN</td>\n",
       "      <td>blue-collar</td>\n",
       "      <td>married</td>\n",
       "      <td>unknown</td>\n",
       "      <td>no</td>\n",
       "      <td>1506.0</td>\n",
       "      <td>yes</td>\n",
       "      <td>no</td>\n",
       "      <td>unknown</td>\n",
       "      <td>5.0</td>\n",
       "      <td>may</td>\n",
       "      <td>92.0</td>\n",
       "      <td>1.0</td>\n",
       "      <td>-1.0</td>\n",
       "      <td>0.0</td>\n",
       "      <td>unknown</td>\n",
       "    </tr>\n",
       "    <tr>\n",
       "      <th>4</th>\n",
       "      <td>33.0</td>\n",
       "      <td>unknown</td>\n",
       "      <td>single</td>\n",
       "      <td>unknown</td>\n",
       "      <td>no</td>\n",
       "      <td>1.0</td>\n",
       "      <td>no</td>\n",
       "      <td>no</td>\n",
       "      <td>NaN</td>\n",
       "      <td>5.0</td>\n",
       "      <td>may</td>\n",
       "      <td>198.0</td>\n",
       "      <td>1.0</td>\n",
       "      <td>-1.0</td>\n",
       "      <td>0.0</td>\n",
       "      <td>unknown</td>\n",
       "    </tr>\n",
       "  </tbody>\n",
       "</table>\n",
       "</div>"
      ],
      "text/plain": [
       "    age           job  marital  education default  balance housing loan  \\\n",
       "0  58.0    management  married   tertiary      no   2143.0     yes   no   \n",
       "1   NaN    technician   single  secondary      no     29.0     yes   no   \n",
       "2   NaN  entrepreneur  married  secondary      no      2.0     yes  yes   \n",
       "3   NaN   blue-collar  married    unknown      no   1506.0     yes   no   \n",
       "4  33.0       unknown   single    unknown      no      1.0      no   no   \n",
       "\n",
       "   contact  day month  duration  campaign  pdays  previous poutcome  \n",
       "0  unknown  NaN   NaN     261.0       1.0   -1.0       0.0  unknown  \n",
       "1  unknown  5.0   may     151.0       1.0   -1.0       0.0  unknown  \n",
       "2  unknown  5.0   may      76.0       1.0   -1.0       0.0  unknown  \n",
       "3  unknown  5.0   may      92.0       1.0   -1.0       0.0  unknown  \n",
       "4      NaN  5.0   may     198.0       1.0   -1.0       0.0  unknown  "
      ]
     },
     "execution_count": 16,
     "metadata": {},
     "output_type": "execute_result"
    }
   ],
   "source": [
    "input_data.head()"
   ]
  },
  {
   "cell_type": "markdown",
   "id": "8dab6499",
   "metadata": {},
   "source": [
    "**Buat semuanya jadi fungsi**\n",
    "1. buat output_data\n",
    "2. buat input_data\n",
    "3. return input_data dan output_data"
   ]
  },
  {
   "cell_type": "code",
   "execution_count": 17,
   "id": "7d6e401c",
   "metadata": {},
   "outputs": [],
   "source": [
    "# isi perintah yang akan dimasukan ke dalam fungsi\n",
    "output_data = bank['y']\n",
    "input_data  = bank.drop('y', \n",
    "                        axis=1)"
   ]
  },
  {
   "cell_type": "code",
   "execution_count": 18,
   "id": "de8816e0",
   "metadata": {},
   "outputs": [],
   "source": [
    "def InputOutput(data,\n",
    "                output_column_name):\n",
    "    \"\"\"\n",
    "    Fungsi untuk memisahkan data input dan output\n",
    "    :param data: <pandas dataframe> data seluruh sample\n",
    "    :param output_column_name: <string> nama kolom output\n",
    "    :return input_data: <pandas dataframe> data input\n",
    "    :return output_data: <pandas series> data output\n",
    "    \"\"\"\n",
    "    output_data = data[output_column_name] \n",
    "    input_data  = data.drop(output_column_name, \n",
    "                            axis = 1) \n",
    "    return input_data, output_data\n",
    "   \n",
    "# (data, output_column_name) adalah argumen\n",
    "# Argumen adalah sebuah variable. \n",
    "# Jika fungsi tsb. diberi argumen data = bank_df, \n",
    "# maka semua variabel 'data' di dalam fungsi akan berubah menjadi bank_df"
   ]
  },
  {
   "cell_type": "code",
   "execution_count": 19,
   "id": "6e4fa666",
   "metadata": {},
   "outputs": [],
   "source": [
    "# jangan sampai salah urutan dalam penempatan return\n",
    "x, y = InputOutput(data = bank,\n",
    "                   output_column_name= \"y\")"
   ]
  },
  {
   "cell_type": "markdown",
   "id": "41a94daf",
   "metadata": {},
   "source": [
    "**Selalu sanity check!**"
   ]
  },
  {
   "cell_type": "code",
   "execution_count": 20,
   "id": "f68b51ea",
   "metadata": {},
   "outputs": [
    {
     "data": {
      "application/vnd.microsoft.datawrangler.viewer.v0+json": {
       "columns": [
        {
         "name": "index",
         "rawType": "int64",
         "type": "integer"
        },
        {
         "name": "age",
         "rawType": "float64",
         "type": "float"
        },
        {
         "name": "job",
         "rawType": "object",
         "type": "string"
        },
        {
         "name": "marital",
         "rawType": "object",
         "type": "string"
        },
        {
         "name": "education",
         "rawType": "object",
         "type": "string"
        },
        {
         "name": "default",
         "rawType": "object",
         "type": "string"
        },
        {
         "name": "balance",
         "rawType": "float64",
         "type": "float"
        },
        {
         "name": "housing",
         "rawType": "object",
         "type": "string"
        },
        {
         "name": "loan",
         "rawType": "object",
         "type": "string"
        },
        {
         "name": "contact",
         "rawType": "object",
         "type": "string"
        },
        {
         "name": "day",
         "rawType": "float64",
         "type": "float"
        },
        {
         "name": "month",
         "rawType": "object",
         "type": "unknown"
        },
        {
         "name": "duration",
         "rawType": "float64",
         "type": "float"
        },
        {
         "name": "campaign",
         "rawType": "float64",
         "type": "float"
        },
        {
         "name": "pdays",
         "rawType": "float64",
         "type": "float"
        },
        {
         "name": "previous",
         "rawType": "float64",
         "type": "float"
        },
        {
         "name": "poutcome",
         "rawType": "object",
         "type": "string"
        }
       ],
       "ref": "c72ef0f1-9d46-4a55-9192-e2ca174cbeaf",
       "rows": [
        [
         "0",
         "58.0",
         "management",
         "married",
         "tertiary",
         "no",
         "2143.0",
         "yes",
         "no",
         "unknown",
         null,
         null,
         "261.0",
         "1.0",
         "-1.0",
         "0.0",
         "unknown"
        ],
        [
         "1",
         null,
         "technician",
         "single",
         "secondary",
         "no",
         "29.0",
         "yes",
         "no",
         "unknown",
         "5.0",
         "may",
         "151.0",
         "1.0",
         "-1.0",
         "0.0",
         "unknown"
        ]
       ],
       "shape": {
        "columns": 16,
        "rows": 2
       }
      },
      "text/html": [
       "<div>\n",
       "<style scoped>\n",
       "    .dataframe tbody tr th:only-of-type {\n",
       "        vertical-align: middle;\n",
       "    }\n",
       "\n",
       "    .dataframe tbody tr th {\n",
       "        vertical-align: top;\n",
       "    }\n",
       "\n",
       "    .dataframe thead th {\n",
       "        text-align: right;\n",
       "    }\n",
       "</style>\n",
       "<table border=\"1\" class=\"dataframe\">\n",
       "  <thead>\n",
       "    <tr style=\"text-align: right;\">\n",
       "      <th></th>\n",
       "      <th>age</th>\n",
       "      <th>job</th>\n",
       "      <th>marital</th>\n",
       "      <th>education</th>\n",
       "      <th>default</th>\n",
       "      <th>balance</th>\n",
       "      <th>housing</th>\n",
       "      <th>loan</th>\n",
       "      <th>contact</th>\n",
       "      <th>day</th>\n",
       "      <th>month</th>\n",
       "      <th>duration</th>\n",
       "      <th>campaign</th>\n",
       "      <th>pdays</th>\n",
       "      <th>previous</th>\n",
       "      <th>poutcome</th>\n",
       "    </tr>\n",
       "  </thead>\n",
       "  <tbody>\n",
       "    <tr>\n",
       "      <th>0</th>\n",
       "      <td>58.0</td>\n",
       "      <td>management</td>\n",
       "      <td>married</td>\n",
       "      <td>tertiary</td>\n",
       "      <td>no</td>\n",
       "      <td>2143.0</td>\n",
       "      <td>yes</td>\n",
       "      <td>no</td>\n",
       "      <td>unknown</td>\n",
       "      <td>NaN</td>\n",
       "      <td>NaN</td>\n",
       "      <td>261.0</td>\n",
       "      <td>1.0</td>\n",
       "      <td>-1.0</td>\n",
       "      <td>0.0</td>\n",
       "      <td>unknown</td>\n",
       "    </tr>\n",
       "    <tr>\n",
       "      <th>1</th>\n",
       "      <td>NaN</td>\n",
       "      <td>technician</td>\n",
       "      <td>single</td>\n",
       "      <td>secondary</td>\n",
       "      <td>no</td>\n",
       "      <td>29.0</td>\n",
       "      <td>yes</td>\n",
       "      <td>no</td>\n",
       "      <td>unknown</td>\n",
       "      <td>5.0</td>\n",
       "      <td>may</td>\n",
       "      <td>151.0</td>\n",
       "      <td>1.0</td>\n",
       "      <td>-1.0</td>\n",
       "      <td>0.0</td>\n",
       "      <td>unknown</td>\n",
       "    </tr>\n",
       "  </tbody>\n",
       "</table>\n",
       "</div>"
      ],
      "text/plain": [
       "    age         job  marital  education default  balance housing loan  \\\n",
       "0  58.0  management  married   tertiary      no   2143.0     yes   no   \n",
       "1   NaN  technician   single  secondary      no     29.0     yes   no   \n",
       "\n",
       "   contact  day month  duration  campaign  pdays  previous poutcome  \n",
       "0  unknown  NaN   NaN     261.0       1.0   -1.0       0.0  unknown  \n",
       "1  unknown  5.0   may     151.0       1.0   -1.0       0.0  unknown  "
      ]
     },
     "execution_count": 20,
     "metadata": {},
     "output_type": "execute_result"
    }
   ],
   "source": [
    "x.head(2)"
   ]
  },
  {
   "cell_type": "code",
   "execution_count": 21,
   "id": "45d45c78",
   "metadata": {},
   "outputs": [
    {
     "data": {
      "application/vnd.microsoft.datawrangler.viewer.v0+json": {
       "columns": [
        {
         "name": "index",
         "rawType": "int64",
         "type": "integer"
        },
        {
         "name": "y",
         "rawType": "object",
         "type": "string"
        }
       ],
       "ref": "f9dfcb1e-3539-411d-ba18-782e69a63f10",
       "rows": [
        [
         "0",
         "no"
        ],
        [
         "1",
         "no"
        ]
       ],
       "shape": {
        "columns": 1,
        "rows": 2
       }
      },
      "text/plain": [
       "0    no\n",
       "1    no\n",
       "Name: y, dtype: object"
      ]
     },
     "execution_count": 21,
     "metadata": {},
     "output_type": "execute_result"
    }
   ],
   "source": [
    "y.head(2)"
   ]
  },
  {
   "cell_type": "markdown",
   "id": "3bc49f2b",
   "metadata": {},
   "source": [
    "### **Train-Test Split**\n",
    "\n",
    "- **Kenapa?**\n",
    "  - Karena tidak mau overfit data training\n",
    "  - Test data akan menjadi future data\n",
    "  - Kita akan latih model ML di data training, dengan CV (Cross-validation)\n",
    "  - Selanjutnya melakukan evaluasi di data testing"
   ]
  },
  {
   "cell_type": "code",
   "execution_count": 22,
   "id": "e5074672",
   "metadata": {},
   "outputs": [],
   "source": [
    "# Import train-test splitting library dari sklearn (scikit learn)\n",
    "from sklearn.model_selection import train_test_split "
   ]
  },
  {
   "cell_type": "markdown",
   "id": "9191658b",
   "metadata": {},
   "source": [
    "**Train Test Split Function**\n",
    "1. `X` adalah input\n",
    "2. `y` adalah output (target)\n",
    "3. `test_size` adalah seberapa besar proporsi data test dari keseluruhan data. Contoh `test_size = 0.2` artinya data test akan berisi 20% data.\n",
    "4. `random_state` adalah kunci untuk random. Harus di-setting sama. Misal `random_state = 123`.\n",
    "5. Output:\n",
    "   - `X_train` = input dari data training\n",
    "   - `X_test` = input dari data testing\n",
    "   - `y_train` = output dari data training\n",
    "   - `y_test` = output dari data testing\n",
    "6. Urutan outputnya: `X_train, X_test, y_train, y_test`. Tidak boleh terbalik\n",
    "\n",
    "> Readmore: https://scikit-learn.org/stable/modules/generated/sklearn.model_selection.train_test_split.html"
   ]
  },
  {
   "cell_type": "code",
   "execution_count": 23,
   "id": "ddafe429",
   "metadata": {},
   "outputs": [],
   "source": [
    "# Train test split\n",
    "x_train, x_test, y_train, y_test = train_test_split(x, y,\n",
    "                                                    test_size = 0.25,\n",
    "                                                    random_state= 12)"
   ]
  },
  {
   "cell_type": "code",
   "execution_count": 24,
   "id": "05bcfdcd",
   "metadata": {},
   "outputs": [
    {
     "name": "stdout",
     "output_type": "stream",
     "text": [
      "(33908, 16)\n",
      "(11303, 16)\n"
     ]
    }
   ],
   "source": [
    "# Sanity check hasil splitting\n",
    "print(x_train.shape)\n",
    "print(x_test.shape)"
   ]
  },
  {
   "cell_type": "code",
   "execution_count": 25,
   "id": "69d8d05d",
   "metadata": {},
   "outputs": [
    {
     "data": {
      "text/plain": [
       "0.25000552962774547"
      ]
     },
     "execution_count": 25,
     "metadata": {},
     "output_type": "execute_result"
    }
   ],
   "source": [
    "# Rasio \n",
    "x_test.shape[0] / x.shape[0]\n",
    "\n",
    "# Hasil 0.25 - sesuai dengan test_size kita"
   ]
  },
  {
   "cell_type": "markdown",
   "id": "3de49c4f",
   "metadata": {},
   "source": [
    "**Selamat!** - Anda sudah memiliki data train & test\n",
    "\n",
    "> Selanjutnya, hanya **fokus** ke data **training**"
   ]
  },
  {
   "cell_type": "markdown",
   "id": "6e2676e0",
   "metadata": {},
   "source": [
    "### **Data Imputation**\n",
    "\n",
    "- Proses pengisian data yang kosong (NaN)\n",
    "- Ada 2 hal yang diperhatikan:\n",
    "  - Numerical Imputation\n",
    "  - Categorical Imputation"
   ]
  },
  {
   "cell_type": "markdown",
   "id": "2232d48e",
   "metadata": {},
   "source": [
    "**Cek data yang kosong dari variabel input**"
   ]
  },
  {
   "cell_type": "code",
   "execution_count": 26,
   "id": "5ba67bfb",
   "metadata": {},
   "outputs": [
    {
     "data": {
      "application/vnd.microsoft.datawrangler.viewer.v0+json": {
       "columns": [
        {
         "name": "index",
         "rawType": "object",
         "type": "string"
        },
        {
         "name": "0",
         "rawType": "int64",
         "type": "integer"
        }
       ],
       "ref": "cd2af990-b792-4e1f-aa41-f04c6eaaa0a3",
       "rows": [
        [
         "age",
         "2626"
        ],
        [
         "job",
         "2650"
        ],
        [
         "marital",
         "2650"
        ],
        [
         "education",
         "2542"
        ],
        [
         "default",
         "2689"
        ],
        [
         "balance",
         "2574"
        ],
        [
         "housing",
         "2660"
        ],
        [
         "loan",
         "2668"
        ],
        [
         "contact",
         "2695"
        ],
        [
         "day",
         "2617"
        ],
        [
         "month",
         "2602"
        ],
        [
         "duration",
         "2701"
        ],
        [
         "campaign",
         "2614"
        ],
        [
         "pdays",
         "2634"
        ],
        [
         "previous",
         "2638"
        ],
        [
         "poutcome",
         "2629"
        ]
       ],
       "shape": {
        "columns": 1,
        "rows": 16
       }
      },
      "text/plain": [
       "age          2626\n",
       "job          2650\n",
       "marital      2650\n",
       "education    2542\n",
       "default      2689\n",
       "balance      2574\n",
       "housing      2660\n",
       "loan         2668\n",
       "contact      2695\n",
       "day          2617\n",
       "month        2602\n",
       "duration     2701\n",
       "campaign     2614\n",
       "pdays        2634\n",
       "previous     2638\n",
       "poutcome     2629\n",
       "dtype: int64"
      ]
     },
     "execution_count": 26,
     "metadata": {},
     "output_type": "execute_result"
    }
   ],
   "source": [
    "x_train.isnull().sum()\n",
    "\n",
    "# Output: nama variabel, True/False.\n",
    "# Jika True, maka ada data yang kosong\n",
    "\n",
    "# Ada 2500-2700 data yang kosong"
   ]
  },
  {
   "cell_type": "markdown",
   "id": "36a3aa62",
   "metadata": {},
   "source": [
    "**Bedakan antara data categorical & numerical**"
   ]
  },
  {
   "cell_type": "code",
   "execution_count": 27,
   "id": "a2f3094d",
   "metadata": {},
   "outputs": [
    {
     "data": {
      "application/vnd.microsoft.datawrangler.viewer.v0+json": {
       "columns": [
        {
         "name": "index",
         "rawType": "int64",
         "type": "integer"
        },
        {
         "name": "age",
         "rawType": "float64",
         "type": "float"
        },
        {
         "name": "job",
         "rawType": "object",
         "type": "string"
        },
        {
         "name": "marital",
         "rawType": "object",
         "type": "unknown"
        },
        {
         "name": "education",
         "rawType": "object",
         "type": "unknown"
        },
        {
         "name": "default",
         "rawType": "object",
         "type": "string"
        },
        {
         "name": "balance",
         "rawType": "float64",
         "type": "float"
        },
        {
         "name": "housing",
         "rawType": "object",
         "type": "string"
        },
        {
         "name": "loan",
         "rawType": "object",
         "type": "unknown"
        },
        {
         "name": "contact",
         "rawType": "object",
         "type": "string"
        },
        {
         "name": "day",
         "rawType": "float64",
         "type": "float"
        },
        {
         "name": "month",
         "rawType": "object",
         "type": "unknown"
        },
        {
         "name": "duration",
         "rawType": "float64",
         "type": "float"
        },
        {
         "name": "campaign",
         "rawType": "float64",
         "type": "float"
        },
        {
         "name": "pdays",
         "rawType": "float64",
         "type": "float"
        },
        {
         "name": "previous",
         "rawType": "float64",
         "type": "float"
        },
        {
         "name": "poutcome",
         "rawType": "object",
         "type": "string"
        }
       ],
       "ref": "cc0fd004-d31e-4cae-9a5a-209737fa1cae",
       "rows": [
        [
         "37156",
         "35.0",
         "management",
         "single",
         "tertiary",
         "no",
         "2749.0",
         "no",
         "no",
         "cellular",
         "13.0",
         "may",
         "127.0",
         "1.0",
         "-1.0",
         "0.0",
         "unknown"
        ],
        [
         "20494",
         "30.0",
         "management",
         null,
         null,
         "no",
         "443.0",
         "yes",
         null,
         "cellular",
         "12.0",
         null,
         "80.0",
         "2.0",
         "-1.0",
         "0.0",
         "unknown"
        ],
        [
         "35272",
         "39.0",
         "management",
         null,
         "tertiary",
         "no",
         "4239.0",
         "yes",
         "no",
         "cellular",
         "7.0",
         "may",
         "40.0",
         "1.0",
         "-1.0",
         "0.0",
         "unknown"
        ],
        [
         "22260",
         "49.0",
         "services",
         null,
         null,
         "no",
         "400.0",
         "no",
         "no",
         "cellular",
         "21.0",
         "aug",
         "151.0",
         "3.0",
         "-1.0",
         "0.0",
         "unknown"
        ],
        [
         "2728",
         "28.0",
         "technician",
         "single",
         "secondary",
         "no",
         "468.0",
         "yes",
         "no",
         "unknown",
         "13.0",
         "may",
         "152.0",
         "3.0",
         "-1.0",
         "0.0",
         "unknown"
        ]
       ],
       "shape": {
        "columns": 16,
        "rows": 5
       }
      },
      "text/html": [
       "<div>\n",
       "<style scoped>\n",
       "    .dataframe tbody tr th:only-of-type {\n",
       "        vertical-align: middle;\n",
       "    }\n",
       "\n",
       "    .dataframe tbody tr th {\n",
       "        vertical-align: top;\n",
       "    }\n",
       "\n",
       "    .dataframe thead th {\n",
       "        text-align: right;\n",
       "    }\n",
       "</style>\n",
       "<table border=\"1\" class=\"dataframe\">\n",
       "  <thead>\n",
       "    <tr style=\"text-align: right;\">\n",
       "      <th></th>\n",
       "      <th>age</th>\n",
       "      <th>job</th>\n",
       "      <th>marital</th>\n",
       "      <th>education</th>\n",
       "      <th>default</th>\n",
       "      <th>balance</th>\n",
       "      <th>housing</th>\n",
       "      <th>loan</th>\n",
       "      <th>contact</th>\n",
       "      <th>day</th>\n",
       "      <th>month</th>\n",
       "      <th>duration</th>\n",
       "      <th>campaign</th>\n",
       "      <th>pdays</th>\n",
       "      <th>previous</th>\n",
       "      <th>poutcome</th>\n",
       "    </tr>\n",
       "  </thead>\n",
       "  <tbody>\n",
       "    <tr>\n",
       "      <th>37156</th>\n",
       "      <td>35.0</td>\n",
       "      <td>management</td>\n",
       "      <td>single</td>\n",
       "      <td>tertiary</td>\n",
       "      <td>no</td>\n",
       "      <td>2749.0</td>\n",
       "      <td>no</td>\n",
       "      <td>no</td>\n",
       "      <td>cellular</td>\n",
       "      <td>13.0</td>\n",
       "      <td>may</td>\n",
       "      <td>127.0</td>\n",
       "      <td>1.0</td>\n",
       "      <td>-1.0</td>\n",
       "      <td>0.0</td>\n",
       "      <td>unknown</td>\n",
       "    </tr>\n",
       "    <tr>\n",
       "      <th>20494</th>\n",
       "      <td>30.0</td>\n",
       "      <td>management</td>\n",
       "      <td>NaN</td>\n",
       "      <td>NaN</td>\n",
       "      <td>no</td>\n",
       "      <td>443.0</td>\n",
       "      <td>yes</td>\n",
       "      <td>NaN</td>\n",
       "      <td>cellular</td>\n",
       "      <td>12.0</td>\n",
       "      <td>NaN</td>\n",
       "      <td>80.0</td>\n",
       "      <td>2.0</td>\n",
       "      <td>-1.0</td>\n",
       "      <td>0.0</td>\n",
       "      <td>unknown</td>\n",
       "    </tr>\n",
       "    <tr>\n",
       "      <th>35272</th>\n",
       "      <td>39.0</td>\n",
       "      <td>management</td>\n",
       "      <td>NaN</td>\n",
       "      <td>tertiary</td>\n",
       "      <td>no</td>\n",
       "      <td>4239.0</td>\n",
       "      <td>yes</td>\n",
       "      <td>no</td>\n",
       "      <td>cellular</td>\n",
       "      <td>7.0</td>\n",
       "      <td>may</td>\n",
       "      <td>40.0</td>\n",
       "      <td>1.0</td>\n",
       "      <td>-1.0</td>\n",
       "      <td>0.0</td>\n",
       "      <td>unknown</td>\n",
       "    </tr>\n",
       "    <tr>\n",
       "      <th>22260</th>\n",
       "      <td>49.0</td>\n",
       "      <td>services</td>\n",
       "      <td>NaN</td>\n",
       "      <td>NaN</td>\n",
       "      <td>no</td>\n",
       "      <td>400.0</td>\n",
       "      <td>no</td>\n",
       "      <td>no</td>\n",
       "      <td>cellular</td>\n",
       "      <td>21.0</td>\n",
       "      <td>aug</td>\n",
       "      <td>151.0</td>\n",
       "      <td>3.0</td>\n",
       "      <td>-1.0</td>\n",
       "      <td>0.0</td>\n",
       "      <td>unknown</td>\n",
       "    </tr>\n",
       "    <tr>\n",
       "      <th>2728</th>\n",
       "      <td>28.0</td>\n",
       "      <td>technician</td>\n",
       "      <td>single</td>\n",
       "      <td>secondary</td>\n",
       "      <td>no</td>\n",
       "      <td>468.0</td>\n",
       "      <td>yes</td>\n",
       "      <td>no</td>\n",
       "      <td>unknown</td>\n",
       "      <td>13.0</td>\n",
       "      <td>may</td>\n",
       "      <td>152.0</td>\n",
       "      <td>3.0</td>\n",
       "      <td>-1.0</td>\n",
       "      <td>0.0</td>\n",
       "      <td>unknown</td>\n",
       "    </tr>\n",
       "  </tbody>\n",
       "</table>\n",
       "</div>"
      ],
      "text/plain": [
       "        age         job marital  education default  balance housing loan  \\\n",
       "37156  35.0  management  single   tertiary      no   2749.0      no   no   \n",
       "20494  30.0  management     NaN        NaN      no    443.0     yes  NaN   \n",
       "35272  39.0  management     NaN   tertiary      no   4239.0     yes   no   \n",
       "22260  49.0    services     NaN        NaN      no    400.0      no   no   \n",
       "2728   28.0  technician  single  secondary      no    468.0     yes   no   \n",
       "\n",
       "        contact   day month  duration  campaign  pdays  previous poutcome  \n",
       "37156  cellular  13.0   may     127.0       1.0   -1.0       0.0  unknown  \n",
       "20494  cellular  12.0   NaN      80.0       2.0   -1.0       0.0  unknown  \n",
       "35272  cellular   7.0   may      40.0       1.0   -1.0       0.0  unknown  \n",
       "22260  cellular  21.0   aug     151.0       3.0   -1.0       0.0  unknown  \n",
       "2728    unknown  13.0   may     152.0       3.0   -1.0       0.0  unknown  "
      ]
     },
     "execution_count": 27,
     "metadata": {},
     "output_type": "execute_result"
    }
   ],
   "source": [
    "x_train.head()"
   ]
  },
  {
   "cell_type": "markdown",
   "id": "e73498ba",
   "metadata": {},
   "source": [
    "Data kategorikal:\n",
    "- job\n",
    "- marital\n",
    "- education\n",
    "- default\n",
    "- housing\n",
    "- loan\n",
    "- contact\n",
    "- month\n",
    "- poutcome\n",
    "\n",
    "Sisanya adalah numerical"
   ]
  },
  {
   "cell_type": "markdown",
   "id": "b1d63ef1",
   "metadata": {},
   "source": [
    "**Numerical Imputation**"
   ]
  },
  {
   "cell_type": "code",
   "execution_count": 28,
   "id": "4fc69f7f",
   "metadata": {},
   "outputs": [
    {
     "data": {
      "text/plain": [
       "Index(['age', 'job', 'marital', 'education', 'default', 'balance', 'housing',\n",
       "       'loan', 'contact', 'day', 'month', 'duration', 'campaign', 'pdays',\n",
       "       'previous', 'poutcome'],\n",
       "      dtype='object')"
      ]
     },
     "execution_count": 28,
     "metadata": {},
     "output_type": "execute_result"
    }
   ],
   "source": [
    "x_train.columns"
   ]
  },
  {
   "cell_type": "code",
   "execution_count": 29,
   "id": "372273e6",
   "metadata": {},
   "outputs": [],
   "source": [
    "# Buat kolom numerik\n",
    "numeric_columns = ['age', 'balance', 'day', 'duration', \n",
    "                   'campaign', 'pdays', 'previous']"
   ]
  },
  {
   "cell_type": "code",
   "execution_count": 30,
   "id": "47d1b56c",
   "metadata": {},
   "outputs": [],
   "source": [
    "# seleksi dataframe numerik\n",
    "x_train_numerical = x_train[numeric_columns]"
   ]
  },
  {
   "cell_type": "code",
   "execution_count": 31,
   "id": "00d7a1f9",
   "metadata": {},
   "outputs": [
    {
     "data": {
      "application/vnd.microsoft.datawrangler.viewer.v0+json": {
       "columns": [
        {
         "name": "index",
         "rawType": "int64",
         "type": "integer"
        },
        {
         "name": "age",
         "rawType": "float64",
         "type": "float"
        },
        {
         "name": "balance",
         "rawType": "float64",
         "type": "float"
        },
        {
         "name": "day",
         "rawType": "float64",
         "type": "float"
        },
        {
         "name": "duration",
         "rawType": "float64",
         "type": "float"
        },
        {
         "name": "campaign",
         "rawType": "float64",
         "type": "float"
        },
        {
         "name": "pdays",
         "rawType": "float64",
         "type": "float"
        },
        {
         "name": "previous",
         "rawType": "float64",
         "type": "float"
        }
       ],
       "ref": "aa87bbce-620a-4a44-8c9d-1ec4ac516bc7",
       "rows": [
        [
         "37156",
         "35.0",
         "2749.0",
         "13.0",
         "127.0",
         "1.0",
         "-1.0",
         "0.0"
        ],
        [
         "20494",
         "30.0",
         "443.0",
         "12.0",
         "80.0",
         "2.0",
         "-1.0",
         "0.0"
        ],
        [
         "35272",
         "39.0",
         "4239.0",
         "7.0",
         "40.0",
         "1.0",
         "-1.0",
         "0.0"
        ],
        [
         "22260",
         "49.0",
         "400.0",
         "21.0",
         "151.0",
         "3.0",
         "-1.0",
         "0.0"
        ],
        [
         "2728",
         "28.0",
         "468.0",
         "13.0",
         "152.0",
         "3.0",
         "-1.0",
         "0.0"
        ]
       ],
       "shape": {
        "columns": 7,
        "rows": 5
       }
      },
      "text/html": [
       "<div>\n",
       "<style scoped>\n",
       "    .dataframe tbody tr th:only-of-type {\n",
       "        vertical-align: middle;\n",
       "    }\n",
       "\n",
       "    .dataframe tbody tr th {\n",
       "        vertical-align: top;\n",
       "    }\n",
       "\n",
       "    .dataframe thead th {\n",
       "        text-align: right;\n",
       "    }\n",
       "</style>\n",
       "<table border=\"1\" class=\"dataframe\">\n",
       "  <thead>\n",
       "    <tr style=\"text-align: right;\">\n",
       "      <th></th>\n",
       "      <th>age</th>\n",
       "      <th>balance</th>\n",
       "      <th>day</th>\n",
       "      <th>duration</th>\n",
       "      <th>campaign</th>\n",
       "      <th>pdays</th>\n",
       "      <th>previous</th>\n",
       "    </tr>\n",
       "  </thead>\n",
       "  <tbody>\n",
       "    <tr>\n",
       "      <th>37156</th>\n",
       "      <td>35.0</td>\n",
       "      <td>2749.0</td>\n",
       "      <td>13.0</td>\n",
       "      <td>127.0</td>\n",
       "      <td>1.0</td>\n",
       "      <td>-1.0</td>\n",
       "      <td>0.0</td>\n",
       "    </tr>\n",
       "    <tr>\n",
       "      <th>20494</th>\n",
       "      <td>30.0</td>\n",
       "      <td>443.0</td>\n",
       "      <td>12.0</td>\n",
       "      <td>80.0</td>\n",
       "      <td>2.0</td>\n",
       "      <td>-1.0</td>\n",
       "      <td>0.0</td>\n",
       "    </tr>\n",
       "    <tr>\n",
       "      <th>35272</th>\n",
       "      <td>39.0</td>\n",
       "      <td>4239.0</td>\n",
       "      <td>7.0</td>\n",
       "      <td>40.0</td>\n",
       "      <td>1.0</td>\n",
       "      <td>-1.0</td>\n",
       "      <td>0.0</td>\n",
       "    </tr>\n",
       "    <tr>\n",
       "      <th>22260</th>\n",
       "      <td>49.0</td>\n",
       "      <td>400.0</td>\n",
       "      <td>21.0</td>\n",
       "      <td>151.0</td>\n",
       "      <td>3.0</td>\n",
       "      <td>-1.0</td>\n",
       "      <td>0.0</td>\n",
       "    </tr>\n",
       "    <tr>\n",
       "      <th>2728</th>\n",
       "      <td>28.0</td>\n",
       "      <td>468.0</td>\n",
       "      <td>13.0</td>\n",
       "      <td>152.0</td>\n",
       "      <td>3.0</td>\n",
       "      <td>-1.0</td>\n",
       "      <td>0.0</td>\n",
       "    </tr>\n",
       "  </tbody>\n",
       "</table>\n",
       "</div>"
      ],
      "text/plain": [
       "        age  balance   day  duration  campaign  pdays  previous\n",
       "37156  35.0   2749.0  13.0     127.0       1.0   -1.0       0.0\n",
       "20494  30.0    443.0  12.0      80.0       2.0   -1.0       0.0\n",
       "35272  39.0   4239.0   7.0      40.0       1.0   -1.0       0.0\n",
       "22260  49.0    400.0  21.0     151.0       3.0   -1.0       0.0\n",
       "2728   28.0    468.0  13.0     152.0       3.0   -1.0       0.0"
      ]
     },
     "execution_count": 31,
     "metadata": {},
     "output_type": "execute_result"
    }
   ],
   "source": [
    "x_train_numerical.head()"
   ]
  },
  {
   "cell_type": "markdown",
   "id": "4df8ae9d",
   "metadata": {},
   "source": [
    "**Cek apakah ada data numerik yang kosong**"
   ]
  },
  {
   "cell_type": "code",
   "execution_count": 32,
   "id": "2649814c",
   "metadata": {},
   "outputs": [
    {
     "data": {
      "application/vnd.microsoft.datawrangler.viewer.v0+json": {
       "columns": [
        {
         "name": "index",
         "rawType": "object",
         "type": "string"
        },
        {
         "name": "0",
         "rawType": "bool",
         "type": "boolean"
        }
       ],
       "ref": "59151810-175d-4a22-aec6-b94e9365908b",
       "rows": [
        [
         "age",
         "True"
        ],
        [
         "balance",
         "True"
        ],
        [
         "day",
         "True"
        ],
        [
         "duration",
         "True"
        ],
        [
         "campaign",
         "True"
        ],
        [
         "pdays",
         "True"
        ],
        [
         "previous",
         "True"
        ]
       ],
       "shape": {
        "columns": 1,
        "rows": 7
       }
      },
      "text/plain": [
       "age         True\n",
       "balance     True\n",
       "day         True\n",
       "duration    True\n",
       "campaign    True\n",
       "pdays       True\n",
       "previous    True\n",
       "dtype: bool"
      ]
     },
     "execution_count": 32,
     "metadata": {},
     "output_type": "execute_result"
    }
   ],
   "source": [
    "x_train_numerical.isnull().any()\n",
    "\n",
    "# Semua variabel numerical memiliki missing values"
   ]
  },
  {
   "cell_type": "markdown",
   "id": "db411b9f",
   "metadata": {},
   "source": [
    "**Gunakan imputer dari sklearn untuk data imputation numerik saja**"
   ]
  },
  {
   "cell_type": "code",
   "execution_count": 33,
   "id": "5074f916",
   "metadata": {},
   "outputs": [],
   "source": [
    "from sklearn.impute import SimpleImputer"
   ]
  },
  {
   "cell_type": "code",
   "execution_count": 34,
   "id": "310f3f47",
   "metadata": {},
   "outputs": [],
   "source": [
    "imputer = SimpleImputer(missing_values= np.nan, \n",
    "                        strategy= 'median')\n",
    "\n",
    "\n",
    "# namakan function SimpleImputer menjadi imputer, jangan lupa tanda kurung ()\n",
    "# missing_values adalah tanda missing values dalam data.\n",
    "#   - bisa NaN, bisa 999, bisa \"KOSONG\"\n",
    "# Strategy median adalah strategy imputasi, \n",
    "# jika data kosong, diganti dengan median target\n",
    "# Strategi lainnya adalah: mean"
   ]
  },
  {
   "cell_type": "markdown",
   "id": "85cc1d45",
   "metadata": {},
   "source": [
    "- `fit` : imputer agar mengetahui mean atau median dari tiap kolom\n",
    "- `transform` : isi data dengan median atau mean\n",
    "- output dari transform adalah pandas dataframe\n",
    "- namakan kolom `X_train_numerical_imputed` sesuai dengan `X_train_numerical`.\n",
    "   - MENGAPA? karena kita kehilangan nama kolom setelah data imputation\n",
    "- beri index dari `X_train_numerical_imputed` sesuai dengan `X_train_numerical`.\n",
    "   - MENGAPA? karena kita kehilangan index setelah data imputation"
   ]
  },
  {
   "cell_type": "code",
   "execution_count": 35,
   "id": "54a1f3af",
   "metadata": {},
   "outputs": [],
   "source": [
    "# isi perintah yang akan dibuat dalam fungsi\n",
    "\n",
    "# fit imputer\n",
    "imputer.fit(x_train_numerical)\n",
    "\n",
    "# Transform\n",
    "imputed_data = imputer.transform(x_train_numerical)\n",
    "x_train_numerical_imputed = pd.DataFrame(imputed_data)\n",
    "\n",
    "x_train_numerical_imputed.columns = x_train_numerical.columns\n",
    "x_train_numerical_imputed.index = x_train_numerical.index"
   ]
  },
  {
   "cell_type": "code",
   "execution_count": 36,
   "id": "8f9b3d95",
   "metadata": {},
   "outputs": [
    {
     "data": {
      "text/plain": [
       "np.int64(0)"
      ]
     },
     "execution_count": 36,
     "metadata": {},
     "output_type": "execute_result"
    }
   ],
   "source": [
    "x_train_numerical_imputed.isnull().any().sum()"
   ]
  },
  {
   "cell_type": "markdown",
   "id": "2fc57e54",
   "metadata": {},
   "source": [
    "**Mari buat dalam fungsi**"
   ]
  },
  {
   "cell_type": "code",
   "execution_count": 37,
   "id": "df006353",
   "metadata": {},
   "outputs": [],
   "source": [
    "from sklearn.impute import SimpleImputer\n",
    "\n",
    "def numericalImpputation(data, numeric_columns):\n",
    "  \"\"\"\n",
    "    Fungsi untuk melakukan imputasi data numerik\n",
    "    :param data: <pandas dataframe> sample data input\n",
    "    :param numerical_column: <list> list kolom numerik data\n",
    "    :return X_train_numerical: <pandas dataframe> data numerik\n",
    "    :return imputer_numerical: numerical imputer method\n",
    "    \"\"\"\n",
    "    \n",
    "  # filter data numerik \n",
    "  numerical_data = data[numeric_columns]\n",
    "  \n",
    "  # buat imputer\n",
    "  imputer_numerical = SimpleImputer(missing_values = np.nan, \n",
    "                                    strategy=\"median\")\n",
    "  imputer_numerical.fit(numerical_data)\n",
    "  \n",
    "  # transform \n",
    "  imputed_data = imputer_numerical.transform(numerical_data)\n",
    "  \n",
    "  \n",
    "  numerical_data_imputed = pd.DataFrame(\n",
    "    imputed_data, \n",
    "    columns=numeric_columns,\n",
    "    index=data.index)\n",
    "     \n",
    "  return numerical_data_imputed, imputer_numerical"
   ]
  },
  {
   "cell_type": "code",
   "execution_count": 38,
   "id": "08e6a4fd",
   "metadata": {},
   "outputs": [],
   "source": [
    "numeric_columns = [\"age\", \"balance\", \"day\", \"duration\", \n",
    "                    \"campaign\", \"pdays\", \"previous\"]\n",
    "\n",
    "# imputation Numeric\n",
    "x_train_numerical, imputer_numerical = numericalImpputation(data = x_train,\n",
    "                                                            numeric_columns = numeric_columns)"
   ]
  },
  {
   "cell_type": "code",
   "execution_count": 39,
   "id": "1b9cfdad",
   "metadata": {},
   "outputs": [
    {
     "data": {
      "application/vnd.microsoft.datawrangler.viewer.v0+json": {
       "columns": [
        {
         "name": "index",
         "rawType": "object",
         "type": "string"
        },
        {
         "name": "0",
         "rawType": "int64",
         "type": "integer"
        }
       ],
       "ref": "c1a4cc32-1a0d-4cf0-af53-98280c581380",
       "rows": [
        [
         "age",
         "0"
        ],
        [
         "balance",
         "0"
        ],
        [
         "day",
         "0"
        ],
        [
         "duration",
         "0"
        ],
        [
         "campaign",
         "0"
        ],
        [
         "pdays",
         "0"
        ],
        [
         "previous",
         "0"
        ]
       ],
       "shape": {
        "columns": 1,
        "rows": 7
       }
      },
      "text/plain": [
       "age         0\n",
       "balance     0\n",
       "day         0\n",
       "duration    0\n",
       "campaign    0\n",
       "pdays       0\n",
       "previous    0\n",
       "dtype: int64"
      ]
     },
     "execution_count": 39,
     "metadata": {},
     "output_type": "execute_result"
    }
   ],
   "source": [
    "x_train_numerical.isnull().sum()"
   ]
  },
  {
   "cell_type": "markdown",
   "id": "e48722dc",
   "metadata": {},
   "source": [
    "**Categorical Imputation**"
   ]
  },
  {
   "cell_type": "code",
   "execution_count": 40,
   "id": "d949660d",
   "metadata": {},
   "outputs": [],
   "source": [
    "# Ambil daftar nama kolom kategorikal\n",
    "# Anda bisa langsung menuliskanya atau mengambil list jika jumlahnya banyak\n",
    "\n",
    "x_train_columns = list(x_train.columns)\n",
    "categorical_columns = list(set(x_train_columns).difference(set(numeric_columns)))"
   ]
  },
  {
   "cell_type": "code",
   "execution_count": 41,
   "id": "2d829de8",
   "metadata": {},
   "outputs": [
    {
     "data": {
      "text/plain": [
       "['loan',\n",
       " 'marital',\n",
       " 'month',\n",
       " 'job',\n",
       " 'default',\n",
       " 'housing',\n",
       " 'poutcome',\n",
       " 'education',\n",
       " 'contact']"
      ]
     },
     "execution_count": 41,
     "metadata": {},
     "output_type": "execute_result"
    }
   ],
   "source": [
    "categorical_columns"
   ]
  },
  {
   "cell_type": "code",
   "execution_count": 42,
   "id": "5ca92a6c",
   "metadata": {},
   "outputs": [
    {
     "data": {
      "application/vnd.microsoft.datawrangler.viewer.v0+json": {
       "columns": [
        {
         "name": "index",
         "rawType": "object",
         "type": "string"
        },
        {
         "name": "0",
         "rawType": "int64",
         "type": "integer"
        }
       ],
       "ref": "62076139-4dbd-42b2-8bd8-72a27ee94b7f",
       "rows": [
        [
         "loan",
         "2668"
        ],
        [
         "marital",
         "2650"
        ],
        [
         "month",
         "2602"
        ],
        [
         "job",
         "2650"
        ],
        [
         "default",
         "2689"
        ],
        [
         "housing",
         "2660"
        ],
        [
         "poutcome",
         "2629"
        ],
        [
         "education",
         "2542"
        ],
        [
         "contact",
         "2695"
        ]
       ],
       "shape": {
        "columns": 1,
        "rows": 9
       }
      },
      "text/plain": [
       "loan         2668\n",
       "marital      2650\n",
       "month        2602\n",
       "job          2650\n",
       "default      2689\n",
       "housing      2660\n",
       "poutcome     2629\n",
       "education    2542\n",
       "contact      2695\n",
       "dtype: int64"
      ]
     },
     "execution_count": 42,
     "metadata": {},
     "output_type": "execute_result"
    }
   ],
   "source": [
    "# periksa Lagi missing value\n",
    "categorical_data = x_train[categorical_columns]\n",
    "categorical_data.isnull().sum()"
   ]
  },
  {
   "cell_type": "code",
   "execution_count": 43,
   "id": "9997429a",
   "metadata": {},
   "outputs": [],
   "source": [
    "# kita isi kolom kategorik dengan \"KOSONG\"\n",
    "categorical_data = x_train[categorical_columns]\n",
    "categorical_data    = categorical_data.fillna(value=\"KOSONG\")"
   ]
  },
  {
   "cell_type": "code",
   "execution_count": 44,
   "id": "77612614",
   "metadata": {},
   "outputs": [
    {
     "data": {
      "application/vnd.microsoft.datawrangler.viewer.v0+json": {
       "columns": [
        {
         "name": "index",
         "rawType": "object",
         "type": "string"
        },
        {
         "name": "0",
         "rawType": "int64",
         "type": "integer"
        }
       ],
       "ref": "b0845ac3-a75f-4782-891a-98720e66e65a",
       "rows": [
        [
         "loan",
         "0"
        ],
        [
         "marital",
         "0"
        ],
        [
         "month",
         "0"
        ],
        [
         "job",
         "0"
        ],
        [
         "default",
         "0"
        ],
        [
         "housing",
         "0"
        ],
        [
         "poutcome",
         "0"
        ],
        [
         "education",
         "0"
        ],
        [
         "contact",
         "0"
        ]
       ],
       "shape": {
        "columns": 1,
        "rows": 9
       }
      },
      "text/plain": [
       "loan         0\n",
       "marital      0\n",
       "month        0\n",
       "job          0\n",
       "default      0\n",
       "housing      0\n",
       "poutcome     0\n",
       "education    0\n",
       "contact      0\n",
       "dtype: int64"
      ]
     },
     "execution_count": 44,
     "metadata": {},
     "output_type": "execute_result"
    }
   ],
   "source": [
    "categorical_data.isnull().sum()"
   ]
  },
  {
   "cell_type": "markdown",
   "id": "d6a58b33",
   "metadata": {},
   "source": [
    "**Mari buat dalam bentuk function**"
   ]
  },
  {
   "cell_type": "code",
   "execution_count": 45,
   "id": "4f34c2b9",
   "metadata": {},
   "outputs": [],
   "source": [
    "def categoricalImputation(data, categorical_columns):\n",
    " \n",
    " '''Fungsi untuk melakukan imputasi data kategorik \n",
    "    : param data: <pandas dataframe> sample data input\n",
    "    : param categorical_column: <list> list kolom kategorical data\n",
    "    : return categorical_data : <pandas dataframe> data kategorikal\n",
    " '''\n",
    " \n",
    " # seleksi data \n",
    " categorical_data = data[categorical_columns]\n",
    " \n",
    " # lakukan imputasi\n",
    " categorical_data = categorical_data.fillna(value=\"KOSONG\")\n",
    " \n",
    " return categorical_data\n"
   ]
  },
  {
   "cell_type": "code",
   "execution_count": 46,
   "id": "79b6a9c5",
   "metadata": {},
   "outputs": [],
   "source": [
    "x_train_categorical = categoricalImputation(data = x_train,\n",
    "                                            categorical_columns= categorical_columns)"
   ]
  },
  {
   "cell_type": "code",
   "execution_count": 47,
   "id": "9f8e6399",
   "metadata": {},
   "outputs": [
    {
     "data": {
      "application/vnd.microsoft.datawrangler.viewer.v0+json": {
       "columns": [
        {
         "name": "index",
         "rawType": "object",
         "type": "string"
        },
        {
         "name": "0",
         "rawType": "int64",
         "type": "integer"
        }
       ],
       "ref": "fa990473-cec5-4da4-b4ed-d3ba64e81146",
       "rows": [
        [
         "loan",
         "0"
        ],
        [
         "marital",
         "0"
        ],
        [
         "month",
         "0"
        ],
        [
         "job",
         "0"
        ],
        [
         "default",
         "0"
        ],
        [
         "housing",
         "0"
        ],
        [
         "poutcome",
         "0"
        ],
        [
         "education",
         "0"
        ],
        [
         "contact",
         "0"
        ]
       ],
       "shape": {
        "columns": 1,
        "rows": 9
       }
      },
      "text/plain": [
       "loan         0\n",
       "marital      0\n",
       "month        0\n",
       "job          0\n",
       "default      0\n",
       "housing      0\n",
       "poutcome     0\n",
       "education    0\n",
       "contact      0\n",
       "dtype: int64"
      ]
     },
     "execution_count": 47,
     "metadata": {},
     "output_type": "execute_result"
    }
   ],
   "source": [
    "x_train_categorical.isnull().sum()"
   ]
  },
  {
   "cell_type": "markdown",
   "id": "27fb4a9f",
   "metadata": {},
   "source": [
    "### **Preprocessing Categorical Variables**\n",
    "\n",
    "- Kita tidak bisa memasukkan data categorical, jika tidak diubah menjadi numerical\n",
    "- Solusi: One Hot Encoding (OHE)"
   ]
  },
  {
   "cell_type": "code",
   "execution_count": 48,
   "id": "43f44d99",
   "metadata": {},
   "outputs": [],
   "source": [
    "categorical_ohe = pd.get_dummies(x_train_categorical)"
   ]
  },
  {
   "cell_type": "code",
   "execution_count": 49,
   "id": "4d2c3c37",
   "metadata": {},
   "outputs": [
    {
     "data": {
      "application/vnd.microsoft.datawrangler.viewer.v0+json": {
       "columns": [
        {
         "name": "index",
         "rawType": "int64",
         "type": "integer"
        },
        {
         "name": "loan_KOSONG",
         "rawType": "bool",
         "type": "boolean"
        },
        {
         "name": "loan_no",
         "rawType": "bool",
         "type": "boolean"
        },
        {
         "name": "loan_yes",
         "rawType": "bool",
         "type": "boolean"
        },
        {
         "name": "marital_KOSONG",
         "rawType": "bool",
         "type": "boolean"
        },
        {
         "name": "marital_divorced",
         "rawType": "bool",
         "type": "boolean"
        },
        {
         "name": "marital_married",
         "rawType": "bool",
         "type": "boolean"
        },
        {
         "name": "marital_single",
         "rawType": "bool",
         "type": "boolean"
        },
        {
         "name": "month_KOSONG",
         "rawType": "bool",
         "type": "boolean"
        },
        {
         "name": "month_apr",
         "rawType": "bool",
         "type": "boolean"
        },
        {
         "name": "month_aug",
         "rawType": "bool",
         "type": "boolean"
        },
        {
         "name": "month_dec",
         "rawType": "bool",
         "type": "boolean"
        },
        {
         "name": "month_feb",
         "rawType": "bool",
         "type": "boolean"
        },
        {
         "name": "month_jan",
         "rawType": "bool",
         "type": "boolean"
        },
        {
         "name": "month_jul",
         "rawType": "bool",
         "type": "boolean"
        },
        {
         "name": "month_jun",
         "rawType": "bool",
         "type": "boolean"
        },
        {
         "name": "month_mar",
         "rawType": "bool",
         "type": "boolean"
        },
        {
         "name": "month_may",
         "rawType": "bool",
         "type": "boolean"
        },
        {
         "name": "month_nov",
         "rawType": "bool",
         "type": "boolean"
        },
        {
         "name": "month_oct",
         "rawType": "bool",
         "type": "boolean"
        },
        {
         "name": "month_sep",
         "rawType": "bool",
         "type": "boolean"
        },
        {
         "name": "job_KOSONG",
         "rawType": "bool",
         "type": "boolean"
        },
        {
         "name": "job_admin.",
         "rawType": "bool",
         "type": "boolean"
        },
        {
         "name": "job_blue-collar",
         "rawType": "bool",
         "type": "boolean"
        },
        {
         "name": "job_entrepreneur",
         "rawType": "bool",
         "type": "boolean"
        },
        {
         "name": "job_housemaid",
         "rawType": "bool",
         "type": "boolean"
        },
        {
         "name": "job_management",
         "rawType": "bool",
         "type": "boolean"
        },
        {
         "name": "job_retired",
         "rawType": "bool",
         "type": "boolean"
        },
        {
         "name": "job_self-employed",
         "rawType": "bool",
         "type": "boolean"
        },
        {
         "name": "job_services",
         "rawType": "bool",
         "type": "boolean"
        },
        {
         "name": "job_student",
         "rawType": "bool",
         "type": "boolean"
        },
        {
         "name": "job_technician",
         "rawType": "bool",
         "type": "boolean"
        },
        {
         "name": "job_unemployed",
         "rawType": "bool",
         "type": "boolean"
        },
        {
         "name": "job_unknown",
         "rawType": "bool",
         "type": "boolean"
        },
        {
         "name": "default_KOSONG",
         "rawType": "bool",
         "type": "boolean"
        },
        {
         "name": "default_no",
         "rawType": "bool",
         "type": "boolean"
        },
        {
         "name": "default_yes",
         "rawType": "bool",
         "type": "boolean"
        },
        {
         "name": "housing_KOSONG",
         "rawType": "bool",
         "type": "boolean"
        },
        {
         "name": "housing_no",
         "rawType": "bool",
         "type": "boolean"
        },
        {
         "name": "housing_yes",
         "rawType": "bool",
         "type": "boolean"
        },
        {
         "name": "poutcome_KOSONG",
         "rawType": "bool",
         "type": "boolean"
        },
        {
         "name": "poutcome_failure",
         "rawType": "bool",
         "type": "boolean"
        },
        {
         "name": "poutcome_other",
         "rawType": "bool",
         "type": "boolean"
        },
        {
         "name": "poutcome_success",
         "rawType": "bool",
         "type": "boolean"
        },
        {
         "name": "poutcome_unknown",
         "rawType": "bool",
         "type": "boolean"
        },
        {
         "name": "education_KOSONG",
         "rawType": "bool",
         "type": "boolean"
        },
        {
         "name": "education_primary",
         "rawType": "bool",
         "type": "boolean"
        },
        {
         "name": "education_secondary",
         "rawType": "bool",
         "type": "boolean"
        },
        {
         "name": "education_tertiary",
         "rawType": "bool",
         "type": "boolean"
        },
        {
         "name": "education_unknown",
         "rawType": "bool",
         "type": "boolean"
        },
        {
         "name": "contact_KOSONG",
         "rawType": "bool",
         "type": "boolean"
        },
        {
         "name": "contact_cellular",
         "rawType": "bool",
         "type": "boolean"
        },
        {
         "name": "contact_telephone",
         "rawType": "bool",
         "type": "boolean"
        },
        {
         "name": "contact_unknown",
         "rawType": "bool",
         "type": "boolean"
        }
       ],
       "ref": "10ebbc4d-ed7c-4051-9c3f-aba426772528",
       "rows": [
        [
         "37156",
         "False",
         "True",
         "False",
         "False",
         "False",
         "False",
         "True",
         "False",
         "False",
         "False",
         "False",
         "False",
         "False",
         "False",
         "False",
         "False",
         "True",
         "False",
         "False",
         "False",
         "False",
         "False",
         "False",
         "False",
         "False",
         "True",
         "False",
         "False",
         "False",
         "False",
         "False",
         "False",
         "False",
         "False",
         "True",
         "False",
         "False",
         "True",
         "False",
         "False",
         "False",
         "False",
         "False",
         "True",
         "False",
         "False",
         "False",
         "True",
         "False",
         "False",
         "True",
         "False",
         "False"
        ],
        [
         "20494",
         "True",
         "False",
         "False",
         "True",
         "False",
         "False",
         "False",
         "True",
         "False",
         "False",
         "False",
         "False",
         "False",
         "False",
         "False",
         "False",
         "False",
         "False",
         "False",
         "False",
         "False",
         "False",
         "False",
         "False",
         "False",
         "True",
         "False",
         "False",
         "False",
         "False",
         "False",
         "False",
         "False",
         "False",
         "True",
         "False",
         "False",
         "False",
         "True",
         "False",
         "False",
         "False",
         "False",
         "True",
         "True",
         "False",
         "False",
         "False",
         "False",
         "False",
         "True",
         "False",
         "False"
        ]
       ],
       "shape": {
        "columns": 53,
        "rows": 2
       }
      },
      "text/html": [
       "<div>\n",
       "<style scoped>\n",
       "    .dataframe tbody tr th:only-of-type {\n",
       "        vertical-align: middle;\n",
       "    }\n",
       "\n",
       "    .dataframe tbody tr th {\n",
       "        vertical-align: top;\n",
       "    }\n",
       "\n",
       "    .dataframe thead th {\n",
       "        text-align: right;\n",
       "    }\n",
       "</style>\n",
       "<table border=\"1\" class=\"dataframe\">\n",
       "  <thead>\n",
       "    <tr style=\"text-align: right;\">\n",
       "      <th></th>\n",
       "      <th>loan_KOSONG</th>\n",
       "      <th>loan_no</th>\n",
       "      <th>loan_yes</th>\n",
       "      <th>marital_KOSONG</th>\n",
       "      <th>marital_divorced</th>\n",
       "      <th>marital_married</th>\n",
       "      <th>marital_single</th>\n",
       "      <th>month_KOSONG</th>\n",
       "      <th>month_apr</th>\n",
       "      <th>month_aug</th>\n",
       "      <th>...</th>\n",
       "      <th>poutcome_unknown</th>\n",
       "      <th>education_KOSONG</th>\n",
       "      <th>education_primary</th>\n",
       "      <th>education_secondary</th>\n",
       "      <th>education_tertiary</th>\n",
       "      <th>education_unknown</th>\n",
       "      <th>contact_KOSONG</th>\n",
       "      <th>contact_cellular</th>\n",
       "      <th>contact_telephone</th>\n",
       "      <th>contact_unknown</th>\n",
       "    </tr>\n",
       "  </thead>\n",
       "  <tbody>\n",
       "    <tr>\n",
       "      <th>37156</th>\n",
       "      <td>False</td>\n",
       "      <td>True</td>\n",
       "      <td>False</td>\n",
       "      <td>False</td>\n",
       "      <td>False</td>\n",
       "      <td>False</td>\n",
       "      <td>True</td>\n",
       "      <td>False</td>\n",
       "      <td>False</td>\n",
       "      <td>False</td>\n",
       "      <td>...</td>\n",
       "      <td>True</td>\n",
       "      <td>False</td>\n",
       "      <td>False</td>\n",
       "      <td>False</td>\n",
       "      <td>True</td>\n",
       "      <td>False</td>\n",
       "      <td>False</td>\n",
       "      <td>True</td>\n",
       "      <td>False</td>\n",
       "      <td>False</td>\n",
       "    </tr>\n",
       "    <tr>\n",
       "      <th>20494</th>\n",
       "      <td>True</td>\n",
       "      <td>False</td>\n",
       "      <td>False</td>\n",
       "      <td>True</td>\n",
       "      <td>False</td>\n",
       "      <td>False</td>\n",
       "      <td>False</td>\n",
       "      <td>True</td>\n",
       "      <td>False</td>\n",
       "      <td>False</td>\n",
       "      <td>...</td>\n",
       "      <td>True</td>\n",
       "      <td>True</td>\n",
       "      <td>False</td>\n",
       "      <td>False</td>\n",
       "      <td>False</td>\n",
       "      <td>False</td>\n",
       "      <td>False</td>\n",
       "      <td>True</td>\n",
       "      <td>False</td>\n",
       "      <td>False</td>\n",
       "    </tr>\n",
       "  </tbody>\n",
       "</table>\n",
       "<p>2 rows × 53 columns</p>\n",
       "</div>"
      ],
      "text/plain": [
       "       loan_KOSONG  loan_no  loan_yes  marital_KOSONG  marital_divorced  \\\n",
       "37156        False     True     False           False             False   \n",
       "20494         True    False     False            True             False   \n",
       "\n",
       "       marital_married  marital_single  month_KOSONG  month_apr  month_aug  \\\n",
       "37156            False            True         False      False      False   \n",
       "20494            False           False          True      False      False   \n",
       "\n",
       "       ...  poutcome_unknown  education_KOSONG  education_primary  \\\n",
       "37156  ...              True             False              False   \n",
       "20494  ...              True              True              False   \n",
       "\n",
       "       education_secondary  education_tertiary  education_unknown  \\\n",
       "37156                False                True              False   \n",
       "20494                False               False              False   \n",
       "\n",
       "       contact_KOSONG  contact_cellular  contact_telephone  contact_unknown  \n",
       "37156           False              True              False            False  \n",
       "20494           False              True              False            False  \n",
       "\n",
       "[2 rows x 53 columns]"
      ]
     },
     "execution_count": 49,
     "metadata": {},
     "output_type": "execute_result"
    }
   ],
   "source": [
    "categorical_ohe.head(2)"
   ]
  },
  {
   "cell_type": "markdown",
   "id": "0f1dafcb",
   "metadata": {},
   "source": [
    "**Mari buat menjadi fungsi**"
   ]
  },
  {
   "cell_type": "code",
   "execution_count": 50,
   "id": "ae7e60f2",
   "metadata": {},
   "outputs": [],
   "source": [
    "def extractCategorical(data, categorical_columns):\n",
    " \"\"\"\n",
    "    Fungsi untuk ekstrak data kategorikal dengan One Hot Encoding\n",
    "    :param data: <pandas dataframe> data sample\n",
    "    :param categorical_column: <list> list kolom kategorik\n",
    "    :return categorical_ohe: <pandas dataframe> data sample dengan ohe\n",
    "    \"\"\"\n",
    "    \n",
    " data_categorical = categoricalImputation(data= data,\n",
    "                                             categorical_columns = categorical_columns)\n",
    " categorical_columns = pd.get_dummies(data_categorical)\n",
    " \n",
    " return categorical_ohe"
   ]
  },
  {
   "cell_type": "code",
   "execution_count": 51,
   "id": "ae98ecc2",
   "metadata": {},
   "outputs": [],
   "source": [
    "x_train_categorical_ohe = extractCategorical(data = x_train, \n",
    "                                             categorical_columns= categorical_columns)"
   ]
  },
  {
   "cell_type": "code",
   "execution_count": 52,
   "id": "ab448431",
   "metadata": {},
   "outputs": [
    {
     "data": {
      "application/vnd.microsoft.datawrangler.viewer.v0+json": {
       "columns": [
        {
         "name": "index",
         "rawType": "int64",
         "type": "integer"
        },
        {
         "name": "loan_KOSONG",
         "rawType": "bool",
         "type": "boolean"
        },
        {
         "name": "loan_no",
         "rawType": "bool",
         "type": "boolean"
        },
        {
         "name": "loan_yes",
         "rawType": "bool",
         "type": "boolean"
        },
        {
         "name": "marital_KOSONG",
         "rawType": "bool",
         "type": "boolean"
        },
        {
         "name": "marital_divorced",
         "rawType": "bool",
         "type": "boolean"
        },
        {
         "name": "marital_married",
         "rawType": "bool",
         "type": "boolean"
        },
        {
         "name": "marital_single",
         "rawType": "bool",
         "type": "boolean"
        },
        {
         "name": "month_KOSONG",
         "rawType": "bool",
         "type": "boolean"
        },
        {
         "name": "month_apr",
         "rawType": "bool",
         "type": "boolean"
        },
        {
         "name": "month_aug",
         "rawType": "bool",
         "type": "boolean"
        },
        {
         "name": "month_dec",
         "rawType": "bool",
         "type": "boolean"
        },
        {
         "name": "month_feb",
         "rawType": "bool",
         "type": "boolean"
        },
        {
         "name": "month_jan",
         "rawType": "bool",
         "type": "boolean"
        },
        {
         "name": "month_jul",
         "rawType": "bool",
         "type": "boolean"
        },
        {
         "name": "month_jun",
         "rawType": "bool",
         "type": "boolean"
        },
        {
         "name": "month_mar",
         "rawType": "bool",
         "type": "boolean"
        },
        {
         "name": "month_may",
         "rawType": "bool",
         "type": "boolean"
        },
        {
         "name": "month_nov",
         "rawType": "bool",
         "type": "boolean"
        },
        {
         "name": "month_oct",
         "rawType": "bool",
         "type": "boolean"
        },
        {
         "name": "month_sep",
         "rawType": "bool",
         "type": "boolean"
        },
        {
         "name": "job_KOSONG",
         "rawType": "bool",
         "type": "boolean"
        },
        {
         "name": "job_admin.",
         "rawType": "bool",
         "type": "boolean"
        },
        {
         "name": "job_blue-collar",
         "rawType": "bool",
         "type": "boolean"
        },
        {
         "name": "job_entrepreneur",
         "rawType": "bool",
         "type": "boolean"
        },
        {
         "name": "job_housemaid",
         "rawType": "bool",
         "type": "boolean"
        },
        {
         "name": "job_management",
         "rawType": "bool",
         "type": "boolean"
        },
        {
         "name": "job_retired",
         "rawType": "bool",
         "type": "boolean"
        },
        {
         "name": "job_self-employed",
         "rawType": "bool",
         "type": "boolean"
        },
        {
         "name": "job_services",
         "rawType": "bool",
         "type": "boolean"
        },
        {
         "name": "job_student",
         "rawType": "bool",
         "type": "boolean"
        },
        {
         "name": "job_technician",
         "rawType": "bool",
         "type": "boolean"
        },
        {
         "name": "job_unemployed",
         "rawType": "bool",
         "type": "boolean"
        },
        {
         "name": "job_unknown",
         "rawType": "bool",
         "type": "boolean"
        },
        {
         "name": "default_KOSONG",
         "rawType": "bool",
         "type": "boolean"
        },
        {
         "name": "default_no",
         "rawType": "bool",
         "type": "boolean"
        },
        {
         "name": "default_yes",
         "rawType": "bool",
         "type": "boolean"
        },
        {
         "name": "housing_KOSONG",
         "rawType": "bool",
         "type": "boolean"
        },
        {
         "name": "housing_no",
         "rawType": "bool",
         "type": "boolean"
        },
        {
         "name": "housing_yes",
         "rawType": "bool",
         "type": "boolean"
        },
        {
         "name": "poutcome_KOSONG",
         "rawType": "bool",
         "type": "boolean"
        },
        {
         "name": "poutcome_failure",
         "rawType": "bool",
         "type": "boolean"
        },
        {
         "name": "poutcome_other",
         "rawType": "bool",
         "type": "boolean"
        },
        {
         "name": "poutcome_success",
         "rawType": "bool",
         "type": "boolean"
        },
        {
         "name": "poutcome_unknown",
         "rawType": "bool",
         "type": "boolean"
        },
        {
         "name": "education_KOSONG",
         "rawType": "bool",
         "type": "boolean"
        },
        {
         "name": "education_primary",
         "rawType": "bool",
         "type": "boolean"
        },
        {
         "name": "education_secondary",
         "rawType": "bool",
         "type": "boolean"
        },
        {
         "name": "education_tertiary",
         "rawType": "bool",
         "type": "boolean"
        },
        {
         "name": "education_unknown",
         "rawType": "bool",
         "type": "boolean"
        },
        {
         "name": "contact_KOSONG",
         "rawType": "bool",
         "type": "boolean"
        },
        {
         "name": "contact_cellular",
         "rawType": "bool",
         "type": "boolean"
        },
        {
         "name": "contact_telephone",
         "rawType": "bool",
         "type": "boolean"
        },
        {
         "name": "contact_unknown",
         "rawType": "bool",
         "type": "boolean"
        }
       ],
       "ref": "64b283be-a98a-4b09-a878-5873dadf68d7",
       "rows": [
        [
         "37156",
         "False",
         "True",
         "False",
         "False",
         "False",
         "False",
         "True",
         "False",
         "False",
         "False",
         "False",
         "False",
         "False",
         "False",
         "False",
         "False",
         "True",
         "False",
         "False",
         "False",
         "False",
         "False",
         "False",
         "False",
         "False",
         "True",
         "False",
         "False",
         "False",
         "False",
         "False",
         "False",
         "False",
         "False",
         "True",
         "False",
         "False",
         "True",
         "False",
         "False",
         "False",
         "False",
         "False",
         "True",
         "False",
         "False",
         "False",
         "True",
         "False",
         "False",
         "True",
         "False",
         "False"
        ],
        [
         "20494",
         "True",
         "False",
         "False",
         "True",
         "False",
         "False",
         "False",
         "True",
         "False",
         "False",
         "False",
         "False",
         "False",
         "False",
         "False",
         "False",
         "False",
         "False",
         "False",
         "False",
         "False",
         "False",
         "False",
         "False",
         "False",
         "True",
         "False",
         "False",
         "False",
         "False",
         "False",
         "False",
         "False",
         "False",
         "True",
         "False",
         "False",
         "False",
         "True",
         "False",
         "False",
         "False",
         "False",
         "True",
         "True",
         "False",
         "False",
         "False",
         "False",
         "False",
         "True",
         "False",
         "False"
        ],
        [
         "35272",
         "False",
         "True",
         "False",
         "True",
         "False",
         "False",
         "False",
         "False",
         "False",
         "False",
         "False",
         "False",
         "False",
         "False",
         "False",
         "False",
         "True",
         "False",
         "False",
         "False",
         "False",
         "False",
         "False",
         "False",
         "False",
         "True",
         "False",
         "False",
         "False",
         "False",
         "False",
         "False",
         "False",
         "False",
         "True",
         "False",
         "False",
         "False",
         "True",
         "False",
         "False",
         "False",
         "False",
         "True",
         "False",
         "False",
         "False",
         "True",
         "False",
         "False",
         "True",
         "False",
         "False"
        ],
        [
         "22260",
         "False",
         "True",
         "False",
         "True",
         "False",
         "False",
         "False",
         "False",
         "False",
         "True",
         "False",
         "False",
         "False",
         "False",
         "False",
         "False",
         "False",
         "False",
         "False",
         "False",
         "False",
         "False",
         "False",
         "False",
         "False",
         "False",
         "False",
         "False",
         "True",
         "False",
         "False",
         "False",
         "False",
         "False",
         "True",
         "False",
         "False",
         "True",
         "False",
         "False",
         "False",
         "False",
         "False",
         "True",
         "True",
         "False",
         "False",
         "False",
         "False",
         "False",
         "True",
         "False",
         "False"
        ],
        [
         "2728",
         "False",
         "True",
         "False",
         "False",
         "False",
         "False",
         "True",
         "False",
         "False",
         "False",
         "False",
         "False",
         "False",
         "False",
         "False",
         "False",
         "True",
         "False",
         "False",
         "False",
         "False",
         "False",
         "False",
         "False",
         "False",
         "False",
         "False",
         "False",
         "False",
         "False",
         "True",
         "False",
         "False",
         "False",
         "True",
         "False",
         "False",
         "False",
         "True",
         "False",
         "False",
         "False",
         "False",
         "True",
         "False",
         "False",
         "True",
         "False",
         "False",
         "False",
         "False",
         "False",
         "True"
        ]
       ],
       "shape": {
        "columns": 53,
        "rows": 5
       }
      },
      "text/html": [
       "<div>\n",
       "<style scoped>\n",
       "    .dataframe tbody tr th:only-of-type {\n",
       "        vertical-align: middle;\n",
       "    }\n",
       "\n",
       "    .dataframe tbody tr th {\n",
       "        vertical-align: top;\n",
       "    }\n",
       "\n",
       "    .dataframe thead th {\n",
       "        text-align: right;\n",
       "    }\n",
       "</style>\n",
       "<table border=\"1\" class=\"dataframe\">\n",
       "  <thead>\n",
       "    <tr style=\"text-align: right;\">\n",
       "      <th></th>\n",
       "      <th>loan_KOSONG</th>\n",
       "      <th>loan_no</th>\n",
       "      <th>loan_yes</th>\n",
       "      <th>marital_KOSONG</th>\n",
       "      <th>marital_divorced</th>\n",
       "      <th>marital_married</th>\n",
       "      <th>marital_single</th>\n",
       "      <th>month_KOSONG</th>\n",
       "      <th>month_apr</th>\n",
       "      <th>month_aug</th>\n",
       "      <th>...</th>\n",
       "      <th>poutcome_unknown</th>\n",
       "      <th>education_KOSONG</th>\n",
       "      <th>education_primary</th>\n",
       "      <th>education_secondary</th>\n",
       "      <th>education_tertiary</th>\n",
       "      <th>education_unknown</th>\n",
       "      <th>contact_KOSONG</th>\n",
       "      <th>contact_cellular</th>\n",
       "      <th>contact_telephone</th>\n",
       "      <th>contact_unknown</th>\n",
       "    </tr>\n",
       "  </thead>\n",
       "  <tbody>\n",
       "    <tr>\n",
       "      <th>37156</th>\n",
       "      <td>False</td>\n",
       "      <td>True</td>\n",
       "      <td>False</td>\n",
       "      <td>False</td>\n",
       "      <td>False</td>\n",
       "      <td>False</td>\n",
       "      <td>True</td>\n",
       "      <td>False</td>\n",
       "      <td>False</td>\n",
       "      <td>False</td>\n",
       "      <td>...</td>\n",
       "      <td>True</td>\n",
       "      <td>False</td>\n",
       "      <td>False</td>\n",
       "      <td>False</td>\n",
       "      <td>True</td>\n",
       "      <td>False</td>\n",
       "      <td>False</td>\n",
       "      <td>True</td>\n",
       "      <td>False</td>\n",
       "      <td>False</td>\n",
       "    </tr>\n",
       "    <tr>\n",
       "      <th>20494</th>\n",
       "      <td>True</td>\n",
       "      <td>False</td>\n",
       "      <td>False</td>\n",
       "      <td>True</td>\n",
       "      <td>False</td>\n",
       "      <td>False</td>\n",
       "      <td>False</td>\n",
       "      <td>True</td>\n",
       "      <td>False</td>\n",
       "      <td>False</td>\n",
       "      <td>...</td>\n",
       "      <td>True</td>\n",
       "      <td>True</td>\n",
       "      <td>False</td>\n",
       "      <td>False</td>\n",
       "      <td>False</td>\n",
       "      <td>False</td>\n",
       "      <td>False</td>\n",
       "      <td>True</td>\n",
       "      <td>False</td>\n",
       "      <td>False</td>\n",
       "    </tr>\n",
       "    <tr>\n",
       "      <th>35272</th>\n",
       "      <td>False</td>\n",
       "      <td>True</td>\n",
       "      <td>False</td>\n",
       "      <td>True</td>\n",
       "      <td>False</td>\n",
       "      <td>False</td>\n",
       "      <td>False</td>\n",
       "      <td>False</td>\n",
       "      <td>False</td>\n",
       "      <td>False</td>\n",
       "      <td>...</td>\n",
       "      <td>True</td>\n",
       "      <td>False</td>\n",
       "      <td>False</td>\n",
       "      <td>False</td>\n",
       "      <td>True</td>\n",
       "      <td>False</td>\n",
       "      <td>False</td>\n",
       "      <td>True</td>\n",
       "      <td>False</td>\n",
       "      <td>False</td>\n",
       "    </tr>\n",
       "    <tr>\n",
       "      <th>22260</th>\n",
       "      <td>False</td>\n",
       "      <td>True</td>\n",
       "      <td>False</td>\n",
       "      <td>True</td>\n",
       "      <td>False</td>\n",
       "      <td>False</td>\n",
       "      <td>False</td>\n",
       "      <td>False</td>\n",
       "      <td>False</td>\n",
       "      <td>True</td>\n",
       "      <td>...</td>\n",
       "      <td>True</td>\n",
       "      <td>True</td>\n",
       "      <td>False</td>\n",
       "      <td>False</td>\n",
       "      <td>False</td>\n",
       "      <td>False</td>\n",
       "      <td>False</td>\n",
       "      <td>True</td>\n",
       "      <td>False</td>\n",
       "      <td>False</td>\n",
       "    </tr>\n",
       "    <tr>\n",
       "      <th>2728</th>\n",
       "      <td>False</td>\n",
       "      <td>True</td>\n",
       "      <td>False</td>\n",
       "      <td>False</td>\n",
       "      <td>False</td>\n",
       "      <td>False</td>\n",
       "      <td>True</td>\n",
       "      <td>False</td>\n",
       "      <td>False</td>\n",
       "      <td>False</td>\n",
       "      <td>...</td>\n",
       "      <td>True</td>\n",
       "      <td>False</td>\n",
       "      <td>False</td>\n",
       "      <td>True</td>\n",
       "      <td>False</td>\n",
       "      <td>False</td>\n",
       "      <td>False</td>\n",
       "      <td>False</td>\n",
       "      <td>False</td>\n",
       "      <td>True</td>\n",
       "    </tr>\n",
       "  </tbody>\n",
       "</table>\n",
       "<p>5 rows × 53 columns</p>\n",
       "</div>"
      ],
      "text/plain": [
       "       loan_KOSONG  loan_no  loan_yes  marital_KOSONG  marital_divorced  \\\n",
       "37156        False     True     False           False             False   \n",
       "20494         True    False     False            True             False   \n",
       "35272        False     True     False            True             False   \n",
       "22260        False     True     False            True             False   \n",
       "2728         False     True     False           False             False   \n",
       "\n",
       "       marital_married  marital_single  month_KOSONG  month_apr  month_aug  \\\n",
       "37156            False            True         False      False      False   \n",
       "20494            False           False          True      False      False   \n",
       "35272            False           False         False      False      False   \n",
       "22260            False           False         False      False       True   \n",
       "2728             False            True         False      False      False   \n",
       "\n",
       "       ...  poutcome_unknown  education_KOSONG  education_primary  \\\n",
       "37156  ...              True             False              False   \n",
       "20494  ...              True              True              False   \n",
       "35272  ...              True             False              False   \n",
       "22260  ...              True              True              False   \n",
       "2728   ...              True             False              False   \n",
       "\n",
       "       education_secondary  education_tertiary  education_unknown  \\\n",
       "37156                False                True              False   \n",
       "20494                False               False              False   \n",
       "35272                False                True              False   \n",
       "22260                False               False              False   \n",
       "2728                  True               False              False   \n",
       "\n",
       "       contact_KOSONG  contact_cellular  contact_telephone  contact_unknown  \n",
       "37156           False              True              False            False  \n",
       "20494           False              True              False            False  \n",
       "35272           False              True              False            False  \n",
       "22260           False              True              False            False  \n",
       "2728            False             False              False             True  \n",
       "\n",
       "[5 rows x 53 columns]"
      ]
     },
     "execution_count": 52,
     "metadata": {},
     "output_type": "execute_result"
    }
   ],
   "source": [
    "x_train_categorical_ohe.head()"
   ]
  },
  {
   "cell_type": "code",
   "execution_count": 53,
   "id": "ba3711a6",
   "metadata": {},
   "outputs": [],
   "source": [
    "# simpan kolom OHE untuk diimplementasikan dalam testing data\n",
    "# Agar shape-nya konsisten \n",
    "ohe_columns = x_train_categorical_ohe.columns"
   ]
  },
  {
   "cell_type": "code",
   "execution_count": 54,
   "id": "521a373d",
   "metadata": {},
   "outputs": [
    {
     "data": {
      "text/plain": [
       "Index(['loan_KOSONG', 'loan_no', 'loan_yes', 'marital_KOSONG',\n",
       "       'marital_divorced', 'marital_married', 'marital_single', 'month_KOSONG',\n",
       "       'month_apr', 'month_aug', 'month_dec', 'month_feb', 'month_jan',\n",
       "       'month_jul', 'month_jun', 'month_mar', 'month_may', 'month_nov',\n",
       "       'month_oct', 'month_sep', 'job_KOSONG', 'job_admin.', 'job_blue-collar',\n",
       "       'job_entrepreneur', 'job_housemaid', 'job_management', 'job_retired',\n",
       "       'job_self-employed', 'job_services', 'job_student', 'job_technician',\n",
       "       'job_unemployed', 'job_unknown', 'default_KOSONG', 'default_no',\n",
       "       'default_yes', 'housing_KOSONG', 'housing_no', 'housing_yes',\n",
       "       'poutcome_KOSONG', 'poutcome_failure', 'poutcome_other',\n",
       "       'poutcome_success', 'poutcome_unknown', 'education_KOSONG',\n",
       "       'education_primary', 'education_secondary', 'education_tertiary',\n",
       "       'education_unknown', 'contact_KOSONG', 'contact_cellular',\n",
       "       'contact_telephone', 'contact_unknown'],\n",
       "      dtype='object')"
      ]
     },
     "execution_count": 54,
     "metadata": {},
     "output_type": "execute_result"
    }
   ],
   "source": [
    "ohe_columns"
   ]
  },
  {
   "cell_type": "markdown",
   "id": "1ff1dee7",
   "metadata": {},
   "source": [
    "### **Join data Numerical dan Categorical**\n",
    "\n",
    "- Data numerik & kategorik harus disatukan kembali\n",
    "- Penyatuan dengan `pd.concat`"
   ]
  },
  {
   "cell_type": "code",
   "execution_count": 55,
   "id": "4e96cb4c",
   "metadata": {},
   "outputs": [],
   "source": [
    "x_train_concat =pd.concat([x_train_numerical, \n",
    "                           x_train_categorical_ohe], \n",
    "                          axis = 1)"
   ]
  },
  {
   "cell_type": "code",
   "execution_count": 56,
   "id": "cd2523c4",
   "metadata": {},
   "outputs": [
    {
     "data": {
      "application/vnd.microsoft.datawrangler.viewer.v0+json": {
       "columns": [
        {
         "name": "index",
         "rawType": "int64",
         "type": "integer"
        },
        {
         "name": "age",
         "rawType": "float64",
         "type": "float"
        },
        {
         "name": "balance",
         "rawType": "float64",
         "type": "float"
        },
        {
         "name": "day",
         "rawType": "float64",
         "type": "float"
        },
        {
         "name": "duration",
         "rawType": "float64",
         "type": "float"
        },
        {
         "name": "campaign",
         "rawType": "float64",
         "type": "float"
        },
        {
         "name": "pdays",
         "rawType": "float64",
         "type": "float"
        },
        {
         "name": "previous",
         "rawType": "float64",
         "type": "float"
        },
        {
         "name": "loan_KOSONG",
         "rawType": "bool",
         "type": "boolean"
        },
        {
         "name": "loan_no",
         "rawType": "bool",
         "type": "boolean"
        },
        {
         "name": "loan_yes",
         "rawType": "bool",
         "type": "boolean"
        },
        {
         "name": "marital_KOSONG",
         "rawType": "bool",
         "type": "boolean"
        },
        {
         "name": "marital_divorced",
         "rawType": "bool",
         "type": "boolean"
        },
        {
         "name": "marital_married",
         "rawType": "bool",
         "type": "boolean"
        },
        {
         "name": "marital_single",
         "rawType": "bool",
         "type": "boolean"
        },
        {
         "name": "month_KOSONG",
         "rawType": "bool",
         "type": "boolean"
        },
        {
         "name": "month_apr",
         "rawType": "bool",
         "type": "boolean"
        },
        {
         "name": "month_aug",
         "rawType": "bool",
         "type": "boolean"
        },
        {
         "name": "month_dec",
         "rawType": "bool",
         "type": "boolean"
        },
        {
         "name": "month_feb",
         "rawType": "bool",
         "type": "boolean"
        },
        {
         "name": "month_jan",
         "rawType": "bool",
         "type": "boolean"
        },
        {
         "name": "month_jul",
         "rawType": "bool",
         "type": "boolean"
        },
        {
         "name": "month_jun",
         "rawType": "bool",
         "type": "boolean"
        },
        {
         "name": "month_mar",
         "rawType": "bool",
         "type": "boolean"
        },
        {
         "name": "month_may",
         "rawType": "bool",
         "type": "boolean"
        },
        {
         "name": "month_nov",
         "rawType": "bool",
         "type": "boolean"
        },
        {
         "name": "month_oct",
         "rawType": "bool",
         "type": "boolean"
        },
        {
         "name": "month_sep",
         "rawType": "bool",
         "type": "boolean"
        },
        {
         "name": "job_KOSONG",
         "rawType": "bool",
         "type": "boolean"
        },
        {
         "name": "job_admin.",
         "rawType": "bool",
         "type": "boolean"
        },
        {
         "name": "job_blue-collar",
         "rawType": "bool",
         "type": "boolean"
        },
        {
         "name": "job_entrepreneur",
         "rawType": "bool",
         "type": "boolean"
        },
        {
         "name": "job_housemaid",
         "rawType": "bool",
         "type": "boolean"
        },
        {
         "name": "job_management",
         "rawType": "bool",
         "type": "boolean"
        },
        {
         "name": "job_retired",
         "rawType": "bool",
         "type": "boolean"
        },
        {
         "name": "job_self-employed",
         "rawType": "bool",
         "type": "boolean"
        },
        {
         "name": "job_services",
         "rawType": "bool",
         "type": "boolean"
        },
        {
         "name": "job_student",
         "rawType": "bool",
         "type": "boolean"
        },
        {
         "name": "job_technician",
         "rawType": "bool",
         "type": "boolean"
        },
        {
         "name": "job_unemployed",
         "rawType": "bool",
         "type": "boolean"
        },
        {
         "name": "job_unknown",
         "rawType": "bool",
         "type": "boolean"
        },
        {
         "name": "default_KOSONG",
         "rawType": "bool",
         "type": "boolean"
        },
        {
         "name": "default_no",
         "rawType": "bool",
         "type": "boolean"
        },
        {
         "name": "default_yes",
         "rawType": "bool",
         "type": "boolean"
        },
        {
         "name": "housing_KOSONG",
         "rawType": "bool",
         "type": "boolean"
        },
        {
         "name": "housing_no",
         "rawType": "bool",
         "type": "boolean"
        },
        {
         "name": "housing_yes",
         "rawType": "bool",
         "type": "boolean"
        },
        {
         "name": "poutcome_KOSONG",
         "rawType": "bool",
         "type": "boolean"
        },
        {
         "name": "poutcome_failure",
         "rawType": "bool",
         "type": "boolean"
        },
        {
         "name": "poutcome_other",
         "rawType": "bool",
         "type": "boolean"
        },
        {
         "name": "poutcome_success",
         "rawType": "bool",
         "type": "boolean"
        },
        {
         "name": "poutcome_unknown",
         "rawType": "bool",
         "type": "boolean"
        },
        {
         "name": "education_KOSONG",
         "rawType": "bool",
         "type": "boolean"
        },
        {
         "name": "education_primary",
         "rawType": "bool",
         "type": "boolean"
        },
        {
         "name": "education_secondary",
         "rawType": "bool",
         "type": "boolean"
        },
        {
         "name": "education_tertiary",
         "rawType": "bool",
         "type": "boolean"
        },
        {
         "name": "education_unknown",
         "rawType": "bool",
         "type": "boolean"
        },
        {
         "name": "contact_KOSONG",
         "rawType": "bool",
         "type": "boolean"
        },
        {
         "name": "contact_cellular",
         "rawType": "bool",
         "type": "boolean"
        },
        {
         "name": "contact_telephone",
         "rawType": "bool",
         "type": "boolean"
        },
        {
         "name": "contact_unknown",
         "rawType": "bool",
         "type": "boolean"
        }
       ],
       "ref": "f7e3715a-8378-4f4a-83d7-7014afa3f193",
       "rows": [
        [
         "37156",
         "35.0",
         "2749.0",
         "13.0",
         "127.0",
         "1.0",
         "-1.0",
         "0.0",
         "False",
         "True",
         "False",
         "False",
         "False",
         "False",
         "True",
         "False",
         "False",
         "False",
         "False",
         "False",
         "False",
         "False",
         "False",
         "False",
         "True",
         "False",
         "False",
         "False",
         "False",
         "False",
         "False",
         "False",
         "False",
         "True",
         "False",
         "False",
         "False",
         "False",
         "False",
         "False",
         "False",
         "False",
         "True",
         "False",
         "False",
         "True",
         "False",
         "False",
         "False",
         "False",
         "False",
         "True",
         "False",
         "False",
         "False",
         "True",
         "False",
         "False",
         "True",
         "False",
         "False"
        ],
        [
         "20494",
         "30.0",
         "443.0",
         "12.0",
         "80.0",
         "2.0",
         "-1.0",
         "0.0",
         "True",
         "False",
         "False",
         "True",
         "False",
         "False",
         "False",
         "True",
         "False",
         "False",
         "False",
         "False",
         "False",
         "False",
         "False",
         "False",
         "False",
         "False",
         "False",
         "False",
         "False",
         "False",
         "False",
         "False",
         "False",
         "True",
         "False",
         "False",
         "False",
         "False",
         "False",
         "False",
         "False",
         "False",
         "True",
         "False",
         "False",
         "False",
         "True",
         "False",
         "False",
         "False",
         "False",
         "True",
         "True",
         "False",
         "False",
         "False",
         "False",
         "False",
         "True",
         "False",
         "False"
        ],
        [
         "35272",
         "39.0",
         "4239.0",
         "7.0",
         "40.0",
         "1.0",
         "-1.0",
         "0.0",
         "False",
         "True",
         "False",
         "True",
         "False",
         "False",
         "False",
         "False",
         "False",
         "False",
         "False",
         "False",
         "False",
         "False",
         "False",
         "False",
         "True",
         "False",
         "False",
         "False",
         "False",
         "False",
         "False",
         "False",
         "False",
         "True",
         "False",
         "False",
         "False",
         "False",
         "False",
         "False",
         "False",
         "False",
         "True",
         "False",
         "False",
         "False",
         "True",
         "False",
         "False",
         "False",
         "False",
         "True",
         "False",
         "False",
         "False",
         "True",
         "False",
         "False",
         "True",
         "False",
         "False"
        ],
        [
         "22260",
         "49.0",
         "400.0",
         "21.0",
         "151.0",
         "3.0",
         "-1.0",
         "0.0",
         "False",
         "True",
         "False",
         "True",
         "False",
         "False",
         "False",
         "False",
         "False",
         "True",
         "False",
         "False",
         "False",
         "False",
         "False",
         "False",
         "False",
         "False",
         "False",
         "False",
         "False",
         "False",
         "False",
         "False",
         "False",
         "False",
         "False",
         "False",
         "True",
         "False",
         "False",
         "False",
         "False",
         "False",
         "True",
         "False",
         "False",
         "True",
         "False",
         "False",
         "False",
         "False",
         "False",
         "True",
         "True",
         "False",
         "False",
         "False",
         "False",
         "False",
         "True",
         "False",
         "False"
        ],
        [
         "2728",
         "28.0",
         "468.0",
         "13.0",
         "152.0",
         "3.0",
         "-1.0",
         "0.0",
         "False",
         "True",
         "False",
         "False",
         "False",
         "False",
         "True",
         "False",
         "False",
         "False",
         "False",
         "False",
         "False",
         "False",
         "False",
         "False",
         "True",
         "False",
         "False",
         "False",
         "False",
         "False",
         "False",
         "False",
         "False",
         "False",
         "False",
         "False",
         "False",
         "False",
         "True",
         "False",
         "False",
         "False",
         "True",
         "False",
         "False",
         "False",
         "True",
         "False",
         "False",
         "False",
         "False",
         "True",
         "False",
         "False",
         "True",
         "False",
         "False",
         "False",
         "False",
         "False",
         "True"
        ]
       ],
       "shape": {
        "columns": 60,
        "rows": 5
       }
      },
      "text/html": [
       "<div>\n",
       "<style scoped>\n",
       "    .dataframe tbody tr th:only-of-type {\n",
       "        vertical-align: middle;\n",
       "    }\n",
       "\n",
       "    .dataframe tbody tr th {\n",
       "        vertical-align: top;\n",
       "    }\n",
       "\n",
       "    .dataframe thead th {\n",
       "        text-align: right;\n",
       "    }\n",
       "</style>\n",
       "<table border=\"1\" class=\"dataframe\">\n",
       "  <thead>\n",
       "    <tr style=\"text-align: right;\">\n",
       "      <th></th>\n",
       "      <th>age</th>\n",
       "      <th>balance</th>\n",
       "      <th>day</th>\n",
       "      <th>duration</th>\n",
       "      <th>campaign</th>\n",
       "      <th>pdays</th>\n",
       "      <th>previous</th>\n",
       "      <th>loan_KOSONG</th>\n",
       "      <th>loan_no</th>\n",
       "      <th>loan_yes</th>\n",
       "      <th>...</th>\n",
       "      <th>poutcome_unknown</th>\n",
       "      <th>education_KOSONG</th>\n",
       "      <th>education_primary</th>\n",
       "      <th>education_secondary</th>\n",
       "      <th>education_tertiary</th>\n",
       "      <th>education_unknown</th>\n",
       "      <th>contact_KOSONG</th>\n",
       "      <th>contact_cellular</th>\n",
       "      <th>contact_telephone</th>\n",
       "      <th>contact_unknown</th>\n",
       "    </tr>\n",
       "  </thead>\n",
       "  <tbody>\n",
       "    <tr>\n",
       "      <th>37156</th>\n",
       "      <td>35.0</td>\n",
       "      <td>2749.0</td>\n",
       "      <td>13.0</td>\n",
       "      <td>127.0</td>\n",
       "      <td>1.0</td>\n",
       "      <td>-1.0</td>\n",
       "      <td>0.0</td>\n",
       "      <td>False</td>\n",
       "      <td>True</td>\n",
       "      <td>False</td>\n",
       "      <td>...</td>\n",
       "      <td>True</td>\n",
       "      <td>False</td>\n",
       "      <td>False</td>\n",
       "      <td>False</td>\n",
       "      <td>True</td>\n",
       "      <td>False</td>\n",
       "      <td>False</td>\n",
       "      <td>True</td>\n",
       "      <td>False</td>\n",
       "      <td>False</td>\n",
       "    </tr>\n",
       "    <tr>\n",
       "      <th>20494</th>\n",
       "      <td>30.0</td>\n",
       "      <td>443.0</td>\n",
       "      <td>12.0</td>\n",
       "      <td>80.0</td>\n",
       "      <td>2.0</td>\n",
       "      <td>-1.0</td>\n",
       "      <td>0.0</td>\n",
       "      <td>True</td>\n",
       "      <td>False</td>\n",
       "      <td>False</td>\n",
       "      <td>...</td>\n",
       "      <td>True</td>\n",
       "      <td>True</td>\n",
       "      <td>False</td>\n",
       "      <td>False</td>\n",
       "      <td>False</td>\n",
       "      <td>False</td>\n",
       "      <td>False</td>\n",
       "      <td>True</td>\n",
       "      <td>False</td>\n",
       "      <td>False</td>\n",
       "    </tr>\n",
       "    <tr>\n",
       "      <th>35272</th>\n",
       "      <td>39.0</td>\n",
       "      <td>4239.0</td>\n",
       "      <td>7.0</td>\n",
       "      <td>40.0</td>\n",
       "      <td>1.0</td>\n",
       "      <td>-1.0</td>\n",
       "      <td>0.0</td>\n",
       "      <td>False</td>\n",
       "      <td>True</td>\n",
       "      <td>False</td>\n",
       "      <td>...</td>\n",
       "      <td>True</td>\n",
       "      <td>False</td>\n",
       "      <td>False</td>\n",
       "      <td>False</td>\n",
       "      <td>True</td>\n",
       "      <td>False</td>\n",
       "      <td>False</td>\n",
       "      <td>True</td>\n",
       "      <td>False</td>\n",
       "      <td>False</td>\n",
       "    </tr>\n",
       "    <tr>\n",
       "      <th>22260</th>\n",
       "      <td>49.0</td>\n",
       "      <td>400.0</td>\n",
       "      <td>21.0</td>\n",
       "      <td>151.0</td>\n",
       "      <td>3.0</td>\n",
       "      <td>-1.0</td>\n",
       "      <td>0.0</td>\n",
       "      <td>False</td>\n",
       "      <td>True</td>\n",
       "      <td>False</td>\n",
       "      <td>...</td>\n",
       "      <td>True</td>\n",
       "      <td>True</td>\n",
       "      <td>False</td>\n",
       "      <td>False</td>\n",
       "      <td>False</td>\n",
       "      <td>False</td>\n",
       "      <td>False</td>\n",
       "      <td>True</td>\n",
       "      <td>False</td>\n",
       "      <td>False</td>\n",
       "    </tr>\n",
       "    <tr>\n",
       "      <th>2728</th>\n",
       "      <td>28.0</td>\n",
       "      <td>468.0</td>\n",
       "      <td>13.0</td>\n",
       "      <td>152.0</td>\n",
       "      <td>3.0</td>\n",
       "      <td>-1.0</td>\n",
       "      <td>0.0</td>\n",
       "      <td>False</td>\n",
       "      <td>True</td>\n",
       "      <td>False</td>\n",
       "      <td>...</td>\n",
       "      <td>True</td>\n",
       "      <td>False</td>\n",
       "      <td>False</td>\n",
       "      <td>True</td>\n",
       "      <td>False</td>\n",
       "      <td>False</td>\n",
       "      <td>False</td>\n",
       "      <td>False</td>\n",
       "      <td>False</td>\n",
       "      <td>True</td>\n",
       "    </tr>\n",
       "  </tbody>\n",
       "</table>\n",
       "<p>5 rows × 60 columns</p>\n",
       "</div>"
      ],
      "text/plain": [
       "        age  balance   day  duration  campaign  pdays  previous  loan_KOSONG  \\\n",
       "37156  35.0   2749.0  13.0     127.0       1.0   -1.0       0.0        False   \n",
       "20494  30.0    443.0  12.0      80.0       2.0   -1.0       0.0         True   \n",
       "35272  39.0   4239.0   7.0      40.0       1.0   -1.0       0.0        False   \n",
       "22260  49.0    400.0  21.0     151.0       3.0   -1.0       0.0        False   \n",
       "2728   28.0    468.0  13.0     152.0       3.0   -1.0       0.0        False   \n",
       "\n",
       "       loan_no  loan_yes  ...  poutcome_unknown  education_KOSONG  \\\n",
       "37156     True     False  ...              True             False   \n",
       "20494    False     False  ...              True              True   \n",
       "35272     True     False  ...              True             False   \n",
       "22260     True     False  ...              True              True   \n",
       "2728      True     False  ...              True             False   \n",
       "\n",
       "       education_primary  education_secondary  education_tertiary  \\\n",
       "37156              False                False                True   \n",
       "20494              False                False               False   \n",
       "35272              False                False                True   \n",
       "22260              False                False               False   \n",
       "2728               False                 True               False   \n",
       "\n",
       "       education_unknown  contact_KOSONG  contact_cellular  contact_telephone  \\\n",
       "37156              False           False              True              False   \n",
       "20494              False           False              True              False   \n",
       "35272              False           False              True              False   \n",
       "22260              False           False              True              False   \n",
       "2728               False           False             False              False   \n",
       "\n",
       "       contact_unknown  \n",
       "37156            False  \n",
       "20494            False  \n",
       "35272            False  \n",
       "22260            False  \n",
       "2728              True  \n",
       "\n",
       "[5 rows x 60 columns]"
      ]
     },
     "execution_count": 56,
     "metadata": {},
     "output_type": "execute_result"
    }
   ],
   "source": [
    "x_train_concat.head()"
   ]
  },
  {
   "cell_type": "code",
   "execution_count": 57,
   "id": "2ec664ef",
   "metadata": {},
   "outputs": [
    {
     "data": {
      "application/vnd.microsoft.datawrangler.viewer.v0+json": {
       "columns": [
        {
         "name": "index",
         "rawType": "object",
         "type": "string"
        },
        {
         "name": "0",
         "rawType": "bool",
         "type": "boolean"
        }
       ],
       "ref": "049221c9-7b3f-4438-b354-3f8234696d22",
       "rows": [
        [
         "age",
         "False"
        ],
        [
         "balance",
         "False"
        ],
        [
         "day",
         "False"
        ],
        [
         "duration",
         "False"
        ],
        [
         "campaign",
         "False"
        ],
        [
         "pdays",
         "False"
        ],
        [
         "previous",
         "False"
        ],
        [
         "loan_KOSONG",
         "False"
        ],
        [
         "loan_no",
         "False"
        ],
        [
         "loan_yes",
         "False"
        ],
        [
         "marital_KOSONG",
         "False"
        ],
        [
         "marital_divorced",
         "False"
        ],
        [
         "marital_married",
         "False"
        ],
        [
         "marital_single",
         "False"
        ],
        [
         "month_KOSONG",
         "False"
        ],
        [
         "month_apr",
         "False"
        ],
        [
         "month_aug",
         "False"
        ],
        [
         "month_dec",
         "False"
        ],
        [
         "month_feb",
         "False"
        ],
        [
         "month_jan",
         "False"
        ],
        [
         "month_jul",
         "False"
        ],
        [
         "month_jun",
         "False"
        ],
        [
         "month_mar",
         "False"
        ],
        [
         "month_may",
         "False"
        ],
        [
         "month_nov",
         "False"
        ],
        [
         "month_oct",
         "False"
        ],
        [
         "month_sep",
         "False"
        ],
        [
         "job_KOSONG",
         "False"
        ],
        [
         "job_admin.",
         "False"
        ],
        [
         "job_blue-collar",
         "False"
        ],
        [
         "job_entrepreneur",
         "False"
        ],
        [
         "job_housemaid",
         "False"
        ],
        [
         "job_management",
         "False"
        ],
        [
         "job_retired",
         "False"
        ],
        [
         "job_self-employed",
         "False"
        ],
        [
         "job_services",
         "False"
        ],
        [
         "job_student",
         "False"
        ],
        [
         "job_technician",
         "False"
        ],
        [
         "job_unemployed",
         "False"
        ],
        [
         "job_unknown",
         "False"
        ],
        [
         "default_KOSONG",
         "False"
        ],
        [
         "default_no",
         "False"
        ],
        [
         "default_yes",
         "False"
        ],
        [
         "housing_KOSONG",
         "False"
        ],
        [
         "housing_no",
         "False"
        ],
        [
         "housing_yes",
         "False"
        ],
        [
         "poutcome_KOSONG",
         "False"
        ],
        [
         "poutcome_failure",
         "False"
        ],
        [
         "poutcome_other",
         "False"
        ],
        [
         "poutcome_success",
         "False"
        ]
       ],
       "shape": {
        "columns": 1,
        "rows": 60
       }
      },
      "text/plain": [
       "age                    False\n",
       "balance                False\n",
       "day                    False\n",
       "duration               False\n",
       "campaign               False\n",
       "pdays                  False\n",
       "previous               False\n",
       "loan_KOSONG            False\n",
       "loan_no                False\n",
       "loan_yes               False\n",
       "marital_KOSONG         False\n",
       "marital_divorced       False\n",
       "marital_married        False\n",
       "marital_single         False\n",
       "month_KOSONG           False\n",
       "month_apr              False\n",
       "month_aug              False\n",
       "month_dec              False\n",
       "month_feb              False\n",
       "month_jan              False\n",
       "month_jul              False\n",
       "month_jun              False\n",
       "month_mar              False\n",
       "month_may              False\n",
       "month_nov              False\n",
       "month_oct              False\n",
       "month_sep              False\n",
       "job_KOSONG             False\n",
       "job_admin.             False\n",
       "job_blue-collar        False\n",
       "job_entrepreneur       False\n",
       "job_housemaid          False\n",
       "job_management         False\n",
       "job_retired            False\n",
       "job_self-employed      False\n",
       "job_services           False\n",
       "job_student            False\n",
       "job_technician         False\n",
       "job_unemployed         False\n",
       "job_unknown            False\n",
       "default_KOSONG         False\n",
       "default_no             False\n",
       "default_yes            False\n",
       "housing_KOSONG         False\n",
       "housing_no             False\n",
       "housing_yes            False\n",
       "poutcome_KOSONG        False\n",
       "poutcome_failure       False\n",
       "poutcome_other         False\n",
       "poutcome_success       False\n",
       "poutcome_unknown       False\n",
       "education_KOSONG       False\n",
       "education_primary      False\n",
       "education_secondary    False\n",
       "education_tertiary     False\n",
       "education_unknown      False\n",
       "contact_KOSONG         False\n",
       "contact_cellular       False\n",
       "contact_telephone      False\n",
       "contact_unknown        False\n",
       "dtype: bool"
      ]
     },
     "execution_count": 57,
     "metadata": {},
     "output_type": "execute_result"
    }
   ],
   "source": [
    "x_train_concat.isnull().any()"
   ]
  },
  {
   "cell_type": "markdown",
   "id": "1554944b",
   "metadata": {},
   "source": [
    "### **Standardizing Variables**\n",
    "\n",
    "- Menyamakan skala dari variabel input\n",
    "- `fit`: imputer agar mengetahui mean dan standar deviasi dari setiap kolom\n",
    "- `transform`: isi data dengan value yang sudah dinormalisasi\n",
    "- output dari transform berupa pandas dataframe\n",
    "- normalize dikeluarkan karena akan digunakan pada data test"
   ]
  },
  {
   "cell_type": "code",
   "execution_count": 58,
   "id": "d298fee8",
   "metadata": {},
   "outputs": [],
   "source": [
    "from sklearn.preprocessing import StandardScaler\n",
    "\n",
    "# buat fungsi\n",
    "def standardizerData(data):\n",
    " \"\"\"\n",
    "    Fungsi untuk melakukan standarisasi data\n",
    "    :param data: <pandas dataframe> sampel data\n",
    "    :return standardized_data: <pandas dataframe> sampel data standard\n",
    "    :return standardizer: method untuk standardisasi data\n",
    "    \"\"\"\n",
    " data_columns = data.columns # agar nama kolom tidak hilang\n",
    " data_index = data.index # agar index tidak hilang\n",
    " \n",
    " # buat (fit) standardizazer\n",
    " standardizer = StandardScaler()\n",
    " standardizer.fit(data)\n",
    " \n",
    " # transform data\n",
    " standardized_data_raw = standardizer.transform(data)\n",
    " standardized_data = pd.DataFrame(standardized_data_raw)\n",
    " standardized_data.columns = data_columns\n",
    " standardized_data.index = data_index\n",
    " \n",
    " return standardized_data, standardizer\n",
    " "
   ]
  },
  {
   "cell_type": "code",
   "execution_count": 59,
   "id": "9a8b4b66",
   "metadata": {},
   "outputs": [],
   "source": [
    "x_train_clean, standardizer = standardizerData(data = x_train_concat)"
   ]
  },
  {
   "cell_type": "code",
   "execution_count": 60,
   "id": "99fa3561",
   "metadata": {},
   "outputs": [
    {
     "data": {
      "application/vnd.microsoft.datawrangler.viewer.v0+json": {
       "columns": [
        {
         "name": "index",
         "rawType": "int64",
         "type": "integer"
        },
        {
         "name": "age",
         "rawType": "float64",
         "type": "float"
        },
        {
         "name": "balance",
         "rawType": "float64",
         "type": "float"
        },
        {
         "name": "day",
         "rawType": "float64",
         "type": "float"
        },
        {
         "name": "duration",
         "rawType": "float64",
         "type": "float"
        },
        {
         "name": "campaign",
         "rawType": "float64",
         "type": "float"
        },
        {
         "name": "pdays",
         "rawType": "float64",
         "type": "float"
        },
        {
         "name": "previous",
         "rawType": "float64",
         "type": "float"
        },
        {
         "name": "loan_KOSONG",
         "rawType": "float64",
         "type": "float"
        },
        {
         "name": "loan_no",
         "rawType": "float64",
         "type": "float"
        },
        {
         "name": "loan_yes",
         "rawType": "float64",
         "type": "float"
        },
        {
         "name": "marital_KOSONG",
         "rawType": "float64",
         "type": "float"
        },
        {
         "name": "marital_divorced",
         "rawType": "float64",
         "type": "float"
        },
        {
         "name": "marital_married",
         "rawType": "float64",
         "type": "float"
        },
        {
         "name": "marital_single",
         "rawType": "float64",
         "type": "float"
        },
        {
         "name": "month_KOSONG",
         "rawType": "float64",
         "type": "float"
        },
        {
         "name": "month_apr",
         "rawType": "float64",
         "type": "float"
        },
        {
         "name": "month_aug",
         "rawType": "float64",
         "type": "float"
        },
        {
         "name": "month_dec",
         "rawType": "float64",
         "type": "float"
        },
        {
         "name": "month_feb",
         "rawType": "float64",
         "type": "float"
        },
        {
         "name": "month_jan",
         "rawType": "float64",
         "type": "float"
        },
        {
         "name": "month_jul",
         "rawType": "float64",
         "type": "float"
        },
        {
         "name": "month_jun",
         "rawType": "float64",
         "type": "float"
        },
        {
         "name": "month_mar",
         "rawType": "float64",
         "type": "float"
        },
        {
         "name": "month_may",
         "rawType": "float64",
         "type": "float"
        },
        {
         "name": "month_nov",
         "rawType": "float64",
         "type": "float"
        },
        {
         "name": "month_oct",
         "rawType": "float64",
         "type": "float"
        },
        {
         "name": "month_sep",
         "rawType": "float64",
         "type": "float"
        },
        {
         "name": "job_KOSONG",
         "rawType": "float64",
         "type": "float"
        },
        {
         "name": "job_admin.",
         "rawType": "float64",
         "type": "float"
        },
        {
         "name": "job_blue-collar",
         "rawType": "float64",
         "type": "float"
        },
        {
         "name": "job_entrepreneur",
         "rawType": "float64",
         "type": "float"
        },
        {
         "name": "job_housemaid",
         "rawType": "float64",
         "type": "float"
        },
        {
         "name": "job_management",
         "rawType": "float64",
         "type": "float"
        },
        {
         "name": "job_retired",
         "rawType": "float64",
         "type": "float"
        },
        {
         "name": "job_self-employed",
         "rawType": "float64",
         "type": "float"
        },
        {
         "name": "job_services",
         "rawType": "float64",
         "type": "float"
        },
        {
         "name": "job_student",
         "rawType": "float64",
         "type": "float"
        },
        {
         "name": "job_technician",
         "rawType": "float64",
         "type": "float"
        },
        {
         "name": "job_unemployed",
         "rawType": "float64",
         "type": "float"
        },
        {
         "name": "job_unknown",
         "rawType": "float64",
         "type": "float"
        },
        {
         "name": "default_KOSONG",
         "rawType": "float64",
         "type": "float"
        },
        {
         "name": "default_no",
         "rawType": "float64",
         "type": "float"
        },
        {
         "name": "default_yes",
         "rawType": "float64",
         "type": "float"
        },
        {
         "name": "housing_KOSONG",
         "rawType": "float64",
         "type": "float"
        },
        {
         "name": "housing_no",
         "rawType": "float64",
         "type": "float"
        },
        {
         "name": "housing_yes",
         "rawType": "float64",
         "type": "float"
        },
        {
         "name": "poutcome_KOSONG",
         "rawType": "float64",
         "type": "float"
        },
        {
         "name": "poutcome_failure",
         "rawType": "float64",
         "type": "float"
        },
        {
         "name": "poutcome_other",
         "rawType": "float64",
         "type": "float"
        },
        {
         "name": "poutcome_success",
         "rawType": "float64",
         "type": "float"
        },
        {
         "name": "poutcome_unknown",
         "rawType": "float64",
         "type": "float"
        },
        {
         "name": "education_KOSONG",
         "rawType": "float64",
         "type": "float"
        },
        {
         "name": "education_primary",
         "rawType": "float64",
         "type": "float"
        },
        {
         "name": "education_secondary",
         "rawType": "float64",
         "type": "float"
        },
        {
         "name": "education_tertiary",
         "rawType": "float64",
         "type": "float"
        },
        {
         "name": "education_unknown",
         "rawType": "float64",
         "type": "float"
        },
        {
         "name": "contact_KOSONG",
         "rawType": "float64",
         "type": "float"
        },
        {
         "name": "contact_cellular",
         "rawType": "float64",
         "type": "float"
        },
        {
         "name": "contact_telephone",
         "rawType": "float64",
         "type": "float"
        },
        {
         "name": "contact_unknown",
         "rawType": "float64",
         "type": "float"
        }
       ],
       "ref": "97ae15f1-e1e0-4815-b765-a289955c2561",
       "rows": [
        [
         "37156",
         "-0.5688860647009178",
         "0.5020468376517653",
         "-0.35443417898698676",
         "-0.5040728213453571",
         "-0.5697607469524826",
         "-0.3902545635304469",
         "-0.2921380342920898",
         "-0.292238479782011",
         "0.5432657685472182",
         "-0.4187617035324322",
         "-0.2911671285637005",
         "-0.34416332647417774",
         "-1.1178485368288438",
         "1.6849988173564854",
         "-0.28829682241813387",
         "-0.2512900184159531",
         "-0.3811933675128544",
         "-0.0677656579575809",
         "-0.23649365241647294",
         "-0.17142568014446763",
         "-0.40667377328439985",
         "-0.3509321330975701",
         "-0.09943849983274773",
         "1.6007851614164648",
         "-0.2980837507842651",
         "-0.12443156367944308",
         "-0.11022200813756874",
         "-0.2911671285637005",
         "-0.34389528458065577",
         "-0.49909665689542326",
         "-0.17717415198443268",
         "-0.16179620042264337",
         "2.0410175378678685",
         "-0.221001351415499",
         "-0.1824183392971918",
         "-0.3030414264269168",
         "-0.13759151924242258",
         "-0.4256469465318985",
         "-0.16531292913677578",
         "-0.07566012814131609",
         "-0.29348499855498883",
         "0.32735889740634083",
         "-0.13341585319757332",
         "-0.2917626570153793",
         "1.2010044057000728",
         "-1.0245431616483498",
         "-0.2899137830433672",
         "-0.3289027288318063",
         "-0.1957223906135004",
         "-0.1800749876786547",
         "0.5672695319377633",
         "-0.28468081733982387",
         "-0.40277529079593477",
         "-0.9495992011037921",
         "1.6329490167636835",
         "-0.20022685824058897",
         "-0.29384048257408657",
         "0.8258497916491728",
         "-0.2525478017264509",
         "-0.6020617928242515"
        ],
        [
         "20494",
         "-1.0580425630698385",
         "-0.2880930165359109",
         "-0.4792099648327347",
         "-0.6939948451353263",
         "-0.23673572785876437",
         "-0.3902545635304469",
         "-0.2921380342920898",
         "3.4218628592166507",
         "-1.840719695397272",
         "-0.4187617035324322",
         "3.4344536243940182",
         "-0.34416332647417774",
         "-1.1178485368288438",
         "-0.5934722266267538",
         "3.4686473184558415",
         "-0.2512900184159531",
         "-0.3811933675128544",
         "-0.0677656579575809",
         "-0.23649365241647294",
         "-0.17142568014446763",
         "-0.40667377328439985",
         "-0.3509321330975701",
         "-0.09943849983274773",
         "-0.6246934467553059",
         "-0.2980837507842651",
         "-0.12443156367944308",
         "-0.11022200813756874",
         "-0.2911671285637005",
         "-0.34389528458065577",
         "-0.49909665689542326",
         "-0.17717415198443268",
         "-0.16179620042264337",
         "2.0410175378678685",
         "-0.221001351415499",
         "-0.1824183392971918",
         "-0.3030414264269168",
         "-0.13759151924242258",
         "-0.4256469465318985",
         "-0.16531292913677578",
         "-0.07566012814131609",
         "-0.29348499855498883",
         "0.32735889740634083",
         "-0.13341585319757332",
         "-0.2917626570153793",
         "-0.8326364127008296",
         "0.9760447753036943",
         "-0.2899137830433672",
         "-0.3289027288318063",
         "-0.1957223906135004",
         "-0.1800749876786547",
         "0.5672695319377633",
         "3.512705946766686",
         "-0.40277529079593477",
         "-0.9495992011037921",
         "-0.612388990552739",
         "-0.20022685824058897",
         "-0.29384048257408657",
         "0.8258497916491728",
         "-0.2525478017264509",
         "-0.6020617928242515"
        ],
        [
         "35272",
         "-0.17756086600578128",
         "1.012588200505034",
         "-1.1030888940614745",
         "-0.8556306100629596",
         "-0.5697607469524826",
         "-0.3902545635304469",
         "-0.2921380342920898",
         "-0.292238479782011",
         "0.5432657685472182",
         "-0.4187617035324322",
         "3.4344536243940182",
         "-0.34416332647417774",
         "-1.1178485368288438",
         "-0.5934722266267538",
         "-0.28829682241813387",
         "-0.2512900184159531",
         "-0.3811933675128544",
         "-0.0677656579575809",
         "-0.23649365241647294",
         "-0.17142568014446763",
         "-0.40667377328439985",
         "-0.3509321330975701",
         "-0.09943849983274773",
         "1.6007851614164648",
         "-0.2980837507842651",
         "-0.12443156367944308",
         "-0.11022200813756874",
         "-0.2911671285637005",
         "-0.34389528458065577",
         "-0.49909665689542326",
         "-0.17717415198443268",
         "-0.16179620042264337",
         "2.0410175378678685",
         "-0.221001351415499",
         "-0.1824183392971918",
         "-0.3030414264269168",
         "-0.13759151924242258",
         "-0.4256469465318985",
         "-0.16531292913677578",
         "-0.07566012814131609",
         "-0.29348499855498883",
         "0.32735889740634083",
         "-0.13341585319757332",
         "-0.2917626570153793",
         "-0.8326364127008296",
         "0.9760447753036943",
         "-0.2899137830433672",
         "-0.3289027288318063",
         "-0.1957223906135004",
         "-0.1800749876786547",
         "0.5672695319377633",
         "-0.28468081733982387",
         "-0.40277529079593477",
         "-0.9495992011037921",
         "1.6329490167636835",
         "-0.20022685824058897",
         "-0.29384048257408657",
         "0.8258497916491728",
         "-0.2525478017264509",
         "-0.6020617928242515"
        ],
        [
         "22260",
         "0.8007521307320601",
         "-0.30282676056456226",
         "0.6437721077789967",
         "-0.4070913623887771",
         "0.09628929123495382",
         "-0.3902545635304469",
         "-0.2921380342920898",
         "-0.292238479782011",
         "0.5432657685472182",
         "-0.4187617035324322",
         "3.4344536243940182",
         "-0.34416332647417774",
         "-1.1178485368288438",
         "-0.5934722266267538",
         "-0.28829682241813387",
         "-0.2512900184159531",
         "2.623340501763265",
         "-0.0677656579575809",
         "-0.23649365241647294",
         "-0.17142568014446763",
         "-0.40667377328439985",
         "-0.3509321330975701",
         "-0.09943849983274773",
         "-0.6246934467553059",
         "-0.2980837507842651",
         "-0.12443156367944308",
         "-0.11022200813756874",
         "-0.2911671285637005",
         "-0.34389528458065577",
         "-0.49909665689542326",
         "-0.17717415198443268",
         "-0.16179620042264337",
         "-0.48995169392059285",
         "-0.221001351415499",
         "-0.1824183392971918",
         "3.2998788706571975",
         "-0.13759151924242258",
         "-0.4256469465318985",
         "-0.16531292913677578",
         "-0.07566012814131609",
         "-0.29348499855498883",
         "0.32735889740634083",
         "-0.13341585319757332",
         "-0.2917626570153793",
         "1.2010044057000728",
         "-1.0245431616483498",
         "-0.2899137830433672",
         "-0.3289027288318063",
         "-0.1957223906135004",
         "-0.1800749876786547",
         "0.5672695319377633",
         "3.512705946766686",
         "-0.40277529079593477",
         "-0.9495992011037921",
         "-0.612388990552739",
         "-0.20022685824058897",
         "-0.29384048257408657",
         "0.8258497916491728",
         "-0.2525478017264509",
         "-0.6020617928242515"
        ],
        [
         "2728",
         "-1.2537051624174067",
         "-0.279526886286695",
         "-0.35443417898698676",
         "-0.40305046826558627",
         "0.09628929123495382",
         "-0.3902545635304469",
         "-0.2921380342920898",
         "-0.292238479782011",
         "0.5432657685472182",
         "-0.4187617035324322",
         "-0.2911671285637005",
         "-0.34416332647417774",
         "-1.1178485368288438",
         "1.6849988173564854",
         "-0.28829682241813387",
         "-0.2512900184159531",
         "-0.3811933675128544",
         "-0.0677656579575809",
         "-0.23649365241647294",
         "-0.17142568014446763",
         "-0.40667377328439985",
         "-0.3509321330975701",
         "-0.09943849983274773",
         "1.6007851614164648",
         "-0.2980837507842651",
         "-0.12443156367944308",
         "-0.11022200813756874",
         "-0.2911671285637005",
         "-0.34389528458065577",
         "-0.49909665689542326",
         "-0.17717415198443268",
         "-0.16179620042264337",
         "-0.48995169392059285",
         "-0.221001351415499",
         "-0.1824183392971918",
         "-0.3030414264269168",
         "-0.13759151924242258",
         "2.349364909458029",
         "-0.16531292913677578",
         "-0.07566012814131609",
         "-0.29348499855498883",
         "0.32735889740634083",
         "-0.13341585319757332",
         "-0.2917626570153793",
         "-0.8326364127008296",
         "0.9760447753036943",
         "-0.2899137830433672",
         "-0.3289027288318063",
         "-0.1957223906135004",
         "-0.1800749876786547",
         "0.5672695319377633",
         "-0.28468081733982387",
         "-0.40277529079593477",
         "1.053075864888706",
         "-0.612388990552739",
         "-0.20022685824058897",
         "-0.29384048257408657",
         "-1.210873950822291",
         "-0.2525478017264509",
         "1.6609590774877672"
        ]
       ],
       "shape": {
        "columns": 60,
        "rows": 5
       }
      },
      "text/html": [
       "<div>\n",
       "<style scoped>\n",
       "    .dataframe tbody tr th:only-of-type {\n",
       "        vertical-align: middle;\n",
       "    }\n",
       "\n",
       "    .dataframe tbody tr th {\n",
       "        vertical-align: top;\n",
       "    }\n",
       "\n",
       "    .dataframe thead th {\n",
       "        text-align: right;\n",
       "    }\n",
       "</style>\n",
       "<table border=\"1\" class=\"dataframe\">\n",
       "  <thead>\n",
       "    <tr style=\"text-align: right;\">\n",
       "      <th></th>\n",
       "      <th>age</th>\n",
       "      <th>balance</th>\n",
       "      <th>day</th>\n",
       "      <th>duration</th>\n",
       "      <th>campaign</th>\n",
       "      <th>pdays</th>\n",
       "      <th>previous</th>\n",
       "      <th>loan_KOSONG</th>\n",
       "      <th>loan_no</th>\n",
       "      <th>loan_yes</th>\n",
       "      <th>...</th>\n",
       "      <th>poutcome_unknown</th>\n",
       "      <th>education_KOSONG</th>\n",
       "      <th>education_primary</th>\n",
       "      <th>education_secondary</th>\n",
       "      <th>education_tertiary</th>\n",
       "      <th>education_unknown</th>\n",
       "      <th>contact_KOSONG</th>\n",
       "      <th>contact_cellular</th>\n",
       "      <th>contact_telephone</th>\n",
       "      <th>contact_unknown</th>\n",
       "    </tr>\n",
       "  </thead>\n",
       "  <tbody>\n",
       "    <tr>\n",
       "      <th>37156</th>\n",
       "      <td>-0.568886</td>\n",
       "      <td>0.502047</td>\n",
       "      <td>-0.354434</td>\n",
       "      <td>-0.504073</td>\n",
       "      <td>-0.569761</td>\n",
       "      <td>-0.390255</td>\n",
       "      <td>-0.292138</td>\n",
       "      <td>-0.292238</td>\n",
       "      <td>0.543266</td>\n",
       "      <td>-0.418762</td>\n",
       "      <td>...</td>\n",
       "      <td>0.56727</td>\n",
       "      <td>-0.284681</td>\n",
       "      <td>-0.402775</td>\n",
       "      <td>-0.949599</td>\n",
       "      <td>1.632949</td>\n",
       "      <td>-0.200227</td>\n",
       "      <td>-0.29384</td>\n",
       "      <td>0.825850</td>\n",
       "      <td>-0.252548</td>\n",
       "      <td>-0.602062</td>\n",
       "    </tr>\n",
       "    <tr>\n",
       "      <th>20494</th>\n",
       "      <td>-1.058043</td>\n",
       "      <td>-0.288093</td>\n",
       "      <td>-0.479210</td>\n",
       "      <td>-0.693995</td>\n",
       "      <td>-0.236736</td>\n",
       "      <td>-0.390255</td>\n",
       "      <td>-0.292138</td>\n",
       "      <td>3.421863</td>\n",
       "      <td>-1.840720</td>\n",
       "      <td>-0.418762</td>\n",
       "      <td>...</td>\n",
       "      <td>0.56727</td>\n",
       "      <td>3.512706</td>\n",
       "      <td>-0.402775</td>\n",
       "      <td>-0.949599</td>\n",
       "      <td>-0.612389</td>\n",
       "      <td>-0.200227</td>\n",
       "      <td>-0.29384</td>\n",
       "      <td>0.825850</td>\n",
       "      <td>-0.252548</td>\n",
       "      <td>-0.602062</td>\n",
       "    </tr>\n",
       "    <tr>\n",
       "      <th>35272</th>\n",
       "      <td>-0.177561</td>\n",
       "      <td>1.012588</td>\n",
       "      <td>-1.103089</td>\n",
       "      <td>-0.855631</td>\n",
       "      <td>-0.569761</td>\n",
       "      <td>-0.390255</td>\n",
       "      <td>-0.292138</td>\n",
       "      <td>-0.292238</td>\n",
       "      <td>0.543266</td>\n",
       "      <td>-0.418762</td>\n",
       "      <td>...</td>\n",
       "      <td>0.56727</td>\n",
       "      <td>-0.284681</td>\n",
       "      <td>-0.402775</td>\n",
       "      <td>-0.949599</td>\n",
       "      <td>1.632949</td>\n",
       "      <td>-0.200227</td>\n",
       "      <td>-0.29384</td>\n",
       "      <td>0.825850</td>\n",
       "      <td>-0.252548</td>\n",
       "      <td>-0.602062</td>\n",
       "    </tr>\n",
       "    <tr>\n",
       "      <th>22260</th>\n",
       "      <td>0.800752</td>\n",
       "      <td>-0.302827</td>\n",
       "      <td>0.643772</td>\n",
       "      <td>-0.407091</td>\n",
       "      <td>0.096289</td>\n",
       "      <td>-0.390255</td>\n",
       "      <td>-0.292138</td>\n",
       "      <td>-0.292238</td>\n",
       "      <td>0.543266</td>\n",
       "      <td>-0.418762</td>\n",
       "      <td>...</td>\n",
       "      <td>0.56727</td>\n",
       "      <td>3.512706</td>\n",
       "      <td>-0.402775</td>\n",
       "      <td>-0.949599</td>\n",
       "      <td>-0.612389</td>\n",
       "      <td>-0.200227</td>\n",
       "      <td>-0.29384</td>\n",
       "      <td>0.825850</td>\n",
       "      <td>-0.252548</td>\n",
       "      <td>-0.602062</td>\n",
       "    </tr>\n",
       "    <tr>\n",
       "      <th>2728</th>\n",
       "      <td>-1.253705</td>\n",
       "      <td>-0.279527</td>\n",
       "      <td>-0.354434</td>\n",
       "      <td>-0.403050</td>\n",
       "      <td>0.096289</td>\n",
       "      <td>-0.390255</td>\n",
       "      <td>-0.292138</td>\n",
       "      <td>-0.292238</td>\n",
       "      <td>0.543266</td>\n",
       "      <td>-0.418762</td>\n",
       "      <td>...</td>\n",
       "      <td>0.56727</td>\n",
       "      <td>-0.284681</td>\n",
       "      <td>-0.402775</td>\n",
       "      <td>1.053076</td>\n",
       "      <td>-0.612389</td>\n",
       "      <td>-0.200227</td>\n",
       "      <td>-0.29384</td>\n",
       "      <td>-1.210874</td>\n",
       "      <td>-0.252548</td>\n",
       "      <td>1.660959</td>\n",
       "    </tr>\n",
       "  </tbody>\n",
       "</table>\n",
       "<p>5 rows × 60 columns</p>\n",
       "</div>"
      ],
      "text/plain": [
       "            age   balance       day  duration  campaign     pdays  previous  \\\n",
       "37156 -0.568886  0.502047 -0.354434 -0.504073 -0.569761 -0.390255 -0.292138   \n",
       "20494 -1.058043 -0.288093 -0.479210 -0.693995 -0.236736 -0.390255 -0.292138   \n",
       "35272 -0.177561  1.012588 -1.103089 -0.855631 -0.569761 -0.390255 -0.292138   \n",
       "22260  0.800752 -0.302827  0.643772 -0.407091  0.096289 -0.390255 -0.292138   \n",
       "2728  -1.253705 -0.279527 -0.354434 -0.403050  0.096289 -0.390255 -0.292138   \n",
       "\n",
       "       loan_KOSONG   loan_no  loan_yes  ...  poutcome_unknown  \\\n",
       "37156    -0.292238  0.543266 -0.418762  ...           0.56727   \n",
       "20494     3.421863 -1.840720 -0.418762  ...           0.56727   \n",
       "35272    -0.292238  0.543266 -0.418762  ...           0.56727   \n",
       "22260    -0.292238  0.543266 -0.418762  ...           0.56727   \n",
       "2728     -0.292238  0.543266 -0.418762  ...           0.56727   \n",
       "\n",
       "       education_KOSONG  education_primary  education_secondary  \\\n",
       "37156         -0.284681          -0.402775            -0.949599   \n",
       "20494          3.512706          -0.402775            -0.949599   \n",
       "35272         -0.284681          -0.402775            -0.949599   \n",
       "22260          3.512706          -0.402775            -0.949599   \n",
       "2728          -0.284681          -0.402775             1.053076   \n",
       "\n",
       "       education_tertiary  education_unknown  contact_KOSONG  \\\n",
       "37156            1.632949          -0.200227        -0.29384   \n",
       "20494           -0.612389          -0.200227        -0.29384   \n",
       "35272            1.632949          -0.200227        -0.29384   \n",
       "22260           -0.612389          -0.200227        -0.29384   \n",
       "2728            -0.612389          -0.200227        -0.29384   \n",
       "\n",
       "       contact_cellular  contact_telephone  contact_unknown  \n",
       "37156          0.825850          -0.252548        -0.602062  \n",
       "20494          0.825850          -0.252548        -0.602062  \n",
       "35272          0.825850          -0.252548        -0.602062  \n",
       "22260          0.825850          -0.252548        -0.602062  \n",
       "2728          -1.210874          -0.252548         1.660959  \n",
       "\n",
       "[5 rows x 60 columns]"
      ]
     },
     "execution_count": 60,
     "metadata": {},
     "output_type": "execute_result"
    }
   ],
   "source": [
    "x_train_clean.head()"
   ]
  },
  {
   "cell_type": "markdown",
   "id": "a1e3d6d3",
   "metadata": {},
   "source": [
    "## <b><font color='blue'> 3. Training Machine Learning:</font></b>\n",
    "---\n",
    "    * Choose Score to optimize and Hyperparameter Space\n",
    "    * Cross-Validation: Random vs Grid Search CV\n",
    "    * Kita harus mengalahkan benchmark"
   ]
  },
  {
   "cell_type": "markdown",
   "id": "72c227d3",
   "metadata": {},
   "source": [
    "### **Benchmark / Baseline**\n",
    "\n",
    "- Baseline untuk evaluasi nanti\n",
    "- Karena ini klasifikasi, bisa kita ambil dari proporsi kelas target yang terbesar\n",
    "- Dengan kata lain, menebak hasil output marketing response dengan nilai \"no\" semua tanpa modeling"
   ]
  },
  {
   "cell_type": "code",
   "execution_count": 61,
   "id": "50aec87d",
   "metadata": {},
   "outputs": [
    {
     "data": {
      "application/vnd.microsoft.datawrangler.viewer.v0+json": {
       "columns": [
        {
         "name": "y",
         "rawType": "object",
         "type": "string"
        },
        {
         "name": "proportion",
         "rawType": "float64",
         "type": "float"
        }
       ],
       "ref": "fbeb0428-3db3-4aad-a85b-8858fccd0e40",
       "rows": [
        [
         "no",
         "0.8826235696590775"
        ],
        [
         "yes",
         "0.1173764303409225"
        ]
       ],
       "shape": {
        "columns": 1,
        "rows": 2
       }
      },
      "text/plain": [
       "y\n",
       "no     0.882624\n",
       "yes    0.117376\n",
       "Name: proportion, dtype: float64"
      ]
     },
     "execution_count": 61,
     "metadata": {},
     "output_type": "execute_result"
    }
   ],
   "source": [
    "y_train.value_counts(normalize= True)\n",
    "\n",
    "# baseline akurasi = 88%"
   ]
  },
  {
   "cell_type": "markdown",
   "id": "884918e3",
   "metadata": {},
   "source": [
    "### **1. Import Model**\n",
    "\n",
    "- Misal kita gunakan 3 model ML untuk klasifikasi:\n",
    "    - K-nearest neighbor (K-NN)\n",
    "    - Logistic Regression\n",
    "    - Random Forest"
   ]
  },
  {
   "cell_type": "code",
   "execution_count": 62,
   "id": "3c0a2557",
   "metadata": {},
   "outputs": [],
   "source": [
    "from sklearn.neighbors import KNeighborsClassifier\n",
    "from sklearn.linear_model import LogisticRegression\n",
    "from sklearn.ensemble import RandomForestClassifier"
   ]
  },
  {
   "cell_type": "markdown",
   "id": "7acc8d22",
   "metadata": {},
   "source": [
    "### **2. Fitting Model**\n",
    "\n",
    "- Cara fitting/training model mengikuti yang dokumentasi model"
   ]
  },
  {
   "cell_type": "code",
   "execution_count": 63,
   "id": "17a9d051",
   "metadata": {},
   "outputs": [],
   "source": [
    "# model K nearest neighbor \n",
    "# knn = KNeighborsClassifier\n",
    "# knn.fit(x_train_clean, y_train)"
   ]
  },
  {
   "cell_type": "code",
   "execution_count": 64,
   "id": "3e9b6fde",
   "metadata": {},
   "outputs": [
    {
     "data": {
      "text/html": [
       "<style>#sk-container-id-1 {\n",
       "  /* Definition of color scheme common for light and dark mode */\n",
       "  --sklearn-color-text: #000;\n",
       "  --sklearn-color-text-muted: #666;\n",
       "  --sklearn-color-line: gray;\n",
       "  /* Definition of color scheme for unfitted estimators */\n",
       "  --sklearn-color-unfitted-level-0: #fff5e6;\n",
       "  --sklearn-color-unfitted-level-1: #f6e4d2;\n",
       "  --sklearn-color-unfitted-level-2: #ffe0b3;\n",
       "  --sklearn-color-unfitted-level-3: chocolate;\n",
       "  /* Definition of color scheme for fitted estimators */\n",
       "  --sklearn-color-fitted-level-0: #f0f8ff;\n",
       "  --sklearn-color-fitted-level-1: #d4ebff;\n",
       "  --sklearn-color-fitted-level-2: #b3dbfd;\n",
       "  --sklearn-color-fitted-level-3: cornflowerblue;\n",
       "\n",
       "  /* Specific color for light theme */\n",
       "  --sklearn-color-text-on-default-background: var(--sg-text-color, var(--theme-code-foreground, var(--jp-content-font-color1, black)));\n",
       "  --sklearn-color-background: var(--sg-background-color, var(--theme-background, var(--jp-layout-color0, white)));\n",
       "  --sklearn-color-border-box: var(--sg-text-color, var(--theme-code-foreground, var(--jp-content-font-color1, black)));\n",
       "  --sklearn-color-icon: #696969;\n",
       "\n",
       "  @media (prefers-color-scheme: dark) {\n",
       "    /* Redefinition of color scheme for dark theme */\n",
       "    --sklearn-color-text-on-default-background: var(--sg-text-color, var(--theme-code-foreground, var(--jp-content-font-color1, white)));\n",
       "    --sklearn-color-background: var(--sg-background-color, var(--theme-background, var(--jp-layout-color0, #111)));\n",
       "    --sklearn-color-border-box: var(--sg-text-color, var(--theme-code-foreground, var(--jp-content-font-color1, white)));\n",
       "    --sklearn-color-icon: #878787;\n",
       "  }\n",
       "}\n",
       "\n",
       "#sk-container-id-1 {\n",
       "  color: var(--sklearn-color-text);\n",
       "}\n",
       "\n",
       "#sk-container-id-1 pre {\n",
       "  padding: 0;\n",
       "}\n",
       "\n",
       "#sk-container-id-1 input.sk-hidden--visually {\n",
       "  border: 0;\n",
       "  clip: rect(1px 1px 1px 1px);\n",
       "  clip: rect(1px, 1px, 1px, 1px);\n",
       "  height: 1px;\n",
       "  margin: -1px;\n",
       "  overflow: hidden;\n",
       "  padding: 0;\n",
       "  position: absolute;\n",
       "  width: 1px;\n",
       "}\n",
       "\n",
       "#sk-container-id-1 div.sk-dashed-wrapped {\n",
       "  border: 1px dashed var(--sklearn-color-line);\n",
       "  margin: 0 0.4em 0.5em 0.4em;\n",
       "  box-sizing: border-box;\n",
       "  padding-bottom: 0.4em;\n",
       "  background-color: var(--sklearn-color-background);\n",
       "}\n",
       "\n",
       "#sk-container-id-1 div.sk-container {\n",
       "  /* jupyter's `normalize.less` sets `[hidden] { display: none; }`\n",
       "     but bootstrap.min.css set `[hidden] { display: none !important; }`\n",
       "     so we also need the `!important` here to be able to override the\n",
       "     default hidden behavior on the sphinx rendered scikit-learn.org.\n",
       "     See: https://github.com/scikit-learn/scikit-learn/issues/21755 */\n",
       "  display: inline-block !important;\n",
       "  position: relative;\n",
       "}\n",
       "\n",
       "#sk-container-id-1 div.sk-text-repr-fallback {\n",
       "  display: none;\n",
       "}\n",
       "\n",
       "div.sk-parallel-item,\n",
       "div.sk-serial,\n",
       "div.sk-item {\n",
       "  /* draw centered vertical line to link estimators */\n",
       "  background-image: linear-gradient(var(--sklearn-color-text-on-default-background), var(--sklearn-color-text-on-default-background));\n",
       "  background-size: 2px 100%;\n",
       "  background-repeat: no-repeat;\n",
       "  background-position: center center;\n",
       "}\n",
       "\n",
       "/* Parallel-specific style estimator block */\n",
       "\n",
       "#sk-container-id-1 div.sk-parallel-item::after {\n",
       "  content: \"\";\n",
       "  width: 100%;\n",
       "  border-bottom: 2px solid var(--sklearn-color-text-on-default-background);\n",
       "  flex-grow: 1;\n",
       "}\n",
       "\n",
       "#sk-container-id-1 div.sk-parallel {\n",
       "  display: flex;\n",
       "  align-items: stretch;\n",
       "  justify-content: center;\n",
       "  background-color: var(--sklearn-color-background);\n",
       "  position: relative;\n",
       "}\n",
       "\n",
       "#sk-container-id-1 div.sk-parallel-item {\n",
       "  display: flex;\n",
       "  flex-direction: column;\n",
       "}\n",
       "\n",
       "#sk-container-id-1 div.sk-parallel-item:first-child::after {\n",
       "  align-self: flex-end;\n",
       "  width: 50%;\n",
       "}\n",
       "\n",
       "#sk-container-id-1 div.sk-parallel-item:last-child::after {\n",
       "  align-self: flex-start;\n",
       "  width: 50%;\n",
       "}\n",
       "\n",
       "#sk-container-id-1 div.sk-parallel-item:only-child::after {\n",
       "  width: 0;\n",
       "}\n",
       "\n",
       "/* Serial-specific style estimator block */\n",
       "\n",
       "#sk-container-id-1 div.sk-serial {\n",
       "  display: flex;\n",
       "  flex-direction: column;\n",
       "  align-items: center;\n",
       "  background-color: var(--sklearn-color-background);\n",
       "  padding-right: 1em;\n",
       "  padding-left: 1em;\n",
       "}\n",
       "\n",
       "\n",
       "/* Toggleable style: style used for estimator/Pipeline/ColumnTransformer box that is\n",
       "clickable and can be expanded/collapsed.\n",
       "- Pipeline and ColumnTransformer use this feature and define the default style\n",
       "- Estimators will overwrite some part of the style using the `sk-estimator` class\n",
       "*/\n",
       "\n",
       "/* Pipeline and ColumnTransformer style (default) */\n",
       "\n",
       "#sk-container-id-1 div.sk-toggleable {\n",
       "  /* Default theme specific background. It is overwritten whether we have a\n",
       "  specific estimator or a Pipeline/ColumnTransformer */\n",
       "  background-color: var(--sklearn-color-background);\n",
       "}\n",
       "\n",
       "/* Toggleable label */\n",
       "#sk-container-id-1 label.sk-toggleable__label {\n",
       "  cursor: pointer;\n",
       "  display: flex;\n",
       "  width: 100%;\n",
       "  margin-bottom: 0;\n",
       "  padding: 0.5em;\n",
       "  box-sizing: border-box;\n",
       "  text-align: center;\n",
       "  align-items: start;\n",
       "  justify-content: space-between;\n",
       "  gap: 0.5em;\n",
       "}\n",
       "\n",
       "#sk-container-id-1 label.sk-toggleable__label .caption {\n",
       "  font-size: 0.6rem;\n",
       "  font-weight: lighter;\n",
       "  color: var(--sklearn-color-text-muted);\n",
       "}\n",
       "\n",
       "#sk-container-id-1 label.sk-toggleable__label-arrow:before {\n",
       "  /* Arrow on the left of the label */\n",
       "  content: \"▸\";\n",
       "  float: left;\n",
       "  margin-right: 0.25em;\n",
       "  color: var(--sklearn-color-icon);\n",
       "}\n",
       "\n",
       "#sk-container-id-1 label.sk-toggleable__label-arrow:hover:before {\n",
       "  color: var(--sklearn-color-text);\n",
       "}\n",
       "\n",
       "/* Toggleable content - dropdown */\n",
       "\n",
       "#sk-container-id-1 div.sk-toggleable__content {\n",
       "  max-height: 0;\n",
       "  max-width: 0;\n",
       "  overflow: hidden;\n",
       "  text-align: left;\n",
       "  /* unfitted */\n",
       "  background-color: var(--sklearn-color-unfitted-level-0);\n",
       "}\n",
       "\n",
       "#sk-container-id-1 div.sk-toggleable__content.fitted {\n",
       "  /* fitted */\n",
       "  background-color: var(--sklearn-color-fitted-level-0);\n",
       "}\n",
       "\n",
       "#sk-container-id-1 div.sk-toggleable__content pre {\n",
       "  margin: 0.2em;\n",
       "  border-radius: 0.25em;\n",
       "  color: var(--sklearn-color-text);\n",
       "  /* unfitted */\n",
       "  background-color: var(--sklearn-color-unfitted-level-0);\n",
       "}\n",
       "\n",
       "#sk-container-id-1 div.sk-toggleable__content.fitted pre {\n",
       "  /* unfitted */\n",
       "  background-color: var(--sklearn-color-fitted-level-0);\n",
       "}\n",
       "\n",
       "#sk-container-id-1 input.sk-toggleable__control:checked~div.sk-toggleable__content {\n",
       "  /* Expand drop-down */\n",
       "  max-height: 200px;\n",
       "  max-width: 100%;\n",
       "  overflow: auto;\n",
       "}\n",
       "\n",
       "#sk-container-id-1 input.sk-toggleable__control:checked~label.sk-toggleable__label-arrow:before {\n",
       "  content: \"▾\";\n",
       "}\n",
       "\n",
       "/* Pipeline/ColumnTransformer-specific style */\n",
       "\n",
       "#sk-container-id-1 div.sk-label input.sk-toggleable__control:checked~label.sk-toggleable__label {\n",
       "  color: var(--sklearn-color-text);\n",
       "  background-color: var(--sklearn-color-unfitted-level-2);\n",
       "}\n",
       "\n",
       "#sk-container-id-1 div.sk-label.fitted input.sk-toggleable__control:checked~label.sk-toggleable__label {\n",
       "  background-color: var(--sklearn-color-fitted-level-2);\n",
       "}\n",
       "\n",
       "/* Estimator-specific style */\n",
       "\n",
       "/* Colorize estimator box */\n",
       "#sk-container-id-1 div.sk-estimator input.sk-toggleable__control:checked~label.sk-toggleable__label {\n",
       "  /* unfitted */\n",
       "  background-color: var(--sklearn-color-unfitted-level-2);\n",
       "}\n",
       "\n",
       "#sk-container-id-1 div.sk-estimator.fitted input.sk-toggleable__control:checked~label.sk-toggleable__label {\n",
       "  /* fitted */\n",
       "  background-color: var(--sklearn-color-fitted-level-2);\n",
       "}\n",
       "\n",
       "#sk-container-id-1 div.sk-label label.sk-toggleable__label,\n",
       "#sk-container-id-1 div.sk-label label {\n",
       "  /* The background is the default theme color */\n",
       "  color: var(--sklearn-color-text-on-default-background);\n",
       "}\n",
       "\n",
       "/* On hover, darken the color of the background */\n",
       "#sk-container-id-1 div.sk-label:hover label.sk-toggleable__label {\n",
       "  color: var(--sklearn-color-text);\n",
       "  background-color: var(--sklearn-color-unfitted-level-2);\n",
       "}\n",
       "\n",
       "/* Label box, darken color on hover, fitted */\n",
       "#sk-container-id-1 div.sk-label.fitted:hover label.sk-toggleable__label.fitted {\n",
       "  color: var(--sklearn-color-text);\n",
       "  background-color: var(--sklearn-color-fitted-level-2);\n",
       "}\n",
       "\n",
       "/* Estimator label */\n",
       "\n",
       "#sk-container-id-1 div.sk-label label {\n",
       "  font-family: monospace;\n",
       "  font-weight: bold;\n",
       "  display: inline-block;\n",
       "  line-height: 1.2em;\n",
       "}\n",
       "\n",
       "#sk-container-id-1 div.sk-label-container {\n",
       "  text-align: center;\n",
       "}\n",
       "\n",
       "/* Estimator-specific */\n",
       "#sk-container-id-1 div.sk-estimator {\n",
       "  font-family: monospace;\n",
       "  border: 1px dotted var(--sklearn-color-border-box);\n",
       "  border-radius: 0.25em;\n",
       "  box-sizing: border-box;\n",
       "  margin-bottom: 0.5em;\n",
       "  /* unfitted */\n",
       "  background-color: var(--sklearn-color-unfitted-level-0);\n",
       "}\n",
       "\n",
       "#sk-container-id-1 div.sk-estimator.fitted {\n",
       "  /* fitted */\n",
       "  background-color: var(--sklearn-color-fitted-level-0);\n",
       "}\n",
       "\n",
       "/* on hover */\n",
       "#sk-container-id-1 div.sk-estimator:hover {\n",
       "  /* unfitted */\n",
       "  background-color: var(--sklearn-color-unfitted-level-2);\n",
       "}\n",
       "\n",
       "#sk-container-id-1 div.sk-estimator.fitted:hover {\n",
       "  /* fitted */\n",
       "  background-color: var(--sklearn-color-fitted-level-2);\n",
       "}\n",
       "\n",
       "/* Specification for estimator info (e.g. \"i\" and \"?\") */\n",
       "\n",
       "/* Common style for \"i\" and \"?\" */\n",
       "\n",
       ".sk-estimator-doc-link,\n",
       "a:link.sk-estimator-doc-link,\n",
       "a:visited.sk-estimator-doc-link {\n",
       "  float: right;\n",
       "  font-size: smaller;\n",
       "  line-height: 1em;\n",
       "  font-family: monospace;\n",
       "  background-color: var(--sklearn-color-background);\n",
       "  border-radius: 1em;\n",
       "  height: 1em;\n",
       "  width: 1em;\n",
       "  text-decoration: none !important;\n",
       "  margin-left: 0.5em;\n",
       "  text-align: center;\n",
       "  /* unfitted */\n",
       "  border: var(--sklearn-color-unfitted-level-1) 1pt solid;\n",
       "  color: var(--sklearn-color-unfitted-level-1);\n",
       "}\n",
       "\n",
       ".sk-estimator-doc-link.fitted,\n",
       "a:link.sk-estimator-doc-link.fitted,\n",
       "a:visited.sk-estimator-doc-link.fitted {\n",
       "  /* fitted */\n",
       "  border: var(--sklearn-color-fitted-level-1) 1pt solid;\n",
       "  color: var(--sklearn-color-fitted-level-1);\n",
       "}\n",
       "\n",
       "/* On hover */\n",
       "div.sk-estimator:hover .sk-estimator-doc-link:hover,\n",
       ".sk-estimator-doc-link:hover,\n",
       "div.sk-label-container:hover .sk-estimator-doc-link:hover,\n",
       ".sk-estimator-doc-link:hover {\n",
       "  /* unfitted */\n",
       "  background-color: var(--sklearn-color-unfitted-level-3);\n",
       "  color: var(--sklearn-color-background);\n",
       "  text-decoration: none;\n",
       "}\n",
       "\n",
       "div.sk-estimator.fitted:hover .sk-estimator-doc-link.fitted:hover,\n",
       ".sk-estimator-doc-link.fitted:hover,\n",
       "div.sk-label-container:hover .sk-estimator-doc-link.fitted:hover,\n",
       ".sk-estimator-doc-link.fitted:hover {\n",
       "  /* fitted */\n",
       "  background-color: var(--sklearn-color-fitted-level-3);\n",
       "  color: var(--sklearn-color-background);\n",
       "  text-decoration: none;\n",
       "}\n",
       "\n",
       "/* Span, style for the box shown on hovering the info icon */\n",
       ".sk-estimator-doc-link span {\n",
       "  display: none;\n",
       "  z-index: 9999;\n",
       "  position: relative;\n",
       "  font-weight: normal;\n",
       "  right: .2ex;\n",
       "  padding: .5ex;\n",
       "  margin: .5ex;\n",
       "  width: min-content;\n",
       "  min-width: 20ex;\n",
       "  max-width: 50ex;\n",
       "  color: var(--sklearn-color-text);\n",
       "  box-shadow: 2pt 2pt 4pt #999;\n",
       "  /* unfitted */\n",
       "  background: var(--sklearn-color-unfitted-level-0);\n",
       "  border: .5pt solid var(--sklearn-color-unfitted-level-3);\n",
       "}\n",
       "\n",
       ".sk-estimator-doc-link.fitted span {\n",
       "  /* fitted */\n",
       "  background: var(--sklearn-color-fitted-level-0);\n",
       "  border: var(--sklearn-color-fitted-level-3);\n",
       "}\n",
       "\n",
       ".sk-estimator-doc-link:hover span {\n",
       "  display: block;\n",
       "}\n",
       "\n",
       "/* \"?\"-specific style due to the `<a>` HTML tag */\n",
       "\n",
       "#sk-container-id-1 a.estimator_doc_link {\n",
       "  float: right;\n",
       "  font-size: 1rem;\n",
       "  line-height: 1em;\n",
       "  font-family: monospace;\n",
       "  background-color: var(--sklearn-color-background);\n",
       "  border-radius: 1rem;\n",
       "  height: 1rem;\n",
       "  width: 1rem;\n",
       "  text-decoration: none;\n",
       "  /* unfitted */\n",
       "  color: var(--sklearn-color-unfitted-level-1);\n",
       "  border: var(--sklearn-color-unfitted-level-1) 1pt solid;\n",
       "}\n",
       "\n",
       "#sk-container-id-1 a.estimator_doc_link.fitted {\n",
       "  /* fitted */\n",
       "  border: var(--sklearn-color-fitted-level-1) 1pt solid;\n",
       "  color: var(--sklearn-color-fitted-level-1);\n",
       "}\n",
       "\n",
       "/* On hover */\n",
       "#sk-container-id-1 a.estimator_doc_link:hover {\n",
       "  /* unfitted */\n",
       "  background-color: var(--sklearn-color-unfitted-level-3);\n",
       "  color: var(--sklearn-color-background);\n",
       "  text-decoration: none;\n",
       "}\n",
       "\n",
       "#sk-container-id-1 a.estimator_doc_link.fitted:hover {\n",
       "  /* fitted */\n",
       "  background-color: var(--sklearn-color-fitted-level-3);\n",
       "}\n",
       "</style><div id=\"sk-container-id-1\" class=\"sk-top-container\"><div class=\"sk-text-repr-fallback\"><pre>LogisticRegression(random_state=123)</pre><b>In a Jupyter environment, please rerun this cell to show the HTML representation or trust the notebook. <br />On GitHub, the HTML representation is unable to render, please try loading this page with nbviewer.org.</b></div><div class=\"sk-container\" hidden><div class=\"sk-item\"><div class=\"sk-estimator fitted sk-toggleable\"><input class=\"sk-toggleable__control sk-hidden--visually\" id=\"sk-estimator-id-1\" type=\"checkbox\" checked><label for=\"sk-estimator-id-1\" class=\"sk-toggleable__label fitted sk-toggleable__label-arrow\"><div><div>LogisticRegression</div></div><div><a class=\"sk-estimator-doc-link fitted\" rel=\"noreferrer\" target=\"_blank\" href=\"https://scikit-learn.org/1.6/modules/generated/sklearn.linear_model.LogisticRegression.html\">?<span>Documentation for LogisticRegression</span></a><span class=\"sk-estimator-doc-link fitted\">i<span>Fitted</span></span></div></label><div class=\"sk-toggleable__content fitted\"><pre>LogisticRegression(random_state=123)</pre></div> </div></div></div></div>"
      ],
      "text/plain": [
       "LogisticRegression(random_state=123)"
      ]
     },
     "execution_count": 64,
     "metadata": {},
     "output_type": "execute_result"
    }
   ],
   "source": [
    "# model logistic regression\n",
    "loreg = LogisticRegression(random_state= 123)\n",
    "loreg.fit(x_train_clean, y_train)"
   ]
  },
  {
   "cell_type": "code",
   "execution_count": 65,
   "id": "abb74c07",
   "metadata": {},
   "outputs": [
    {
     "data": {
      "text/html": [
       "<style>#sk-container-id-2 {\n",
       "  /* Definition of color scheme common for light and dark mode */\n",
       "  --sklearn-color-text: #000;\n",
       "  --sklearn-color-text-muted: #666;\n",
       "  --sklearn-color-line: gray;\n",
       "  /* Definition of color scheme for unfitted estimators */\n",
       "  --sklearn-color-unfitted-level-0: #fff5e6;\n",
       "  --sklearn-color-unfitted-level-1: #f6e4d2;\n",
       "  --sklearn-color-unfitted-level-2: #ffe0b3;\n",
       "  --sklearn-color-unfitted-level-3: chocolate;\n",
       "  /* Definition of color scheme for fitted estimators */\n",
       "  --sklearn-color-fitted-level-0: #f0f8ff;\n",
       "  --sklearn-color-fitted-level-1: #d4ebff;\n",
       "  --sklearn-color-fitted-level-2: #b3dbfd;\n",
       "  --sklearn-color-fitted-level-3: cornflowerblue;\n",
       "\n",
       "  /* Specific color for light theme */\n",
       "  --sklearn-color-text-on-default-background: var(--sg-text-color, var(--theme-code-foreground, var(--jp-content-font-color1, black)));\n",
       "  --sklearn-color-background: var(--sg-background-color, var(--theme-background, var(--jp-layout-color0, white)));\n",
       "  --sklearn-color-border-box: var(--sg-text-color, var(--theme-code-foreground, var(--jp-content-font-color1, black)));\n",
       "  --sklearn-color-icon: #696969;\n",
       "\n",
       "  @media (prefers-color-scheme: dark) {\n",
       "    /* Redefinition of color scheme for dark theme */\n",
       "    --sklearn-color-text-on-default-background: var(--sg-text-color, var(--theme-code-foreground, var(--jp-content-font-color1, white)));\n",
       "    --sklearn-color-background: var(--sg-background-color, var(--theme-background, var(--jp-layout-color0, #111)));\n",
       "    --sklearn-color-border-box: var(--sg-text-color, var(--theme-code-foreground, var(--jp-content-font-color1, white)));\n",
       "    --sklearn-color-icon: #878787;\n",
       "  }\n",
       "}\n",
       "\n",
       "#sk-container-id-2 {\n",
       "  color: var(--sklearn-color-text);\n",
       "}\n",
       "\n",
       "#sk-container-id-2 pre {\n",
       "  padding: 0;\n",
       "}\n",
       "\n",
       "#sk-container-id-2 input.sk-hidden--visually {\n",
       "  border: 0;\n",
       "  clip: rect(1px 1px 1px 1px);\n",
       "  clip: rect(1px, 1px, 1px, 1px);\n",
       "  height: 1px;\n",
       "  margin: -1px;\n",
       "  overflow: hidden;\n",
       "  padding: 0;\n",
       "  position: absolute;\n",
       "  width: 1px;\n",
       "}\n",
       "\n",
       "#sk-container-id-2 div.sk-dashed-wrapped {\n",
       "  border: 1px dashed var(--sklearn-color-line);\n",
       "  margin: 0 0.4em 0.5em 0.4em;\n",
       "  box-sizing: border-box;\n",
       "  padding-bottom: 0.4em;\n",
       "  background-color: var(--sklearn-color-background);\n",
       "}\n",
       "\n",
       "#sk-container-id-2 div.sk-container {\n",
       "  /* jupyter's `normalize.less` sets `[hidden] { display: none; }`\n",
       "     but bootstrap.min.css set `[hidden] { display: none !important; }`\n",
       "     so we also need the `!important` here to be able to override the\n",
       "     default hidden behavior on the sphinx rendered scikit-learn.org.\n",
       "     See: https://github.com/scikit-learn/scikit-learn/issues/21755 */\n",
       "  display: inline-block !important;\n",
       "  position: relative;\n",
       "}\n",
       "\n",
       "#sk-container-id-2 div.sk-text-repr-fallback {\n",
       "  display: none;\n",
       "}\n",
       "\n",
       "div.sk-parallel-item,\n",
       "div.sk-serial,\n",
       "div.sk-item {\n",
       "  /* draw centered vertical line to link estimators */\n",
       "  background-image: linear-gradient(var(--sklearn-color-text-on-default-background), var(--sklearn-color-text-on-default-background));\n",
       "  background-size: 2px 100%;\n",
       "  background-repeat: no-repeat;\n",
       "  background-position: center center;\n",
       "}\n",
       "\n",
       "/* Parallel-specific style estimator block */\n",
       "\n",
       "#sk-container-id-2 div.sk-parallel-item::after {\n",
       "  content: \"\";\n",
       "  width: 100%;\n",
       "  border-bottom: 2px solid var(--sklearn-color-text-on-default-background);\n",
       "  flex-grow: 1;\n",
       "}\n",
       "\n",
       "#sk-container-id-2 div.sk-parallel {\n",
       "  display: flex;\n",
       "  align-items: stretch;\n",
       "  justify-content: center;\n",
       "  background-color: var(--sklearn-color-background);\n",
       "  position: relative;\n",
       "}\n",
       "\n",
       "#sk-container-id-2 div.sk-parallel-item {\n",
       "  display: flex;\n",
       "  flex-direction: column;\n",
       "}\n",
       "\n",
       "#sk-container-id-2 div.sk-parallel-item:first-child::after {\n",
       "  align-self: flex-end;\n",
       "  width: 50%;\n",
       "}\n",
       "\n",
       "#sk-container-id-2 div.sk-parallel-item:last-child::after {\n",
       "  align-self: flex-start;\n",
       "  width: 50%;\n",
       "}\n",
       "\n",
       "#sk-container-id-2 div.sk-parallel-item:only-child::after {\n",
       "  width: 0;\n",
       "}\n",
       "\n",
       "/* Serial-specific style estimator block */\n",
       "\n",
       "#sk-container-id-2 div.sk-serial {\n",
       "  display: flex;\n",
       "  flex-direction: column;\n",
       "  align-items: center;\n",
       "  background-color: var(--sklearn-color-background);\n",
       "  padding-right: 1em;\n",
       "  padding-left: 1em;\n",
       "}\n",
       "\n",
       "\n",
       "/* Toggleable style: style used for estimator/Pipeline/ColumnTransformer box that is\n",
       "clickable and can be expanded/collapsed.\n",
       "- Pipeline and ColumnTransformer use this feature and define the default style\n",
       "- Estimators will overwrite some part of the style using the `sk-estimator` class\n",
       "*/\n",
       "\n",
       "/* Pipeline and ColumnTransformer style (default) */\n",
       "\n",
       "#sk-container-id-2 div.sk-toggleable {\n",
       "  /* Default theme specific background. It is overwritten whether we have a\n",
       "  specific estimator or a Pipeline/ColumnTransformer */\n",
       "  background-color: var(--sklearn-color-background);\n",
       "}\n",
       "\n",
       "/* Toggleable label */\n",
       "#sk-container-id-2 label.sk-toggleable__label {\n",
       "  cursor: pointer;\n",
       "  display: flex;\n",
       "  width: 100%;\n",
       "  margin-bottom: 0;\n",
       "  padding: 0.5em;\n",
       "  box-sizing: border-box;\n",
       "  text-align: center;\n",
       "  align-items: start;\n",
       "  justify-content: space-between;\n",
       "  gap: 0.5em;\n",
       "}\n",
       "\n",
       "#sk-container-id-2 label.sk-toggleable__label .caption {\n",
       "  font-size: 0.6rem;\n",
       "  font-weight: lighter;\n",
       "  color: var(--sklearn-color-text-muted);\n",
       "}\n",
       "\n",
       "#sk-container-id-2 label.sk-toggleable__label-arrow:before {\n",
       "  /* Arrow on the left of the label */\n",
       "  content: \"▸\";\n",
       "  float: left;\n",
       "  margin-right: 0.25em;\n",
       "  color: var(--sklearn-color-icon);\n",
       "}\n",
       "\n",
       "#sk-container-id-2 label.sk-toggleable__label-arrow:hover:before {\n",
       "  color: var(--sklearn-color-text);\n",
       "}\n",
       "\n",
       "/* Toggleable content - dropdown */\n",
       "\n",
       "#sk-container-id-2 div.sk-toggleable__content {\n",
       "  max-height: 0;\n",
       "  max-width: 0;\n",
       "  overflow: hidden;\n",
       "  text-align: left;\n",
       "  /* unfitted */\n",
       "  background-color: var(--sklearn-color-unfitted-level-0);\n",
       "}\n",
       "\n",
       "#sk-container-id-2 div.sk-toggleable__content.fitted {\n",
       "  /* fitted */\n",
       "  background-color: var(--sklearn-color-fitted-level-0);\n",
       "}\n",
       "\n",
       "#sk-container-id-2 div.sk-toggleable__content pre {\n",
       "  margin: 0.2em;\n",
       "  border-radius: 0.25em;\n",
       "  color: var(--sklearn-color-text);\n",
       "  /* unfitted */\n",
       "  background-color: var(--sklearn-color-unfitted-level-0);\n",
       "}\n",
       "\n",
       "#sk-container-id-2 div.sk-toggleable__content.fitted pre {\n",
       "  /* unfitted */\n",
       "  background-color: var(--sklearn-color-fitted-level-0);\n",
       "}\n",
       "\n",
       "#sk-container-id-2 input.sk-toggleable__control:checked~div.sk-toggleable__content {\n",
       "  /* Expand drop-down */\n",
       "  max-height: 200px;\n",
       "  max-width: 100%;\n",
       "  overflow: auto;\n",
       "}\n",
       "\n",
       "#sk-container-id-2 input.sk-toggleable__control:checked~label.sk-toggleable__label-arrow:before {\n",
       "  content: \"▾\";\n",
       "}\n",
       "\n",
       "/* Pipeline/ColumnTransformer-specific style */\n",
       "\n",
       "#sk-container-id-2 div.sk-label input.sk-toggleable__control:checked~label.sk-toggleable__label {\n",
       "  color: var(--sklearn-color-text);\n",
       "  background-color: var(--sklearn-color-unfitted-level-2);\n",
       "}\n",
       "\n",
       "#sk-container-id-2 div.sk-label.fitted input.sk-toggleable__control:checked~label.sk-toggleable__label {\n",
       "  background-color: var(--sklearn-color-fitted-level-2);\n",
       "}\n",
       "\n",
       "/* Estimator-specific style */\n",
       "\n",
       "/* Colorize estimator box */\n",
       "#sk-container-id-2 div.sk-estimator input.sk-toggleable__control:checked~label.sk-toggleable__label {\n",
       "  /* unfitted */\n",
       "  background-color: var(--sklearn-color-unfitted-level-2);\n",
       "}\n",
       "\n",
       "#sk-container-id-2 div.sk-estimator.fitted input.sk-toggleable__control:checked~label.sk-toggleable__label {\n",
       "  /* fitted */\n",
       "  background-color: var(--sklearn-color-fitted-level-2);\n",
       "}\n",
       "\n",
       "#sk-container-id-2 div.sk-label label.sk-toggleable__label,\n",
       "#sk-container-id-2 div.sk-label label {\n",
       "  /* The background is the default theme color */\n",
       "  color: var(--sklearn-color-text-on-default-background);\n",
       "}\n",
       "\n",
       "/* On hover, darken the color of the background */\n",
       "#sk-container-id-2 div.sk-label:hover label.sk-toggleable__label {\n",
       "  color: var(--sklearn-color-text);\n",
       "  background-color: var(--sklearn-color-unfitted-level-2);\n",
       "}\n",
       "\n",
       "/* Label box, darken color on hover, fitted */\n",
       "#sk-container-id-2 div.sk-label.fitted:hover label.sk-toggleable__label.fitted {\n",
       "  color: var(--sklearn-color-text);\n",
       "  background-color: var(--sklearn-color-fitted-level-2);\n",
       "}\n",
       "\n",
       "/* Estimator label */\n",
       "\n",
       "#sk-container-id-2 div.sk-label label {\n",
       "  font-family: monospace;\n",
       "  font-weight: bold;\n",
       "  display: inline-block;\n",
       "  line-height: 1.2em;\n",
       "}\n",
       "\n",
       "#sk-container-id-2 div.sk-label-container {\n",
       "  text-align: center;\n",
       "}\n",
       "\n",
       "/* Estimator-specific */\n",
       "#sk-container-id-2 div.sk-estimator {\n",
       "  font-family: monospace;\n",
       "  border: 1px dotted var(--sklearn-color-border-box);\n",
       "  border-radius: 0.25em;\n",
       "  box-sizing: border-box;\n",
       "  margin-bottom: 0.5em;\n",
       "  /* unfitted */\n",
       "  background-color: var(--sklearn-color-unfitted-level-0);\n",
       "}\n",
       "\n",
       "#sk-container-id-2 div.sk-estimator.fitted {\n",
       "  /* fitted */\n",
       "  background-color: var(--sklearn-color-fitted-level-0);\n",
       "}\n",
       "\n",
       "/* on hover */\n",
       "#sk-container-id-2 div.sk-estimator:hover {\n",
       "  /* unfitted */\n",
       "  background-color: var(--sklearn-color-unfitted-level-2);\n",
       "}\n",
       "\n",
       "#sk-container-id-2 div.sk-estimator.fitted:hover {\n",
       "  /* fitted */\n",
       "  background-color: var(--sklearn-color-fitted-level-2);\n",
       "}\n",
       "\n",
       "/* Specification for estimator info (e.g. \"i\" and \"?\") */\n",
       "\n",
       "/* Common style for \"i\" and \"?\" */\n",
       "\n",
       ".sk-estimator-doc-link,\n",
       "a:link.sk-estimator-doc-link,\n",
       "a:visited.sk-estimator-doc-link {\n",
       "  float: right;\n",
       "  font-size: smaller;\n",
       "  line-height: 1em;\n",
       "  font-family: monospace;\n",
       "  background-color: var(--sklearn-color-background);\n",
       "  border-radius: 1em;\n",
       "  height: 1em;\n",
       "  width: 1em;\n",
       "  text-decoration: none !important;\n",
       "  margin-left: 0.5em;\n",
       "  text-align: center;\n",
       "  /* unfitted */\n",
       "  border: var(--sklearn-color-unfitted-level-1) 1pt solid;\n",
       "  color: var(--sklearn-color-unfitted-level-1);\n",
       "}\n",
       "\n",
       ".sk-estimator-doc-link.fitted,\n",
       "a:link.sk-estimator-doc-link.fitted,\n",
       "a:visited.sk-estimator-doc-link.fitted {\n",
       "  /* fitted */\n",
       "  border: var(--sklearn-color-fitted-level-1) 1pt solid;\n",
       "  color: var(--sklearn-color-fitted-level-1);\n",
       "}\n",
       "\n",
       "/* On hover */\n",
       "div.sk-estimator:hover .sk-estimator-doc-link:hover,\n",
       ".sk-estimator-doc-link:hover,\n",
       "div.sk-label-container:hover .sk-estimator-doc-link:hover,\n",
       ".sk-estimator-doc-link:hover {\n",
       "  /* unfitted */\n",
       "  background-color: var(--sklearn-color-unfitted-level-3);\n",
       "  color: var(--sklearn-color-background);\n",
       "  text-decoration: none;\n",
       "}\n",
       "\n",
       "div.sk-estimator.fitted:hover .sk-estimator-doc-link.fitted:hover,\n",
       ".sk-estimator-doc-link.fitted:hover,\n",
       "div.sk-label-container:hover .sk-estimator-doc-link.fitted:hover,\n",
       ".sk-estimator-doc-link.fitted:hover {\n",
       "  /* fitted */\n",
       "  background-color: var(--sklearn-color-fitted-level-3);\n",
       "  color: var(--sklearn-color-background);\n",
       "  text-decoration: none;\n",
       "}\n",
       "\n",
       "/* Span, style for the box shown on hovering the info icon */\n",
       ".sk-estimator-doc-link span {\n",
       "  display: none;\n",
       "  z-index: 9999;\n",
       "  position: relative;\n",
       "  font-weight: normal;\n",
       "  right: .2ex;\n",
       "  padding: .5ex;\n",
       "  margin: .5ex;\n",
       "  width: min-content;\n",
       "  min-width: 20ex;\n",
       "  max-width: 50ex;\n",
       "  color: var(--sklearn-color-text);\n",
       "  box-shadow: 2pt 2pt 4pt #999;\n",
       "  /* unfitted */\n",
       "  background: var(--sklearn-color-unfitted-level-0);\n",
       "  border: .5pt solid var(--sklearn-color-unfitted-level-3);\n",
       "}\n",
       "\n",
       ".sk-estimator-doc-link.fitted span {\n",
       "  /* fitted */\n",
       "  background: var(--sklearn-color-fitted-level-0);\n",
       "  border: var(--sklearn-color-fitted-level-3);\n",
       "}\n",
       "\n",
       ".sk-estimator-doc-link:hover span {\n",
       "  display: block;\n",
       "}\n",
       "\n",
       "/* \"?\"-specific style due to the `<a>` HTML tag */\n",
       "\n",
       "#sk-container-id-2 a.estimator_doc_link {\n",
       "  float: right;\n",
       "  font-size: 1rem;\n",
       "  line-height: 1em;\n",
       "  font-family: monospace;\n",
       "  background-color: var(--sklearn-color-background);\n",
       "  border-radius: 1rem;\n",
       "  height: 1rem;\n",
       "  width: 1rem;\n",
       "  text-decoration: none;\n",
       "  /* unfitted */\n",
       "  color: var(--sklearn-color-unfitted-level-1);\n",
       "  border: var(--sklearn-color-unfitted-level-1) 1pt solid;\n",
       "}\n",
       "\n",
       "#sk-container-id-2 a.estimator_doc_link.fitted {\n",
       "  /* fitted */\n",
       "  border: var(--sklearn-color-fitted-level-1) 1pt solid;\n",
       "  color: var(--sklearn-color-fitted-level-1);\n",
       "}\n",
       "\n",
       "/* On hover */\n",
       "#sk-container-id-2 a.estimator_doc_link:hover {\n",
       "  /* unfitted */\n",
       "  background-color: var(--sklearn-color-unfitted-level-3);\n",
       "  color: var(--sklearn-color-background);\n",
       "  text-decoration: none;\n",
       "}\n",
       "\n",
       "#sk-container-id-2 a.estimator_doc_link.fitted:hover {\n",
       "  /* fitted */\n",
       "  background-color: var(--sklearn-color-fitted-level-3);\n",
       "}\n",
       "</style><div id=\"sk-container-id-2\" class=\"sk-top-container\"><div class=\"sk-text-repr-fallback\"><pre>RandomForestClassifier(random_state=123)</pre><b>In a Jupyter environment, please rerun this cell to show the HTML representation or trust the notebook. <br />On GitHub, the HTML representation is unable to render, please try loading this page with nbviewer.org.</b></div><div class=\"sk-container\" hidden><div class=\"sk-item\"><div class=\"sk-estimator fitted sk-toggleable\"><input class=\"sk-toggleable__control sk-hidden--visually\" id=\"sk-estimator-id-2\" type=\"checkbox\" checked><label for=\"sk-estimator-id-2\" class=\"sk-toggleable__label fitted sk-toggleable__label-arrow\"><div><div>RandomForestClassifier</div></div><div><a class=\"sk-estimator-doc-link fitted\" rel=\"noreferrer\" target=\"_blank\" href=\"https://scikit-learn.org/1.6/modules/generated/sklearn.ensemble.RandomForestClassifier.html\">?<span>Documentation for RandomForestClassifier</span></a><span class=\"sk-estimator-doc-link fitted\">i<span>Fitted</span></span></div></label><div class=\"sk-toggleable__content fitted\"><pre>RandomForestClassifier(random_state=123)</pre></div> </div></div></div></div>"
      ],
      "text/plain": [
       "RandomForestClassifier(random_state=123)"
      ]
     },
     "execution_count": 65,
     "metadata": {},
     "output_type": "execute_result"
    }
   ],
   "source": [
    "random_forest = RandomForestClassifier(random_state= 123)\n",
    "random_forest.fit(x_train_clean, y_train)"
   ]
  },
  {
   "cell_type": "code",
   "execution_count": 66,
   "id": "bdbbd193",
   "metadata": {},
   "outputs": [],
   "source": [
    "# Model Random Forest Classifier 1\n",
    "# Mari kita ubah hyperparameter dari random forest --> n_estimator\n",
    "# Maksud & tujuan akan dijelaskan pada kelas Random Forest\n",
    "# Tambahkan n_estimator = 500\n",
    "\n",
    "#random_forest_1 = RandomForestClassifier(random_state = 123,\n",
    "#                                         n_estimators = 500)\n",
    "#random_forest_1.fit(X_train_clean, y_train)"
   ]
  },
  {
   "cell_type": "markdown",
   "id": "a74218a7",
   "metadata": {},
   "source": [
    "### **3. Prediction**\n",
    "\n",
    "- Saatnya melakukan prediksi"
   ]
  },
  {
   "cell_type": "code",
   "execution_count": 67,
   "id": "2e710b9d",
   "metadata": {},
   "outputs": [
    {
     "data": {
      "text/plain": [
       "array(['no', 'no', 'no', ..., 'no', 'no', 'yes'],\n",
       "      shape=(33908,), dtype=object)"
      ]
     },
     "execution_count": 67,
     "metadata": {},
     "output_type": "execute_result"
    }
   ],
   "source": [
    "# prediksi Logistic Regression\n",
    "loreg.predict(x_train_clean)"
   ]
  },
  {
   "cell_type": "code",
   "execution_count": 68,
   "id": "881a1d40",
   "metadata": {},
   "outputs": [
    {
     "data": {
      "application/vnd.microsoft.datawrangler.viewer.v0+json": {
       "columns": [
        {
         "name": "index",
         "rawType": "int64",
         "type": "integer"
        },
        {
         "name": "0",
         "rawType": "object",
         "type": "string"
        }
       ],
       "ref": "8a801d2e-e45b-4dc4-8dd2-e271612e1bdf",
       "rows": [
        [
         "0",
         "no"
        ],
        [
         "1",
         "no"
        ],
        [
         "2",
         "no"
        ],
        [
         "3",
         "no"
        ],
        [
         "4",
         "no"
        ],
        [
         "5",
         "no"
        ],
        [
         "6",
         "no"
        ],
        [
         "7",
         "no"
        ],
        [
         "8",
         "no"
        ],
        [
         "9",
         "no"
        ],
        [
         "10",
         "no"
        ],
        [
         "11",
         "no"
        ],
        [
         "12",
         "no"
        ],
        [
         "13",
         "no"
        ],
        [
         "14",
         "no"
        ],
        [
         "15",
         "no"
        ],
        [
         "16",
         "no"
        ],
        [
         "17",
         "no"
        ],
        [
         "18",
         "no"
        ],
        [
         "19",
         "no"
        ],
        [
         "20",
         "no"
        ],
        [
         "21",
         "no"
        ],
        [
         "22",
         "no"
        ],
        [
         "23",
         "no"
        ],
        [
         "24",
         "no"
        ],
        [
         "25",
         "no"
        ],
        [
         "26",
         "no"
        ],
        [
         "27",
         "no"
        ],
        [
         "28",
         "no"
        ],
        [
         "29",
         "no"
        ],
        [
         "30",
         "no"
        ],
        [
         "31",
         "no"
        ],
        [
         "32",
         "no"
        ],
        [
         "33",
         "no"
        ],
        [
         "34",
         "no"
        ],
        [
         "35",
         "no"
        ],
        [
         "36",
         "no"
        ],
        [
         "37",
         "no"
        ],
        [
         "38",
         "no"
        ],
        [
         "39",
         "no"
        ],
        [
         "40",
         "no"
        ],
        [
         "41",
         "no"
        ],
        [
         "42",
         "no"
        ],
        [
         "43",
         "no"
        ],
        [
         "44",
         "no"
        ],
        [
         "45",
         "no"
        ],
        [
         "46",
         "no"
        ],
        [
         "47",
         "no"
        ],
        [
         "48",
         "no"
        ],
        [
         "49",
         "no"
        ]
       ],
       "shape": {
        "columns": 1,
        "rows": 33908
       }
      },
      "text/html": [
       "<div>\n",
       "<style scoped>\n",
       "    .dataframe tbody tr th:only-of-type {\n",
       "        vertical-align: middle;\n",
       "    }\n",
       "\n",
       "    .dataframe tbody tr th {\n",
       "        vertical-align: top;\n",
       "    }\n",
       "\n",
       "    .dataframe thead th {\n",
       "        text-align: right;\n",
       "    }\n",
       "</style>\n",
       "<table border=\"1\" class=\"dataframe\">\n",
       "  <thead>\n",
       "    <tr style=\"text-align: right;\">\n",
       "      <th></th>\n",
       "      <th>0</th>\n",
       "    </tr>\n",
       "  </thead>\n",
       "  <tbody>\n",
       "    <tr>\n",
       "      <th>0</th>\n",
       "      <td>no</td>\n",
       "    </tr>\n",
       "    <tr>\n",
       "      <th>1</th>\n",
       "      <td>no</td>\n",
       "    </tr>\n",
       "    <tr>\n",
       "      <th>2</th>\n",
       "      <td>no</td>\n",
       "    </tr>\n",
       "    <tr>\n",
       "      <th>3</th>\n",
       "      <td>no</td>\n",
       "    </tr>\n",
       "    <tr>\n",
       "      <th>4</th>\n",
       "      <td>no</td>\n",
       "    </tr>\n",
       "    <tr>\n",
       "      <th>...</th>\n",
       "      <td>...</td>\n",
       "    </tr>\n",
       "    <tr>\n",
       "      <th>33903</th>\n",
       "      <td>no</td>\n",
       "    </tr>\n",
       "    <tr>\n",
       "      <th>33904</th>\n",
       "      <td>no</td>\n",
       "    </tr>\n",
       "    <tr>\n",
       "      <th>33905</th>\n",
       "      <td>no</td>\n",
       "    </tr>\n",
       "    <tr>\n",
       "      <th>33906</th>\n",
       "      <td>no</td>\n",
       "    </tr>\n",
       "    <tr>\n",
       "      <th>33907</th>\n",
       "      <td>yes</td>\n",
       "    </tr>\n",
       "  </tbody>\n",
       "</table>\n",
       "<p>33908 rows × 1 columns</p>\n",
       "</div>"
      ],
      "text/plain": [
       "         0\n",
       "0       no\n",
       "1       no\n",
       "2       no\n",
       "3       no\n",
       "4       no\n",
       "...    ...\n",
       "33903   no\n",
       "33904   no\n",
       "33905   no\n",
       "33906   no\n",
       "33907  yes\n",
       "\n",
       "[33908 rows x 1 columns]"
      ]
     },
     "execution_count": 68,
     "metadata": {},
     "output_type": "execute_result"
    }
   ],
   "source": [
    "predicted_loreg = pd.DataFrame(loreg.predict(x_train_clean))\n",
    "predicted_loreg"
   ]
  },
  {
   "cell_type": "code",
   "execution_count": 69,
   "id": "b19b6b9c",
   "metadata": {},
   "outputs": [],
   "source": [
    "#predicted_knn = pd.DataFrame(knn.predict(X_train_clean))\n",
    "#predicted_knn.head()"
   ]
  },
  {
   "cell_type": "code",
   "execution_count": 70,
   "id": "22b5546b",
   "metadata": {},
   "outputs": [
    {
     "data": {
      "application/vnd.microsoft.datawrangler.viewer.v0+json": {
       "columns": [
        {
         "name": "index",
         "rawType": "int64",
         "type": "integer"
        },
        {
         "name": "0",
         "rawType": "object",
         "type": "string"
        }
       ],
       "ref": "e3021f49-178b-4818-958c-0f1105d45579",
       "rows": [
        [
         "0",
         "no"
        ],
        [
         "1",
         "no"
        ],
        [
         "2",
         "no"
        ],
        [
         "3",
         "no"
        ],
        [
         "4",
         "no"
        ]
       ],
       "shape": {
        "columns": 1,
        "rows": 5
       }
      },
      "text/html": [
       "<div>\n",
       "<style scoped>\n",
       "    .dataframe tbody tr th:only-of-type {\n",
       "        vertical-align: middle;\n",
       "    }\n",
       "\n",
       "    .dataframe tbody tr th {\n",
       "        vertical-align: top;\n",
       "    }\n",
       "\n",
       "    .dataframe thead th {\n",
       "        text-align: right;\n",
       "    }\n",
       "</style>\n",
       "<table border=\"1\" class=\"dataframe\">\n",
       "  <thead>\n",
       "    <tr style=\"text-align: right;\">\n",
       "      <th></th>\n",
       "      <th>0</th>\n",
       "    </tr>\n",
       "  </thead>\n",
       "  <tbody>\n",
       "    <tr>\n",
       "      <th>0</th>\n",
       "      <td>no</td>\n",
       "    </tr>\n",
       "    <tr>\n",
       "      <th>1</th>\n",
       "      <td>no</td>\n",
       "    </tr>\n",
       "    <tr>\n",
       "      <th>2</th>\n",
       "      <td>no</td>\n",
       "    </tr>\n",
       "    <tr>\n",
       "      <th>3</th>\n",
       "      <td>no</td>\n",
       "    </tr>\n",
       "    <tr>\n",
       "      <th>4</th>\n",
       "      <td>no</td>\n",
       "    </tr>\n",
       "  </tbody>\n",
       "</table>\n",
       "</div>"
      ],
      "text/plain": [
       "    0\n",
       "0  no\n",
       "1  no\n",
       "2  no\n",
       "3  no\n",
       "4  no"
      ]
     },
     "execution_count": 70,
     "metadata": {},
     "output_type": "execute_result"
    }
   ],
   "source": [
    "predicted_rf = pd.DataFrame(random_forest.predict(x_train_clean))\n",
    "predicted_rf.head()"
   ]
  },
  {
   "cell_type": "code",
   "execution_count": 71,
   "id": "60dabce0",
   "metadata": {},
   "outputs": [],
   "source": [
    "#predicted_rf_1 = pd.DataFrame(random_forest_1.predict(X_train_clean))\n",
    "#predicted_rf_1.head()"
   ]
  },
  {
   "cell_type": "markdown",
   "id": "545a2836",
   "metadata": {},
   "source": [
    "### **4. Cek performa model di data training**"
   ]
  },
  {
   "cell_type": "code",
   "execution_count": 72,
   "id": "625fdb85",
   "metadata": {},
   "outputs": [
    {
     "name": "stderr",
     "output_type": "stream",
     "text": [
      "C:\\Users\\ghatfan\\AppData\\Local\\Temp\\ipykernel_14976\\4089324966.py:1: FutureWarning: Series.__getitem__ treating keys as positions is deprecated. In a future version, integer keys will always be treated as labels (consistent with DataFrame behavior). To access a value by position, use `ser.iloc[pos]`\n",
      "  benchmark = y_train.value_counts(normalize=True)[0]\n"
     ]
    },
    {
     "data": {
      "text/plain": [
       "np.float64(0.8826235696590775)"
      ]
     },
     "execution_count": 72,
     "metadata": {},
     "output_type": "execute_result"
    }
   ],
   "source": [
    "benchmark = y_train.value_counts(normalize=True)[0]\n",
    "benchmark"
   ]
  },
  {
   "cell_type": "code",
   "execution_count": 73,
   "id": "ec427ce7",
   "metadata": {},
   "outputs": [],
   "source": [
    "# akurasi knn\n",
    "#knn.score(X_train_clean, y_train)"
   ]
  },
  {
   "cell_type": "code",
   "execution_count": 74,
   "id": "8b4b98dc",
   "metadata": {},
   "outputs": [
    {
     "data": {
      "text/plain": [
       "0.900554441429751"
      ]
     },
     "execution_count": 74,
     "metadata": {},
     "output_type": "execute_result"
    }
   ],
   "source": [
    "# akurasi Logistic regression\n",
    "loreg.score(x_train_clean, y_train)"
   ]
  },
  {
   "cell_type": "code",
   "execution_count": 75,
   "id": "24480dc4",
   "metadata": {},
   "outputs": [
    {
     "data": {
      "text/plain": [
       "1.0"
      ]
     },
     "execution_count": 75,
     "metadata": {},
     "output_type": "execute_result"
    }
   ],
   "source": [
    "# akurasi random forest\n",
    "random_forest.score(x_train_clean, y_train)"
   ]
  },
  {
   "cell_type": "code",
   "execution_count": 76,
   "id": "6f8d8637",
   "metadata": {},
   "outputs": [],
   "source": [
    "# akurasi random forest 1\n",
    "#random_forest_1.score(X_train_clean, y_train)"
   ]
  },
  {
   "cell_type": "markdown",
   "id": "becbcbbc",
   "metadata": {},
   "source": [
    "### **5. Simpan model ke file pickle**"
   ]
  },
  {
   "cell_type": "code",
   "execution_count": 77,
   "id": "69267649",
   "metadata": {},
   "outputs": [
    {
     "data": {
      "text/plain": [
       "['random_forest.pkl']"
      ]
     },
     "execution_count": 77,
     "metadata": {},
     "output_type": "execute_result"
    }
   ],
   "source": [
    "import joblib\n",
    "\n",
    "# simpan model loreg ke dalam folder yang sama dengan notebook\n",
    "# dengan nama loreg.pki\n",
    "joblib.dump(loreg, 'loreg.pkl')\n",
    "\n",
    "# joblib.dump(knn, \"knn.pkl\")\n",
    "joblib.dump(random_forest, \"random_forest.pkl\")\n",
    "# joblib.dump(random_forest_1, \"random_forest_1.pkl\")"
   ]
  },
  {
   "cell_type": "markdown",
   "id": "182d00b0",
   "metadata": {},
   "source": [
    "### **6. Test Prediction**\n",
    "\n",
    "1. Siapkan file test dataset\n",
    "2. Lakukan preprocessing yang sama dengan yang dilakukan di train dataset\n",
    "3. gunakan `imputer_numerical` dan `standardizer` yang telah di-fit di train dataset"
   ]
  },
  {
   "cell_type": "code",
   "execution_count": 78,
   "id": "85678f4f",
   "metadata": {},
   "outputs": [],
   "source": [
    "def extractTest(data, \n",
    "                numeric_columns, categorical_columns, ohe_columns, \n",
    "                imputer_numerical, standardizer):\n",
    " \"\"\"\n",
    "    Fungsi untuk mengekstrak & membersihkan test data \n",
    "    :param data: <pandas dataframe> sampel data test\n",
    "    :param numerical_column: <list> kolom numerik\n",
    "    :param categorical_column: <list> kolom kategorik\n",
    "    :param ohe_column: <list> kolom one-hot-encoding dari data kategorik\n",
    "    :param imputer_numerical: <sklearn method> imputer data numerik\n",
    "    :param standardizer: <sklearn method> standardizer data\n",
    "    :return cleaned_data: <pandas dataframe> data final\n",
    "    \"\"\"\n",
    "    # filter data\n",
    " numerical_data = data[numeric_columns]\n",
    " categorical_data = data[categorical_columns]\n",
    " \n",
    " # Proses data numerik\n",
    " numerical_data = pd.DataFrame(imputer_numerical.transform(numerical_data))\n",
    " numerical_data.columns = numeric_columns\n",
    " numerical_data.index = data.index\n",
    " \n",
    " # proses data kategorik \n",
    " categorical_data = categorical_data.fillna(value=\"KOSONG\")\n",
    " categorical_data.index = data.index\n",
    " categorical_data = pd.get_dummies(categorical_data)\n",
    " categorical_data.reindex(index = categorical_data.index, \n",
    "                          columns = ohe_columns)\n",
    " \n",
    " # Gabungkan data\n",
    " concat_data  = pd.concat([numerical_data, categorical_data],\n",
    "                          axis=1)\n",
    " cleaned_data = pd.DataFrame(standardizer.transform(concat_data))\n",
    " cleaned_data.columns = concat_data.columns\n",
    " \n",
    " return cleaned_data"
   ]
  },
  {
   "cell_type": "code",
   "execution_count": 79,
   "id": "769c2f9e",
   "metadata": {},
   "outputs": [],
   "source": [
    "def testPrediction(x_test, y_test, classifier, compute_score):\n",
    "    \"\"\"\n",
    "    Fungsi untuk mendapatkan prediksi dari model\n",
    "    :param X_test: <pandas dataframe> input\n",
    "    :param y_test: <pandas series> output/target\n",
    "    :param classifier: <sklearn method> model klasifikasi\n",
    "    :param compute_score: <bool> True: menampilkan score, False: tidak\n",
    "    :return test_predict: <list> hasil prediksi data input\n",
    "    :return score: <float> akurasi model\n",
    "    \"\"\"\n",
    "    if compute_score:\n",
    "        score = classifier.score(x_test, y_test)\n",
    "        print(f\"Accuracy : {score:.4f}\")\n",
    "\n",
    "    test_predict = classifier.predict(x_test)\n",
    "\n",
    "    return test_predict, score"
   ]
  },
  {
   "cell_type": "code",
   "execution_count": 80,
   "id": "f4bca5cb",
   "metadata": {},
   "outputs": [],
   "source": [
    "x_test_clean = extractTest(data = x_test,\n",
    "                           numeric_columns = numeric_columns,\n",
    "                           categorical_columns = categorical_columns,\n",
    "                           ohe_columns = ohe_columns,\n",
    "                           imputer_numerical = imputer_numerical,\n",
    "                           standardizer = standardizer)"
   ]
  },
  {
   "cell_type": "code",
   "execution_count": 81,
   "id": "7ef1e9ae",
   "metadata": {},
   "outputs": [
    {
     "data": {
      "text/plain": [
       "(11303, 60)"
      ]
     },
     "execution_count": 81,
     "metadata": {},
     "output_type": "execute_result"
    }
   ],
   "source": [
    "x_test_clean.shape"
   ]
  },
  {
   "cell_type": "code",
   "execution_count": 82,
   "id": "a5bb1093",
   "metadata": {},
   "outputs": [
    {
     "name": "stdout",
     "output_type": "stream",
     "text": [
      "Accuracy : 0.9010\n"
     ]
    }
   ],
   "source": [
    "loreg_test_predict, score = testPrediction(x_test= x_test_clean,\n",
    "                                           y_test= y_test,\n",
    "                                           classifier= loreg, \n",
    "                                           compute_score= True)"
   ]
  },
  {
   "cell_type": "code",
   "execution_count": null,
   "id": "209c74e5",
   "metadata": {},
   "outputs": [
    {
     "ename": "NameError",
     "evalue": "name 'X_test_clean' is not defined",
     "output_type": "error",
     "traceback": [
      "\u001b[31m---------------------------------------------------------------------------\u001b[39m",
      "\u001b[31mNameError\u001b[39m                                 Traceback (most recent call last)",
      "\u001b[36mCell\u001b[39m\u001b[36m \u001b[39m\u001b[32mIn[83]\u001b[39m\u001b[32m, line 2\u001b[39m\n\u001b[32m      1\u001b[39m \u001b[38;5;66;03m#K nearest neighbor Performance\u001b[39;00m\n\u001b[32m----> \u001b[39m\u001b[32m2\u001b[39m knn_test_predict, score = testPrediction(X_test = \u001b[43mX_test_clean\u001b[49m,\n\u001b[32m      3\u001b[39m                                          y_test = y_test,\n\u001b[32m      4\u001b[39m                                         classifier = knn,\n\u001b[32m      5\u001b[39m                                          compute_score = \u001b[38;5;28;01mTrue\u001b[39;00m)\n",
      "\u001b[31mNameError\u001b[39m: name 'X_test_clean' is not defined"
     ]
    }
   ],
   "source": [
    "#K nearest neighbor Performance\n",
    "#knn_test_predict, score = testPrediction(X_test = X_test_clean,\n",
    "#                                         y_test = y_test,\n",
    "#                                        classifier = knn,\n",
    "#                                         compute_score = True)"
   ]
  },
  {
   "cell_type": "code",
   "execution_count": null,
   "id": "1e913331",
   "metadata": {},
   "outputs": [
    {
     "name": "stdout",
     "output_type": "stream",
     "text": [
      "Accuracy : 0.8994\n"
     ]
    }
   ],
   "source": [
    "rf_test_predict, score = testPrediction(x_test= x_test_clean, \n",
    "                                        y_test= y_test,\n",
    "                                        classifier= random_forest, \n",
    "                                        compute_score= True)"
   ]
  },
  {
   "cell_type": "code",
   "execution_count": null,
   "id": "dd21f63e",
   "metadata": {},
   "outputs": [],
   "source": [
    "# Random Forest 1 Performance\n",
    "rf_1_test_predict, score = testPrediction(X_test = X_test_clean,\n",
    "                                       y_test = y_test,\n",
    "                                       classifier = random_forest_1,\n",
    "                                      compute_score = True)  "
   ]
  }
 ],
 "metadata": {
  "kernelspec": {
   "display_name": "Python 3",
   "language": "python",
   "name": "python3"
  },
  "language_info": {
   "codemirror_mode": {
    "name": "ipython",
    "version": 3
   },
   "file_extension": ".py",
   "mimetype": "text/x-python",
   "name": "python",
   "nbconvert_exporter": "python",
   "pygments_lexer": "ipython3",
   "version": "3.12.7"
  }
 },
 "nbformat": 4,
 "nbformat_minor": 5
}
