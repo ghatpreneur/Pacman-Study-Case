{
 "cells": [
  {
   "cell_type": "code",
   "execution_count": 62,
   "id": "b6eb5e3d",
   "metadata": {},
   "outputs": [
    {
     "name": "stdout",
     "output_type": "stream",
     "text": [
      "Requirement already satisfied: gymnasium in c:\\users\\ghatfan\\appdata\\local\\programs\\python\\python312\\lib\\site-packages (1.2.0)\n",
      "Requirement already satisfied: numpy>=1.21.0 in c:\\users\\ghatfan\\appdata\\local\\programs\\python\\python312\\lib\\site-packages (from gymnasium) (2.2.6)\n",
      "Requirement already satisfied: cloudpickle>=1.2.0 in c:\\users\\ghatfan\\appdata\\local\\programs\\python\\python312\\lib\\site-packages (from gymnasium) (3.1.1)\n",
      "Requirement already satisfied: typing-extensions>=4.3.0 in c:\\users\\ghatfan\\appdata\\local\\programs\\python\\python312\\lib\\site-packages (from gymnasium) (4.13.2)\n",
      "Requirement already satisfied: farama-notifications>=0.0.1 in c:\\users\\ghatfan\\appdata\\local\\programs\\python\\python312\\lib\\site-packages (from gymnasium) (0.0.4)\n",
      "Note: you may need to restart the kernel to use updated packages.\n"
     ]
    }
   ],
   "source": [
    "%pip install gymnasium\n",
    "import numpy as np\n",
    "import gymnasium as gym\n",
    "import pickle\n",
    "import time"
   ]
  },
  {
   "cell_type": "code",
   "execution_count": 47,
   "id": "8f520846",
   "metadata": {},
   "outputs": [],
   "source": [
    "# Membuat daftar peta\n",
    "peta = [\n",
    "    ['SFFF','FHFH','FFFH','HFFG'],\n",
    "    ['SFFF','FFHF','HFFF','HFFG'],\n",
    "    ['SHFF','FHFH','FFFH','HHFG'],\n",
    "    ['SFFF','HHFF','FFFF','HFFG'],\n",
    "    ['SFFH','FFFH','HFFH','HHFG']\n",
    "]"
   ]
  },
  {
   "cell_type": "code",
   "execution_count": 66,
   "id": "160f6ab6",
   "metadata": {},
   "outputs": [],
   "source": [
    "def solve_frozen_lake(peta_index=0):\n",
    "    \"\"\"Fungsi untuk menyelesaikan FrozenLake dengan strategi aman\"\"\"\n",
    "    \n",
    "    print(f\"=== MEMECAHKAN FROZENLAKE PETA {peta_index + 1} ===\")\n",
    "    print(\"Peta:\")\n",
    "    for row in peta[peta_index]:\n",
    "        print(row)\n",
    "    print()"
   ]
  },
  {
   "cell_type": "code",
   "execution_count": 48,
   "id": "618abe65",
   "metadata": {},
   "outputs": [],
   "source": [
    "# membuat lingkungan\n",
    "env = gym.make(\"FrozenLake-v1\", is_slippery=False, desc=peta[0])"
   ]
  },
  {
   "cell_type": "code",
   "execution_count": 49,
   "id": "515ace37",
   "metadata": {},
   "outputs": [
    {
     "name": "stdout",
     "output_type": "stream",
     "text": [
      "Banyak State  : 16\n",
      "Banyak Action : 4\n"
     ]
    }
   ],
   "source": [
    "n_observations = env.observation_space.n\n",
    "n_actions      = env.action_space.n\n",
    "\n",
    "print('Banyak State  : '  + str(n_observations))\n",
    "print('Banyak Action : '  + str(n_actions))"
   ]
  },
  {
   "cell_type": "code",
   "execution_count": 50,
   "id": "d0424892",
   "metadata": {},
   "outputs": [],
   "source": [
    "ACTION = [\"KIRI\", \"BAWAH\", \"KANAN\", \"ATAS\"]"
   ]
  },
  {
   "cell_type": "code",
   "execution_count": 51,
   "id": "f955dd95",
   "metadata": {},
   "outputs": [],
   "source": [
    "env.reset()\n",
    "env.render()"
   ]
  },
  {
   "cell_type": "code",
   "execution_count": null,
   "id": "19ed8639",
   "metadata": {},
   "outputs": [
    {
     "name": "stdout",
     "output_type": "stream",
     "text": [
      "=== FROZENLAKE GAME ===\n",
      "Peta:\n",
      "['SFFF', 'FHFH', 'FFFH', 'HFFG']\n",
      "['SFFF', 'FFHF', 'HFFF', 'HFFG']\n",
      "['SHFF', 'FHFH', 'FFFH', 'HHFG']\n",
      "['SFFF', 'HHFF', 'FFFF', 'HFFG']\n",
      "['SFFH', 'FFFH', 'HFFH', 'HHFG']\n",
      "\n"
     ]
    }
   ],
   "source": [
    "print(\"=== FROZENLAKE GAME ===\")\n",
    "print(\"Peta:\")\n",
    "for row in peta:\n",
    "    print(row)\n",
    "print()"
   ]
  },
  {
   "cell_type": "code",
   "execution_count": 58,
   "id": "73852530",
   "metadata": {},
   "outputs": [
    {
     "name": "stdout",
     "output_type": "stream",
     "text": [
      "STATE REPRESENTATION:\n",
      "S = Start (0), F = Frozen, H = Hole, G = Goal (15)\n",
      "ACTIONS: 0=LEFT, 1=DOWN, 2=RIGHT, 3=UP\n",
      "\n"
     ]
    }
   ],
   "source": [
    "print(\"STATE REPRESENTATION:\")\n",
    "print(\"S = Start (0), F = Frozen, H = Hole, G = Goal (15)\")\n",
    "print(\"ACTIONS: 0=LEFT, 1=DOWN, 2=RIGHT, 3=UP\")\n",
    "print()"
   ]
  }
 ],
 "metadata": {
  "kernelspec": {
   "display_name": "Python 3",
   "language": "python",
   "name": "python3"
  },
  "language_info": {
   "codemirror_mode": {
    "name": "ipython",
    "version": 3
   },
   "file_extension": ".py",
   "mimetype": "text/x-python",
   "name": "python",
   "nbconvert_exporter": "python",
   "pygments_lexer": "ipython3",
   "version": "3.12.7"
  }
 },
 "nbformat": 4,
 "nbformat_minor": 5
}
