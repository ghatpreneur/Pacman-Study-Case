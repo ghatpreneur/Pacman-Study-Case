{
 "cells": [
  {
   "cell_type": "markdown",
   "id": "258f6e80",
   "metadata": {},
   "source": [
    "# Soal Regressi LKS"
   ]
  },
  {
   "cell_type": "markdown",
   "id": "de6f0a42",
   "metadata": {},
   "source": [
    "# Import Library"
   ]
  },
  {
   "cell_type": "code",
   "execution_count": 1,
   "id": "52830a53",
   "metadata": {},
   "outputs": [],
   "source": [
    "import pandas as pd\n",
    "import numpy as np\n",
    "import matplotlib.pyplot as plt\n",
    "import seaborn as sns"
   ]
  },
  {
   "cell_type": "markdown",
   "id": "486ce67a",
   "metadata": {},
   "source": [
    "# overview dataset"
   ]
  },
  {
   "cell_type": "code",
   "execution_count": 2,
   "id": "996f6bdc",
   "metadata": {},
   "outputs": [
    {
     "data": {
      "application/vnd.microsoft.datawrangler.viewer.v0+json": {
       "columns": [
        {
         "name": "index",
         "rawType": "int64",
         "type": "integer"
        },
        {
         "name": "Date",
         "rawType": "datetime64[ns]",
         "type": "datetime"
        },
        {
         "name": "Last Crawling",
         "rawType": "datetime64[ns]",
         "type": "datetime"
        },
        {
         "name": "SKU Name",
         "rawType": "object",
         "type": "string"
        },
        {
         "name": "Product Name",
         "rawType": "object",
         "type": "string"
        },
        {
         "name": "Url Product",
         "rawType": "object",
         "type": "string"
        },
        {
         "name": "Seller",
         "rawType": "object",
         "type": "unknown"
        },
        {
         "name": "Merchant",
         "rawType": "object",
         "type": "string"
        },
        {
         "name": "Stock",
         "rawType": "object",
         "type": "string"
        },
        {
         "name": "Item Condition",
         "rawType": "object",
         "type": "string"
        },
        {
         "name": "Filter",
         "rawType": "object",
         "type": "string"
        },
        {
         "name": "Flag",
         "rawType": "object",
         "type": "string"
        },
        {
         "name": "Bottom Price",
         "rawType": "int64",
         "type": "integer"
        },
        {
         "name": "Original Price",
         "rawType": "object",
         "type": "unknown"
        },
        {
         "name": "Discount",
         "rawType": "object",
         "type": "unknown"
        },
        {
         "name": "Selling Price",
         "rawType": "int64",
         "type": "integer"
        },
        {
         "name": "Discrepancy",
         "rawType": "float64",
         "type": "float"
        },
        {
         "name": "Sales Quantity",
         "rawType": "int64",
         "type": "integer"
        },
        {
         "name": "Sales Revenue",
         "rawType": "int64",
         "type": "integer"
        }
       ],
       "ref": "715b5afb-abef-4a1f-b4a1-c56f2a6e348f",
       "rows": [
        [
         "0",
         "2022-10-22 00:00:00",
         "2022-10-22 00:00:00",
         "TL WR840N",
         "TP-Link TL-WR840N 2 Antenna 300Mbps Wireless N Router",
         "https://tokopedia.com/ccplace/tp-link-tl-wr840n-2-antenna-300mbps-wireless-n-router",
         "ccplace shop",
         "tokopedia",
         "In Stock",
         "baru",
         "Above",
         "Please Check",
         "155000",
         "231000",
         "0",
         "231000",
         "0.0149032258064516",
         "0",
         "0"
        ],
        [
         "1",
         "2022-10-22 00:00:00",
         "2022-10-22 00:00:00",
         "TL WR840N",
         "Promo TP-LINK TL-WR840N Wireless Router 300Mbps Diskon",
         "https://tokopedia.com/gilsaashopp/promo-tp-link-tl-wr840n-wireless-router-300mbps-diskon",
         "gilsaa_shopp",
         "tokopedia",
         "In Stock",
         "baru",
         "Above",
         "Please Check",
         "155000",
         "218800",
         "0",
         "218800",
         "0.014116129032258",
         "0",
         "0"
        ],
        [
         "2",
         "2022-10-22 00:00:00",
         "2022-10-22 00:00:00",
         "TL WR840N",
         "Tp-Link TL-WR840N 300Mbps Wireless N Speed Router WiFi 840 840n wr840",
         "https://tokopedia.com/ccwinta/tp-link-tl-wr840n-300mbps-wireless-n-speed-router-wifi-840-840n-wr840",
         "ccwinta shop",
         "tokopedia",
         "In Stock",
         "baru",
         "Above",
         "Please Check",
         "155000",
         "227000",
         "0",
         "227000",
         "0.0146451612903225",
         "0",
         "0"
        ],
        [
         "3",
         "2022-10-22 00:00:00",
         "2022-10-22 00:00:00",
         "TL WR840N",
         "JARINGAN TP-LINK TL-WR 840N TL-WR840N 300MBps Wireless Router 2",
         "https://tokopedia.com/belsa/jaringan-tp-link-tl-wr-840n-tl-wr840n-300mbps-wireless-router-2",
         "BELSA_SHOP",
         "tokopedia",
         "In Stock",
         "baru",
         "Above",
         "Please Check",
         "155000",
         "263000",
         "0",
         "263000",
         "0.0169677419354838",
         "0",
         "0"
        ],
        [
         "4",
         "2022-10-22 00:00:00",
         "2022-10-22 00:00:00",
         "TL WR840N",
         "TPLink TL-WR840N Router Wireless WiFi 300Mbps 2 Antena TP-LINK WR840N",
         "https://tokopedia.com/ccwinta/tplink-tl-wr840n-router-wireless-wifi-300mbps-2-antena-tp-link-wr840n",
         "ccwinta shop",
         "tokopedia",
         "In Stock",
         "baru",
         "Above",
         "Please Check",
         "155000",
         "236000",
         "0",
         "236000",
         "0.0152258064516129",
         "0",
         "0"
        ],
        [
         "5",
         "2022-10-22 00:00:00",
         "2022-10-22 00:00:00",
         "TL WR840N",
         "TP-Link TL-WR840N Antenna 300Mbps Wireless N Promo",
         "https://tokopedia.com/garwitastore-i/tp-link-tl-wr840n-antenna-300mbps-wireless-n-promo",
         "Garwitastore-id",
         "tokopedia",
         "In Stock",
         "baru",
         "Above",
         "Please Check",
         "155000",
         "236000",
         "0",
         "236000",
         "0.0152258064516129",
         "0",
         "0"
        ],
        [
         "6",
         "2022-10-22 00:00:00",
         "2022-10-22 00:00:00",
         "TL WR840N",
         "Tp-link WR840N / tl-wr840n",
         "https://tokopedia.com/ccplace/tp-link-wr840n-tl-wr840n",
         "ccplace shop",
         "tokopedia",
         "In Stock",
         "baru",
         "Above",
         "Please Check",
         "155000",
         "239000",
         "0",
         "239000",
         "0.0154193548387096",
         "0",
         "0"
        ],
        [
         "7",
         "2022-10-22 00:00:00",
         "2022-10-22 00:00:00",
         "TL WR840N",
         "Tp-Link Tl-Wr840N : 300Mbps Tplink Wifi Wireless N Router Wr840",
         "https://tokopedia.com/nugrahaabadi123/tp-link-tl-wr840n-300mbps-tplink-wifi-wireless-n-router-wr840",
         "nugraha abadi123",
         "tokopedia",
         "In Stock",
         "baru",
         "Above",
         "Please Check",
         "155000",
         "267000",
         "0",
         "267000",
         "0.0172258064516129",
         "0",
         "0"
        ],
        [
         "8",
         "2022-10-22 00:00:00",
         "2022-10-22 00:00:00",
         "TL WR840N",
         "READY STOK TP-LINK ROUTER TL-WR820N/TL-WR844N/TL-WR840N 300N TERBAIK - TL-WR8420N",
         "https://tokopedia.com/brantaofficial/ready-stok-tp-link-router-tl-wr820n-tl-wr844n-tl-wr840n-300n-terbaik-tl-wr8420n",
         "Branta Official",
         "tokopedia",
         "In Stock",
         "baru",
         "Above",
         "Please Check",
         "155000",
         "241500",
         "0",
         "241500",
         "0.0155806451612903",
         "0",
         "0"
        ],
        [
         "9",
         "2022-10-22 00:00:00",
         "2022-10-22 00:00:00",
         "TL WR840N",
         "TPLink TL-WR840N Router Wireless WiFi 300Mbps 2 Antena TP-LINK WR840N",
         "https://tokopedia.com/fatah-2/tplink-tl-wr840n-router-wireless-wifi-300mbps-2-antena-tp-link-wr840n",
         "STORE_FATAH",
         "tokopedia",
         "In Stock",
         "baru",
         "Above",
         "Please Check",
         "155000",
         "231000",
         "0",
         "231000",
         "0.0149032258064516",
         "0",
         "0"
        ],
        [
         "10",
         "2022-10-22 00:00:00",
         "2022-10-22 00:00:00",
         "TL WR840N",
         "XR353 TP-LINK WiFi Wireless Router 300Mbps - TL-WR840N",
         "https://tokopedia.com/distronetra/xr353-tp-link-wifi-wireless-router-300mbps-tl-wr840n",
         "distro netra",
         "tokopedia",
         "In Stock",
         "baru",
         "Above",
         "Please Check",
         "155000",
         "307000",
         "0",
         "307000",
         "0.0198064516129032",
         "0",
         "0"
        ],
        [
         "11",
         "2022-10-22 00:00:00",
         "2022-10-22 00:00:00",
         "TL WR840N",
         "SALE TERBATAS TP-LINK TL-WR840N 300Mbps Wireless Router TP LINK",
         "https://tokopedia.com/brantaofficial/sale-terbatas-tp-link-tl-wr840n-300mbps-wireless-router-tp-link",
         "Branta Official",
         "tokopedia",
         "In Stock",
         "baru",
         "Above",
         "Please Check",
         "155000",
         "248000",
         "0",
         "248000",
         "0.016",
         "0",
         "0"
        ],
        [
         "12",
         "2022-10-22 00:00:00",
         "2022-10-22 00:00:00",
         "TL WR840N",
         "Gt Tp-Link Tl-Wr840N",
         "https://tokopedia.com/madridismoid/gt-tp-link-tl-wr840n",
         "madridismoid",
         "tokopedia",
         "In Stock",
         "baru",
         "Above",
         "Please Check",
         "155000",
         "239000",
         "0",
         "239000",
         "0.0154193548387096",
         "0",
         "0"
        ],
        [
         "13",
         "2022-10-22 00:00:00",
         "2022-10-22 00:00:00",
         "TL WR840N",
         "ROUTER WIRELESS TP-LINK TL-WR840N 300MBPS WIFI 4 PORT 1 WAN MURAH",
         "https://tokopedia.com/ccwinta/router-wireless-tp-link-tl-wr840n-300mbps-wifi-4-port-1-wan-murah",
         "ccwinta shop",
         "tokopedia",
         "In Stock",
         "baru",
         "Above",
         "Please Check",
         "155000",
         "259000",
         "0",
         "259000",
         "0.0167096774193548",
         "0",
         "0"
        ],
        [
         "14",
         "2022-10-22 00:00:00",
         "2022-10-22 00:00:00",
         "TL WR840N",
         "BEST SELLER TP-LINK Wireless Router TL-WR840N 300Mbps TERBAIK",
         "https://tokopedia.com/brantaofficial/best-seller-tp-link-wireless-router-tl-wr840n-300mbps-terbaik",
         "Branta Official",
         "tokopedia",
         "In Stock",
         "baru",
         "Above",
         "Please Check",
         "155000",
         "245000",
         "0",
         "245000",
         "0.0158064516129032",
         "0",
         "0"
        ],
        [
         "15",
         "2022-10-22 00:00:00",
         "2022-10-22 00:00:00",
         "TL WR840N",
         "DISKON Wireless Router Tp Link TL-WR840N WIFI Router 300Mbps Tp-Link",
         "https://tokopedia.com/brantaofficial/diskon-wireless-router-tp-link-tl-wr840n-wifi-router-300mbps-tp-link",
         "Branta Official",
         "tokopedia",
         "In Stock",
         "baru",
         "Above",
         "Please Check",
         "155000",
         "263000",
         "0",
         "263000",
         "0.0169677419354838",
         "0",
         "0"
        ],
        [
         "16",
         "2022-10-22 00:00:00",
         "2022-10-22 00:00:00",
         "TL WR840N",
         "WIRELESS ROUTER TP-LINK TL-WR840N 300Mbps",
         "https://tokopedia.com/majumakmur9/wireless-router-tp-link-tl-wr840n-300mbps",
         "maju makmur 9",
         "tokopedia",
         "In Stock",
         "baru",
         "Above",
         "Please Check",
         "155000",
         "377000",
         "0",
         "377000",
         "0.0243225806451612",
         "0",
         "0"
        ],
        [
         "17",
         "2022-10-22 00:00:00",
         "2022-10-22 00:00:00",
         "TL WR840N",
         "GARANSI RESMI ! TP-LINK TL-WR840N 300Mbps Wireless Router TP LINK",
         "https://tokopedia.com/boneshop9-1/garansi-resmi-tp-link-tl-wr840n-300mbps-wireless-router-tp-link",
         "boneshop9",
         "tokopedia",
         "In Stock",
         "baru",
         "Above",
         "Please Check",
         "155000",
         "377000",
         "0",
         "377000",
         "0.0243225806451612",
         "0",
         "0"
        ],
        [
         "18",
         "2022-10-22 00:00:00",
         "2022-10-22 00:00:00",
         "TL WR840N",
         "DISKON ROUTER TP-LINK TL-WR840N 300Mbps Wireless N Router 2 Antenna",
         "https://tokopedia.com/brantaofficial/diskon-router-tp-link-tl-wr840n-300mbps-wireless-n-router-2-antenna",
         "Branta Official",
         "tokopedia",
         "In Stock",
         "baru",
         "Above",
         "Please Check",
         "155000",
         "255000",
         "0",
         "255000",
         "0.0164516129032258",
         "0",
         "0"
        ],
        [
         "19",
         "2022-10-22 00:00:00",
         "2022-10-22 00:00:00",
         "TL WR840N",
         "TP-LINK TL-WR840N 300Mbps Wireless Router WR840N M9",
         "https://tokopedia.com/lucu-1/tp-link-tl-wr840n-300mbps-wireless-router-wr840n-m9",
         "LUCU_U",
         "tokopedia",
         "In Stock",
         "baru",
         "Above",
         "Please Check",
         "155000",
         "277000",
         "0",
         "277000",
         "0.0178709677419354",
         "0",
         "0"
        ],
        [
         "20",
         "2022-10-22 00:00:00",
         "2022-10-22 00:00:00",
         "TL WR840N",
         "TP-LINK WiFi Wireless Router 300Mbps - TL-WR840N",
         "https://tokopedia.com/kela-/tp-link-wifi-wireless-router-300mbps-tl-wr840n",
         "KELA_STORE",
         "tokopedia",
         "In Stock",
         "baru",
         "Above",
         "Please Check",
         "155000",
         "289000",
         "0",
         "289000",
         "0.0186451612903225",
         "0",
         "0"
        ],
        [
         "21",
         "2022-10-22 00:00:00",
         "2022-10-22 00:00:00",
         "TL WR840N",
         "TP-LINK TL-WR840N 300MBps Wireless Router WR840N tplink 840n wifi 840",
         "https://tokopedia.com/thanthan/tp-link-tl-wr840n-300mbps-wireless-router-wr840n-tplink-840n-wifi-840",
         "THANTHAN_ACC57",
         "tokopedia",
         "In Stock",
         "baru",
         "Above",
         "Please Check",
         "155000",
         "250000",
         "0",
         "250000",
         "0.0161290322580645",
         "0",
         "0"
        ],
        [
         "22",
         "2022-10-22 00:00:00",
         "2022-10-22 00:00:00",
         "TL WR840N",
         "YS559 TP-LINK TL-WR840N Wireless Router N WR840N 300Mbps 2 antena",
         "https://tokopedia.com/nbox-3/ys559-tp-link-tl-wr840n-wireless-router-n-wr840n-300mbps-2-antena",
         "Nahar Box",
         "tokopedia",
         "In Stock",
         "baru",
         "Above",
         "Please Check",
         "155000",
         "248000",
         "0",
         "248000",
         "0.016",
         "0",
         "0"
        ],
        [
         "23",
         "2022-10-22 00:00:00",
         "2022-10-22 00:00:00",
         "TL WR840N",
         "TP-LINK TL-WR840N Wireless Router N WR840N 300Mbps 2 antena",
         "https://tokopedia.com/sandrinastore1-1/tp-link-tl-wr840n-wireless-router-n-wr840n-300mbps-2-antena",
         "Sandrina_Store1",
         "tokopedia",
         "In Stock",
         "baru",
         "Above",
         "Please Check",
         "155000",
         "266000",
         "0",
         "266000",
         "0.0171612903225806",
         "0",
         "0"
        ],
        [
         "24",
         "2022-10-22 00:00:00",
         "2022-10-22 00:00:00",
         "TL WR840N",
         "READY STOK Router TP-LINK TL-WR840N 300Mbps KUALITAS NO 1",
         "https://tokopedia.com/brantaofficial/ready-stok-router-tp-link-tl-wr840n-300mbps-kualitas-no-1",
         "Branta Official",
         "tokopedia",
         "In Stock",
         "baru",
         "Above",
         "Please Check",
         "155000",
         "258000",
         "0",
         "258000",
         "0.0166451612903225",
         "0",
         "0"
        ],
        [
         "25",
         "2022-10-22 00:00:00",
         "2022-10-22 00:00:00",
         "TL WR840N",
         "TP-LINK TL-WR840N 300Mbps Wireless N Router 2 Antena",
         "https://tokopedia.com/ccplace/tp-link-tl-wr840n-300mbps-wireless-n-router-2-antena",
         "ccplace shop",
         "tokopedia",
         "In Stock",
         "baru",
         "Above",
         "Please Check",
         "155000",
         "241000",
         "0",
         "241000",
         "0.0155483870967741",
         "0",
         "0"
        ],
        [
         "26",
         "2022-10-22 00:00:00",
         "2022-10-22 00:00:00",
         "TL WR840N",
         "TP-LINK TL-WR 840N | TP Link TL-WR840N Routher Wifi Wireless N 300Mbps",
         "https://tokopedia.com/thanthan/tp-link-tl-wr-840n-tp-link-tl-wr840n-routher-wifi-wireless-n-300mbps",
         "THANTHAN_ACC57",
         "tokopedia",
         "In Stock",
         "baru",
         "Above",
         "Please Check",
         "155000",
         "229000",
         "0",
         "229000",
         "0.014774193548387",
         "0",
         "0"
        ],
        [
         "27",
         "2022-10-22 00:00:00",
         "2022-10-22 00:00:00",
         "TL WR840N",
         "TP-LINK 300Mbps Wireless N Router TL-WR840N",
         "https://tokopedia.com/sandrinastore1-1/tp-link-300mbps-wireless-n-router-tl-wr840n",
         "Sandrina_Store1",
         "tokopedia",
         "In Stock",
         "baru",
         "Above",
         "Please Check",
         "155000",
         "274000",
         "0",
         "274000",
         "0.0176774193548387",
         "0",
         "0"
        ],
        [
         "28",
         "2022-10-22 00:00:00",
         "2022-10-22 00:00:00",
         "TL WR840N",
         "TP-LINK Best seller TL-WR840N 300Mbps Wireless N Router WIFI",
         "https://tokopedia.com/boneshop9-1/tp-link-best-seller-tl-wr840n-300mbps-wireless-n-router-wifi",
         "boneshop9",
         "tokopedia",
         "In Stock",
         "baru",
         "Above",
         "Please Check",
         "155000",
         "818000",
         "0",
         "818000",
         "0.0527741935483871",
         "0",
         "0"
        ],
        [
         "29",
         "2022-10-22 00:00:00",
         "2022-10-22 00:00:00",
         "TL WR840N",
         "TP-LINK TL-WR840N 300Mbps Wireless N Router (Antenna)",
         "https://tokopedia.com/kela-/tp-link-tl-wr840n-300mbps-wireless-n-router-antenna",
         "KELA_STORE",
         "tokopedia",
         "In Stock",
         "baru",
         "Above",
         "Please Check",
         "155000",
         "245000",
         "0",
         "245000",
         "0.0158064516129032",
         "0",
         "0"
        ],
        [
         "30",
         "2022-10-22 00:00:00",
         "2022-10-22 00:00:00",
         "TL WR840N",
         "Tp-Link Tl-Wr840N 300Mbps Wireless Router / Wifi Router Tplink Wr840N",
         "https://tokopedia.com/nugrahaabadi123/tp-link-tl-wr840n-300mbps-wireless-router-wifi-router-tplink-wr840n",
         "nugraha abadi123",
         "tokopedia",
         "In Stock",
         "baru",
         "Above",
         "Please Check",
         "155000",
         "272000",
         "0",
         "272000",
         "0.0175483870967741",
         "0",
         "0"
        ],
        [
         "31",
         "2022-10-22 00:00:00",
         "2022-10-22 00:00:00",
         "TL WR840N",
         "TP-LINK TL-WR840N Wireless N Router 300Mbps Wifi Router TPLINK WR840N",
         "https://tokopedia.com/kela-/tp-link-tl-wr840n-wireless-n-router-300mbps-wifi-router-tplink-wr840n",
         "KELA_STORE",
         "tokopedia",
         "In Stock",
         "baru",
         "Above",
         "Please Check",
         "155000",
         "233000",
         "0",
         "233000",
         "0.0150322580645161",
         "0",
         "0"
        ],
        [
         "32",
         "2022-10-22 00:00:00",
         "2022-10-22 00:00:00",
         "TL WR840N",
         "TP-LINK WIRELESS ROUTER TL WR840N 300 MBPS",
         "https://tokopedia.com/thanthan/tp-link-wireless-router-tl-wr840n-300-mbps",
         "THANTHAN_ACC57",
         "tokopedia",
         "In Stock",
         "baru",
         "Above",
         "Please Check",
         "155000",
         "247000",
         "0",
         "247000",
         "0.0159354838709677",
         "0",
         "0"
        ],
        [
         "33",
         "2022-10-22 00:00:00",
         "2022-10-22 00:00:00",
         "TL WR840N",
         "TP-LINK ROUTER WIRELESS WI-FI TL-WR840N 300mbps ORIGINAL GARANSI RESMI",
         "https://tokopedia.com/gavinstore-/tp-link-router-wireless-wi-fi-tl-wr840n-300mbps-original-garansi-resmi",
         "Gavinstore-id",
         "tokopedia",
         "In Stock",
         "baru",
         "Above",
         "Please Check",
         "155000",
         "234000",
         "0",
         "234000",
         "0.0150967741935483",
         "0",
         "0"
        ],
        [
         "34",
         "2022-10-22 00:00:00",
         "2022-10-22 00:00:00",
         "TL WR840N",
         "TP-LINK Wireless TL-WR840N COD TP Router 300Mbps LINK",
         "https://tokopedia.com/holisop/tp-link-wireless-tl-wr840n-cod-tp-router-300mbps-link",
         "holisop",
         "tokopedia",
         "In Stock",
         "baru",
         "Above",
         "Please Check",
         "155000",
         "267000",
         "0",
         "267000",
         "0.0172258064516129",
         "0",
         "0"
        ],
        [
         "35",
         "2022-10-22 00:00:00",
         "2022-10-22 00:00:00",
         "TL WR840N",
         "TP-LINK TL-WR840N 300Mbps Wireless Router WR840N M9",
         "https://tokopedia.com/sandrinastore1-1/tp-link-tl-wr840n-300mbps-wireless-router-wr840n-m9",
         "Sandrina_Store1",
         "tokopedia",
         "In Stock",
         "baru",
         "Above",
         "Please Check",
         "155000",
         "269000",
         "0",
         "269000",
         "0.0173548387096774",
         "0",
         "0"
        ],
        [
         "36",
         "2022-10-22 00:00:00",
         "2022-10-22 00:00:00",
         "TL WR840N",
         "Tp-Link TL-WR840N 300Mbps Wireless N Speed Router WiFi 840 840n wr840",
         "https://tokopedia.com/ekaaast/tp-link-tl-wr840n-300mbps-wireless-n-speed-router-wifi-840-840n-wr840",
         "ekaaa_store",
         "tokopedia",
         "In Stock",
         "baru",
         "Above",
         "Please Check",
         "155000",
         "218800",
         "0",
         "218800",
         "0.014116129032258",
         "0",
         "0"
        ],
        [
         "37",
         "2022-10-22 00:00:00",
         "2022-10-22 00:00:00",
         "TL WR840N",
         "TP-Link TL-WR840N 300Mbps Wireless N Router",
         "https://tokopedia.com/belsa/tp-link-tl-wr840n-300mbps-wireless-n-router",
         "BELSA_SHOP",
         "tokopedia",
         "In Stock",
         "baru",
         "Above",
         "Please Check",
         "155000",
         "250000",
         "0",
         "250000",
         "0.0161290322580645",
         "0",
         "0"
        ],
        [
         "38",
         "2022-10-22 00:00:00",
         "2022-10-22 00:00:00",
         "TL WR840N",
         "TP-LINK TL-WR840N 300Mbps Wireless N Router Best seller 300Mbps",
         "https://tokopedia.com/gavinstore-/tp-link-tl-wr840n-300mbps-wireless-n-router-best-seller-300mbps",
         "Gavinstore-id",
         "tokopedia",
         "In Stock",
         "baru",
         "Above",
         "Please Check",
         "155000",
         "228000",
         "0",
         "228000",
         "0.0147096774193548",
         "0",
         "0"
        ],
        [
         "39",
         "2022-10-22 00:00:00",
         "2022-10-22 00:00:00",
         "TL WR840N",
         "TP-LINK TL-WR840N 300Mbps Wireless N Router 2 Antena",
         "https://tokopedia.com/garwitastore-i/tp-link-tl-wr840n-300mbps-wireless-n-router-2-antena",
         "Garwitastore-id",
         "tokopedia",
         "In Stock",
         "baru",
         "Above",
         "Please Check",
         "155000",
         "232000",
         "0",
         "232000",
         "0.0149677419354838",
         "0",
         "0"
        ],
        [
         "40",
         "2022-10-22 00:00:00",
         "2022-10-22 00:00:00",
         "TL WR840N",
         "TL-WR840N TP-Link 300Mbps Router Wireless N Speed",
         "https://tokopedia.com/boneshop9-1/tl-wr840n-tp-link-300mbps-router-wireless-n-speed",
         "boneshop9",
         "tokopedia",
         "In Stock",
         "baru",
         "Above",
         "Please Check",
         "155000",
         "377000",
         "0",
         "377000",
         "0.0243225806451612",
         "0",
         "0"
        ],
        [
         "41",
         "2022-10-22 00:00:00",
         "2022-10-22 00:00:00",
         "TL WR840N",
         "[ COD ] TP-LINK TL-WR840N 300Mbps Wireless Router TP LINK",
         "https://tokopedia.com/ccwinta/cod-tp-link-tl-wr840n-300mbps-wireless-router-tp-link",
         "ccwinta shop",
         "tokopedia",
         "In Stock",
         "baru",
         "Above",
         "Please Check",
         "155000",
         "274000",
         "0",
         "274000",
         "0.0176774193548387",
         "0",
         "0"
        ],
        [
         "42",
         "2022-10-22 00:00:00",
         "2022-10-22 00:00:00",
         "TL WR840N",
         "TL-WR840N TP-Link 300Mbps Router Wireless N Speed",
         "https://tokopedia.com/heycostore/tl-wr840n-tp-link-300mbps-router-wireless-n-speed",
         "heyco store",
         "tokopedia",
         "In Stock",
         "baru",
         "Above",
         "Please Check",
         "155000",
         "264000",
         "0",
         "264000",
         "0.0170322580645161",
         "0",
         "0"
        ],
        [
         "43",
         "2022-10-22 00:00:00",
         "2022-10-22 00:00:00",
         "TL WR840N",
         "Range Wifi Extender | TP-Link TL-WR840N 300MBps Wireless Router Access",
         "https://tokopedia.com/abadiy-2/range-wifi-extender-tp-link-tl-wr840n-300mbps-wireless-router-access",
         "ABADI_Y",
         "tokopedia",
         "In Stock",
         "baru",
         "Above",
         "Please Check",
         "155000",
         "316000",
         "0",
         "316000",
         "0.0203870967741935",
         "0",
         "0"
        ],
        [
         "44",
         "2022-10-22 00:00:00",
         "2022-10-22 00:00:00",
         "TL WR840N",
         "Tp-link tl-wr840n WR840N",
         "https://tokopedia.com/chalshop43/tp-link-tl-wr840n-wr840n",
         "Chalshop43",
         "tokopedia",
         "In Stock",
         "baru",
         "Above",
         "Please Check",
         "155000",
         "295000",
         "0",
         "295000",
         "0.0190322580645161",
         "0",
         "0"
        ],
        [
         "45",
         "2022-10-22 00:00:00",
         "2022-10-22 00:00:00",
         "TL WR840N",
         "TP-LINK TL-WR 840N TL-WR840N 300MBps Wireless Router 2 Antenna",
         "https://tokopedia.com/ccwinta/tp-link-tl-wr-840n-tl-wr840n-300mbps-wireless-router-2-antenna",
         "ccwinta shop",
         "tokopedia",
         "In Stock",
         "baru",
         "Above",
         "Please Check",
         "155000",
         "285000",
         "0",
         "285000",
         "0.0183870967741935",
         "0",
         "0"
        ],
        [
         "46",
         "2022-10-22 00:00:00",
         "2022-10-22 00:00:00",
         "TL WR840N",
         "Wireless N Router TP-LINK TL-WR840N Router wifi 300Mbps 2 Antenna",
         "https://tokopedia.com/thanthan/wireless-n-router-tp-link-tl-wr840n-router-wifi-300mbps-2-antenna",
         "THANTHAN_ACC57",
         "tokopedia",
         "In Stock",
         "baru",
         "Above",
         "Please Check",
         "155000",
         "253000",
         "0",
         "253000",
         "0.0163225806451612",
         "0",
         "0"
        ],
        [
         "47",
         "2022-10-22 00:00:00",
         "2022-10-22 00:00:00",
         "TL WR840N",
         "TP LINK TP-LINK TL-WR840N 300Mbps Wireless Router TP LINK",
         "https://tokopedia.com/boneshop9-1/tp-link-tp-link-tl-wr840n-300mbps-wireless-router-tp-link",
         "boneshop9",
         "tokopedia",
         "In Stock",
         "baru",
         "Above",
         "Please Check",
         "155000",
         "377000",
         "0",
         "377000",
         "0.0243225806451612",
         "0",
         "0"
        ],
        [
         "48",
         "2022-10-22 00:00:00",
         "2022-10-22 00:00:00",
         "TL WR840N",
         "Gt Tp-Link Tl-Wr840N Wireless Router 300Mbps",
         "https://tokopedia.com/jambuatah/gt-tp-link-tl-wr840n-wireless-router-300mbps",
         "jambuatah",
         "tokopedia",
         "In Stock",
         "baru",
         "Above",
         "Please Check",
         "155000",
         "234000",
         "0",
         "234000",
         "0.0150967741935483",
         "0",
         "0"
        ],
        [
         "49",
         "2022-10-22 00:00:00",
         "2022-10-22 00:00:00",
         "TL WR840N",
         "READY STOK TP-LINK TL-WR840N 300Mbps Wireless N Router WIFI - TP-LINK - TL-WR840N",
         "https://tokopedia.com/brantaofficial/ready-stok-tp-link-tl-wr840n-300mbps-wireless-n-router-wifi-tp-link-tl-wr840n",
         "Branta Official",
         "tokopedia",
         "In Stock",
         "baru",
         "Above",
         "Please Check",
         "155000",
         "654000",
         "0",
         "654000",
         "0.0421935483870967",
         "0",
         "0"
        ]
       ],
       "shape": {
        "columns": 18,
        "rows": 32772
       }
      },
      "text/html": [
       "<div>\n",
       "<style scoped>\n",
       "    .dataframe tbody tr th:only-of-type {\n",
       "        vertical-align: middle;\n",
       "    }\n",
       "\n",
       "    .dataframe tbody tr th {\n",
       "        vertical-align: top;\n",
       "    }\n",
       "\n",
       "    .dataframe thead th {\n",
       "        text-align: right;\n",
       "    }\n",
       "</style>\n",
       "<table border=\"1\" class=\"dataframe\">\n",
       "  <thead>\n",
       "    <tr style=\"text-align: right;\">\n",
       "      <th></th>\n",
       "      <th>Date</th>\n",
       "      <th>Last Crawling</th>\n",
       "      <th>SKU Name</th>\n",
       "      <th>Product Name</th>\n",
       "      <th>Url Product</th>\n",
       "      <th>Seller</th>\n",
       "      <th>Merchant</th>\n",
       "      <th>Stock</th>\n",
       "      <th>Item Condition</th>\n",
       "      <th>Filter</th>\n",
       "      <th>Flag</th>\n",
       "      <th>Bottom Price</th>\n",
       "      <th>Original Price</th>\n",
       "      <th>Discount</th>\n",
       "      <th>Selling Price</th>\n",
       "      <th>Discrepancy</th>\n",
       "      <th>Sales Quantity</th>\n",
       "      <th>Sales Revenue</th>\n",
       "    </tr>\n",
       "  </thead>\n",
       "  <tbody>\n",
       "    <tr>\n",
       "      <th>0</th>\n",
       "      <td>2022-10-22</td>\n",
       "      <td>2022-10-22</td>\n",
       "      <td>TL WR840N</td>\n",
       "      <td>TP-Link TL-WR840N 2 Antenna 300Mbps Wireless N...</td>\n",
       "      <td>https://tokopedia.com/ccplace/tp-link-tl-wr840...</td>\n",
       "      <td>ccplace shop</td>\n",
       "      <td>tokopedia</td>\n",
       "      <td>In Stock</td>\n",
       "      <td>baru</td>\n",
       "      <td>Above</td>\n",
       "      <td>Please Check</td>\n",
       "      <td>155000</td>\n",
       "      <td>231000</td>\n",
       "      <td>0</td>\n",
       "      <td>231000</td>\n",
       "      <td>0.014903</td>\n",
       "      <td>0</td>\n",
       "      <td>0</td>\n",
       "    </tr>\n",
       "    <tr>\n",
       "      <th>1</th>\n",
       "      <td>2022-10-22</td>\n",
       "      <td>2022-10-22</td>\n",
       "      <td>TL WR840N</td>\n",
       "      <td>Promo TP-LINK TL-WR840N Wireless Router 300Mbp...</td>\n",
       "      <td>https://tokopedia.com/gilsaashopp/promo-tp-lin...</td>\n",
       "      <td>gilsaa_shopp</td>\n",
       "      <td>tokopedia</td>\n",
       "      <td>In Stock</td>\n",
       "      <td>baru</td>\n",
       "      <td>Above</td>\n",
       "      <td>Please Check</td>\n",
       "      <td>155000</td>\n",
       "      <td>218800</td>\n",
       "      <td>0</td>\n",
       "      <td>218800</td>\n",
       "      <td>0.014116</td>\n",
       "      <td>0</td>\n",
       "      <td>0</td>\n",
       "    </tr>\n",
       "    <tr>\n",
       "      <th>2</th>\n",
       "      <td>2022-10-22</td>\n",
       "      <td>2022-10-22</td>\n",
       "      <td>TL WR840N</td>\n",
       "      <td>Tp-Link TL-WR840N 300Mbps Wireless N Speed Rou...</td>\n",
       "      <td>https://tokopedia.com/ccwinta/tp-link-tl-wr840...</td>\n",
       "      <td>ccwinta shop</td>\n",
       "      <td>tokopedia</td>\n",
       "      <td>In Stock</td>\n",
       "      <td>baru</td>\n",
       "      <td>Above</td>\n",
       "      <td>Please Check</td>\n",
       "      <td>155000</td>\n",
       "      <td>227000</td>\n",
       "      <td>0</td>\n",
       "      <td>227000</td>\n",
       "      <td>0.014645</td>\n",
       "      <td>0</td>\n",
       "      <td>0</td>\n",
       "    </tr>\n",
       "    <tr>\n",
       "      <th>3</th>\n",
       "      <td>2022-10-22</td>\n",
       "      <td>2022-10-22</td>\n",
       "      <td>TL WR840N</td>\n",
       "      <td>JARINGAN TP-LINK TL-WR 840N TL-WR840N 300MBps ...</td>\n",
       "      <td>https://tokopedia.com/belsa/jaringan-tp-link-t...</td>\n",
       "      <td>BELSA_SHOP</td>\n",
       "      <td>tokopedia</td>\n",
       "      <td>In Stock</td>\n",
       "      <td>baru</td>\n",
       "      <td>Above</td>\n",
       "      <td>Please Check</td>\n",
       "      <td>155000</td>\n",
       "      <td>263000</td>\n",
       "      <td>0</td>\n",
       "      <td>263000</td>\n",
       "      <td>0.016968</td>\n",
       "      <td>0</td>\n",
       "      <td>0</td>\n",
       "    </tr>\n",
       "    <tr>\n",
       "      <th>4</th>\n",
       "      <td>2022-10-22</td>\n",
       "      <td>2022-10-22</td>\n",
       "      <td>TL WR840N</td>\n",
       "      <td>TPLink TL-WR840N Router Wireless WiFi 300Mbps ...</td>\n",
       "      <td>https://tokopedia.com/ccwinta/tplink-tl-wr840n...</td>\n",
       "      <td>ccwinta shop</td>\n",
       "      <td>tokopedia</td>\n",
       "      <td>In Stock</td>\n",
       "      <td>baru</td>\n",
       "      <td>Above</td>\n",
       "      <td>Please Check</td>\n",
       "      <td>155000</td>\n",
       "      <td>236000</td>\n",
       "      <td>0</td>\n",
       "      <td>236000</td>\n",
       "      <td>0.015226</td>\n",
       "      <td>0</td>\n",
       "      <td>0</td>\n",
       "    </tr>\n",
       "    <tr>\n",
       "      <th>...</th>\n",
       "      <td>...</td>\n",
       "      <td>...</td>\n",
       "      <td>...</td>\n",
       "      <td>...</td>\n",
       "      <td>...</td>\n",
       "      <td>...</td>\n",
       "      <td>...</td>\n",
       "      <td>...</td>\n",
       "      <td>...</td>\n",
       "      <td>...</td>\n",
       "      <td>...</td>\n",
       "      <td>...</td>\n",
       "      <td>...</td>\n",
       "      <td>...</td>\n",
       "      <td>...</td>\n",
       "      <td>...</td>\n",
       "      <td>...</td>\n",
       "      <td>...</td>\n",
       "    </tr>\n",
       "    <tr>\n",
       "      <th>32767</th>\n",
       "      <td>2022-09-20</td>\n",
       "      <td>2022-09-20</td>\n",
       "      <td>TL WR840N</td>\n",
       "      <td>KODE CVUSM02 TP-LINK TL-WR840N 300MBps Wireles...</td>\n",
       "      <td>https://tokopedia.com/cvunggulsidomukti/kode-c...</td>\n",
       "      <td>CV Unggul Sido Mukti</td>\n",
       "      <td>tokopedia</td>\n",
       "      <td>In Stock</td>\n",
       "      <td>baru</td>\n",
       "      <td>Above</td>\n",
       "      <td>Please Check</td>\n",
       "      <td>155000</td>\n",
       "      <td>244000</td>\n",
       "      <td>0</td>\n",
       "      <td>244000</td>\n",
       "      <td>0.015742</td>\n",
       "      <td>0</td>\n",
       "      <td>0</td>\n",
       "    </tr>\n",
       "    <tr>\n",
       "      <th>32768</th>\n",
       "      <td>2022-09-20</td>\n",
       "      <td>2022-09-20</td>\n",
       "      <td>TL WR840N</td>\n",
       "      <td>WIRELESS ROUTER TP-LINK TL-WR840N 300Mbps</td>\n",
       "      <td>https://tokopedia.com/carlton279/wireless-rout...</td>\n",
       "      <td>carlton279</td>\n",
       "      <td>tokopedia</td>\n",
       "      <td>In Stock</td>\n",
       "      <td>baru</td>\n",
       "      <td>Above</td>\n",
       "      <td>Please Check</td>\n",
       "      <td>155000</td>\n",
       "      <td>212000</td>\n",
       "      <td>0</td>\n",
       "      <td>212000</td>\n",
       "      <td>0.013677</td>\n",
       "      <td>0</td>\n",
       "      <td>0</td>\n",
       "    </tr>\n",
       "    <tr>\n",
       "      <th>32769</th>\n",
       "      <td>2022-09-20</td>\n",
       "      <td>2022-09-20</td>\n",
       "      <td>TL WR840N</td>\n",
       "      <td>TP-LINK TL-WR840N 300Mbps Wireless Router / Wi...</td>\n",
       "      <td>https://tokopedia.com/forgotenstore/tp-link-tl...</td>\n",
       "      <td>Forgoten Store</td>\n",
       "      <td>tokopedia</td>\n",
       "      <td>In Stock</td>\n",
       "      <td>baru</td>\n",
       "      <td>Above</td>\n",
       "      <td>Please Check</td>\n",
       "      <td>155000</td>\n",
       "      <td>271733</td>\n",
       "      <td>0</td>\n",
       "      <td>271733</td>\n",
       "      <td>0.017531</td>\n",
       "      <td>0</td>\n",
       "      <td>0</td>\n",
       "    </tr>\n",
       "    <tr>\n",
       "      <th>32770</th>\n",
       "      <td>2022-09-20</td>\n",
       "      <td>2022-09-20</td>\n",
       "      <td>TL WR840N</td>\n",
       "      <td>WIRELESS ROUTER TP-LINK TL-WR840N 300Mbps</td>\n",
       "      <td>https://tokopedia.com/sani1/wireless-router-tp...</td>\n",
       "      <td>Sani1_Shop</td>\n",
       "      <td>tokopedia</td>\n",
       "      <td>In Stock</td>\n",
       "      <td>baru</td>\n",
       "      <td>Above</td>\n",
       "      <td>Please Check</td>\n",
       "      <td>155000</td>\n",
       "      <td>210000</td>\n",
       "      <td>0</td>\n",
       "      <td>210000</td>\n",
       "      <td>0.013548</td>\n",
       "      <td>0</td>\n",
       "      <td>0</td>\n",
       "    </tr>\n",
       "    <tr>\n",
       "      <th>32771</th>\n",
       "      <td>2022-09-20</td>\n",
       "      <td>2022-09-20</td>\n",
       "      <td>TL WR840N</td>\n",
       "      <td>Router Tp-Link Wifi Wireless 300Mbps - Tl-Wr840N</td>\n",
       "      <td>https://tokopedia.com/plum-stores/router-tp-li...</td>\n",
       "      <td>PLUM store&amp;#39;s</td>\n",
       "      <td>tokopedia</td>\n",
       "      <td>In Stock</td>\n",
       "      <td>baru</td>\n",
       "      <td>Above</td>\n",
       "      <td>Please Check</td>\n",
       "      <td>155000</td>\n",
       "      <td>274900</td>\n",
       "      <td>0</td>\n",
       "      <td>274900</td>\n",
       "      <td>0.017735</td>\n",
       "      <td>0</td>\n",
       "      <td>0</td>\n",
       "    </tr>\n",
       "  </tbody>\n",
       "</table>\n",
       "<p>32772 rows × 18 columns</p>\n",
       "</div>"
      ],
      "text/plain": [
       "            Date Last Crawling   SKU Name  \\\n",
       "0     2022-10-22    2022-10-22  TL WR840N   \n",
       "1     2022-10-22    2022-10-22  TL WR840N   \n",
       "2     2022-10-22    2022-10-22  TL WR840N   \n",
       "3     2022-10-22    2022-10-22  TL WR840N   \n",
       "4     2022-10-22    2022-10-22  TL WR840N   \n",
       "...          ...           ...        ...   \n",
       "32767 2022-09-20    2022-09-20  TL WR840N   \n",
       "32768 2022-09-20    2022-09-20  TL WR840N   \n",
       "32769 2022-09-20    2022-09-20  TL WR840N   \n",
       "32770 2022-09-20    2022-09-20  TL WR840N   \n",
       "32771 2022-09-20    2022-09-20  TL WR840N   \n",
       "\n",
       "                                            Product Name  \\\n",
       "0      TP-Link TL-WR840N 2 Antenna 300Mbps Wireless N...   \n",
       "1      Promo TP-LINK TL-WR840N Wireless Router 300Mbp...   \n",
       "2      Tp-Link TL-WR840N 300Mbps Wireless N Speed Rou...   \n",
       "3      JARINGAN TP-LINK TL-WR 840N TL-WR840N 300MBps ...   \n",
       "4      TPLink TL-WR840N Router Wireless WiFi 300Mbps ...   \n",
       "...                                                  ...   \n",
       "32767  KODE CVUSM02 TP-LINK TL-WR840N 300MBps Wireles...   \n",
       "32768          WIRELESS ROUTER TP-LINK TL-WR840N 300Mbps   \n",
       "32769  TP-LINK TL-WR840N 300Mbps Wireless Router / Wi...   \n",
       "32770          WIRELESS ROUTER TP-LINK TL-WR840N 300Mbps   \n",
       "32771   Router Tp-Link Wifi Wireless 300Mbps - Tl-Wr840N   \n",
       "\n",
       "                                             Url Product  \\\n",
       "0      https://tokopedia.com/ccplace/tp-link-tl-wr840...   \n",
       "1      https://tokopedia.com/gilsaashopp/promo-tp-lin...   \n",
       "2      https://tokopedia.com/ccwinta/tp-link-tl-wr840...   \n",
       "3      https://tokopedia.com/belsa/jaringan-tp-link-t...   \n",
       "4      https://tokopedia.com/ccwinta/tplink-tl-wr840n...   \n",
       "...                                                  ...   \n",
       "32767  https://tokopedia.com/cvunggulsidomukti/kode-c...   \n",
       "32768  https://tokopedia.com/carlton279/wireless-rout...   \n",
       "32769  https://tokopedia.com/forgotenstore/tp-link-tl...   \n",
       "32770  https://tokopedia.com/sani1/wireless-router-tp...   \n",
       "32771  https://tokopedia.com/plum-stores/router-tp-li...   \n",
       "\n",
       "                     Seller   Merchant     Stock Item Condition Filter  \\\n",
       "0              ccplace shop  tokopedia  In Stock           baru  Above   \n",
       "1              gilsaa_shopp  tokopedia  In Stock           baru  Above   \n",
       "2              ccwinta shop  tokopedia  In Stock           baru  Above   \n",
       "3                BELSA_SHOP  tokopedia  In Stock           baru  Above   \n",
       "4              ccwinta shop  tokopedia  In Stock           baru  Above   \n",
       "...                     ...        ...       ...            ...    ...   \n",
       "32767  CV Unggul Sido Mukti  tokopedia  In Stock           baru  Above   \n",
       "32768            carlton279  tokopedia  In Stock           baru  Above   \n",
       "32769        Forgoten Store  tokopedia  In Stock           baru  Above   \n",
       "32770            Sani1_Shop  tokopedia  In Stock           baru  Above   \n",
       "32771      PLUM store&#39;s  tokopedia  In Stock           baru  Above   \n",
       "\n",
       "               Flag  Bottom Price Original Price Discount  Selling Price  \\\n",
       "0      Please Check        155000         231000        0         231000   \n",
       "1      Please Check        155000         218800        0         218800   \n",
       "2      Please Check        155000         227000        0         227000   \n",
       "3      Please Check        155000         263000        0         263000   \n",
       "4      Please Check        155000         236000        0         236000   \n",
       "...             ...           ...            ...      ...            ...   \n",
       "32767  Please Check        155000         244000        0         244000   \n",
       "32768  Please Check        155000         212000        0         212000   \n",
       "32769  Please Check        155000         271733        0         271733   \n",
       "32770  Please Check        155000         210000        0         210000   \n",
       "32771  Please Check        155000         274900        0         274900   \n",
       "\n",
       "       Discrepancy  Sales Quantity  Sales Revenue  \n",
       "0         0.014903               0              0  \n",
       "1         0.014116               0              0  \n",
       "2         0.014645               0              0  \n",
       "3         0.016968               0              0  \n",
       "4         0.015226               0              0  \n",
       "...            ...             ...            ...  \n",
       "32767     0.015742               0              0  \n",
       "32768     0.013677               0              0  \n",
       "32769     0.017531               0              0  \n",
       "32770     0.013548               0              0  \n",
       "32771     0.017735               0              0  \n",
       "\n",
       "[32772 rows x 18 columns]"
      ]
     },
     "execution_count": 2,
     "metadata": {},
     "output_type": "execute_result"
    }
   ],
   "source": [
    "path = 'price.xlsx'\n",
    "\n",
    "df_router = pd.read_excel(path)\n",
    "df_router"
   ]
  },
  {
   "cell_type": "code",
   "execution_count": 3,
   "id": "16e0b960",
   "metadata": {},
   "outputs": [],
   "source": [
    "df_tokopedia = df_router[df_router[\"Merchant\"] == \"tokopedia\"]"
   ]
  },
  {
   "cell_type": "code",
   "execution_count": 4,
   "id": "3fe58e1f",
   "metadata": {},
   "outputs": [
    {
     "name": "stdout",
     "output_type": "stream",
     "text": [
      "<class 'pandas.core.frame.DataFrame'>\n",
      "Index: 30328 entries, 0 to 32771\n",
      "Data columns (total 18 columns):\n",
      " #   Column          Non-Null Count  Dtype         \n",
      "---  ------          --------------  -----         \n",
      " 0   Date            30328 non-null  datetime64[ns]\n",
      " 1   Last Crawling   30328 non-null  datetime64[ns]\n",
      " 2   SKU Name        30328 non-null  object        \n",
      " 3   Product Name    30328 non-null  object        \n",
      " 4   Url Product     30328 non-null  object        \n",
      " 5   Seller          30328 non-null  object        \n",
      " 6   Merchant        30328 non-null  object        \n",
      " 7   Stock           30328 non-null  object        \n",
      " 8   Item Condition  30328 non-null  object        \n",
      " 9   Filter          30328 non-null  object        \n",
      " 10  Flag            30328 non-null  object        \n",
      " 11  Bottom Price    30328 non-null  int64         \n",
      " 12  Original Price  30328 non-null  object        \n",
      " 13  Discount        30328 non-null  object        \n",
      " 14  Selling Price   30328 non-null  int64         \n",
      " 15  Discrepancy     30328 non-null  float64       \n",
      " 16  Sales Quantity  30328 non-null  int64         \n",
      " 17  Sales Revenue   30328 non-null  int64         \n",
      "dtypes: datetime64[ns](2), float64(1), int64(4), object(11)\n",
      "memory usage: 4.4+ MB\n"
     ]
    }
   ],
   "source": [
    "df_tokopedia.info()"
   ]
  },
  {
   "cell_type": "code",
   "execution_count": 5,
   "id": "b857df0a",
   "metadata": {},
   "outputs": [
    {
     "data": {
      "text/plain": [
       "(30328, 18)"
      ]
     },
     "execution_count": 5,
     "metadata": {},
     "output_type": "execute_result"
    }
   ],
   "source": [
    "df_tokopedia.shape"
   ]
  },
  {
   "cell_type": "code",
   "execution_count": 6,
   "id": "f53ce577",
   "metadata": {},
   "outputs": [
    {
     "data": {
      "text/plain": [
       "np.int64(0)"
      ]
     },
     "execution_count": 6,
     "metadata": {},
     "output_type": "execute_result"
    }
   ],
   "source": [
    "df_tokopedia.duplicated().sum()"
   ]
  },
  {
   "cell_type": "code",
   "execution_count": 7,
   "id": "78579f54",
   "metadata": {},
   "outputs": [
    {
     "data": {
      "application/vnd.microsoft.datawrangler.viewer.v0+json": {
       "columns": [
        {
         "name": "index",
         "rawType": "object",
         "type": "string"
        },
        {
         "name": "0",
         "rawType": "int64",
         "type": "integer"
        }
       ],
       "ref": "257157ba-e02b-400c-829a-0d9c531fa03c",
       "rows": [
        [
         "Date",
         "0"
        ],
        [
         "Last Crawling",
         "0"
        ],
        [
         "SKU Name",
         "0"
        ],
        [
         "Product Name",
         "0"
        ],
        [
         "Url Product",
         "0"
        ],
        [
         "Seller",
         "0"
        ],
        [
         "Merchant",
         "0"
        ],
        [
         "Stock",
         "0"
        ],
        [
         "Item Condition",
         "0"
        ],
        [
         "Filter",
         "0"
        ],
        [
         "Flag",
         "0"
        ],
        [
         "Bottom Price",
         "0"
        ],
        [
         "Original Price",
         "0"
        ],
        [
         "Discount",
         "0"
        ],
        [
         "Selling Price",
         "0"
        ],
        [
         "Discrepancy",
         "0"
        ],
        [
         "Sales Quantity",
         "0"
        ],
        [
         "Sales Revenue",
         "0"
        ]
       ],
       "shape": {
        "columns": 1,
        "rows": 18
       }
      },
      "text/plain": [
       "Date              0\n",
       "Last Crawling     0\n",
       "SKU Name          0\n",
       "Product Name      0\n",
       "Url Product       0\n",
       "Seller            0\n",
       "Merchant          0\n",
       "Stock             0\n",
       "Item Condition    0\n",
       "Filter            0\n",
       "Flag              0\n",
       "Bottom Price      0\n",
       "Original Price    0\n",
       "Discount          0\n",
       "Selling Price     0\n",
       "Discrepancy       0\n",
       "Sales Quantity    0\n",
       "Sales Revenue     0\n",
       "dtype: int64"
      ]
     },
     "execution_count": 7,
     "metadata": {},
     "output_type": "execute_result"
    }
   ],
   "source": [
    "df_tokopedia.isnull().sum()"
   ]
  },
  {
   "cell_type": "markdown",
   "id": "957fd0a7",
   "metadata": {},
   "source": [
    "Data cleaning and transformation"
   ]
  },
  {
   "cell_type": "code",
   "execution_count": 8,
   "id": "bab3853b",
   "metadata": {},
   "outputs": [
    {
     "data": {
      "application/vnd.microsoft.datawrangler.viewer.v0+json": {
       "columns": [
        {
         "name": "Merchant",
         "rawType": "object",
         "type": "string"
        },
        {
         "name": "count",
         "rawType": "int64",
         "type": "integer"
        }
       ],
       "ref": "02f4a036-2d91-4841-953a-35bb8239e313",
       "rows": [
        [
         "tokopedia",
         "30328"
        ]
       ],
       "shape": {
        "columns": 1,
        "rows": 1
       }
      },
      "text/plain": [
       "Merchant\n",
       "tokopedia    30328\n",
       "Name: count, dtype: int64"
      ]
     },
     "execution_count": 8,
     "metadata": {},
     "output_type": "execute_result"
    }
   ],
   "source": [
    "df_tokopedia[\"Merchant\"].value_counts()"
   ]
  },
  {
   "cell_type": "code",
   "execution_count": 9,
   "id": "299acc8e",
   "metadata": {},
   "outputs": [
    {
     "name": "stdout",
     "output_type": "stream",
     "text": [
      "<class 'pandas.core.frame.DataFrame'>\n",
      "Index: 30328 entries, 0 to 32771\n",
      "Data columns (total 18 columns):\n",
      " #   Column          Non-Null Count  Dtype         \n",
      "---  ------          --------------  -----         \n",
      " 0   Date            30328 non-null  datetime64[ns]\n",
      " 1   Last Crawling   30328 non-null  datetime64[ns]\n",
      " 2   SKU Name        30328 non-null  object        \n",
      " 3   Product Name    30328 non-null  object        \n",
      " 4   Url Product     30328 non-null  object        \n",
      " 5   Seller          30328 non-null  object        \n",
      " 6   Merchant        30328 non-null  object        \n",
      " 7   Stock           30328 non-null  object        \n",
      " 8   Item Condition  30328 non-null  object        \n",
      " 9   Filter          30328 non-null  object        \n",
      " 10  Flag            30328 non-null  object        \n",
      " 11  Bottom Price    30328 non-null  int64         \n",
      " 12  Original Price  30328 non-null  object        \n",
      " 13  Discount        30328 non-null  object        \n",
      " 14  Selling Price   30328 non-null  int64         \n",
      " 15  Discrepancy     30328 non-null  float64       \n",
      " 16  Sales Quantity  30328 non-null  int64         \n",
      " 17  Sales Revenue   30328 non-null  int64         \n",
      "dtypes: datetime64[ns](2), float64(1), int64(4), object(11)\n",
      "memory usage: 4.4+ MB\n"
     ]
    }
   ],
   "source": [
    "df_tokopedia.info()"
   ]
  },
  {
   "cell_type": "code",
   "execution_count": 10,
   "id": "0b4ccc05",
   "metadata": {},
   "outputs": [
    {
     "data": {
      "application/vnd.microsoft.datawrangler.viewer.v0+json": {
       "columns": [
        {
         "name": "index",
         "rawType": "object",
         "type": "string"
        },
        {
         "name": "Date",
         "rawType": "object",
         "type": "unknown"
        },
        {
         "name": "Last Crawling",
         "rawType": "object",
         "type": "unknown"
        },
        {
         "name": "SKU Name",
         "rawType": "object",
         "type": "unknown"
        },
        {
         "name": "Product Name",
         "rawType": "object",
         "type": "unknown"
        },
        {
         "name": "Url Product",
         "rawType": "object",
         "type": "unknown"
        },
        {
         "name": "Seller",
         "rawType": "object",
         "type": "unknown"
        },
        {
         "name": "Merchant",
         "rawType": "object",
         "type": "unknown"
        },
        {
         "name": "Stock",
         "rawType": "object",
         "type": "unknown"
        },
        {
         "name": "Item Condition",
         "rawType": "object",
         "type": "unknown"
        },
        {
         "name": "Filter",
         "rawType": "object",
         "type": "unknown"
        },
        {
         "name": "Flag",
         "rawType": "object",
         "type": "unknown"
        },
        {
         "name": "Bottom Price",
         "rawType": "float64",
         "type": "float"
        },
        {
         "name": "Original Price",
         "rawType": "float64",
         "type": "float"
        },
        {
         "name": "Discount",
         "rawType": "float64",
         "type": "float"
        },
        {
         "name": "Selling Price",
         "rawType": "float64",
         "type": "float"
        },
        {
         "name": "Discrepancy",
         "rawType": "float64",
         "type": "float"
        },
        {
         "name": "Sales Quantity",
         "rawType": "float64",
         "type": "float"
        },
        {
         "name": "Sales Revenue",
         "rawType": "float64",
         "type": "float"
        }
       ],
       "ref": "49d4a576-0354-4b9a-bda5-232c16c2590e",
       "rows": [
        [
         "count",
         "30328",
         "30328",
         "30328",
         "30328",
         "30328",
         "30328",
         "30328",
         "30328",
         "30328",
         "30328",
         "30328",
         "30328.0",
         "30328.0",
         "30328.0",
         "30328.0",
         "30328.0",
         "30328.0",
         "30328.0"
        ],
        [
         "unique",
         null,
         null,
         "1",
         "15818",
         "30328",
         "7636",
         "1",
         "2",
         "1",
         "3",
         "2",
         null,
         "3118.0",
         "27.0",
         null,
         null,
         null,
         null
        ],
        [
         "top",
         null,
         null,
         "TL WR840N",
         "TP-LINK TL-WR840N 300Mbps Wireless Router TP LINK",
         "https://tokopedia.com/plum-stores/router-tp-link-wifi-wireless-300mbps-tl-wr840n",
         "Dexxter",
         "tokopedia",
         "In Stock",
         "baru",
         "Above",
         "Please Check",
         null,
         "209300.0",
         "0.0",
         null,
         null,
         null,
         null
        ],
        [
         "freq",
         null,
         null,
         "30328",
         "285",
         "1",
         "108",
         "30328",
         "30324",
         "30328",
         "29878",
         "30009",
         null,
         "557.0",
         "30289.0",
         null,
         null,
         null,
         null
        ],
        [
         "mean",
         "2022-09-24 08:34:30.166183168",
         "2022-09-24 08:34:30.166183168",
         null,
         null,
         null,
         null,
         null,
         null,
         null,
         null,
         null,
         "155000.0",
         null,
         null,
         "269548.9206014244",
         "0.01728506961309038",
         "7.322408335531522",
         "1152877.4373516222"
        ],
        [
         "min",
         "2022-09-20 00:00:00",
         "2022-09-20 00:00:00",
         null,
         null,
         null,
         null,
         null,
         null,
         null,
         null,
         null,
         "155000.0",
         null,
         null,
         "25000.0",
         "0.0",
         "0.0",
         "0.0"
        ],
        [
         "25%",
         "2022-09-20 00:00:00",
         "2022-09-20 00:00:00",
         null,
         null,
         null,
         null,
         null,
         null,
         null,
         null,
         null,
         "155000.0",
         null,
         null,
         "216000.0",
         "0.0139354838709677",
         "0.0",
         "0.0"
        ],
        [
         "50%",
         "2022-09-20 00:00:00",
         "2022-09-20 00:00:00",
         null,
         null,
         null,
         null,
         null,
         null,
         null,
         null,
         null,
         "155000.0",
         null,
         null,
         "244000.0",
         "0.0157419354838709",
         "0.0",
         "0.0"
        ],
        [
         "75%",
         "2022-09-29 00:00:00",
         "2022-09-29 00:00:00",
         null,
         null,
         null,
         null,
         null,
         null,
         null,
         null,
         null,
         "155000.0",
         null,
         null,
         "291500.0",
         "0.0188064516129032",
         "0.0",
         "0.0"
        ],
        [
         "max",
         "2022-10-22 00:00:00",
         "2022-10-22 00:00:00",
         null,
         null,
         null,
         null,
         null,
         null,
         null,
         null,
         null,
         "155000.0",
         null,
         null,
         "26164600.0",
         "1.68803870967741",
         "33740.0",
         "5229700000.0"
        ],
        [
         "std",
         null,
         null,
         null,
         null,
         null,
         null,
         null,
         null,
         null,
         null,
         null,
         "0.0",
         null,
         null,
         "244050.32417332724",
         "0.015827390208454764",
         "280.82456110145625",
         "43613915.87436943"
        ]
       ],
       "shape": {
        "columns": 18,
        "rows": 11
       }
      },
      "text/html": [
       "<div>\n",
       "<style scoped>\n",
       "    .dataframe tbody tr th:only-of-type {\n",
       "        vertical-align: middle;\n",
       "    }\n",
       "\n",
       "    .dataframe tbody tr th {\n",
       "        vertical-align: top;\n",
       "    }\n",
       "\n",
       "    .dataframe thead th {\n",
       "        text-align: right;\n",
       "    }\n",
       "</style>\n",
       "<table border=\"1\" class=\"dataframe\">\n",
       "  <thead>\n",
       "    <tr style=\"text-align: right;\">\n",
       "      <th></th>\n",
       "      <th>Date</th>\n",
       "      <th>Last Crawling</th>\n",
       "      <th>SKU Name</th>\n",
       "      <th>Product Name</th>\n",
       "      <th>Url Product</th>\n",
       "      <th>Seller</th>\n",
       "      <th>Merchant</th>\n",
       "      <th>Stock</th>\n",
       "      <th>Item Condition</th>\n",
       "      <th>Filter</th>\n",
       "      <th>Flag</th>\n",
       "      <th>Bottom Price</th>\n",
       "      <th>Original Price</th>\n",
       "      <th>Discount</th>\n",
       "      <th>Selling Price</th>\n",
       "      <th>Discrepancy</th>\n",
       "      <th>Sales Quantity</th>\n",
       "      <th>Sales Revenue</th>\n",
       "    </tr>\n",
       "  </thead>\n",
       "  <tbody>\n",
       "    <tr>\n",
       "      <th>count</th>\n",
       "      <td>30328</td>\n",
       "      <td>30328</td>\n",
       "      <td>30328</td>\n",
       "      <td>30328</td>\n",
       "      <td>30328</td>\n",
       "      <td>30328</td>\n",
       "      <td>30328</td>\n",
       "      <td>30328</td>\n",
       "      <td>30328</td>\n",
       "      <td>30328</td>\n",
       "      <td>30328</td>\n",
       "      <td>30328.0</td>\n",
       "      <td>30328.0</td>\n",
       "      <td>30328.0</td>\n",
       "      <td>3.032800e+04</td>\n",
       "      <td>30328.000000</td>\n",
       "      <td>30328.000000</td>\n",
       "      <td>3.032800e+04</td>\n",
       "    </tr>\n",
       "    <tr>\n",
       "      <th>unique</th>\n",
       "      <td>NaN</td>\n",
       "      <td>NaN</td>\n",
       "      <td>1</td>\n",
       "      <td>15818</td>\n",
       "      <td>30328</td>\n",
       "      <td>7636</td>\n",
       "      <td>1</td>\n",
       "      <td>2</td>\n",
       "      <td>1</td>\n",
       "      <td>3</td>\n",
       "      <td>2</td>\n",
       "      <td>NaN</td>\n",
       "      <td>3118.0</td>\n",
       "      <td>27.0</td>\n",
       "      <td>NaN</td>\n",
       "      <td>NaN</td>\n",
       "      <td>NaN</td>\n",
       "      <td>NaN</td>\n",
       "    </tr>\n",
       "    <tr>\n",
       "      <th>top</th>\n",
       "      <td>NaN</td>\n",
       "      <td>NaN</td>\n",
       "      <td>TL WR840N</td>\n",
       "      <td>TP-LINK TL-WR840N 300Mbps Wireless Router TP LINK</td>\n",
       "      <td>https://tokopedia.com/plum-stores/router-tp-li...</td>\n",
       "      <td>Dexxter</td>\n",
       "      <td>tokopedia</td>\n",
       "      <td>In Stock</td>\n",
       "      <td>baru</td>\n",
       "      <td>Above</td>\n",
       "      <td>Please Check</td>\n",
       "      <td>NaN</td>\n",
       "      <td>209300.0</td>\n",
       "      <td>0.0</td>\n",
       "      <td>NaN</td>\n",
       "      <td>NaN</td>\n",
       "      <td>NaN</td>\n",
       "      <td>NaN</td>\n",
       "    </tr>\n",
       "    <tr>\n",
       "      <th>freq</th>\n",
       "      <td>NaN</td>\n",
       "      <td>NaN</td>\n",
       "      <td>30328</td>\n",
       "      <td>285</td>\n",
       "      <td>1</td>\n",
       "      <td>108</td>\n",
       "      <td>30328</td>\n",
       "      <td>30324</td>\n",
       "      <td>30328</td>\n",
       "      <td>29878</td>\n",
       "      <td>30009</td>\n",
       "      <td>NaN</td>\n",
       "      <td>557.0</td>\n",
       "      <td>30289.0</td>\n",
       "      <td>NaN</td>\n",
       "      <td>NaN</td>\n",
       "      <td>NaN</td>\n",
       "      <td>NaN</td>\n",
       "    </tr>\n",
       "    <tr>\n",
       "      <th>mean</th>\n",
       "      <td>2022-09-24 08:34:30.166183168</td>\n",
       "      <td>2022-09-24 08:34:30.166183168</td>\n",
       "      <td>NaN</td>\n",
       "      <td>NaN</td>\n",
       "      <td>NaN</td>\n",
       "      <td>NaN</td>\n",
       "      <td>NaN</td>\n",
       "      <td>NaN</td>\n",
       "      <td>NaN</td>\n",
       "      <td>NaN</td>\n",
       "      <td>NaN</td>\n",
       "      <td>155000.0</td>\n",
       "      <td>NaN</td>\n",
       "      <td>NaN</td>\n",
       "      <td>2.695489e+05</td>\n",
       "      <td>0.017285</td>\n",
       "      <td>7.322408</td>\n",
       "      <td>1.152877e+06</td>\n",
       "    </tr>\n",
       "    <tr>\n",
       "      <th>min</th>\n",
       "      <td>2022-09-20 00:00:00</td>\n",
       "      <td>2022-09-20 00:00:00</td>\n",
       "      <td>NaN</td>\n",
       "      <td>NaN</td>\n",
       "      <td>NaN</td>\n",
       "      <td>NaN</td>\n",
       "      <td>NaN</td>\n",
       "      <td>NaN</td>\n",
       "      <td>NaN</td>\n",
       "      <td>NaN</td>\n",
       "      <td>NaN</td>\n",
       "      <td>155000.0</td>\n",
       "      <td>NaN</td>\n",
       "      <td>NaN</td>\n",
       "      <td>2.500000e+04</td>\n",
       "      <td>0.000000</td>\n",
       "      <td>0.000000</td>\n",
       "      <td>0.000000e+00</td>\n",
       "    </tr>\n",
       "    <tr>\n",
       "      <th>25%</th>\n",
       "      <td>2022-09-20 00:00:00</td>\n",
       "      <td>2022-09-20 00:00:00</td>\n",
       "      <td>NaN</td>\n",
       "      <td>NaN</td>\n",
       "      <td>NaN</td>\n",
       "      <td>NaN</td>\n",
       "      <td>NaN</td>\n",
       "      <td>NaN</td>\n",
       "      <td>NaN</td>\n",
       "      <td>NaN</td>\n",
       "      <td>NaN</td>\n",
       "      <td>155000.0</td>\n",
       "      <td>NaN</td>\n",
       "      <td>NaN</td>\n",
       "      <td>2.160000e+05</td>\n",
       "      <td>0.013935</td>\n",
       "      <td>0.000000</td>\n",
       "      <td>0.000000e+00</td>\n",
       "    </tr>\n",
       "    <tr>\n",
       "      <th>50%</th>\n",
       "      <td>2022-09-20 00:00:00</td>\n",
       "      <td>2022-09-20 00:00:00</td>\n",
       "      <td>NaN</td>\n",
       "      <td>NaN</td>\n",
       "      <td>NaN</td>\n",
       "      <td>NaN</td>\n",
       "      <td>NaN</td>\n",
       "      <td>NaN</td>\n",
       "      <td>NaN</td>\n",
       "      <td>NaN</td>\n",
       "      <td>NaN</td>\n",
       "      <td>155000.0</td>\n",
       "      <td>NaN</td>\n",
       "      <td>NaN</td>\n",
       "      <td>2.440000e+05</td>\n",
       "      <td>0.015742</td>\n",
       "      <td>0.000000</td>\n",
       "      <td>0.000000e+00</td>\n",
       "    </tr>\n",
       "    <tr>\n",
       "      <th>75%</th>\n",
       "      <td>2022-09-29 00:00:00</td>\n",
       "      <td>2022-09-29 00:00:00</td>\n",
       "      <td>NaN</td>\n",
       "      <td>NaN</td>\n",
       "      <td>NaN</td>\n",
       "      <td>NaN</td>\n",
       "      <td>NaN</td>\n",
       "      <td>NaN</td>\n",
       "      <td>NaN</td>\n",
       "      <td>NaN</td>\n",
       "      <td>NaN</td>\n",
       "      <td>155000.0</td>\n",
       "      <td>NaN</td>\n",
       "      <td>NaN</td>\n",
       "      <td>2.915000e+05</td>\n",
       "      <td>0.018806</td>\n",
       "      <td>0.000000</td>\n",
       "      <td>0.000000e+00</td>\n",
       "    </tr>\n",
       "    <tr>\n",
       "      <th>max</th>\n",
       "      <td>2022-10-22 00:00:00</td>\n",
       "      <td>2022-10-22 00:00:00</td>\n",
       "      <td>NaN</td>\n",
       "      <td>NaN</td>\n",
       "      <td>NaN</td>\n",
       "      <td>NaN</td>\n",
       "      <td>NaN</td>\n",
       "      <td>NaN</td>\n",
       "      <td>NaN</td>\n",
       "      <td>NaN</td>\n",
       "      <td>NaN</td>\n",
       "      <td>155000.0</td>\n",
       "      <td>NaN</td>\n",
       "      <td>NaN</td>\n",
       "      <td>2.616460e+07</td>\n",
       "      <td>1.688039</td>\n",
       "      <td>33740.000000</td>\n",
       "      <td>5.229700e+09</td>\n",
       "    </tr>\n",
       "    <tr>\n",
       "      <th>std</th>\n",
       "      <td>NaN</td>\n",
       "      <td>NaN</td>\n",
       "      <td>NaN</td>\n",
       "      <td>NaN</td>\n",
       "      <td>NaN</td>\n",
       "      <td>NaN</td>\n",
       "      <td>NaN</td>\n",
       "      <td>NaN</td>\n",
       "      <td>NaN</td>\n",
       "      <td>NaN</td>\n",
       "      <td>NaN</td>\n",
       "      <td>0.0</td>\n",
       "      <td>NaN</td>\n",
       "      <td>NaN</td>\n",
       "      <td>2.440503e+05</td>\n",
       "      <td>0.015827</td>\n",
       "      <td>280.824561</td>\n",
       "      <td>4.361392e+07</td>\n",
       "    </tr>\n",
       "  </tbody>\n",
       "</table>\n",
       "</div>"
      ],
      "text/plain": [
       "                                 Date                  Last Crawling  \\\n",
       "count                           30328                          30328   \n",
       "unique                            NaN                            NaN   \n",
       "top                               NaN                            NaN   \n",
       "freq                              NaN                            NaN   \n",
       "mean    2022-09-24 08:34:30.166183168  2022-09-24 08:34:30.166183168   \n",
       "min               2022-09-20 00:00:00            2022-09-20 00:00:00   \n",
       "25%               2022-09-20 00:00:00            2022-09-20 00:00:00   \n",
       "50%               2022-09-20 00:00:00            2022-09-20 00:00:00   \n",
       "75%               2022-09-29 00:00:00            2022-09-29 00:00:00   \n",
       "max               2022-10-22 00:00:00            2022-10-22 00:00:00   \n",
       "std                               NaN                            NaN   \n",
       "\n",
       "         SKU Name                                       Product Name  \\\n",
       "count       30328                                              30328   \n",
       "unique          1                                              15818   \n",
       "top     TL WR840N  TP-LINK TL-WR840N 300Mbps Wireless Router TP LINK   \n",
       "freq        30328                                                285   \n",
       "mean          NaN                                                NaN   \n",
       "min           NaN                                                NaN   \n",
       "25%           NaN                                                NaN   \n",
       "50%           NaN                                                NaN   \n",
       "75%           NaN                                                NaN   \n",
       "max           NaN                                                NaN   \n",
       "std           NaN                                                NaN   \n",
       "\n",
       "                                              Url Product   Seller   Merchant  \\\n",
       "count                                               30328    30328      30328   \n",
       "unique                                              30328     7636          1   \n",
       "top     https://tokopedia.com/plum-stores/router-tp-li...  Dexxter  tokopedia   \n",
       "freq                                                    1      108      30328   \n",
       "mean                                                  NaN      NaN        NaN   \n",
       "min                                                   NaN      NaN        NaN   \n",
       "25%                                                   NaN      NaN        NaN   \n",
       "50%                                                   NaN      NaN        NaN   \n",
       "75%                                                   NaN      NaN        NaN   \n",
       "max                                                   NaN      NaN        NaN   \n",
       "std                                                   NaN      NaN        NaN   \n",
       "\n",
       "           Stock Item Condition Filter          Flag  Bottom Price  \\\n",
       "count      30328          30328  30328         30328       30328.0   \n",
       "unique         2              1      3             2           NaN   \n",
       "top     In Stock           baru  Above  Please Check           NaN   \n",
       "freq       30324          30328  29878         30009           NaN   \n",
       "mean         NaN            NaN    NaN           NaN      155000.0   \n",
       "min          NaN            NaN    NaN           NaN      155000.0   \n",
       "25%          NaN            NaN    NaN           NaN      155000.0   \n",
       "50%          NaN            NaN    NaN           NaN      155000.0   \n",
       "75%          NaN            NaN    NaN           NaN      155000.0   \n",
       "max          NaN            NaN    NaN           NaN      155000.0   \n",
       "std          NaN            NaN    NaN           NaN           0.0   \n",
       "\n",
       "        Original Price  Discount  Selling Price   Discrepancy  Sales Quantity  \\\n",
       "count          30328.0   30328.0   3.032800e+04  30328.000000    30328.000000   \n",
       "unique          3118.0      27.0            NaN           NaN             NaN   \n",
       "top           209300.0       0.0            NaN           NaN             NaN   \n",
       "freq             557.0   30289.0            NaN           NaN             NaN   \n",
       "mean               NaN       NaN   2.695489e+05      0.017285        7.322408   \n",
       "min                NaN       NaN   2.500000e+04      0.000000        0.000000   \n",
       "25%                NaN       NaN   2.160000e+05      0.013935        0.000000   \n",
       "50%                NaN       NaN   2.440000e+05      0.015742        0.000000   \n",
       "75%                NaN       NaN   2.915000e+05      0.018806        0.000000   \n",
       "max                NaN       NaN   2.616460e+07      1.688039    33740.000000   \n",
       "std                NaN       NaN   2.440503e+05      0.015827      280.824561   \n",
       "\n",
       "        Sales Revenue  \n",
       "count    3.032800e+04  \n",
       "unique            NaN  \n",
       "top               NaN  \n",
       "freq              NaN  \n",
       "mean     1.152877e+06  \n",
       "min      0.000000e+00  \n",
       "25%      0.000000e+00  \n",
       "50%      0.000000e+00  \n",
       "75%      0.000000e+00  \n",
       "max      5.229700e+09  \n",
       "std      4.361392e+07  "
      ]
     },
     "execution_count": 10,
     "metadata": {},
     "output_type": "execute_result"
    }
   ],
   "source": [
    "df_tokopedia.describe(include=\"all\")"
   ]
  },
  {
   "cell_type": "code",
   "execution_count": 11,
   "id": "8381622b",
   "metadata": {},
   "outputs": [
    {
     "data": {
      "application/vnd.microsoft.datawrangler.viewer.v0+json": {
       "columns": [
        {
         "name": "index",
         "rawType": "object",
         "type": "string"
        },
        {
         "name": "0",
         "rawType": "int64",
         "type": "integer"
        }
       ],
       "ref": "076fccb6-ce77-4b5e-b946-e20fd7319f6f",
       "rows": [],
       "shape": {
        "columns": 1,
        "rows": 0
       }
      },
      "text/plain": [
       "Series([], dtype: int64)"
      ]
     },
     "execution_count": 11,
     "metadata": {},
     "output_type": "execute_result"
    }
   ],
   "source": [
    "missing_value = df_tokopedia.isnull().sum()\n",
    "missing_value[missing_value > 0]"
   ]
  },
  {
   "cell_type": "code",
   "execution_count": 12,
   "id": "1acae5a5",
   "metadata": {},
   "outputs": [
    {
     "data": {
      "image/png": "[encoded data removed]",
      "text/plain": [
       "<Figure size 1000x600 with 1 Axes>"
      ]
     },
     "metadata": {},
     "output_type": "display_data"
    },
    {
     "data": {
      "image/png": "[encoded data removed]",
      "text/plain": [
       "<Figure size 1000x600 with 1 Axes>"
      ]
     },
     "metadata": {},
     "output_type": "display_data"
    },
    {
     "data": {
      "image/png": "[encoded data removed]",
      "text/plain": [
       "<Figure size 1000x600 with 1 Axes>"
      ]
     },
     "metadata": {},
     "output_type": "display_data"
    },
    {
     "data": {
      "image/png": "[encoded data removed]",
      "text/plain": [
       "<Figure size 1000x600 with 1 Axes>"
      ]
     },
     "metadata": {},
     "output_type": "display_data"
    },
    {
     "data": {
      "image/png": "[encoded data removed]",
      "text/plain": [
       "<Figure size 1000x600 with 1 Axes>"
      ]
     },
     "metadata": {},
     "output_type": "display_data"
    }
   ],
   "source": [
    "# boxlot untuk columns numerik \n",
    "numeric_cols = df_tokopedia.select_dtypes(include=['number']).columns\n",
    "\n",
    "\n",
    "for feature in numeric_cols:\n",
    " plt.figure(figsize=(10, 6))\n",
    " sns.boxplot(y = df_tokopedia[feature])\n",
    " plt.title(f\"Boxplot of {feature}\")\n",
    " plt.show()"
   ]
  },
  {
   "cell_type": "markdown",
   "id": "2d90db81",
   "metadata": {},
   "source": [
    "# Menghapus outlier"
   ]
  },
  {
   "cell_type": "markdown",
   "id": "d52feb47",
   "metadata": {},
   "source": [
    "kita boxplot dan visualisasikan ulang"
   ]
  },
  {
   "cell_type": "code",
   "execution_count": 13,
   "id": "493fd412",
   "metadata": {},
   "outputs": [
    {
     "data": {
      "application/vnd.microsoft.datawrangler.viewer.v0+json": {
       "columns": [
        {
         "name": "index",
         "rawType": "object",
         "type": "string"
        },
        {
         "name": "Date",
         "rawType": "object",
         "type": "unknown"
        },
        {
         "name": "Last Crawling",
         "rawType": "object",
         "type": "unknown"
        },
        {
         "name": "Bottom Price",
         "rawType": "float64",
         "type": "float"
        },
        {
         "name": "Selling Price",
         "rawType": "float64",
         "type": "float"
        },
        {
         "name": "Discrepancy",
         "rawType": "float64",
         "type": "float"
        },
        {
         "name": "Sales Quantity",
         "rawType": "float64",
         "type": "float"
        },
        {
         "name": "Sales Revenue",
         "rawType": "float64",
         "type": "float"
        }
       ],
       "ref": "fec45510-a890-48ab-a37f-321ab6acbd13",
       "rows": [
        [
         "count",
         "30328",
         "30328",
         "30328.0",
         "30328.0",
         "30328.0",
         "30328.0",
         "30328.0"
        ],
        [
         "mean",
         "2022-09-24 08:34:30.166183168",
         "2022-09-24 08:34:30.166183168",
         "155000.0",
         "269548.9206014244",
         "0.01728506961309038",
         "7.322408335531522",
         "1152877.4373516222"
        ],
        [
         "min",
         "2022-09-20 00:00:00",
         "2022-09-20 00:00:00",
         "155000.0",
         "25000.0",
         "0.0",
         "0.0",
         "0.0"
        ],
        [
         "25%",
         "2022-09-20 00:00:00",
         "2022-09-20 00:00:00",
         "155000.0",
         "216000.0",
         "0.0139354838709677",
         "0.0",
         "0.0"
        ],
        [
         "50%",
         "2022-09-20 00:00:00",
         "2022-09-20 00:00:00",
         "155000.0",
         "244000.0",
         "0.0157419354838709",
         "0.0",
         "0.0"
        ],
        [
         "75%",
         "2022-09-29 00:00:00",
         "2022-09-29 00:00:00",
         "155000.0",
         "291500.0",
         "0.0188064516129032",
         "0.0",
         "0.0"
        ],
        [
         "max",
         "2022-10-22 00:00:00",
         "2022-10-22 00:00:00",
         "155000.0",
         "26164600.0",
         "1.68803870967741",
         "33740.0",
         "5229700000.0"
        ],
        [
         "std",
         null,
         null,
         "0.0",
         "244050.32417332724",
         "0.015827390208454764",
         "280.82456110145625",
         "43613915.87436943"
        ]
       ],
       "shape": {
        "columns": 7,
        "rows": 8
       }
      },
      "text/html": [
       "<div>\n",
       "<style scoped>\n",
       "    .dataframe tbody tr th:only-of-type {\n",
       "        vertical-align: middle;\n",
       "    }\n",
       "\n",
       "    .dataframe tbody tr th {\n",
       "        vertical-align: top;\n",
       "    }\n",
       "\n",
       "    .dataframe thead th {\n",
       "        text-align: right;\n",
       "    }\n",
       "</style>\n",
       "<table border=\"1\" class=\"dataframe\">\n",
       "  <thead>\n",
       "    <tr style=\"text-align: right;\">\n",
       "      <th></th>\n",
       "      <th>Date</th>\n",
       "      <th>Last Crawling</th>\n",
       "      <th>Bottom Price</th>\n",
       "      <th>Selling Price</th>\n",
       "      <th>Discrepancy</th>\n",
       "      <th>Sales Quantity</th>\n",
       "      <th>Sales Revenue</th>\n",
       "    </tr>\n",
       "  </thead>\n",
       "  <tbody>\n",
       "    <tr>\n",
       "      <th>count</th>\n",
       "      <td>30328</td>\n",
       "      <td>30328</td>\n",
       "      <td>30328.0</td>\n",
       "      <td>3.032800e+04</td>\n",
       "      <td>30328.000000</td>\n",
       "      <td>30328.000000</td>\n",
       "      <td>3.032800e+04</td>\n",
       "    </tr>\n",
       "    <tr>\n",
       "      <th>mean</th>\n",
       "      <td>2022-09-24 08:34:30.166183168</td>\n",
       "      <td>2022-09-24 08:34:30.166183168</td>\n",
       "      <td>155000.0</td>\n",
       "      <td>2.695489e+05</td>\n",
       "      <td>0.017285</td>\n",
       "      <td>7.322408</td>\n",
       "      <td>1.152877e+06</td>\n",
       "    </tr>\n",
       "    <tr>\n",
       "      <th>min</th>\n",
       "      <td>2022-09-20 00:00:00</td>\n",
       "      <td>2022-09-20 00:00:00</td>\n",
       "      <td>155000.0</td>\n",
       "      <td>2.500000e+04</td>\n",
       "      <td>0.000000</td>\n",
       "      <td>0.000000</td>\n",
       "      <td>0.000000e+00</td>\n",
       "    </tr>\n",
       "    <tr>\n",
       "      <th>25%</th>\n",
       "      <td>2022-09-20 00:00:00</td>\n",
       "      <td>2022-09-20 00:00:00</td>\n",
       "      <td>155000.0</td>\n",
       "      <td>2.160000e+05</td>\n",
       "      <td>0.013935</td>\n",
       "      <td>0.000000</td>\n",
       "      <td>0.000000e+00</td>\n",
       "    </tr>\n",
       "    <tr>\n",
       "      <th>50%</th>\n",
       "      <td>2022-09-20 00:00:00</td>\n",
       "      <td>2022-09-20 00:00:00</td>\n",
       "      <td>155000.0</td>\n",
       "      <td>2.440000e+05</td>\n",
       "      <td>0.015742</td>\n",
       "      <td>0.000000</td>\n",
       "      <td>0.000000e+00</td>\n",
       "    </tr>\n",
       "    <tr>\n",
       "      <th>75%</th>\n",
       "      <td>2022-09-29 00:00:00</td>\n",
       "      <td>2022-09-29 00:00:00</td>\n",
       "      <td>155000.0</td>\n",
       "      <td>2.915000e+05</td>\n",
       "      <td>0.018806</td>\n",
       "      <td>0.000000</td>\n",
       "      <td>0.000000e+00</td>\n",
       "    </tr>\n",
       "    <tr>\n",
       "      <th>max</th>\n",
       "      <td>2022-10-22 00:00:00</td>\n",
       "      <td>2022-10-22 00:00:00</td>\n",
       "      <td>155000.0</td>\n",
       "      <td>2.616460e+07</td>\n",
       "      <td>1.688039</td>\n",
       "      <td>33740.000000</td>\n",
       "      <td>5.229700e+09</td>\n",
       "    </tr>\n",
       "    <tr>\n",
       "      <th>std</th>\n",
       "      <td>NaN</td>\n",
       "      <td>NaN</td>\n",
       "      <td>0.0</td>\n",
       "      <td>2.440503e+05</td>\n",
       "      <td>0.015827</td>\n",
       "      <td>280.824561</td>\n",
       "      <td>4.361392e+07</td>\n",
       "    </tr>\n",
       "  </tbody>\n",
       "</table>\n",
       "</div>"
      ],
      "text/plain": [
       "                                Date                  Last Crawling  \\\n",
       "count                          30328                          30328   \n",
       "mean   2022-09-24 08:34:30.166183168  2022-09-24 08:34:30.166183168   \n",
       "min              2022-09-20 00:00:00            2022-09-20 00:00:00   \n",
       "25%              2022-09-20 00:00:00            2022-09-20 00:00:00   \n",
       "50%              2022-09-20 00:00:00            2022-09-20 00:00:00   \n",
       "75%              2022-09-29 00:00:00            2022-09-29 00:00:00   \n",
       "max              2022-10-22 00:00:00            2022-10-22 00:00:00   \n",
       "std                              NaN                            NaN   \n",
       "\n",
       "       Bottom Price  Selling Price   Discrepancy  Sales Quantity  \\\n",
       "count       30328.0   3.032800e+04  30328.000000    30328.000000   \n",
       "mean       155000.0   2.695489e+05      0.017285        7.322408   \n",
       "min        155000.0   2.500000e+04      0.000000        0.000000   \n",
       "25%        155000.0   2.160000e+05      0.013935        0.000000   \n",
       "50%        155000.0   2.440000e+05      0.015742        0.000000   \n",
       "75%        155000.0   2.915000e+05      0.018806        0.000000   \n",
       "max        155000.0   2.616460e+07      1.688039    33740.000000   \n",
       "std             0.0   2.440503e+05      0.015827      280.824561   \n",
       "\n",
       "       Sales Revenue  \n",
       "count   3.032800e+04  \n",
       "mean    1.152877e+06  \n",
       "min     0.000000e+00  \n",
       "25%     0.000000e+00  \n",
       "50%     0.000000e+00  \n",
       "75%     0.000000e+00  \n",
       "max     5.229700e+09  \n",
       "std     4.361392e+07  "
      ]
     },
     "execution_count": 13,
     "metadata": {},
     "output_type": "execute_result"
    }
   ],
   "source": [
    "df_tokopedia.describe()"
   ]
  },
  {
   "cell_type": "markdown",
   "id": "d2705147",
   "metadata": {},
   "source": [
    "kita akan mengatasi outlier dengan menggantinya ke nilai median"
   ]
  },
  {
   "cell_type": "code",
   "execution_count": 14,
   "id": "ff30420e",
   "metadata": {},
   "outputs": [
    {
     "name": "stderr",
     "output_type": "stream",
     "text": [
      "C:\\Users\\ghatfan\\AppData\\Local\\Temp\\ipykernel_21112\\127782118.py:13: SettingWithCopyWarning: \n",
      "A value is trying to be set on a copy of a slice from a DataFrame.\n",
      "Try using .loc[row_indexer,col_indexer] = value instead\n",
      "\n",
      "See the caveats in the documentation: https://pandas.pydata.org/pandas-docs/stable/user_guide/indexing.html#returning-a-view-versus-a-copy\n",
      "  df_tokopedia[col] = np.where(\n",
      "C:\\Users\\ghatfan\\AppData\\Local\\Temp\\ipykernel_21112\\127782118.py:13: SettingWithCopyWarning: \n",
      "A value is trying to be set on a copy of a slice from a DataFrame.\n",
      "Try using .loc[row_indexer,col_indexer] = value instead\n",
      "\n",
      "See the caveats in the documentation: https://pandas.pydata.org/pandas-docs/stable/user_guide/indexing.html#returning-a-view-versus-a-copy\n",
      "  df_tokopedia[col] = np.where(\n",
      "C:\\Users\\ghatfan\\AppData\\Local\\Temp\\ipykernel_21112\\127782118.py:13: SettingWithCopyWarning: \n",
      "A value is trying to be set on a copy of a slice from a DataFrame.\n",
      "Try using .loc[row_indexer,col_indexer] = value instead\n",
      "\n",
      "See the caveats in the documentation: https://pandas.pydata.org/pandas-docs/stable/user_guide/indexing.html#returning-a-view-versus-a-copy\n",
      "  df_tokopedia[col] = np.where(\n",
      "C:\\Users\\ghatfan\\AppData\\Local\\Temp\\ipykernel_21112\\127782118.py:13: SettingWithCopyWarning: \n",
      "A value is trying to be set on a copy of a slice from a DataFrame.\n",
      "Try using .loc[row_indexer,col_indexer] = value instead\n",
      "\n",
      "See the caveats in the documentation: https://pandas.pydata.org/pandas-docs/stable/user_guide/indexing.html#returning-a-view-versus-a-copy\n",
      "  df_tokopedia[col] = np.where(\n",
      "C:\\Users\\ghatfan\\AppData\\Local\\Temp\\ipykernel_21112\\127782118.py:13: SettingWithCopyWarning: \n",
      "A value is trying to be set on a copy of a slice from a DataFrame.\n",
      "Try using .loc[row_indexer,col_indexer] = value instead\n",
      "\n",
      "See the caveats in the documentation: https://pandas.pydata.org/pandas-docs/stable/user_guide/indexing.html#returning-a-view-versus-a-copy\n",
      "  df_tokopedia[col] = np.where(\n"
     ]
    }
   ],
   "source": [
    "Q1 = df_tokopedia[numeric_cols].quantile(0.25)\n",
    "Q3 = df_tokopedia[numeric_cols].quantile(0.75)\n",
    "IQR = Q3 - Q1\n",
    "\n",
    "# tentukan batas bawah dan atas\n",
    "lower_bound = Q1 - 1.5 * IQR\n",
    "upper_bound = Q3 + 1.5 * IQR\n",
    "\n",
    "for col in numeric_cols:\n",
    " median_val = df_tokopedia[col].median()\n",
    "\n",
    " # mengganti df_tokopedia dengan median\n",
    " df_tokopedia[col] = np.where(\n",
    "  (df_tokopedia[col] < lower_bound[col]) | (df_tokopedia[col] > upper_bound[col]),\n",
    "  median_val,  \n",
    "  df_tokopedia[col]\n",
    " )"
   ]
  },
  {
   "cell_type": "code",
   "execution_count": 15,
   "id": "d317f492",
   "metadata": {},
   "outputs": [
    {
     "data": {
      "application/vnd.microsoft.datawrangler.viewer.v0+json": {
       "columns": [
        {
         "name": "index",
         "rawType": "object",
         "type": "string"
        },
        {
         "name": "Date",
         "rawType": "object",
         "type": "unknown"
        },
        {
         "name": "Last Crawling",
         "rawType": "object",
         "type": "unknown"
        },
        {
         "name": "Bottom Price",
         "rawType": "float64",
         "type": "float"
        },
        {
         "name": "Selling Price",
         "rawType": "float64",
         "type": "float"
        },
        {
         "name": "Discrepancy",
         "rawType": "float64",
         "type": "float"
        },
        {
         "name": "Sales Quantity",
         "rawType": "float64",
         "type": "float"
        },
        {
         "name": "Sales Revenue",
         "rawType": "float64",
         "type": "float"
        }
       ],
       "ref": "669fc8d8-1569-42e4-96b0-eef1bd833737",
       "rows": [
        [
         "count",
         "30328",
         "30328",
         "30328.0",
         "30328.0",
         "30328.0",
         "30328.0",
         "30328.0"
        ],
        [
         "mean",
         "2022-09-24 08:34:30.166183168",
         "2022-09-24 08:34:30.166183168",
         "155000.0",
         "251643.73674492218",
         "0.01629547537886841",
         "0.0",
         "0.0"
        ],
        [
         "min",
         "2022-09-20 00:00:00",
         "2022-09-20 00:00:00",
         "155000.0",
         "125000.0",
         "0.00806451612903225",
         "0.0",
         "0.0"
        ],
        [
         "25%",
         "2022-09-20 00:00:00",
         "2022-09-20 00:00:00",
         "155000.0",
         "216000.0",
         "0.0139999999999999",
         "0.0",
         "0.0"
        ],
        [
         "50%",
         "2022-09-20 00:00:00",
         "2022-09-20 00:00:00",
         "155000.0",
         "244000.0",
         "0.0157419354838709",
         "0.0",
         "0.0"
        ],
        [
         "75%",
         "2022-09-29 00:00:00",
         "2022-09-29 00:00:00",
         "155000.0",
         "277500.0",
         "0.0179032258064516",
         "0.0",
         "0.0"
        ],
        [
         "max",
         "2022-10-22 00:00:00",
         "2022-10-22 00:00:00",
         "155000.0",
         "404500.0",
         "0.0260967741935483",
         "0.0",
         "0.0"
        ],
        [
         "std",
         null,
         null,
         "0.0",
         "52030.80055815906",
         "0.003295187936023068",
         "0.0",
         "0.0"
        ]
       ],
       "shape": {
        "columns": 7,
        "rows": 8
       }
      },
      "text/html": [
       "<div>\n",
       "<style scoped>\n",
       "    .dataframe tbody tr th:only-of-type {\n",
       "        vertical-align: middle;\n",
       "    }\n",
       "\n",
       "    .dataframe tbody tr th {\n",
       "        vertical-align: top;\n",
       "    }\n",
       "\n",
       "    .dataframe thead th {\n",
       "        text-align: right;\n",
       "    }\n",
       "</style>\n",
       "<table border=\"1\" class=\"dataframe\">\n",
       "  <thead>\n",
       "    <tr style=\"text-align: right;\">\n",
       "      <th></th>\n",
       "      <th>Date</th>\n",
       "      <th>Last Crawling</th>\n",
       "      <th>Bottom Price</th>\n",
       "      <th>Selling Price</th>\n",
       "      <th>Discrepancy</th>\n",
       "      <th>Sales Quantity</th>\n",
       "      <th>Sales Revenue</th>\n",
       "    </tr>\n",
       "  </thead>\n",
       "  <tbody>\n",
       "    <tr>\n",
       "      <th>count</th>\n",
       "      <td>30328</td>\n",
       "      <td>30328</td>\n",
       "      <td>30328.0</td>\n",
       "      <td>30328.000000</td>\n",
       "      <td>30328.000000</td>\n",
       "      <td>30328.0</td>\n",
       "      <td>30328.0</td>\n",
       "    </tr>\n",
       "    <tr>\n",
       "      <th>mean</th>\n",
       "      <td>2022-09-24 08:34:30.166183168</td>\n",
       "      <td>2022-09-24 08:34:30.166183168</td>\n",
       "      <td>155000.0</td>\n",
       "      <td>251643.736745</td>\n",
       "      <td>0.016295</td>\n",
       "      <td>0.0</td>\n",
       "      <td>0.0</td>\n",
       "    </tr>\n",
       "    <tr>\n",
       "      <th>min</th>\n",
       "      <td>2022-09-20 00:00:00</td>\n",
       "      <td>2022-09-20 00:00:00</td>\n",
       "      <td>155000.0</td>\n",
       "      <td>125000.000000</td>\n",
       "      <td>0.008065</td>\n",
       "      <td>0.0</td>\n",
       "      <td>0.0</td>\n",
       "    </tr>\n",
       "    <tr>\n",
       "      <th>25%</th>\n",
       "      <td>2022-09-20 00:00:00</td>\n",
       "      <td>2022-09-20 00:00:00</td>\n",
       "      <td>155000.0</td>\n",
       "      <td>216000.000000</td>\n",
       "      <td>0.014000</td>\n",
       "      <td>0.0</td>\n",
       "      <td>0.0</td>\n",
       "    </tr>\n",
       "    <tr>\n",
       "      <th>50%</th>\n",
       "      <td>2022-09-20 00:00:00</td>\n",
       "      <td>2022-09-20 00:00:00</td>\n",
       "      <td>155000.0</td>\n",
       "      <td>244000.000000</td>\n",
       "      <td>0.015742</td>\n",
       "      <td>0.0</td>\n",
       "      <td>0.0</td>\n",
       "    </tr>\n",
       "    <tr>\n",
       "      <th>75%</th>\n",
       "      <td>2022-09-29 00:00:00</td>\n",
       "      <td>2022-09-29 00:00:00</td>\n",
       "      <td>155000.0</td>\n",
       "      <td>277500.000000</td>\n",
       "      <td>0.017903</td>\n",
       "      <td>0.0</td>\n",
       "      <td>0.0</td>\n",
       "    </tr>\n",
       "    <tr>\n",
       "      <th>max</th>\n",
       "      <td>2022-10-22 00:00:00</td>\n",
       "      <td>2022-10-22 00:00:00</td>\n",
       "      <td>155000.0</td>\n",
       "      <td>404500.000000</td>\n",
       "      <td>0.026097</td>\n",
       "      <td>0.0</td>\n",
       "      <td>0.0</td>\n",
       "    </tr>\n",
       "    <tr>\n",
       "      <th>std</th>\n",
       "      <td>NaN</td>\n",
       "      <td>NaN</td>\n",
       "      <td>0.0</td>\n",
       "      <td>52030.800558</td>\n",
       "      <td>0.003295</td>\n",
       "      <td>0.0</td>\n",
       "      <td>0.0</td>\n",
       "    </tr>\n",
       "  </tbody>\n",
       "</table>\n",
       "</div>"
      ],
      "text/plain": [
       "                                Date                  Last Crawling  \\\n",
       "count                          30328                          30328   \n",
       "mean   2022-09-24 08:34:30.166183168  2022-09-24 08:34:30.166183168   \n",
       "min              2022-09-20 00:00:00            2022-09-20 00:00:00   \n",
       "25%              2022-09-20 00:00:00            2022-09-20 00:00:00   \n",
       "50%              2022-09-20 00:00:00            2022-09-20 00:00:00   \n",
       "75%              2022-09-29 00:00:00            2022-09-29 00:00:00   \n",
       "max              2022-10-22 00:00:00            2022-10-22 00:00:00   \n",
       "std                              NaN                            NaN   \n",
       "\n",
       "       Bottom Price  Selling Price   Discrepancy  Sales Quantity  \\\n",
       "count       30328.0   30328.000000  30328.000000         30328.0   \n",
       "mean       155000.0  251643.736745      0.016295             0.0   \n",
       "min        155000.0  125000.000000      0.008065             0.0   \n",
       "25%        155000.0  216000.000000      0.014000             0.0   \n",
       "50%        155000.0  244000.000000      0.015742             0.0   \n",
       "75%        155000.0  277500.000000      0.017903             0.0   \n",
       "max        155000.0  404500.000000      0.026097             0.0   \n",
       "std             0.0   52030.800558      0.003295             0.0   \n",
       "\n",
       "       Sales Revenue  \n",
       "count        30328.0  \n",
       "mean             0.0  \n",
       "min              0.0  \n",
       "25%              0.0  \n",
       "50%              0.0  \n",
       "75%              0.0  \n",
       "max              0.0  \n",
       "std              0.0  "
      ]
     },
     "execution_count": 15,
     "metadata": {},
     "output_type": "execute_result"
    }
   ],
   "source": [
    "df_tokopedia.describe()"
   ]
  },
  {
   "cell_type": "markdown",
   "id": "28499552",
   "metadata": {},
   "source": [
    "hapus kolom tanpa variasi"
   ]
  },
  {
   "cell_type": "code",
   "execution_count": 16,
   "id": "8b689af2",
   "metadata": {},
   "outputs": [
    {
     "name": "stderr",
     "output_type": "stream",
     "text": [
      "C:\\Users\\ghatfan\\AppData\\Local\\Temp\\ipykernel_21112\\1094000293.py:1: SettingWithCopyWarning: \n",
      "A value is trying to be set on a copy of a slice from a DataFrame\n",
      "\n",
      "See the caveats in the documentation: https://pandas.pydata.org/pandas-docs/stable/user_guide/indexing.html#returning-a-view-versus-a-copy\n",
      "  df_tokopedia.drop(columns=[\"Bottom Price\"], inplace=True)\n"
     ]
    }
   ],
   "source": [
    "df_tokopedia.drop(columns=[\"Bottom Price\"], inplace=True)"
   ]
  },
  {
   "cell_type": "markdown",
   "id": "a37a16ba",
   "metadata": {},
   "source": [
    "cek dan hapus missing value di date Date dan Last Crawling"
   ]
  },
  {
   "cell_type": "code",
   "execution_count": 17,
   "id": "30376ee0",
   "metadata": {},
   "outputs": [
    {
     "name": "stderr",
     "output_type": "stream",
     "text": [
      "C:\\Users\\ghatfan\\AppData\\Local\\Temp\\ipykernel_21112\\679591108.py:1: SettingWithCopyWarning: \n",
      "A value is trying to be set on a copy of a slice from a DataFrame\n",
      "\n",
      "See the caveats in the documentation: https://pandas.pydata.org/pandas-docs/stable/user_guide/indexing.html#returning-a-view-versus-a-copy\n",
      "  df_tokopedia.dropna(subset=['Date', 'Last Crawling'], inplace=True)\n"
     ]
    }
   ],
   "source": [
    "df_tokopedia.dropna(subset=['Date', 'Last Crawling'], inplace=True)"
   ]
  },
  {
   "cell_type": "markdown",
   "id": "722fd86a",
   "metadata": {},
   "source": [
    "Ganti nilai 0 di selling price dengan nilai kecil"
   ]
  },
  {
   "cell_type": "code",
   "execution_count": 18,
   "id": "0fbee26c",
   "metadata": {},
   "outputs": [
    {
     "name": "stderr",
     "output_type": "stream",
     "text": [
      "C:\\Users\\ghatfan\\AppData\\Local\\Temp\\ipykernel_21112\\676747317.py:1: SettingWithCopyWarning: \n",
      "A value is trying to be set on a copy of a slice from a DataFrame.\n",
      "Try using .loc[row_indexer,col_indexer] = value instead\n",
      "\n",
      "See the caveats in the documentation: https://pandas.pydata.org/pandas-docs/stable/user_guide/indexing.html#returning-a-view-versus-a-copy\n",
      "  df_tokopedia['Selling Price'] = df_tokopedia['Selling Price'].replace(0, 1e-8)\n"
     ]
    }
   ],
   "source": [
    "df_tokopedia['Selling Price'] = df_tokopedia['Selling Price'].replace(0, 1e-8)"
   ]
  },
  {
   "cell_type": "markdown",
   "id": "65b90629",
   "metadata": {},
   "source": [
    "Log dan transform untuk harga"
   ]
  },
  {
   "cell_type": "code",
   "execution_count": 19,
   "id": "43ac12ce",
   "metadata": {
    "vscode": {
     "languageId": "javascript"
    }
   },
   "outputs": [
    {
     "name": "stderr",
     "output_type": "stream",
     "text": [
      "C:\\Users\\ghatfan\\AppData\\Local\\Temp\\ipykernel_21112\\913034922.py:1: SettingWithCopyWarning: \n",
      "A value is trying to be set on a copy of a slice from a DataFrame.\n",
      "Try using .loc[row_indexer,col_indexer] = value instead\n",
      "\n",
      "See the caveats in the documentation: https://pandas.pydata.org/pandas-docs/stable/user_guide/indexing.html#returning-a-view-versus-a-copy\n",
      "  df_tokopedia['Selling_Price_Log'] = np.log(df_tokopedia['Selling Price'])\n"
     ]
    }
   ],
   "source": [
    "df_tokopedia['Selling_Price_Log'] = np.log(df_tokopedia['Selling Price'])"
   ]
  },
  {
   "cell_type": "markdown",
   "id": "5f2f7c2d",
   "metadata": {},
   "source": [
    "buat kolom dummy untuk produk yang terjual"
   ]
  },
  {
   "cell_type": "code",
   "execution_count": 20,
   "id": "a18a5f8b",
   "metadata": {},
   "outputs": [
    {
     "name": "stderr",
     "output_type": "stream",
     "text": [
      "C:\\Users\\ghatfan\\AppData\\Local\\Temp\\ipykernel_21112\\747352008.py:1: SettingWithCopyWarning: \n",
      "A value is trying to be set on a copy of a slice from a DataFrame.\n",
      "Try using .loc[row_indexer,col_indexer] = value instead\n",
      "\n",
      "See the caveats in the documentation: https://pandas.pydata.org/pandas-docs/stable/user_guide/indexing.html#returning-a-view-versus-a-copy\n",
      "  df_tokopedia['Is_Sold'] = (df_tokopedia['Sales Quantity'] > 0).astype(int)\n"
     ]
    }
   ],
   "source": [
    "df_tokopedia['Is_Sold'] = (df_tokopedia['Sales Quantity'] > 0).astype(int)"
   ]
  },
  {
   "cell_type": "code",
   "execution_count": 21,
   "id": "1a6ca5d0",
   "metadata": {},
   "outputs": [
    {
     "name": "stdout",
     "output_type": "stream",
     "text": [
      "                                Date                  Last Crawling  \\\n",
      "count                          30328                          30328   \n",
      "mean   2022-09-24 08:34:30.166183168  2022-09-24 08:34:30.166183168   \n",
      "min              2022-09-20 00:00:00            2022-09-20 00:00:00   \n",
      "25%              2022-09-20 00:00:00            2022-09-20 00:00:00   \n",
      "50%              2022-09-20 00:00:00            2022-09-20 00:00:00   \n",
      "75%              2022-09-29 00:00:00            2022-09-29 00:00:00   \n",
      "max              2022-10-22 00:00:00            2022-10-22 00:00:00   \n",
      "std                              NaN                            NaN   \n",
      "\n",
      "       Selling Price   Discrepancy  Sales Quantity  Sales Revenue  \\\n",
      "count   30328.000000  30328.000000         30328.0        30328.0   \n",
      "mean   251643.736745      0.016295             0.0            0.0   \n",
      "min    125000.000000      0.008065             0.0            0.0   \n",
      "25%    216000.000000      0.014000             0.0            0.0   \n",
      "50%    244000.000000      0.015742             0.0            0.0   \n",
      "75%    277500.000000      0.017903             0.0            0.0   \n",
      "max    404500.000000      0.026097             0.0            0.0   \n",
      "std     52030.800558      0.003295             0.0            0.0   \n",
      "\n",
      "       Selling_Price_Log  Is_Sold  \n",
      "count       30328.000000  30328.0  \n",
      "mean           12.415287      0.0  \n",
      "min            11.736069      0.0  \n",
      "25%            12.283034      0.0  \n",
      "50%            12.404924      0.0  \n",
      "75%            12.533576      0.0  \n",
      "max            12.910407      0.0  \n",
      "std             0.201070      0.0  \n"
     ]
    }
   ],
   "source": [
    "print(df_tokopedia.describe())"
   ]
  },
  {
   "cell_type": "markdown",
   "id": "dd86fdfb",
   "metadata": {},
   "source": [
    "# lanjut Exploratory"
   ]
  },
  {
   "cell_type": "code",
   "execution_count": 22,
   "id": "b46535a0",
   "metadata": {},
   "outputs": [
    {
     "data": {
      "application/vnd.microsoft.datawrangler.viewer.v0+json": {
       "columns": [
        {
         "name": "index",
         "rawType": "object",
         "type": "string"
        },
        {
         "name": "Date",
         "rawType": "object",
         "type": "unknown"
        },
        {
         "name": "Last Crawling",
         "rawType": "object",
         "type": "unknown"
        },
        {
         "name": "Selling Price",
         "rawType": "float64",
         "type": "float"
        },
        {
         "name": "Discrepancy",
         "rawType": "float64",
         "type": "float"
        },
        {
         "name": "Sales Quantity",
         "rawType": "float64",
         "type": "float"
        },
        {
         "name": "Sales Revenue",
         "rawType": "float64",
         "type": "float"
        },
        {
         "name": "Selling_Price_Log",
         "rawType": "float64",
         "type": "float"
        },
        {
         "name": "Is_Sold",
         "rawType": "float64",
         "type": "float"
        }
       ],
       "ref": "8268cce9-0e0f-4c3f-8078-1801efd280e7",
       "rows": [
        [
         "count",
         "30328",
         "30328",
         "30328.0",
         "30328.0",
         "30328.0",
         "30328.0",
         "30328.0",
         "30328.0"
        ],
        [
         "mean",
         "2022-09-24 08:34:30.166183168",
         "2022-09-24 08:34:30.166183168",
         "251643.73674492218",
         "0.01629547537886841",
         "0.0",
         "0.0",
         "12.41528697586058",
         "0.0"
        ],
        [
         "min",
         "2022-09-20 00:00:00",
         "2022-09-20 00:00:00",
         "125000.0",
         "0.00806451612903225",
         "0.0",
         "0.0",
         "11.736069016284437",
         "0.0"
        ],
        [
         "25%",
         "2022-09-20 00:00:00",
         "2022-09-20 00:00:00",
         "216000.0",
         "0.0139999999999999",
         "0.0",
         "0.0",
         "12.283033686666302",
         "0.0"
        ],
        [
         "50%",
         "2022-09-20 00:00:00",
         "2022-09-20 00:00:00",
         "244000.0",
         "0.0157419354838709",
         "0.0",
         "0.0",
         "12.404923504275338",
         "0.0"
        ],
        [
         "75%",
         "2022-09-29 00:00:00",
         "2022-09-29 00:00:00",
         "277500.0",
         "0.0179032258064516",
         "0.0",
         "0.0",
         "12.533576212168626",
         "0.0"
        ],
        [
         "max",
         "2022-10-22 00:00:00",
         "2022-10-22 00:00:00",
         "404500.0",
         "0.0260967741935483",
         "0.0",
         "0.0",
         "12.910407015480683",
         "0.0"
        ],
        [
         "std",
         null,
         null,
         "52030.80055815906",
         "0.003295187936023068",
         "0.0",
         "0.0",
         "0.20107024483080782",
         "0.0"
        ]
       ],
       "shape": {
        "columns": 8,
        "rows": 8
       }
      },
      "text/html": [
       "<div>\n",
       "<style scoped>\n",
       "    .dataframe tbody tr th:only-of-type {\n",
       "        vertical-align: middle;\n",
       "    }\n",
       "\n",
       "    .dataframe tbody tr th {\n",
       "        vertical-align: top;\n",
       "    }\n",
       "\n",
       "    .dataframe thead th {\n",
       "        text-align: right;\n",
       "    }\n",
       "</style>\n",
       "<table border=\"1\" class=\"dataframe\">\n",
       "  <thead>\n",
       "    <tr style=\"text-align: right;\">\n",
       "      <th></th>\n",
       "      <th>Date</th>\n",
       "      <th>Last Crawling</th>\n",
       "      <th>Selling Price</th>\n",
       "      <th>Discrepancy</th>\n",
       "      <th>Sales Quantity</th>\n",
       "      <th>Sales Revenue</th>\n",
       "      <th>Selling_Price_Log</th>\n",
       "      <th>Is_Sold</th>\n",
       "    </tr>\n",
       "  </thead>\n",
       "  <tbody>\n",
       "    <tr>\n",
       "      <th>count</th>\n",
       "      <td>30328</td>\n",
       "      <td>30328</td>\n",
       "      <td>30328.000000</td>\n",
       "      <td>30328.000000</td>\n",
       "      <td>30328.0</td>\n",
       "      <td>30328.0</td>\n",
       "      <td>30328.000000</td>\n",
       "      <td>30328.0</td>\n",
       "    </tr>\n",
       "    <tr>\n",
       "      <th>mean</th>\n",
       "      <td>2022-09-24 08:34:30.166183168</td>\n",
       "      <td>2022-09-24 08:34:30.166183168</td>\n",
       "      <td>251643.736745</td>\n",
       "      <td>0.016295</td>\n",
       "      <td>0.0</td>\n",
       "      <td>0.0</td>\n",
       "      <td>12.415287</td>\n",
       "      <td>0.0</td>\n",
       "    </tr>\n",
       "    <tr>\n",
       "      <th>min</th>\n",
       "      <td>2022-09-20 00:00:00</td>\n",
       "      <td>2022-09-20 00:00:00</td>\n",
       "      <td>125000.000000</td>\n",
       "      <td>0.008065</td>\n",
       "      <td>0.0</td>\n",
       "      <td>0.0</td>\n",
       "      <td>11.736069</td>\n",
       "      <td>0.0</td>\n",
       "    </tr>\n",
       "    <tr>\n",
       "      <th>25%</th>\n",
       "      <td>2022-09-20 00:00:00</td>\n",
       "      <td>2022-09-20 00:00:00</td>\n",
       "      <td>216000.000000</td>\n",
       "      <td>0.014000</td>\n",
       "      <td>0.0</td>\n",
       "      <td>0.0</td>\n",
       "      <td>12.283034</td>\n",
       "      <td>0.0</td>\n",
       "    </tr>\n",
       "    <tr>\n",
       "      <th>50%</th>\n",
       "      <td>2022-09-20 00:00:00</td>\n",
       "      <td>2022-09-20 00:00:00</td>\n",
       "      <td>244000.000000</td>\n",
       "      <td>0.015742</td>\n",
       "      <td>0.0</td>\n",
       "      <td>0.0</td>\n",
       "      <td>12.404924</td>\n",
       "      <td>0.0</td>\n",
       "    </tr>\n",
       "    <tr>\n",
       "      <th>75%</th>\n",
       "      <td>2022-09-29 00:00:00</td>\n",
       "      <td>2022-09-29 00:00:00</td>\n",
       "      <td>277500.000000</td>\n",
       "      <td>0.017903</td>\n",
       "      <td>0.0</td>\n",
       "      <td>0.0</td>\n",
       "      <td>12.533576</td>\n",
       "      <td>0.0</td>\n",
       "    </tr>\n",
       "    <tr>\n",
       "      <th>max</th>\n",
       "      <td>2022-10-22 00:00:00</td>\n",
       "      <td>2022-10-22 00:00:00</td>\n",
       "      <td>404500.000000</td>\n",
       "      <td>0.026097</td>\n",
       "      <td>0.0</td>\n",
       "      <td>0.0</td>\n",
       "      <td>12.910407</td>\n",
       "      <td>0.0</td>\n",
       "    </tr>\n",
       "    <tr>\n",
       "      <th>std</th>\n",
       "      <td>NaN</td>\n",
       "      <td>NaN</td>\n",
       "      <td>52030.800558</td>\n",
       "      <td>0.003295</td>\n",
       "      <td>0.0</td>\n",
       "      <td>0.0</td>\n",
       "      <td>0.201070</td>\n",
       "      <td>0.0</td>\n",
       "    </tr>\n",
       "  </tbody>\n",
       "</table>\n",
       "</div>"
      ],
      "text/plain": [
       "                                Date                  Last Crawling  \\\n",
       "count                          30328                          30328   \n",
       "mean   2022-09-24 08:34:30.166183168  2022-09-24 08:34:30.166183168   \n",
       "min              2022-09-20 00:00:00            2022-09-20 00:00:00   \n",
       "25%              2022-09-20 00:00:00            2022-09-20 00:00:00   \n",
       "50%              2022-09-20 00:00:00            2022-09-20 00:00:00   \n",
       "75%              2022-09-29 00:00:00            2022-09-29 00:00:00   \n",
       "max              2022-10-22 00:00:00            2022-10-22 00:00:00   \n",
       "std                              NaN                            NaN   \n",
       "\n",
       "       Selling Price   Discrepancy  Sales Quantity  Sales Revenue  \\\n",
       "count   30328.000000  30328.000000         30328.0        30328.0   \n",
       "mean   251643.736745      0.016295             0.0            0.0   \n",
       "min    125000.000000      0.008065             0.0            0.0   \n",
       "25%    216000.000000      0.014000             0.0            0.0   \n",
       "50%    244000.000000      0.015742             0.0            0.0   \n",
       "75%    277500.000000      0.017903             0.0            0.0   \n",
       "max    404500.000000      0.026097             0.0            0.0   \n",
       "std     52030.800558      0.003295             0.0            0.0   \n",
       "\n",
       "       Selling_Price_Log  Is_Sold  \n",
       "count       30328.000000  30328.0  \n",
       "mean           12.415287      0.0  \n",
       "min            11.736069      0.0  \n",
       "25%            12.283034      0.0  \n",
       "50%            12.404924      0.0  \n",
       "75%            12.533576      0.0  \n",
       "max            12.910407      0.0  \n",
       "std             0.201070      0.0  "
      ]
     },
     "execution_count": 22,
     "metadata": {},
     "output_type": "execute_result"
    }
   ],
   "source": [
    "df_tokopedia.describe()"
   ]
  },
  {
   "cell_type": "code",
   "execution_count": 23,
   "id": "e614afd7",
   "metadata": {},
   "outputs": [
    {
     "name": "stdout",
     "output_type": "stream",
     "text": [
      "<class 'pandas.core.frame.DataFrame'>\n",
      "Index: 30328 entries, 0 to 32771\n",
      "Data columns (total 19 columns):\n",
      " #   Column             Non-Null Count  Dtype         \n",
      "---  ------             --------------  -----         \n",
      " 0   Date               30328 non-null  datetime64[ns]\n",
      " 1   Last Crawling      30328 non-null  datetime64[ns]\n",
      " 2   SKU Name           30328 non-null  object        \n",
      " 3   Product Name       30328 non-null  object        \n",
      " 4   Url Product        30328 non-null  object        \n",
      " 5   Seller             30328 non-null  object        \n",
      " 6   Merchant           30328 non-null  object        \n",
      " 7   Stock              30328 non-null  object        \n",
      " 8   Item Condition     30328 non-null  object        \n",
      " 9   Filter             30328 non-null  object        \n",
      " 10  Flag               30328 non-null  object        \n",
      " 11  Original Price     30328 non-null  object        \n",
      " 12  Discount           30328 non-null  object        \n",
      " 13  Selling Price      30328 non-null  float64       \n",
      " 14  Discrepancy        30328 non-null  float64       \n",
      " 15  Sales Quantity     30328 non-null  float64       \n",
      " 16  Sales Revenue      30328 non-null  float64       \n",
      " 17  Selling_Price_Log  30328 non-null  float64       \n",
      " 18  Is_Sold            30328 non-null  int64         \n",
      "dtypes: datetime64[ns](2), float64(5), int64(1), object(11)\n",
      "memory usage: 4.6+ MB\n"
     ]
    }
   ],
   "source": [
    "df_tokopedia.info()"
   ]
  },
  {
   "cell_type": "markdown",
   "id": "d1eeb2a7",
   "metadata": {},
   "source": [
    "Visualisasi Distribusi"
   ]
  },
  {
   "cell_type": "code",
   "execution_count": 24,
   "id": "e48a4a39",
   "metadata": {},
   "outputs": [
    {
     "data": {
      "image/png": "[encoded data removed]",
      "text/plain": [
       "<Figure size 640x480 with 1 Axes>"
      ]
     },
     "metadata": {},
     "output_type": "display_data"
    }
   ],
   "source": [
    "# Distribusi log selling price\n",
    "plt.Figure(figsize=(10, 6))\n",
    "sns.histplot(df_tokopedia['Selling_Price_Log'], bins=30, kde=True)\n",
    "plt.title(\"Distribusi Log selling price\")\n",
    "plt.xlabel(\"Log selling price\")\n",
    "plt.ylabel('Frekuensi')\n",
    "plt.show()"
   ]
  },
  {
   "cell_type": "code",
   "execution_count": 25,
   "id": "12e8bc56",
   "metadata": {},
   "outputs": [
    {
     "data": {
      "image/png": "[encoded data removed]",
      "text/plain": [
       "<Figure size 1000x600 with 1 Axes>"
      ]
     },
     "metadata": {},
     "output_type": "display_data"
    }
   ],
   "source": [
    "# Distribusi Discrepancy\n",
    "plt.figure(figsize=(10, 6))\n",
    "sns.histplot(df_tokopedia['Discrepancy'], bins=30, kde=True)\n",
    "plt.title(\"Distribusi Discrepancy\")\n",
    "plt.xlabel('Discrepancy')\n",
    "plt.ylabel(\"Frekuensi\")\n",
    "plt.show()"
   ]
  },
  {
   "cell_type": "markdown",
   "id": "7a02813d",
   "metadata": {},
   "source": [
    "Ekstrak fitur tanggal"
   ]
  },
  {
   "cell_type": "code",
   "execution_count": 26,
   "id": "9e3c2995",
   "metadata": {},
   "outputs": [
    {
     "name": "stderr",
     "output_type": "stream",
     "text": [
      "C:\\Users\\ghatfan\\AppData\\Local\\Temp\\ipykernel_21112\\2504214284.py:2: SettingWithCopyWarning: \n",
      "A value is trying to be set on a copy of a slice from a DataFrame.\n",
      "Try using .loc[row_indexer,col_indexer] = value instead\n",
      "\n",
      "See the caveats in the documentation: https://pandas.pydata.org/pandas-docs/stable/user_guide/indexing.html#returning-a-view-versus-a-copy\n",
      "  df_tokopedia['Month'] = df_tokopedia['Date'].dt.month\n",
      "C:\\Users\\ghatfan\\AppData\\Local\\Temp\\ipykernel_21112\\2504214284.py:3: SettingWithCopyWarning: \n",
      "A value is trying to be set on a copy of a slice from a DataFrame.\n",
      "Try using .loc[row_indexer,col_indexer] = value instead\n",
      "\n",
      "See the caveats in the documentation: https://pandas.pydata.org/pandas-docs/stable/user_guide/indexing.html#returning-a-view-versus-a-copy\n",
      "  df_tokopedia['Day'] = df_tokopedia['Date'].dt.day\n",
      "C:\\Users\\ghatfan\\AppData\\Local\\Temp\\ipykernel_21112\\2504214284.py:4: SettingWithCopyWarning: \n",
      "A value is trying to be set on a copy of a slice from a DataFrame.\n",
      "Try using .loc[row_indexer,col_indexer] = value instead\n",
      "\n",
      "See the caveats in the documentation: https://pandas.pydata.org/pandas-docs/stable/user_guide/indexing.html#returning-a-view-versus-a-copy\n",
      "  df_tokopedia['DayOfWeek'] = df_tokopedia['Date'].dt.dayofweek\n",
      "C:\\Users\\ghatfan\\AppData\\Local\\Temp\\ipykernel_21112\\2504214284.py:5: SettingWithCopyWarning: \n",
      "A value is trying to be set on a copy of a slice from a DataFrame.\n",
      "Try using .loc[row_indexer,col_indexer] = value instead\n",
      "\n",
      "See the caveats in the documentation: https://pandas.pydata.org/pandas-docs/stable/user_guide/indexing.html#returning-a-view-versus-a-copy\n",
      "  df_tokopedia['IsWeekend'] = df_tokopedia['DayOfWeek'].isin([5, 6]).astype(int)\n"
     ]
    }
   ],
   "source": [
    "# Buat fitur baru dari tanggal\n",
    "df_tokopedia['Month'] = df_tokopedia['Date'].dt.month\n",
    "df_tokopedia['Day'] = df_tokopedia['Date'].dt.day\n",
    "df_tokopedia['DayOfWeek'] = df_tokopedia['Date'].dt.dayofweek\n",
    "df_tokopedia['IsWeekend'] = df_tokopedia['DayOfWeek'].isin([5, 6]).astype(int)"
   ]
  },
  {
   "cell_type": "markdown",
   "id": "f44382a9",
   "metadata": {},
   "source": [
    "apakah ada pola musiman dalam harga? "
   ]
  },
  {
   "cell_type": "code",
   "execution_count": null,
   "id": "6b407ba4",
   "metadata": {},
   "outputs": [
    {
     "data": {
      "application/vnd.microsoft.datawrangler.viewer.v0+json": {
       "columns": [
        {
         "name": "index",
         "rawType": "int64",
         "type": "integer"
        },
        {
         "name": "Month",
         "rawType": "int32",
         "type": "integer"
        },
        {
         "name": "mean",
         "rawType": "float64",
         "type": "float"
        },
        {
         "name": "std",
         "rawType": "float64",
         "type": "float"
        }
       ],
       "ref": "fa41207e-b690-46c4-b799-66dda3a96522",
       "rows": [
        [
         "0",
         "9",
         "12.413168141880037",
         "0.2031453172831634"
        ],
        [
         "1",
         "10",
         "12.427275715307466",
         "0.18847319952768624"
        ]
       ],
       "shape": {
        "columns": 3,
        "rows": 2
       }
      },
      "text/html": [
       "<div>\n",
       "<style scoped>\n",
       "    .dataframe tbody tr th:only-of-type {\n",
       "        vertical-align: middle;\n",
       "    }\n",
       "\n",
       "    .dataframe tbody tr th {\n",
       "        vertical-align: top;\n",
       "    }\n",
       "\n",
       "    .dataframe thead th {\n",
       "        text-align: right;\n",
       "    }\n",
       "</style>\n",
       "<table border=\"1\" class=\"dataframe\">\n",
       "  <thead>\n",
       "    <tr style=\"text-align: right;\">\n",
       "      <th></th>\n",
       "      <th>Month</th>\n",
       "      <th>mean</th>\n",
       "      <th>std</th>\n",
       "    </tr>\n",
       "  </thead>\n",
       "  <tbody>\n",
       "    <tr>\n",
       "      <th>0</th>\n",
       "      <td>9</td>\n",
       "      <td>12.413168</td>\n",
       "      <td>0.203145</td>\n",
       "    </tr>\n",
       "    <tr>\n",
       "      <th>1</th>\n",
       "      <td>10</td>\n",
       "      <td>12.427276</td>\n",
       "      <td>0.188473</td>\n",
       "    </tr>\n",
       "  </tbody>\n",
       "</table>\n",
       "</div>"
      ],
      "text/plain": [
       "   Month       mean       std\n",
       "0      9  12.413168  0.203145\n",
       "1     10  12.427276  0.188473"
      ]
     },
     "execution_count": 33,
     "metadata": {},
     "output_type": "execute_result"
    }
   ],
   "source": [
    "# pola musiman berdasarka bulan\n",
    "monthly_price = df_tokopedia.groupby('Month')['Selling_Price_Log'].agg(['mean', 'std']).reset_index()\n",
    "monthly_price"
   ]
  },
  {
   "cell_type": "code",
   "execution_count": 35,
   "id": "ed8aa48e",
   "metadata": {},
   "outputs": [
    {
     "data": {
      "image/png": "[encoded data removed]",
      "text/plain": [
       "<Figure size 640x480 with 1 Axes>"
      ]
     },
     "metadata": {},
     "output_type": "display_data"
    }
   ],
   "source": [
    "sns.lineplot(data = monthly_price, x= 'Month', y='mean', marker='o', linewidth=2, markersize=8)\n",
    "plt.fill_between(monthly_price['Month'],\n",
    "                 monthly_price['mean'] - monthly_price['std'],\n",
    "                 monthly_price['mean'] + monthly_price['std'],\n",
    "                 alpha=0.2)\n",
    "plt.title('Pola Musiman: Rata-Rata Log Harga per bulan')\n",
    "plt.xlabel(\"Bulan\")\n",
    "plt.ylabel('Rata-rata Log Harga')\n",
    "plt.grid(True, alpha=0.3)\n",
    "plt.show()"
   ]
  },
  {
   "cell_type": "markdown",
   "id": "026d58ff",
   "metadata": {},
   "source": [
    "insight:\n",
    "\n",
    "tidak ada pola tertentu distribusinya konsisten "
   ]
  },
  {
   "cell_type": "markdown",
   "id": "c20dc323",
   "metadata": {},
   "source": [
    "bagaimana hubungan antara discrepancy dan harga "
   ]
  },
  {
   "cell_type": "code",
   "execution_count": 37,
   "id": "994c27c9",
   "metadata": {},
   "outputs": [
    {
     "data": {
      "image/png": "[encoded data removed]",
      "text/plain": [
       "<Figure size 1000x800 with 1 Axes>"
      ]
     },
     "metadata": {},
     "output_type": "display_data"
    }
   ],
   "source": [
    "# Scatter plot dengan regresi line\n",
    "plt.figure(figsize=(10, 8))\n",
    "sns.scatterplot(data=df_tokopedia, x='Discrepancy', y='Selling_Price_Log',color='red')\n",
    "plt.title(\"Hubungan antara discrepancy dan Log Harga\")\n",
    "plt.xlabel('Discrepancy')\n",
    "plt.ylabel(\"Log Harga\")\n",
    "plt.show()"
   ]
  },
  {
   "cell_type": "markdown",
   "id": "67e9c7c7",
   "metadata": {},
   "source": [
    "insight: \n",
    "\n",
    "Log Harga dan Discrepancy berkorelasi"
   ]
  },
  {
   "cell_type": "markdown",
   "id": "d0cf28b5",
   "metadata": {},
   "source": [
    "Apakah produk cenderung terjual di hari tertentu? "
   ]
  },
  {
   "cell_type": "code",
   "execution_count": 39,
   "id": "748044f4",
   "metadata": {},
   "outputs": [
    {
     "data": {
      "image/png": "[encoded data removed]",
      "text/plain": [
       "<Figure size 1000x600 with 1 Axes>"
      ]
     },
     "metadata": {},
     "output_type": "display_data"
    }
   ],
   "source": [
    "# Distribusi produk terual berdasarkan hari dalam minggu\n",
    "plt.figure(figsize=(10, 6))\n",
    "sns.countplot(data=df_tokopedia, x='DayOfWeek', hue='Is_Sold')\n",
    "plt.title(\"Distribusi Produk Terjual per hari dalam seminggu\")\n",
    "plt.xlabel('Hari dalam seminggu (0=senin, 6=Minggu)')\n",
    "plt.ylabel('Jumlah Produk')\n",
    "plt.legend(title='Terjual', labels=['Tidak', 'Ya'])\n",
    "plt.show()"
   ]
  },
  {
   "cell_type": "markdown",
   "id": "957a411e",
   "metadata": {},
   "source": [
    "insight:\n",
    "\n",
    "Produk paling banyak terjual di hari selasa"
   ]
  },
  {
   "cell_type": "markdown",
   "id": "d35e9861",
   "metadata": {},
   "source": [
    "apa perbedaan harga weekday vs weekend? "
   ]
  },
  {
   "cell_type": "code",
   "execution_count": 45,
   "id": "27612b08",
   "metadata": {},
   "outputs": [
    {
     "name": "stdout",
     "output_type": "stream",
     "text": [
      "Statistik Harga Berdasarkan tipe hari:\n",
      "              mean     median       std\n",
      "Weekday  12.413771  12.404924  0.201997\n",
      "Weekend  12.442381  12.404924  0.181647\n"
     ]
    }
   ],
   "source": [
    "price_by_daytype = df_tokopedia.groupby('IsWeekend')['Selling_Price_Log'].agg(['mean', 'median', 'std'])\n",
    "price_by_daytype.index = ['Weekday', 'Weekend']\n",
    "print(\"Statistik Harga Berdasarkan tipe hari:\")\n",
    "print(price_by_daytype)"
   ]
  },
  {
   "cell_type": "code",
   "execution_count": null,
   "id": "0b92e166",
   "metadata": {},
   "outputs": [
    {
     "data": {
      "image/png": "[encoded data removed]",
      "text/plain": [
       "<Figure size 1000x800 with 1 Axes>"
      ]
     },
     "metadata": {},
     "output_type": "display_data"
    }
   ],
   "source": [
    "# boxplot\n",
    "plt.figure(figsize=(10, 8))\n",
    "sns.boxplot(data=df_tokopedia, x='IsWeekend', y='Selling_Price_Log')\n",
    "plt.title('Perbedaan Log Harga: Weekday vs Weekend')\n",
    "plt.xlabel(\"Hari (0=Weekday, 1=Weekend)\")\n",
    "plt.ylabel(\"Log Harga\")\n",
    "plt.xticks([0, 1], ['Weekday', 'Weekend'])\n",
    "plt.show()"
   ]
  },
  {
   "cell_type": "markdown",
   "id": "3ea5bd95",
   "metadata": {},
   "source": [
    "Insight: \n",
    "\n",
    "Harga tidak jauh berbeda"
   ]
  },
  {
   "cell_type": "markdown",
   "id": "89bc33de",
   "metadata": {},
   "source": [
    "# Splitting data "
   ]
  },
  {
   "cell_type": "code",
   "execution_count": 48,
   "id": "632b3e27",
   "metadata": {},
   "outputs": [],
   "source": [
    "from sklearn.model_selection import train_test_split\n",
    "from sklearn.preprocessing import StandardScaler"
   ]
  },
  {
   "cell_type": "code",
   "execution_count": 54,
   "id": "d6132d59",
   "metadata": {},
   "outputs": [
    {
     "name": "stdout",
     "output_type": "stream",
     "text": [
      "<class 'pandas.core.frame.DataFrame'>\n",
      "Index: 30328 entries, 0 to 32771\n",
      "Data columns (total 23 columns):\n",
      " #   Column             Non-Null Count  Dtype         \n",
      "---  ------             --------------  -----         \n",
      " 0   Date               30328 non-null  datetime64[ns]\n",
      " 1   Last Crawling      30328 non-null  datetime64[ns]\n",
      " 2   SKU Name           30328 non-null  object        \n",
      " 3   Product Name       30328 non-null  object        \n",
      " 4   Url Product        30328 non-null  object        \n",
      " 5   Seller             30328 non-null  object        \n",
      " 6   Merchant           30328 non-null  object        \n",
      " 7   Stock              30328 non-null  object        \n",
      " 8   Item Condition     30328 non-null  object        \n",
      " 9   Filter             30328 non-null  object        \n",
      " 10  Flag               30328 non-null  object        \n",
      " 11  Original Price     30328 non-null  object        \n",
      " 12  Discount           30328 non-null  object        \n",
      " 13  Selling Price      30328 non-null  float64       \n",
      " 14  Discrepancy        30328 non-null  float64       \n",
      " 15  Sales Quantity     30328 non-null  float64       \n",
      " 16  Sales Revenue      30328 non-null  float64       \n",
      " 17  Selling_Price_Log  30328 non-null  float64       \n",
      " 18  Is_Sold            30328 non-null  int64         \n",
      " 19  Month              30328 non-null  int32         \n",
      " 20  Day                30328 non-null  int32         \n",
      " 21  DayOfWeek          30328 non-null  int32         \n",
      " 22  IsWeekend          30328 non-null  int64         \n",
      "dtypes: datetime64[ns](2), float64(5), int32(3), int64(2), object(11)\n",
      "memory usage: 5.2+ MB\n"
     ]
    }
   ],
   "source": [
    "df_tokopedia.info()"
   ]
  },
  {
   "cell_type": "code",
   "execution_count": 50,
   "id": "8c45d834",
   "metadata": {},
   "outputs": [],
   "source": [
    "features = ['Discrepancy', 'Month', 'Day', 'DayOfWeek', 'IsWeekend', 'Is_Sold']"
   ]
  },
  {
   "cell_type": "code",
   "execution_count": 51,
   "id": "c37f7c0f",
   "metadata": {},
   "outputs": [],
   "source": [
    "target = 'Selling_Price_Log'"
   ]
  },
  {
   "cell_type": "code",
   "execution_count": 52,
   "id": "ec0d8301",
   "metadata": {},
   "outputs": [],
   "source": [
    "x = df_tokopedia[features]\n",
    "y = df_tokopedia[target]"
   ]
  },
  {
   "cell_type": "code",
   "execution_count": 53,
   "id": "41a2240c",
   "metadata": {},
   "outputs": [
    {
     "name": "stdout",
     "output_type": "stream",
     "text": [
      "Data Training : (24262, 6)\n",
      "Data Testing : (6066, 6)\n",
      "Target Training : (24262,)\n",
      "Targer Testing : (6066,)\n"
     ]
    }
   ],
   "source": [
    "x_train, x_test, y_train, y_test = train_test_split(\n",
    " x, y,\n",
    " test_size=0.2,\n",
    " random_state=42,\n",
    " stratify=df_tokopedia['Is_Sold'] \n",
    ")\n",
    "\n",
    "print(f\"Data Training : {x_train.shape}\")\n",
    "print(f\"Data Testing : {x_test.shape}\")\n",
    "print(f\"Target Training : {y_train.shape}\")\n",
    "print(f\"Targer Testing : {y_test.shape}\")"
   ]
  },
  {
   "cell_type": "markdown",
   "id": "f6a1f21c",
   "metadata": {},
   "source": [
    "# Modeling"
   ]
  },
  {
   "cell_type": "code",
   "execution_count": 55,
   "id": "b4063398",
   "metadata": {},
   "outputs": [],
   "source": [
    "from sklearn.ensemble import RandomForestRegressor, GradientBoostingRegressor\n",
    "from sklearn.tree import DecisionTreeRegressor\n",
    "from sklearn.neighbors import KNeighborsRegressor\n",
    "from sklearn.preprocessing import StandardScaler \n",
    "from sklearn.metrics import mean_squared_error, r2_score"
   ]
  },
  {
   "cell_type": "code",
   "execution_count": 56,
   "id": "bffbfdd6",
   "metadata": {},
   "outputs": [],
   "source": [
    "# Scaling untuk KNN\n",
    "scaler = StandardScaler()\n",
    "x_train_scaled = scaler.fit_transform(x_train)\n",
    "x_test_scaled  = scaler.transform(x_test)"
   ]
  },
  {
   "cell_type": "code",
   "execution_count": 57,
   "id": "dd6017c2",
   "metadata": {},
   "outputs": [],
   "source": [
    "# Model training\n",
    "models = {\n",
    " 'Random Forest' : RandomForestRegressor(n_estimators=100, random_state=42),\n",
    " 'Decision Tree' : DecisionTreeRegressor(random_state=42), \n",
    " 'Gradient Boosting' : GradientBoostingRegressor(n_estimators=100, random_state=42), \n",
    " 'KNN' : KNeighborsRegressor(n_neighbors=5)\n",
    "}"
   ]
  },
  {
   "cell_type": "code",
   "execution_count": 58,
   "id": "b03717e4",
   "metadata": {},
   "outputs": [],
   "source": [
    "# Prediksi \n",
    "predictions = {}\n",
    "models['Random Forest'].fit(x_train, y_train)\n",
    "predictions['Random Forest'] = models['Random Forest'].predict(x_test)\n",
    "\n",
    "models['Decision Tree'].fit(x_train, y_train)\n",
    "predictions['Decision Tree'] = models['Decision Tree'].predict(x_test)\n",
    "\n",
    "models['Gradient Boosting'].fit(x_train, y_train)\n",
    "predictions['Gradient Boosting'] = models['Gradient Boosting'].predict(x_test)\n",
    "\n",
    "models['KNN'].fit(x_train_scaled, y_train)\n",
    "predictions['KNN'] = models['KNN'].predict(x_test_scaled)"
   ]
  },
  {
   "cell_type": "code",
   "execution_count": 61,
   "id": "2e9e2e7f",
   "metadata": {},
   "outputs": [
    {
     "name": "stdout",
     "output_type": "stream",
     "text": [
      "               Model    RMSE      R2\n",
      "0      Random Forest  0.0410  0.9574\n",
      "1      Decision Tree  0.0410  0.9574\n",
      "2  Gradient Boosting  0.0414  0.9566\n",
      "3                KNN  0.0535  0.9275\n"
     ]
    }
   ],
   "source": [
    "# Evaluasi\n",
    "result = []\n",
    "for name, pred in predictions.items():\n",
    "    rmse = np.sqrt(mean_squared_error(y_test,pred))\n",
    "    r2 = r2_score(y_test, pred)\n",
    "    result.append({'Model' : name, 'RMSE' : rmse, 'R2' : r2})\n",
    " \n",
    " # Tampilkan hasil\n",
    "result_df = pd.DataFrame(result).sort_values('R2', ascending=False)\n",
    "print(result_df.round(4))"
   ]
  },
  {
   "cell_type": "code",
   "execution_count": 68,
   "id": "6a248c60",
   "metadata": {},
   "outputs": [
    {
     "name": "stdout",
     "output_type": "stream",
     "text": [
      "Random Forest:\n",
      "  Training R²: 0.9580\n",
      "  Test R²:     0.9574\n",
      "  Difference:  0.0005\n",
      "\n",
      "Decision Tree:\n",
      "  Training R²: 0.9580\n",
      "  Test R²:     0.9574\n",
      "  Difference:  0.0006\n",
      "\n",
      "Gradient Boosting:\n",
      "  Training R²: 0.9571\n",
      "  Test R²:     0.9566\n",
      "  Difference:  0.0006\n",
      "\n",
      "KNN:\n",
      "  Training R²: 0.9218\n",
      "  Test R²:     0.9275\n",
      "  Difference:  -0.0057\n",
      "\n"
     ]
    }
   ],
   "source": [
    "# Cek R² untuk training dan test set\n",
    "for name, model in models.items():\n",
    "    if name == 'KNN':\n",
    "        # KNN butuh data scaled\n",
    "        train_score = model.score(x_train_scaled, y_train)\n",
    "        test_score = model.score(x_test_scaled, y_test)\n",
    "    else:\n",
    "        train_score = model.score(x_train, y_train)\n",
    "        test_score = model.score(x_test, y_test)\n",
    "    \n",
    "    print(f\"{name}:\")\n",
    "    print(f\"  Training R²: {train_score:.4f}\")\n",
    "    print(f\"  Test R²:     {test_score:.4f}\")\n",
    "    print(f\"  Difference:  {train_score - test_score:.4f}\")\n",
    "    print()"
   ]
  }
 ],
 "metadata": {
  "kernelspec": {
   "display_name": "Python 3",
   "language": "python",
   "name": "python3"
  },
  "language_info": {
   "codemirror_mode": {
    "name": "ipython",
    "version": 3
   },
   "file_extension": ".py",
   "mimetype": "text/x-python",
   "name": "python",
   "nbconvert_exporter": "python",
   "pygments_lexer": "ipython3",
   "version": "3.12.7"
  }
 },
 "nbformat": 4,
 "nbformat_minor": 5
}
