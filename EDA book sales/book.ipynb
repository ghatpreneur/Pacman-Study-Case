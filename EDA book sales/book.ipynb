{
 "cells": [
  {
   "cell_type": "code",
   "execution_count": 7,
   "id": "940b195c",
   "metadata": {},
   "outputs": [],
   "source": [
    "import pandas as pd\n",
    "import numpy as np\n",
    "import matplotlib.pyplot as plt\n",
    "import seaborn as sns"
   ]
  },
  {
   "cell_type": "code",
   "execution_count": 11,
   "id": "f229169c",
   "metadata": {},
   "outputs": [
    {
     "data": {
      "application/vnd.microsoft.datawrangler.viewer.v0+json": {
       "columns": [
        {
         "name": "index",
         "rawType": "int64",
         "type": "integer"
        },
        {
         "name": "index",
         "rawType": "int64",
         "type": "integer"
        },
        {
         "name": "Publishing Year",
         "rawType": "float64",
         "type": "float"
        },
        {
         "name": "Book Name",
         "rawType": "object",
         "type": "unknown"
        },
        {
         "name": "Author",
         "rawType": "object",
         "type": "string"
        },
        {
         "name": "language_code",
         "rawType": "object",
         "type": "unknown"
        },
        {
         "name": "Author_Rating",
         "rawType": "object",
         "type": "string"
        },
        {
         "name": "Book_average_rating",
         "rawType": "float64",
         "type": "float"
        },
        {
         "name": "Book_ratings_count",
         "rawType": "int64",
         "type": "integer"
        },
        {
         "name": "genre",
         "rawType": "object",
         "type": "string"
        },
        {
         "name": "gross sales",
         "rawType": "float64",
         "type": "float"
        },
        {
         "name": "publisher revenue",
         "rawType": "float64",
         "type": "float"
        },
        {
         "name": "sale price",
         "rawType": "float64",
         "type": "float"
        },
        {
         "name": "sales rank",
         "rawType": "int64",
         "type": "integer"
        },
        {
         "name": "Publisher ",
         "rawType": "object",
         "type": "string"
        },
        {
         "name": "units sold",
         "rawType": "int64",
         "type": "integer"
        }
       ],
       "ref": "5da25c63-0af8-45a7-bb13-b4af61e189de",
       "rows": [
        [
         "0",
         "0",
         "1975.0",
         "Beowulf",
         "Unknown, Seamus Heaney",
         "en-US",
         "Novice",
         "3.42",
         "155903",
         "genre fiction",
         "34160.0",
         "20496.0",
         "4.88",
         "1",
         "HarperCollins Publishers",
         "7000"
        ],
        [
         "1",
         "1",
         "1987.0",
         "Batman: Year One",
         "Frank Miller, David Mazzucchelli, Richmond Lewis, Dennis O'Neil",
         "eng",
         "Intermediate",
         "4.23",
         "145267",
         "genre fiction",
         "12437.5",
         "7462.5",
         "1.99",
         "2",
         "HarperCollins Publishers",
         "6250"
        ],
        [
         "2",
         "2",
         "2015.0",
         "Go Set a Watchman",
         "Harper Lee",
         "eng",
         "Novice",
         "3.31",
         "138669",
         "genre fiction",
         "47795.0",
         "28677.0",
         "8.69",
         "3",
         "Amazon Digital Services,  Inc.",
         "5500"
        ],
        [
         "3",
         "3",
         "2008.0",
         "When You Are Engulfed in Flames",
         "David Sedaris",
         "en-US",
         "Intermediate",
         "4.04",
         "150898",
         "fiction",
         "41250.0",
         "24750.0",
         "7.5",
         "3",
         "Hachette Book Group",
         "5500"
        ],
        [
         "4",
         "4",
         "2011.0",
         "Daughter of Smoke & Bone",
         "Laini Taylor",
         "eng",
         "Intermediate",
         "4.04",
         "198283",
         "genre fiction",
         "37952.5",
         "22771.5",
         "7.99",
         "4",
         "Penguin Group (USA) LLC",
         "4750"
        ],
        [
         "5",
         "5",
         "2015.0",
         "Red Queen",
         "Victoria Aveyard",
         "eng",
         "Intermediate",
         "4.08",
         "83354",
         "genre fiction",
         "19960.0",
         "0.0",
         "4.99",
         "5",
         "Amazon Digital Services,  Inc.",
         "4000"
        ],
        [
         "6",
         "6",
         "2011.0",
         "The Power of Habit",
         "Charles Duhigg",
         "eng",
         "Intermediate",
         "4.03",
         "155977",
         "genre fiction",
         "27491.67",
         "16495.002",
         "6.99",
         "6",
         "HarperCollins Publishers",
         "3933"
        ],
        [
         "7",
         "7",
         "1994.0",
         "Midnight in the Garden of Good and Evil",
         "John Berendt",
         "eng",
         "Intermediate",
         "3.9",
         "167997",
         "nonfiction",
         "26182.0",
         "15709.2",
         "6.89",
         "8",
         "Hachette Book Group",
         "3800"
        ],
        [
         "8",
         "8",
         "2012.0",
         "Hopeless",
         "Colleen Hoover",
         "eng",
         "Intermediate",
         "4.34",
         "189938",
         "genre fiction",
         "26093.67",
         "15656.202",
         "6.99",
         "9",
         "HarperCollins Publishers",
         "3733"
        ],
        [
         "9",
         "9",
         "1905.0",
         "A Little Princess",
         "Frances Hodgson Burnett, Nancy Bond",
         "eng",
         "Intermediate",
         "4.2",
         "199872",
         "genre fiction",
         "23792.34",
         "14275.404",
         "6.49",
         "10",
         "Random House LLC",
         "3666"
        ],
        [
         "10",
         "10",
         "2004.0",
         "The Truth About Forever",
         "Sarah Dessen",
         "en-US",
         "Intermediate",
         "4.13",
         "179415",
         "genre fiction",
         "17964.0",
         "0.0",
         "4.99",
         "11",
         "Amazon Digital Services,  Inc.",
         "3600"
        ],
        [
         "11",
         "11",
         "1954.0",
         "The horse and his boy",
         "C.S. Lewis",
         "eng",
         "Intermediate",
         "3.9",
         "189671",
         "fiction",
         "21564.0",
         "12938.4",
         "5.99",
         "11",
         "Penguin Group (USA) LLC",
         "3600"
        ],
        [
         "12",
         "12",
         "2010.0",
         "Last Sacrifice ",
         "Richelle Mead",
         "eng",
         "Famous",
         "4.42",
         "206792",
         "genre fiction",
         "3431.34",
         "0.0",
         "0.99",
         "13",
         "Amazon Digital Services,  Inc.",
         "3466"
        ],
        [
         "13",
         "13",
         "1935.0",
         "Little House on the Prairie",
         "Laura Ingalls Wilder, Garth Williams",
         "eng",
         "Intermediate",
         "4.18",
         "195424",
         "genre fiction",
         "6897.34",
         "4138.404",
         "1.99",
         "13",
         "HarperCollins Publishers",
         "3466"
        ],
        [
         "14",
         "14",
         "1922.0",
         "The Velveteen Rabbit",
         "Margery Williams Bianco, William   Nicholson",
         "eng",
         "Intermediate",
         "4.29",
         "173469",
         "genre fiction",
         "21797.82",
         "13078.692",
         "6.54",
         "15",
         "Random House LLC",
         "3333"
        ],
        [
         "15",
         "15",
         "1974.0",
         "Zen and the Art of Motorcycle Maintenance",
         "Robert M. Pirsig",
         "eng",
         "Intermediate",
         "3.76",
         "139411",
         "genre fiction",
         "16297.34",
         "0.0",
         "4.99",
         "16",
         "Amazon Digital Services,  Inc.",
         "3266"
        ],
        [
         "16",
         "16",
         "1897.0",
         "The War of the Worlds",
         "H.G. Wells, Arthur C. Clarke",
         "eng",
         "Intermediate",
         "3.8",
         "159752",
         "genre fiction",
         "15968.0",
         "0.0",
         "4.99",
         "17",
         "Amazon Digital Services,  Inc.",
         "3200"
        ],
        [
         "17",
         "17",
         "2006.0",
         "Pretty Little Liars",
         "Sara Shepard",
         "en-US",
         "Intermediate",
         "3.9",
         "156328",
         "genre fiction",
         "15968.0",
         "0.0",
         "4.99",
         "17",
         "Amazon Digital Services,  Inc.",
         "3200"
        ],
        [
         "18",
         "18",
         "1948.0",
         "Corduroy",
         "Don Freeman",
         "en-US",
         "Intermediate",
         "4.28",
         "160860",
         "genre fiction",
         "6234.67",
         "3740.802",
         "1.99",
         "18",
         "Simon and Schuster Digital Sales Inc",
         "3133"
        ],
        [
         "19",
         "19",
         "2006.0",
         "The Omnivore's Dilemma",
         "Michael Pollan",
         "eng",
         "Intermediate",
         "4.17",
         "133271",
         "genre fiction",
         "3035.34",
         "0.0",
         "0.99",
         "19",
         "Amazon Digital Services,  Inc.",
         "3066"
        ],
        [
         "20",
         "20",
         "2013.0",
         "Life After Life",
         "Kate Atkinson",
         "eng",
         "Intermediate",
         "3.74",
         "138454",
         "genre fiction",
         "11702.67",
         "0.0",
         "3.99",
         "21",
         "Amazon Digital Services,  Inc.",
         "2933"
        ],
        [
         "21",
         "21",
         "2000.0",
         "The Rescue",
         "Nicholas Sparks",
         "en-US",
         "Intermediate",
         "4.1",
         "142092",
         "genre fiction",
         "8569.34",
         "0.0",
         "2.99",
         "22",
         "Amazon Digital Services,  Inc.",
         "2866"
        ],
        [
         "22",
         "22",
         "1991.0",
         "Needful Things",
         "Stephen King",
         null,
         "Intermediate",
         "3.87",
         "153821",
         "genre fiction",
         "2772.0",
         "0.0",
         "0.99",
         "23",
         "Amazon Digital Services,  Inc.",
         "2800"
        ],
        [
         "23",
         "23",
         "1993.0",
         "Voyager",
         "Diana Gabaldon",
         "eng",
         "Intermediate",
         "4.38",
         "157395",
         "genre fiction",
         "8171.67",
         "0.0",
         "2.99",
         "24",
         "Amazon Digital Services,  Inc.",
         "2733"
        ],
        [
         "24",
         "24",
         "1996.0",
         null,
         "Kenneth Branagh, William Shakespeare",
         "eng",
         "Intermediate",
         "4.12",
         "156869",
         "genre fiction",
         "2639.34",
         "1583.604",
         "0.99",
         "25",
         "Amazon Digital Services,  Inc.",
         "2666"
        ],
        [
         "25",
         "25",
         "1981.0",
         "Cujo",
         "Stephen King",
         "spa",
         "Intermediate",
         "3.65",
         "158215",
         "genre fiction",
         "7774.0",
         "0.0",
         "2.99",
         "26",
         "Amazon Digital Services,  Inc.",
         "2600"
        ],
        [
         "26",
         "26",
         "1993.0",
         "The Virgin Suicides",
         "Jeffrey Eugenides",
         "eng",
         "Intermediate",
         "3.83",
         "159249",
         "genre fiction",
         "26904.06",
         "16142.436",
         "10.91",
         "28",
         "Penguin Group (USA) LLC",
         "2466"
        ],
        [
         "27",
         "27",
         "2004.0",
         "Dead to the World",
         "Charlaine Harris",
         "eng",
         "Intermediate",
         "4.13",
         "199572",
         "genre fiction",
         "2376.0",
         "0.0",
         "0.99",
         "29",
         "Amazon Digital Services,  Inc.",
         "2400"
        ],
        [
         "28",
         "28",
         "1891.0",
         "Tess of the d'Urbervilles: A Pure Woman Faithfully Presented",
         "Thomas Hardy, Tim Dolin, Margaret R. Higonnet",
         "eng",
         "Intermediate",
         "3.77",
         "171599",
         "nonfiction",
         "9576.0",
         "5745.6",
         "3.99",
         "29",
         "Hachette Book Group",
         "2400"
        ],
        [
         "29",
         "29",
         "1856.0",
         "Madame Bovary",
         "Gustave Flaubert, Margaret Mauldon, Malcolm Bowie, Mark Overstall",
         "eng",
         "Intermediate",
         "3.64",
         "158877",
         "genre fiction",
         "9308.67",
         "0.0",
         "3.99",
         "30",
         "Amazon Digital Services,  Inc.",
         "2333"
        ],
        [
         "30",
         "30",
         "1961.0",
         "The Phantom Tollbooth",
         "Norton Juster, Jules Feiffer",
         "en-US",
         "Intermediate",
         "4.22",
         "178432",
         "genre fiction",
         "4509.34",
         "0.0",
         "1.99",
         "31",
         "Amazon Digital Services,  Inc.",
         "2266"
        ],
        [
         "31",
         "31",
         "2010.0",
         "The Way of Kings",
         "Brandon Sanderson",
         "eng",
         "Famous",
         "4.64",
         "144822",
         "genre fiction",
         "2178.0",
         "0.0",
         "0.99",
         "32",
         "Amazon Digital Services,  Inc.",
         "2200"
        ],
        [
         "32",
         "32",
         "2003.0",
         "Club Dead",
         "Charlaine Harris",
         "en-GB",
         "Intermediate",
         "4.03",
         "181323",
         "genre fiction",
         "13178.0",
         "7906.8",
         "5.99",
         "32",
         "HarperCollins Publishers",
         "2200"
        ],
        [
         "33",
         "33",
         "2006.0",
         "It's Kind of a Funny Story",
         "Ned Vizzini",
         "en-US",
         "Intermediate",
         "4.14",
         "161001",
         "nonfiction",
         "2045.34",
         "1227.204",
         "0.99",
         "34",
         "HarperCollins Publishers",
         "2066"
        ],
        [
         "34",
         "34",
         "2007.0",
         null,
         "Brandon Sanderson",
         "eng",
         "Intermediate",
         "4.35",
         "150736",
         "genre fiction",
         "17980.0",
         "10788.0",
         "8.99",
         "35",
         "Random House LLC",
         "2000"
        ],
        [
         "35",
         "35",
         "2015.0",
         "After You",
         "Jojo Moyes",
         "eng",
         "Intermediate",
         "3.7",
         "99342",
         "genre fiction",
         "1964.16",
         "0.0",
         "0.99",
         "36",
         "Amazon Digital Services,  Inc.",
         "1984"
        ],
        [
         "36",
         "36",
         "2011.0",
         "The Language of Flowers",
         "Vanessa Diffenbaugh",
         "eng",
         "Intermediate",
         "4.07",
         "140076",
         "genre fiction",
         "1964.16",
         "1178.496",
         "0.99",
         "36",
         "Amazon Digital Services,  Inc.",
         "1984"
        ],
        [
         "37",
         "37",
         "1986.0",
         "Batman: The Dark Knight Returns",
         "Frank Miller, Klaus Janson, Lynn Varley",
         "eng",
         "Intermediate",
         "4.25",
         "135979",
         "genre fiction",
         "1949.31",
         "0.0",
         "0.99",
         "37",
         "Amazon Digital Services,  Inc.",
         "1969"
        ],
        [
         "38",
         "38",
         "2005.0",
         "The Angel Experiment",
         "James Patterson",
         "eng",
         "Intermediate",
         "4.08",
         "172302",
         "genre fiction",
         "1949.31",
         "0.0",
         "0.99",
         "37",
         "Amazon Digital Services,  Inc.",
         "1969"
        ],
        [
         "39",
         "39",
         "1995.0",
         "High Fidelity",
         "Nick Hornby",
         "eng",
         "Intermediate",
         "3.94",
         "134849",
         "genre fiction",
         "20309.55",
         "12185.73",
         "10.65",
         "41",
         "Random House LLC",
         "1907"
        ],
        [
         "40",
         "40",
         "2003.0",
         "The Guardian",
         "Nicholas Sparks",
         "en-US",
         "Intermediate",
         "4.14",
         "136427",
         "genre fiction",
         "1873.08",
         "0.0",
         "0.99",
         "42",
         "Amazon Digital Services,  Inc.",
         "1892"
        ],
        [
         "41",
         "41",
         "2003.0",
         "Oryx and Crake",
         "Margaret Atwood",
         "eng",
         "Intermediate",
         "4.0",
         "151500",
         "genre fiction",
         "7485.24",
         "0.0",
         "3.99",
         "43",
         "Amazon Digital Services,  Inc.",
         "1876"
        ],
        [
         "42",
         "42",
         "1998.0",
         "Men Are from Mars, Women Are from Venus Book of Days: 365 Inspirations to Enrich Your Relationships",
         "John Gray",
         "en-US",
         "Intermediate",
         "3.52",
         "113915",
         "genre fiction",
         "3703.39",
         "2222.034",
         "1.99",
         "44",
         "Amazon Digital Services,  Inc.",
         "1861"
        ],
        [
         "43",
         "43",
         "2000.0",
         "Kitchen Confidential: Adventures in the Culinary Underbelly",
         "Anthony Bourdain",
         "eng",
         "Intermediate",
         "4.0",
         "134177",
         "genre fiction",
         "11057.54",
         "6634.524",
         "5.99",
         "45",
         "HarperCollins Publishers",
         "1846"
        ],
        [
         "44",
         "44",
         "1999.0",
         "Timeline",
         "Michael Crichton",
         "en-US",
         "Intermediate",
         "3.83",
         "148563",
         "genre fiction",
         "12791.7",
         "7675.02",
         "6.99",
         "46",
         "Amazon Digital Services,  Inc.",
         "1830"
        ],
        [
         "45",
         "45",
         "1759.0",
         "Candide",
         "Voltaire",
         "eng",
         "Intermediate",
         "3.76",
         "151471",
         "genre fiction",
         "8982.0",
         "0.0",
         "4.99",
         "48",
         "Amazon Digital Services,  Inc.",
         "1800"
        ],
        [
         "46",
         "46",
         "1975.0",
         "Tuck Everlasting",
         "Natalie Babbitt",
         "eng",
         "Intermediate",
         "3.85",
         "174280",
         "nonfiction",
         "3582.0",
         "2149.2",
         "1.99",
         "48",
         "Amazon Digital Services,  Inc.",
         "1800"
        ],
        [
         "47",
         "47",
         "1983.0",
         "Christine",
         "Stephen King, Marie Milpois",
         "fre",
         "Intermediate",
         "3.72",
         "151160",
         "nonfiction",
         "1766.16",
         "1059.696",
         "0.99",
         "49",
         "Amazon Digital Services,  Inc.",
         "1784"
        ],
        [
         "48",
         "48",
         "1960.0",
         "Are You My Mother?",
         "P.D. Eastman",
         "eng",
         "Intermediate",
         "4.16",
         "174204",
         "genre fiction",
         "10596.31",
         "6357.786",
         "5.99",
         "50",
         "Penguin Group (USA) LLC",
         "1769"
        ],
        [
         "49",
         "49",
         "1950.0",
         "The Story of Art",
         "E.H. Gombrich",
         "en-US",
         "Intermediate",
         "3.83",
         "164708",
         "genre fiction",
         "15058.27",
         "9034.962",
         "8.59",
         "51",
         "Hachette Book Group",
         "1753"
        ]
       ],
       "shape": {
        "columns": 15,
        "rows": 1070
       }
      },
      "text/html": [
       "<div>\n",
       "<style scoped>\n",
       "    .dataframe tbody tr th:only-of-type {\n",
       "        vertical-align: middle;\n",
       "    }\n",
       "\n",
       "    .dataframe tbody tr th {\n",
       "        vertical-align: top;\n",
       "    }\n",
       "\n",
       "    .dataframe thead th {\n",
       "        text-align: right;\n",
       "    }\n",
       "</style>\n",
       "<table border=\"1\" class=\"dataframe\">\n",
       "  <thead>\n",
       "    <tr style=\"text-align: right;\">\n",
       "      <th></th>\n",
       "      <th>index</th>\n",
       "      <th>Publishing Year</th>\n",
       "      <th>Book Name</th>\n",
       "      <th>Author</th>\n",
       "      <th>language_code</th>\n",
       "      <th>Author_Rating</th>\n",
       "      <th>Book_average_rating</th>\n",
       "      <th>Book_ratings_count</th>\n",
       "      <th>genre</th>\n",
       "      <th>gross sales</th>\n",
       "      <th>publisher revenue</th>\n",
       "      <th>sale price</th>\n",
       "      <th>sales rank</th>\n",
       "      <th>Publisher</th>\n",
       "      <th>units sold</th>\n",
       "    </tr>\n",
       "  </thead>\n",
       "  <tbody>\n",
       "    <tr>\n",
       "      <th>0</th>\n",
       "      <td>0</td>\n",
       "      <td>1975.0</td>\n",
       "      <td>Beowulf</td>\n",
       "      <td>Unknown, Seamus Heaney</td>\n",
       "      <td>en-US</td>\n",
       "      <td>Novice</td>\n",
       "      <td>3.42</td>\n",
       "      <td>155903</td>\n",
       "      <td>genre fiction</td>\n",
       "      <td>34160.00</td>\n",
       "      <td>20496.000</td>\n",
       "      <td>4.88</td>\n",
       "      <td>1</td>\n",
       "      <td>HarperCollins Publishers</td>\n",
       "      <td>7000</td>\n",
       "    </tr>\n",
       "    <tr>\n",
       "      <th>1</th>\n",
       "      <td>1</td>\n",
       "      <td>1987.0</td>\n",
       "      <td>Batman: Year One</td>\n",
       "      <td>Frank Miller, David Mazzucchelli, Richmond Lew...</td>\n",
       "      <td>eng</td>\n",
       "      <td>Intermediate</td>\n",
       "      <td>4.23</td>\n",
       "      <td>145267</td>\n",
       "      <td>genre fiction</td>\n",
       "      <td>12437.50</td>\n",
       "      <td>7462.500</td>\n",
       "      <td>1.99</td>\n",
       "      <td>2</td>\n",
       "      <td>HarperCollins Publishers</td>\n",
       "      <td>6250</td>\n",
       "    </tr>\n",
       "    <tr>\n",
       "      <th>2</th>\n",
       "      <td>2</td>\n",
       "      <td>2015.0</td>\n",
       "      <td>Go Set a Watchman</td>\n",
       "      <td>Harper Lee</td>\n",
       "      <td>eng</td>\n",
       "      <td>Novice</td>\n",
       "      <td>3.31</td>\n",
       "      <td>138669</td>\n",
       "      <td>genre fiction</td>\n",
       "      <td>47795.00</td>\n",
       "      <td>28677.000</td>\n",
       "      <td>8.69</td>\n",
       "      <td>3</td>\n",
       "      <td>Amazon Digital Services,  Inc.</td>\n",
       "      <td>5500</td>\n",
       "    </tr>\n",
       "    <tr>\n",
       "      <th>3</th>\n",
       "      <td>3</td>\n",
       "      <td>2008.0</td>\n",
       "      <td>When You Are Engulfed in Flames</td>\n",
       "      <td>David Sedaris</td>\n",
       "      <td>en-US</td>\n",
       "      <td>Intermediate</td>\n",
       "      <td>4.04</td>\n",
       "      <td>150898</td>\n",
       "      <td>fiction</td>\n",
       "      <td>41250.00</td>\n",
       "      <td>24750.000</td>\n",
       "      <td>7.50</td>\n",
       "      <td>3</td>\n",
       "      <td>Hachette Book Group</td>\n",
       "      <td>5500</td>\n",
       "    </tr>\n",
       "    <tr>\n",
       "      <th>4</th>\n",
       "      <td>4</td>\n",
       "      <td>2011.0</td>\n",
       "      <td>Daughter of Smoke &amp; Bone</td>\n",
       "      <td>Laini Taylor</td>\n",
       "      <td>eng</td>\n",
       "      <td>Intermediate</td>\n",
       "      <td>4.04</td>\n",
       "      <td>198283</td>\n",
       "      <td>genre fiction</td>\n",
       "      <td>37952.50</td>\n",
       "      <td>22771.500</td>\n",
       "      <td>7.99</td>\n",
       "      <td>4</td>\n",
       "      <td>Penguin Group (USA) LLC</td>\n",
       "      <td>4750</td>\n",
       "    </tr>\n",
       "    <tr>\n",
       "      <th>...</th>\n",
       "      <td>...</td>\n",
       "      <td>...</td>\n",
       "      <td>...</td>\n",
       "      <td>...</td>\n",
       "      <td>...</td>\n",
       "      <td>...</td>\n",
       "      <td>...</td>\n",
       "      <td>...</td>\n",
       "      <td>...</td>\n",
       "      <td>...</td>\n",
       "      <td>...</td>\n",
       "      <td>...</td>\n",
       "      <td>...</td>\n",
       "      <td>...</td>\n",
       "      <td>...</td>\n",
       "    </tr>\n",
       "    <tr>\n",
       "      <th>1065</th>\n",
       "      <td>1065</td>\n",
       "      <td>2014.0</td>\n",
       "      <td>Gray Mountain</td>\n",
       "      <td>John Grisham</td>\n",
       "      <td>eng</td>\n",
       "      <td>Intermediate</td>\n",
       "      <td>3.52</td>\n",
       "      <td>37379</td>\n",
       "      <td>nonfiction</td>\n",
       "      <td>104.94</td>\n",
       "      <td>62.964</td>\n",
       "      <td>0.99</td>\n",
       "      <td>1268</td>\n",
       "      <td>Amazon Digital Services,  Inc.</td>\n",
       "      <td>106</td>\n",
       "    </tr>\n",
       "    <tr>\n",
       "      <th>1066</th>\n",
       "      <td>1066</td>\n",
       "      <td>1989.0</td>\n",
       "      <td>The Power of One</td>\n",
       "      <td>Bryce Courtenay</td>\n",
       "      <td>eng</td>\n",
       "      <td>Excellent</td>\n",
       "      <td>4.34</td>\n",
       "      <td>57312</td>\n",
       "      <td>genre fiction</td>\n",
       "      <td>846.94</td>\n",
       "      <td>508.164</td>\n",
       "      <td>7.99</td>\n",
       "      <td>1270</td>\n",
       "      <td>Random House LLC</td>\n",
       "      <td>106</td>\n",
       "    </tr>\n",
       "    <tr>\n",
       "      <th>1067</th>\n",
       "      <td>1067</td>\n",
       "      <td>1930.0</td>\n",
       "      <td>The Maltese Falcon</td>\n",
       "      <td>Dashiell Hammett</td>\n",
       "      <td>eng</td>\n",
       "      <td>Intermediate</td>\n",
       "      <td>3.92</td>\n",
       "      <td>58742</td>\n",
       "      <td>genre fiction</td>\n",
       "      <td>846.94</td>\n",
       "      <td>508.164</td>\n",
       "      <td>7.99</td>\n",
       "      <td>1271</td>\n",
       "      <td>Hachette Book Group</td>\n",
       "      <td>106</td>\n",
       "    </tr>\n",
       "    <tr>\n",
       "      <th>1068</th>\n",
       "      <td>1068</td>\n",
       "      <td>2011.0</td>\n",
       "      <td>Night Road</td>\n",
       "      <td>Kristin Hannah</td>\n",
       "      <td>en-US</td>\n",
       "      <td>Excellent</td>\n",
       "      <td>4.17</td>\n",
       "      <td>58028</td>\n",
       "      <td>genre fiction</td>\n",
       "      <td>104.94</td>\n",
       "      <td>62.964</td>\n",
       "      <td>0.99</td>\n",
       "      <td>1272</td>\n",
       "      <td>Amazon Digital Services,  Inc.</td>\n",
       "      <td>106</td>\n",
       "    </tr>\n",
       "    <tr>\n",
       "      <th>1069</th>\n",
       "      <td>1069</td>\n",
       "      <td>1999.0</td>\n",
       "      <td>Tripwire</td>\n",
       "      <td>Lee Child</td>\n",
       "      <td>eng</td>\n",
       "      <td>Excellent</td>\n",
       "      <td>4.07</td>\n",
       "      <td>55251</td>\n",
       "      <td>genre fiction</td>\n",
       "      <td>316.94</td>\n",
       "      <td>0.000</td>\n",
       "      <td>2.99</td>\n",
       "      <td>1273</td>\n",
       "      <td>Amazon Digital Services,  Inc.</td>\n",
       "      <td>106</td>\n",
       "    </tr>\n",
       "  </tbody>\n",
       "</table>\n",
       "<p>1070 rows × 15 columns</p>\n",
       "</div>"
      ],
      "text/plain": [
       "      index  Publishing Year                        Book Name  \\\n",
       "0         0           1975.0                          Beowulf   \n",
       "1         1           1987.0                 Batman: Year One   \n",
       "2         2           2015.0                Go Set a Watchman   \n",
       "3         3           2008.0  When You Are Engulfed in Flames   \n",
       "4         4           2011.0         Daughter of Smoke & Bone   \n",
       "...     ...              ...                              ...   \n",
       "1065   1065           2014.0                    Gray Mountain   \n",
       "1066   1066           1989.0                 The Power of One   \n",
       "1067   1067           1930.0               The Maltese Falcon   \n",
       "1068   1068           2011.0                       Night Road   \n",
       "1069   1069           1999.0                         Tripwire   \n",
       "\n",
       "                                                 Author language_code  \\\n",
       "0                                Unknown, Seamus Heaney         en-US   \n",
       "1     Frank Miller, David Mazzucchelli, Richmond Lew...           eng   \n",
       "2                                            Harper Lee           eng   \n",
       "3                                         David Sedaris         en-US   \n",
       "4                                          Laini Taylor           eng   \n",
       "...                                                 ...           ...   \n",
       "1065                                       John Grisham           eng   \n",
       "1066                                    Bryce Courtenay           eng   \n",
       "1067                                   Dashiell Hammett           eng   \n",
       "1068                                     Kristin Hannah         en-US   \n",
       "1069                                          Lee Child           eng   \n",
       "\n",
       "     Author_Rating  Book_average_rating  Book_ratings_count          genre  \\\n",
       "0           Novice                 3.42              155903  genre fiction   \n",
       "1     Intermediate                 4.23              145267  genre fiction   \n",
       "2           Novice                 3.31              138669  genre fiction   \n",
       "3     Intermediate                 4.04              150898        fiction   \n",
       "4     Intermediate                 4.04              198283  genre fiction   \n",
       "...            ...                  ...                 ...            ...   \n",
       "1065  Intermediate                 3.52               37379     nonfiction   \n",
       "1066     Excellent                 4.34               57312  genre fiction   \n",
       "1067  Intermediate                 3.92               58742  genre fiction   \n",
       "1068     Excellent                 4.17               58028  genre fiction   \n",
       "1069     Excellent                 4.07               55251  genre fiction   \n",
       "\n",
       "      gross sales  publisher revenue  sale price  sales rank  \\\n",
       "0        34160.00          20496.000        4.88           1   \n",
       "1        12437.50           7462.500        1.99           2   \n",
       "2        47795.00          28677.000        8.69           3   \n",
       "3        41250.00          24750.000        7.50           3   \n",
       "4        37952.50          22771.500        7.99           4   \n",
       "...           ...                ...         ...         ...   \n",
       "1065       104.94             62.964        0.99        1268   \n",
       "1066       846.94            508.164        7.99        1270   \n",
       "1067       846.94            508.164        7.99        1271   \n",
       "1068       104.94             62.964        0.99        1272   \n",
       "1069       316.94              0.000        2.99        1273   \n",
       "\n",
       "                          Publisher   units sold  \n",
       "0           HarperCollins Publishers        7000  \n",
       "1           HarperCollins Publishers        6250  \n",
       "2     Amazon Digital Services,  Inc.        5500  \n",
       "3                Hachette Book Group        5500  \n",
       "4            Penguin Group (USA) LLC        4750  \n",
       "...                              ...         ...  \n",
       "1065  Amazon Digital Services,  Inc.         106  \n",
       "1066                Random House LLC         106  \n",
       "1067             Hachette Book Group         106  \n",
       "1068  Amazon Digital Services,  Inc.         106  \n",
       "1069  Amazon Digital Services,  Inc.         106  \n",
       "\n",
       "[1070 rows x 15 columns]"
      ]
     },
     "execution_count": 11,
     "metadata": {},
     "output_type": "execute_result"
    }
   ],
   "source": [
    "book = pd.read_csv(\"Books_Data_Clean.csv\")\n",
    "book"
   ]
  },
  {
   "cell_type": "code",
   "execution_count": 9,
   "id": "b6bf47d0",
   "metadata": {},
   "outputs": [
    {
     "name": "stdout",
     "output_type": "stream",
     "text": [
      "<class 'pandas.core.frame.DataFrame'>\n",
      "RangeIndex: 1070 entries, 0 to 1069\n",
      "Data columns (total 15 columns):\n",
      " #   Column               Non-Null Count  Dtype  \n",
      "---  ------               --------------  -----  \n",
      " 0   index                1070 non-null   int64  \n",
      " 1   Publishing Year      1069 non-null   float64\n",
      " 2   Book Name            1047 non-null   object \n",
      " 3   Author               1070 non-null   object \n",
      " 4   language_code        1017 non-null   object \n",
      " 5   Author_Rating        1070 non-null   object \n",
      " 6   Book_average_rating  1070 non-null   float64\n",
      " 7   Book_ratings_count   1070 non-null   int64  \n",
      " 8   genre                1070 non-null   object \n",
      " 9   gross sales          1070 non-null   float64\n",
      " 10  publisher revenue    1070 non-null   float64\n",
      " 11  sale price           1070 non-null   float64\n",
      " 12  sales rank           1070 non-null   int64  \n",
      " 13  Publisher            1070 non-null   object \n",
      " 14  units sold           1070 non-null   int64  \n",
      "dtypes: float64(5), int64(4), object(6)\n",
      "memory usage: 125.5+ KB\n"
     ]
    }
   ],
   "source": [
    "book.info()"
   ]
  },
  {
   "cell_type": "code",
   "execution_count": 14,
   "id": "e1e32ae5",
   "metadata": {},
   "outputs": [
    {
     "data": {
      "application/vnd.microsoft.datawrangler.viewer.v0+json": {
       "columns": [
        {
         "name": "index",
         "rawType": "object",
         "type": "string"
        },
        {
         "name": "index",
         "rawType": "float64",
         "type": "float"
        },
        {
         "name": "Publishing Year",
         "rawType": "float64",
         "type": "float"
        },
        {
         "name": "Book_average_rating",
         "rawType": "float64",
         "type": "float"
        },
        {
         "name": "Book_ratings_count",
         "rawType": "float64",
         "type": "float"
        },
        {
         "name": "gross sales",
         "rawType": "float64",
         "type": "float"
        },
        {
         "name": "publisher revenue",
         "rawType": "float64",
         "type": "float"
        },
        {
         "name": "sale price",
         "rawType": "float64",
         "type": "float"
        },
        {
         "name": "sales rank",
         "rawType": "float64",
         "type": "float"
        },
        {
         "name": "units sold",
         "rawType": "float64",
         "type": "float"
        }
       ],
       "ref": "78d9f0d7-2aba-48df-99a4-4cfb898d1a31",
       "rows": [
        [
         "count",
         "1009.0",
         "1009.0",
         "1009.0",
         "1009.0",
         "1009.0",
         "1009.0",
         "1009.0",
         "1009.0",
         "1009.0"
        ],
        [
         "mean",
         "535.9266600594648",
         "1994.7304261645193",
         "4.012229930624381",
         "94817.79385530228",
         "1832.644985133796",
         "841.3606382556987",
         "4.8443111992071355",
         "613.3141724479683",
         "9744.482656095144"
        ],
        [
         "std",
         "308.7693580025613",
         "23.204719431306724",
         "0.24649222164893503",
         "31473.890412428733",
         "3947.8850963264686",
         "2279.579848103225",
         "3.561711865797645",
         "369.62866314503657",
         "15350.021050472435"
        ],
        [
         "min",
         "0.0",
         "1901.0",
         "2.97",
         "27308.0",
         "104.94",
         "0.0",
         "0.99",
         "1.0",
         "106.0"
        ],
        [
         "25%",
         "271.0",
         "1989.0",
         "3.86",
         "70701.0",
         "366.3",
         "0.0",
         "1.99",
         "291.0",
         "570.0"
        ],
        [
         "50%",
         "535.0",
         "2003.0",
         "4.03",
         "89204.0",
         "792.0",
         "273.24",
         "3.99",
         "596.0",
         "3942.0"
        ],
        [
         "75%",
         "802.0",
         "2010.0",
         "4.18",
         "113400.0",
         "1470.26",
         "714.756",
         "6.99",
         "933.0",
         "5427.0"
        ],
        [
         "max",
         "1069.0",
         "2016.0",
         "4.77",
         "206792.0",
         "47795.0",
         "28677.0",
         "33.86",
         "1273.0",
         "61560.0"
        ]
       ],
       "shape": {
        "columns": 9,
        "rows": 8
       }
      },
      "text/html": [
       "<div>\n",
       "<style scoped>\n",
       "    .dataframe tbody tr th:only-of-type {\n",
       "        vertical-align: middle;\n",
       "    }\n",
       "\n",
       "    .dataframe tbody tr th {\n",
       "        vertical-align: top;\n",
       "    }\n",
       "\n",
       "    .dataframe thead th {\n",
       "        text-align: right;\n",
       "    }\n",
       "</style>\n",
       "<table border=\"1\" class=\"dataframe\">\n",
       "  <thead>\n",
       "    <tr style=\"text-align: right;\">\n",
       "      <th></th>\n",
       "      <th>index</th>\n",
       "      <th>Publishing Year</th>\n",
       "      <th>Book_average_rating</th>\n",
       "      <th>Book_ratings_count</th>\n",
       "      <th>gross sales</th>\n",
       "      <th>publisher revenue</th>\n",
       "      <th>sale price</th>\n",
       "      <th>sales rank</th>\n",
       "      <th>units sold</th>\n",
       "    </tr>\n",
       "  </thead>\n",
       "  <tbody>\n",
       "    <tr>\n",
       "      <th>count</th>\n",
       "      <td>1009.000000</td>\n",
       "      <td>1009.000000</td>\n",
       "      <td>1009.000000</td>\n",
       "      <td>1009.000000</td>\n",
       "      <td>1009.000000</td>\n",
       "      <td>1009.000000</td>\n",
       "      <td>1009.000000</td>\n",
       "      <td>1009.000000</td>\n",
       "      <td>1009.000000</td>\n",
       "    </tr>\n",
       "    <tr>\n",
       "      <th>mean</th>\n",
       "      <td>535.926660</td>\n",
       "      <td>1994.730426</td>\n",
       "      <td>4.012230</td>\n",
       "      <td>94817.793855</td>\n",
       "      <td>1832.644985</td>\n",
       "      <td>841.360638</td>\n",
       "      <td>4.844311</td>\n",
       "      <td>613.314172</td>\n",
       "      <td>9744.482656</td>\n",
       "    </tr>\n",
       "    <tr>\n",
       "      <th>std</th>\n",
       "      <td>308.769358</td>\n",
       "      <td>23.204719</td>\n",
       "      <td>0.246492</td>\n",
       "      <td>31473.890412</td>\n",
       "      <td>3947.885096</td>\n",
       "      <td>2279.579848</td>\n",
       "      <td>3.561712</td>\n",
       "      <td>369.628663</td>\n",
       "      <td>15350.021050</td>\n",
       "    </tr>\n",
       "    <tr>\n",
       "      <th>min</th>\n",
       "      <td>0.000000</td>\n",
       "      <td>1901.000000</td>\n",
       "      <td>2.970000</td>\n",
       "      <td>27308.000000</td>\n",
       "      <td>104.940000</td>\n",
       "      <td>0.000000</td>\n",
       "      <td>0.990000</td>\n",
       "      <td>1.000000</td>\n",
       "      <td>106.000000</td>\n",
       "    </tr>\n",
       "    <tr>\n",
       "      <th>25%</th>\n",
       "      <td>271.000000</td>\n",
       "      <td>1989.000000</td>\n",
       "      <td>3.860000</td>\n",
       "      <td>70701.000000</td>\n",
       "      <td>366.300000</td>\n",
       "      <td>0.000000</td>\n",
       "      <td>1.990000</td>\n",
       "      <td>291.000000</td>\n",
       "      <td>570.000000</td>\n",
       "    </tr>\n",
       "    <tr>\n",
       "      <th>50%</th>\n",
       "      <td>535.000000</td>\n",
       "      <td>2003.000000</td>\n",
       "      <td>4.030000</td>\n",
       "      <td>89204.000000</td>\n",
       "      <td>792.000000</td>\n",
       "      <td>273.240000</td>\n",
       "      <td>3.990000</td>\n",
       "      <td>596.000000</td>\n",
       "      <td>3942.000000</td>\n",
       "    </tr>\n",
       "    <tr>\n",
       "      <th>75%</th>\n",
       "      <td>802.000000</td>\n",
       "      <td>2010.000000</td>\n",
       "      <td>4.180000</td>\n",
       "      <td>113400.000000</td>\n",
       "      <td>1470.260000</td>\n",
       "      <td>714.756000</td>\n",
       "      <td>6.990000</td>\n",
       "      <td>933.000000</td>\n",
       "      <td>5427.000000</td>\n",
       "    </tr>\n",
       "    <tr>\n",
       "      <th>max</th>\n",
       "      <td>1069.000000</td>\n",
       "      <td>2016.000000</td>\n",
       "      <td>4.770000</td>\n",
       "      <td>206792.000000</td>\n",
       "      <td>47795.000000</td>\n",
       "      <td>28677.000000</td>\n",
       "      <td>33.860000</td>\n",
       "      <td>1273.000000</td>\n",
       "      <td>61560.000000</td>\n",
       "    </tr>\n",
       "  </tbody>\n",
       "</table>\n",
       "</div>"
      ],
      "text/plain": [
       "             index  Publishing Year  Book_average_rating  Book_ratings_count  \\\n",
       "count  1009.000000      1009.000000          1009.000000         1009.000000   \n",
       "mean    535.926660      1994.730426             4.012230        94817.793855   \n",
       "std     308.769358        23.204719             0.246492        31473.890412   \n",
       "min       0.000000      1901.000000             2.970000        27308.000000   \n",
       "25%     271.000000      1989.000000             3.860000        70701.000000   \n",
       "50%     535.000000      2003.000000             4.030000        89204.000000   \n",
       "75%     802.000000      2010.000000             4.180000       113400.000000   \n",
       "max    1069.000000      2016.000000             4.770000       206792.000000   \n",
       "\n",
       "        gross sales  publisher revenue   sale price   sales rank    units sold  \n",
       "count   1009.000000        1009.000000  1009.000000  1009.000000   1009.000000  \n",
       "mean    1832.644985         841.360638     4.844311   613.314172   9744.482656  \n",
       "std     3947.885096        2279.579848     3.561712   369.628663  15350.021050  \n",
       "min      104.940000           0.000000     0.990000     1.000000    106.000000  \n",
       "25%      366.300000           0.000000     1.990000   291.000000    570.000000  \n",
       "50%      792.000000         273.240000     3.990000   596.000000   3942.000000  \n",
       "75%     1470.260000         714.756000     6.990000   933.000000   5427.000000  \n",
       "max    47795.000000       28677.000000    33.860000  1273.000000  61560.000000  "
      ]
     },
     "execution_count": 14,
     "metadata": {},
     "output_type": "execute_result"
    }
   ],
   "source": [
    "book.describe()"
   ]
  },
  {
   "cell_type": "code",
   "execution_count": 13,
   "id": "b6123630",
   "metadata": {},
   "outputs": [],
   "source": [
    "book = book[book['Publishing Year'] > 1900]"
   ]
  },
  {
   "cell_type": "code",
   "execution_count": 19,
   "id": "902e9f51",
   "metadata": {},
   "outputs": [
    {
     "data": {
      "application/vnd.microsoft.datawrangler.viewer.v0+json": {
       "columns": [
        {
         "name": "index",
         "rawType": "object",
         "type": "string"
        },
        {
         "name": "0",
         "rawType": "int64",
         "type": "integer"
        }
       ],
       "ref": "bcc1e7b9-91ed-4ed5-a0ad-958003d92d06",
       "rows": [
        [
         "index",
         "0"
        ],
        [
         "Publishing Year",
         "0"
        ],
        [
         "Book Name",
         "0"
        ],
        [
         "Author",
         "0"
        ],
        [
         "language_code",
         "47"
        ],
        [
         "Author_Rating",
         "0"
        ],
        [
         "Book_average_rating",
         "0"
        ],
        [
         "Book_ratings_count",
         "0"
        ],
        [
         "genre",
         "0"
        ],
        [
         "gross sales",
         "0"
        ],
        [
         "publisher revenue",
         "0"
        ],
        [
         "sale price",
         "0"
        ],
        [
         "sales rank",
         "0"
        ],
        [
         "Publisher ",
         "0"
        ],
        [
         "units sold",
         "0"
        ]
       ],
       "shape": {
        "columns": 1,
        "rows": 15
       }
      },
      "text/plain": [
       "index                   0\n",
       "Publishing Year         0\n",
       "Book Name               0\n",
       "Author                  0\n",
       "language_code          47\n",
       "Author_Rating           0\n",
       "Book_average_rating     0\n",
       "Book_ratings_count      0\n",
       "genre                   0\n",
       "gross sales             0\n",
       "publisher revenue       0\n",
       "sale price              0\n",
       "sales rank              0\n",
       "Publisher               0\n",
       "units sold              0\n",
       "dtype: int64"
      ]
     },
     "execution_count": 19,
     "metadata": {},
     "output_type": "execute_result"
    }
   ],
   "source": [
    "book.isna().sum()"
   ]
  },
  {
   "cell_type": "code",
   "execution_count": 18,
   "id": "e7c4441e",
   "metadata": {},
   "outputs": [
    {
     "name": "stderr",
     "output_type": "stream",
     "text": [
      "C:\\Users\\ghatfan\\AppData\\Local\\Temp\\ipykernel_16428\\3570019034.py:1: SettingWithCopyWarning: \n",
      "A value is trying to be set on a copy of a slice from a DataFrame\n",
      "\n",
      "See the caveats in the documentation: https://pandas.pydata.org/pandas-docs/stable/user_guide/indexing.html#returning-a-view-versus-a-copy\n",
      "  book.dropna(subset= \"Book Name\", inplace=True)\n"
     ]
    }
   ],
   "source": [
    "book.dropna(subset= \"Book Name\", inplace=True)"
   ]
  },
  {
   "cell_type": "code",
   "execution_count": 20,
   "id": "47091a68",
   "metadata": {},
   "outputs": [
    {
     "data": {
      "text/plain": [
       "np.int64(0)"
      ]
     },
     "execution_count": 20,
     "metadata": {},
     "output_type": "execute_result"
    }
   ],
   "source": [
    "book.duplicated().sum()"
   ]
  },
  {
   "cell_type": "code",
   "execution_count": 21,
   "id": "593a15c1",
   "metadata": {},
   "outputs": [
    {
     "data": {
      "application/vnd.microsoft.datawrangler.viewer.v0+json": {
       "columns": [
        {
         "name": "index",
         "rawType": "object",
         "type": "string"
        },
        {
         "name": "0",
         "rawType": "int64",
         "type": "integer"
        }
       ],
       "ref": "789b1c10-c19a-4662-8533-b4a31df155f5",
       "rows": [
        [
         "index",
         "988"
        ],
        [
         "Publishing Year",
         "101"
        ],
        [
         "Book Name",
         "987"
        ],
        [
         "Author",
         "669"
        ],
        [
         "language_code",
         "8"
        ],
        [
         "Author_Rating",
         "4"
        ],
        [
         "Book_average_rating",
         "133"
        ],
        [
         "Book_ratings_count",
         "983"
        ],
        [
         "genre",
         "4"
        ],
        [
         "gross sales",
         "774"
        ],
        [
         "publisher revenue",
         "570"
        ],
        [
         "sale price",
         "143"
        ],
        [
         "sales rank",
         "818"
        ],
        [
         "Publisher ",
         "9"
        ],
        [
         "units sold",
         "470"
        ]
       ],
       "shape": {
        "columns": 1,
        "rows": 15
       }
      },
      "text/plain": [
       "index                  988\n",
       "Publishing Year        101\n",
       "Book Name              987\n",
       "Author                 669\n",
       "language_code            8\n",
       "Author_Rating            4\n",
       "Book_average_rating    133\n",
       "Book_ratings_count     983\n",
       "genre                    4\n",
       "gross sales            774\n",
       "publisher revenue      570\n",
       "sale price             143\n",
       "sales rank             818\n",
       "Publisher                9\n",
       "units sold             470\n",
       "dtype: int64"
      ]
     },
     "execution_count": 21,
     "metadata": {},
     "output_type": "execute_result"
    }
   ],
   "source": [
    "book.nunique()"
   ]
  },
  {
   "cell_type": "code",
   "execution_count": 22,
   "id": "ec88943e",
   "metadata": {},
   "outputs": [
    {
     "data": {
      "image/png": "[encoded data removed]",
      "text/plain": [
       "<Figure size 640x480 with 1 Axes>"
      ]
     },
     "metadata": {},
     "output_type": "display_data"
    }
   ],
   "source": [
    "plt.hist(book[\"Publishing Year\"])\n",
    "plt.xlabel(\"Publishing Year\")\n",
    "plt.ylabel(\"Frequency\")\n",
    "plt.title(\"Distribution of publishing Year\")\n",
    "plt.show()"
   ]
  },
  {
   "cell_type": "code",
   "execution_count": 26,
   "id": "7bcb1fa3",
   "metadata": {},
   "outputs": [
    {
     "data": {
      "image/png": "[encoded data removed]",
      "text/plain": [
       "<Figure size 640x480 with 1 Axes>"
      ]
     },
     "metadata": {},
     "output_type": "display_data"
    }
   ],
   "source": [
    "book[\"genre\"].value_counts().plot(kind='bar')\n",
    "plt.xlabel(\"Genre\")\n",
    "plt.ylabel(\"Number of Books\")\n",
    "plt.show(\"Number of books in each Genre\")"
   ]
  },
  {
   "cell_type": "code",
   "execution_count": 34,
   "id": "c5e7592c",
   "metadata": {},
   "outputs": [
    {
     "data": {
      "application/vnd.microsoft.datawrangler.viewer.v0+json": {
       "columns": [
        {
         "name": "Author",
         "rawType": "object",
         "type": "string"
        },
        {
         "name": "Book_average_rating",
         "rawType": "float64",
         "type": "float"
        }
       ],
       "ref": "a0e59f0a-51aa-474d-9226-bf93858ca7d8",
       "rows": [
        [
         "Bill Watterson",
         "4.65"
        ],
        [
         "Bill Watterson, G.B. Trudeau",
         "4.61"
        ],
        [
         "J.R.R. Tolkien",
         "4.59"
        ],
        [
         "George R.R. Martin",
         "4.56"
        ],
        [
         "Sarah J. Maas",
         "4.526"
        ],
        [
         "Hiromu Arakawa, Akira Watanabe",
         "4.49"
        ],
        [
         "Cassandra Clare",
         "4.48"
        ],
        [
         "Art Spiegelman",
         "4.470000000000001"
        ],
        [
         "Larry McMurtry",
         "4.47"
        ],
        [
         "Arthur Conan Doyle, Kyle Freeman",
         "4.46"
        ],
        [
         "Jon Stone, Michael J. Smollin",
         "4.45"
        ],
        [
         "Robert Kirkman",
         "4.43"
        ],
        [
         "Stephen E. Ambrose",
         "4.42"
        ],
        [
         "Alex Haley",
         "4.42"
        ],
        [
         "EiichirÅ Oda, Andy Nakatani",
         "4.42"
        ],
        [
         "Tsugumi Ohba, Takeshi Obata",
         "4.42"
        ],
        [
         "Hajime Isayama, Sheldon Drzka",
         "4.42"
        ],
        [
         "Robert Jordan, Brandon Sanderson",
         "4.42"
        ],
        [
         "Marissa Meyer",
         "4.416666666666667"
        ],
        [
         "Ta-Nehisi Coates",
         "4.4"
        ],
        [
         "Atul Gawande",
         "4.4"
        ],
        [
         "Hiro Mashima, William Flanagan",
         "4.4"
        ],
        [
         "Brandon Sanderson",
         "4.3999999999999995"
        ],
        [
         "Sharon M. Draper",
         "4.37"
        ],
        [
         "James Clavell",
         "4.37"
        ],
        [
         "Yana Toboso, Tomo Kimura",
         "4.37"
        ],
        [
         "Diana Gabaldon",
         "4.366"
        ],
        [
         "Marjane Satrapi, Mattias Ripa, Blake Ferris, Anjali Singh",
         "4.36"
        ],
        [
         "Sam McBratney, Anita Jeram",
         "4.36"
        ],
        [
         "Patrick Ness, Jim Kay, Siobhan Dowd",
         "4.36"
        ],
        [
         "Ruta Sepetys",
         "4.36"
        ],
        [
         "Bisco Hatori",
         "4.36"
        ],
        [
         "Alan Moore, Brian Bolland, Tim Sale",
         "4.36"
        ],
        [
         "A.A. Milne, Ernest H. Shepard",
         "4.36"
        ],
        [
         "Pierce Brown",
         "4.359999999999999"
        ],
        [
         "Rick Riordan",
         "4.3575"
        ],
        [
         "Masashi Kishimoto, Katy Bridges",
         "4.35"
        ],
        [
         "W. Bruce Cameron",
         "4.35"
        ],
        [
         "Thomas Keneally",
         "4.34"
        ],
        [
         "Robert Munsch, Sheila McGraw",
         "4.34"
        ],
        [
         "Rohinton Mistry",
         "4.34"
        ],
        [
         "Benjamin Alire SÃ¡enz",
         "4.34"
        ],
        [
         "Bryce Courtenay",
         "4.34"
        ],
        [
         "Marcus Luttrell, Patrick Robinson",
         "4.34"
        ],
        [
         "Mark Cotta Vaz",
         "4.34"
        ],
        [
         "J.R. Ward",
         "4.3342857142857145"
        ],
        [
         "Colleen Hoover",
         "4.333333333333333"
        ],
        [
         "Richelle Mead",
         "4.333333333333333"
        ],
        [
         "Shel Silverstein",
         "4.33"
        ],
        [
         "Leon Uris",
         "4.33"
        ]
       ],
       "shape": {
        "columns": 1,
        "rows": 669
       }
      },
      "text/plain": [
       "Author\n",
       "Bill Watterson                  4.650000\n",
       "Bill Watterson, G.B. Trudeau    4.610000\n",
       "J.R.R. Tolkien                  4.590000\n",
       "George R.R. Martin              4.560000\n",
       "Sarah J. Maas                   4.526000\n",
       "                                  ...   \n",
       "Chetan Bhagat                   3.273333\n",
       "Audrey Niffenegger              3.230000\n",
       "Herman Koch, Sam Garrett        3.220000\n",
       "P.D. James                      3.210000\n",
       "Sue Monk Kidd                   3.100000\n",
       "Name: Book_average_rating, Length: 669, dtype: float64"
      ]
     },
     "execution_count": 34,
     "metadata": {},
     "output_type": "execute_result"
    }
   ],
   "source": [
    "book.groupby(\"Author\")[\"Book_average_rating\"].mean().sort_values(ascending=False)"
   ]
  },
  {
   "cell_type": "code",
   "execution_count": 36,
   "id": "78fb7976",
   "metadata": {},
   "outputs": [
    {
     "data": {
      "image/png": "[encoded data removed]",
      "text/plain": [
       "<Figure size 640x480 with 1 Axes>"
      ]
     },
     "metadata": {},
     "output_type": "display_data"
    }
   ],
   "source": [
    "sns.boxplot(x='genre', y=\"Book_ratings_count\", data = book)\n",
    "plt.xlabel(\"Genre\")\n",
    "plt.ylabel(\"Book Rating Count\")\n",
    "plt.title(\"Boxplot Book ratings Count for Each Genre \")\n",
    "plt.show()"
   ]
  },
  {
   "cell_type": "code",
   "execution_count": 37,
   "id": "53492c29",
   "metadata": {},
   "outputs": [
    {
     "data": {
      "image/png": "[encoded data removed]",
      "text/plain": [
       "<Figure size 640x480 with 1 Axes>"
      ]
     },
     "metadata": {},
     "output_type": "display_data"
    }
   ],
   "source": [
    "plt.scatter(book['sale price'], book[\"units sold\"])\n",
    "plt.xlabel(\"Sale Price\")\n",
    "plt.ylabel(\"Units Sold\")\n",
    "plt.title(\"Scatter Plot of Sale Price vs Units Sold\")\n",
    "plt.show()"
   ]
  },
  {
   "cell_type": "code",
   "execution_count": 41,
   "id": "4423b218",
   "metadata": {},
   "outputs": [],
   "source": [
    "language_counts = book[\"language_code\"].value_counts()"
   ]
  },
  {
   "cell_type": "code",
   "execution_count": null,
   "id": "56c4ecce",
   "metadata": {},
   "outputs": [
    {
     "data": {
      "image/png": "[encoded data removed]",
      "text/plain": [
       "<Figure size 640x480 with 1 Axes>"
      ]
     },
     "metadata": {},
     "output_type": "display_data"
    }
   ],
   "source": [
    "plt.pie(language_counts, labels= language_counts.index, startangle= 90, autopct=\"%1.1f%%\" )\n",
    "plt.title(\"Language Distribution Of Books\")\n",
    "plt.show()"
   ]
  },
  {
   "cell_type": "code",
   "execution_count": 48,
   "id": "9d861fac",
   "metadata": {},
   "outputs": [
    {
     "data": {
      "application/vnd.microsoft.datawrangler.viewer.v0+json": {
       "columns": [
        {
         "name": "Publisher ",
         "rawType": "object",
         "type": "string"
        },
        {
         "name": "publisher revenue",
         "rawType": "float64",
         "type": "float"
        }
       ],
       "ref": "b6703222-a054-4ad0-8f5c-a4380d5ac2a0",
       "rows": [
        [
         "Penguin Group (USA) LLC",
         "191581.104"
        ],
        [
         "Random House LLC",
         "174956.244"
        ],
        [
         "Amazon Digital Services,  Inc.",
         "141767.772"
        ],
        [
         "HarperCollins Publishers",
         "121769.814"
        ],
        [
         "Hachette Book Group",
         "107410.96800000001"
        ],
        [
         "Simon and Schuster Digital Sales Inc",
         "46858.206"
        ],
        [
         "Macmillan",
         "31249.829999999998"
        ],
        [
         "HarperCollins Publishing",
         "2830.806"
        ],
        [
         "HarperCollins Christian Publishing",
         "2135.67"
        ]
       ],
       "shape": {
        "columns": 1,
        "rows": 9
       }
      },
      "text/plain": [
       "Publisher \n",
       "Penguin Group (USA) LLC                 191581.104\n",
       "Random House LLC                        174956.244\n",
       "Amazon Digital Services,  Inc.          141767.772\n",
       "HarperCollins Publishers                121769.814\n",
       "Hachette Book Group                     107410.968\n",
       "Simon and Schuster Digital Sales Inc     46858.206\n",
       "Macmillan                                31249.830\n",
       "HarperCollins Publishing                  2830.806\n",
       "HarperCollins Christian Publishing        2135.670\n",
       "Name: publisher revenue, dtype: float64"
      ]
     },
     "execution_count": 48,
     "metadata": {},
     "output_type": "execute_result"
    }
   ],
   "source": [
    "book.groupby(\"Publisher \")[\"publisher revenue\"].sum().sort_values(ascending=False)"
   ]
  },
  {
   "cell_type": "code",
   "execution_count": 49,
   "id": "49807894",
   "metadata": {},
   "outputs": [
    {
     "data": {
      "text/plain": [
       "np.float64(101400.27256944444)"
      ]
     },
     "execution_count": 49,
     "metadata": {},
     "output_type": "execute_result"
    }
   ],
   "source": [
    "book.groupby(\"Author_Rating\")[\"Book_ratings_count\"].mean().sort_values(ascending=False).max()"
   ]
  },
  {
   "cell_type": "code",
   "execution_count": 52,
   "id": "5a0edc47",
   "metadata": {},
   "outputs": [
    {
     "data": {
      "application/vnd.microsoft.datawrangler.viewer.v0+json": {
       "columns": [
        {
         "name": "language_code",
         "rawType": "object",
         "type": "string"
        },
        {
         "name": "0",
         "rawType": "int64",
         "type": "integer"
        }
       ],
       "ref": "28bd929f-ca45-44ab-9e2b-2a2113f97df1",
       "rows": [
        [
         "eng",
         "670"
        ],
        [
         "en-US",
         "226"
        ],
        [
         "en-GB",
         "29"
        ],
        [
         "en-CA",
         "7"
        ],
        [
         "fre",
         "4"
        ],
        [
         "ara",
         "2"
        ],
        [
         "spa",
         "2"
        ],
        [
         "nl",
         "1"
        ]
       ],
       "shape": {
        "columns": 1,
        "rows": 8
       }
      },
      "text/plain": [
       "language_code\n",
       "eng      670\n",
       "en-US    226\n",
       "en-GB     29\n",
       "en-CA      7\n",
       "fre        4\n",
       "ara        2\n",
       "spa        2\n",
       "nl         1\n",
       "dtype: int64"
      ]
     },
     "execution_count": 52,
     "metadata": {},
     "output_type": "execute_result"
    }
   ],
   "source": [
    "book.groupby(\"language_code\").size().sort_values(ascending = False)"
   ]
  },
  {
   "cell_type": "code",
   "execution_count": 55,
   "id": "dedaada1",
   "metadata": {},
   "outputs": [
    {
     "data": {
      "application/vnd.microsoft.datawrangler.viewer.v0+json": {
       "columns": [
        {
         "name": "Author_Rating",
         "rawType": "object",
         "type": "string"
        },
        {
         "name": "Book_ratings_count",
         "rawType": "int64",
         "type": "integer"
        }
       ],
       "ref": "f96eb741-6fe8-45da-88ed-df8f24519e92",
       "rows": [
        [
         "Excellent",
         "167848"
        ],
        [
         "Famous",
         "206792"
        ],
        [
         "Intermediate",
         "199872"
        ],
        [
         "Novice",
         "155903"
        ]
       ],
       "shape": {
        "columns": 1,
        "rows": 4
       }
      },
      "text/plain": [
       "Author_Rating\n",
       "Excellent       167848\n",
       "Famous          206792\n",
       "Intermediate    199872\n",
       "Novice          155903\n",
       "Name: Book_ratings_count, dtype: int64"
      ]
     },
     "execution_count": 55,
     "metadata": {},
     "output_type": "execute_result"
    }
   ],
   "source": [
    "book.groupby(\"Author_Rating\")[\"Book_ratings_count\"].max()"
   ]
  },
  {
   "cell_type": "code",
   "execution_count": 56,
   "id": "c50e505f",
   "metadata": {},
   "outputs": [
    {
     "data": {
      "text/plain": [
       "Text(0.5, 1.0, 'Scatter plot of book average vs book count')"
      ]
     },
     "execution_count": 56,
     "metadata": {},
     "output_type": "execute_result"
    },
    {
     "data": {
      "image/png": "[encoded data removed]",
      "text/plain": [
       "<Figure size 640x480 with 1 Axes>"
      ]
     },
     "metadata": {},
     "output_type": "display_data"
    }
   ],
   "source": [
    "plt.scatter(book[\"Book_average_rating\"], book[\"Book_ratings_count\"])\n",
    "plt.xlabel(\"Book average rating\")\n",
    "plt.ylabel(\"Book ratings count\")\n",
    "plt.title(\"Scatter plot of book average vs book count\")"
   ]
  },
  {
   "cell_type": "code",
   "execution_count": 57,
   "id": "cb81ef75",
   "metadata": {},
   "outputs": [],
   "source": [
    "total_grass_sales_by_author = book.groupby(\"Author\")[\"gross sales\"].sum()"
   ]
  },
  {
   "cell_type": "code",
   "execution_count": 59,
   "id": "abc52eb6",
   "metadata": {},
   "outputs": [
    {
     "data": {
      "image/png": "[encoded data removed]",
      "text/plain": [
       "<Figure size 640x480 with 1 Axes>"
      ]
     },
     "metadata": {},
     "output_type": "display_data"
    }
   ],
   "source": [
    "total_grass_sales_by_author.sort_values(ascending= False).head(10).plot(kind=\"bar\")\n",
    "plt.xlabel(\"Author\")\n",
    "plt.ylabel(\"Total Gross Sales\")\n",
    "plt.title(\"Total Gross Sales for each Author\")\n",
    "plt.show()"
   ]
  },
  {
   "cell_type": "code",
   "execution_count": 60,
   "id": "158d5179",
   "metadata": {},
   "outputs": [
    {
     "data": {
      "image/png": "[encoded data removed]",
      "text/plain": [
       "<Figure size 640x480 with 1 Axes>"
      ]
     },
     "metadata": {},
     "output_type": "display_data"
    }
   ],
   "source": [
    "sns.boxplot(x= \"Author_Rating\", y = \"units sold\", data = book)\n",
    "plt.xlabel(\"Author Rating\")\n",
    "plt.ylabel(\"Units Sold\")\n",
    "plt.title(\"Box Plot of Units sold for Each Author Rating\")\n",
    "plt.show()"
   ]
  },
  {
   "cell_type": "code",
   "execution_count": null,
   "id": "6bef9956",
   "metadata": {},
   "outputs": [
    {
     "data": {
      "image/png": "[encoded data removed]",
      "text/plain": [
       "<Figure size 640x480 with 1 Axes>"
      ]
     },
     "metadata": {},
     "output_type": "display_data"
    }
   ],
   "source": [
    "book.groupby(\"Publishing Year\")[\"units sold\"].sum().plot(kind= \"line\", marker = \"o\")\n",
    "plt.xlabel(\"Publishing Year\")\n",
    "plt.ylabel(\"Total Units Sold\")\n",
    "plt.title(\"Total Units Sold Over The Years\")\n",
    "plt.show()"
   ]
  }
 ],
 "metadata": {
  "kernelspec": {
   "display_name": "Python 3",
   "language": "python",
   "name": "python3"
  },
  "language_info": {
   "codemirror_mode": {
    "name": "ipython",
    "version": 3
   },
   "file_extension": ".py",
   "mimetype": "text/x-python",
   "name": "python",
   "nbconvert_exporter": "python",
   "pygments_lexer": "ipython3",
   "version": "3.12.7"
  }
 },
 "nbformat": 4,
 "nbformat_minor": 5
}
