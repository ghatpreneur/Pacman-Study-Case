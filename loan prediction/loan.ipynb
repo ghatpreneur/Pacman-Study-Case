{
 "cells": [
  {
   "cell_type": "code",
   "execution_count": 1,
   "id": "b1bc0cd9",
   "metadata": {},
   "outputs": [],
   "source": [
    "import pandas as pd\n",
    "import numpy as np\n",
    "import matplotlib.pyplot as plt\n",
    "import seaborn as sns"
   ]
  },
  {
   "cell_type": "code",
   "execution_count": 2,
   "id": "6e42bfa7",
   "metadata": {},
   "outputs": [
    {
     "data": {
      "application/vnd.microsoft.datawrangler.viewer.v0+json": {
       "columns": [
        {
         "name": "index",
         "rawType": "int64",
         "type": "integer"
        },
        {
         "name": "Loan_ID",
         "rawType": "object",
         "type": "string"
        },
        {
         "name": "Gender",
         "rawType": "object",
         "type": "unknown"
        },
        {
         "name": "Married",
         "rawType": "object",
         "type": "string"
        },
        {
         "name": "Dependents",
         "rawType": "object",
         "type": "unknown"
        },
        {
         "name": "Education",
         "rawType": "object",
         "type": "string"
        },
        {
         "name": "Self_Employed",
         "rawType": "object",
         "type": "unknown"
        },
        {
         "name": "ApplicantIncome",
         "rawType": "int64",
         "type": "integer"
        },
        {
         "name": "CoapplicantIncome",
         "rawType": "float64",
         "type": "float"
        },
        {
         "name": "LoanAmount",
         "rawType": "float64",
         "type": "float"
        },
        {
         "name": "Loan_Amount_Term",
         "rawType": "float64",
         "type": "float"
        },
        {
         "name": "Credit_History",
         "rawType": "float64",
         "type": "float"
        },
        {
         "name": "Property_Area",
         "rawType": "object",
         "type": "string"
        },
        {
         "name": "Loan_Status",
         "rawType": "object",
         "type": "string"
        }
       ],
       "ref": "ecd367fa-af81-4f6f-9487-a866c08a20b9",
       "rows": [
        [
         "0",
         "LP001003",
         "Male",
         "Yes",
         "1",
         "Graduate",
         "No",
         "4583",
         "1508.0",
         "128.0",
         "360.0",
         "1.0",
         "Rural",
         "N"
        ],
        [
         "1",
         "LP001005",
         "Male",
         "Yes",
         "0",
         "Graduate",
         "Yes",
         "3000",
         "0.0",
         "66.0",
         "360.0",
         "1.0",
         "Urban",
         "Y"
        ],
        [
         "2",
         "LP001006",
         "Male",
         "Yes",
         "0",
         "Not Graduate",
         "No",
         "2583",
         "2358.0",
         "120.0",
         "360.0",
         "1.0",
         "Urban",
         "Y"
        ],
        [
         "3",
         "LP001008",
         "Male",
         "No",
         "0",
         "Graduate",
         "No",
         "6000",
         "0.0",
         "141.0",
         "360.0",
         "1.0",
         "Urban",
         "Y"
        ],
        [
         "4",
         "LP001013",
         "Male",
         "Yes",
         "0",
         "Not Graduate",
         "No",
         "2333",
         "1516.0",
         "95.0",
         "360.0",
         "1.0",
         "Urban",
         "Y"
        ],
        [
         "5",
         "LP001024",
         "Male",
         "Yes",
         "2",
         "Graduate",
         "No",
         "3200",
         "700.0",
         "70.0",
         "360.0",
         "1.0",
         "Urban",
         "Y"
        ],
        [
         "6",
         "LP001027",
         "Male",
         "Yes",
         "2",
         "Graduate",
         null,
         "2500",
         "1840.0",
         "109.0",
         "360.0",
         "1.0",
         "Urban",
         "Y"
        ],
        [
         "7",
         "LP001029",
         "Male",
         "No",
         "0",
         "Graduate",
         "No",
         "1853",
         "2840.0",
         "114.0",
         "360.0",
         "1.0",
         "Rural",
         "N"
        ],
        [
         "8",
         "LP001030",
         "Male",
         "Yes",
         "2",
         "Graduate",
         "No",
         "1299",
         "1086.0",
         "17.0",
         "120.0",
         "1.0",
         "Urban",
         "Y"
        ],
        [
         "9",
         "LP001032",
         "Male",
         "No",
         "0",
         "Graduate",
         "No",
         "4950",
         "0.0",
         "125.0",
         "360.0",
         "1.0",
         "Urban",
         "Y"
        ],
        [
         "10",
         "LP001034",
         "Male",
         "No",
         "1",
         "Not Graduate",
         "No",
         "3596",
         "0.0",
         "100.0",
         "240.0",
         null,
         "Urban",
         "Y"
        ],
        [
         "11",
         "LP001036",
         "Female",
         "No",
         "0",
         "Graduate",
         "No",
         "3510",
         "0.0",
         "76.0",
         "360.0",
         "0.0",
         "Urban",
         "N"
        ],
        [
         "12",
         "LP001038",
         "Male",
         "Yes",
         "0",
         "Not Graduate",
         "No",
         "4887",
         "0.0",
         "133.0",
         "360.0",
         "1.0",
         "Rural",
         "N"
        ],
        [
         "13",
         "LP001041",
         "Male",
         "Yes",
         "0",
         "Graduate",
         null,
         "2600",
         "3500.0",
         "115.0",
         null,
         "1.0",
         "Urban",
         "Y"
        ],
        [
         "14",
         "LP001043",
         "Male",
         "Yes",
         "0",
         "Not Graduate",
         "No",
         "7660",
         "0.0",
         "104.0",
         "360.0",
         "0.0",
         "Urban",
         "N"
        ],
        [
         "15",
         "LP001047",
         "Male",
         "Yes",
         "0",
         "Not Graduate",
         "No",
         "2600",
         "1911.0",
         "116.0",
         "360.0",
         "0.0",
         "Semiurban",
         "N"
        ],
        [
         "16",
         "LP001050",
         null,
         "Yes",
         "2",
         "Not Graduate",
         "No",
         "3365",
         "1917.0",
         "112.0",
         "360.0",
         "0.0",
         "Rural",
         "N"
        ],
        [
         "17",
         "LP001068",
         "Male",
         "Yes",
         "0",
         "Graduate",
         "No",
         "2799",
         "2253.0",
         "122.0",
         "360.0",
         "1.0",
         "Semiurban",
         "Y"
        ],
        [
         "18",
         "LP001073",
         "Male",
         "Yes",
         "2",
         "Not Graduate",
         "No",
         "4226",
         "1040.0",
         "110.0",
         "360.0",
         "1.0",
         "Urban",
         "Y"
        ],
        [
         "19",
         "LP001086",
         "Male",
         "No",
         "0",
         "Not Graduate",
         "No",
         "1442",
         "0.0",
         "35.0",
         "360.0",
         "1.0",
         "Urban",
         "N"
        ],
        [
         "20",
         "LP001087",
         "Female",
         "No",
         "2",
         "Graduate",
         null,
         "3750",
         "2083.0",
         "120.0",
         "360.0",
         "1.0",
         "Semiurban",
         "Y"
        ],
        [
         "21",
         "LP001095",
         "Male",
         "No",
         "0",
         "Graduate",
         "No",
         "3167",
         "0.0",
         "74.0",
         "360.0",
         "1.0",
         "Urban",
         "N"
        ],
        [
         "22",
         "LP001097",
         "Male",
         "No",
         "1",
         "Graduate",
         "Yes",
         "4692",
         "0.0",
         "106.0",
         "360.0",
         "1.0",
         "Rural",
         "N"
        ],
        [
         "23",
         "LP001098",
         "Male",
         "Yes",
         "0",
         "Graduate",
         "No",
         "3500",
         "1667.0",
         "114.0",
         "360.0",
         "1.0",
         "Semiurban",
         "Y"
        ],
        [
         "24",
         "LP001109",
         "Male",
         "Yes",
         "0",
         "Graduate",
         "No",
         "1828",
         "1330.0",
         "100.0",
         null,
         "0.0",
         "Urban",
         "N"
        ],
        [
         "25",
         "LP001112",
         "Female",
         "Yes",
         "0",
         "Graduate",
         "No",
         "3667",
         "1459.0",
         "144.0",
         "360.0",
         "1.0",
         "Semiurban",
         "Y"
        ],
        [
         "26",
         "LP001116",
         "Male",
         "No",
         "0",
         "Not Graduate",
         "No",
         "3748",
         "1668.0",
         "110.0",
         "360.0",
         "1.0",
         "Semiurban",
         "Y"
        ],
        [
         "27",
         "LP001119",
         "Male",
         "No",
         "0",
         "Graduate",
         "No",
         "3600",
         "0.0",
         "80.0",
         "360.0",
         "1.0",
         "Urban",
         "N"
        ],
        [
         "28",
         "LP001120",
         "Male",
         "No",
         "0",
         "Graduate",
         "No",
         "1800",
         "1213.0",
         "47.0",
         "360.0",
         "1.0",
         "Urban",
         "Y"
        ],
        [
         "29",
         "LP001123",
         "Male",
         "Yes",
         "0",
         "Graduate",
         "No",
         "2400",
         "0.0",
         "75.0",
         "360.0",
         null,
         "Urban",
         "Y"
        ],
        [
         "30",
         "LP001131",
         "Male",
         "Yes",
         "0",
         "Graduate",
         "No",
         "3941",
         "2336.0",
         "134.0",
         "360.0",
         "1.0",
         "Semiurban",
         "Y"
        ],
        [
         "31",
         "LP001136",
         "Male",
         "Yes",
         "0",
         "Not Graduate",
         "Yes",
         "4695",
         "0.0",
         "96.0",
         null,
         "1.0",
         "Urban",
         "Y"
        ],
        [
         "32",
         "LP001137",
         "Female",
         "No",
         "0",
         "Graduate",
         "No",
         "3410",
         "0.0",
         "88.0",
         null,
         "1.0",
         "Urban",
         "Y"
        ],
        [
         "33",
         "LP001138",
         "Male",
         "Yes",
         "1",
         "Graduate",
         "No",
         "5649",
         "0.0",
         "44.0",
         "360.0",
         "1.0",
         "Urban",
         "Y"
        ],
        [
         "34",
         "LP001144",
         "Male",
         "Yes",
         "0",
         "Graduate",
         "No",
         "5821",
         "0.0",
         "144.0",
         "360.0",
         "1.0",
         "Urban",
         "Y"
        ],
        [
         "35",
         "LP001146",
         "Female",
         "Yes",
         "0",
         "Graduate",
         "No",
         "2645",
         "3440.0",
         "120.0",
         "360.0",
         "0.0",
         "Urban",
         "N"
        ],
        [
         "36",
         "LP001151",
         "Female",
         "No",
         "0",
         "Graduate",
         "No",
         "4000",
         "2275.0",
         "144.0",
         "360.0",
         "1.0",
         "Semiurban",
         "Y"
        ],
        [
         "37",
         "LP001155",
         "Female",
         "Yes",
         "0",
         "Not Graduate",
         "No",
         "1928",
         "1644.0",
         "100.0",
         "360.0",
         "1.0",
         "Semiurban",
         "Y"
        ],
        [
         "38",
         "LP001157",
         "Female",
         "No",
         "0",
         "Graduate",
         "No",
         "3086",
         "0.0",
         "120.0",
         "360.0",
         "1.0",
         "Semiurban",
         "Y"
        ],
        [
         "39",
         "LP001164",
         "Female",
         "No",
         "0",
         "Graduate",
         "No",
         "4230",
         "0.0",
         "112.0",
         "360.0",
         "1.0",
         "Semiurban",
         "N"
        ],
        [
         "40",
         "LP001179",
         "Male",
         "Yes",
         "2",
         "Graduate",
         "No",
         "4616",
         "0.0",
         "134.0",
         "360.0",
         "1.0",
         "Urban",
         "N"
        ],
        [
         "41",
         "LP001194",
         "Male",
         "Yes",
         "2",
         "Graduate",
         "No",
         "2708",
         "1167.0",
         "97.0",
         "360.0",
         "1.0",
         "Semiurban",
         "Y"
        ],
        [
         "42",
         "LP001195",
         "Male",
         "Yes",
         "0",
         "Graduate",
         "No",
         "2132",
         "1591.0",
         "96.0",
         "360.0",
         "1.0",
         "Semiurban",
         "Y"
        ],
        [
         "43",
         "LP001197",
         "Male",
         "Yes",
         "0",
         "Graduate",
         "No",
         "3366",
         "2200.0",
         "135.0",
         "360.0",
         "1.0",
         "Rural",
         "N"
        ],
        [
         "44",
         "LP001199",
         "Male",
         "Yes",
         "2",
         "Not Graduate",
         "No",
         "3357",
         "2859.0",
         "144.0",
         "360.0",
         "1.0",
         "Urban",
         "Y"
        ],
        [
         "45",
         "LP001205",
         "Male",
         "Yes",
         "0",
         "Graduate",
         "No",
         "2500",
         "3796.0",
         "120.0",
         "360.0",
         "1.0",
         "Urban",
         "Y"
        ],
        [
         "46",
         "LP001206",
         "Male",
         "Yes",
         "3+",
         "Graduate",
         "No",
         "3029",
         "0.0",
         "99.0",
         "360.0",
         "1.0",
         "Urban",
         "Y"
        ],
        [
         "47",
         "LP001222",
         "Female",
         "No",
         "0",
         "Graduate",
         "No",
         "4166",
         "0.0",
         "116.0",
         "360.0",
         "0.0",
         "Semiurban",
         "N"
        ],
        [
         "48",
         "LP001228",
         "Male",
         "No",
         "0",
         "Not Graduate",
         "No",
         "3200",
         "2254.0",
         "126.0",
         "180.0",
         "0.0",
         "Urban",
         "N"
        ],
        [
         "49",
         "LP001238",
         "Male",
         "Yes",
         "3+",
         "Not Graduate",
         "Yes",
         "7100",
         "0.0",
         "125.0",
         "60.0",
         "1.0",
         "Urban",
         "Y"
        ]
       ],
       "shape": {
        "columns": 13,
        "rows": 381
       }
      },
      "text/html": [
       "<div>\n",
       "<style scoped>\n",
       "    .dataframe tbody tr th:only-of-type {\n",
       "        vertical-align: middle;\n",
       "    }\n",
       "\n",
       "    .dataframe tbody tr th {\n",
       "        vertical-align: top;\n",
       "    }\n",
       "\n",
       "    .dataframe thead th {\n",
       "        text-align: right;\n",
       "    }\n",
       "</style>\n",
       "<table border=\"1\" class=\"dataframe\">\n",
       "  <thead>\n",
       "    <tr style=\"text-align: right;\">\n",
       "      <th></th>\n",
       "      <th>Loan_ID</th>\n",
       "      <th>Gender</th>\n",
       "      <th>Married</th>\n",
       "      <th>Dependents</th>\n",
       "      <th>Education</th>\n",
       "      <th>Self_Employed</th>\n",
       "      <th>ApplicantIncome</th>\n",
       "      <th>CoapplicantIncome</th>\n",
       "      <th>LoanAmount</th>\n",
       "      <th>Loan_Amount_Term</th>\n",
       "      <th>Credit_History</th>\n",
       "      <th>Property_Area</th>\n",
       "      <th>Loan_Status</th>\n",
       "    </tr>\n",
       "  </thead>\n",
       "  <tbody>\n",
       "    <tr>\n",
       "      <th>0</th>\n",
       "      <td>LP001003</td>\n",
       "      <td>Male</td>\n",
       "      <td>Yes</td>\n",
       "      <td>1</td>\n",
       "      <td>Graduate</td>\n",
       "      <td>No</td>\n",
       "      <td>4583</td>\n",
       "      <td>1508.0</td>\n",
       "      <td>128.0</td>\n",
       "      <td>360.0</td>\n",
       "      <td>1.0</td>\n",
       "      <td>Rural</td>\n",
       "      <td>N</td>\n",
       "    </tr>\n",
       "    <tr>\n",
       "      <th>1</th>\n",
       "      <td>LP001005</td>\n",
       "      <td>Male</td>\n",
       "      <td>Yes</td>\n",
       "      <td>0</td>\n",
       "      <td>Graduate</td>\n",
       "      <td>Yes</td>\n",
       "      <td>3000</td>\n",
       "      <td>0.0</td>\n",
       "      <td>66.0</td>\n",
       "      <td>360.0</td>\n",
       "      <td>1.0</td>\n",
       "      <td>Urban</td>\n",
       "      <td>Y</td>\n",
       "    </tr>\n",
       "    <tr>\n",
       "      <th>2</th>\n",
       "      <td>LP001006</td>\n",
       "      <td>Male</td>\n",
       "      <td>Yes</td>\n",
       "      <td>0</td>\n",
       "      <td>Not Graduate</td>\n",
       "      <td>No</td>\n",
       "      <td>2583</td>\n",
       "      <td>2358.0</td>\n",
       "      <td>120.0</td>\n",
       "      <td>360.0</td>\n",
       "      <td>1.0</td>\n",
       "      <td>Urban</td>\n",
       "      <td>Y</td>\n",
       "    </tr>\n",
       "    <tr>\n",
       "      <th>3</th>\n",
       "      <td>LP001008</td>\n",
       "      <td>Male</td>\n",
       "      <td>No</td>\n",
       "      <td>0</td>\n",
       "      <td>Graduate</td>\n",
       "      <td>No</td>\n",
       "      <td>6000</td>\n",
       "      <td>0.0</td>\n",
       "      <td>141.0</td>\n",
       "      <td>360.0</td>\n",
       "      <td>1.0</td>\n",
       "      <td>Urban</td>\n",
       "      <td>Y</td>\n",
       "    </tr>\n",
       "    <tr>\n",
       "      <th>4</th>\n",
       "      <td>LP001013</td>\n",
       "      <td>Male</td>\n",
       "      <td>Yes</td>\n",
       "      <td>0</td>\n",
       "      <td>Not Graduate</td>\n",
       "      <td>No</td>\n",
       "      <td>2333</td>\n",
       "      <td>1516.0</td>\n",
       "      <td>95.0</td>\n",
       "      <td>360.0</td>\n",
       "      <td>1.0</td>\n",
       "      <td>Urban</td>\n",
       "      <td>Y</td>\n",
       "    </tr>\n",
       "    <tr>\n",
       "      <th>...</th>\n",
       "      <td>...</td>\n",
       "      <td>...</td>\n",
       "      <td>...</td>\n",
       "      <td>...</td>\n",
       "      <td>...</td>\n",
       "      <td>...</td>\n",
       "      <td>...</td>\n",
       "      <td>...</td>\n",
       "      <td>...</td>\n",
       "      <td>...</td>\n",
       "      <td>...</td>\n",
       "      <td>...</td>\n",
       "      <td>...</td>\n",
       "    </tr>\n",
       "    <tr>\n",
       "      <th>376</th>\n",
       "      <td>LP002953</td>\n",
       "      <td>Male</td>\n",
       "      <td>Yes</td>\n",
       "      <td>3+</td>\n",
       "      <td>Graduate</td>\n",
       "      <td>No</td>\n",
       "      <td>5703</td>\n",
       "      <td>0.0</td>\n",
       "      <td>128.0</td>\n",
       "      <td>360.0</td>\n",
       "      <td>1.0</td>\n",
       "      <td>Urban</td>\n",
       "      <td>Y</td>\n",
       "    </tr>\n",
       "    <tr>\n",
       "      <th>377</th>\n",
       "      <td>LP002974</td>\n",
       "      <td>Male</td>\n",
       "      <td>Yes</td>\n",
       "      <td>0</td>\n",
       "      <td>Graduate</td>\n",
       "      <td>No</td>\n",
       "      <td>3232</td>\n",
       "      <td>1950.0</td>\n",
       "      <td>108.0</td>\n",
       "      <td>360.0</td>\n",
       "      <td>1.0</td>\n",
       "      <td>Rural</td>\n",
       "      <td>Y</td>\n",
       "    </tr>\n",
       "    <tr>\n",
       "      <th>378</th>\n",
       "      <td>LP002978</td>\n",
       "      <td>Female</td>\n",
       "      <td>No</td>\n",
       "      <td>0</td>\n",
       "      <td>Graduate</td>\n",
       "      <td>No</td>\n",
       "      <td>2900</td>\n",
       "      <td>0.0</td>\n",
       "      <td>71.0</td>\n",
       "      <td>360.0</td>\n",
       "      <td>1.0</td>\n",
       "      <td>Rural</td>\n",
       "      <td>Y</td>\n",
       "    </tr>\n",
       "    <tr>\n",
       "      <th>379</th>\n",
       "      <td>LP002979</td>\n",
       "      <td>Male</td>\n",
       "      <td>Yes</td>\n",
       "      <td>3+</td>\n",
       "      <td>Graduate</td>\n",
       "      <td>No</td>\n",
       "      <td>4106</td>\n",
       "      <td>0.0</td>\n",
       "      <td>40.0</td>\n",
       "      <td>180.0</td>\n",
       "      <td>1.0</td>\n",
       "      <td>Rural</td>\n",
       "      <td>Y</td>\n",
       "    </tr>\n",
       "    <tr>\n",
       "      <th>380</th>\n",
       "      <td>LP002990</td>\n",
       "      <td>Female</td>\n",
       "      <td>No</td>\n",
       "      <td>0</td>\n",
       "      <td>Graduate</td>\n",
       "      <td>Yes</td>\n",
       "      <td>4583</td>\n",
       "      <td>0.0</td>\n",
       "      <td>133.0</td>\n",
       "      <td>360.0</td>\n",
       "      <td>0.0</td>\n",
       "      <td>Semiurban</td>\n",
       "      <td>N</td>\n",
       "    </tr>\n",
       "  </tbody>\n",
       "</table>\n",
       "<p>381 rows × 13 columns</p>\n",
       "</div>"
      ],
      "text/plain": [
       "      Loan_ID  Gender Married Dependents     Education Self_Employed  \\\n",
       "0    LP001003    Male     Yes          1      Graduate            No   \n",
       "1    LP001005    Male     Yes          0      Graduate           Yes   \n",
       "2    LP001006    Male     Yes          0  Not Graduate            No   \n",
       "3    LP001008    Male      No          0      Graduate            No   \n",
       "4    LP001013    Male     Yes          0  Not Graduate            No   \n",
       "..        ...     ...     ...        ...           ...           ...   \n",
       "376  LP002953    Male     Yes         3+      Graduate            No   \n",
       "377  LP002974    Male     Yes          0      Graduate            No   \n",
       "378  LP002978  Female      No          0      Graduate            No   \n",
       "379  LP002979    Male     Yes         3+      Graduate            No   \n",
       "380  LP002990  Female      No          0      Graduate           Yes   \n",
       "\n",
       "     ApplicantIncome  CoapplicantIncome  LoanAmount  Loan_Amount_Term  \\\n",
       "0               4583             1508.0       128.0             360.0   \n",
       "1               3000                0.0        66.0             360.0   \n",
       "2               2583             2358.0       120.0             360.0   \n",
       "3               6000                0.0       141.0             360.0   \n",
       "4               2333             1516.0        95.0             360.0   \n",
       "..               ...                ...         ...               ...   \n",
       "376             5703                0.0       128.0             360.0   \n",
       "377             3232             1950.0       108.0             360.0   \n",
       "378             2900                0.0        71.0             360.0   \n",
       "379             4106                0.0        40.0             180.0   \n",
       "380             4583                0.0       133.0             360.0   \n",
       "\n",
       "     Credit_History Property_Area Loan_Status  \n",
       "0               1.0         Rural           N  \n",
       "1               1.0         Urban           Y  \n",
       "2               1.0         Urban           Y  \n",
       "3               1.0         Urban           Y  \n",
       "4               1.0         Urban           Y  \n",
       "..              ...           ...         ...  \n",
       "376             1.0         Urban           Y  \n",
       "377             1.0         Rural           Y  \n",
       "378             1.0         Rural           Y  \n",
       "379             1.0         Rural           Y  \n",
       "380             0.0     Semiurban           N  \n",
       "\n",
       "[381 rows x 13 columns]"
      ]
     },
     "execution_count": 2,
     "metadata": {},
     "output_type": "execute_result"
    }
   ],
   "source": [
    "loan = pd.read_csv(\"loan_data.csv\")\n",
    "loan"
   ]
  },
  {
   "cell_type": "code",
   "execution_count": 3,
   "id": "2fe3d142",
   "metadata": {},
   "outputs": [
    {
     "data": {
      "application/vnd.microsoft.datawrangler.viewer.v0+json": {
       "columns": [
        {
         "name": "index",
         "rawType": "int64",
         "type": "integer"
        },
        {
         "name": "Loan_ID",
         "rawType": "object",
         "type": "string"
        },
        {
         "name": "Gender",
         "rawType": "object",
         "type": "string"
        },
        {
         "name": "Married",
         "rawType": "object",
         "type": "string"
        },
        {
         "name": "Dependents",
         "rawType": "object",
         "type": "string"
        },
        {
         "name": "Education",
         "rawType": "object",
         "type": "string"
        },
        {
         "name": "Self_Employed",
         "rawType": "object",
         "type": "string"
        },
        {
         "name": "ApplicantIncome",
         "rawType": "int64",
         "type": "integer"
        },
        {
         "name": "CoapplicantIncome",
         "rawType": "float64",
         "type": "float"
        },
        {
         "name": "LoanAmount",
         "rawType": "float64",
         "type": "float"
        },
        {
         "name": "Loan_Amount_Term",
         "rawType": "float64",
         "type": "float"
        },
        {
         "name": "Credit_History",
         "rawType": "float64",
         "type": "float"
        },
        {
         "name": "Property_Area",
         "rawType": "object",
         "type": "string"
        },
        {
         "name": "Loan_Status",
         "rawType": "object",
         "type": "string"
        }
       ],
       "ref": "8a285c8c-ddcc-43ef-af0e-3a1d4d204d0b",
       "rows": [
        [
         "376",
         "LP002953",
         "Male",
         "Yes",
         "3+",
         "Graduate",
         "No",
         "5703",
         "0.0",
         "128.0",
         "360.0",
         "1.0",
         "Urban",
         "Y"
        ],
        [
         "377",
         "LP002974",
         "Male",
         "Yes",
         "0",
         "Graduate",
         "No",
         "3232",
         "1950.0",
         "108.0",
         "360.0",
         "1.0",
         "Rural",
         "Y"
        ],
        [
         "378",
         "LP002978",
         "Female",
         "No",
         "0",
         "Graduate",
         "No",
         "2900",
         "0.0",
         "71.0",
         "360.0",
         "1.0",
         "Rural",
         "Y"
        ],
        [
         "379",
         "LP002979",
         "Male",
         "Yes",
         "3+",
         "Graduate",
         "No",
         "4106",
         "0.0",
         "40.0",
         "180.0",
         "1.0",
         "Rural",
         "Y"
        ],
        [
         "380",
         "LP002990",
         "Female",
         "No",
         "0",
         "Graduate",
         "Yes",
         "4583",
         "0.0",
         "133.0",
         "360.0",
         "0.0",
         "Semiurban",
         "N"
        ]
       ],
       "shape": {
        "columns": 13,
        "rows": 5
       }
      },
      "text/html": [
       "<div>\n",
       "<style scoped>\n",
       "    .dataframe tbody tr th:only-of-type {\n",
       "        vertical-align: middle;\n",
       "    }\n",
       "\n",
       "    .dataframe tbody tr th {\n",
       "        vertical-align: top;\n",
       "    }\n",
       "\n",
       "    .dataframe thead th {\n",
       "        text-align: right;\n",
       "    }\n",
       "</style>\n",
       "<table border=\"1\" class=\"dataframe\">\n",
       "  <thead>\n",
       "    <tr style=\"text-align: right;\">\n",
       "      <th></th>\n",
       "      <th>Loan_ID</th>\n",
       "      <th>Gender</th>\n",
       "      <th>Married</th>\n",
       "      <th>Dependents</th>\n",
       "      <th>Education</th>\n",
       "      <th>Self_Employed</th>\n",
       "      <th>ApplicantIncome</th>\n",
       "      <th>CoapplicantIncome</th>\n",
       "      <th>LoanAmount</th>\n",
       "      <th>Loan_Amount_Term</th>\n",
       "      <th>Credit_History</th>\n",
       "      <th>Property_Area</th>\n",
       "      <th>Loan_Status</th>\n",
       "    </tr>\n",
       "  </thead>\n",
       "  <tbody>\n",
       "    <tr>\n",
       "      <th>376</th>\n",
       "      <td>LP002953</td>\n",
       "      <td>Male</td>\n",
       "      <td>Yes</td>\n",
       "      <td>3+</td>\n",
       "      <td>Graduate</td>\n",
       "      <td>No</td>\n",
       "      <td>5703</td>\n",
       "      <td>0.0</td>\n",
       "      <td>128.0</td>\n",
       "      <td>360.0</td>\n",
       "      <td>1.0</td>\n",
       "      <td>Urban</td>\n",
       "      <td>Y</td>\n",
       "    </tr>\n",
       "    <tr>\n",
       "      <th>377</th>\n",
       "      <td>LP002974</td>\n",
       "      <td>Male</td>\n",
       "      <td>Yes</td>\n",
       "      <td>0</td>\n",
       "      <td>Graduate</td>\n",
       "      <td>No</td>\n",
       "      <td>3232</td>\n",
       "      <td>1950.0</td>\n",
       "      <td>108.0</td>\n",
       "      <td>360.0</td>\n",
       "      <td>1.0</td>\n",
       "      <td>Rural</td>\n",
       "      <td>Y</td>\n",
       "    </tr>\n",
       "    <tr>\n",
       "      <th>378</th>\n",
       "      <td>LP002978</td>\n",
       "      <td>Female</td>\n",
       "      <td>No</td>\n",
       "      <td>0</td>\n",
       "      <td>Graduate</td>\n",
       "      <td>No</td>\n",
       "      <td>2900</td>\n",
       "      <td>0.0</td>\n",
       "      <td>71.0</td>\n",
       "      <td>360.0</td>\n",
       "      <td>1.0</td>\n",
       "      <td>Rural</td>\n",
       "      <td>Y</td>\n",
       "    </tr>\n",
       "    <tr>\n",
       "      <th>379</th>\n",
       "      <td>LP002979</td>\n",
       "      <td>Male</td>\n",
       "      <td>Yes</td>\n",
       "      <td>3+</td>\n",
       "      <td>Graduate</td>\n",
       "      <td>No</td>\n",
       "      <td>4106</td>\n",
       "      <td>0.0</td>\n",
       "      <td>40.0</td>\n",
       "      <td>180.0</td>\n",
       "      <td>1.0</td>\n",
       "      <td>Rural</td>\n",
       "      <td>Y</td>\n",
       "    </tr>\n",
       "    <tr>\n",
       "      <th>380</th>\n",
       "      <td>LP002990</td>\n",
       "      <td>Female</td>\n",
       "      <td>No</td>\n",
       "      <td>0</td>\n",
       "      <td>Graduate</td>\n",
       "      <td>Yes</td>\n",
       "      <td>4583</td>\n",
       "      <td>0.0</td>\n",
       "      <td>133.0</td>\n",
       "      <td>360.0</td>\n",
       "      <td>0.0</td>\n",
       "      <td>Semiurban</td>\n",
       "      <td>N</td>\n",
       "    </tr>\n",
       "  </tbody>\n",
       "</table>\n",
       "</div>"
      ],
      "text/plain": [
       "      Loan_ID  Gender Married Dependents Education Self_Employed  \\\n",
       "376  LP002953    Male     Yes         3+  Graduate            No   \n",
       "377  LP002974    Male     Yes          0  Graduate            No   \n",
       "378  LP002978  Female      No          0  Graduate            No   \n",
       "379  LP002979    Male     Yes         3+  Graduate            No   \n",
       "380  LP002990  Female      No          0  Graduate           Yes   \n",
       "\n",
       "     ApplicantIncome  CoapplicantIncome  LoanAmount  Loan_Amount_Term  \\\n",
       "376             5703                0.0       128.0             360.0   \n",
       "377             3232             1950.0       108.0             360.0   \n",
       "378             2900                0.0        71.0             360.0   \n",
       "379             4106                0.0        40.0             180.0   \n",
       "380             4583                0.0       133.0             360.0   \n",
       "\n",
       "     Credit_History Property_Area Loan_Status  \n",
       "376             1.0         Urban           Y  \n",
       "377             1.0         Rural           Y  \n",
       "378             1.0         Rural           Y  \n",
       "379             1.0         Rural           Y  \n",
       "380             0.0     Semiurban           N  "
      ]
     },
     "execution_count": 3,
     "metadata": {},
     "output_type": "execute_result"
    }
   ],
   "source": [
    "loan.tail()"
   ]
  },
  {
   "cell_type": "code",
   "execution_count": 4,
   "id": "6541f40f",
   "metadata": {},
   "outputs": [
    {
     "name": "stdout",
     "output_type": "stream",
     "text": [
      "<class 'pandas.core.frame.DataFrame'>\n",
      "RangeIndex: 381 entries, 0 to 380\n",
      "Data columns (total 13 columns):\n",
      " #   Column             Non-Null Count  Dtype  \n",
      "---  ------             --------------  -----  \n",
      " 0   Loan_ID            381 non-null    object \n",
      " 1   Gender             376 non-null    object \n",
      " 2   Married            381 non-null    object \n",
      " 3   Dependents         373 non-null    object \n",
      " 4   Education          381 non-null    object \n",
      " 5   Self_Employed      360 non-null    object \n",
      " 6   ApplicantIncome    381 non-null    int64  \n",
      " 7   CoapplicantIncome  381 non-null    float64\n",
      " 8   LoanAmount         381 non-null    float64\n",
      " 9   Loan_Amount_Term   370 non-null    float64\n",
      " 10  Credit_History     351 non-null    float64\n",
      " 11  Property_Area      381 non-null    object \n",
      " 12  Loan_Status        381 non-null    object \n",
      "dtypes: float64(4), int64(1), object(8)\n",
      "memory usage: 38.8+ KB\n"
     ]
    }
   ],
   "source": [
    "loan.info()"
   ]
  },
  {
   "cell_type": "markdown",
   "id": "3dff1ed7",
   "metadata": {},
   "source": [
    "ada perbedaan value, maka itu adalah missing values"
   ]
  },
  {
   "cell_type": "code",
   "execution_count": 5,
   "id": "a6386069",
   "metadata": {},
   "outputs": [
    {
     "data": {
      "application/vnd.microsoft.datawrangler.viewer.v0+json": {
       "columns": [
        {
         "name": "index",
         "rawType": "object",
         "type": "string"
        },
        {
         "name": "0",
         "rawType": "int64",
         "type": "integer"
        }
       ],
       "ref": "dfb22e45-c985-4989-ad2f-4ad331734c6e",
       "rows": [
        [
         "Loan_ID",
         "0"
        ],
        [
         "Gender",
         "5"
        ],
        [
         "Married",
         "0"
        ],
        [
         "Dependents",
         "8"
        ],
        [
         "Education",
         "0"
        ],
        [
         "Self_Employed",
         "21"
        ],
        [
         "ApplicantIncome",
         "0"
        ],
        [
         "CoapplicantIncome",
         "0"
        ],
        [
         "LoanAmount",
         "0"
        ],
        [
         "Loan_Amount_Term",
         "11"
        ],
        [
         "Credit_History",
         "30"
        ],
        [
         "Property_Area",
         "0"
        ],
        [
         "Loan_Status",
         "0"
        ]
       ],
       "shape": {
        "columns": 1,
        "rows": 13
       }
      },
      "text/plain": [
       "Loan_ID               0\n",
       "Gender                5\n",
       "Married               0\n",
       "Dependents            8\n",
       "Education             0\n",
       "Self_Employed        21\n",
       "ApplicantIncome       0\n",
       "CoapplicantIncome     0\n",
       "LoanAmount            0\n",
       "Loan_Amount_Term     11\n",
       "Credit_History       30\n",
       "Property_Area         0\n",
       "Loan_Status           0\n",
       "dtype: int64"
      ]
     },
     "execution_count": 5,
     "metadata": {},
     "output_type": "execute_result"
    }
   ],
   "source": [
    "loan.isna().sum()"
   ]
  },
  {
   "cell_type": "code",
   "execution_count": 6,
   "id": "f9046839",
   "metadata": {},
   "outputs": [
    {
     "data": {
      "application/vnd.microsoft.datawrangler.viewer.v0+json": {
       "columns": [
        {
         "name": "index",
         "rawType": "object",
         "type": "string"
        },
        {
         "name": "0",
         "rawType": "int64",
         "type": "integer"
        }
       ],
       "ref": "0512f40e-8982-4756-934c-bf2c018532d9",
       "rows": [
        [
         "Loan_ID",
         "0"
        ],
        [
         "Gender",
         "0"
        ],
        [
         "Married",
         "0"
        ],
        [
         "Dependents",
         "0"
        ],
        [
         "Education",
         "0"
        ],
        [
         "Self_Employed",
         "0"
        ],
        [
         "ApplicantIncome",
         "0"
        ],
        [
         "CoapplicantIncome",
         "0"
        ],
        [
         "LoanAmount",
         "0"
        ],
        [
         "Loan_Amount_Term",
         "0"
        ],
        [
         "Credit_History",
         "0"
        ],
        [
         "Property_Area",
         "0"
        ],
        [
         "Loan_Status",
         "0"
        ]
       ],
       "shape": {
        "columns": 1,
        "rows": 13
       }
      },
      "text/plain": [
       "Loan_ID              0\n",
       "Gender               0\n",
       "Married              0\n",
       "Dependents           0\n",
       "Education            0\n",
       "Self_Employed        0\n",
       "ApplicantIncome      0\n",
       "CoapplicantIncome    0\n",
       "LoanAmount           0\n",
       "Loan_Amount_Term     0\n",
       "Credit_History       0\n",
       "Property_Area        0\n",
       "Loan_Status          0\n",
       "dtype: int64"
      ]
     },
     "execution_count": 6,
     "metadata": {},
     "output_type": "execute_result"
    }
   ],
   "source": [
    "loan.dropna().isna().sum()"
   ]
  },
  {
   "cell_type": "code",
   "execution_count": 7,
   "id": "f9c453bd",
   "metadata": {},
   "outputs": [
    {
     "data": {
      "text/plain": [
       "np.int64(0)"
      ]
     },
     "execution_count": 7,
     "metadata": {},
     "output_type": "execute_result"
    }
   ],
   "source": [
    "loan.duplicated().sum()"
   ]
  },
  {
   "cell_type": "code",
   "execution_count": 8,
   "id": "b5ebeaa6",
   "metadata": {},
   "outputs": [
    {
     "data": {
      "text/plain": [
       "Index(['Loan_ID', 'Gender', 'Married', 'Dependents', 'Education',\n",
       "       'Self_Employed', 'ApplicantIncome', 'CoapplicantIncome', 'LoanAmount',\n",
       "       'Loan_Amount_Term', 'Credit_History', 'Property_Area', 'Loan_Status'],\n",
       "      dtype='object')"
      ]
     },
     "execution_count": 8,
     "metadata": {},
     "output_type": "execute_result"
    }
   ],
   "source": [
    "loan.columns"
   ]
  },
  {
   "cell_type": "code",
   "execution_count": 9,
   "id": "919ea360",
   "metadata": {},
   "outputs": [
    {
     "data": {
      "image/png": "[encoded data removed]",
      "text/plain": [
       "<Figure size 640x480 with 1 Axes>"
      ]
     },
     "metadata": {},
     "output_type": "display_data"
    }
   ],
   "source": [
    "sns.histplot(loan[\"ApplicantIncome\"], kde=True)\n",
    "plt.title(\"Histogram Of Applicant Income\") \n",
    "plt.xlabel(\"Applicant income\")\n",
    "plt.ylabel(\"Frequency\")\n",
    "plt.show()"
   ]
  },
  {
   "cell_type": "code",
   "execution_count": 10,
   "id": "8a1912c0",
   "metadata": {},
   "outputs": [
    {
     "data": {
      "image/png": "[encoded data removed]",
      "text/plain": [
       "<Figure size 640x480 with 1 Axes>"
      ]
     },
     "metadata": {},
     "output_type": "display_data"
    }
   ],
   "source": [
    "sns.countplot(x=\"Loan_Status\", data=loan)\n",
    "plt.title(\"Loan Status\")\n",
    "plt.xlabel(\"Loan Approved\")\n",
    "plt.ylabel(\"Count\")\n",
    "plt.show()"
   ]
  },
  {
   "cell_type": "code",
   "execution_count": 11,
   "id": "8c801513",
   "metadata": {},
   "outputs": [
    {
     "data": {
      "text/plain": [
       "<bound method Series.reset_index of Education\n",
       "Graduate        105.190647\n",
       "Not Graduate    104.436893\n",
       "Name: LoanAmount, dtype: float64>"
      ]
     },
     "execution_count": 11,
     "metadata": {},
     "output_type": "execute_result"
    }
   ],
   "source": [
    "loan.groupby(\"Education\")[\"LoanAmount\"].mean().reset_index"
   ]
  },
  {
   "cell_type": "code",
   "execution_count": 12,
   "id": "0cff78d2",
   "metadata": {},
   "outputs": [],
   "source": [
    "# rata rata jumlah pinjaman berdasarkan edukasi\n",
    "avg_loan_amount_by_education = loan.groupby(\"Education\")[\"LoanAmount\"].mean().reset_index()"
   ]
  },
  {
   "cell_type": "code",
   "execution_count": 13,
   "id": "4305b3b2",
   "metadata": {},
   "outputs": [
    {
     "data": {
      "application/vnd.microsoft.datawrangler.viewer.v0+json": {
       "columns": [
        {
         "name": "index",
         "rawType": "int64",
         "type": "integer"
        },
        {
         "name": "Education",
         "rawType": "object",
         "type": "string"
        },
        {
         "name": "LoanAmount",
         "rawType": "float64",
         "type": "float"
        }
       ],
       "ref": "2acbb82e-ae8a-4b2f-8b3c-eb17a7d00ba2",
       "rows": [
        [
         "0",
         "Graduate",
         "105.19064748201438"
        ],
        [
         "1",
         "Not Graduate",
         "104.4368932038835"
        ]
       ],
       "shape": {
        "columns": 2,
        "rows": 2
       }
      },
      "text/html": [
       "<div>\n",
       "<style scoped>\n",
       "    .dataframe tbody tr th:only-of-type {\n",
       "        vertical-align: middle;\n",
       "    }\n",
       "\n",
       "    .dataframe tbody tr th {\n",
       "        vertical-align: top;\n",
       "    }\n",
       "\n",
       "    .dataframe thead th {\n",
       "        text-align: right;\n",
       "    }\n",
       "</style>\n",
       "<table border=\"1\" class=\"dataframe\">\n",
       "  <thead>\n",
       "    <tr style=\"text-align: right;\">\n",
       "      <th></th>\n",
       "      <th>Education</th>\n",
       "      <th>LoanAmount</th>\n",
       "    </tr>\n",
       "  </thead>\n",
       "  <tbody>\n",
       "    <tr>\n",
       "      <th>0</th>\n",
       "      <td>Graduate</td>\n",
       "      <td>105.190647</td>\n",
       "    </tr>\n",
       "    <tr>\n",
       "      <th>1</th>\n",
       "      <td>Not Graduate</td>\n",
       "      <td>104.436893</td>\n",
       "    </tr>\n",
       "  </tbody>\n",
       "</table>\n",
       "</div>"
      ],
      "text/plain": [
       "      Education  LoanAmount\n",
       "0      Graduate  105.190647\n",
       "1  Not Graduate  104.436893"
      ]
     },
     "execution_count": 13,
     "metadata": {},
     "output_type": "execute_result"
    }
   ],
   "source": [
    "avg_loan_amount_by_education"
   ]
  },
  {
   "cell_type": "code",
   "execution_count": 14,
   "id": "4579adb9",
   "metadata": {},
   "outputs": [
    {
     "data": {
      "image/png": "[encoded data removed]",
      "text/plain": [
       "<Figure size 640x480 with 1 Axes>"
      ]
     },
     "metadata": {},
     "output_type": "display_data"
    }
   ],
   "source": [
    "sns.barplot(x=\"Education\", y = \"LoanAmount\", data = avg_loan_amount_by_education)\n",
    "plt.title(\"Average Loan Amount by Education\")\n",
    "plt.xlabel(\"Education\")\n",
    "plt.ylabel(\"Average Loan Amount\")\n",
    "plt.show()"
   ]
  },
  {
   "cell_type": "code",
   "execution_count": 15,
   "id": "2b3a2996",
   "metadata": {},
   "outputs": [
    {
     "data": {
      "image/png": "[encoded data removed]",
      "text/plain": [
       "<Figure size 640x480 with 1 Axes>"
      ]
     },
     "metadata": {},
     "output_type": "display_data"
    }
   ],
   "source": [
    "sns.boxplot(x=\"Property_Area\", y = \"LoanAmount\", data = loan)\n",
    "plt.title(\"Loan Amount Distribution By properti Area\")\n",
    "plt.xlabel(\"Property Area\")\n",
    "plt.ylabel(\"Loan Amount\")\n",
    "plt.show()"
   ]
  },
  {
   "cell_type": "code",
   "execution_count": 16,
   "id": "7ae4e19c",
   "metadata": {},
   "outputs": [
    {
     "data": {
      "image/png": "[encoded data removed]",
      "text/plain": [
       "<Figure size 640x480 with 1 Axes>"
      ]
     },
     "metadata": {},
     "output_type": "display_data"
    }
   ],
   "source": [
    "sns.countplot(x = \"Loan_Status\", hue = \"Gender\", data = loan)\n",
    "plt.title(\"Loan Status by Gender\")\n",
    "plt.xlabel(\"Loan Approved\")\n",
    "plt.ylabel(\"count\")\n",
    "plt.show()"
   ]
  },
  {
   "cell_type": "code",
   "execution_count": 17,
   "id": "f40eb9f2",
   "metadata": {},
   "outputs": [
    {
     "data": {
      "image/png": "[encoded data removed]",
      "text/plain": [
       "<Figure size 640x480 with 1 Axes>"
      ]
     },
     "metadata": {},
     "output_type": "display_data"
    }
   ],
   "source": [
    "loan[\"Gender\"].value_counts().plot(kind=\"pie\")\n",
    "plt.ylabel(\"\")\n",
    "plt.show()"
   ]
  },
  {
   "cell_type": "code",
   "execution_count": 18,
   "id": "4a8f0d54",
   "metadata": {},
   "outputs": [
    {
     "data": {
      "application/vnd.microsoft.datawrangler.viewer.v0+json": {
       "columns": [
        {
         "name": "('Married', 'Loan_Status')",
         "rawType": "object",
         "type": "unknown"
        },
        {
         "name": "count",
         "rawType": "int64",
         "type": "integer"
        }
       ],
       "ref": "9cee6121-bad8-48b7-9e39-64882d0b01f7",
       "rows": [
        [
         "('No', 'Y')",
         "101"
        ],
        [
         "('No', 'N')",
         "52"
        ],
        [
         "('Yes', 'Y')",
         "170"
        ],
        [
         "('Yes', 'N')",
         "58"
        ]
       ],
       "shape": {
        "columns": 1,
        "rows": 4
       }
      },
      "text/plain": [
       "Married  Loan_Status\n",
       "No       Y              101\n",
       "         N               52\n",
       "Yes      Y              170\n",
       "         N               58\n",
       "Name: count, dtype: int64"
      ]
     },
     "execution_count": 18,
     "metadata": {},
     "output_type": "execute_result"
    }
   ],
   "source": [
    "loan_status_by_married = loan.groupby(\"Married\")[\"Loan_Status\"].value_counts()\n",
    "loan_status_by_married"
   ]
  },
  {
   "cell_type": "code",
   "execution_count": 19,
   "id": "d1b4a623",
   "metadata": {},
   "outputs": [
    {
     "data": {
      "application/vnd.microsoft.datawrangler.viewer.v0+json": {
       "columns": [
        {
         "name": "Married",
         "rawType": "object",
         "type": "string"
        },
        {
         "name": "N",
         "rawType": "int64",
         "type": "integer"
        },
        {
         "name": "Y",
         "rawType": "int64",
         "type": "integer"
        }
       ],
       "ref": "c83d98a0-1eb8-4be8-86e5-145d3662ddcf",
       "rows": [
        [
         "No",
         "52",
         "101"
        ],
        [
         "Yes",
         "58",
         "170"
        ]
       ],
       "shape": {
        "columns": 2,
        "rows": 2
       }
      },
      "text/html": [
       "<div>\n",
       "<style scoped>\n",
       "    .dataframe tbody tr th:only-of-type {\n",
       "        vertical-align: middle;\n",
       "    }\n",
       "\n",
       "    .dataframe tbody tr th {\n",
       "        vertical-align: top;\n",
       "    }\n",
       "\n",
       "    .dataframe thead th {\n",
       "        text-align: right;\n",
       "    }\n",
       "</style>\n",
       "<table border=\"1\" class=\"dataframe\">\n",
       "  <thead>\n",
       "    <tr style=\"text-align: right;\">\n",
       "      <th>Loan_Status</th>\n",
       "      <th>N</th>\n",
       "      <th>Y</th>\n",
       "    </tr>\n",
       "    <tr>\n",
       "      <th>Married</th>\n",
       "      <th></th>\n",
       "      <th></th>\n",
       "    </tr>\n",
       "  </thead>\n",
       "  <tbody>\n",
       "    <tr>\n",
       "      <th>No</th>\n",
       "      <td>52</td>\n",
       "      <td>101</td>\n",
       "    </tr>\n",
       "    <tr>\n",
       "      <th>Yes</th>\n",
       "      <td>58</td>\n",
       "      <td>170</td>\n",
       "    </tr>\n",
       "  </tbody>\n",
       "</table>\n",
       "</div>"
      ],
      "text/plain": [
       "Loan_Status   N    Y\n",
       "Married             \n",
       "No           52  101\n",
       "Yes          58  170"
      ]
     },
     "execution_count": 19,
     "metadata": {},
     "output_type": "execute_result"
    }
   ],
   "source": [
    "loan_status_by_married = loan.groupby(\"Married\")[\"Loan_Status\"].value_counts().unstack() # untsack = merapikan tabel\n",
    "loan_status_by_married"
   ]
  },
  {
   "cell_type": "code",
   "execution_count": 20,
   "id": "1c3c56d3",
   "metadata": {},
   "outputs": [
    {
     "data": {
      "image/png": "[encoded data removed]",
      "text/plain": [
       "<Figure size 640x480 with 1 Axes>"
      ]
     },
     "metadata": {},
     "output_type": "display_data"
    }
   ],
   "source": [
    "loan_status_by_married.plot(kind=\"bar\", stacked=True)\n",
    "plt.title(\"Loan Status By Martial Status\")\n",
    "plt.xlabel(\"Married\")\n",
    "plt.ylabel(\"Count\")\n",
    "plt.legend()\n",
    "plt.xticks(rotation=0)\n",
    "plt.show()"
   ]
  },
  {
   "cell_type": "code",
   "execution_count": 21,
   "id": "0c89597b",
   "metadata": {},
   "outputs": [
    {
     "data": {
      "image/png": "[encoded data removed]",
      "text/plain": [
       "<Figure size 640x480 with 1 Axes>"
      ]
     },
     "metadata": {},
     "output_type": "display_data"
    }
   ],
   "source": [
    "# scatter plot\n",
    "sns.scatterplot(x=\"ApplicantIncome\", y=\"LoanAmount\", data = loan)\n",
    "plt.title(\"Applicant income Vs Loan Amount \")\n",
    "plt.xlabel(\"Applicanr Income\")\n",
    "plt.ylabel(\"Loan Amount\")\n",
    "plt.show()"
   ]
  },
  {
   "cell_type": "code",
   "execution_count": 22,
   "id": "a3f8c825",
   "metadata": {},
   "outputs": [],
   "source": [
    "# memfilter numeric df\n",
    "numeric_df = loan.select_dtypes(include=[\"int64\", \"float64\"])"
   ]
  },
  {
   "cell_type": "code",
   "execution_count": 23,
   "id": "6130f2af",
   "metadata": {},
   "outputs": [
    {
     "data": {
      "application/vnd.microsoft.datawrangler.viewer.v0+json": {
       "columns": [
        {
         "name": "index",
         "rawType": "int64",
         "type": "integer"
        },
        {
         "name": "ApplicantIncome",
         "rawType": "int64",
         "type": "integer"
        },
        {
         "name": "CoapplicantIncome",
         "rawType": "float64",
         "type": "float"
        },
        {
         "name": "LoanAmount",
         "rawType": "float64",
         "type": "float"
        },
        {
         "name": "Loan_Amount_Term",
         "rawType": "float64",
         "type": "float"
        },
        {
         "name": "Credit_History",
         "rawType": "float64",
         "type": "float"
        }
       ],
       "ref": "dd03d220-6161-4f12-bcbb-52c00e29faa7",
       "rows": [
        [
         "0",
         "4583",
         "1508.0",
         "128.0",
         "360.0",
         "1.0"
        ],
        [
         "1",
         "3000",
         "0.0",
         "66.0",
         "360.0",
         "1.0"
        ],
        [
         "2",
         "2583",
         "2358.0",
         "120.0",
         "360.0",
         "1.0"
        ],
        [
         "3",
         "6000",
         "0.0",
         "141.0",
         "360.0",
         "1.0"
        ],
        [
         "4",
         "2333",
         "1516.0",
         "95.0",
         "360.0",
         "1.0"
        ],
        [
         "5",
         "3200",
         "700.0",
         "70.0",
         "360.0",
         "1.0"
        ],
        [
         "6",
         "2500",
         "1840.0",
         "109.0",
         "360.0",
         "1.0"
        ],
        [
         "7",
         "1853",
         "2840.0",
         "114.0",
         "360.0",
         "1.0"
        ],
        [
         "8",
         "1299",
         "1086.0",
         "17.0",
         "120.0",
         "1.0"
        ],
        [
         "9",
         "4950",
         "0.0",
         "125.0",
         "360.0",
         "1.0"
        ],
        [
         "10",
         "3596",
         "0.0",
         "100.0",
         "240.0",
         null
        ],
        [
         "11",
         "3510",
         "0.0",
         "76.0",
         "360.0",
         "0.0"
        ],
        [
         "12",
         "4887",
         "0.0",
         "133.0",
         "360.0",
         "1.0"
        ],
        [
         "13",
         "2600",
         "3500.0",
         "115.0",
         null,
         "1.0"
        ],
        [
         "14",
         "7660",
         "0.0",
         "104.0",
         "360.0",
         "0.0"
        ],
        [
         "15",
         "2600",
         "1911.0",
         "116.0",
         "360.0",
         "0.0"
        ],
        [
         "16",
         "3365",
         "1917.0",
         "112.0",
         "360.0",
         "0.0"
        ],
        [
         "17",
         "2799",
         "2253.0",
         "122.0",
         "360.0",
         "1.0"
        ],
        [
         "18",
         "4226",
         "1040.0",
         "110.0",
         "360.0",
         "1.0"
        ],
        [
         "19",
         "1442",
         "0.0",
         "35.0",
         "360.0",
         "1.0"
        ],
        [
         "20",
         "3750",
         "2083.0",
         "120.0",
         "360.0",
         "1.0"
        ],
        [
         "21",
         "3167",
         "0.0",
         "74.0",
         "360.0",
         "1.0"
        ],
        [
         "22",
         "4692",
         "0.0",
         "106.0",
         "360.0",
         "1.0"
        ],
        [
         "23",
         "3500",
         "1667.0",
         "114.0",
         "360.0",
         "1.0"
        ],
        [
         "24",
         "1828",
         "1330.0",
         "100.0",
         null,
         "0.0"
        ],
        [
         "25",
         "3667",
         "1459.0",
         "144.0",
         "360.0",
         "1.0"
        ],
        [
         "26",
         "3748",
         "1668.0",
         "110.0",
         "360.0",
         "1.0"
        ],
        [
         "27",
         "3600",
         "0.0",
         "80.0",
         "360.0",
         "1.0"
        ],
        [
         "28",
         "1800",
         "1213.0",
         "47.0",
         "360.0",
         "1.0"
        ],
        [
         "29",
         "2400",
         "0.0",
         "75.0",
         "360.0",
         null
        ],
        [
         "30",
         "3941",
         "2336.0",
         "134.0",
         "360.0",
         "1.0"
        ],
        [
         "31",
         "4695",
         "0.0",
         "96.0",
         null,
         "1.0"
        ],
        [
         "32",
         "3410",
         "0.0",
         "88.0",
         null,
         "1.0"
        ],
        [
         "33",
         "5649",
         "0.0",
         "44.0",
         "360.0",
         "1.0"
        ],
        [
         "34",
         "5821",
         "0.0",
         "144.0",
         "360.0",
         "1.0"
        ],
        [
         "35",
         "2645",
         "3440.0",
         "120.0",
         "360.0",
         "0.0"
        ],
        [
         "36",
         "4000",
         "2275.0",
         "144.0",
         "360.0",
         "1.0"
        ],
        [
         "37",
         "1928",
         "1644.0",
         "100.0",
         "360.0",
         "1.0"
        ],
        [
         "38",
         "3086",
         "0.0",
         "120.0",
         "360.0",
         "1.0"
        ],
        [
         "39",
         "4230",
         "0.0",
         "112.0",
         "360.0",
         "1.0"
        ],
        [
         "40",
         "4616",
         "0.0",
         "134.0",
         "360.0",
         "1.0"
        ],
        [
         "41",
         "2708",
         "1167.0",
         "97.0",
         "360.0",
         "1.0"
        ],
        [
         "42",
         "2132",
         "1591.0",
         "96.0",
         "360.0",
         "1.0"
        ],
        [
         "43",
         "3366",
         "2200.0",
         "135.0",
         "360.0",
         "1.0"
        ],
        [
         "44",
         "3357",
         "2859.0",
         "144.0",
         "360.0",
         "1.0"
        ],
        [
         "45",
         "2500",
         "3796.0",
         "120.0",
         "360.0",
         "1.0"
        ],
        [
         "46",
         "3029",
         "0.0",
         "99.0",
         "360.0",
         "1.0"
        ],
        [
         "47",
         "4166",
         "0.0",
         "116.0",
         "360.0",
         "0.0"
        ],
        [
         "48",
         "3200",
         "2254.0",
         "126.0",
         "180.0",
         "0.0"
        ],
        [
         "49",
         "7100",
         "0.0",
         "125.0",
         "60.0",
         "1.0"
        ]
       ],
       "shape": {
        "columns": 5,
        "rows": 381
       }
      },
      "text/html": [
       "<div>\n",
       "<style scoped>\n",
       "    .dataframe tbody tr th:only-of-type {\n",
       "        vertical-align: middle;\n",
       "    }\n",
       "\n",
       "    .dataframe tbody tr th {\n",
       "        vertical-align: top;\n",
       "    }\n",
       "\n",
       "    .dataframe thead th {\n",
       "        text-align: right;\n",
       "    }\n",
       "</style>\n",
       "<table border=\"1\" class=\"dataframe\">\n",
       "  <thead>\n",
       "    <tr style=\"text-align: right;\">\n",
       "      <th></th>\n",
       "      <th>ApplicantIncome</th>\n",
       "      <th>CoapplicantIncome</th>\n",
       "      <th>LoanAmount</th>\n",
       "      <th>Loan_Amount_Term</th>\n",
       "      <th>Credit_History</th>\n",
       "    </tr>\n",
       "  </thead>\n",
       "  <tbody>\n",
       "    <tr>\n",
       "      <th>0</th>\n",
       "      <td>4583</td>\n",
       "      <td>1508.0</td>\n",
       "      <td>128.0</td>\n",
       "      <td>360.0</td>\n",
       "      <td>1.0</td>\n",
       "    </tr>\n",
       "    <tr>\n",
       "      <th>1</th>\n",
       "      <td>3000</td>\n",
       "      <td>0.0</td>\n",
       "      <td>66.0</td>\n",
       "      <td>360.0</td>\n",
       "      <td>1.0</td>\n",
       "    </tr>\n",
       "    <tr>\n",
       "      <th>2</th>\n",
       "      <td>2583</td>\n",
       "      <td>2358.0</td>\n",
       "      <td>120.0</td>\n",
       "      <td>360.0</td>\n",
       "      <td>1.0</td>\n",
       "    </tr>\n",
       "    <tr>\n",
       "      <th>3</th>\n",
       "      <td>6000</td>\n",
       "      <td>0.0</td>\n",
       "      <td>141.0</td>\n",
       "      <td>360.0</td>\n",
       "      <td>1.0</td>\n",
       "    </tr>\n",
       "    <tr>\n",
       "      <th>4</th>\n",
       "      <td>2333</td>\n",
       "      <td>1516.0</td>\n",
       "      <td>95.0</td>\n",
       "      <td>360.0</td>\n",
       "      <td>1.0</td>\n",
       "    </tr>\n",
       "    <tr>\n",
       "      <th>...</th>\n",
       "      <td>...</td>\n",
       "      <td>...</td>\n",
       "      <td>...</td>\n",
       "      <td>...</td>\n",
       "      <td>...</td>\n",
       "    </tr>\n",
       "    <tr>\n",
       "      <th>376</th>\n",
       "      <td>5703</td>\n",
       "      <td>0.0</td>\n",
       "      <td>128.0</td>\n",
       "      <td>360.0</td>\n",
       "      <td>1.0</td>\n",
       "    </tr>\n",
       "    <tr>\n",
       "      <th>377</th>\n",
       "      <td>3232</td>\n",
       "      <td>1950.0</td>\n",
       "      <td>108.0</td>\n",
       "      <td>360.0</td>\n",
       "      <td>1.0</td>\n",
       "    </tr>\n",
       "    <tr>\n",
       "      <th>378</th>\n",
       "      <td>2900</td>\n",
       "      <td>0.0</td>\n",
       "      <td>71.0</td>\n",
       "      <td>360.0</td>\n",
       "      <td>1.0</td>\n",
       "    </tr>\n",
       "    <tr>\n",
       "      <th>379</th>\n",
       "      <td>4106</td>\n",
       "      <td>0.0</td>\n",
       "      <td>40.0</td>\n",
       "      <td>180.0</td>\n",
       "      <td>1.0</td>\n",
       "    </tr>\n",
       "    <tr>\n",
       "      <th>380</th>\n",
       "      <td>4583</td>\n",
       "      <td>0.0</td>\n",
       "      <td>133.0</td>\n",
       "      <td>360.0</td>\n",
       "      <td>0.0</td>\n",
       "    </tr>\n",
       "  </tbody>\n",
       "</table>\n",
       "<p>381 rows × 5 columns</p>\n",
       "</div>"
      ],
      "text/plain": [
       "     ApplicantIncome  CoapplicantIncome  LoanAmount  Loan_Amount_Term  \\\n",
       "0               4583             1508.0       128.0             360.0   \n",
       "1               3000                0.0        66.0             360.0   \n",
       "2               2583             2358.0       120.0             360.0   \n",
       "3               6000                0.0       141.0             360.0   \n",
       "4               2333             1516.0        95.0             360.0   \n",
       "..               ...                ...         ...               ...   \n",
       "376             5703                0.0       128.0             360.0   \n",
       "377             3232             1950.0       108.0             360.0   \n",
       "378             2900                0.0        71.0             360.0   \n",
       "379             4106                0.0        40.0             180.0   \n",
       "380             4583                0.0       133.0             360.0   \n",
       "\n",
       "     Credit_History  \n",
       "0               1.0  \n",
       "1               1.0  \n",
       "2               1.0  \n",
       "3               1.0  \n",
       "4               1.0  \n",
       "..              ...  \n",
       "376             1.0  \n",
       "377             1.0  \n",
       "378             1.0  \n",
       "379             1.0  \n",
       "380             0.0  \n",
       "\n",
       "[381 rows x 5 columns]"
      ]
     },
     "execution_count": 23,
     "metadata": {},
     "output_type": "execute_result"
    }
   ],
   "source": [
    "numeric_df"
   ]
  },
  {
   "cell_type": "code",
   "execution_count": 24,
   "id": "85ac7e7a",
   "metadata": {},
   "outputs": [
    {
     "data": {
      "application/vnd.microsoft.datawrangler.viewer.v0+json": {
       "columns": [
        {
         "name": "index",
         "rawType": "object",
         "type": "string"
        },
        {
         "name": "ApplicantIncome",
         "rawType": "float64",
         "type": "float"
        },
        {
         "name": "CoapplicantIncome",
         "rawType": "float64",
         "type": "float"
        },
        {
         "name": "LoanAmount",
         "rawType": "float64",
         "type": "float"
        },
        {
         "name": "Loan_Amount_Term",
         "rawType": "float64",
         "type": "float"
        },
        {
         "name": "Credit_History",
         "rawType": "float64",
         "type": "float"
        }
       ],
       "ref": "9e3c2944-ab94-4015-85e8-1e5817b28319",
       "rows": [
        [
         "ApplicantIncome",
         "1.0",
         "-0.24869305117163953",
         "0.27068147084273353",
         "-0.109875241116722",
         "0.004534548835377515"
        ],
        [
         "CoapplicantIncome",
         "-0.24869305117163953",
         "1.0",
         "0.11493645173206243",
         "0.0019056054747104633",
         "0.023015198520793926"
        ],
        [
         "LoanAmount",
         "0.27068147084273353",
         "0.11493645173206243",
         "1.0",
         "0.12357886584823241",
         "-0.04789941467930965"
        ],
        [
         "Loan_Amount_Term",
         "-0.109875241116722",
         "0.0019056054747104633",
         "0.12357886584823241",
         "1.0",
         "-0.01345238397028717"
        ],
        [
         "Credit_History",
         "0.004534548835377515",
         "0.023015198520793926",
         "-0.04789941467930965",
         "-0.01345238397028717",
         "1.0"
        ]
       ],
       "shape": {
        "columns": 5,
        "rows": 5
       }
      },
      "text/html": [
       "<div>\n",
       "<style scoped>\n",
       "    .dataframe tbody tr th:only-of-type {\n",
       "        vertical-align: middle;\n",
       "    }\n",
       "\n",
       "    .dataframe tbody tr th {\n",
       "        vertical-align: top;\n",
       "    }\n",
       "\n",
       "    .dataframe thead th {\n",
       "        text-align: right;\n",
       "    }\n",
       "</style>\n",
       "<table border=\"1\" class=\"dataframe\">\n",
       "  <thead>\n",
       "    <tr style=\"text-align: right;\">\n",
       "      <th></th>\n",
       "      <th>ApplicantIncome</th>\n",
       "      <th>CoapplicantIncome</th>\n",
       "      <th>LoanAmount</th>\n",
       "      <th>Loan_Amount_Term</th>\n",
       "      <th>Credit_History</th>\n",
       "    </tr>\n",
       "  </thead>\n",
       "  <tbody>\n",
       "    <tr>\n",
       "      <th>ApplicantIncome</th>\n",
       "      <td>1.000000</td>\n",
       "      <td>-0.248693</td>\n",
       "      <td>0.270681</td>\n",
       "      <td>-0.109875</td>\n",
       "      <td>0.004535</td>\n",
       "    </tr>\n",
       "    <tr>\n",
       "      <th>CoapplicantIncome</th>\n",
       "      <td>-0.248693</td>\n",
       "      <td>1.000000</td>\n",
       "      <td>0.114936</td>\n",
       "      <td>0.001906</td>\n",
       "      <td>0.023015</td>\n",
       "    </tr>\n",
       "    <tr>\n",
       "      <th>LoanAmount</th>\n",
       "      <td>0.270681</td>\n",
       "      <td>0.114936</td>\n",
       "      <td>1.000000</td>\n",
       "      <td>0.123579</td>\n",
       "      <td>-0.047899</td>\n",
       "    </tr>\n",
       "    <tr>\n",
       "      <th>Loan_Amount_Term</th>\n",
       "      <td>-0.109875</td>\n",
       "      <td>0.001906</td>\n",
       "      <td>0.123579</td>\n",
       "      <td>1.000000</td>\n",
       "      <td>-0.013452</td>\n",
       "    </tr>\n",
       "    <tr>\n",
       "      <th>Credit_History</th>\n",
       "      <td>0.004535</td>\n",
       "      <td>0.023015</td>\n",
       "      <td>-0.047899</td>\n",
       "      <td>-0.013452</td>\n",
       "      <td>1.000000</td>\n",
       "    </tr>\n",
       "  </tbody>\n",
       "</table>\n",
       "</div>"
      ],
      "text/plain": [
       "                   ApplicantIncome  CoapplicantIncome  LoanAmount  \\\n",
       "ApplicantIncome           1.000000          -0.248693    0.270681   \n",
       "CoapplicantIncome        -0.248693           1.000000    0.114936   \n",
       "LoanAmount                0.270681           0.114936    1.000000   \n",
       "Loan_Amount_Term         -0.109875           0.001906    0.123579   \n",
       "Credit_History            0.004535           0.023015   -0.047899   \n",
       "\n",
       "                   Loan_Amount_Term  Credit_History  \n",
       "ApplicantIncome           -0.109875        0.004535  \n",
       "CoapplicantIncome          0.001906        0.023015  \n",
       "LoanAmount                 0.123579       -0.047899  \n",
       "Loan_Amount_Term           1.000000       -0.013452  \n",
       "Credit_History            -0.013452        1.000000  "
      ]
     },
     "execution_count": 24,
     "metadata": {},
     "output_type": "execute_result"
    }
   ],
   "source": [
    "# correlation matrix\n",
    "correlation_matrix = numeric_df.corr() \n",
    "correlation_matrix"
   ]
  },
  {
   "cell_type": "code",
   "execution_count": 25,
   "id": "f408697c",
   "metadata": {},
   "outputs": [
    {
     "data": {
      "image/png": "[encoded data removed]",
      "text/plain": [
       "<Figure size 640x480 with 2 Axes>"
      ]
     },
     "metadata": {},
     "output_type": "display_data"
    }
   ],
   "source": [
    "sns.heatmap(correlation_matrix, annot=True, cmap=\"coolwarm\")\n",
    "plt.title(\"Correlation Heatmap\")\n",
    "plt.show()"
   ]
  },
  {
   "cell_type": "code",
   "execution_count": 26,
   "id": "15a3348e",
   "metadata": {},
   "outputs": [
    {
     "data": {
      "text/plain": [
       "Index(['Loan_ID', 'Gender', 'Married', 'Dependents', 'Education',\n",
       "       'Self_Employed', 'ApplicantIncome', 'CoapplicantIncome', 'LoanAmount',\n",
       "       'Loan_Amount_Term', 'Credit_History', 'Property_Area', 'Loan_Status'],\n",
       "      dtype='object')"
      ]
     },
     "execution_count": 26,
     "metadata": {},
     "output_type": "execute_result"
    }
   ],
   "source": [
    "loan.columns"
   ]
  },
  {
   "cell_type": "code",
   "execution_count": 27,
   "id": "05ac6e52",
   "metadata": {},
   "outputs": [],
   "source": [
    "avg_term_by_employed = loan.groupby(\"Self_Employed\")[\"Loan_Amount_Term\"].mean().reset_index()"
   ]
  },
  {
   "cell_type": "code",
   "execution_count": 28,
   "id": "052e023c",
   "metadata": {},
   "outputs": [
    {
     "data": {
      "application/vnd.microsoft.datawrangler.viewer.v0+json": {
       "columns": [
        {
         "name": "index",
         "rawType": "int64",
         "type": "integer"
        },
        {
         "name": "Self_Employed",
         "rawType": "object",
         "type": "string"
        },
        {
         "name": "Loan_Amount_Term",
         "rawType": "float64",
         "type": "float"
        }
       ],
       "ref": "45d8f275-3c93-4b84-a557-e912dbdf2c08",
       "rows": [
        [
         "0",
         "No",
         "342.3217665615142"
        ],
        [
         "1",
         "Yes",
         "326.1818181818182"
        ]
       ],
       "shape": {
        "columns": 2,
        "rows": 2
       }
      },
      "text/html": [
       "<div>\n",
       "<style scoped>\n",
       "    .dataframe tbody tr th:only-of-type {\n",
       "        vertical-align: middle;\n",
       "    }\n",
       "\n",
       "    .dataframe tbody tr th {\n",
       "        vertical-align: top;\n",
       "    }\n",
       "\n",
       "    .dataframe thead th {\n",
       "        text-align: right;\n",
       "    }\n",
       "</style>\n",
       "<table border=\"1\" class=\"dataframe\">\n",
       "  <thead>\n",
       "    <tr style=\"text-align: right;\">\n",
       "      <th></th>\n",
       "      <th>Self_Employed</th>\n",
       "      <th>Loan_Amount_Term</th>\n",
       "    </tr>\n",
       "  </thead>\n",
       "  <tbody>\n",
       "    <tr>\n",
       "      <th>0</th>\n",
       "      <td>No</td>\n",
       "      <td>342.321767</td>\n",
       "    </tr>\n",
       "    <tr>\n",
       "      <th>1</th>\n",
       "      <td>Yes</td>\n",
       "      <td>326.181818</td>\n",
       "    </tr>\n",
       "  </tbody>\n",
       "</table>\n",
       "</div>"
      ],
      "text/plain": [
       "  Self_Employed  Loan_Amount_Term\n",
       "0            No        342.321767\n",
       "1           Yes        326.181818"
      ]
     },
     "execution_count": 28,
     "metadata": {},
     "output_type": "execute_result"
    }
   ],
   "source": [
    "avg_term_by_employed"
   ]
  },
  {
   "cell_type": "code",
   "execution_count": 29,
   "id": "8658804f",
   "metadata": {},
   "outputs": [
    {
     "data": {
      "image/png": "[encoded data removed]",
      "text/plain": [
       "<Figure size 640x480 with 1 Axes>"
      ]
     },
     "metadata": {},
     "output_type": "display_data"
    }
   ],
   "source": [
    "sns.barplot(x=\"Self_Employed\", y=\"Loan_Amount_Term\", data = avg_term_by_employed)\n",
    "plt.title(\"Average long term by Self Employed\")\n",
    "plt.xlabel(\"Self Employed\")\n",
    "plt.ylabel(\"Average Loan Term\")\n",
    "plt.show()"
   ]
  },
  {
   "cell_type": "code",
   "execution_count": 30,
   "id": "873af754",
   "metadata": {},
   "outputs": [
    {
     "data": {
      "text/plain": [
       "array([ 1., nan,  0.])"
      ]
     },
     "execution_count": 30,
     "metadata": {},
     "output_type": "execute_result"
    }
   ],
   "source": [
    "loan[\"Credit_History\"].unique()"
   ]
  },
  {
   "cell_type": "code",
   "execution_count": 31,
   "id": "e15c68ff",
   "metadata": {},
   "outputs": [
    {
     "data": {
      "application/vnd.microsoft.datawrangler.viewer.v0+json": {
       "columns": [
        {
         "name": "index",
         "rawType": "int64",
         "type": "integer"
        },
        {
         "name": "Loan_ID",
         "rawType": "object",
         "type": "string"
        },
        {
         "name": "Gender",
         "rawType": "object",
         "type": "unknown"
        },
        {
         "name": "Married",
         "rawType": "object",
         "type": "string"
        },
        {
         "name": "Dependents",
         "rawType": "object",
         "type": "unknown"
        },
        {
         "name": "Education",
         "rawType": "object",
         "type": "string"
        },
        {
         "name": "Self_Employed",
         "rawType": "object",
         "type": "unknown"
        },
        {
         "name": "ApplicantIncome",
         "rawType": "int64",
         "type": "integer"
        },
        {
         "name": "CoapplicantIncome",
         "rawType": "float64",
         "type": "float"
        },
        {
         "name": "LoanAmount",
         "rawType": "float64",
         "type": "float"
        },
        {
         "name": "Loan_Amount_Term",
         "rawType": "float64",
         "type": "float"
        },
        {
         "name": "Credit_History",
         "rawType": "float64",
         "type": "float"
        },
        {
         "name": "Property_Area",
         "rawType": "object",
         "type": "string"
        },
        {
         "name": "Loan_Status",
         "rawType": "object",
         "type": "string"
        }
       ],
       "ref": "d0520843-5557-4050-bc3a-f5f391a79094",
       "rows": [
        [
         "0",
         "LP001003",
         "Male",
         "Yes",
         "1",
         "Graduate",
         "No",
         "4583",
         "1508.0",
         "128.0",
         "360.0",
         "1.0",
         "Rural",
         "N"
        ],
        [
         "1",
         "LP001005",
         "Male",
         "Yes",
         "0",
         "Graduate",
         "Yes",
         "3000",
         "0.0",
         "66.0",
         "360.0",
         "1.0",
         "Urban",
         "Y"
        ],
        [
         "2",
         "LP001006",
         "Male",
         "Yes",
         "0",
         "Not Graduate",
         "No",
         "2583",
         "2358.0",
         "120.0",
         "360.0",
         "1.0",
         "Urban",
         "Y"
        ],
        [
         "3",
         "LP001008",
         "Male",
         "No",
         "0",
         "Graduate",
         "No",
         "6000",
         "0.0",
         "141.0",
         "360.0",
         "1.0",
         "Urban",
         "Y"
        ],
        [
         "4",
         "LP001013",
         "Male",
         "Yes",
         "0",
         "Not Graduate",
         "No",
         "2333",
         "1516.0",
         "95.0",
         "360.0",
         "1.0",
         "Urban",
         "Y"
        ],
        [
         "5",
         "LP001024",
         "Male",
         "Yes",
         "2",
         "Graduate",
         "No",
         "3200",
         "700.0",
         "70.0",
         "360.0",
         "1.0",
         "Urban",
         "Y"
        ],
        [
         "6",
         "LP001027",
         "Male",
         "Yes",
         "2",
         "Graduate",
         null,
         "2500",
         "1840.0",
         "109.0",
         "360.0",
         "1.0",
         "Urban",
         "Y"
        ],
        [
         "7",
         "LP001029",
         "Male",
         "No",
         "0",
         "Graduate",
         "No",
         "1853",
         "2840.0",
         "114.0",
         "360.0",
         "1.0",
         "Rural",
         "N"
        ],
        [
         "8",
         "LP001030",
         "Male",
         "Yes",
         "2",
         "Graduate",
         "No",
         "1299",
         "1086.0",
         "17.0",
         "120.0",
         "1.0",
         "Urban",
         "Y"
        ],
        [
         "9",
         "LP001032",
         "Male",
         "No",
         "0",
         "Graduate",
         "No",
         "4950",
         "0.0",
         "125.0",
         "360.0",
         "1.0",
         "Urban",
         "Y"
        ],
        [
         "10",
         "LP001034",
         "Male",
         "No",
         "1",
         "Not Graduate",
         "No",
         "3596",
         "0.0",
         "100.0",
         "240.0",
         null,
         "Urban",
         "Y"
        ],
        [
         "11",
         "LP001036",
         "Female",
         "No",
         "0",
         "Graduate",
         "No",
         "3510",
         "0.0",
         "76.0",
         "360.0",
         "0.0",
         "Urban",
         "N"
        ],
        [
         "12",
         "LP001038",
         "Male",
         "Yes",
         "0",
         "Not Graduate",
         "No",
         "4887",
         "0.0",
         "133.0",
         "360.0",
         "1.0",
         "Rural",
         "N"
        ],
        [
         "13",
         "LP001041",
         "Male",
         "Yes",
         "0",
         "Graduate",
         null,
         "2600",
         "3500.0",
         "115.0",
         null,
         "1.0",
         "Urban",
         "Y"
        ],
        [
         "14",
         "LP001043",
         "Male",
         "Yes",
         "0",
         "Not Graduate",
         "No",
         "7660",
         "0.0",
         "104.0",
         "360.0",
         "0.0",
         "Urban",
         "N"
        ],
        [
         "15",
         "LP001047",
         "Male",
         "Yes",
         "0",
         "Not Graduate",
         "No",
         "2600",
         "1911.0",
         "116.0",
         "360.0",
         "0.0",
         "Semiurban",
         "N"
        ],
        [
         "16",
         "LP001050",
         null,
         "Yes",
         "2",
         "Not Graduate",
         "No",
         "3365",
         "1917.0",
         "112.0",
         "360.0",
         "0.0",
         "Rural",
         "N"
        ],
        [
         "17",
         "LP001068",
         "Male",
         "Yes",
         "0",
         "Graduate",
         "No",
         "2799",
         "2253.0",
         "122.0",
         "360.0",
         "1.0",
         "Semiurban",
         "Y"
        ],
        [
         "18",
         "LP001073",
         "Male",
         "Yes",
         "2",
         "Not Graduate",
         "No",
         "4226",
         "1040.0",
         "110.0",
         "360.0",
         "1.0",
         "Urban",
         "Y"
        ],
        [
         "19",
         "LP001086",
         "Male",
         "No",
         "0",
         "Not Graduate",
         "No",
         "1442",
         "0.0",
         "35.0",
         "360.0",
         "1.0",
         "Urban",
         "N"
        ],
        [
         "20",
         "LP001087",
         "Female",
         "No",
         "2",
         "Graduate",
         null,
         "3750",
         "2083.0",
         "120.0",
         "360.0",
         "1.0",
         "Semiurban",
         "Y"
        ],
        [
         "21",
         "LP001095",
         "Male",
         "No",
         "0",
         "Graduate",
         "No",
         "3167",
         "0.0",
         "74.0",
         "360.0",
         "1.0",
         "Urban",
         "N"
        ],
        [
         "22",
         "LP001097",
         "Male",
         "No",
         "1",
         "Graduate",
         "Yes",
         "4692",
         "0.0",
         "106.0",
         "360.0",
         "1.0",
         "Rural",
         "N"
        ],
        [
         "23",
         "LP001098",
         "Male",
         "Yes",
         "0",
         "Graduate",
         "No",
         "3500",
         "1667.0",
         "114.0",
         "360.0",
         "1.0",
         "Semiurban",
         "Y"
        ],
        [
         "24",
         "LP001109",
         "Male",
         "Yes",
         "0",
         "Graduate",
         "No",
         "1828",
         "1330.0",
         "100.0",
         null,
         "0.0",
         "Urban",
         "N"
        ],
        [
         "25",
         "LP001112",
         "Female",
         "Yes",
         "0",
         "Graduate",
         "No",
         "3667",
         "1459.0",
         "144.0",
         "360.0",
         "1.0",
         "Semiurban",
         "Y"
        ],
        [
         "26",
         "LP001116",
         "Male",
         "No",
         "0",
         "Not Graduate",
         "No",
         "3748",
         "1668.0",
         "110.0",
         "360.0",
         "1.0",
         "Semiurban",
         "Y"
        ],
        [
         "27",
         "LP001119",
         "Male",
         "No",
         "0",
         "Graduate",
         "No",
         "3600",
         "0.0",
         "80.0",
         "360.0",
         "1.0",
         "Urban",
         "N"
        ],
        [
         "28",
         "LP001120",
         "Male",
         "No",
         "0",
         "Graduate",
         "No",
         "1800",
         "1213.0",
         "47.0",
         "360.0",
         "1.0",
         "Urban",
         "Y"
        ],
        [
         "29",
         "LP001123",
         "Male",
         "Yes",
         "0",
         "Graduate",
         "No",
         "2400",
         "0.0",
         "75.0",
         "360.0",
         null,
         "Urban",
         "Y"
        ],
        [
         "30",
         "LP001131",
         "Male",
         "Yes",
         "0",
         "Graduate",
         "No",
         "3941",
         "2336.0",
         "134.0",
         "360.0",
         "1.0",
         "Semiurban",
         "Y"
        ],
        [
         "31",
         "LP001136",
         "Male",
         "Yes",
         "0",
         "Not Graduate",
         "Yes",
         "4695",
         "0.0",
         "96.0",
         null,
         "1.0",
         "Urban",
         "Y"
        ],
        [
         "32",
         "LP001137",
         "Female",
         "No",
         "0",
         "Graduate",
         "No",
         "3410",
         "0.0",
         "88.0",
         null,
         "1.0",
         "Urban",
         "Y"
        ],
        [
         "33",
         "LP001138",
         "Male",
         "Yes",
         "1",
         "Graduate",
         "No",
         "5649",
         "0.0",
         "44.0",
         "360.0",
         "1.0",
         "Urban",
         "Y"
        ],
        [
         "34",
         "LP001144",
         "Male",
         "Yes",
         "0",
         "Graduate",
         "No",
         "5821",
         "0.0",
         "144.0",
         "360.0",
         "1.0",
         "Urban",
         "Y"
        ],
        [
         "35",
         "LP001146",
         "Female",
         "Yes",
         "0",
         "Graduate",
         "No",
         "2645",
         "3440.0",
         "120.0",
         "360.0",
         "0.0",
         "Urban",
         "N"
        ],
        [
         "36",
         "LP001151",
         "Female",
         "No",
         "0",
         "Graduate",
         "No",
         "4000",
         "2275.0",
         "144.0",
         "360.0",
         "1.0",
         "Semiurban",
         "Y"
        ],
        [
         "37",
         "LP001155",
         "Female",
         "Yes",
         "0",
         "Not Graduate",
         "No",
         "1928",
         "1644.0",
         "100.0",
         "360.0",
         "1.0",
         "Semiurban",
         "Y"
        ],
        [
         "38",
         "LP001157",
         "Female",
         "No",
         "0",
         "Graduate",
         "No",
         "3086",
         "0.0",
         "120.0",
         "360.0",
         "1.0",
         "Semiurban",
         "Y"
        ],
        [
         "39",
         "LP001164",
         "Female",
         "No",
         "0",
         "Graduate",
         "No",
         "4230",
         "0.0",
         "112.0",
         "360.0",
         "1.0",
         "Semiurban",
         "N"
        ],
        [
         "40",
         "LP001179",
         "Male",
         "Yes",
         "2",
         "Graduate",
         "No",
         "4616",
         "0.0",
         "134.0",
         "360.0",
         "1.0",
         "Urban",
         "N"
        ],
        [
         "41",
         "LP001194",
         "Male",
         "Yes",
         "2",
         "Graduate",
         "No",
         "2708",
         "1167.0",
         "97.0",
         "360.0",
         "1.0",
         "Semiurban",
         "Y"
        ],
        [
         "42",
         "LP001195",
         "Male",
         "Yes",
         "0",
         "Graduate",
         "No",
         "2132",
         "1591.0",
         "96.0",
         "360.0",
         "1.0",
         "Semiurban",
         "Y"
        ],
        [
         "43",
         "LP001197",
         "Male",
         "Yes",
         "0",
         "Graduate",
         "No",
         "3366",
         "2200.0",
         "135.0",
         "360.0",
         "1.0",
         "Rural",
         "N"
        ],
        [
         "44",
         "LP001199",
         "Male",
         "Yes",
         "2",
         "Not Graduate",
         "No",
         "3357",
         "2859.0",
         "144.0",
         "360.0",
         "1.0",
         "Urban",
         "Y"
        ],
        [
         "45",
         "LP001205",
         "Male",
         "Yes",
         "0",
         "Graduate",
         "No",
         "2500",
         "3796.0",
         "120.0",
         "360.0",
         "1.0",
         "Urban",
         "Y"
        ],
        [
         "46",
         "LP001206",
         "Male",
         "Yes",
         "3+",
         "Graduate",
         "No",
         "3029",
         "0.0",
         "99.0",
         "360.0",
         "1.0",
         "Urban",
         "Y"
        ],
        [
         "47",
         "LP001222",
         "Female",
         "No",
         "0",
         "Graduate",
         "No",
         "4166",
         "0.0",
         "116.0",
         "360.0",
         "0.0",
         "Semiurban",
         "N"
        ],
        [
         "48",
         "LP001228",
         "Male",
         "No",
         "0",
         "Not Graduate",
         "No",
         "3200",
         "2254.0",
         "126.0",
         "180.0",
         "0.0",
         "Urban",
         "N"
        ],
        [
         "49",
         "LP001238",
         "Male",
         "Yes",
         "3+",
         "Not Graduate",
         "Yes",
         "7100",
         "0.0",
         "125.0",
         "60.0",
         "1.0",
         "Urban",
         "Y"
        ]
       ],
       "shape": {
        "columns": 13,
        "rows": 381
       }
      },
      "text/html": [
       "<div>\n",
       "<style scoped>\n",
       "    .dataframe tbody tr th:only-of-type {\n",
       "        vertical-align: middle;\n",
       "    }\n",
       "\n",
       "    .dataframe tbody tr th {\n",
       "        vertical-align: top;\n",
       "    }\n",
       "\n",
       "    .dataframe thead th {\n",
       "        text-align: right;\n",
       "    }\n",
       "</style>\n",
       "<table border=\"1\" class=\"dataframe\">\n",
       "  <thead>\n",
       "    <tr style=\"text-align: right;\">\n",
       "      <th></th>\n",
       "      <th>Loan_ID</th>\n",
       "      <th>Gender</th>\n",
       "      <th>Married</th>\n",
       "      <th>Dependents</th>\n",
       "      <th>Education</th>\n",
       "      <th>Self_Employed</th>\n",
       "      <th>ApplicantIncome</th>\n",
       "      <th>CoapplicantIncome</th>\n",
       "      <th>LoanAmount</th>\n",
       "      <th>Loan_Amount_Term</th>\n",
       "      <th>Credit_History</th>\n",
       "      <th>Property_Area</th>\n",
       "      <th>Loan_Status</th>\n",
       "    </tr>\n",
       "  </thead>\n",
       "  <tbody>\n",
       "    <tr>\n",
       "      <th>0</th>\n",
       "      <td>LP001003</td>\n",
       "      <td>Male</td>\n",
       "      <td>Yes</td>\n",
       "      <td>1</td>\n",
       "      <td>Graduate</td>\n",
       "      <td>No</td>\n",
       "      <td>4583</td>\n",
       "      <td>1508.0</td>\n",
       "      <td>128.0</td>\n",
       "      <td>360.0</td>\n",
       "      <td>1.0</td>\n",
       "      <td>Rural</td>\n",
       "      <td>N</td>\n",
       "    </tr>\n",
       "    <tr>\n",
       "      <th>1</th>\n",
       "      <td>LP001005</td>\n",
       "      <td>Male</td>\n",
       "      <td>Yes</td>\n",
       "      <td>0</td>\n",
       "      <td>Graduate</td>\n",
       "      <td>Yes</td>\n",
       "      <td>3000</td>\n",
       "      <td>0.0</td>\n",
       "      <td>66.0</td>\n",
       "      <td>360.0</td>\n",
       "      <td>1.0</td>\n",
       "      <td>Urban</td>\n",
       "      <td>Y</td>\n",
       "    </tr>\n",
       "    <tr>\n",
       "      <th>2</th>\n",
       "      <td>LP001006</td>\n",
       "      <td>Male</td>\n",
       "      <td>Yes</td>\n",
       "      <td>0</td>\n",
       "      <td>Not Graduate</td>\n",
       "      <td>No</td>\n",
       "      <td>2583</td>\n",
       "      <td>2358.0</td>\n",
       "      <td>120.0</td>\n",
       "      <td>360.0</td>\n",
       "      <td>1.0</td>\n",
       "      <td>Urban</td>\n",
       "      <td>Y</td>\n",
       "    </tr>\n",
       "    <tr>\n",
       "      <th>3</th>\n",
       "      <td>LP001008</td>\n",
       "      <td>Male</td>\n",
       "      <td>No</td>\n",
       "      <td>0</td>\n",
       "      <td>Graduate</td>\n",
       "      <td>No</td>\n",
       "      <td>6000</td>\n",
       "      <td>0.0</td>\n",
       "      <td>141.0</td>\n",
       "      <td>360.0</td>\n",
       "      <td>1.0</td>\n",
       "      <td>Urban</td>\n",
       "      <td>Y</td>\n",
       "    </tr>\n",
       "    <tr>\n",
       "      <th>4</th>\n",
       "      <td>LP001013</td>\n",
       "      <td>Male</td>\n",
       "      <td>Yes</td>\n",
       "      <td>0</td>\n",
       "      <td>Not Graduate</td>\n",
       "      <td>No</td>\n",
       "      <td>2333</td>\n",
       "      <td>1516.0</td>\n",
       "      <td>95.0</td>\n",
       "      <td>360.0</td>\n",
       "      <td>1.0</td>\n",
       "      <td>Urban</td>\n",
       "      <td>Y</td>\n",
       "    </tr>\n",
       "    <tr>\n",
       "      <th>...</th>\n",
       "      <td>...</td>\n",
       "      <td>...</td>\n",
       "      <td>...</td>\n",
       "      <td>...</td>\n",
       "      <td>...</td>\n",
       "      <td>...</td>\n",
       "      <td>...</td>\n",
       "      <td>...</td>\n",
       "      <td>...</td>\n",
       "      <td>...</td>\n",
       "      <td>...</td>\n",
       "      <td>...</td>\n",
       "      <td>...</td>\n",
       "    </tr>\n",
       "    <tr>\n",
       "      <th>376</th>\n",
       "      <td>LP002953</td>\n",
       "      <td>Male</td>\n",
       "      <td>Yes</td>\n",
       "      <td>3+</td>\n",
       "      <td>Graduate</td>\n",
       "      <td>No</td>\n",
       "      <td>5703</td>\n",
       "      <td>0.0</td>\n",
       "      <td>128.0</td>\n",
       "      <td>360.0</td>\n",
       "      <td>1.0</td>\n",
       "      <td>Urban</td>\n",
       "      <td>Y</td>\n",
       "    </tr>\n",
       "    <tr>\n",
       "      <th>377</th>\n",
       "      <td>LP002974</td>\n",
       "      <td>Male</td>\n",
       "      <td>Yes</td>\n",
       "      <td>0</td>\n",
       "      <td>Graduate</td>\n",
       "      <td>No</td>\n",
       "      <td>3232</td>\n",
       "      <td>1950.0</td>\n",
       "      <td>108.0</td>\n",
       "      <td>360.0</td>\n",
       "      <td>1.0</td>\n",
       "      <td>Rural</td>\n",
       "      <td>Y</td>\n",
       "    </tr>\n",
       "    <tr>\n",
       "      <th>378</th>\n",
       "      <td>LP002978</td>\n",
       "      <td>Female</td>\n",
       "      <td>No</td>\n",
       "      <td>0</td>\n",
       "      <td>Graduate</td>\n",
       "      <td>No</td>\n",
       "      <td>2900</td>\n",
       "      <td>0.0</td>\n",
       "      <td>71.0</td>\n",
       "      <td>360.0</td>\n",
       "      <td>1.0</td>\n",
       "      <td>Rural</td>\n",
       "      <td>Y</td>\n",
       "    </tr>\n",
       "    <tr>\n",
       "      <th>379</th>\n",
       "      <td>LP002979</td>\n",
       "      <td>Male</td>\n",
       "      <td>Yes</td>\n",
       "      <td>3+</td>\n",
       "      <td>Graduate</td>\n",
       "      <td>No</td>\n",
       "      <td>4106</td>\n",
       "      <td>0.0</td>\n",
       "      <td>40.0</td>\n",
       "      <td>180.0</td>\n",
       "      <td>1.0</td>\n",
       "      <td>Rural</td>\n",
       "      <td>Y</td>\n",
       "    </tr>\n",
       "    <tr>\n",
       "      <th>380</th>\n",
       "      <td>LP002990</td>\n",
       "      <td>Female</td>\n",
       "      <td>No</td>\n",
       "      <td>0</td>\n",
       "      <td>Graduate</td>\n",
       "      <td>Yes</td>\n",
       "      <td>4583</td>\n",
       "      <td>0.0</td>\n",
       "      <td>133.0</td>\n",
       "      <td>360.0</td>\n",
       "      <td>0.0</td>\n",
       "      <td>Semiurban</td>\n",
       "      <td>N</td>\n",
       "    </tr>\n",
       "  </tbody>\n",
       "</table>\n",
       "<p>381 rows × 13 columns</p>\n",
       "</div>"
      ],
      "text/plain": [
       "      Loan_ID  Gender Married Dependents     Education Self_Employed  \\\n",
       "0    LP001003    Male     Yes          1      Graduate            No   \n",
       "1    LP001005    Male     Yes          0      Graduate           Yes   \n",
       "2    LP001006    Male     Yes          0  Not Graduate            No   \n",
       "3    LP001008    Male      No          0      Graduate            No   \n",
       "4    LP001013    Male     Yes          0  Not Graduate            No   \n",
       "..        ...     ...     ...        ...           ...           ...   \n",
       "376  LP002953    Male     Yes         3+      Graduate            No   \n",
       "377  LP002974    Male     Yes          0      Graduate            No   \n",
       "378  LP002978  Female      No          0      Graduate            No   \n",
       "379  LP002979    Male     Yes         3+      Graduate            No   \n",
       "380  LP002990  Female      No          0      Graduate           Yes   \n",
       "\n",
       "     ApplicantIncome  CoapplicantIncome  LoanAmount  Loan_Amount_Term  \\\n",
       "0               4583             1508.0       128.0             360.0   \n",
       "1               3000                0.0        66.0             360.0   \n",
       "2               2583             2358.0       120.0             360.0   \n",
       "3               6000                0.0       141.0             360.0   \n",
       "4               2333             1516.0        95.0             360.0   \n",
       "..               ...                ...         ...               ...   \n",
       "376             5703                0.0       128.0             360.0   \n",
       "377             3232             1950.0       108.0             360.0   \n",
       "378             2900                0.0        71.0             360.0   \n",
       "379             4106                0.0        40.0             180.0   \n",
       "380             4583                0.0       133.0             360.0   \n",
       "\n",
       "     Credit_History Property_Area Loan_Status  \n",
       "0               1.0         Rural           N  \n",
       "1               1.0         Urban           Y  \n",
       "2               1.0         Urban           Y  \n",
       "3               1.0         Urban           Y  \n",
       "4               1.0         Urban           Y  \n",
       "..              ...           ...         ...  \n",
       "376             1.0         Urban           Y  \n",
       "377             1.0         Rural           Y  \n",
       "378             1.0         Rural           Y  \n",
       "379             1.0         Rural           Y  \n",
       "380             0.0     Semiurban           N  \n",
       "\n",
       "[381 rows x 13 columns]"
      ]
     },
     "execution_count": 31,
     "metadata": {},
     "output_type": "execute_result"
    }
   ],
   "source": [
    "loan"
   ]
  },
  {
   "cell_type": "markdown",
   "id": "a3b29736",
   "metadata": {},
   "source": [
    "# Split Dataset"
   ]
  },
  {
   "cell_type": "code",
   "execution_count": 32,
   "id": "e8dd85e7",
   "metadata": {},
   "outputs": [],
   "source": [
    "X = loan[[\"Married\", \"ApplicantIncome\", \"Education\", \"LoanAmount\", \"Credit_History\"]]"
   ]
  },
  {
   "cell_type": "code",
   "execution_count": 33,
   "id": "b22904f7",
   "metadata": {},
   "outputs": [
    {
     "data": {
      "application/vnd.microsoft.datawrangler.viewer.v0+json": {
       "columns": [
        {
         "name": "index",
         "rawType": "int64",
         "type": "integer"
        },
        {
         "name": "Married",
         "rawType": "object",
         "type": "string"
        },
        {
         "name": "ApplicantIncome",
         "rawType": "int64",
         "type": "integer"
        },
        {
         "name": "Education",
         "rawType": "object",
         "type": "string"
        },
        {
         "name": "LoanAmount",
         "rawType": "float64",
         "type": "float"
        },
        {
         "name": "Credit_History",
         "rawType": "float64",
         "type": "float"
        }
       ],
       "ref": "f154eb31-c094-4010-bbf4-1a00fa17f03a",
       "rows": [
        [
         "0",
         "Yes",
         "4583",
         "Graduate",
         "128.0",
         "1.0"
        ],
        [
         "1",
         "Yes",
         "3000",
         "Graduate",
         "66.0",
         "1.0"
        ],
        [
         "2",
         "Yes",
         "2583",
         "Not Graduate",
         "120.0",
         "1.0"
        ],
        [
         "3",
         "No",
         "6000",
         "Graduate",
         "141.0",
         "1.0"
        ],
        [
         "4",
         "Yes",
         "2333",
         "Not Graduate",
         "95.0",
         "1.0"
        ],
        [
         "5",
         "Yes",
         "3200",
         "Graduate",
         "70.0",
         "1.0"
        ],
        [
         "6",
         "Yes",
         "2500",
         "Graduate",
         "109.0",
         "1.0"
        ],
        [
         "7",
         "No",
         "1853",
         "Graduate",
         "114.0",
         "1.0"
        ],
        [
         "8",
         "Yes",
         "1299",
         "Graduate",
         "17.0",
         "1.0"
        ],
        [
         "9",
         "No",
         "4950",
         "Graduate",
         "125.0",
         "1.0"
        ],
        [
         "10",
         "No",
         "3596",
         "Not Graduate",
         "100.0",
         null
        ],
        [
         "11",
         "No",
         "3510",
         "Graduate",
         "76.0",
         "0.0"
        ],
        [
         "12",
         "Yes",
         "4887",
         "Not Graduate",
         "133.0",
         "1.0"
        ],
        [
         "13",
         "Yes",
         "2600",
         "Graduate",
         "115.0",
         "1.0"
        ],
        [
         "14",
         "Yes",
         "7660",
         "Not Graduate",
         "104.0",
         "0.0"
        ],
        [
         "15",
         "Yes",
         "2600",
         "Not Graduate",
         "116.0",
         "0.0"
        ],
        [
         "16",
         "Yes",
         "3365",
         "Not Graduate",
         "112.0",
         "0.0"
        ],
        [
         "17",
         "Yes",
         "2799",
         "Graduate",
         "122.0",
         "1.0"
        ],
        [
         "18",
         "Yes",
         "4226",
         "Not Graduate",
         "110.0",
         "1.0"
        ],
        [
         "19",
         "No",
         "1442",
         "Not Graduate",
         "35.0",
         "1.0"
        ],
        [
         "20",
         "No",
         "3750",
         "Graduate",
         "120.0",
         "1.0"
        ],
        [
         "21",
         "No",
         "3167",
         "Graduate",
         "74.0",
         "1.0"
        ],
        [
         "22",
         "No",
         "4692",
         "Graduate",
         "106.0",
         "1.0"
        ],
        [
         "23",
         "Yes",
         "3500",
         "Graduate",
         "114.0",
         "1.0"
        ],
        [
         "24",
         "Yes",
         "1828",
         "Graduate",
         "100.0",
         "0.0"
        ],
        [
         "25",
         "Yes",
         "3667",
         "Graduate",
         "144.0",
         "1.0"
        ],
        [
         "26",
         "No",
         "3748",
         "Not Graduate",
         "110.0",
         "1.0"
        ],
        [
         "27",
         "No",
         "3600",
         "Graduate",
         "80.0",
         "1.0"
        ],
        [
         "28",
         "No",
         "1800",
         "Graduate",
         "47.0",
         "1.0"
        ],
        [
         "29",
         "Yes",
         "2400",
         "Graduate",
         "75.0",
         null
        ],
        [
         "30",
         "Yes",
         "3941",
         "Graduate",
         "134.0",
         "1.0"
        ],
        [
         "31",
         "Yes",
         "4695",
         "Not Graduate",
         "96.0",
         "1.0"
        ],
        [
         "32",
         "No",
         "3410",
         "Graduate",
         "88.0",
         "1.0"
        ],
        [
         "33",
         "Yes",
         "5649",
         "Graduate",
         "44.0",
         "1.0"
        ],
        [
         "34",
         "Yes",
         "5821",
         "Graduate",
         "144.0",
         "1.0"
        ],
        [
         "35",
         "Yes",
         "2645",
         "Graduate",
         "120.0",
         "0.0"
        ],
        [
         "36",
         "No",
         "4000",
         "Graduate",
         "144.0",
         "1.0"
        ],
        [
         "37",
         "Yes",
         "1928",
         "Not Graduate",
         "100.0",
         "1.0"
        ],
        [
         "38",
         "No",
         "3086",
         "Graduate",
         "120.0",
         "1.0"
        ],
        [
         "39",
         "No",
         "4230",
         "Graduate",
         "112.0",
         "1.0"
        ],
        [
         "40",
         "Yes",
         "4616",
         "Graduate",
         "134.0",
         "1.0"
        ],
        [
         "41",
         "Yes",
         "2708",
         "Graduate",
         "97.0",
         "1.0"
        ],
        [
         "42",
         "Yes",
         "2132",
         "Graduate",
         "96.0",
         "1.0"
        ],
        [
         "43",
         "Yes",
         "3366",
         "Graduate",
         "135.0",
         "1.0"
        ],
        [
         "44",
         "Yes",
         "3357",
         "Not Graduate",
         "144.0",
         "1.0"
        ],
        [
         "45",
         "Yes",
         "2500",
         "Graduate",
         "120.0",
         "1.0"
        ],
        [
         "46",
         "Yes",
         "3029",
         "Graduate",
         "99.0",
         "1.0"
        ],
        [
         "47",
         "No",
         "4166",
         "Graduate",
         "116.0",
         "0.0"
        ],
        [
         "48",
         "No",
         "3200",
         "Not Graduate",
         "126.0",
         "0.0"
        ],
        [
         "49",
         "Yes",
         "7100",
         "Not Graduate",
         "125.0",
         "1.0"
        ]
       ],
       "shape": {
        "columns": 5,
        "rows": 381
       }
      },
      "text/html": [
       "<div>\n",
       "<style scoped>\n",
       "    .dataframe tbody tr th:only-of-type {\n",
       "        vertical-align: middle;\n",
       "    }\n",
       "\n",
       "    .dataframe tbody tr th {\n",
       "        vertical-align: top;\n",
       "    }\n",
       "\n",
       "    .dataframe thead th {\n",
       "        text-align: right;\n",
       "    }\n",
       "</style>\n",
       "<table border=\"1\" class=\"dataframe\">\n",
       "  <thead>\n",
       "    <tr style=\"text-align: right;\">\n",
       "      <th></th>\n",
       "      <th>Married</th>\n",
       "      <th>ApplicantIncome</th>\n",
       "      <th>Education</th>\n",
       "      <th>LoanAmount</th>\n",
       "      <th>Credit_History</th>\n",
       "    </tr>\n",
       "  </thead>\n",
       "  <tbody>\n",
       "    <tr>\n",
       "      <th>0</th>\n",
       "      <td>Yes</td>\n",
       "      <td>4583</td>\n",
       "      <td>Graduate</td>\n",
       "      <td>128.0</td>\n",
       "      <td>1.0</td>\n",
       "    </tr>\n",
       "    <tr>\n",
       "      <th>1</th>\n",
       "      <td>Yes</td>\n",
       "      <td>3000</td>\n",
       "      <td>Graduate</td>\n",
       "      <td>66.0</td>\n",
       "      <td>1.0</td>\n",
       "    </tr>\n",
       "    <tr>\n",
       "      <th>2</th>\n",
       "      <td>Yes</td>\n",
       "      <td>2583</td>\n",
       "      <td>Not Graduate</td>\n",
       "      <td>120.0</td>\n",
       "      <td>1.0</td>\n",
       "    </tr>\n",
       "    <tr>\n",
       "      <th>3</th>\n",
       "      <td>No</td>\n",
       "      <td>6000</td>\n",
       "      <td>Graduate</td>\n",
       "      <td>141.0</td>\n",
       "      <td>1.0</td>\n",
       "    </tr>\n",
       "    <tr>\n",
       "      <th>4</th>\n",
       "      <td>Yes</td>\n",
       "      <td>2333</td>\n",
       "      <td>Not Graduate</td>\n",
       "      <td>95.0</td>\n",
       "      <td>1.0</td>\n",
       "    </tr>\n",
       "    <tr>\n",
       "      <th>...</th>\n",
       "      <td>...</td>\n",
       "      <td>...</td>\n",
       "      <td>...</td>\n",
       "      <td>...</td>\n",
       "      <td>...</td>\n",
       "    </tr>\n",
       "    <tr>\n",
       "      <th>376</th>\n",
       "      <td>Yes</td>\n",
       "      <td>5703</td>\n",
       "      <td>Graduate</td>\n",
       "      <td>128.0</td>\n",
       "      <td>1.0</td>\n",
       "    </tr>\n",
       "    <tr>\n",
       "      <th>377</th>\n",
       "      <td>Yes</td>\n",
       "      <td>3232</td>\n",
       "      <td>Graduate</td>\n",
       "      <td>108.0</td>\n",
       "      <td>1.0</td>\n",
       "    </tr>\n",
       "    <tr>\n",
       "      <th>378</th>\n",
       "      <td>No</td>\n",
       "      <td>2900</td>\n",
       "      <td>Graduate</td>\n",
       "      <td>71.0</td>\n",
       "      <td>1.0</td>\n",
       "    </tr>\n",
       "    <tr>\n",
       "      <th>379</th>\n",
       "      <td>Yes</td>\n",
       "      <td>4106</td>\n",
       "      <td>Graduate</td>\n",
       "      <td>40.0</td>\n",
       "      <td>1.0</td>\n",
       "    </tr>\n",
       "    <tr>\n",
       "      <th>380</th>\n",
       "      <td>No</td>\n",
       "      <td>4583</td>\n",
       "      <td>Graduate</td>\n",
       "      <td>133.0</td>\n",
       "      <td>0.0</td>\n",
       "    </tr>\n",
       "  </tbody>\n",
       "</table>\n",
       "<p>381 rows × 5 columns</p>\n",
       "</div>"
      ],
      "text/plain": [
       "    Married  ApplicantIncome     Education  LoanAmount  Credit_History\n",
       "0       Yes             4583      Graduate       128.0             1.0\n",
       "1       Yes             3000      Graduate        66.0             1.0\n",
       "2       Yes             2583  Not Graduate       120.0             1.0\n",
       "3        No             6000      Graduate       141.0             1.0\n",
       "4       Yes             2333  Not Graduate        95.0             1.0\n",
       "..      ...              ...           ...         ...             ...\n",
       "376     Yes             5703      Graduate       128.0             1.0\n",
       "377     Yes             3232      Graduate       108.0             1.0\n",
       "378      No             2900      Graduate        71.0             1.0\n",
       "379     Yes             4106      Graduate        40.0             1.0\n",
       "380      No             4583      Graduate       133.0             0.0\n",
       "\n",
       "[381 rows x 5 columns]"
      ]
     },
     "execution_count": 33,
     "metadata": {},
     "output_type": "execute_result"
    }
   ],
   "source": [
    "X"
   ]
  },
  {
   "cell_type": "code",
   "execution_count": 34,
   "id": "4296dfd2",
   "metadata": {},
   "outputs": [],
   "source": [
    "Y = loan[\"Loan_Status\"]"
   ]
  },
  {
   "cell_type": "code",
   "execution_count": 35,
   "id": "24c3ea24",
   "metadata": {},
   "outputs": [
    {
     "data": {
      "application/vnd.microsoft.datawrangler.viewer.v0+json": {
       "columns": [
        {
         "name": "index",
         "rawType": "int64",
         "type": "integer"
        },
        {
         "name": "Loan_Status",
         "rawType": "object",
         "type": "string"
        }
       ],
       "ref": "90f5e04d-606b-41f9-a7d7-c7bcf7f8b203",
       "rows": [
        [
         "0",
         "N"
        ],
        [
         "1",
         "Y"
        ],
        [
         "2",
         "Y"
        ],
        [
         "3",
         "Y"
        ],
        [
         "4",
         "Y"
        ],
        [
         "5",
         "Y"
        ],
        [
         "6",
         "Y"
        ],
        [
         "7",
         "N"
        ],
        [
         "8",
         "Y"
        ],
        [
         "9",
         "Y"
        ],
        [
         "10",
         "Y"
        ],
        [
         "11",
         "N"
        ],
        [
         "12",
         "N"
        ],
        [
         "13",
         "Y"
        ],
        [
         "14",
         "N"
        ],
        [
         "15",
         "N"
        ],
        [
         "16",
         "N"
        ],
        [
         "17",
         "Y"
        ],
        [
         "18",
         "Y"
        ],
        [
         "19",
         "N"
        ],
        [
         "20",
         "Y"
        ],
        [
         "21",
         "N"
        ],
        [
         "22",
         "N"
        ],
        [
         "23",
         "Y"
        ],
        [
         "24",
         "N"
        ],
        [
         "25",
         "Y"
        ],
        [
         "26",
         "Y"
        ],
        [
         "27",
         "N"
        ],
        [
         "28",
         "Y"
        ],
        [
         "29",
         "Y"
        ],
        [
         "30",
         "Y"
        ],
        [
         "31",
         "Y"
        ],
        [
         "32",
         "Y"
        ],
        [
         "33",
         "Y"
        ],
        [
         "34",
         "Y"
        ],
        [
         "35",
         "N"
        ],
        [
         "36",
         "Y"
        ],
        [
         "37",
         "Y"
        ],
        [
         "38",
         "Y"
        ],
        [
         "39",
         "N"
        ],
        [
         "40",
         "N"
        ],
        [
         "41",
         "Y"
        ],
        [
         "42",
         "Y"
        ],
        [
         "43",
         "N"
        ],
        [
         "44",
         "Y"
        ],
        [
         "45",
         "Y"
        ],
        [
         "46",
         "Y"
        ],
        [
         "47",
         "N"
        ],
        [
         "48",
         "N"
        ],
        [
         "49",
         "Y"
        ]
       ],
       "shape": {
        "columns": 1,
        "rows": 381
       }
      },
      "text/plain": [
       "0      N\n",
       "1      Y\n",
       "2      Y\n",
       "3      Y\n",
       "4      Y\n",
       "      ..\n",
       "376    Y\n",
       "377    Y\n",
       "378    Y\n",
       "379    Y\n",
       "380    N\n",
       "Name: Loan_Status, Length: 381, dtype: object"
      ]
     },
     "execution_count": 35,
     "metadata": {},
     "output_type": "execute_result"
    }
   ],
   "source": [
    "Y"
   ]
  },
  {
   "cell_type": "markdown",
   "id": "f63f6742",
   "metadata": {},
   "source": [
    "# Encoding"
   ]
  },
  {
   "cell_type": "code",
   "execution_count": 36,
   "id": "24897e74",
   "metadata": {},
   "outputs": [],
   "source": [
    "from sklearn import preprocessing\n",
    "labelencoder = preprocessing.LabelEncoder()"
   ]
  },
  {
   "cell_type": "code",
   "execution_count": 37,
   "id": "b329edb6",
   "metadata": {},
   "outputs": [],
   "source": [
    "y_encoded = labelencoder.fit_transform(Y)"
   ]
  },
  {
   "cell_type": "code",
   "execution_count": 38,
   "id": "5fe6ff52",
   "metadata": {},
   "outputs": [
    {
     "data": {
      "text/plain": [
       "array([0, 1, 1, 1, 1, 1, 1, 0, 1, 1, 1, 0, 0, 1, 0, 0, 0, 1, 1, 0, 1, 0,\n",
       "       0, 1, 0, 1, 1, 0, 1, 1, 1, 1, 1, 1, 1, 0, 1, 1, 1, 0, 0, 1, 1, 0,\n",
       "       1, 1, 1, 0, 0, 1, 0, 1, 1, 0, 0, 0, 1, 1, 1, 1, 1, 1, 1, 1, 1, 1,\n",
       "       1, 1, 1, 1, 1, 1, 0, 1, 1, 1, 1, 1, 1, 1, 1, 1, 1, 1, 1, 1, 0, 1,\n",
       "       0, 1, 1, 1, 1, 0, 0, 1, 1, 1, 0, 1, 0, 1, 0, 1, 0, 0, 1, 1, 1, 0,\n",
       "       0, 1, 1, 0, 1, 1, 1, 1, 1, 1, 1, 1, 1, 1, 1, 1, 1, 0, 0, 1, 1, 1,\n",
       "       0, 1, 0, 1, 0, 1, 1, 1, 0, 1, 1, 1, 1, 1, 1, 1, 1, 0, 1, 1, 0, 1,\n",
       "       1, 1, 1, 0, 1, 0, 0, 0, 1, 1, 1, 1, 0, 1, 1, 1, 1, 1, 1, 1, 1, 1,\n",
       "       1, 1, 1, 0, 1, 1, 1, 0, 1, 0, 1, 1, 0, 0, 1, 1, 1, 1, 1, 0, 1, 1,\n",
       "       1, 1, 1, 1, 1, 1, 1, 1, 1, 1, 0, 1, 1, 1, 1, 1, 1, 0, 1, 1, 1, 1,\n",
       "       0, 1, 1, 0, 0, 0, 1, 1, 1, 0, 0, 0, 0, 1, 1, 1, 1, 0, 1, 1, 1, 0,\n",
       "       1, 1, 1, 1, 1, 1, 1, 1, 0, 1, 1, 0, 0, 0, 1, 1, 1, 1, 1, 0, 1, 1,\n",
       "       1, 1, 1, 0, 1, 0, 1, 0, 1, 1, 1, 1, 0, 1, 1, 1, 1, 1, 1, 1, 0, 0,\n",
       "       0, 1, 0, 1, 1, 1, 1, 1, 1, 1, 0, 1, 0, 1, 0, 0, 1, 1, 0, 1, 1, 1,\n",
       "       0, 0, 1, 1, 0, 1, 1, 1, 1, 1, 1, 0, 1, 0, 0, 1, 0, 1, 1, 0, 0, 1,\n",
       "       1, 1, 1, 1, 1, 1, 0, 1, 1, 0, 1, 0, 1, 1, 1, 0, 1, 0, 1, 0, 1, 1,\n",
       "       1, 1, 1, 1, 0, 0, 0, 0, 1, 0, 1, 1, 0, 1, 0, 0, 1, 1, 1, 0, 1, 1,\n",
       "       1, 0, 1, 1, 1, 1, 0])"
      ]
     },
     "execution_count": 38,
     "metadata": {},
     "output_type": "execute_result"
    }
   ],
   "source": [
    "y_encoded"
   ]
  },
  {
   "cell_type": "code",
   "execution_count": 39,
   "id": "c8db21f2",
   "metadata": {},
   "outputs": [
    {
     "data": {
      "text/plain": [
       "array(['N', 'Y'], dtype=object)"
      ]
     },
     "execution_count": 39,
     "metadata": {},
     "output_type": "execute_result"
    }
   ],
   "source": [
    "labelencoder.classes_"
   ]
  },
  {
   "cell_type": "code",
   "execution_count": 40,
   "id": "9430b6cc",
   "metadata": {},
   "outputs": [
    {
     "data": {
      "text/plain": [
       "np.float64(1.0)"
      ]
     },
     "execution_count": 40,
     "metadata": {},
     "output_type": "execute_result"
    }
   ],
   "source": [
    "X[\"Credit_History\"][0]"
   ]
  },
  {
   "cell_type": "code",
   "execution_count": 41,
   "id": "d8fa877a",
   "metadata": {},
   "outputs": [
    {
     "data": {
      "application/vnd.microsoft.datawrangler.viewer.v0+json": {
       "columns": [
        {
         "name": "index",
         "rawType": "int64",
         "type": "integer"
        },
        {
         "name": "Married",
         "rawType": "object",
         "type": "string"
        },
        {
         "name": "ApplicantIncome",
         "rawType": "int64",
         "type": "integer"
        },
        {
         "name": "Education",
         "rawType": "object",
         "type": "string"
        },
        {
         "name": "LoanAmount",
         "rawType": "float64",
         "type": "float"
        },
        {
         "name": "Credit_History",
         "rawType": "float64",
         "type": "float"
        }
       ],
       "ref": "1317f928-f09d-49fa-83c1-dfe9441ed947",
       "rows": [
        [
         "0",
         "Yes",
         "4583",
         "Graduate",
         "128.0",
         "1.0"
        ],
        [
         "1",
         "Yes",
         "3000",
         "Graduate",
         "66.0",
         "1.0"
        ],
        [
         "2",
         "Yes",
         "2583",
         "Not Graduate",
         "120.0",
         "1.0"
        ],
        [
         "3",
         "No",
         "6000",
         "Graduate",
         "141.0",
         "1.0"
        ],
        [
         "4",
         "Yes",
         "2333",
         "Not Graduate",
         "95.0",
         "1.0"
        ],
        [
         "5",
         "Yes",
         "3200",
         "Graduate",
         "70.0",
         "1.0"
        ],
        [
         "6",
         "Yes",
         "2500",
         "Graduate",
         "109.0",
         "1.0"
        ],
        [
         "7",
         "No",
         "1853",
         "Graduate",
         "114.0",
         "1.0"
        ],
        [
         "8",
         "Yes",
         "1299",
         "Graduate",
         "17.0",
         "1.0"
        ],
        [
         "9",
         "No",
         "4950",
         "Graduate",
         "125.0",
         "1.0"
        ],
        [
         "10",
         "No",
         "3596",
         "Not Graduate",
         "100.0",
         null
        ],
        [
         "11",
         "No",
         "3510",
         "Graduate",
         "76.0",
         "0.0"
        ],
        [
         "12",
         "Yes",
         "4887",
         "Not Graduate",
         "133.0",
         "1.0"
        ],
        [
         "13",
         "Yes",
         "2600",
         "Graduate",
         "115.0",
         "1.0"
        ],
        [
         "14",
         "Yes",
         "7660",
         "Not Graduate",
         "104.0",
         "0.0"
        ],
        [
         "15",
         "Yes",
         "2600",
         "Not Graduate",
         "116.0",
         "0.0"
        ],
        [
         "16",
         "Yes",
         "3365",
         "Not Graduate",
         "112.0",
         "0.0"
        ],
        [
         "17",
         "Yes",
         "2799",
         "Graduate",
         "122.0",
         "1.0"
        ],
        [
         "18",
         "Yes",
         "4226",
         "Not Graduate",
         "110.0",
         "1.0"
        ],
        [
         "19",
         "No",
         "1442",
         "Not Graduate",
         "35.0",
         "1.0"
        ],
        [
         "20",
         "No",
         "3750",
         "Graduate",
         "120.0",
         "1.0"
        ],
        [
         "21",
         "No",
         "3167",
         "Graduate",
         "74.0",
         "1.0"
        ],
        [
         "22",
         "No",
         "4692",
         "Graduate",
         "106.0",
         "1.0"
        ],
        [
         "23",
         "Yes",
         "3500",
         "Graduate",
         "114.0",
         "1.0"
        ],
        [
         "24",
         "Yes",
         "1828",
         "Graduate",
         "100.0",
         "0.0"
        ],
        [
         "25",
         "Yes",
         "3667",
         "Graduate",
         "144.0",
         "1.0"
        ],
        [
         "26",
         "No",
         "3748",
         "Not Graduate",
         "110.0",
         "1.0"
        ],
        [
         "27",
         "No",
         "3600",
         "Graduate",
         "80.0",
         "1.0"
        ],
        [
         "28",
         "No",
         "1800",
         "Graduate",
         "47.0",
         "1.0"
        ],
        [
         "29",
         "Yes",
         "2400",
         "Graduate",
         "75.0",
         null
        ],
        [
         "30",
         "Yes",
         "3941",
         "Graduate",
         "134.0",
         "1.0"
        ],
        [
         "31",
         "Yes",
         "4695",
         "Not Graduate",
         "96.0",
         "1.0"
        ],
        [
         "32",
         "No",
         "3410",
         "Graduate",
         "88.0",
         "1.0"
        ],
        [
         "33",
         "Yes",
         "5649",
         "Graduate",
         "44.0",
         "1.0"
        ],
        [
         "34",
         "Yes",
         "5821",
         "Graduate",
         "144.0",
         "1.0"
        ],
        [
         "35",
         "Yes",
         "2645",
         "Graduate",
         "120.0",
         "0.0"
        ],
        [
         "36",
         "No",
         "4000",
         "Graduate",
         "144.0",
         "1.0"
        ],
        [
         "37",
         "Yes",
         "1928",
         "Not Graduate",
         "100.0",
         "1.0"
        ],
        [
         "38",
         "No",
         "3086",
         "Graduate",
         "120.0",
         "1.0"
        ],
        [
         "39",
         "No",
         "4230",
         "Graduate",
         "112.0",
         "1.0"
        ],
        [
         "40",
         "Yes",
         "4616",
         "Graduate",
         "134.0",
         "1.0"
        ],
        [
         "41",
         "Yes",
         "2708",
         "Graduate",
         "97.0",
         "1.0"
        ],
        [
         "42",
         "Yes",
         "2132",
         "Graduate",
         "96.0",
         "1.0"
        ],
        [
         "43",
         "Yes",
         "3366",
         "Graduate",
         "135.0",
         "1.0"
        ],
        [
         "44",
         "Yes",
         "3357",
         "Not Graduate",
         "144.0",
         "1.0"
        ],
        [
         "45",
         "Yes",
         "2500",
         "Graduate",
         "120.0",
         "1.0"
        ],
        [
         "46",
         "Yes",
         "3029",
         "Graduate",
         "99.0",
         "1.0"
        ],
        [
         "47",
         "No",
         "4166",
         "Graduate",
         "116.0",
         "0.0"
        ],
        [
         "48",
         "No",
         "3200",
         "Not Graduate",
         "126.0",
         "0.0"
        ],
        [
         "49",
         "Yes",
         "7100",
         "Not Graduate",
         "125.0",
         "1.0"
        ]
       ],
       "shape": {
        "columns": 5,
        "rows": 381
       }
      },
      "text/html": [
       "<div>\n",
       "<style scoped>\n",
       "    .dataframe tbody tr th:only-of-type {\n",
       "        vertical-align: middle;\n",
       "    }\n",
       "\n",
       "    .dataframe tbody tr th {\n",
       "        vertical-align: top;\n",
       "    }\n",
       "\n",
       "    .dataframe thead th {\n",
       "        text-align: right;\n",
       "    }\n",
       "</style>\n",
       "<table border=\"1\" class=\"dataframe\">\n",
       "  <thead>\n",
       "    <tr style=\"text-align: right;\">\n",
       "      <th></th>\n",
       "      <th>Married</th>\n",
       "      <th>ApplicantIncome</th>\n",
       "      <th>Education</th>\n",
       "      <th>LoanAmount</th>\n",
       "      <th>Credit_History</th>\n",
       "    </tr>\n",
       "  </thead>\n",
       "  <tbody>\n",
       "    <tr>\n",
       "      <th>0</th>\n",
       "      <td>Yes</td>\n",
       "      <td>4583</td>\n",
       "      <td>Graduate</td>\n",
       "      <td>128.0</td>\n",
       "      <td>1.0</td>\n",
       "    </tr>\n",
       "    <tr>\n",
       "      <th>1</th>\n",
       "      <td>Yes</td>\n",
       "      <td>3000</td>\n",
       "      <td>Graduate</td>\n",
       "      <td>66.0</td>\n",
       "      <td>1.0</td>\n",
       "    </tr>\n",
       "    <tr>\n",
       "      <th>2</th>\n",
       "      <td>Yes</td>\n",
       "      <td>2583</td>\n",
       "      <td>Not Graduate</td>\n",
       "      <td>120.0</td>\n",
       "      <td>1.0</td>\n",
       "    </tr>\n",
       "    <tr>\n",
       "      <th>3</th>\n",
       "      <td>No</td>\n",
       "      <td>6000</td>\n",
       "      <td>Graduate</td>\n",
       "      <td>141.0</td>\n",
       "      <td>1.0</td>\n",
       "    </tr>\n",
       "    <tr>\n",
       "      <th>4</th>\n",
       "      <td>Yes</td>\n",
       "      <td>2333</td>\n",
       "      <td>Not Graduate</td>\n",
       "      <td>95.0</td>\n",
       "      <td>1.0</td>\n",
       "    </tr>\n",
       "    <tr>\n",
       "      <th>...</th>\n",
       "      <td>...</td>\n",
       "      <td>...</td>\n",
       "      <td>...</td>\n",
       "      <td>...</td>\n",
       "      <td>...</td>\n",
       "    </tr>\n",
       "    <tr>\n",
       "      <th>376</th>\n",
       "      <td>Yes</td>\n",
       "      <td>5703</td>\n",
       "      <td>Graduate</td>\n",
       "      <td>128.0</td>\n",
       "      <td>1.0</td>\n",
       "    </tr>\n",
       "    <tr>\n",
       "      <th>377</th>\n",
       "      <td>Yes</td>\n",
       "      <td>3232</td>\n",
       "      <td>Graduate</td>\n",
       "      <td>108.0</td>\n",
       "      <td>1.0</td>\n",
       "    </tr>\n",
       "    <tr>\n",
       "      <th>378</th>\n",
       "      <td>No</td>\n",
       "      <td>2900</td>\n",
       "      <td>Graduate</td>\n",
       "      <td>71.0</td>\n",
       "      <td>1.0</td>\n",
       "    </tr>\n",
       "    <tr>\n",
       "      <th>379</th>\n",
       "      <td>Yes</td>\n",
       "      <td>4106</td>\n",
       "      <td>Graduate</td>\n",
       "      <td>40.0</td>\n",
       "      <td>1.0</td>\n",
       "    </tr>\n",
       "    <tr>\n",
       "      <th>380</th>\n",
       "      <td>No</td>\n",
       "      <td>4583</td>\n",
       "      <td>Graduate</td>\n",
       "      <td>133.0</td>\n",
       "      <td>0.0</td>\n",
       "    </tr>\n",
       "  </tbody>\n",
       "</table>\n",
       "<p>381 rows × 5 columns</p>\n",
       "</div>"
      ],
      "text/plain": [
       "    Married  ApplicantIncome     Education  LoanAmount  Credit_History\n",
       "0       Yes             4583      Graduate       128.0             1.0\n",
       "1       Yes             3000      Graduate        66.0             1.0\n",
       "2       Yes             2583  Not Graduate       120.0             1.0\n",
       "3        No             6000      Graduate       141.0             1.0\n",
       "4       Yes             2333  Not Graduate        95.0             1.0\n",
       "..      ...              ...           ...         ...             ...\n",
       "376     Yes             5703      Graduate       128.0             1.0\n",
       "377     Yes             3232      Graduate       108.0             1.0\n",
       "378      No             2900      Graduate        71.0             1.0\n",
       "379     Yes             4106      Graduate        40.0             1.0\n",
       "380      No             4583      Graduate       133.0             0.0\n",
       "\n",
       "[381 rows x 5 columns]"
      ]
     },
     "execution_count": 41,
     "metadata": {},
     "output_type": "execute_result"
    }
   ],
   "source": [
    "X"
   ]
  },
  {
   "cell_type": "code",
   "execution_count": 42,
   "id": "18bab218",
   "metadata": {},
   "outputs": [
    {
     "name": "stderr",
     "output_type": "stream",
     "text": [
      "C:\\Users\\ghatfan\\AppData\\Local\\Temp\\ipykernel_19052\\221913637.py:1: SettingWithCopyWarning: \n",
      "A value is trying to be set on a copy of a slice from a DataFrame.\n",
      "Try using .loc[row_indexer,col_indexer] = value instead\n",
      "\n",
      "See the caveats in the documentation: https://pandas.pydata.org/pandas-docs/stable/user_guide/indexing.html#returning-a-view-versus-a-copy\n",
      "  X[\"Married\"] = labelencoder.fit_transform(X[\"Married\"])\n"
     ]
    }
   ],
   "source": [
    "X[\"Married\"] = labelencoder.fit_transform(X[\"Married\"])"
   ]
  },
  {
   "cell_type": "code",
   "execution_count": 43,
   "id": "2bb7b8ec",
   "metadata": {},
   "outputs": [
    {
     "data": {
      "application/vnd.microsoft.datawrangler.viewer.v0+json": {
       "columns": [
        {
         "name": "index",
         "rawType": "int64",
         "type": "integer"
        },
        {
         "name": "Married",
         "rawType": "int64",
         "type": "integer"
        },
        {
         "name": "ApplicantIncome",
         "rawType": "int64",
         "type": "integer"
        },
        {
         "name": "Education",
         "rawType": "object",
         "type": "string"
        },
        {
         "name": "LoanAmount",
         "rawType": "float64",
         "type": "float"
        },
        {
         "name": "Credit_History",
         "rawType": "float64",
         "type": "float"
        }
       ],
       "ref": "f50b5ae1-2cc5-4511-8f9e-46ab36e0de26",
       "rows": [
        [
         "0",
         "1",
         "4583",
         "Graduate",
         "128.0",
         "1.0"
        ],
        [
         "1",
         "1",
         "3000",
         "Graduate",
         "66.0",
         "1.0"
        ],
        [
         "2",
         "1",
         "2583",
         "Not Graduate",
         "120.0",
         "1.0"
        ],
        [
         "3",
         "0",
         "6000",
         "Graduate",
         "141.0",
         "1.0"
        ],
        [
         "4",
         "1",
         "2333",
         "Not Graduate",
         "95.0",
         "1.0"
        ],
        [
         "5",
         "1",
         "3200",
         "Graduate",
         "70.0",
         "1.0"
        ],
        [
         "6",
         "1",
         "2500",
         "Graduate",
         "109.0",
         "1.0"
        ],
        [
         "7",
         "0",
         "1853",
         "Graduate",
         "114.0",
         "1.0"
        ],
        [
         "8",
         "1",
         "1299",
         "Graduate",
         "17.0",
         "1.0"
        ],
        [
         "9",
         "0",
         "4950",
         "Graduate",
         "125.0",
         "1.0"
        ],
        [
         "10",
         "0",
         "3596",
         "Not Graduate",
         "100.0",
         null
        ],
        [
         "11",
         "0",
         "3510",
         "Graduate",
         "76.0",
         "0.0"
        ],
        [
         "12",
         "1",
         "4887",
         "Not Graduate",
         "133.0",
         "1.0"
        ],
        [
         "13",
         "1",
         "2600",
         "Graduate",
         "115.0",
         "1.0"
        ],
        [
         "14",
         "1",
         "7660",
         "Not Graduate",
         "104.0",
         "0.0"
        ],
        [
         "15",
         "1",
         "2600",
         "Not Graduate",
         "116.0",
         "0.0"
        ],
        [
         "16",
         "1",
         "3365",
         "Not Graduate",
         "112.0",
         "0.0"
        ],
        [
         "17",
         "1",
         "2799",
         "Graduate",
         "122.0",
         "1.0"
        ],
        [
         "18",
         "1",
         "4226",
         "Not Graduate",
         "110.0",
         "1.0"
        ],
        [
         "19",
         "0",
         "1442",
         "Not Graduate",
         "35.0",
         "1.0"
        ],
        [
         "20",
         "0",
         "3750",
         "Graduate",
         "120.0",
         "1.0"
        ],
        [
         "21",
         "0",
         "3167",
         "Graduate",
         "74.0",
         "1.0"
        ],
        [
         "22",
         "0",
         "4692",
         "Graduate",
         "106.0",
         "1.0"
        ],
        [
         "23",
         "1",
         "3500",
         "Graduate",
         "114.0",
         "1.0"
        ],
        [
         "24",
         "1",
         "1828",
         "Graduate",
         "100.0",
         "0.0"
        ],
        [
         "25",
         "1",
         "3667",
         "Graduate",
         "144.0",
         "1.0"
        ],
        [
         "26",
         "0",
         "3748",
         "Not Graduate",
         "110.0",
         "1.0"
        ],
        [
         "27",
         "0",
         "3600",
         "Graduate",
         "80.0",
         "1.0"
        ],
        [
         "28",
         "0",
         "1800",
         "Graduate",
         "47.0",
         "1.0"
        ],
        [
         "29",
         "1",
         "2400",
         "Graduate",
         "75.0",
         null
        ],
        [
         "30",
         "1",
         "3941",
         "Graduate",
         "134.0",
         "1.0"
        ],
        [
         "31",
         "1",
         "4695",
         "Not Graduate",
         "96.0",
         "1.0"
        ],
        [
         "32",
         "0",
         "3410",
         "Graduate",
         "88.0",
         "1.0"
        ],
        [
         "33",
         "1",
         "5649",
         "Graduate",
         "44.0",
         "1.0"
        ],
        [
         "34",
         "1",
         "5821",
         "Graduate",
         "144.0",
         "1.0"
        ],
        [
         "35",
         "1",
         "2645",
         "Graduate",
         "120.0",
         "0.0"
        ],
        [
         "36",
         "0",
         "4000",
         "Graduate",
         "144.0",
         "1.0"
        ],
        [
         "37",
         "1",
         "1928",
         "Not Graduate",
         "100.0",
         "1.0"
        ],
        [
         "38",
         "0",
         "3086",
         "Graduate",
         "120.0",
         "1.0"
        ],
        [
         "39",
         "0",
         "4230",
         "Graduate",
         "112.0",
         "1.0"
        ],
        [
         "40",
         "1",
         "4616",
         "Graduate",
         "134.0",
         "1.0"
        ],
        [
         "41",
         "1",
         "2708",
         "Graduate",
         "97.0",
         "1.0"
        ],
        [
         "42",
         "1",
         "2132",
         "Graduate",
         "96.0",
         "1.0"
        ],
        [
         "43",
         "1",
         "3366",
         "Graduate",
         "135.0",
         "1.0"
        ],
        [
         "44",
         "1",
         "3357",
         "Not Graduate",
         "144.0",
         "1.0"
        ],
        [
         "45",
         "1",
         "2500",
         "Graduate",
         "120.0",
         "1.0"
        ],
        [
         "46",
         "1",
         "3029",
         "Graduate",
         "99.0",
         "1.0"
        ],
        [
         "47",
         "0",
         "4166",
         "Graduate",
         "116.0",
         "0.0"
        ],
        [
         "48",
         "0",
         "3200",
         "Not Graduate",
         "126.0",
         "0.0"
        ],
        [
         "49",
         "1",
         "7100",
         "Not Graduate",
         "125.0",
         "1.0"
        ]
       ],
       "shape": {
        "columns": 5,
        "rows": 381
       }
      },
      "text/html": [
       "<div>\n",
       "<style scoped>\n",
       "    .dataframe tbody tr th:only-of-type {\n",
       "        vertical-align: middle;\n",
       "    }\n",
       "\n",
       "    .dataframe tbody tr th {\n",
       "        vertical-align: top;\n",
       "    }\n",
       "\n",
       "    .dataframe thead th {\n",
       "        text-align: right;\n",
       "    }\n",
       "</style>\n",
       "<table border=\"1\" class=\"dataframe\">\n",
       "  <thead>\n",
       "    <tr style=\"text-align: right;\">\n",
       "      <th></th>\n",
       "      <th>Married</th>\n",
       "      <th>ApplicantIncome</th>\n",
       "      <th>Education</th>\n",
       "      <th>LoanAmount</th>\n",
       "      <th>Credit_History</th>\n",
       "    </tr>\n",
       "  </thead>\n",
       "  <tbody>\n",
       "    <tr>\n",
       "      <th>0</th>\n",
       "      <td>1</td>\n",
       "      <td>4583</td>\n",
       "      <td>Graduate</td>\n",
       "      <td>128.0</td>\n",
       "      <td>1.0</td>\n",
       "    </tr>\n",
       "    <tr>\n",
       "      <th>1</th>\n",
       "      <td>1</td>\n",
       "      <td>3000</td>\n",
       "      <td>Graduate</td>\n",
       "      <td>66.0</td>\n",
       "      <td>1.0</td>\n",
       "    </tr>\n",
       "    <tr>\n",
       "      <th>2</th>\n",
       "      <td>1</td>\n",
       "      <td>2583</td>\n",
       "      <td>Not Graduate</td>\n",
       "      <td>120.0</td>\n",
       "      <td>1.0</td>\n",
       "    </tr>\n",
       "    <tr>\n",
       "      <th>3</th>\n",
       "      <td>0</td>\n",
       "      <td>6000</td>\n",
       "      <td>Graduate</td>\n",
       "      <td>141.0</td>\n",
       "      <td>1.0</td>\n",
       "    </tr>\n",
       "    <tr>\n",
       "      <th>4</th>\n",
       "      <td>1</td>\n",
       "      <td>2333</td>\n",
       "      <td>Not Graduate</td>\n",
       "      <td>95.0</td>\n",
       "      <td>1.0</td>\n",
       "    </tr>\n",
       "    <tr>\n",
       "      <th>...</th>\n",
       "      <td>...</td>\n",
       "      <td>...</td>\n",
       "      <td>...</td>\n",
       "      <td>...</td>\n",
       "      <td>...</td>\n",
       "    </tr>\n",
       "    <tr>\n",
       "      <th>376</th>\n",
       "      <td>1</td>\n",
       "      <td>5703</td>\n",
       "      <td>Graduate</td>\n",
       "      <td>128.0</td>\n",
       "      <td>1.0</td>\n",
       "    </tr>\n",
       "    <tr>\n",
       "      <th>377</th>\n",
       "      <td>1</td>\n",
       "      <td>3232</td>\n",
       "      <td>Graduate</td>\n",
       "      <td>108.0</td>\n",
       "      <td>1.0</td>\n",
       "    </tr>\n",
       "    <tr>\n",
       "      <th>378</th>\n",
       "      <td>0</td>\n",
       "      <td>2900</td>\n",
       "      <td>Graduate</td>\n",
       "      <td>71.0</td>\n",
       "      <td>1.0</td>\n",
       "    </tr>\n",
       "    <tr>\n",
       "      <th>379</th>\n",
       "      <td>1</td>\n",
       "      <td>4106</td>\n",
       "      <td>Graduate</td>\n",
       "      <td>40.0</td>\n",
       "      <td>1.0</td>\n",
       "    </tr>\n",
       "    <tr>\n",
       "      <th>380</th>\n",
       "      <td>0</td>\n",
       "      <td>4583</td>\n",
       "      <td>Graduate</td>\n",
       "      <td>133.0</td>\n",
       "      <td>0.0</td>\n",
       "    </tr>\n",
       "  </tbody>\n",
       "</table>\n",
       "<p>381 rows × 5 columns</p>\n",
       "</div>"
      ],
      "text/plain": [
       "     Married  ApplicantIncome     Education  LoanAmount  Credit_History\n",
       "0          1             4583      Graduate       128.0             1.0\n",
       "1          1             3000      Graduate        66.0             1.0\n",
       "2          1             2583  Not Graduate       120.0             1.0\n",
       "3          0             6000      Graduate       141.0             1.0\n",
       "4          1             2333  Not Graduate        95.0             1.0\n",
       "..       ...              ...           ...         ...             ...\n",
       "376        1             5703      Graduate       128.0             1.0\n",
       "377        1             3232      Graduate       108.0             1.0\n",
       "378        0             2900      Graduate        71.0             1.0\n",
       "379        1             4106      Graduate        40.0             1.0\n",
       "380        0             4583      Graduate       133.0             0.0\n",
       "\n",
       "[381 rows x 5 columns]"
      ]
     },
     "execution_count": 43,
     "metadata": {},
     "output_type": "execute_result"
    }
   ],
   "source": [
    "X"
   ]
  },
  {
   "cell_type": "code",
   "execution_count": 44,
   "id": "77e74cc1",
   "metadata": {},
   "outputs": [
    {
     "data": {
      "text/plain": [
       "array(['No', 'Yes'], dtype=object)"
      ]
     },
     "execution_count": 44,
     "metadata": {},
     "output_type": "execute_result"
    }
   ],
   "source": [
    "labelencoder.classes_"
   ]
  },
  {
   "cell_type": "code",
   "execution_count": 45,
   "id": "4b85aeae",
   "metadata": {},
   "outputs": [
    {
     "name": "stderr",
     "output_type": "stream",
     "text": [
      "C:\\Users\\ghatfan\\AppData\\Local\\Temp\\ipykernel_19052\\1389465455.py:1: SettingWithCopyWarning: \n",
      "A value is trying to be set on a copy of a slice from a DataFrame.\n",
      "Try using .loc[row_indexer,col_indexer] = value instead\n",
      "\n",
      "See the caveats in the documentation: https://pandas.pydata.org/pandas-docs/stable/user_guide/indexing.html#returning-a-view-versus-a-copy\n",
      "  X[\"Education\"] = labelencoder.fit_transform(X['Education'])\n"
     ]
    }
   ],
   "source": [
    "X[\"Education\"] = labelencoder.fit_transform(X['Education'])"
   ]
  },
  {
   "cell_type": "code",
   "execution_count": 46,
   "id": "d4682752",
   "metadata": {},
   "outputs": [
    {
     "data": {
      "application/vnd.microsoft.datawrangler.viewer.v0+json": {
       "columns": [
        {
         "name": "index",
         "rawType": "int64",
         "type": "integer"
        },
        {
         "name": "Married",
         "rawType": "int64",
         "type": "integer"
        },
        {
         "name": "ApplicantIncome",
         "rawType": "int64",
         "type": "integer"
        },
        {
         "name": "Education",
         "rawType": "int64",
         "type": "integer"
        },
        {
         "name": "LoanAmount",
         "rawType": "float64",
         "type": "float"
        },
        {
         "name": "Credit_History",
         "rawType": "float64",
         "type": "float"
        }
       ],
       "ref": "0108d333-deb3-4f0c-9b66-baf2190fab3f",
       "rows": [
        [
         "0",
         "1",
         "4583",
         "0",
         "128.0",
         "1.0"
        ],
        [
         "1",
         "1",
         "3000",
         "0",
         "66.0",
         "1.0"
        ],
        [
         "2",
         "1",
         "2583",
         "1",
         "120.0",
         "1.0"
        ],
        [
         "3",
         "0",
         "6000",
         "0",
         "141.0",
         "1.0"
        ],
        [
         "4",
         "1",
         "2333",
         "1",
         "95.0",
         "1.0"
        ],
        [
         "5",
         "1",
         "3200",
         "0",
         "70.0",
         "1.0"
        ],
        [
         "6",
         "1",
         "2500",
         "0",
         "109.0",
         "1.0"
        ],
        [
         "7",
         "0",
         "1853",
         "0",
         "114.0",
         "1.0"
        ],
        [
         "8",
         "1",
         "1299",
         "0",
         "17.0",
         "1.0"
        ],
        [
         "9",
         "0",
         "4950",
         "0",
         "125.0",
         "1.0"
        ],
        [
         "10",
         "0",
         "3596",
         "1",
         "100.0",
         null
        ],
        [
         "11",
         "0",
         "3510",
         "0",
         "76.0",
         "0.0"
        ],
        [
         "12",
         "1",
         "4887",
         "1",
         "133.0",
         "1.0"
        ],
        [
         "13",
         "1",
         "2600",
         "0",
         "115.0",
         "1.0"
        ],
        [
         "14",
         "1",
         "7660",
         "1",
         "104.0",
         "0.0"
        ],
        [
         "15",
         "1",
         "2600",
         "1",
         "116.0",
         "0.0"
        ],
        [
         "16",
         "1",
         "3365",
         "1",
         "112.0",
         "0.0"
        ],
        [
         "17",
         "1",
         "2799",
         "0",
         "122.0",
         "1.0"
        ],
        [
         "18",
         "1",
         "4226",
         "1",
         "110.0",
         "1.0"
        ],
        [
         "19",
         "0",
         "1442",
         "1",
         "35.0",
         "1.0"
        ],
        [
         "20",
         "0",
         "3750",
         "0",
         "120.0",
         "1.0"
        ],
        [
         "21",
         "0",
         "3167",
         "0",
         "74.0",
         "1.0"
        ],
        [
         "22",
         "0",
         "4692",
         "0",
         "106.0",
         "1.0"
        ],
        [
         "23",
         "1",
         "3500",
         "0",
         "114.0",
         "1.0"
        ],
        [
         "24",
         "1",
         "1828",
         "0",
         "100.0",
         "0.0"
        ],
        [
         "25",
         "1",
         "3667",
         "0",
         "144.0",
         "1.0"
        ],
        [
         "26",
         "0",
         "3748",
         "1",
         "110.0",
         "1.0"
        ],
        [
         "27",
         "0",
         "3600",
         "0",
         "80.0",
         "1.0"
        ],
        [
         "28",
         "0",
         "1800",
         "0",
         "47.0",
         "1.0"
        ],
        [
         "29",
         "1",
         "2400",
         "0",
         "75.0",
         null
        ],
        [
         "30",
         "1",
         "3941",
         "0",
         "134.0",
         "1.0"
        ],
        [
         "31",
         "1",
         "4695",
         "1",
         "96.0",
         "1.0"
        ],
        [
         "32",
         "0",
         "3410",
         "0",
         "88.0",
         "1.0"
        ],
        [
         "33",
         "1",
         "5649",
         "0",
         "44.0",
         "1.0"
        ],
        [
         "34",
         "1",
         "5821",
         "0",
         "144.0",
         "1.0"
        ],
        [
         "35",
         "1",
         "2645",
         "0",
         "120.0",
         "0.0"
        ],
        [
         "36",
         "0",
         "4000",
         "0",
         "144.0",
         "1.0"
        ],
        [
         "37",
         "1",
         "1928",
         "1",
         "100.0",
         "1.0"
        ],
        [
         "38",
         "0",
         "3086",
         "0",
         "120.0",
         "1.0"
        ],
        [
         "39",
         "0",
         "4230",
         "0",
         "112.0",
         "1.0"
        ],
        [
         "40",
         "1",
         "4616",
         "0",
         "134.0",
         "1.0"
        ],
        [
         "41",
         "1",
         "2708",
         "0",
         "97.0",
         "1.0"
        ],
        [
         "42",
         "1",
         "2132",
         "0",
         "96.0",
         "1.0"
        ],
        [
         "43",
         "1",
         "3366",
         "0",
         "135.0",
         "1.0"
        ],
        [
         "44",
         "1",
         "3357",
         "1",
         "144.0",
         "1.0"
        ],
        [
         "45",
         "1",
         "2500",
         "0",
         "120.0",
         "1.0"
        ],
        [
         "46",
         "1",
         "3029",
         "0",
         "99.0",
         "1.0"
        ],
        [
         "47",
         "0",
         "4166",
         "0",
         "116.0",
         "0.0"
        ],
        [
         "48",
         "0",
         "3200",
         "1",
         "126.0",
         "0.0"
        ],
        [
         "49",
         "1",
         "7100",
         "1",
         "125.0",
         "1.0"
        ]
       ],
       "shape": {
        "columns": 5,
        "rows": 381
       }
      },
      "text/html": [
       "<div>\n",
       "<style scoped>\n",
       "    .dataframe tbody tr th:only-of-type {\n",
       "        vertical-align: middle;\n",
       "    }\n",
       "\n",
       "    .dataframe tbody tr th {\n",
       "        vertical-align: top;\n",
       "    }\n",
       "\n",
       "    .dataframe thead th {\n",
       "        text-align: right;\n",
       "    }\n",
       "</style>\n",
       "<table border=\"1\" class=\"dataframe\">\n",
       "  <thead>\n",
       "    <tr style=\"text-align: right;\">\n",
       "      <th></th>\n",
       "      <th>Married</th>\n",
       "      <th>ApplicantIncome</th>\n",
       "      <th>Education</th>\n",
       "      <th>LoanAmount</th>\n",
       "      <th>Credit_History</th>\n",
       "    </tr>\n",
       "  </thead>\n",
       "  <tbody>\n",
       "    <tr>\n",
       "      <th>0</th>\n",
       "      <td>1</td>\n",
       "      <td>4583</td>\n",
       "      <td>0</td>\n",
       "      <td>128.0</td>\n",
       "      <td>1.0</td>\n",
       "    </tr>\n",
       "    <tr>\n",
       "      <th>1</th>\n",
       "      <td>1</td>\n",
       "      <td>3000</td>\n",
       "      <td>0</td>\n",
       "      <td>66.0</td>\n",
       "      <td>1.0</td>\n",
       "    </tr>\n",
       "    <tr>\n",
       "      <th>2</th>\n",
       "      <td>1</td>\n",
       "      <td>2583</td>\n",
       "      <td>1</td>\n",
       "      <td>120.0</td>\n",
       "      <td>1.0</td>\n",
       "    </tr>\n",
       "    <tr>\n",
       "      <th>3</th>\n",
       "      <td>0</td>\n",
       "      <td>6000</td>\n",
       "      <td>0</td>\n",
       "      <td>141.0</td>\n",
       "      <td>1.0</td>\n",
       "    </tr>\n",
       "    <tr>\n",
       "      <th>4</th>\n",
       "      <td>1</td>\n",
       "      <td>2333</td>\n",
       "      <td>1</td>\n",
       "      <td>95.0</td>\n",
       "      <td>1.0</td>\n",
       "    </tr>\n",
       "    <tr>\n",
       "      <th>...</th>\n",
       "      <td>...</td>\n",
       "      <td>...</td>\n",
       "      <td>...</td>\n",
       "      <td>...</td>\n",
       "      <td>...</td>\n",
       "    </tr>\n",
       "    <tr>\n",
       "      <th>376</th>\n",
       "      <td>1</td>\n",
       "      <td>5703</td>\n",
       "      <td>0</td>\n",
       "      <td>128.0</td>\n",
       "      <td>1.0</td>\n",
       "    </tr>\n",
       "    <tr>\n",
       "      <th>377</th>\n",
       "      <td>1</td>\n",
       "      <td>3232</td>\n",
       "      <td>0</td>\n",
       "      <td>108.0</td>\n",
       "      <td>1.0</td>\n",
       "    </tr>\n",
       "    <tr>\n",
       "      <th>378</th>\n",
       "      <td>0</td>\n",
       "      <td>2900</td>\n",
       "      <td>0</td>\n",
       "      <td>71.0</td>\n",
       "      <td>1.0</td>\n",
       "    </tr>\n",
       "    <tr>\n",
       "      <th>379</th>\n",
       "      <td>1</td>\n",
       "      <td>4106</td>\n",
       "      <td>0</td>\n",
       "      <td>40.0</td>\n",
       "      <td>1.0</td>\n",
       "    </tr>\n",
       "    <tr>\n",
       "      <th>380</th>\n",
       "      <td>0</td>\n",
       "      <td>4583</td>\n",
       "      <td>0</td>\n",
       "      <td>133.0</td>\n",
       "      <td>0.0</td>\n",
       "    </tr>\n",
       "  </tbody>\n",
       "</table>\n",
       "<p>381 rows × 5 columns</p>\n",
       "</div>"
      ],
      "text/plain": [
       "     Married  ApplicantIncome  Education  LoanAmount  Credit_History\n",
       "0          1             4583          0       128.0             1.0\n",
       "1          1             3000          0        66.0             1.0\n",
       "2          1             2583          1       120.0             1.0\n",
       "3          0             6000          0       141.0             1.0\n",
       "4          1             2333          1        95.0             1.0\n",
       "..       ...              ...        ...         ...             ...\n",
       "376        1             5703          0       128.0             1.0\n",
       "377        1             3232          0       108.0             1.0\n",
       "378        0             2900          0        71.0             1.0\n",
       "379        1             4106          0        40.0             1.0\n",
       "380        0             4583          0       133.0             0.0\n",
       "\n",
       "[381 rows x 5 columns]"
      ]
     },
     "execution_count": 46,
     "metadata": {},
     "output_type": "execute_result"
    }
   ],
   "source": [
    "X"
   ]
  },
  {
   "cell_type": "markdown",
   "id": "63a21c08",
   "metadata": {},
   "source": [
    "#  Scaling"
   ]
  },
  {
   "cell_type": "code",
   "execution_count": 47,
   "id": "2c69b3a4",
   "metadata": {},
   "outputs": [],
   "source": [
    "from sklearn.preprocessing import StandardScaler\n",
    "scaler = StandardScaler()"
   ]
  },
  {
   "cell_type": "code",
   "execution_count": 48,
   "id": "5cb7c952",
   "metadata": {},
   "outputs": [],
   "source": [
    "X = scaler.fit_transform(X)"
   ]
  },
  {
   "cell_type": "code",
   "execution_count": 49,
   "id": "62377e99",
   "metadata": {},
   "outputs": [
    {
     "data": {
      "text/plain": [
       "array([[ 0.81917802,  0.70746877, -0.60869007,  0.81257519,  0.44031529],\n",
       "       [ 0.81917802, -0.40893221, -0.60869007, -1.37659578,  0.44031529],\n",
       "       [ 0.81917802, -0.70301888,  1.64287222,  0.53010151,  0.44031529],\n",
       "       ...,\n",
       "       [-1.22073588, -0.47945659, -0.60869007, -1.20004974,  0.44031529],\n",
       "       [ 0.81917802,  0.37106746, -0.60869007, -2.29463522,  0.44031529],\n",
       "       [-1.22073588,  0.70746877, -0.60869007,  0.98912123, -2.2710999 ]],\n",
       "      shape=(381, 5))"
      ]
     },
     "execution_count": 49,
     "metadata": {},
     "output_type": "execute_result"
    }
   ],
   "source": [
    "X"
   ]
  },
  {
   "cell_type": "code",
   "execution_count": 50,
   "id": "78522b21",
   "metadata": {},
   "outputs": [
    {
     "data": {
      "text/plain": [
       "['Scaler.pkl']"
      ]
     },
     "execution_count": 50,
     "metadata": {},
     "output_type": "execute_result"
    }
   ],
   "source": [
    "import joblib\n",
    "joblib.dump(scaler, \"Scaler.pkl\")"
   ]
  },
  {
   "cell_type": "markdown",
   "id": "29cbed8c",
   "metadata": {},
   "source": [
    "# Pemodelan"
   ]
  },
  {
   "cell_type": "code",
   "execution_count": 51,
   "id": "79752b82",
   "metadata": {},
   "outputs": [],
   "source": [
    "from sklearn.model_selection import train_test_split\n",
    "x_train, x_test, y_train, y_test = train_test_split(X,Y, test_size=0.2)"
   ]
  },
  {
   "cell_type": "code",
   "execution_count": 52,
   "id": "c5b46383",
   "metadata": {},
   "outputs": [],
   "source": [
    "from sklearn.metrics import accuracy_score"
   ]
  },
  {
   "cell_type": "code",
   "execution_count": 53,
   "id": "d5a67329",
   "metadata": {},
   "outputs": [],
   "source": [
    "def modelperfom(predicitons):\n",
    " print(\"Accuracy in model os {}\".format(accuracy_score(y_test, predicitons)))"
   ]
  },
  {
   "cell_type": "code",
   "execution_count": 54,
   "id": "4bddd767",
   "metadata": {},
   "outputs": [],
   "source": [
    "from sklearn.model_selection import GridSearchCV"
   ]
  },
  {
   "cell_type": "markdown",
   "id": "c0db6af6",
   "metadata": {},
   "source": [
    "Logistic Regression"
   ]
  },
  {
   "cell_type": "code",
   "execution_count": 55,
   "id": "07eae0f4",
   "metadata": {},
   "outputs": [
    {
     "name": "stdout",
     "output_type": "stream",
     "text": [
      "30\n"
     ]
    }
   ],
   "source": [
    "print(np.isnan(X).sum())"
   ]
  },
  {
   "cell_type": "code",
   "execution_count": 56,
   "id": "6abf9a7f",
   "metadata": {},
   "outputs": [],
   "source": [
    "mask_no_nan = ~np.isnan(x_train).any(axis=1)"
   ]
  },
  {
   "cell_type": "code",
   "execution_count": 57,
   "id": "7b232ce1",
   "metadata": {},
   "outputs": [],
   "source": [
    "mask_no_nan = ~np.isnan(x_test).any(axis=1)"
   ]
  },
  {
   "cell_type": "code",
   "execution_count": 58,
   "id": "8608b7b4",
   "metadata": {},
   "outputs": [
    {
     "ename": "IndexError",
     "evalue": "boolean index did not match indexed array along axis 0; size of axis is 304 but size of corresponding boolean axis is 77",
     "output_type": "error",
     "traceback": [
      "\u001b[31m---------------------------------------------------------------------------\u001b[39m",
      "\u001b[31mIndexError\u001b[39m                                Traceback (most recent call last)",
      "\u001b[36mCell\u001b[39m\u001b[36m \u001b[39m\u001b[32mIn[58]\u001b[39m\u001b[32m, line 1\u001b[39m\n\u001b[32m----> \u001b[39m\u001b[32m1\u001b[39m x_train_clean = \u001b[43mx_train\u001b[49m\u001b[43m[\u001b[49m\u001b[43mmask_no_nan\u001b[49m\u001b[43m]\u001b[49m\n",
      "\u001b[31mIndexError\u001b[39m: boolean index did not match indexed array along axis 0; size of axis is 304 but size of corresponding boolean axis is 77"
     ]
    }
   ],
   "source": [
    "x_train_clean = x_train[mask_no_nan]"
   ]
  },
  {
   "cell_type": "code",
   "execution_count": null,
   "id": "2fc8e4b4",
   "metadata": {},
   "outputs": [],
   "source": [
    "Y_train_clean = y_train[mask_no_nan]"
   ]
  },
  {
   "cell_type": "code",
   "execution_count": null,
   "id": "aa48d924",
   "metadata": {},
   "outputs": [],
   "source": [
    "x_test_clean = x_test[mask_no_nan]"
   ]
  },
  {
   "cell_type": "code",
   "execution_count": null,
   "id": "a67cf6b2",
   "metadata": {},
   "outputs": [],
   "source": [
    "Y_test_clean = y_test[mask_no_nan]"
   ]
  },
  {
   "cell_type": "code",
   "execution_count": null,
   "id": "9cf54ce1",
   "metadata": {},
   "outputs": [
    {
     "name": "stdout",
     "output_type": "stream",
     "text": [
      "30\n"
     ]
    }
   ],
   "source": [
    "print(np.isnan(X).sum())"
   ]
  },
  {
   "cell_type": "code",
   "execution_count": null,
   "id": "e881f8e0",
   "metadata": {},
   "outputs": [
    {
     "data": {
      "text/html": [
       "<style>#sk-container-id-2 {\n",
       "  /* Definition of color scheme common for light and dark mode */\n",
       "  --sklearn-color-text: #000;\n",
       "  --sklearn-color-text-muted: #666;\n",
       "  --sklearn-color-line: gray;\n",
       "  /* Definition of color scheme for unfitted estimators */\n",
       "  --sklearn-color-unfitted-level-0: #fff5e6;\n",
       "  --sklearn-color-unfitted-level-1: #f6e4d2;\n",
       "  --sklearn-color-unfitted-level-2: #ffe0b3;\n",
       "  --sklearn-color-unfitted-level-3: chocolate;\n",
       "  /* Definition of color scheme for fitted estimators */\n",
       "  --sklearn-color-fitted-level-0: #f0f8ff;\n",
       "  --sklearn-color-fitted-level-1: #d4ebff;\n",
       "  --sklearn-color-fitted-level-2: #b3dbfd;\n",
       "  --sklearn-color-fitted-level-3: cornflowerblue;\n",
       "\n",
       "  /* Specific color for light theme */\n",
       "  --sklearn-color-text-on-default-background: var(--sg-text-color, var(--theme-code-foreground, var(--jp-content-font-color1, black)));\n",
       "  --sklearn-color-background: var(--sg-background-color, var(--theme-background, var(--jp-layout-color0, white)));\n",
       "  --sklearn-color-border-box: var(--sg-text-color, var(--theme-code-foreground, var(--jp-content-font-color1, black)));\n",
       "  --sklearn-color-icon: #696969;\n",
       "\n",
       "  @media (prefers-color-scheme: dark) {\n",
       "    /* Redefinition of color scheme for dark theme */\n",
       "    --sklearn-color-text-on-default-background: var(--sg-text-color, var(--theme-code-foreground, var(--jp-content-font-color1, white)));\n",
       "    --sklearn-color-background: var(--sg-background-color, var(--theme-background, var(--jp-layout-color0, #111)));\n",
       "    --sklearn-color-border-box: var(--sg-text-color, var(--theme-code-foreground, var(--jp-content-font-color1, white)));\n",
       "    --sklearn-color-icon: #878787;\n",
       "  }\n",
       "}\n",
       "\n",
       "#sk-container-id-2 {\n",
       "  color: var(--sklearn-color-text);\n",
       "}\n",
       "\n",
       "#sk-container-id-2 pre {\n",
       "  padding: 0;\n",
       "}\n",
       "\n",
       "#sk-container-id-2 input.sk-hidden--visually {\n",
       "  border: 0;\n",
       "  clip: rect(1px 1px 1px 1px);\n",
       "  clip: rect(1px, 1px, 1px, 1px);\n",
       "  height: 1px;\n",
       "  margin: -1px;\n",
       "  overflow: hidden;\n",
       "  padding: 0;\n",
       "  position: absolute;\n",
       "  width: 1px;\n",
       "}\n",
       "\n",
       "#sk-container-id-2 div.sk-dashed-wrapped {\n",
       "  border: 1px dashed var(--sklearn-color-line);\n",
       "  margin: 0 0.4em 0.5em 0.4em;\n",
       "  box-sizing: border-box;\n",
       "  padding-bottom: 0.4em;\n",
       "  background-color: var(--sklearn-color-background);\n",
       "}\n",
       "\n",
       "#sk-container-id-2 div.sk-container {\n",
       "  /* jupyter's `normalize.less` sets `[hidden] { display: none; }`\n",
       "     but bootstrap.min.css set `[hidden] { display: none !important; }`\n",
       "     so we also need the `!important` here to be able to override the\n",
       "     default hidden behavior on the sphinx rendered scikit-learn.org.\n",
       "     See: https://github.com/scikit-learn/scikit-learn/issues/21755 */\n",
       "  display: inline-block !important;\n",
       "  position: relative;\n",
       "}\n",
       "\n",
       "#sk-container-id-2 div.sk-text-repr-fallback {\n",
       "  display: none;\n",
       "}\n",
       "\n",
       "div.sk-parallel-item,\n",
       "div.sk-serial,\n",
       "div.sk-item {\n",
       "  /* draw centered vertical line to link estimators */\n",
       "  background-image: linear-gradient(var(--sklearn-color-text-on-default-background), var(--sklearn-color-text-on-default-background));\n",
       "  background-size: 2px 100%;\n",
       "  background-repeat: no-repeat;\n",
       "  background-position: center center;\n",
       "}\n",
       "\n",
       "/* Parallel-specific style estimator block */\n",
       "\n",
       "#sk-container-id-2 div.sk-parallel-item::after {\n",
       "  content: \"\";\n",
       "  width: 100%;\n",
       "  border-bottom: 2px solid var(--sklearn-color-text-on-default-background);\n",
       "  flex-grow: 1;\n",
       "}\n",
       "\n",
       "#sk-container-id-2 div.sk-parallel {\n",
       "  display: flex;\n",
       "  align-items: stretch;\n",
       "  justify-content: center;\n",
       "  background-color: var(--sklearn-color-background);\n",
       "  position: relative;\n",
       "}\n",
       "\n",
       "#sk-container-id-2 div.sk-parallel-item {\n",
       "  display: flex;\n",
       "  flex-direction: column;\n",
       "}\n",
       "\n",
       "#sk-container-id-2 div.sk-parallel-item:first-child::after {\n",
       "  align-self: flex-end;\n",
       "  width: 50%;\n",
       "}\n",
       "\n",
       "#sk-container-id-2 div.sk-parallel-item:last-child::after {\n",
       "  align-self: flex-start;\n",
       "  width: 50%;\n",
       "}\n",
       "\n",
       "#sk-container-id-2 div.sk-parallel-item:only-child::after {\n",
       "  width: 0;\n",
       "}\n",
       "\n",
       "/* Serial-specific style estimator block */\n",
       "\n",
       "#sk-container-id-2 div.sk-serial {\n",
       "  display: flex;\n",
       "  flex-direction: column;\n",
       "  align-items: center;\n",
       "  background-color: var(--sklearn-color-background);\n",
       "  padding-right: 1em;\n",
       "  padding-left: 1em;\n",
       "}\n",
       "\n",
       "\n",
       "/* Toggleable style: style used for estimator/Pipeline/ColumnTransformer box that is\n",
       "clickable and can be expanded/collapsed.\n",
       "- Pipeline and ColumnTransformer use this feature and define the default style\n",
       "- Estimators will overwrite some part of the style using the `sk-estimator` class\n",
       "*/\n",
       "\n",
       "/* Pipeline and ColumnTransformer style (default) */\n",
       "\n",
       "#sk-container-id-2 div.sk-toggleable {\n",
       "  /* Default theme specific background. It is overwritten whether we have a\n",
       "  specific estimator or a Pipeline/ColumnTransformer */\n",
       "  background-color: var(--sklearn-color-background);\n",
       "}\n",
       "\n",
       "/* Toggleable label */\n",
       "#sk-container-id-2 label.sk-toggleable__label {\n",
       "  cursor: pointer;\n",
       "  display: flex;\n",
       "  width: 100%;\n",
       "  margin-bottom: 0;\n",
       "  padding: 0.5em;\n",
       "  box-sizing: border-box;\n",
       "  text-align: center;\n",
       "  align-items: start;\n",
       "  justify-content: space-between;\n",
       "  gap: 0.5em;\n",
       "}\n",
       "\n",
       "#sk-container-id-2 label.sk-toggleable__label .caption {\n",
       "  font-size: 0.6rem;\n",
       "  font-weight: lighter;\n",
       "  color: var(--sklearn-color-text-muted);\n",
       "}\n",
       "\n",
       "#sk-container-id-2 label.sk-toggleable__label-arrow:before {\n",
       "  /* Arrow on the left of the label */\n",
       "  content: \"▸\";\n",
       "  float: left;\n",
       "  margin-right: 0.25em;\n",
       "  color: var(--sklearn-color-icon);\n",
       "}\n",
       "\n",
       "#sk-container-id-2 label.sk-toggleable__label-arrow:hover:before {\n",
       "  color: var(--sklearn-color-text);\n",
       "}\n",
       "\n",
       "/* Toggleable content - dropdown */\n",
       "\n",
       "#sk-container-id-2 div.sk-toggleable__content {\n",
       "  max-height: 0;\n",
       "  max-width: 0;\n",
       "  overflow: hidden;\n",
       "  text-align: left;\n",
       "  /* unfitted */\n",
       "  background-color: var(--sklearn-color-unfitted-level-0);\n",
       "}\n",
       "\n",
       "#sk-container-id-2 div.sk-toggleable__content.fitted {\n",
       "  /* fitted */\n",
       "  background-color: var(--sklearn-color-fitted-level-0);\n",
       "}\n",
       "\n",
       "#sk-container-id-2 div.sk-toggleable__content pre {\n",
       "  margin: 0.2em;\n",
       "  border-radius: 0.25em;\n",
       "  color: var(--sklearn-color-text);\n",
       "  /* unfitted */\n",
       "  background-color: var(--sklearn-color-unfitted-level-0);\n",
       "}\n",
       "\n",
       "#sk-container-id-2 div.sk-toggleable__content.fitted pre {\n",
       "  /* unfitted */\n",
       "  background-color: var(--sklearn-color-fitted-level-0);\n",
       "}\n",
       "\n",
       "#sk-container-id-2 input.sk-toggleable__control:checked~div.sk-toggleable__content {\n",
       "  /* Expand drop-down */\n",
       "  max-height: 200px;\n",
       "  max-width: 100%;\n",
       "  overflow: auto;\n",
       "}\n",
       "\n",
       "#sk-container-id-2 input.sk-toggleable__control:checked~label.sk-toggleable__label-arrow:before {\n",
       "  content: \"▾\";\n",
       "}\n",
       "\n",
       "/* Pipeline/ColumnTransformer-specific style */\n",
       "\n",
       "#sk-container-id-2 div.sk-label input.sk-toggleable__control:checked~label.sk-toggleable__label {\n",
       "  color: var(--sklearn-color-text);\n",
       "  background-color: var(--sklearn-color-unfitted-level-2);\n",
       "}\n",
       "\n",
       "#sk-container-id-2 div.sk-label.fitted input.sk-toggleable__control:checked~label.sk-toggleable__label {\n",
       "  background-color: var(--sklearn-color-fitted-level-2);\n",
       "}\n",
       "\n",
       "/* Estimator-specific style */\n",
       "\n",
       "/* Colorize estimator box */\n",
       "#sk-container-id-2 div.sk-estimator input.sk-toggleable__control:checked~label.sk-toggleable__label {\n",
       "  /* unfitted */\n",
       "  background-color: var(--sklearn-color-unfitted-level-2);\n",
       "}\n",
       "\n",
       "#sk-container-id-2 div.sk-estimator.fitted input.sk-toggleable__control:checked~label.sk-toggleable__label {\n",
       "  /* fitted */\n",
       "  background-color: var(--sklearn-color-fitted-level-2);\n",
       "}\n",
       "\n",
       "#sk-container-id-2 div.sk-label label.sk-toggleable__label,\n",
       "#sk-container-id-2 div.sk-label label {\n",
       "  /* The background is the default theme color */\n",
       "  color: var(--sklearn-color-text-on-default-background);\n",
       "}\n",
       "\n",
       "/* On hover, darken the color of the background */\n",
       "#sk-container-id-2 div.sk-label:hover label.sk-toggleable__label {\n",
       "  color: var(--sklearn-color-text);\n",
       "  background-color: var(--sklearn-color-unfitted-level-2);\n",
       "}\n",
       "\n",
       "/* Label box, darken color on hover, fitted */\n",
       "#sk-container-id-2 div.sk-label.fitted:hover label.sk-toggleable__label.fitted {\n",
       "  color: var(--sklearn-color-text);\n",
       "  background-color: var(--sklearn-color-fitted-level-2);\n",
       "}\n",
       "\n",
       "/* Estimator label */\n",
       "\n",
       "#sk-container-id-2 div.sk-label label {\n",
       "  font-family: monospace;\n",
       "  font-weight: bold;\n",
       "  display: inline-block;\n",
       "  line-height: 1.2em;\n",
       "}\n",
       "\n",
       "#sk-container-id-2 div.sk-label-container {\n",
       "  text-align: center;\n",
       "}\n",
       "\n",
       "/* Estimator-specific */\n",
       "#sk-container-id-2 div.sk-estimator {\n",
       "  font-family: monospace;\n",
       "  border: 1px dotted var(--sklearn-color-border-box);\n",
       "  border-radius: 0.25em;\n",
       "  box-sizing: border-box;\n",
       "  margin-bottom: 0.5em;\n",
       "  /* unfitted */\n",
       "  background-color: var(--sklearn-color-unfitted-level-0);\n",
       "}\n",
       "\n",
       "#sk-container-id-2 div.sk-estimator.fitted {\n",
       "  /* fitted */\n",
       "  background-color: var(--sklearn-color-fitted-level-0);\n",
       "}\n",
       "\n",
       "/* on hover */\n",
       "#sk-container-id-2 div.sk-estimator:hover {\n",
       "  /* unfitted */\n",
       "  background-color: var(--sklearn-color-unfitted-level-2);\n",
       "}\n",
       "\n",
       "#sk-container-id-2 div.sk-estimator.fitted:hover {\n",
       "  /* fitted */\n",
       "  background-color: var(--sklearn-color-fitted-level-2);\n",
       "}\n",
       "\n",
       "/* Specification for estimator info (e.g. \"i\" and \"?\") */\n",
       "\n",
       "/* Common style for \"i\" and \"?\" */\n",
       "\n",
       ".sk-estimator-doc-link,\n",
       "a:link.sk-estimator-doc-link,\n",
       "a:visited.sk-estimator-doc-link {\n",
       "  float: right;\n",
       "  font-size: smaller;\n",
       "  line-height: 1em;\n",
       "  font-family: monospace;\n",
       "  background-color: var(--sklearn-color-background);\n",
       "  border-radius: 1em;\n",
       "  height: 1em;\n",
       "  width: 1em;\n",
       "  text-decoration: none !important;\n",
       "  margin-left: 0.5em;\n",
       "  text-align: center;\n",
       "  /* unfitted */\n",
       "  border: var(--sklearn-color-unfitted-level-1) 1pt solid;\n",
       "  color: var(--sklearn-color-unfitted-level-1);\n",
       "}\n",
       "\n",
       ".sk-estimator-doc-link.fitted,\n",
       "a:link.sk-estimator-doc-link.fitted,\n",
       "a:visited.sk-estimator-doc-link.fitted {\n",
       "  /* fitted */\n",
       "  border: var(--sklearn-color-fitted-level-1) 1pt solid;\n",
       "  color: var(--sklearn-color-fitted-level-1);\n",
       "}\n",
       "\n",
       "/* On hover */\n",
       "div.sk-estimator:hover .sk-estimator-doc-link:hover,\n",
       ".sk-estimator-doc-link:hover,\n",
       "div.sk-label-container:hover .sk-estimator-doc-link:hover,\n",
       ".sk-estimator-doc-link:hover {\n",
       "  /* unfitted */\n",
       "  background-color: var(--sklearn-color-unfitted-level-3);\n",
       "  color: var(--sklearn-color-background);\n",
       "  text-decoration: none;\n",
       "}\n",
       "\n",
       "div.sk-estimator.fitted:hover .sk-estimator-doc-link.fitted:hover,\n",
       ".sk-estimator-doc-link.fitted:hover,\n",
       "div.sk-label-container:hover .sk-estimator-doc-link.fitted:hover,\n",
       ".sk-estimator-doc-link.fitted:hover {\n",
       "  /* fitted */\n",
       "  background-color: var(--sklearn-color-fitted-level-3);\n",
       "  color: var(--sklearn-color-background);\n",
       "  text-decoration: none;\n",
       "}\n",
       "\n",
       "/* Span, style for the box shown on hovering the info icon */\n",
       ".sk-estimator-doc-link span {\n",
       "  display: none;\n",
       "  z-index: 9999;\n",
       "  position: relative;\n",
       "  font-weight: normal;\n",
       "  right: .2ex;\n",
       "  padding: .5ex;\n",
       "  margin: .5ex;\n",
       "  width: min-content;\n",
       "  min-width: 20ex;\n",
       "  max-width: 50ex;\n",
       "  color: var(--sklearn-color-text);\n",
       "  box-shadow: 2pt 2pt 4pt #999;\n",
       "  /* unfitted */\n",
       "  background: var(--sklearn-color-unfitted-level-0);\n",
       "  border: .5pt solid var(--sklearn-color-unfitted-level-3);\n",
       "}\n",
       "\n",
       ".sk-estimator-doc-link.fitted span {\n",
       "  /* fitted */\n",
       "  background: var(--sklearn-color-fitted-level-0);\n",
       "  border: var(--sklearn-color-fitted-level-3);\n",
       "}\n",
       "\n",
       ".sk-estimator-doc-link:hover span {\n",
       "  display: block;\n",
       "}\n",
       "\n",
       "/* \"?\"-specific style due to the `<a>` HTML tag */\n",
       "\n",
       "#sk-container-id-2 a.estimator_doc_link {\n",
       "  float: right;\n",
       "  font-size: 1rem;\n",
       "  line-height: 1em;\n",
       "  font-family: monospace;\n",
       "  background-color: var(--sklearn-color-background);\n",
       "  border-radius: 1rem;\n",
       "  height: 1rem;\n",
       "  width: 1rem;\n",
       "  text-decoration: none;\n",
       "  /* unfitted */\n",
       "  color: var(--sklearn-color-unfitted-level-1);\n",
       "  border: var(--sklearn-color-unfitted-level-1) 1pt solid;\n",
       "}\n",
       "\n",
       "#sk-container-id-2 a.estimator_doc_link.fitted {\n",
       "  /* fitted */\n",
       "  border: var(--sklearn-color-fitted-level-1) 1pt solid;\n",
       "  color: var(--sklearn-color-fitted-level-1);\n",
       "}\n",
       "\n",
       "/* On hover */\n",
       "#sk-container-id-2 a.estimator_doc_link:hover {\n",
       "  /* unfitted */\n",
       "  background-color: var(--sklearn-color-unfitted-level-3);\n",
       "  color: var(--sklearn-color-background);\n",
       "  text-decoration: none;\n",
       "}\n",
       "\n",
       "#sk-container-id-2 a.estimator_doc_link.fitted:hover {\n",
       "  /* fitted */\n",
       "  background-color: var(--sklearn-color-fitted-level-3);\n",
       "}\n",
       "</style><div id=\"sk-container-id-2\" class=\"sk-top-container\"><div class=\"sk-text-repr-fallback\"><pre>LogisticRegression()</pre><b>In a Jupyter environment, please rerun this cell to show the HTML representation or trust the notebook. <br />On GitHub, the HTML representation is unable to render, please try loading this page with nbviewer.org.</b></div><div class=\"sk-container\" hidden><div class=\"sk-item\"><div class=\"sk-estimator fitted sk-toggleable\"><input class=\"sk-toggleable__control sk-hidden--visually\" id=\"sk-estimator-id-2\" type=\"checkbox\" checked><label for=\"sk-estimator-id-2\" class=\"sk-toggleable__label fitted sk-toggleable__label-arrow\"><div><div>LogisticRegression</div></div><div><a class=\"sk-estimator-doc-link fitted\" rel=\"noreferrer\" target=\"_blank\" href=\"https://scikit-learn.org/1.6/modules/generated/sklearn.linear_model.LogisticRegression.html\">?<span>Documentation for LogisticRegression</span></a><span class=\"sk-estimator-doc-link fitted\">i<span>Fitted</span></span></div></label><div class=\"sk-toggleable__content fitted\"><pre>LogisticRegression()</pre></div> </div></div></div></div>"
      ],
      "text/plain": [
       "LogisticRegression()"
      ]
     },
     "execution_count": 270,
     "metadata": {},
     "output_type": "execute_result"
    }
   ],
   "source": [
    "from sklearn.linear_model import LogisticRegression\n",
    "log_model = LogisticRegression()\n",
    "log_model.fit(x_train_clean,Y_train_clean)"
   ]
  },
  {
   "cell_type": "code",
   "execution_count": null,
   "id": "fd8542fd",
   "metadata": {},
   "outputs": [
    {
     "data": {
      "text/plain": [
       "array(['Y', 'Y', 'Y', 'N', 'N', 'N', 'Y', 'Y', 'Y', 'Y', 'Y', 'Y', 'Y',\n",
       "       'Y', 'N', 'Y', 'Y', 'Y', 'Y', 'Y', 'Y', 'Y', 'Y', 'Y', 'Y', 'Y',\n",
       "       'Y', 'Y', 'Y', 'Y', 'Y', 'Y', 'Y', 'Y', 'Y', 'Y', 'Y', 'Y', 'Y',\n",
       "       'Y', 'Y', 'Y', 'Y', 'Y', 'N', 'Y', 'Y', 'Y', 'N', 'Y', 'Y', 'Y',\n",
       "       'Y', 'Y', 'Y', 'Y', 'Y', 'Y', 'Y', 'N', 'Y', 'Y', 'Y', 'N', 'Y',\n",
       "       'Y', 'Y', 'Y', 'Y', 'Y'], dtype=object)"
      ]
     },
     "execution_count": 278,
     "metadata": {},
     "output_type": "execute_result"
    }
   ],
   "source": [
    "log_model.predict(x_test_clean)"
   ]
  }
 ],
 "metadata": {
  "kernelspec": {
   "display_name": "Python 3",
   "language": "python",
   "name": "python3"
  },
  "language_info": {
   "codemirror_mode": {
    "name": "ipython",
    "version": 3
   },
   "file_extension": ".py",
   "mimetype": "text/x-python",
   "name": "python",
   "nbconvert_exporter": "python",
   "pygments_lexer": "ipython3",
   "version": "3.12.7"
  }
 },
 "nbformat": 4,
 "nbformat_minor": 5
}
