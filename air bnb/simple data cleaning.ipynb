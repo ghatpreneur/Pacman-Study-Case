{
 "cells": [
  {
   "cell_type": "markdown",
   "id": "b6f7c9a5",
   "metadata": {},
   "source": [
    "# **Pertemuan #15-16: Simple Data Cleaning**\n",
    "\n",
    "Data Wrangling - Sekolah Data - Pacmann Academy"
   ]
  },
  {
   "cell_type": "markdown",
   "id": "4b30366c",
   "metadata": {},
   "source": [
    "Pada notebook ini akan dipelajari cara untuk melakukan data wrangling sederhana dengan bantuan visualisasi\n",
    "\n",
    "**Objective**:\n",
    "1. Identify and Handling Missing Values\n",
    "2. Identify and Handling Inkonsistent Format\n",
    "3. Identify and Handling Outlier"
   ]
  },
  {
   "cell_type": "markdown",
   "id": "5eda1073",
   "metadata": {},
   "source": [
    "import library"
   ]
  },
  {
   "cell_type": "code",
   "execution_count": 21,
   "id": "1a505ef6",
   "metadata": {},
   "outputs": [],
   "source": [
    "# library pengolahan data\n",
    "import pandas as pd\n",
    "import numpy as np\n",
    "\n",
    "# library visualisasi\n",
    "import matplotlib.pyplot as plt\n",
    "import seaborn as sns\n",
    "\n",
    "# ignore warnings\n",
    "import warnings\n",
    "warnings.filterwarnings('ignore')"
   ]
  },
  {
   "cell_type": "code",
   "execution_count": 22,
   "id": "23948749",
   "metadata": {},
   "outputs": [
    {
     "name": "stdout",
     "output_type": "stream",
     "text": [
      "                        id                                       listing_url  \\\n",
      "0                    27886                https://www.airbnb.com/rooms/27886   \n",
      "1                    28871                https://www.airbnb.com/rooms/28871   \n",
      "2                    29051                https://www.airbnb.com/rooms/29051   \n",
      "3                    44391                https://www.airbnb.com/rooms/44391   \n",
      "4                    47061                https://www.airbnb.com/rooms/47061   \n",
      "...                    ...                                               ...   \n",
      "10163  1437492870456891135  https://www.airbnb.com/rooms/1437492870456891135   \n",
      "10164  1437585511300942515  https://www.airbnb.com/rooms/1437585511300942515   \n",
      "10165  1437601466510408215  https://www.airbnb.com/rooms/1437601466510408215   \n",
      "10166  1437660079651924451  https://www.airbnb.com/rooms/1437660079651924451   \n",
      "10167  1438602403155395239  https://www.airbnb.com/rooms/1438602403155395239   \n",
      "\n",
      "            scrape_id last_scraped           source  \\\n",
      "0      20250609011745   2025-06-17      city scrape   \n",
      "1      20250609011745   2025-06-17      city scrape   \n",
      "2      20250609011745   2025-06-17      city scrape   \n",
      "3      20250609011745   2025-06-17  previous scrape   \n",
      "4      20250609011745   2025-06-17      city scrape   \n",
      "...               ...          ...              ...   \n",
      "10163  20250609011745   2025-06-17      city scrape   \n",
      "10164  20250609011745   2025-06-17      city scrape   \n",
      "10165  20250609011745   2025-06-17      city scrape   \n",
      "10166  20250609011745   2025-06-17      city scrape   \n",
      "10167  20250609011745   2025-06-17      city scrape   \n",
      "\n",
      "                                                    name  \\\n",
      "0      Romantic, stylish B&B houseboat in canal district   \n",
      "1                                Comfortable double room   \n",
      "2                       Comfortable single / double room   \n",
      "3        Quiet 2-bedroom Amsterdam city centre apartment   \n",
      "4                       Charming apartment in old centre   \n",
      "...                                                  ...   \n",
      "10163                     Stylish large apt/with terrace   \n",
      "10164                         Sfeervol huis in Amsterdam   \n",
      "10165            New design apartment next to Westerpark   \n",
      "10166                                     Chateau Hedwig   \n",
      "10167                     Central station private flat d   \n",
      "\n",
      "                                             description  \\\n",
      "0      Stylish and romantic houseboat on fantastic hi...   \n",
      "1              Basic bedroom in the center of Amsterdam.   \n",
      "2      This room can also be rented as a single or a ...   \n",
      "3      Guests greatly appreciate the unique location ...   \n",
      "4      A beautiful, quiet apartment in the center of ...   \n",
      "...                                                  ...   \n",
      "10163  This beautiful large apartment on the top floo...   \n",
      "10164  This sunny corner house is a 5-minute walk fro...   \n",
      "10165  Welcome to my newly renovated designer apartme...   \n",
      "10166  Stylish 2 floor apartment in Amsterdam’s Old W...   \n",
      "10167  Enjoy easy access to everything from this perf...   \n",
      "\n",
      "                                   neighborhood_overview  \\\n",
      "0             Central, quiet, safe, clean and beautiful.   \n",
      "1           Flower market , Leidseplein , Rembrantsplein   \n",
      "2      the street is quite lively especially on weeke...   \n",
      "3      The appartment is located in the city centre. ...   \n",
      "4                                                    NaN   \n",
      "...                                                  ...   \n",
      "10163                                                NaN   \n",
      "10164                                                NaN   \n",
      "10165                                                NaN   \n",
      "10166                                                NaN   \n",
      "10167                                                NaN   \n",
      "\n",
      "                                             picture_url    host_id  ...  \\\n",
      "0      https://a0.muscache.com/pictures/02c2da9d-660e...      97647  ...   \n",
      "1      https://a0.muscache.com/pictures/160889/362340...     124245  ...   \n",
      "2      https://a0.muscache.com/pictures/162009/bd6be2...     124245  ...   \n",
      "3      https://a0.muscache.com/pictures/97741545/3900...     194779  ...   \n",
      "4      https://a0.muscache.com/pictures/268343/a08ce2...     211696  ...   \n",
      "...                                                  ...        ...  ...   \n",
      "10163  https://a0.muscache.com/pictures/miso/Hosting-...  699642430  ...   \n",
      "10164  https://a0.muscache.com/pictures/miso/Hosting-...    7177465  ...   \n",
      "10165  https://a0.muscache.com/pictures/hosting/Hosti...   58139080  ...   \n",
      "10166  https://a0.muscache.com/pictures/miso/Hosting-...  576071459  ...   \n",
      "10167  https://a0.muscache.com/pictures/hosting/Hosti...  449825081  ...   \n",
      "\n",
      "      review_scores_communication review_scores_location review_scores_value  \\\n",
      "0                            4.92                   4.90                4.78   \n",
      "1                            4.94                   4.94                4.84   \n",
      "2                            4.92                   4.87                4.79   \n",
      "3                            4.90                   4.68                4.50   \n",
      "4                            4.90                   4.85                4.63   \n",
      "...                           ...                    ...                 ...   \n",
      "10163                         NaN                    NaN                 NaN   \n",
      "10164                         NaN                    NaN                 NaN   \n",
      "10165                         NaN                    NaN                 NaN   \n",
      "10166                         NaN                    NaN                 NaN   \n",
      "10167                         NaN                    NaN                 NaN   \n",
      "\n",
      "                        license instant_bookable  \\\n",
      "0      0363 974D 4986 7411 88D8                f   \n",
      "1      0363 607B EA74 0BD8 2F6F                f   \n",
      "2      0363 607B EA74 0BD8 2F6F                f   \n",
      "3      0363 E76E F06A C1DD 172C                f   \n",
      "4      0363 1266 8C04 4133 E6AC                f   \n",
      "...                         ...              ...   \n",
      "10163      036374862C87807756B2                f   \n",
      "10164  0363 9759 03A5 A885 1861                f   \n",
      "10165      0363650F325D464F5384                f   \n",
      "10166  0363 29DA 9893 0B73 3070                f   \n",
      "10167  0363 6F6A 6A5A 5BDA B659                t   \n",
      "\n",
      "      calculated_host_listings_count  \\\n",
      "0                                  1   \n",
      "1                                  2   \n",
      "2                                  2   \n",
      "3                                  1   \n",
      "4                                  1   \n",
      "...                              ...   \n",
      "10163                              1   \n",
      "10164                              1   \n",
      "10165                              1   \n",
      "10166                              3   \n",
      "10167                              3   \n",
      "\n",
      "      calculated_host_listings_count_entire_homes  \\\n",
      "0                                               0   \n",
      "1                                               0   \n",
      "2                                               0   \n",
      "3                                               1   \n",
      "4                                               1   \n",
      "...                                           ...   \n",
      "10163                                           1   \n",
      "10164                                           1   \n",
      "10165                                           1   \n",
      "10166                                           3   \n",
      "10167                                           2   \n",
      "\n",
      "      calculated_host_listings_count_private_rooms  \\\n",
      "0                                                1   \n",
      "1                                                2   \n",
      "2                                                2   \n",
      "3                                                0   \n",
      "4                                                0   \n",
      "...                                            ...   \n",
      "10163                                            0   \n",
      "10164                                            0   \n",
      "10165                                            0   \n",
      "10166                                            0   \n",
      "10167                                            1   \n",
      "\n",
      "      calculated_host_listings_count_shared_rooms reviews_per_month  \n",
      "0                                               0              1.85  \n",
      "1                                               0              3.93  \n",
      "2                                               0              4.74  \n",
      "3                                               0              0.23  \n",
      "4                                               0              1.13  \n",
      "...                                           ...               ...  \n",
      "10163                                           0               NaN  \n",
      "10164                                           0               NaN  \n",
      "10165                                           0               NaN  \n",
      "10166                                           0               NaN  \n",
      "10167                                           0               NaN  \n",
      "\n",
      "[10168 rows x 79 columns]\n"
     ]
    }
   ],
   "source": [
    "bnb = pd.read_csv(\"listings.csv\")\n",
    "print(bnb)"
   ]
  },
  {
   "cell_type": "code",
   "execution_count": 23,
   "id": "7af47dbc",
   "metadata": {},
   "outputs": [
    {
     "data": {
      "application/vnd.microsoft.datawrangler.viewer.v0+json": {
       "columns": [
        {
         "name": "index",
         "rawType": "int64",
         "type": "integer"
        },
        {
         "name": "id",
         "rawType": "int64",
         "type": "integer"
        },
        {
         "name": "listing_url",
         "rawType": "object",
         "type": "string"
        },
        {
         "name": "scrape_id",
         "rawType": "int64",
         "type": "integer"
        },
        {
         "name": "last_scraped",
         "rawType": "object",
         "type": "string"
        },
        {
         "name": "source",
         "rawType": "object",
         "type": "string"
        },
        {
         "name": "name",
         "rawType": "object",
         "type": "string"
        },
        {
         "name": "description",
         "rawType": "object",
         "type": "string"
        },
        {
         "name": "neighborhood_overview",
         "rawType": "object",
         "type": "unknown"
        },
        {
         "name": "picture_url",
         "rawType": "object",
         "type": "string"
        },
        {
         "name": "host_id",
         "rawType": "int64",
         "type": "integer"
        },
        {
         "name": "host_url",
         "rawType": "object",
         "type": "string"
        },
        {
         "name": "host_name",
         "rawType": "object",
         "type": "string"
        },
        {
         "name": "host_since",
         "rawType": "object",
         "type": "string"
        },
        {
         "name": "host_location",
         "rawType": "object",
         "type": "string"
        },
        {
         "name": "host_about",
         "rawType": "object",
         "type": "string"
        },
        {
         "name": "host_response_time",
         "rawType": "object",
         "type": "unknown"
        },
        {
         "name": "host_response_rate",
         "rawType": "object",
         "type": "unknown"
        },
        {
         "name": "host_acceptance_rate",
         "rawType": "object",
         "type": "unknown"
        },
        {
         "name": "host_is_superhost",
         "rawType": "object",
         "type": "string"
        },
        {
         "name": "host_thumbnail_url",
         "rawType": "object",
         "type": "string"
        },
        {
         "name": "host_picture_url",
         "rawType": "object",
         "type": "string"
        },
        {
         "name": "host_neighbourhood",
         "rawType": "object",
         "type": "unknown"
        },
        {
         "name": "host_listings_count",
         "rawType": "float64",
         "type": "float"
        },
        {
         "name": "host_total_listings_count",
         "rawType": "float64",
         "type": "float"
        },
        {
         "name": "host_verifications",
         "rawType": "object",
         "type": "string"
        },
        {
         "name": "host_has_profile_pic",
         "rawType": "object",
         "type": "string"
        },
        {
         "name": "host_identity_verified",
         "rawType": "object",
         "type": "string"
        },
        {
         "name": "neighbourhood",
         "rawType": "object",
         "type": "unknown"
        },
        {
         "name": "neighbourhood_cleansed",
         "rawType": "object",
         "type": "string"
        },
        {
         "name": "neighbourhood_group_cleansed",
         "rawType": "float64",
         "type": "float"
        },
        {
         "name": "latitude",
         "rawType": "float64",
         "type": "float"
        },
        {
         "name": "longitude",
         "rawType": "float64",
         "type": "float"
        },
        {
         "name": "property_type",
         "rawType": "object",
         "type": "string"
        },
        {
         "name": "room_type",
         "rawType": "object",
         "type": "string"
        },
        {
         "name": "accommodates",
         "rawType": "int64",
         "type": "integer"
        },
        {
         "name": "bathrooms",
         "rawType": "float64",
         "type": "float"
        },
        {
         "name": "bathrooms_text",
         "rawType": "object",
         "type": "string"
        },
        {
         "name": "bedrooms",
         "rawType": "float64",
         "type": "float"
        },
        {
         "name": "beds",
         "rawType": "float64",
         "type": "float"
        },
        {
         "name": "amenities",
         "rawType": "object",
         "type": "string"
        },
        {
         "name": "price",
         "rawType": "object",
         "type": "unknown"
        },
        {
         "name": "minimum_nights",
         "rawType": "int64",
         "type": "integer"
        },
        {
         "name": "maximum_nights",
         "rawType": "int64",
         "type": "integer"
        },
        {
         "name": "minimum_minimum_nights",
         "rawType": "int64",
         "type": "integer"
        },
        {
         "name": "maximum_minimum_nights",
         "rawType": "int64",
         "type": "integer"
        },
        {
         "name": "minimum_maximum_nights",
         "rawType": "int64",
         "type": "integer"
        },
        {
         "name": "maximum_maximum_nights",
         "rawType": "int64",
         "type": "integer"
        },
        {
         "name": "minimum_nights_avg_ntm",
         "rawType": "float64",
         "type": "float"
        },
        {
         "name": "maximum_nights_avg_ntm",
         "rawType": "float64",
         "type": "float"
        },
        {
         "name": "calendar_updated",
         "rawType": "float64",
         "type": "float"
        },
        {
         "name": "has_availability",
         "rawType": "object",
         "type": "string"
        },
        {
         "name": "availability_30",
         "rawType": "int64",
         "type": "integer"
        },
        {
         "name": "availability_60",
         "rawType": "int64",
         "type": "integer"
        },
        {
         "name": "availability_90",
         "rawType": "int64",
         "type": "integer"
        },
        {
         "name": "availability_365",
         "rawType": "int64",
         "type": "integer"
        },
        {
         "name": "calendar_last_scraped",
         "rawType": "object",
         "type": "string"
        },
        {
         "name": "number_of_reviews",
         "rawType": "int64",
         "type": "integer"
        },
        {
         "name": "number_of_reviews_ltm",
         "rawType": "int64",
         "type": "integer"
        },
        {
         "name": "number_of_reviews_l30d",
         "rawType": "int64",
         "type": "integer"
        },
        {
         "name": "availability_eoy",
         "rawType": "int64",
         "type": "integer"
        },
        {
         "name": "number_of_reviews_ly",
         "rawType": "int64",
         "type": "integer"
        },
        {
         "name": "estimated_occupancy_l365d",
         "rawType": "int64",
         "type": "integer"
        },
        {
         "name": "estimated_revenue_l365d",
         "rawType": "float64",
         "type": "float"
        },
        {
         "name": "first_review",
         "rawType": "object",
         "type": "string"
        },
        {
         "name": "last_review",
         "rawType": "object",
         "type": "string"
        },
        {
         "name": "review_scores_rating",
         "rawType": "float64",
         "type": "float"
        },
        {
         "name": "review_scores_accuracy",
         "rawType": "float64",
         "type": "float"
        },
        {
         "name": "review_scores_cleanliness",
         "rawType": "float64",
         "type": "float"
        },
        {
         "name": "review_scores_checkin",
         "rawType": "float64",
         "type": "float"
        },
        {
         "name": "review_scores_communication",
         "rawType": "float64",
         "type": "float"
        },
        {
         "name": "review_scores_location",
         "rawType": "float64",
         "type": "float"
        },
        {
         "name": "review_scores_value",
         "rawType": "float64",
         "type": "float"
        },
        {
         "name": "license",
         "rawType": "object",
         "type": "string"
        },
        {
         "name": "instant_bookable",
         "rawType": "object",
         "type": "string"
        },
        {
         "name": "calculated_host_listings_count",
         "rawType": "int64",
         "type": "integer"
        },
        {
         "name": "calculated_host_listings_count_entire_homes",
         "rawType": "int64",
         "type": "integer"
        },
        {
         "name": "calculated_host_listings_count_private_rooms",
         "rawType": "int64",
         "type": "integer"
        },
        {
         "name": "calculated_host_listings_count_shared_rooms",
         "rawType": "int64",
         "type": "integer"
        },
        {
         "name": "reviews_per_month",
         "rawType": "float64",
         "type": "float"
        }
       ],
       "ref": "976f6240-ac38-408a-af7a-83f0c22359da",
       "rows": [
        [
         "0",
         "27886",
         "https://www.airbnb.com/rooms/27886",
         "20250609011745",
         "2025-06-17",
         "city scrape",
         "Romantic, stylish B&B houseboat in canal district",
         "Stylish and romantic houseboat on fantastic historic location with breathtaking view.  Wheelhouse, deckhouse and captains room. Central, quiet. Great breakfast, 2 vanMoof design bikes and a Canadian Canoe are included. Just read the reviews on tripadvisor for instance!",
         "Central, quiet, safe, clean and beautiful.",
         "https://a0.muscache.com/pictures/02c2da9d-660e-451d-8a51-2f7a17469df7.jpg",
         "97647",
         "https://www.airbnb.com/users/show/97647",
         "Flip",
         "2010-03-23",
         "Amsterdam, Netherlands",
         "Marjan works in \"eye\" the dutch filmmuseum, and designs costumes for tv, film and theatre. Flip is an actor, mainly on stage, but also for film and tv. So for cultural advise, what to do, you are coming to the right place...\r\n\r\n",
         "within an hour",
         "100%",
         "98%",
         "t",
         "https://a0.muscache.com/im/users/97647/profile_pic/1273275077/original.jpg?aki_policy=profile_small",
         "https://a0.muscache.com/im/users/97647/profile_pic/1273275077/original.jpg?aki_policy=profile_x_medium",
         "Westelijke Eilanden",
         "1.0",
         "1.0",
         "['email', 'phone']",
         "t",
         "t",
         "Amsterdam, North Holland, Netherlands",
         "Centrum-West",
         null,
         "52.38761",
         "4.89188",
         "Private room in houseboat",
         "Private room",
         "2",
         "1.5",
         "1.5 baths",
         "1.0",
         "1.0",
         "[\"Coffee maker: Nespresso\", \"Shampoo\", \"Paid street parking off premises\", \"Essentials\", \"Waterfront\", \"Shower gel\", \"Mini fridge\", \"City skyline view\", \"Fast wifi \\u2013 245 Mbps\", \"Private entrance\", \"TV with standard cable\", \"Luggage dropoff allowed\", \"Outdoor furniture\", \"Long term stays allowed\", \"Self check-in\", \"Private patio or balcony\", \"Outdoor dining area\", \"Dedicated workspace\", \"Smoke alarm\", \"Hp neutral, eco friendly body soap\", \"Refrigerator\", \"Wine glasses\", \"Breakfast\", \"Harbor view\", \"Canal view\", \"Private backyard \\u2013 Not fully fenced\", \"Boat slip\", \"Hot water\", \"Garden view\", \"Clothing storage: closet\", \"Books and reading material\", \"Bed linens\", \"Hangers\", \"Smart lock\", \"Portable fans\", \"Central heating\", \"Carbon monoxide alarm\", \"Lake access\", \"Hair dryer\", \"Extra pillows and blankets\", \"Private living room\", \"Safe\", \"Fire extinguisher\", \"Laundromat nearby\", \"Heating - split type ductless system\", \"Bikes\", \"Air conditioning\", \"Coffee\", \"Kayak\", \"Dining table\"]",
         "$132.00",
         "3",
         "356",
         "3",
         "3",
         "30",
         "30",
         "3.0",
         "30.0",
         null,
         "t",
         "0",
         "0",
         "0",
         "53",
         "2025-06-17",
         "302",
         "28",
         "1",
         "53",
         "26",
         "218",
         "28776.0",
         "2012-01-09",
         "2025-06-11",
         "4.92",
         "4.9",
         "4.94",
         "4.95",
         "4.92",
         "4.9",
         "4.78",
         "0363 974D 4986 7411 88D8",
         "f",
         "1",
         "0",
         "1",
         "0",
         "1.85"
        ],
        [
         "1",
         "28871",
         "https://www.airbnb.com/rooms/28871",
         "20250609011745",
         "2025-06-17",
         "city scrape",
         "Comfortable double room",
         "Basic bedroom in the center of Amsterdam.",
         "Flower market , Leidseplein , Rembrantsplein",
         "https://a0.muscache.com/pictures/160889/362340f7_original.jpg",
         "124245",
         "https://www.airbnb.com/users/show/124245",
         "Edwin",
         "2010-05-13",
         "Amsterdam, Netherlands",
         "Hi",
         "within an hour",
         "100%",
         "99%",
         "t",
         "https://a0.muscache.com/im/pictures/user/9986bbdb-632f-42b5-a866-8e3307184977.jpg?aki_policy=profile_small",
         "https://a0.muscache.com/im/pictures/user/9986bbdb-632f-42b5-a866-8e3307184977.jpg?aki_policy=profile_x_medium",
         "Amsterdam Centrum",
         "2.0",
         "2.0",
         "['email', 'phone']",
         "t",
         "t",
         "Amsterdam, North Holland, Netherlands",
         "Centrum-West",
         null,
         "52.36775",
         "4.89092",
         "Private room in rental unit",
         "Private room",
         "2",
         "1.0",
         "1 shared bath",
         "1.0",
         "1.0",
         "[\"Carbon monoxide alarm\", \"Wifi\", \"Heating\", \"Iron\", \"Hair dryer\", \"Shampoo\", \"Bed linens\", \"Refrigerator\", \"Coffee maker\", \"Essentials\", \"Fire extinguisher\", \"Hot water\", \"Host greets you\", \"Hangers\", \"Private entrance\", \"Cleaning products\", \"Smoke alarm\", \"Lock on bedroom door\"]",
         "$78.00",
         "2",
         "730",
         "1",
         "2",
         "730",
         "730",
         "2.0",
         "730.0",
         null,
         "t",
         "1",
         "2",
         "4",
         "130",
         "2025-06-17",
         "710",
         "93",
         "9",
         "31",
         "96",
         "255",
         "19890.0",
         "2010-08-22",
         "2025-06-16",
         "4.88",
         "4.9",
         "4.87",
         "4.94",
         "4.94",
         "4.94",
         "4.84",
         "0363 607B EA74 0BD8 2F6F",
         "f",
         "2",
         "0",
         "2",
         "0",
         "3.93"
        ],
        [
         "2",
         "29051",
         "https://www.airbnb.com/rooms/29051",
         "20250609011745",
         "2025-06-17",
         "city scrape",
         "Comfortable single / double room",
         "This room can also be rented as a single or a small double<br /><br />Also a cat lives here",
         "the street is quite lively especially on weekends when the weather is good",
         "https://a0.muscache.com/pictures/162009/bd6be2f8_original.jpg",
         "124245",
         "https://www.airbnb.com/users/show/124245",
         "Edwin",
         "2010-05-13",
         "Amsterdam, Netherlands",
         "Hi",
         "within an hour",
         "100%",
         "99%",
         "t",
         "https://a0.muscache.com/im/pictures/user/9986bbdb-632f-42b5-a866-8e3307184977.jpg?aki_policy=profile_small",
         "https://a0.muscache.com/im/pictures/user/9986bbdb-632f-42b5-a866-8e3307184977.jpg?aki_policy=profile_x_medium",
         "Amsterdam Centrum",
         "2.0",
         "2.0",
         "['email', 'phone']",
         "t",
         "t",
         "Amsterdam, North Holland, Netherlands",
         "Centrum-Oost",
         null,
         "52.36584",
         "4.89111",
         "Private room in condo",
         "Private room",
         "2",
         "1.0",
         "1 shared bath",
         "1.0",
         "1.0",
         "[\"Carbon monoxide alarm\", \"Wifi\", \"Heating\", \"Iron\", \"Hair dryer\", \"Shampoo\", \"Bed linens\", \"Refrigerator\", \"Coffee maker\", \"Essentials\", \"Fire extinguisher\", \"Hot water\", \"Shower gel\", \"Host greets you\", \"Hangers\", \"Private entrance\", \"Smoke alarm\", \"Lock on bedroom door\"]",
         "$70.00",
         "2",
         "730",
         "1",
         "2",
         "730",
         "730",
         "2.0",
         "730.0",
         null,
         "t",
         "0",
         "1",
         "3",
         "121",
         "2025-06-17",
         "822",
         "86",
         "7",
         "20",
         "88",
         "255",
         "17850.0",
         "2011-03-16",
         "2025-06-14",
         "4.81",
         "4.88",
         "4.83",
         "4.93",
         "4.92",
         "4.87",
         "4.79",
         "0363 607B EA74 0BD8 2F6F",
         "f",
         "2",
         "0",
         "2",
         "0",
         "4.74"
        ],
        [
         "3",
         "44391",
         "https://www.airbnb.com/rooms/44391",
         "20250609011745",
         "2025-06-17",
         "previous scrape",
         "Quiet 2-bedroom Amsterdam city centre apartment",
         "Guests greatly appreciate the unique location of the apartment. It is located in a very quiet part of the city centre whilst only 1,5km away from central station. A bus takes you there directly in just five minutes. Restaurants, bars, musea, the Amsterdam Zoo and the popular citypark Marineterrein are just around the corner. The apartment itself is very well isolated so you can sleep in silence. The large private terrace provides you, directly from the kitchen, a nice outdoor space! Have a look!",
         "The appartment is located in the city centre. Famous Amsterdam places such as the Amsterdam Zoo and the Maritime Museam are in 5 minutes walking distance. The supermarket is literally the next door!",
         "https://a0.muscache.com/pictures/97741545/39000c13_original.jpg",
         "194779",
         "https://www.airbnb.com/users/show/194779",
         "Jan",
         "2010-08-08",
         "Amsterdam, Netherlands",
         "Love to travel while hosting and to host while travelling!",
         null,
         null,
         null,
         "f",
         "https://a0.muscache.com/im/users/194779/profile_pic/1436464796/original.jpg?aki_policy=profile_small",
         "https://a0.muscache.com/im/users/194779/profile_pic/1436464796/original.jpg?aki_policy=profile_x_medium",
         "Oostelijke Eilanden en Kadijken",
         "1.0",
         "1.0",
         "['email', 'phone']",
         "t",
         "t",
         "Amsterdam, Noord-Holland, Netherlands",
         "Centrum-Oost",
         null,
         "52.37168",
         "4.91471",
         "Entire rental unit",
         "Entire home/apt",
         "4",
         null,
         "1.5 baths",
         "2.0",
         null,
         "[\"Shampoo\", \"Essentials\", \"Dishwasher\", \"Paid parking off premises\", \"Shower gel\", \"Private entrance\", \"TV with standard cable\", \"Washer\", \"Luggage dropoff allowed\", \"Coffee maker\", \"Cooking basics\", \"Smoke alarm\", \"Refrigerator\", \"Wifi\", \"Stove\", \"Iron\", \"Hot water\", \"Bed linens\", \"Kitchen\", \"Hangers\", \"Carbon monoxide alarm\", \"Heating\", \"Dishes and silverware\", \"Paid parking on premises\", \"Hair dryer\", \"Extra pillows and blankets\", \"Oven\", \"Patio or balcony\", \"Air conditioning\", \"Host greets you\", \"Microwave\"]",
         null,
         "3",
         "730",
         "3",
         "3",
         "730",
         "730",
         "3.0",
         "730.0",
         null,
         "t",
         "0",
         "0",
         "0",
         "0",
         "2025-06-17",
         "42",
         "0",
         "0",
         "0",
         "0",
         "0",
         null,
         "2010-09-16",
         "2022-08-20",
         "4.71",
         "4.68",
         "4.49",
         "4.95",
         "4.9",
         "4.68",
         "4.5",
         "0363 E76E F06A C1DD 172C",
         "f",
         "1",
         "1",
         "0",
         "0",
         "0.23"
        ],
        [
         "4",
         "47061",
         "https://www.airbnb.com/rooms/47061",
         "20250609011745",
         "2025-06-17",
         "city scrape",
         "Charming apartment in old centre",
         "A beautiful, quiet apartment in the center of Amsterdam with view over the canal.",
         null,
         "https://a0.muscache.com/pictures/268343/a08ce201_original.jpg",
         "211696",
         "https://www.airbnb.com/users/show/211696",
         "Ivar",
         "2010-08-24",
         "Netherlands",
         "Hi, I am a freelance theatre director and composer living in both Amsterdam and Berlin together with my partner Maaike, who is also a theatre director, and our cute little twin boys Ilja and Cyril. We tend to go where ever we find interesting projects in theatre and music theatre. Apart from that we like to travel to see new parts of the world or show them to our boys. We like Asia. We both love opera but I at the same time am a huge fan of My Bloody Valentine and The Fall for instance. Maaike is very much into art-photographing. ",
         "within a few hours",
         "100%",
         "50%",
         "f",
         "https://a0.muscache.com/im/pictures/user/0a2a381d-4032-48ca-a77b-d379d98da98a.jpg?aki_policy=profile_small",
         "https://a0.muscache.com/im/pictures/user/0a2a381d-4032-48ca-a77b-d379d98da98a.jpg?aki_policy=profile_x_medium",
         null,
         "1.0",
         "2.0",
         "['email', 'phone']",
         "t",
         "t",
         null,
         "De Baarsjes - Oud-West",
         null,
         "52.36786",
         "4.87458",
         "Entire rental unit",
         "Entire home/apt",
         "3",
         "1.5",
         "1.5 baths",
         "2.0",
         "2.0",
         "[\"Shampoo\", \"Paid street parking off premises\", \"Single level home\", \"Essentials\", \"Dishwasher\", \"Waterfront\", \"Private entrance\", \"TV with standard cable\", \"Pack \\u2019n play/Travel crib\", \"Washer\", \"Long term stays allowed\", \"Coffee maker\", \"Piano\", \"Cooking basics\", \"Cleaning products\", \"Smoke alarm\", \"Freezer\", \"Refrigerator\", \"Wifi\", \"Stove\", \"Sound system\", \"Wine glasses\", \"Canal view\", \"Cleaning available during stay\", \"Conditioner\", \"First aid kit\", \"Hot water\", \"Clothing storage: closet\", \"Books and reading material\", \"Bed linens\", \"Hangers\", \"Kitchen\", \"Carbon monoxide alarm\", \"Heating\", \"Dishes and silverware\", \"Hair dryer\", \"Body soap\", \"Oven\", \"Fire extinguisher\", \"Coffee\", \"Host greets you\", \"Dining table\", \"Hot water kettle\"]",
         "$120.00",
         "2",
         "20",
         "2",
         "2",
         "20",
         "20",
         "2.0",
         "20.0",
         null,
         "t",
         "1",
         "1",
         "1",
         "66",
         "2025-06-17",
         "203",
         "5",
         "1",
         "1",
         "6",
         "39",
         "4680.0",
         "2010-09-13",
         "2025-05-29",
         "4.77",
         "4.78",
         "4.61",
         "4.76",
         "4.9",
         "4.85",
         "4.63",
         "0363 1266 8C04 4133 E6AC",
         "f",
         "1",
         "1",
         "0",
         "0",
         "1.13"
        ]
       ],
       "shape": {
        "columns": 79,
        "rows": 5
       }
      },
      "text/html": [
       "<div>\n",
       "<style scoped>\n",
       "    .dataframe tbody tr th:only-of-type {\n",
       "        vertical-align: middle;\n",
       "    }\n",
       "\n",
       "    .dataframe tbody tr th {\n",
       "        vertical-align: top;\n",
       "    }\n",
       "\n",
       "    .dataframe thead th {\n",
       "        text-align: right;\n",
       "    }\n",
       "</style>\n",
       "<table border=\"1\" class=\"dataframe\">\n",
       "  <thead>\n",
       "    <tr style=\"text-align: right;\">\n",
       "      <th></th>\n",
       "      <th>id</th>\n",
       "      <th>listing_url</th>\n",
       "      <th>scrape_id</th>\n",
       "      <th>last_scraped</th>\n",
       "      <th>source</th>\n",
       "      <th>name</th>\n",
       "      <th>description</th>\n",
       "      <th>neighborhood_overview</th>\n",
       "      <th>picture_url</th>\n",
       "      <th>host_id</th>\n",
       "      <th>...</th>\n",
       "      <th>review_scores_communication</th>\n",
       "      <th>review_scores_location</th>\n",
       "      <th>review_scores_value</th>\n",
       "      <th>license</th>\n",
       "      <th>instant_bookable</th>\n",
       "      <th>calculated_host_listings_count</th>\n",
       "      <th>calculated_host_listings_count_entire_homes</th>\n",
       "      <th>calculated_host_listings_count_private_rooms</th>\n",
       "      <th>calculated_host_listings_count_shared_rooms</th>\n",
       "      <th>reviews_per_month</th>\n",
       "    </tr>\n",
       "  </thead>\n",
       "  <tbody>\n",
       "    <tr>\n",
       "      <th>0</th>\n",
       "      <td>27886</td>\n",
       "      <td>https://www.airbnb.com/rooms/27886</td>\n",
       "      <td>20250609011745</td>\n",
       "      <td>2025-06-17</td>\n",
       "      <td>city scrape</td>\n",
       "      <td>Romantic, stylish B&amp;B houseboat in canal district</td>\n",
       "      <td>Stylish and romantic houseboat on fantastic hi...</td>\n",
       "      <td>Central, quiet, safe, clean and beautiful.</td>\n",
       "      <td>https://a0.muscache.com/pictures/02c2da9d-660e...</td>\n",
       "      <td>97647</td>\n",
       "      <td>...</td>\n",
       "      <td>4.92</td>\n",
       "      <td>4.90</td>\n",
       "      <td>4.78</td>\n",
       "      <td>0363 974D 4986 7411 88D8</td>\n",
       "      <td>f</td>\n",
       "      <td>1</td>\n",
       "      <td>0</td>\n",
       "      <td>1</td>\n",
       "      <td>0</td>\n",
       "      <td>1.85</td>\n",
       "    </tr>\n",
       "    <tr>\n",
       "      <th>1</th>\n",
       "      <td>28871</td>\n",
       "      <td>https://www.airbnb.com/rooms/28871</td>\n",
       "      <td>20250609011745</td>\n",
       "      <td>2025-06-17</td>\n",
       "      <td>city scrape</td>\n",
       "      <td>Comfortable double room</td>\n",
       "      <td>Basic bedroom in the center of Amsterdam.</td>\n",
       "      <td>Flower market , Leidseplein , Rembrantsplein</td>\n",
       "      <td>https://a0.muscache.com/pictures/160889/362340...</td>\n",
       "      <td>124245</td>\n",
       "      <td>...</td>\n",
       "      <td>4.94</td>\n",
       "      <td>4.94</td>\n",
       "      <td>4.84</td>\n",
       "      <td>0363 607B EA74 0BD8 2F6F</td>\n",
       "      <td>f</td>\n",
       "      <td>2</td>\n",
       "      <td>0</td>\n",
       "      <td>2</td>\n",
       "      <td>0</td>\n",
       "      <td>3.93</td>\n",
       "    </tr>\n",
       "    <tr>\n",
       "      <th>2</th>\n",
       "      <td>29051</td>\n",
       "      <td>https://www.airbnb.com/rooms/29051</td>\n",
       "      <td>20250609011745</td>\n",
       "      <td>2025-06-17</td>\n",
       "      <td>city scrape</td>\n",
       "      <td>Comfortable single / double room</td>\n",
       "      <td>This room can also be rented as a single or a ...</td>\n",
       "      <td>the street is quite lively especially on weeke...</td>\n",
       "      <td>https://a0.muscache.com/pictures/162009/bd6be2...</td>\n",
       "      <td>124245</td>\n",
       "      <td>...</td>\n",
       "      <td>4.92</td>\n",
       "      <td>4.87</td>\n",
       "      <td>4.79</td>\n",
       "      <td>0363 607B EA74 0BD8 2F6F</td>\n",
       "      <td>f</td>\n",
       "      <td>2</td>\n",
       "      <td>0</td>\n",
       "      <td>2</td>\n",
       "      <td>0</td>\n",
       "      <td>4.74</td>\n",
       "    </tr>\n",
       "    <tr>\n",
       "      <th>3</th>\n",
       "      <td>44391</td>\n",
       "      <td>https://www.airbnb.com/rooms/44391</td>\n",
       "      <td>20250609011745</td>\n",
       "      <td>2025-06-17</td>\n",
       "      <td>previous scrape</td>\n",
       "      <td>Quiet 2-bedroom Amsterdam city centre apartment</td>\n",
       "      <td>Guests greatly appreciate the unique location ...</td>\n",
       "      <td>The appartment is located in the city centre. ...</td>\n",
       "      <td>https://a0.muscache.com/pictures/97741545/3900...</td>\n",
       "      <td>194779</td>\n",
       "      <td>...</td>\n",
       "      <td>4.90</td>\n",
       "      <td>4.68</td>\n",
       "      <td>4.50</td>\n",
       "      <td>0363 E76E F06A C1DD 172C</td>\n",
       "      <td>f</td>\n",
       "      <td>1</td>\n",
       "      <td>1</td>\n",
       "      <td>0</td>\n",
       "      <td>0</td>\n",
       "      <td>0.23</td>\n",
       "    </tr>\n",
       "    <tr>\n",
       "      <th>4</th>\n",
       "      <td>47061</td>\n",
       "      <td>https://www.airbnb.com/rooms/47061</td>\n",
       "      <td>20250609011745</td>\n",
       "      <td>2025-06-17</td>\n",
       "      <td>city scrape</td>\n",
       "      <td>Charming apartment in old centre</td>\n",
       "      <td>A beautiful, quiet apartment in the center of ...</td>\n",
       "      <td>NaN</td>\n",
       "      <td>https://a0.muscache.com/pictures/268343/a08ce2...</td>\n",
       "      <td>211696</td>\n",
       "      <td>...</td>\n",
       "      <td>4.90</td>\n",
       "      <td>4.85</td>\n",
       "      <td>4.63</td>\n",
       "      <td>0363 1266 8C04 4133 E6AC</td>\n",
       "      <td>f</td>\n",
       "      <td>1</td>\n",
       "      <td>1</td>\n",
       "      <td>0</td>\n",
       "      <td>0</td>\n",
       "      <td>1.13</td>\n",
       "    </tr>\n",
       "  </tbody>\n",
       "</table>\n",
       "<p>5 rows × 79 columns</p>\n",
       "</div>"
      ],
      "text/plain": [
       "      id                         listing_url       scrape_id last_scraped  \\\n",
       "0  27886  https://www.airbnb.com/rooms/27886  20250609011745   2025-06-17   \n",
       "1  28871  https://www.airbnb.com/rooms/28871  20250609011745   2025-06-17   \n",
       "2  29051  https://www.airbnb.com/rooms/29051  20250609011745   2025-06-17   \n",
       "3  44391  https://www.airbnb.com/rooms/44391  20250609011745   2025-06-17   \n",
       "4  47061  https://www.airbnb.com/rooms/47061  20250609011745   2025-06-17   \n",
       "\n",
       "            source                                               name  \\\n",
       "0      city scrape  Romantic, stylish B&B houseboat in canal district   \n",
       "1      city scrape                            Comfortable double room   \n",
       "2      city scrape                   Comfortable single / double room   \n",
       "3  previous scrape    Quiet 2-bedroom Amsterdam city centre apartment   \n",
       "4      city scrape                   Charming apartment in old centre   \n",
       "\n",
       "                                         description  \\\n",
       "0  Stylish and romantic houseboat on fantastic hi...   \n",
       "1          Basic bedroom in the center of Amsterdam.   \n",
       "2  This room can also be rented as a single or a ...   \n",
       "3  Guests greatly appreciate the unique location ...   \n",
       "4  A beautiful, quiet apartment in the center of ...   \n",
       "\n",
       "                               neighborhood_overview  \\\n",
       "0         Central, quiet, safe, clean and beautiful.   \n",
       "1       Flower market , Leidseplein , Rembrantsplein   \n",
       "2  the street is quite lively especially on weeke...   \n",
       "3  The appartment is located in the city centre. ...   \n",
       "4                                                NaN   \n",
       "\n",
       "                                         picture_url  host_id  ...  \\\n",
       "0  https://a0.muscache.com/pictures/02c2da9d-660e...    97647  ...   \n",
       "1  https://a0.muscache.com/pictures/160889/362340...   124245  ...   \n",
       "2  https://a0.muscache.com/pictures/162009/bd6be2...   124245  ...   \n",
       "3  https://a0.muscache.com/pictures/97741545/3900...   194779  ...   \n",
       "4  https://a0.muscache.com/pictures/268343/a08ce2...   211696  ...   \n",
       "\n",
       "  review_scores_communication review_scores_location review_scores_value  \\\n",
       "0                        4.92                   4.90                4.78   \n",
       "1                        4.94                   4.94                4.84   \n",
       "2                        4.92                   4.87                4.79   \n",
       "3                        4.90                   4.68                4.50   \n",
       "4                        4.90                   4.85                4.63   \n",
       "\n",
       "                    license instant_bookable calculated_host_listings_count  \\\n",
       "0  0363 974D 4986 7411 88D8                f                              1   \n",
       "1  0363 607B EA74 0BD8 2F6F                f                              2   \n",
       "2  0363 607B EA74 0BD8 2F6F                f                              2   \n",
       "3  0363 E76E F06A C1DD 172C                f                              1   \n",
       "4  0363 1266 8C04 4133 E6AC                f                              1   \n",
       "\n",
       "  calculated_host_listings_count_entire_homes  \\\n",
       "0                                           0   \n",
       "1                                           0   \n",
       "2                                           0   \n",
       "3                                           1   \n",
       "4                                           1   \n",
       "\n",
       "  calculated_host_listings_count_private_rooms  \\\n",
       "0                                            1   \n",
       "1                                            2   \n",
       "2                                            2   \n",
       "3                                            0   \n",
       "4                                            0   \n",
       "\n",
       "  calculated_host_listings_count_shared_rooms reviews_per_month  \n",
       "0                                           0              1.85  \n",
       "1                                           0              3.93  \n",
       "2                                           0              4.74  \n",
       "3                                           0              0.23  \n",
       "4                                           0              1.13  \n",
       "\n",
       "[5 rows x 79 columns]"
      ]
     },
     "execution_count": 23,
     "metadata": {},
     "output_type": "execute_result"
    }
   ],
   "source": [
    "bnb.head(5)"
   ]
  },
  {
   "cell_type": "markdown",
   "id": "9338a973",
   "metadata": {},
   "source": [
    "---\n",
    "# **1. Identify and Handling Missing Values**"
   ]
  },
  {
   "cell_type": "markdown",
   "id": "0c35a860",
   "metadata": {},
   "source": [
    "- Salah satu permasalah yang sering muncul, yaitu adanya missing value pada data.\n",
    "- Dalam notebook ini, kolom yang memiliki persentase missing value lebih dari 90% akan dihapus dari dataset.\n",
    "- Sebelum melakukannya, terlebih dahulu akan kita identifikasi kolom yang memiliki missing value."
   ]
  },
  {
   "cell_type": "code",
   "execution_count": 24,
   "id": "21e7aed6",
   "metadata": {},
   "outputs": [],
   "source": [
    "# mengubah setting dispaly kolom maksimum dari pandas dataframe untuk melihat keseluruhan data\n",
    "pd.set_option(\"display.max_rows\", len(bnb.columns))"
   ]
  },
  {
   "cell_type": "code",
   "execution_count": 25,
   "id": "cb014e5b",
   "metadata": {},
   "outputs": [
    {
     "data": {
      "application/vnd.microsoft.datawrangler.viewer.v0+json": {
       "columns": [
        {
         "name": "index",
         "rawType": "object",
         "type": "string"
        },
        {
         "name": "0",
         "rawType": "int64",
         "type": "integer"
        }
       ],
       "ref": "3641de77-0c0f-4f4e-afa6-5ed4de6dc7dd",
       "rows": [
        [
         "neighbourhood_group_cleansed",
         "10168"
        ],
        [
         "calendar_updated",
         "10168"
        ],
        [
         "host_neighbourhood",
         "7354"
        ],
        [
         "neighbourhood",
         "4910"
        ],
        [
         "neighborhood_overview",
         "4910"
        ],
        [
         "host_about",
         "4796"
        ],
        [
         "estimated_revenue_l365d",
         "3847"
        ],
        [
         "price",
         "3847"
        ],
        [
         "beds",
         "3827"
        ],
        [
         "bathrooms",
         "3791"
        ],
        [
         "host_response_rate",
         "3528"
        ],
        [
         "host_response_time",
         "3528"
        ],
        [
         "host_acceptance_rate",
         "2231"
        ],
        [
         "host_location",
         "1144"
        ],
        [
         "review_scores_cleanliness",
         "971"
        ],
        [
         "last_review",
         "970"
        ],
        [
         "review_scores_location",
         "970"
        ],
        [
         "review_scores_checkin",
         "970"
        ],
        [
         "review_scores_accuracy",
         "970"
        ],
        [
         "review_scores_rating",
         "970"
        ],
        [
         "first_review",
         "970"
        ],
        [
         "reviews_per_month",
         "970"
        ],
        [
         "review_scores_communication",
         "970"
        ],
        [
         "review_scores_value",
         "970"
        ],
        [
         "has_availability",
         "319"
        ],
        [
         "description",
         "309"
        ],
        [
         "bedrooms",
         "294"
        ],
        [
         "license",
         "106"
        ],
        [
         "host_is_superhost",
         "99"
        ],
        [
         "bathrooms_text",
         "6"
        ],
        [
         "host_identity_verified",
         "4"
        ],
        [
         "host_verifications",
         "4"
        ],
        [
         "host_total_listings_count",
         "4"
        ],
        [
         "host_listings_count",
         "4"
        ],
        [
         "host_picture_url",
         "4"
        ],
        [
         "host_thumbnail_url",
         "4"
        ],
        [
         "host_since",
         "4"
        ],
        [
         "host_name",
         "4"
        ],
        [
         "host_has_profile_pic",
         "4"
        ],
        [
         "availability_90",
         "0"
        ],
        [
         "number_of_reviews_l30d",
         "0"
        ],
        [
         "calendar_last_scraped",
         "0"
        ],
        [
         "calculated_host_listings_count_shared_rooms",
         "0"
        ],
        [
         "calculated_host_listings_count_private_rooms",
         "0"
        ],
        [
         "number_of_reviews",
         "0"
        ],
        [
         "number_of_reviews_ltm",
         "0"
        ],
        [
         "calculated_host_listings_count_entire_homes",
         "0"
        ],
        [
         "availability_eoy",
         "0"
        ],
        [
         "number_of_reviews_ly",
         "0"
        ],
        [
         "estimated_occupancy_l365d",
         "0"
        ]
       ],
       "shape": {
        "columns": 1,
        "rows": 79
       }
      },
      "text/plain": [
       "neighbourhood_group_cleansed                    10168\n",
       "calendar_updated                                10168\n",
       "host_neighbourhood                               7354\n",
       "neighbourhood                                    4910\n",
       "neighborhood_overview                            4910\n",
       "host_about                                       4796\n",
       "estimated_revenue_l365d                          3847\n",
       "price                                            3847\n",
       "beds                                             3827\n",
       "bathrooms                                        3791\n",
       "host_response_rate                               3528\n",
       "host_response_time                               3528\n",
       "host_acceptance_rate                             2231\n",
       "host_location                                    1144\n",
       "review_scores_cleanliness                         971\n",
       "last_review                                       970\n",
       "review_scores_location                            970\n",
       "review_scores_checkin                             970\n",
       "review_scores_accuracy                            970\n",
       "review_scores_rating                              970\n",
       "first_review                                      970\n",
       "reviews_per_month                                 970\n",
       "review_scores_communication                       970\n",
       "review_scores_value                               970\n",
       "has_availability                                  319\n",
       "description                                       309\n",
       "bedrooms                                          294\n",
       "license                                           106\n",
       "host_is_superhost                                  99\n",
       "bathrooms_text                                      6\n",
       "host_identity_verified                              4\n",
       "host_verifications                                  4\n",
       "host_total_listings_count                           4\n",
       "host_listings_count                                 4\n",
       "host_picture_url                                    4\n",
       "host_thumbnail_url                                  4\n",
       "host_since                                          4\n",
       "host_name                                           4\n",
       "host_has_profile_pic                                4\n",
       "availability_90                                     0\n",
       "number_of_reviews_l30d                              0\n",
       "calendar_last_scraped                               0\n",
       "calculated_host_listings_count_shared_rooms         0\n",
       "calculated_host_listings_count_private_rooms        0\n",
       "number_of_reviews                                   0\n",
       "number_of_reviews_ltm                               0\n",
       "calculated_host_listings_count_entire_homes         0\n",
       "availability_eoy                                    0\n",
       "number_of_reviews_ly                                0\n",
       "estimated_occupancy_l365d                           0\n",
       "calculated_host_listings_count                      0\n",
       "instant_bookable                                    0\n",
       "availability_365                                    0\n",
       "id                                                  0\n",
       "availability_60                                     0\n",
       "property_type                                       0\n",
       "scrape_id                                           0\n",
       "last_scraped                                        0\n",
       "source                                              0\n",
       "name                                                0\n",
       "picture_url                                         0\n",
       "host_id                                             0\n",
       "host_url                                            0\n",
       "neighbourhood_cleansed                              0\n",
       "latitude                                            0\n",
       "longitude                                           0\n",
       "room_type                                           0\n",
       "availability_30                                     0\n",
       "accommodates                                        0\n",
       "listing_url                                         0\n",
       "minimum_nights                                      0\n",
       "maximum_nights                                      0\n",
       "minimum_minimum_nights                              0\n",
       "maximum_minimum_nights                              0\n",
       "minimum_maximum_nights                              0\n",
       "maximum_maximum_nights                              0\n",
       "minimum_nights_avg_ntm                              0\n",
       "maximum_nights_avg_ntm                              0\n",
       "amenities                                           0\n",
       "dtype: int64"
      ]
     },
     "execution_count": 25,
     "metadata": {},
     "output_type": "execute_result"
    }
   ],
   "source": [
    "# mendapatkan jumlah missing value tiap kolom\n",
    "# dan mengurutkan dari yang terbesar ke terkecil\n",
    "nan_col = bnb.isna().sum().sort_values(ascending= False)\n",
    "nan_col"
   ]
  },
  {
   "cell_type": "code",
   "execution_count": 26,
   "id": "b59b1cac",
   "metadata": {},
   "outputs": [
    {
     "data": {
      "application/vnd.microsoft.datawrangler.viewer.v0+json": {
       "columns": [
        {
         "name": "index",
         "rawType": "object",
         "type": "string"
        },
        {
         "name": "0",
         "rawType": "float64",
         "type": "float"
        }
       ],
       "ref": "8325febd-74b6-4a53-8b08-c1d36f752a32",
       "rows": [
        [
         "neighbourhood_group_cleansed",
         "100.0"
        ],
        [
         "calendar_updated",
         "100.0"
        ],
        [
         "host_neighbourhood",
         "72.3249409913454"
        ],
        [
         "neighbourhood",
         "48.288749016522424"
        ],
        [
         "neighborhood_overview",
         "48.288749016522424"
        ],
        [
         "host_about",
         "47.1675845790716"
        ],
        [
         "estimated_revenue_l365d",
         "37.83438237608183"
        ],
        [
         "price",
         "37.83438237608183"
        ],
        [
         "beds",
         "37.63768686073958"
        ],
        [
         "bathrooms",
         "37.28363493312353"
        ],
        [
         "host_response_rate",
         "34.69708890637293"
        ],
        [
         "host_response_time",
         "34.69708890637293"
        ],
        [
         "host_acceptance_rate",
         "21.94138473642801"
        ],
        [
         "host_location",
         "11.25098347757671"
        ],
        [
         "review_scores_cleanliness",
         "9.549567269866246"
        ],
        [
         "last_review",
         "9.539732494099134"
        ],
        [
         "review_scores_location",
         "9.539732494099134"
        ],
        [
         "review_scores_checkin",
         "9.539732494099134"
        ],
        [
         "review_scores_accuracy",
         "9.539732494099134"
        ],
        [
         "review_scores_rating",
         "9.539732494099134"
        ],
        [
         "first_review",
         "9.539732494099134"
        ],
        [
         "reviews_per_month",
         "9.539732494099134"
        ],
        [
         "review_scores_communication",
         "9.539732494099134"
        ],
        [
         "review_scores_value",
         "9.539732494099134"
        ],
        [
         "has_availability",
         "3.1372934697088906"
        ],
        [
         "description",
         "3.038945712037765"
        ],
        [
         "bedrooms",
         "2.891424075531078"
        ],
        [
         "license",
         "1.042486231313926"
        ],
        [
         "host_is_superhost",
         "0.9736428009441386"
        ],
        [
         "bathrooms_text",
         "0.059008654602675056"
        ],
        [
         "host_identity_verified",
         "0.03933910306845004"
        ],
        [
         "host_verifications",
         "0.03933910306845004"
        ],
        [
         "host_total_listings_count",
         "0.03933910306845004"
        ],
        [
         "host_listings_count",
         "0.03933910306845004"
        ],
        [
         "host_picture_url",
         "0.03933910306845004"
        ],
        [
         "host_thumbnail_url",
         "0.03933910306845004"
        ],
        [
         "host_since",
         "0.03933910306845004"
        ],
        [
         "host_name",
         "0.03933910306845004"
        ],
        [
         "host_has_profile_pic",
         "0.03933910306845004"
        ],
        [
         "availability_90",
         "0.0"
        ],
        [
         "number_of_reviews_l30d",
         "0.0"
        ],
        [
         "calendar_last_scraped",
         "0.0"
        ],
        [
         "calculated_host_listings_count_shared_rooms",
         "0.0"
        ],
        [
         "calculated_host_listings_count_private_rooms",
         "0.0"
        ],
        [
         "number_of_reviews",
         "0.0"
        ],
        [
         "number_of_reviews_ltm",
         "0.0"
        ],
        [
         "calculated_host_listings_count_entire_homes",
         "0.0"
        ],
        [
         "availability_eoy",
         "0.0"
        ],
        [
         "number_of_reviews_ly",
         "0.0"
        ],
        [
         "estimated_occupancy_l365d",
         "0.0"
        ]
       ],
       "shape": {
        "columns": 1,
        "rows": 79
       }
      },
      "text/plain": [
       "neighbourhood_group_cleansed                    100.000000\n",
       "calendar_updated                                100.000000\n",
       "host_neighbourhood                               72.324941\n",
       "neighbourhood                                    48.288749\n",
       "neighborhood_overview                            48.288749\n",
       "host_about                                       47.167585\n",
       "estimated_revenue_l365d                          37.834382\n",
       "price                                            37.834382\n",
       "beds                                             37.637687\n",
       "bathrooms                                        37.283635\n",
       "host_response_rate                               34.697089\n",
       "host_response_time                               34.697089\n",
       "host_acceptance_rate                             21.941385\n",
       "host_location                                    11.250983\n",
       "review_scores_cleanliness                         9.549567\n",
       "last_review                                       9.539732\n",
       "review_scores_location                            9.539732\n",
       "review_scores_checkin                             9.539732\n",
       "review_scores_accuracy                            9.539732\n",
       "review_scores_rating                              9.539732\n",
       "first_review                                      9.539732\n",
       "reviews_per_month                                 9.539732\n",
       "review_scores_communication                       9.539732\n",
       "review_scores_value                               9.539732\n",
       "has_availability                                  3.137293\n",
       "description                                       3.038946\n",
       "bedrooms                                          2.891424\n",
       "license                                           1.042486\n",
       "host_is_superhost                                 0.973643\n",
       "bathrooms_text                                    0.059009\n",
       "host_identity_verified                            0.039339\n",
       "host_verifications                                0.039339\n",
       "host_total_listings_count                         0.039339\n",
       "host_listings_count                               0.039339\n",
       "host_picture_url                                  0.039339\n",
       "host_thumbnail_url                                0.039339\n",
       "host_since                                        0.039339\n",
       "host_name                                         0.039339\n",
       "host_has_profile_pic                              0.039339\n",
       "availability_90                                   0.000000\n",
       "number_of_reviews_l30d                            0.000000\n",
       "calendar_last_scraped                             0.000000\n",
       "calculated_host_listings_count_shared_rooms       0.000000\n",
       "calculated_host_listings_count_private_rooms      0.000000\n",
       "number_of_reviews                                 0.000000\n",
       "number_of_reviews_ltm                             0.000000\n",
       "calculated_host_listings_count_entire_homes       0.000000\n",
       "availability_eoy                                  0.000000\n",
       "number_of_reviews_ly                              0.000000\n",
       "estimated_occupancy_l365d                         0.000000\n",
       "calculated_host_listings_count                    0.000000\n",
       "instant_bookable                                  0.000000\n",
       "availability_365                                  0.000000\n",
       "id                                                0.000000\n",
       "availability_60                                   0.000000\n",
       "property_type                                     0.000000\n",
       "scrape_id                                         0.000000\n",
       "last_scraped                                      0.000000\n",
       "source                                            0.000000\n",
       "name                                              0.000000\n",
       "picture_url                                       0.000000\n",
       "host_id                                           0.000000\n",
       "host_url                                          0.000000\n",
       "neighbourhood_cleansed                            0.000000\n",
       "latitude                                          0.000000\n",
       "longitude                                         0.000000\n",
       "room_type                                         0.000000\n",
       "availability_30                                   0.000000\n",
       "accommodates                                      0.000000\n",
       "listing_url                                       0.000000\n",
       "minimum_nights                                    0.000000\n",
       "maximum_nights                                    0.000000\n",
       "minimum_minimum_nights                            0.000000\n",
       "maximum_minimum_nights                            0.000000\n",
       "minimum_maximum_nights                            0.000000\n",
       "maximum_maximum_nights                            0.000000\n",
       "minimum_nights_avg_ntm                            0.000000\n",
       "maximum_nights_avg_ntm                            0.000000\n",
       "amenities                                         0.000000\n",
       "dtype: float64"
      ]
     },
     "execution_count": 26,
     "metadata": {},
     "output_type": "execute_result"
    }
   ],
   "source": [
    "# mendapatkan presentase missing values tiap kolom\n",
    "n_data = len(bnb)\n",
    "\n",
    "# mencari presentase nan / missing values dengan cara membagi missing values / n_data * 100\n",
    "percent_nan_col = (nan_col/n_data) * 100\n",
    "percent_nan_col"
   ]
  },
  {
   "cell_type": "code",
   "execution_count": 27,
   "id": "fc40f3cc",
   "metadata": {},
   "outputs": [
    {
     "data": {
      "application/vnd.microsoft.datawrangler.viewer.v0+json": {
       "columns": [
        {
         "name": "index",
         "rawType": "object",
         "type": "string"
        },
        {
         "name": "%nan",
         "rawType": "float64",
         "type": "float"
        }
       ],
       "ref": "b51f4802-36a8-4cbc-b1e1-7d2899763cb4",
       "rows": [
        [
         "neighbourhood_group_cleansed",
         "100.0"
        ],
        [
         "calendar_updated",
         "100.0"
        ],
        [
         "host_neighbourhood",
         "72.3249409913454"
        ],
        [
         "neighbourhood",
         "48.288749016522424"
        ],
        [
         "neighborhood_overview",
         "48.288749016522424"
        ],
        [
         "host_about",
         "47.1675845790716"
        ],
        [
         "estimated_revenue_l365d",
         "37.83438237608183"
        ],
        [
         "price",
         "37.83438237608183"
        ],
        [
         "beds",
         "37.63768686073958"
        ],
        [
         "bathrooms",
         "37.28363493312353"
        ],
        [
         "host_response_rate",
         "34.69708890637293"
        ],
        [
         "host_response_time",
         "34.69708890637293"
        ],
        [
         "host_acceptance_rate",
         "21.94138473642801"
        ],
        [
         "host_location",
         "11.25098347757671"
        ],
        [
         "review_scores_cleanliness",
         "9.549567269866246"
        ]
       ],
       "shape": {
        "columns": 1,
        "rows": 15
       }
      },
      "text/html": [
       "<div>\n",
       "<style scoped>\n",
       "    .dataframe tbody tr th:only-of-type {\n",
       "        vertical-align: middle;\n",
       "    }\n",
       "\n",
       "    .dataframe tbody tr th {\n",
       "        vertical-align: top;\n",
       "    }\n",
       "\n",
       "    .dataframe thead th {\n",
       "        text-align: right;\n",
       "    }\n",
       "</style>\n",
       "<table border=\"1\" class=\"dataframe\">\n",
       "  <thead>\n",
       "    <tr style=\"text-align: right;\">\n",
       "      <th></th>\n",
       "      <th>%nan</th>\n",
       "    </tr>\n",
       "  </thead>\n",
       "  <tbody>\n",
       "    <tr>\n",
       "      <th>neighbourhood_group_cleansed</th>\n",
       "      <td>100.000000</td>\n",
       "    </tr>\n",
       "    <tr>\n",
       "      <th>calendar_updated</th>\n",
       "      <td>100.000000</td>\n",
       "    </tr>\n",
       "    <tr>\n",
       "      <th>host_neighbourhood</th>\n",
       "      <td>72.324941</td>\n",
       "    </tr>\n",
       "    <tr>\n",
       "      <th>neighbourhood</th>\n",
       "      <td>48.288749</td>\n",
       "    </tr>\n",
       "    <tr>\n",
       "      <th>neighborhood_overview</th>\n",
       "      <td>48.288749</td>\n",
       "    </tr>\n",
       "    <tr>\n",
       "      <th>host_about</th>\n",
       "      <td>47.167585</td>\n",
       "    </tr>\n",
       "    <tr>\n",
       "      <th>estimated_revenue_l365d</th>\n",
       "      <td>37.834382</td>\n",
       "    </tr>\n",
       "    <tr>\n",
       "      <th>price</th>\n",
       "      <td>37.834382</td>\n",
       "    </tr>\n",
       "    <tr>\n",
       "      <th>beds</th>\n",
       "      <td>37.637687</td>\n",
       "    </tr>\n",
       "    <tr>\n",
       "      <th>bathrooms</th>\n",
       "      <td>37.283635</td>\n",
       "    </tr>\n",
       "    <tr>\n",
       "      <th>host_response_rate</th>\n",
       "      <td>34.697089</td>\n",
       "    </tr>\n",
       "    <tr>\n",
       "      <th>host_response_time</th>\n",
       "      <td>34.697089</td>\n",
       "    </tr>\n",
       "    <tr>\n",
       "      <th>host_acceptance_rate</th>\n",
       "      <td>21.941385</td>\n",
       "    </tr>\n",
       "    <tr>\n",
       "      <th>host_location</th>\n",
       "      <td>11.250983</td>\n",
       "    </tr>\n",
       "    <tr>\n",
       "      <th>review_scores_cleanliness</th>\n",
       "      <td>9.549567</td>\n",
       "    </tr>\n",
       "  </tbody>\n",
       "</table>\n",
       "</div>"
      ],
      "text/plain": [
       "                                    %nan\n",
       "neighbourhood_group_cleansed  100.000000\n",
       "calendar_updated              100.000000\n",
       "host_neighbourhood             72.324941\n",
       "neighbourhood                  48.288749\n",
       "neighborhood_overview          48.288749\n",
       "host_about                     47.167585\n",
       "estimated_revenue_l365d        37.834382\n",
       "price                          37.834382\n",
       "beds                           37.637687\n",
       "bathrooms                      37.283635\n",
       "host_response_rate             34.697089\n",
       "host_response_time             34.697089\n",
       "host_acceptance_rate           21.941385\n",
       "host_location                  11.250983\n",
       "review_scores_cleanliness       9.549567"
      ]
     },
     "execution_count": 27,
     "metadata": {},
     "output_type": "execute_result"
    }
   ],
   "source": [
    "# buat dalam bentuk dataframe\n",
    "column_contain_nan = pd.DataFrame(percent_nan_col[percent_nan_col > 0], \n",
    "                                  columns= [\"%nan\"])\n",
    "\n",
    "# menampilkan data 15 teratas\n",
    "\n",
    "\n",
    "\n",
    "\n",
    "\n",
    "\n",
    "\n",
    "\n",
    "\n",
    "\n",
    "\n",
    "\n",
    "\n",
    "\n",
    "\n",
    "\n",
    "\n",
    "\n",
    "\n",
    "\n",
    "column_contain_nan.head(15)"
   ]
  },
  {
   "cell_type": "markdown",
   "id": "4bcd9c7e",
   "metadata": {},
   "source": [
    "kalau kurang intuitif kita bisa coba visualisakan"
   ]
  },
  {
   "cell_type": "code",
   "execution_count": 28,
   "id": "a5b4af8c",
   "metadata": {},
   "outputs": [
    {
     "data": {
      "image/png": "[encoded data removed]",
      "text/plain": [
       "<Figure size 1000x1600 with 1 Axes>"
      ]
     },
     "metadata": {},
     "output_type": "display_data"
    }
   ],
   "source": [
    "# buat figure\n",
    "fig, ax = plt.subplots(figsize = (10, 16))\n",
    "\n",
    "# buat barplot presentase NaN tiap kolom \n",
    "sns.barplot(data = column_contain_nan.T, \n",
    "            orient=\"h\", \n",
    "            ax = ax)\n",
    "\n",
    "# menampilkan visualisasi\n",
    "plt.show()"
   ]
  },
  {
   "cell_type": "markdown",
   "id": "31fb381e",
   "metadata": {},
   "source": [
    "- Oke, sekarang sudah lebih intuitif\n",
    "- Next, terlihat beberapa kolom memiliki persentase missing value lebih dari 90%\n",
    "- Ini coba kita drop"
   ]
  },
  {
   "cell_type": "code",
   "execution_count": 29,
   "id": "3fd1aa68",
   "metadata": {},
   "outputs": [
    {
     "data": {
      "text/plain": [
       "Index(['neighbourhood_group_cleansed', 'calendar_updated'], dtype='object')"
      ]
     },
     "execution_count": 29,
     "metadata": {},
     "output_type": "execute_result"
    }
   ],
   "source": [
    "# cari kolom yang presentase missing valuesnya lebih dari 90 %\n",
    "nan_col_abv90 = percent_nan_col[percent_nan_col > 90 ].index\n",
    "nan_col_abv90"
   ]
  },
  {
   "cell_type": "code",
   "execution_count": 30,
   "id": "b684a235",
   "metadata": {},
   "outputs": [
    {
     "data": {
      "application/vnd.microsoft.datawrangler.viewer.v0+json": {
       "columns": [
        {
         "name": "index",
         "rawType": "int64",
         "type": "integer"
        },
        {
         "name": "id",
         "rawType": "int64",
         "type": "integer"
        },
        {
         "name": "listing_url",
         "rawType": "object",
         "type": "string"
        },
        {
         "name": "scrape_id",
         "rawType": "int64",
         "type": "integer"
        },
        {
         "name": "last_scraped",
         "rawType": "object",
         "type": "string"
        },
        {
         "name": "source",
         "rawType": "object",
         "type": "string"
        },
        {
         "name": "name",
         "rawType": "object",
         "type": "string"
        },
        {
         "name": "description",
         "rawType": "object",
         "type": "string"
        },
        {
         "name": "neighborhood_overview",
         "rawType": "object",
         "type": "unknown"
        },
        {
         "name": "picture_url",
         "rawType": "object",
         "type": "string"
        },
        {
         "name": "host_id",
         "rawType": "int64",
         "type": "integer"
        },
        {
         "name": "host_url",
         "rawType": "object",
         "type": "string"
        },
        {
         "name": "host_name",
         "rawType": "object",
         "type": "string"
        },
        {
         "name": "host_since",
         "rawType": "object",
         "type": "string"
        },
        {
         "name": "host_location",
         "rawType": "object",
         "type": "string"
        },
        {
         "name": "host_about",
         "rawType": "object",
         "type": "string"
        },
        {
         "name": "host_response_time",
         "rawType": "object",
         "type": "unknown"
        },
        {
         "name": "host_response_rate",
         "rawType": "object",
         "type": "unknown"
        },
        {
         "name": "host_acceptance_rate",
         "rawType": "object",
         "type": "unknown"
        },
        {
         "name": "host_is_superhost",
         "rawType": "object",
         "type": "string"
        },
        {
         "name": "host_thumbnail_url",
         "rawType": "object",
         "type": "string"
        },
        {
         "name": "host_picture_url",
         "rawType": "object",
         "type": "string"
        },
        {
         "name": "host_neighbourhood",
         "rawType": "object",
         "type": "unknown"
        },
        {
         "name": "host_listings_count",
         "rawType": "float64",
         "type": "float"
        },
        {
         "name": "host_total_listings_count",
         "rawType": "float64",
         "type": "float"
        },
        {
         "name": "host_verifications",
         "rawType": "object",
         "type": "string"
        },
        {
         "name": "host_has_profile_pic",
         "rawType": "object",
         "type": "string"
        },
        {
         "name": "host_identity_verified",
         "rawType": "object",
         "type": "string"
        },
        {
         "name": "neighbourhood",
         "rawType": "object",
         "type": "unknown"
        },
        {
         "name": "neighbourhood_cleansed",
         "rawType": "object",
         "type": "string"
        },
        {
         "name": "latitude",
         "rawType": "float64",
         "type": "float"
        },
        {
         "name": "longitude",
         "rawType": "float64",
         "type": "float"
        },
        {
         "name": "property_type",
         "rawType": "object",
         "type": "string"
        },
        {
         "name": "room_type",
         "rawType": "object",
         "type": "string"
        },
        {
         "name": "accommodates",
         "rawType": "int64",
         "type": "integer"
        },
        {
         "name": "bathrooms",
         "rawType": "float64",
         "type": "float"
        },
        {
         "name": "bathrooms_text",
         "rawType": "object",
         "type": "string"
        },
        {
         "name": "bedrooms",
         "rawType": "float64",
         "type": "float"
        },
        {
         "name": "beds",
         "rawType": "float64",
         "type": "float"
        },
        {
         "name": "amenities",
         "rawType": "object",
         "type": "string"
        },
        {
         "name": "price",
         "rawType": "object",
         "type": "unknown"
        },
        {
         "name": "minimum_nights",
         "rawType": "int64",
         "type": "integer"
        },
        {
         "name": "maximum_nights",
         "rawType": "int64",
         "type": "integer"
        },
        {
         "name": "minimum_minimum_nights",
         "rawType": "int64",
         "type": "integer"
        },
        {
         "name": "maximum_minimum_nights",
         "rawType": "int64",
         "type": "integer"
        },
        {
         "name": "minimum_maximum_nights",
         "rawType": "int64",
         "type": "integer"
        },
        {
         "name": "maximum_maximum_nights",
         "rawType": "int64",
         "type": "integer"
        },
        {
         "name": "minimum_nights_avg_ntm",
         "rawType": "float64",
         "type": "float"
        },
        {
         "name": "maximum_nights_avg_ntm",
         "rawType": "float64",
         "type": "float"
        },
        {
         "name": "has_availability",
         "rawType": "object",
         "type": "string"
        },
        {
         "name": "availability_30",
         "rawType": "int64",
         "type": "integer"
        },
        {
         "name": "availability_60",
         "rawType": "int64",
         "type": "integer"
        },
        {
         "name": "availability_90",
         "rawType": "int64",
         "type": "integer"
        },
        {
         "name": "availability_365",
         "rawType": "int64",
         "type": "integer"
        },
        {
         "name": "calendar_last_scraped",
         "rawType": "object",
         "type": "string"
        },
        {
         "name": "number_of_reviews",
         "rawType": "int64",
         "type": "integer"
        },
        {
         "name": "number_of_reviews_ltm",
         "rawType": "int64",
         "type": "integer"
        },
        {
         "name": "number_of_reviews_l30d",
         "rawType": "int64",
         "type": "integer"
        },
        {
         "name": "availability_eoy",
         "rawType": "int64",
         "type": "integer"
        },
        {
         "name": "number_of_reviews_ly",
         "rawType": "int64",
         "type": "integer"
        },
        {
         "name": "estimated_occupancy_l365d",
         "rawType": "int64",
         "type": "integer"
        },
        {
         "name": "estimated_revenue_l365d",
         "rawType": "float64",
         "type": "float"
        },
        {
         "name": "first_review",
         "rawType": "object",
         "type": "string"
        },
        {
         "name": "last_review",
         "rawType": "object",
         "type": "string"
        },
        {
         "name": "review_scores_rating",
         "rawType": "float64",
         "type": "float"
        },
        {
         "name": "review_scores_accuracy",
         "rawType": "float64",
         "type": "float"
        },
        {
         "name": "review_scores_cleanliness",
         "rawType": "float64",
         "type": "float"
        },
        {
         "name": "review_scores_checkin",
         "rawType": "float64",
         "type": "float"
        },
        {
         "name": "review_scores_communication",
         "rawType": "float64",
         "type": "float"
        },
        {
         "name": "review_scores_location",
         "rawType": "float64",
         "type": "float"
        },
        {
         "name": "review_scores_value",
         "rawType": "float64",
         "type": "float"
        },
        {
         "name": "license",
         "rawType": "object",
         "type": "string"
        },
        {
         "name": "instant_bookable",
         "rawType": "object",
         "type": "string"
        },
        {
         "name": "calculated_host_listings_count",
         "rawType": "int64",
         "type": "integer"
        },
        {
         "name": "calculated_host_listings_count_entire_homes",
         "rawType": "int64",
         "type": "integer"
        },
        {
         "name": "calculated_host_listings_count_private_rooms",
         "rawType": "int64",
         "type": "integer"
        },
        {
         "name": "calculated_host_listings_count_shared_rooms",
         "rawType": "int64",
         "type": "integer"
        },
        {
         "name": "reviews_per_month",
         "rawType": "float64",
         "type": "float"
        }
       ],
       "ref": "1073075a-107d-4e24-8405-9e6bb60e2315",
       "rows": [
        [
         "0",
         "27886",
         "https://www.airbnb.com/rooms/27886",
         "20250609011745",
         "2025-06-17",
         "city scrape",
         "Romantic, stylish B&B houseboat in canal district",
         "Stylish and romantic houseboat on fantastic historic location with breathtaking view.  Wheelhouse, deckhouse and captains room. Central, quiet. Great breakfast, 2 vanMoof design bikes and a Canadian Canoe are included. Just read the reviews on tripadvisor for instance!",
         "Central, quiet, safe, clean and beautiful.",
         "https://a0.muscache.com/pictures/02c2da9d-660e-451d-8a51-2f7a17469df7.jpg",
         "97647",
         "https://www.airbnb.com/users/show/97647",
         "Flip",
         "2010-03-23",
         "Amsterdam, Netherlands",
         "Marjan works in \"eye\" the dutch filmmuseum, and designs costumes for tv, film and theatre. Flip is an actor, mainly on stage, but also for film and tv. So for cultural advise, what to do, you are coming to the right place...\r\n\r\n",
         "within an hour",
         "100%",
         "98%",
         "t",
         "https://a0.muscache.com/im/users/97647/profile_pic/1273275077/original.jpg?aki_policy=profile_small",
         "https://a0.muscache.com/im/users/97647/profile_pic/1273275077/original.jpg?aki_policy=profile_x_medium",
         "Westelijke Eilanden",
         "1.0",
         "1.0",
         "['email', 'phone']",
         "t",
         "t",
         "Amsterdam, North Holland, Netherlands",
         "Centrum-West",
         "52.38761",
         "4.89188",
         "Private room in houseboat",
         "Private room",
         "2",
         "1.5",
         "1.5 baths",
         "1.0",
         "1.0",
         "[\"Coffee maker: Nespresso\", \"Shampoo\", \"Paid street parking off premises\", \"Essentials\", \"Waterfront\", \"Shower gel\", \"Mini fridge\", \"City skyline view\", \"Fast wifi \\u2013 245 Mbps\", \"Private entrance\", \"TV with standard cable\", \"Luggage dropoff allowed\", \"Outdoor furniture\", \"Long term stays allowed\", \"Self check-in\", \"Private patio or balcony\", \"Outdoor dining area\", \"Dedicated workspace\", \"Smoke alarm\", \"Hp neutral, eco friendly body soap\", \"Refrigerator\", \"Wine glasses\", \"Breakfast\", \"Harbor view\", \"Canal view\", \"Private backyard \\u2013 Not fully fenced\", \"Boat slip\", \"Hot water\", \"Garden view\", \"Clothing storage: closet\", \"Books and reading material\", \"Bed linens\", \"Hangers\", \"Smart lock\", \"Portable fans\", \"Central heating\", \"Carbon monoxide alarm\", \"Lake access\", \"Hair dryer\", \"Extra pillows and blankets\", \"Private living room\", \"Safe\", \"Fire extinguisher\", \"Laundromat nearby\", \"Heating - split type ductless system\", \"Bikes\", \"Air conditioning\", \"Coffee\", \"Kayak\", \"Dining table\"]",
         "$132.00",
         "3",
         "356",
         "3",
         "3",
         "30",
         "30",
         "3.0",
         "30.0",
         "t",
         "0",
         "0",
         "0",
         "53",
         "2025-06-17",
         "302",
         "28",
         "1",
         "53",
         "26",
         "218",
         "28776.0",
         "2012-01-09",
         "2025-06-11",
         "4.92",
         "4.9",
         "4.94",
         "4.95",
         "4.92",
         "4.9",
         "4.78",
         "0363 974D 4986 7411 88D8",
         "f",
         "1",
         "0",
         "1",
         "0",
         "1.85"
        ],
        [
         "1",
         "28871",
         "https://www.airbnb.com/rooms/28871",
         "20250609011745",
         "2025-06-17",
         "city scrape",
         "Comfortable double room",
         "Basic bedroom in the center of Amsterdam.",
         "Flower market , Leidseplein , Rembrantsplein",
         "https://a0.muscache.com/pictures/160889/362340f7_original.jpg",
         "124245",
         "https://www.airbnb.com/users/show/124245",
         "Edwin",
         "2010-05-13",
         "Amsterdam, Netherlands",
         "Hi",
         "within an hour",
         "100%",
         "99%",
         "t",
         "https://a0.muscache.com/im/pictures/user/9986bbdb-632f-42b5-a866-8e3307184977.jpg?aki_policy=profile_small",
         "https://a0.muscache.com/im/pictures/user/9986bbdb-632f-42b5-a866-8e3307184977.jpg?aki_policy=profile_x_medium",
         "Amsterdam Centrum",
         "2.0",
         "2.0",
         "['email', 'phone']",
         "t",
         "t",
         "Amsterdam, North Holland, Netherlands",
         "Centrum-West",
         "52.36775",
         "4.89092",
         "Private room in rental unit",
         "Private room",
         "2",
         "1.0",
         "1 shared bath",
         "1.0",
         "1.0",
         "[\"Carbon monoxide alarm\", \"Wifi\", \"Heating\", \"Iron\", \"Hair dryer\", \"Shampoo\", \"Bed linens\", \"Refrigerator\", \"Coffee maker\", \"Essentials\", \"Fire extinguisher\", \"Hot water\", \"Host greets you\", \"Hangers\", \"Private entrance\", \"Cleaning products\", \"Smoke alarm\", \"Lock on bedroom door\"]",
         "$78.00",
         "2",
         "730",
         "1",
         "2",
         "730",
         "730",
         "2.0",
         "730.0",
         "t",
         "1",
         "2",
         "4",
         "130",
         "2025-06-17",
         "710",
         "93",
         "9",
         "31",
         "96",
         "255",
         "19890.0",
         "2010-08-22",
         "2025-06-16",
         "4.88",
         "4.9",
         "4.87",
         "4.94",
         "4.94",
         "4.94",
         "4.84",
         "0363 607B EA74 0BD8 2F6F",
         "f",
         "2",
         "0",
         "2",
         "0",
         "3.93"
        ],
        [
         "2",
         "29051",
         "https://www.airbnb.com/rooms/29051",
         "20250609011745",
         "2025-06-17",
         "city scrape",
         "Comfortable single / double room",
         "This room can also be rented as a single or a small double<br /><br />Also a cat lives here",
         "the street is quite lively especially on weekends when the weather is good",
         "https://a0.muscache.com/pictures/162009/bd6be2f8_original.jpg",
         "124245",
         "https://www.airbnb.com/users/show/124245",
         "Edwin",
         "2010-05-13",
         "Amsterdam, Netherlands",
         "Hi",
         "within an hour",
         "100%",
         "99%",
         "t",
         "https://a0.muscache.com/im/pictures/user/9986bbdb-632f-42b5-a866-8e3307184977.jpg?aki_policy=profile_small",
         "https://a0.muscache.com/im/pictures/user/9986bbdb-632f-42b5-a866-8e3307184977.jpg?aki_policy=profile_x_medium",
         "Amsterdam Centrum",
         "2.0",
         "2.0",
         "['email', 'phone']",
         "t",
         "t",
         "Amsterdam, North Holland, Netherlands",
         "Centrum-Oost",
         "52.36584",
         "4.89111",
         "Private room in condo",
         "Private room",
         "2",
         "1.0",
         "1 shared bath",
         "1.0",
         "1.0",
         "[\"Carbon monoxide alarm\", \"Wifi\", \"Heating\", \"Iron\", \"Hair dryer\", \"Shampoo\", \"Bed linens\", \"Refrigerator\", \"Coffee maker\", \"Essentials\", \"Fire extinguisher\", \"Hot water\", \"Shower gel\", \"Host greets you\", \"Hangers\", \"Private entrance\", \"Smoke alarm\", \"Lock on bedroom door\"]",
         "$70.00",
         "2",
         "730",
         "1",
         "2",
         "730",
         "730",
         "2.0",
         "730.0",
         "t",
         "0",
         "1",
         "3",
         "121",
         "2025-06-17",
         "822",
         "86",
         "7",
         "20",
         "88",
         "255",
         "17850.0",
         "2011-03-16",
         "2025-06-14",
         "4.81",
         "4.88",
         "4.83",
         "4.93",
         "4.92",
         "4.87",
         "4.79",
         "0363 607B EA74 0BD8 2F6F",
         "f",
         "2",
         "0",
         "2",
         "0",
         "4.74"
        ],
        [
         "3",
         "44391",
         "https://www.airbnb.com/rooms/44391",
         "20250609011745",
         "2025-06-17",
         "previous scrape",
         "Quiet 2-bedroom Amsterdam city centre apartment",
         "Guests greatly appreciate the unique location of the apartment. It is located in a very quiet part of the city centre whilst only 1,5km away from central station. A bus takes you there directly in just five minutes. Restaurants, bars, musea, the Amsterdam Zoo and the popular citypark Marineterrein are just around the corner. The apartment itself is very well isolated so you can sleep in silence. The large private terrace provides you, directly from the kitchen, a nice outdoor space! Have a look!",
         "The appartment is located in the city centre. Famous Amsterdam places such as the Amsterdam Zoo and the Maritime Museam are in 5 minutes walking distance. The supermarket is literally the next door!",
         "https://a0.muscache.com/pictures/97741545/39000c13_original.jpg",
         "194779",
         "https://www.airbnb.com/users/show/194779",
         "Jan",
         "2010-08-08",
         "Amsterdam, Netherlands",
         "Love to travel while hosting and to host while travelling!",
         null,
         null,
         null,
         "f",
         "https://a0.muscache.com/im/users/194779/profile_pic/1436464796/original.jpg?aki_policy=profile_small",
         "https://a0.muscache.com/im/users/194779/profile_pic/1436464796/original.jpg?aki_policy=profile_x_medium",
         "Oostelijke Eilanden en Kadijken",
         "1.0",
         "1.0",
         "['email', 'phone']",
         "t",
         "t",
         "Amsterdam, Noord-Holland, Netherlands",
         "Centrum-Oost",
         "52.37168",
         "4.91471",
         "Entire rental unit",
         "Entire home/apt",
         "4",
         null,
         "1.5 baths",
         "2.0",
         null,
         "[\"Shampoo\", \"Essentials\", \"Dishwasher\", \"Paid parking off premises\", \"Shower gel\", \"Private entrance\", \"TV with standard cable\", \"Washer\", \"Luggage dropoff allowed\", \"Coffee maker\", \"Cooking basics\", \"Smoke alarm\", \"Refrigerator\", \"Wifi\", \"Stove\", \"Iron\", \"Hot water\", \"Bed linens\", \"Kitchen\", \"Hangers\", \"Carbon monoxide alarm\", \"Heating\", \"Dishes and silverware\", \"Paid parking on premises\", \"Hair dryer\", \"Extra pillows and blankets\", \"Oven\", \"Patio or balcony\", \"Air conditioning\", \"Host greets you\", \"Microwave\"]",
         null,
         "3",
         "730",
         "3",
         "3",
         "730",
         "730",
         "3.0",
         "730.0",
         "t",
         "0",
         "0",
         "0",
         "0",
         "2025-06-17",
         "42",
         "0",
         "0",
         "0",
         "0",
         "0",
         null,
         "2010-09-16",
         "2022-08-20",
         "4.71",
         "4.68",
         "4.49",
         "4.95",
         "4.9",
         "4.68",
         "4.5",
         "0363 E76E F06A C1DD 172C",
         "f",
         "1",
         "1",
         "0",
         "0",
         "0.23"
        ],
        [
         "4",
         "47061",
         "https://www.airbnb.com/rooms/47061",
         "20250609011745",
         "2025-06-17",
         "city scrape",
         "Charming apartment in old centre",
         "A beautiful, quiet apartment in the center of Amsterdam with view over the canal.",
         null,
         "https://a0.muscache.com/pictures/268343/a08ce201_original.jpg",
         "211696",
         "https://www.airbnb.com/users/show/211696",
         "Ivar",
         "2010-08-24",
         "Netherlands",
         "Hi, I am a freelance theatre director and composer living in both Amsterdam and Berlin together with my partner Maaike, who is also a theatre director, and our cute little twin boys Ilja and Cyril. We tend to go where ever we find interesting projects in theatre and music theatre. Apart from that we like to travel to see new parts of the world or show them to our boys. We like Asia. We both love opera but I at the same time am a huge fan of My Bloody Valentine and The Fall for instance. Maaike is very much into art-photographing. ",
         "within a few hours",
         "100%",
         "50%",
         "f",
         "https://a0.muscache.com/im/pictures/user/0a2a381d-4032-48ca-a77b-d379d98da98a.jpg?aki_policy=profile_small",
         "https://a0.muscache.com/im/pictures/user/0a2a381d-4032-48ca-a77b-d379d98da98a.jpg?aki_policy=profile_x_medium",
         null,
         "1.0",
         "2.0",
         "['email', 'phone']",
         "t",
         "t",
         null,
         "De Baarsjes - Oud-West",
         "52.36786",
         "4.87458",
         "Entire rental unit",
         "Entire home/apt",
         "3",
         "1.5",
         "1.5 baths",
         "2.0",
         "2.0",
         "[\"Shampoo\", \"Paid street parking off premises\", \"Single level home\", \"Essentials\", \"Dishwasher\", \"Waterfront\", \"Private entrance\", \"TV with standard cable\", \"Pack \\u2019n play/Travel crib\", \"Washer\", \"Long term stays allowed\", \"Coffee maker\", \"Piano\", \"Cooking basics\", \"Cleaning products\", \"Smoke alarm\", \"Freezer\", \"Refrigerator\", \"Wifi\", \"Stove\", \"Sound system\", \"Wine glasses\", \"Canal view\", \"Cleaning available during stay\", \"Conditioner\", \"First aid kit\", \"Hot water\", \"Clothing storage: closet\", \"Books and reading material\", \"Bed linens\", \"Hangers\", \"Kitchen\", \"Carbon monoxide alarm\", \"Heating\", \"Dishes and silverware\", \"Hair dryer\", \"Body soap\", \"Oven\", \"Fire extinguisher\", \"Coffee\", \"Host greets you\", \"Dining table\", \"Hot water kettle\"]",
         "$120.00",
         "2",
         "20",
         "2",
         "2",
         "20",
         "20",
         "2.0",
         "20.0",
         "t",
         "1",
         "1",
         "1",
         "66",
         "2025-06-17",
         "203",
         "5",
         "1",
         "1",
         "6",
         "39",
         "4680.0",
         "2010-09-13",
         "2025-05-29",
         "4.77",
         "4.78",
         "4.61",
         "4.76",
         "4.9",
         "4.85",
         "4.63",
         "0363 1266 8C04 4133 E6AC",
         "f",
         "1",
         "1",
         "0",
         "0",
         "1.13"
        ]
       ],
       "shape": {
        "columns": 77,
        "rows": 5
       }
      },
      "text/html": [
       "<div>\n",
       "<style scoped>\n",
       "    .dataframe tbody tr th:only-of-type {\n",
       "        vertical-align: middle;\n",
       "    }\n",
       "\n",
       "    .dataframe tbody tr th {\n",
       "        vertical-align: top;\n",
       "    }\n",
       "\n",
       "    .dataframe thead th {\n",
       "        text-align: right;\n",
       "    }\n",
       "</style>\n",
       "<table border=\"1\" class=\"dataframe\">\n",
       "  <thead>\n",
       "    <tr style=\"text-align: right;\">\n",
       "      <th></th>\n",
       "      <th>id</th>\n",
       "      <th>listing_url</th>\n",
       "      <th>scrape_id</th>\n",
       "      <th>last_scraped</th>\n",
       "      <th>source</th>\n",
       "      <th>name</th>\n",
       "      <th>description</th>\n",
       "      <th>neighborhood_overview</th>\n",
       "      <th>picture_url</th>\n",
       "      <th>host_id</th>\n",
       "      <th>...</th>\n",
       "      <th>review_scores_communication</th>\n",
       "      <th>review_scores_location</th>\n",
       "      <th>review_scores_value</th>\n",
       "      <th>license</th>\n",
       "      <th>instant_bookable</th>\n",
       "      <th>calculated_host_listings_count</th>\n",
       "      <th>calculated_host_listings_count_entire_homes</th>\n",
       "      <th>calculated_host_listings_count_private_rooms</th>\n",
       "      <th>calculated_host_listings_count_shared_rooms</th>\n",
       "      <th>reviews_per_month</th>\n",
       "    </tr>\n",
       "  </thead>\n",
       "  <tbody>\n",
       "    <tr>\n",
       "      <th>0</th>\n",
       "      <td>27886</td>\n",
       "      <td>https://www.airbnb.com/rooms/27886</td>\n",
       "      <td>20250609011745</td>\n",
       "      <td>2025-06-17</td>\n",
       "      <td>city scrape</td>\n",
       "      <td>Romantic, stylish B&amp;B houseboat in canal district</td>\n",
       "      <td>Stylish and romantic houseboat on fantastic hi...</td>\n",
       "      <td>Central, quiet, safe, clean and beautiful.</td>\n",
       "      <td>https://a0.muscache.com/pictures/02c2da9d-660e...</td>\n",
       "      <td>97647</td>\n",
       "      <td>...</td>\n",
       "      <td>4.92</td>\n",
       "      <td>4.90</td>\n",
       "      <td>4.78</td>\n",
       "      <td>0363 974D 4986 7411 88D8</td>\n",
       "      <td>f</td>\n",
       "      <td>1</td>\n",
       "      <td>0</td>\n",
       "      <td>1</td>\n",
       "      <td>0</td>\n",
       "      <td>1.85</td>\n",
       "    </tr>\n",
       "    <tr>\n",
       "      <th>1</th>\n",
       "      <td>28871</td>\n",
       "      <td>https://www.airbnb.com/rooms/28871</td>\n",
       "      <td>20250609011745</td>\n",
       "      <td>2025-06-17</td>\n",
       "      <td>city scrape</td>\n",
       "      <td>Comfortable double room</td>\n",
       "      <td>Basic bedroom in the center of Amsterdam.</td>\n",
       "      <td>Flower market , Leidseplein , Rembrantsplein</td>\n",
       "      <td>https://a0.muscache.com/pictures/160889/362340...</td>\n",
       "      <td>124245</td>\n",
       "      <td>...</td>\n",
       "      <td>4.94</td>\n",
       "      <td>4.94</td>\n",
       "      <td>4.84</td>\n",
       "      <td>0363 607B EA74 0BD8 2F6F</td>\n",
       "      <td>f</td>\n",
       "      <td>2</td>\n",
       "      <td>0</td>\n",
       "      <td>2</td>\n",
       "      <td>0</td>\n",
       "      <td>3.93</td>\n",
       "    </tr>\n",
       "    <tr>\n",
       "      <th>2</th>\n",
       "      <td>29051</td>\n",
       "      <td>https://www.airbnb.com/rooms/29051</td>\n",
       "      <td>20250609011745</td>\n",
       "      <td>2025-06-17</td>\n",
       "      <td>city scrape</td>\n",
       "      <td>Comfortable single / double room</td>\n",
       "      <td>This room can also be rented as a single or a ...</td>\n",
       "      <td>the street is quite lively especially on weeke...</td>\n",
       "      <td>https://a0.muscache.com/pictures/162009/bd6be2...</td>\n",
       "      <td>124245</td>\n",
       "      <td>...</td>\n",
       "      <td>4.92</td>\n",
       "      <td>4.87</td>\n",
       "      <td>4.79</td>\n",
       "      <td>0363 607B EA74 0BD8 2F6F</td>\n",
       "      <td>f</td>\n",
       "      <td>2</td>\n",
       "      <td>0</td>\n",
       "      <td>2</td>\n",
       "      <td>0</td>\n",
       "      <td>4.74</td>\n",
       "    </tr>\n",
       "    <tr>\n",
       "      <th>3</th>\n",
       "      <td>44391</td>\n",
       "      <td>https://www.airbnb.com/rooms/44391</td>\n",
       "      <td>20250609011745</td>\n",
       "      <td>2025-06-17</td>\n",
       "      <td>previous scrape</td>\n",
       "      <td>Quiet 2-bedroom Amsterdam city centre apartment</td>\n",
       "      <td>Guests greatly appreciate the unique location ...</td>\n",
       "      <td>The appartment is located in the city centre. ...</td>\n",
       "      <td>https://a0.muscache.com/pictures/97741545/3900...</td>\n",
       "      <td>194779</td>\n",
       "      <td>...</td>\n",
       "      <td>4.90</td>\n",
       "      <td>4.68</td>\n",
       "      <td>4.50</td>\n",
       "      <td>0363 E76E F06A C1DD 172C</td>\n",
       "      <td>f</td>\n",
       "      <td>1</td>\n",
       "      <td>1</td>\n",
       "      <td>0</td>\n",
       "      <td>0</td>\n",
       "      <td>0.23</td>\n",
       "    </tr>\n",
       "    <tr>\n",
       "      <th>4</th>\n",
       "      <td>47061</td>\n",
       "      <td>https://www.airbnb.com/rooms/47061</td>\n",
       "      <td>20250609011745</td>\n",
       "      <td>2025-06-17</td>\n",
       "      <td>city scrape</td>\n",
       "      <td>Charming apartment in old centre</td>\n",
       "      <td>A beautiful, quiet apartment in the center of ...</td>\n",
       "      <td>NaN</td>\n",
       "      <td>https://a0.muscache.com/pictures/268343/a08ce2...</td>\n",
       "      <td>211696</td>\n",
       "      <td>...</td>\n",
       "      <td>4.90</td>\n",
       "      <td>4.85</td>\n",
       "      <td>4.63</td>\n",
       "      <td>0363 1266 8C04 4133 E6AC</td>\n",
       "      <td>f</td>\n",
       "      <td>1</td>\n",
       "      <td>1</td>\n",
       "      <td>0</td>\n",
       "      <td>0</td>\n",
       "      <td>1.13</td>\n",
       "    </tr>\n",
       "  </tbody>\n",
       "</table>\n",
       "<p>5 rows × 77 columns</p>\n",
       "</div>"
      ],
      "text/plain": [
       "      id                         listing_url       scrape_id last_scraped  \\\n",
       "0  27886  https://www.airbnb.com/rooms/27886  20250609011745   2025-06-17   \n",
       "1  28871  https://www.airbnb.com/rooms/28871  20250609011745   2025-06-17   \n",
       "2  29051  https://www.airbnb.com/rooms/29051  20250609011745   2025-06-17   \n",
       "3  44391  https://www.airbnb.com/rooms/44391  20250609011745   2025-06-17   \n",
       "4  47061  https://www.airbnb.com/rooms/47061  20250609011745   2025-06-17   \n",
       "\n",
       "            source                                               name  \\\n",
       "0      city scrape  Romantic, stylish B&B houseboat in canal district   \n",
       "1      city scrape                            Comfortable double room   \n",
       "2      city scrape                   Comfortable single / double room   \n",
       "3  previous scrape    Quiet 2-bedroom Amsterdam city centre apartment   \n",
       "4      city scrape                   Charming apartment in old centre   \n",
       "\n",
       "                                         description  \\\n",
       "0  Stylish and romantic houseboat on fantastic hi...   \n",
       "1          Basic bedroom in the center of Amsterdam.   \n",
       "2  This room can also be rented as a single or a ...   \n",
       "3  Guests greatly appreciate the unique location ...   \n",
       "4  A beautiful, quiet apartment in the center of ...   \n",
       "\n",
       "                               neighborhood_overview  \\\n",
       "0         Central, quiet, safe, clean and beautiful.   \n",
       "1       Flower market , Leidseplein , Rembrantsplein   \n",
       "2  the street is quite lively especially on weeke...   \n",
       "3  The appartment is located in the city centre. ...   \n",
       "4                                                NaN   \n",
       "\n",
       "                                         picture_url  host_id  ...  \\\n",
       "0  https://a0.muscache.com/pictures/02c2da9d-660e...    97647  ...   \n",
       "1  https://a0.muscache.com/pictures/160889/362340...   124245  ...   \n",
       "2  https://a0.muscache.com/pictures/162009/bd6be2...   124245  ...   \n",
       "3  https://a0.muscache.com/pictures/97741545/3900...   194779  ...   \n",
       "4  https://a0.muscache.com/pictures/268343/a08ce2...   211696  ...   \n",
       "\n",
       "  review_scores_communication review_scores_location review_scores_value  \\\n",
       "0                        4.92                   4.90                4.78   \n",
       "1                        4.94                   4.94                4.84   \n",
       "2                        4.92                   4.87                4.79   \n",
       "3                        4.90                   4.68                4.50   \n",
       "4                        4.90                   4.85                4.63   \n",
       "\n",
       "                    license instant_bookable calculated_host_listings_count  \\\n",
       "0  0363 974D 4986 7411 88D8                f                              1   \n",
       "1  0363 607B EA74 0BD8 2F6F                f                              2   \n",
       "2  0363 607B EA74 0BD8 2F6F                f                              2   \n",
       "3  0363 E76E F06A C1DD 172C                f                              1   \n",
       "4  0363 1266 8C04 4133 E6AC                f                              1   \n",
       "\n",
       "  calculated_host_listings_count_entire_homes  \\\n",
       "0                                           0   \n",
       "1                                           0   \n",
       "2                                           0   \n",
       "3                                           1   \n",
       "4                                           1   \n",
       "\n",
       "  calculated_host_listings_count_private_rooms  \\\n",
       "0                                            1   \n",
       "1                                            2   \n",
       "2                                            2   \n",
       "3                                            0   \n",
       "4                                            0   \n",
       "\n",
       "  calculated_host_listings_count_shared_rooms reviews_per_month  \n",
       "0                                           0              1.85  \n",
       "1                                           0              3.93  \n",
       "2                                           0              4.74  \n",
       "3                                           0              0.23  \n",
       "4                                           0              1.13  \n",
       "\n",
       "[5 rows x 77 columns]"
      ]
     },
     "execution_count": 30,
     "metadata": {},
     "output_type": "execute_result"
    }
   ],
   "source": [
    "# kita menghapus kolom dengan nilai NaN lebih dari 90 % \n",
    "bnb = bnb.drop(columns = nan_col_abv90)\n",
    "\n",
    "bnb.head()"
   ]
  },
  {
   "cell_type": "code",
   "execution_count": 31,
   "id": "7ed1fb87",
   "metadata": {},
   "outputs": [
    {
     "data": {
      "text/plain": [
       "(10168, 77)"
      ]
     },
     "execution_count": 31,
     "metadata": {},
     "output_type": "execute_result"
    }
   ],
   "source": [
    "bnb.shape"
   ]
  },
  {
   "cell_type": "markdown",
   "id": "46cc8ccd",
   "metadata": {},
   "source": [
    "columns yang awalnya berjumlah 79 berkurang menjadi 77 "
   ]
  },
  {
   "cell_type": "markdown",
   "id": "51eaac9c",
   "metadata": {},
   "source": [
    "kita sudah menghapus berhasil nilai NaN yang presentasenya diatas 90 % "
   ]
  },
  {
   "cell_type": "markdown",
   "id": "4e1e72c3",
   "metadata": {},
   "source": [
    "---\n",
    "# **2. Identify and Handling Inkonsistent Format**"
   ]
  },
  {
   "cell_type": "markdown",
   "id": "ecc30394",
   "metadata": {},
   "source": [
    "- Salah satu inkonsistensi yang bisa terjadi adalah, tipe data yang tidak sesuai dengan representasi datanya.\n",
    "- Pada kasus ini kita akan mengidentifikasi inkonsistensi ini pada kolom price."
   ]
  },
  {
   "cell_type": "code",
   "execution_count": 32,
   "id": "3ce88842",
   "metadata": {},
   "outputs": [
    {
     "name": "stdout",
     "output_type": "stream",
     "text": [
      "<class 'pandas.core.frame.DataFrame'>\n",
      "RangeIndex: 10168 entries, 0 to 10167\n",
      "Data columns (total 1 columns):\n",
      " #   Column  Non-Null Count  Dtype \n",
      "---  ------  --------------  ----- \n",
      " 0   price   6321 non-null   object\n",
      "dtypes: object(1)\n",
      "memory usage: 79.6+ KB\n"
     ]
    }
   ],
   "source": [
    "# menampilkan informasi pada columns price\n",
    "bnb[['price']].info()"
   ]
  },
  {
   "cell_type": "code",
   "execution_count": 33,
   "id": "9c725370",
   "metadata": {},
   "outputs": [
    {
     "data": {
      "application/vnd.microsoft.datawrangler.viewer.v0+json": {
       "columns": [
        {
         "name": "index",
         "rawType": "int64",
         "type": "integer"
        },
        {
         "name": "price",
         "rawType": "object",
         "type": "unknown"
        }
       ],
       "ref": "43ddadf3-4fb7-4172-91ab-51f1bcb6937e",
       "rows": [
        [
         "0",
         "$132.00"
        ],
        [
         "1",
         "$78.00"
        ],
        [
         "2",
         "$70.00"
        ],
        [
         "3",
         null
        ],
        [
         "4",
         "$120.00"
        ]
       ],
       "shape": {
        "columns": 1,
        "rows": 5
       }
      },
      "text/plain": [
       "0    $132.00\n",
       "1     $78.00\n",
       "2     $70.00\n",
       "3        NaN\n",
       "4    $120.00\n",
       "Name: price, dtype: object"
      ]
     },
     "execution_count": 33,
     "metadata": {},
     "output_type": "execute_result"
    }
   ],
   "source": [
    "# menampilkan 5 data teratas kolom price\n",
    "bnb['price'].head()"
   ]
  },
  {
   "cell_type": "markdown",
   "id": "cb749835",
   "metadata": {},
   "source": [
    "Dari pengecekan diatas, terlihat\n",
    "- kolom price yang seharusnya direpresentasikan sebagai kolom numeric, memiliki tipe data object.\n",
    "- Kita akan mengconvert kolom price tersebut sehingga bertipe float.\n",
    "- Pertama, kita akan mengidentifikasi data unik pada kolom price."
   ]
  },
  {
   "cell_type": "code",
   "execution_count": 34,
   "id": "a92b81c8",
   "metadata": {},
   "outputs": [
    {
     "data": {
      "text/plain": [
       "array(['$132.00', '$78.00', '$70.00', nan, '$120.00', '$284.00',\n",
       "       '$457.00', '$198.00', '$139.00', '$200.00', '$59.00', '$407.00',\n",
       "       '$279.00', '$265.00', '$63.00', '$248.00', '$203.00', '$158.00',\n",
       "       '$237.00', '$267.00', '$687.00', '$116.00', '$180.00', '$179.00',\n",
       "       '$450.00', '$1,036.00', '$188.00', '$169.00', '$854.00', '$133.00',\n",
       "       '$325.00', '$136.00', '$245.00', '$299.00', '$190.00', '$580.00',\n",
       "       '$150.00', '$123.00', '$241.00', '$170.00', '$157.00', '$60.00',\n",
       "       '$355.00', '$250.00', '$630.00', '$500.00', '$215.00', '$210.00',\n",
       "       '$175.00', '$350.00', '$225.00', '$125.00', '$101.00', '$315.00',\n",
       "       '$69.00', '$86.00', '$138.00', '$143.00', '$340.00', '$283.00',\n",
       "       '$318.00', '$156.00', '$124.00', '$80.00', '$249.00', '$152.00',\n",
       "       '$166.00', '$148.00', '$395.00', '$87.00', '$100.00', '$160.00',\n",
       "       '$233.00', '$187.00', '$476.00', '$386.00', '$129.00', '$300.00',\n",
       "       '$72.00', '$294.00', '$122.00', '$130.00', '$499.00', '$117.00',\n",
       "       '$147.00', '$144.00', '$389.00', '$280.00', '$110.00', '$195.00',\n",
       "       '$252.00', '$107.00', '$425.00', '$102.00', '$89.00', '$127.00',\n",
       "       '$668.00', '$99.00', '$128.00', '$84.00', '$92.00', '$276.00',\n",
       "       '$172.00', '$95.00', '$85.00', '$289.00', '$151.00', '$808.00',\n",
       "       '$795.00', '$119.00', '$302.00', '$81.00', '$164.00', '$167.00',\n",
       "       '$240.00', '$546.00', '$224.00', '$799.00', '$349.00', '$463.00',\n",
       "       '$550.00', '$191.00', '$400.00', '$360.00', '$627.00', '$288.00',\n",
       "       '$484.00', '$428.00', '$68.00', '$121.00', '$622.00', '$118.00',\n",
       "       '$264.00', '$256.00', '$163.00', '$162.00', '$251.00', '$193.00',\n",
       "       '$387.00', '$201.00', '$94.00', '$88.00', '$475.00', '$142.00',\n",
       "       '$109.00', '$303.00', '$105.00', '$176.00', '$221.00', '$229.00',\n",
       "       '$96.00', '$263.00', '$111.00', '$310.00', '$135.00', '$113.00',\n",
       "       '$495.00', '$181.00', '$93.00', '$282.00', '$272.00', '$322.00',\n",
       "       '$214.00', '$275.00', '$405.00', '$112.00', '$238.00', '$115.00',\n",
       "       '$270.00', '$207.00', '$369.00', '$929.00', '$309.00', '$375.00',\n",
       "       '$412.00', '$177.00', '$10,000.00', '$154.00', '$145.00',\n",
       "       '$137.00', '$65.00', '$1,650.00', '$159.00', '$440.00', '$404.00',\n",
       "       '$184.00', '$56.00', '$61.00', '$73.00', '$261.00', '$79.00',\n",
       "       '$680.00', '$108.00', '$77.00', '$140.00', '$83.00', '$223.00',\n",
       "       '$171.00', '$161.00', '$494.00', '$257.00', '$235.00', '$465.00',\n",
       "       '$216.00', '$226.00', '$593.00', '$493.00', '$71.00', '$126.00',\n",
       "       '$274.00', '$356.00', '$234.00', '$206.00', '$82.00', '$295.00',\n",
       "       '$368.00', '$1,298.00', '$591.00', '$64.00', '$338.00',\n",
       "       '$1,402.00', '$314.00', '$153.00', '$461.00', '$209.00', '$114.00',\n",
       "       '$373.00', '$202.00', '$806.00', '$372.00', '$357.00', '$141.00',\n",
       "       '$76.00', '$104.00', '$185.00', '$204.00', '$599.00', '$90.00',\n",
       "       '$255.00', '$363.00', '$320.00', '$701.00', '$337.00', '$688.00',\n",
       "       '$91.00', '$205.00', '$155.00', '$269.00', '$437.00', '$285.00',\n",
       "       '$262.00', '$750.00', '$331.00', '$253.00', '$149.00', '$106.00',\n",
       "       '$766.00', '$540.00', '$74.00', '$306.00', '$424.00', '$352.00',\n",
       "       '$343.00', '$335.00', '$228.00', '$174.00', '$277.00', '$131.00',\n",
       "       '$351.00', '$364.00', '$211.00', '$344.00', '$220.00', '$213.00',\n",
       "       '$402.00', '$232.00', '$442.00', '$509.00', '$394.00', '$168.00',\n",
       "       '$600.00', '$247.00', '$361.00', '$547.00', '$183.00', '$231.00',\n",
       "       '$383.00', '$376.00', '$304.00', '$230.00', '$293.00', '$566.00',\n",
       "       '$227.00', '$1,439.00', '$305.00', '$329.00', '$239.00', '$98.00',\n",
       "       '$385.00', '$497.00', '$291.00', '$134.00', '$189.00', '$196.00',\n",
       "       '$254.00', '$695.00', '$638.00', '$651.00', '$268.00', '$186.00',\n",
       "       '$50.00', '$529.00', '$460.00', '$208.00', '$502.00', '$882.00',\n",
       "       '$370.00', '$382.00', '$380.00', '$324.00', '$273.00', '$212.00',\n",
       "       '$182.00', '$496.00', '$53.00', '$165.00', '$197.00', '$286.00',\n",
       "       '$278.00', '$1,228.00', '$432.00', '$422.00', '$399.00', '$420.00',\n",
       "       '$321.00', '$103.00', '$558.00', '$66.00', '$333.00', '$585.00',\n",
       "       '$501.00', '$316.00', '$765.00', '$653.00', '$341.00', '$236.00',\n",
       "       '$346.00', '$359.00', '$467.00', '$715.00', '$266.00', '$453.00',\n",
       "       '$323.00', '$390.00', '$49.00', '$348.00', '$677.00', '$259.00',\n",
       "       '$271.00', '$423.00', '$608.00', '$1,500.00', '$1,754.00',\n",
       "       '$219.00', '$451.00', '$471.00', '$417.00', '$435.00', '$199.00',\n",
       "       '$287.00', '$523.00', '$472.00', '$477.00', '$244.00', '$393.00',\n",
       "       '$427.00', '$1,857.00', '$406.00', '$194.00', '$900.00', '$146.00',\n",
       "       '$347.00', '$388.00', '$419.00', '$75.00', '$401.00', '$311.00',\n",
       "       '$307.00', '$330.00', '$242.00', '$379.00', '$950.00', '$308.00',\n",
       "       '$414.00', '$1,153.00', '$464.00', '$14,428.00', '$173.00',\n",
       "       '$470.00', '$769.00', '$848.00', '$726.00', '$714.00', '$445.00',\n",
       "       '$824.00', '$178.00', '$97.00', '$243.00', '$365.00', '$298.00',\n",
       "       '$192.00', '$1,136.00', '$733.00', '$281.00', '$1,000.00',\n",
       "       '$377.00', '$626.00', '$623.00', '$336.00', '$62.00', '$332.00',\n",
       "       '$670.00', '$431.00', '$218.00', '$438.00', '$565.00', '$446.00',\n",
       "       '$949.00', '$260.00', '$58.00', '$503.00', '$312.00', '$1,286.00',\n",
       "       '$290.00', '$538.00', '$1,524.00', '$57.00', '$345.00', '$398.00',\n",
       "       '$736.00', '$246.00', '$371.00', '$297.00', '$454.00', '$326.00',\n",
       "       '$530.00', '$35.00', '$37.00', '$491.00', '$366.00', '$391.00',\n",
       "       '$449.00', '$759.00', '$396.00', '$480.00', '$301.00', '$570.00',\n",
       "       '$1,780.00', '$381.00', '$327.00', '$588.00', '$487.00',\n",
       "       '$1,543.00', '$999.00', '$621.00', '$433.00', '$850.00', '$353.00',\n",
       "       '$675.00', '$800.00', '$292.00', '$392.00', '$1,468.00', '$222.00',\n",
       "       '$488.00', '$67.00', '$632.00', '$506.00', '$319.00', '$578.00',\n",
       "       '$966.00', '$618.00', '$617.00', '$665.00', '$561.00', '$1,490.00',\n",
       "       '$845.00', '$4,500.00', '$777.00', '$328.00', '$32.00', '$486.00',\n",
       "       '$34.00', '$507.00', '$421.00', '$625.00', '$313.00', '$536.00',\n",
       "       '$539.00', '$489.00', '$1,399.00', '$810.00', '$384.00', '$511.00',\n",
       "       '$52.00', '$650.00', '$545.00', '$258.00', '$1,264.00', '$339.00',\n",
       "       '$520.00', '$560.00', '$844.00', '$693.00', '$776.00', '$296.00',\n",
       "       '$582.00', '$334.00', '$8.00', '$700.00', '$10.00', '$5,200.00',\n",
       "       '$601.00', '$866.00', '$436.00', '$860.00', '$595.00', '$3,304.00',\n",
       "       '$444.00', '$410.00', '$541.00', '$1,473.00', '$694.00', '$774.00',\n",
       "       '$485.00', '$734.00', '$574.00', '$409.00', '$378.00', '$1,100.00',\n",
       "       '$640.00', '$1,030.00', '$620.00', '$358.00', '$581.00', '$739.00',\n",
       "       '$936.00', '$505.00', '$685.00', '$663.00', '$1,995.00', '$629.00',\n",
       "       '$567.00', '$441.00', '$217.00', '$42.00', '$47.00', '$722.00',\n",
       "       '$710.00', '$1,271.00', '$553.00', '$1,007.00', '$448.00',\n",
       "       '$720.00', '$455.00', '$587.00', '$597.00', '$456.00', '$416.00',\n",
       "       '$645.00', '$1,164.00', '$855.00', '$679.00', '$594.00', '$525.00',\n",
       "       '$1,418.00', '$891.00', '$612.00', '$429.00', '$1,056.00',\n",
       "       '$508.00', '$439.00', '$1,800.00', '$905.00', '$490.00',\n",
       "       '$1,004.00', '$757.00', '$374.00', '$342.00', '$418.00', '$995.00',\n",
       "       '$447.00', '$607.00', '$443.00', '$789.00', '$760.00', '$669.00',\n",
       "       '$1,040.00', '$515.00', '$522.00', '$713.00', '$696.00',\n",
       "       '$1,602.00', '$50,000.00', '$40,000.00', '$514.00', '$1,350.00',\n",
       "       '$920.00', '$473.00', '$2,965.00', '$712.00', '$2,243.00',\n",
       "       '$823.00', '$1,287.00', '$1,773.00', '$1,600.00', '$474.00',\n",
       "       '$80,018.00', '$1,393.00', '$1,452.00', '$513.00', '$1,250.00',\n",
       "       '$1,498.00', '$589.00', '$362.00', '$1,513.00', '$609.00',\n",
       "       '$469.00', '$636.00', '$479.00', '$411.00', '$519.00', '$459.00',\n",
       "       '$430.00', '$367.00', '$681.00', '$534.00', '$575.00', '$702.00',\n",
       "       '$413.00', '$699.00', '$544.00', '$628.00', '$462.00', '$807.00',\n",
       "       '$555.00', '$483.00', '$755.00', '$397.00', '$1,801.00', '$899.00',\n",
       "       '$1,093.00', '$41.00', '$45.00', '$598.00', '$1,062.00', '$55.00',\n",
       "       '$1,115.00', '$557.00', '$9,999.00', '$531.00', '$709.00',\n",
       "       '$1,080.00', '$452.00', '$1,142.00', '$951.00', '$317.00',\n",
       "       '$2,918.00', '$840.00', '$533.00', '$1,020.00', '$614.00',\n",
       "       '$979.00', '$468.00', '$1,539.00', '$1,055.00', '$14,617.00',\n",
       "       '$586.00'], dtype=object)"
      ]
     },
     "execution_count": 34,
     "metadata": {},
     "output_type": "execute_result"
    }
   ],
   "source": [
    "# data unik dari pada kolom price\n",
    "bnb['price'].unique()"
   ]
  },
  {
   "cell_type": "markdown",
   "id": "aedd5212",
   "metadata": {},
   "source": [
    "Summary:\n",
    "\n",
    "- Semua data price memiliki tanda `$`\n",
    "- Untuk price yang mencapai ribuan, digunakan tanda `,` (koma).\n",
    "\n",
    "Sebelum mengconvert data tersebut menjadi float, kita akan menghilangkan tanda `$` dan `,` dari data price."
   ]
  },
  {
   "cell_type": "code",
   "execution_count": 35,
   "id": "816a66e6",
   "metadata": {},
   "outputs": [],
   "source": [
    "# menghilangkan tanda $\n",
    "bnb['price'] = bnb['price'].str.replace('$', \"\")\n",
    "\n",
    "# menghilangkan tanda , (koma)\n",
    "bnb['price'] = bnb['price'].str.replace(\",\", \"\")\n",
    "\n",
    "# Terakhir, convert tipe data menjadi float\n",
    "bnb['price'] = bnb['price'].astype(float)"
   ]
  },
  {
   "cell_type": "markdown",
   "id": "a0b59001",
   "metadata": {},
   "source": [
    "validasi"
   ]
  },
  {
   "cell_type": "code",
   "execution_count": 36,
   "id": "b3f5329e",
   "metadata": {},
   "outputs": [
    {
     "name": "stdout",
     "output_type": "stream",
     "text": [
      "<class 'pandas.core.frame.DataFrame'>\n",
      "RangeIndex: 10168 entries, 0 to 10167\n",
      "Data columns (total 1 columns):\n",
      " #   Column  Non-Null Count  Dtype  \n",
      "---  ------  --------------  -----  \n",
      " 0   price   6321 non-null   float64\n",
      "dtypes: float64(1)\n",
      "memory usage: 79.6 KB\n"
     ]
    }
   ],
   "source": [
    "# menampilkan informasi pada kolom price\n",
    "bnb[['price']].info()\n",
    "\n",
    "# sudah berubah jadi float"
   ]
  },
  {
   "cell_type": "code",
   "execution_count": 37,
   "id": "bdd28073",
   "metadata": {},
   "outputs": [
    {
     "data": {
      "text/plain": [
       "array([1.3200e+02, 7.8000e+01, 7.0000e+01,        nan, 1.2000e+02,\n",
       "       2.8400e+02, 4.5700e+02, 1.9800e+02, 1.3900e+02, 2.0000e+02,\n",
       "       5.9000e+01, 4.0700e+02, 2.7900e+02, 2.6500e+02, 6.3000e+01,\n",
       "       2.4800e+02, 2.0300e+02, 1.5800e+02, 2.3700e+02, 2.6700e+02,\n",
       "       6.8700e+02, 1.1600e+02, 1.8000e+02, 1.7900e+02, 4.5000e+02,\n",
       "       1.0360e+03, 1.8800e+02, 1.6900e+02, 8.5400e+02, 1.3300e+02,\n",
       "       3.2500e+02, 1.3600e+02, 2.4500e+02, 2.9900e+02, 1.9000e+02,\n",
       "       5.8000e+02, 1.5000e+02, 1.2300e+02, 2.4100e+02, 1.7000e+02,\n",
       "       1.5700e+02, 6.0000e+01, 3.5500e+02, 2.5000e+02, 6.3000e+02,\n",
       "       5.0000e+02, 2.1500e+02, 2.1000e+02, 1.7500e+02, 3.5000e+02,\n",
       "       2.2500e+02, 1.2500e+02, 1.0100e+02, 3.1500e+02, 6.9000e+01,\n",
       "       8.6000e+01, 1.3800e+02, 1.4300e+02, 3.4000e+02, 2.8300e+02,\n",
       "       3.1800e+02, 1.5600e+02, 1.2400e+02, 8.0000e+01, 2.4900e+02,\n",
       "       1.5200e+02, 1.6600e+02, 1.4800e+02, 3.9500e+02, 8.7000e+01,\n",
       "       1.0000e+02, 1.6000e+02, 2.3300e+02, 1.8700e+02, 4.7600e+02,\n",
       "       3.8600e+02, 1.2900e+02, 3.0000e+02, 7.2000e+01, 2.9400e+02,\n",
       "       1.2200e+02, 1.3000e+02, 4.9900e+02, 1.1700e+02, 1.4700e+02,\n",
       "       1.4400e+02, 3.8900e+02, 2.8000e+02, 1.1000e+02, 1.9500e+02,\n",
       "       2.5200e+02, 1.0700e+02, 4.2500e+02, 1.0200e+02, 8.9000e+01,\n",
       "       1.2700e+02, 6.6800e+02, 9.9000e+01, 1.2800e+02, 8.4000e+01,\n",
       "       9.2000e+01, 2.7600e+02, 1.7200e+02, 9.5000e+01, 8.5000e+01,\n",
       "       2.8900e+02, 1.5100e+02, 8.0800e+02, 7.9500e+02, 1.1900e+02,\n",
       "       3.0200e+02, 8.1000e+01, 1.6400e+02, 1.6700e+02, 2.4000e+02,\n",
       "       5.4600e+02, 2.2400e+02, 7.9900e+02, 3.4900e+02, 4.6300e+02,\n",
       "       5.5000e+02, 1.9100e+02, 4.0000e+02, 3.6000e+02, 6.2700e+02,\n",
       "       2.8800e+02, 4.8400e+02, 4.2800e+02, 6.8000e+01, 1.2100e+02,\n",
       "       6.2200e+02, 1.1800e+02, 2.6400e+02, 2.5600e+02, 1.6300e+02,\n",
       "       1.6200e+02, 2.5100e+02, 1.9300e+02, 3.8700e+02, 2.0100e+02,\n",
       "       9.4000e+01, 8.8000e+01, 4.7500e+02, 1.4200e+02, 1.0900e+02,\n",
       "       3.0300e+02, 1.0500e+02, 1.7600e+02, 2.2100e+02, 2.2900e+02,\n",
       "       9.6000e+01, 2.6300e+02, 1.1100e+02, 3.1000e+02, 1.3500e+02,\n",
       "       1.1300e+02, 4.9500e+02, 1.8100e+02, 9.3000e+01, 2.8200e+02,\n",
       "       2.7200e+02, 3.2200e+02, 2.1400e+02, 2.7500e+02, 4.0500e+02,\n",
       "       1.1200e+02, 2.3800e+02, 1.1500e+02, 2.7000e+02, 2.0700e+02,\n",
       "       3.6900e+02, 9.2900e+02, 3.0900e+02, 3.7500e+02, 4.1200e+02,\n",
       "       1.7700e+02, 1.0000e+04, 1.5400e+02, 1.4500e+02, 1.3700e+02,\n",
       "       6.5000e+01, 1.6500e+03, 1.5900e+02, 4.4000e+02, 4.0400e+02,\n",
       "       1.8400e+02, 5.6000e+01, 6.1000e+01, 7.3000e+01, 2.6100e+02,\n",
       "       7.9000e+01, 6.8000e+02, 1.0800e+02, 7.7000e+01, 1.4000e+02,\n",
       "       8.3000e+01, 2.2300e+02, 1.7100e+02, 1.6100e+02, 4.9400e+02,\n",
       "       2.5700e+02, 2.3500e+02, 4.6500e+02, 2.1600e+02, 2.2600e+02,\n",
       "       5.9300e+02, 4.9300e+02, 7.1000e+01, 1.2600e+02, 2.7400e+02,\n",
       "       3.5600e+02, 2.3400e+02, 2.0600e+02, 8.2000e+01, 2.9500e+02,\n",
       "       3.6800e+02, 1.2980e+03, 5.9100e+02, 6.4000e+01, 3.3800e+02,\n",
       "       1.4020e+03, 3.1400e+02, 1.5300e+02, 4.6100e+02, 2.0900e+02,\n",
       "       1.1400e+02, 3.7300e+02, 2.0200e+02, 8.0600e+02, 3.7200e+02,\n",
       "       3.5700e+02, 1.4100e+02, 7.6000e+01, 1.0400e+02, 1.8500e+02,\n",
       "       2.0400e+02, 5.9900e+02, 9.0000e+01, 2.5500e+02, 3.6300e+02,\n",
       "       3.2000e+02, 7.0100e+02, 3.3700e+02, 6.8800e+02, 9.1000e+01,\n",
       "       2.0500e+02, 1.5500e+02, 2.6900e+02, 4.3700e+02, 2.8500e+02,\n",
       "       2.6200e+02, 7.5000e+02, 3.3100e+02, 2.5300e+02, 1.4900e+02,\n",
       "       1.0600e+02, 7.6600e+02, 5.4000e+02, 7.4000e+01, 3.0600e+02,\n",
       "       4.2400e+02, 3.5200e+02, 3.4300e+02, 3.3500e+02, 2.2800e+02,\n",
       "       1.7400e+02, 2.7700e+02, 1.3100e+02, 3.5100e+02, 3.6400e+02,\n",
       "       2.1100e+02, 3.4400e+02, 2.2000e+02, 2.1300e+02, 4.0200e+02,\n",
       "       2.3200e+02, 4.4200e+02, 5.0900e+02, 3.9400e+02, 1.6800e+02,\n",
       "       6.0000e+02, 2.4700e+02, 3.6100e+02, 5.4700e+02, 1.8300e+02,\n",
       "       2.3100e+02, 3.8300e+02, 3.7600e+02, 3.0400e+02, 2.3000e+02,\n",
       "       2.9300e+02, 5.6600e+02, 2.2700e+02, 1.4390e+03, 3.0500e+02,\n",
       "       3.2900e+02, 2.3900e+02, 9.8000e+01, 3.8500e+02, 4.9700e+02,\n",
       "       2.9100e+02, 1.3400e+02, 1.8900e+02, 1.9600e+02, 2.5400e+02,\n",
       "       6.9500e+02, 6.3800e+02, 6.5100e+02, 2.6800e+02, 1.8600e+02,\n",
       "       5.0000e+01, 5.2900e+02, 4.6000e+02, 2.0800e+02, 5.0200e+02,\n",
       "       8.8200e+02, 3.7000e+02, 3.8200e+02, 3.8000e+02, 3.2400e+02,\n",
       "       2.7300e+02, 2.1200e+02, 1.8200e+02, 4.9600e+02, 5.3000e+01,\n",
       "       1.6500e+02, 1.9700e+02, 2.8600e+02, 2.7800e+02, 1.2280e+03,\n",
       "       4.3200e+02, 4.2200e+02, 3.9900e+02, 4.2000e+02, 3.2100e+02,\n",
       "       1.0300e+02, 5.5800e+02, 6.6000e+01, 3.3300e+02, 5.8500e+02,\n",
       "       5.0100e+02, 3.1600e+02, 7.6500e+02, 6.5300e+02, 3.4100e+02,\n",
       "       2.3600e+02, 3.4600e+02, 3.5900e+02, 4.6700e+02, 7.1500e+02,\n",
       "       2.6600e+02, 4.5300e+02, 3.2300e+02, 3.9000e+02, 4.9000e+01,\n",
       "       3.4800e+02, 6.7700e+02, 2.5900e+02, 2.7100e+02, 4.2300e+02,\n",
       "       6.0800e+02, 1.5000e+03, 1.7540e+03, 2.1900e+02, 4.5100e+02,\n",
       "       4.7100e+02, 4.1700e+02, 4.3500e+02, 1.9900e+02, 2.8700e+02,\n",
       "       5.2300e+02, 4.7200e+02, 4.7700e+02, 2.4400e+02, 3.9300e+02,\n",
       "       4.2700e+02, 1.8570e+03, 4.0600e+02, 1.9400e+02, 9.0000e+02,\n",
       "       1.4600e+02, 3.4700e+02, 3.8800e+02, 4.1900e+02, 7.5000e+01,\n",
       "       4.0100e+02, 3.1100e+02, 3.0700e+02, 3.3000e+02, 2.4200e+02,\n",
       "       3.7900e+02, 9.5000e+02, 3.0800e+02, 4.1400e+02, 1.1530e+03,\n",
       "       4.6400e+02, 1.4428e+04, 1.7300e+02, 4.7000e+02, 7.6900e+02,\n",
       "       8.4800e+02, 7.2600e+02, 7.1400e+02, 4.4500e+02, 8.2400e+02,\n",
       "       1.7800e+02, 9.7000e+01, 2.4300e+02, 3.6500e+02, 2.9800e+02,\n",
       "       1.9200e+02, 1.1360e+03, 7.3300e+02, 2.8100e+02, 1.0000e+03,\n",
       "       3.7700e+02, 6.2600e+02, 6.2300e+02, 3.3600e+02, 6.2000e+01,\n",
       "       3.3200e+02, 6.7000e+02, 4.3100e+02, 2.1800e+02, 4.3800e+02,\n",
       "       5.6500e+02, 4.4600e+02, 9.4900e+02, 2.6000e+02, 5.8000e+01,\n",
       "       5.0300e+02, 3.1200e+02, 1.2860e+03, 2.9000e+02, 5.3800e+02,\n",
       "       1.5240e+03, 5.7000e+01, 3.4500e+02, 3.9800e+02, 7.3600e+02,\n",
       "       2.4600e+02, 3.7100e+02, 2.9700e+02, 4.5400e+02, 3.2600e+02,\n",
       "       5.3000e+02, 3.5000e+01, 3.7000e+01, 4.9100e+02, 3.6600e+02,\n",
       "       3.9100e+02, 4.4900e+02, 7.5900e+02, 3.9600e+02, 4.8000e+02,\n",
       "       3.0100e+02, 5.7000e+02, 1.7800e+03, 3.8100e+02, 3.2700e+02,\n",
       "       5.8800e+02, 4.8700e+02, 1.5430e+03, 9.9900e+02, 6.2100e+02,\n",
       "       4.3300e+02, 8.5000e+02, 3.5300e+02, 6.7500e+02, 8.0000e+02,\n",
       "       2.9200e+02, 3.9200e+02, 1.4680e+03, 2.2200e+02, 4.8800e+02,\n",
       "       6.7000e+01, 6.3200e+02, 5.0600e+02, 3.1900e+02, 5.7800e+02,\n",
       "       9.6600e+02, 6.1800e+02, 6.1700e+02, 6.6500e+02, 5.6100e+02,\n",
       "       1.4900e+03, 8.4500e+02, 4.5000e+03, 7.7700e+02, 3.2800e+02,\n",
       "       3.2000e+01, 4.8600e+02, 3.4000e+01, 5.0700e+02, 4.2100e+02,\n",
       "       6.2500e+02, 3.1300e+02, 5.3600e+02, 5.3900e+02, 4.8900e+02,\n",
       "       1.3990e+03, 8.1000e+02, 3.8400e+02, 5.1100e+02, 5.2000e+01,\n",
       "       6.5000e+02, 5.4500e+02, 2.5800e+02, 1.2640e+03, 3.3900e+02,\n",
       "       5.2000e+02, 5.6000e+02, 8.4400e+02, 6.9300e+02, 7.7600e+02,\n",
       "       2.9600e+02, 5.8200e+02, 3.3400e+02, 8.0000e+00, 7.0000e+02,\n",
       "       1.0000e+01, 5.2000e+03, 6.0100e+02, 8.6600e+02, 4.3600e+02,\n",
       "       8.6000e+02, 5.9500e+02, 3.3040e+03, 4.4400e+02, 4.1000e+02,\n",
       "       5.4100e+02, 1.4730e+03, 6.9400e+02, 7.7400e+02, 4.8500e+02,\n",
       "       7.3400e+02, 5.7400e+02, 4.0900e+02, 3.7800e+02, 1.1000e+03,\n",
       "       6.4000e+02, 1.0300e+03, 6.2000e+02, 3.5800e+02, 5.8100e+02,\n",
       "       7.3900e+02, 9.3600e+02, 5.0500e+02, 6.8500e+02, 6.6300e+02,\n",
       "       1.9950e+03, 6.2900e+02, 5.6700e+02, 4.4100e+02, 2.1700e+02,\n",
       "       4.2000e+01, 4.7000e+01, 7.2200e+02, 7.1000e+02, 1.2710e+03,\n",
       "       5.5300e+02, 1.0070e+03, 4.4800e+02, 7.2000e+02, 4.5500e+02,\n",
       "       5.8700e+02, 5.9700e+02, 4.5600e+02, 4.1600e+02, 6.4500e+02,\n",
       "       1.1640e+03, 8.5500e+02, 6.7900e+02, 5.9400e+02, 5.2500e+02,\n",
       "       1.4180e+03, 8.9100e+02, 6.1200e+02, 4.2900e+02, 1.0560e+03,\n",
       "       5.0800e+02, 4.3900e+02, 1.8000e+03, 9.0500e+02, 4.9000e+02,\n",
       "       1.0040e+03, 7.5700e+02, 3.7400e+02, 3.4200e+02, 4.1800e+02,\n",
       "       9.9500e+02, 4.4700e+02, 6.0700e+02, 4.4300e+02, 7.8900e+02,\n",
       "       7.6000e+02, 6.6900e+02, 1.0400e+03, 5.1500e+02, 5.2200e+02,\n",
       "       7.1300e+02, 6.9600e+02, 1.6020e+03, 5.0000e+04, 4.0000e+04,\n",
       "       5.1400e+02, 1.3500e+03, 9.2000e+02, 4.7300e+02, 2.9650e+03,\n",
       "       7.1200e+02, 2.2430e+03, 8.2300e+02, 1.2870e+03, 1.7730e+03,\n",
       "       1.6000e+03, 4.7400e+02, 8.0018e+04, 1.3930e+03, 1.4520e+03,\n",
       "       5.1300e+02, 1.2500e+03, 1.4980e+03, 5.8900e+02, 3.6200e+02,\n",
       "       1.5130e+03, 6.0900e+02, 4.6900e+02, 6.3600e+02, 4.7900e+02,\n",
       "       4.1100e+02, 5.1900e+02, 4.5900e+02, 4.3000e+02, 3.6700e+02,\n",
       "       6.8100e+02, 5.3400e+02, 5.7500e+02, 7.0200e+02, 4.1300e+02,\n",
       "       6.9900e+02, 5.4400e+02, 6.2800e+02, 4.6200e+02, 8.0700e+02,\n",
       "       5.5500e+02, 4.8300e+02, 7.5500e+02, 3.9700e+02, 1.8010e+03,\n",
       "       8.9900e+02, 1.0930e+03, 4.1000e+01, 4.5000e+01, 5.9800e+02,\n",
       "       1.0620e+03, 5.5000e+01, 1.1150e+03, 5.5700e+02, 9.9990e+03,\n",
       "       5.3100e+02, 7.0900e+02, 1.0800e+03, 4.5200e+02, 1.1420e+03,\n",
       "       9.5100e+02, 3.1700e+02, 2.9180e+03, 8.4000e+02, 5.3300e+02,\n",
       "       1.0200e+03, 6.1400e+02, 9.7900e+02, 4.6800e+02, 1.5390e+03,\n",
       "       1.0550e+03, 1.4617e+04, 5.8600e+02])"
      ]
     },
     "execution_count": 37,
     "metadata": {},
     "output_type": "execute_result"
    }
   ],
   "source": [
    "# Data unik pada kolom price\n",
    "bnb['price'].unique()"
   ]
  },
  {
   "cell_type": "markdown",
   "id": "668be882",
   "metadata": {},
   "source": [
    "---\n",
    "# **3. Identify and Handling Outlier**"
   ]
  },
  {
   "cell_type": "markdown",
   "id": "5738a74d",
   "metadata": {},
   "source": [
    "- Outlier biasanya terdapat pada kolom bertipe numeric.\n",
    "- Pada kasus kali ini, kita akan mengidentifikasi outlier pada kolom price.\n",
    "- Kita dapat menampilkan sebaran data price menggunakan histogram"
   ]
  },
  {
   "cell_type": "code",
   "execution_count": 39,
   "id": "60b1853a",
   "metadata": {},
   "outputs": [
    {
     "data": {
      "image/png": "[encoded data removed]",
      "text/plain": [
       "<Figure size 1000x600 with 1 Axes>"
      ]
     },
     "metadata": {},
     "output_type": "display_data"
    }
   ],
   "source": [
    "# buat figure dan axes \\\n",
    "fig, ax = plt.subplots(figsize = (10, 6))\n",
    "\n",
    "# buat histogram plot price\n",
    "sns.histplot(data = bnb, \n",
    "             x = 'price', \n",
    "             bins = 100, \n",
    "             ax = ax)\n",
    "\n",
    "plt.show()"
   ]
  },
  {
   "cell_type": "markdown",
   "id": "dd172c2b",
   "metadata": {},
   "source": [
    "validasi "
   ]
  },
  {
   "cell_type": "code",
   "execution_count": 40,
   "id": "cab655e3",
   "metadata": {},
   "outputs": [
    {
     "data": {
      "application/vnd.microsoft.datawrangler.viewer.v0+json": {
       "columns": [
        {
         "name": "index",
         "rawType": "object",
         "type": "string"
        },
        {
         "name": "price",
         "rawType": "float64",
         "type": "float"
        }
       ],
       "ref": "3792e1f8-df8d-4069-be19-1e68b47365f6",
       "rows": [
        [
         "count",
         "6321.0"
        ],
        [
         "mean",
         "364.92216421452304"
        ],
        [
         "std",
         "2288.990695772492"
        ],
        [
         "min",
         "8.0"
        ],
        [
         "25%",
         "162.0"
        ],
        [
         "50%",
         "223.0"
        ],
        [
         "75%",
         "315.0"
        ],
        [
         "max",
         "80018.0"
        ]
       ],
       "shape": {
        "columns": 1,
        "rows": 8
       }
      },
      "text/plain": [
       "count     6321.000000\n",
       "mean       364.922164\n",
       "std       2288.990696\n",
       "min          8.000000\n",
       "25%        162.000000\n",
       "50%        223.000000\n",
       "75%        315.000000\n",
       "max      80018.000000\n",
       "Name: price, dtype: float64"
      ]
     },
     "execution_count": 40,
     "metadata": {},
     "output_type": "execute_result"
    }
   ],
   "source": [
    "bnb['price'].describe()"
   ]
  },
  {
   "cell_type": "markdown",
   "id": "562bec1f",
   "metadata": {},
   "source": [
    "Masih ingat gambar ini?\n",
    "\n",
    "<center>\n",
    "<img src=\"https://miro.medium.com/max/720/1*0MPDTLn8KoLApoFvI0P2vQ.webp\">\n",
    "<br>\n",
    "<a href=\"https://medium.com/@agarwal.vishal819/outlier-detection-with-boxplots-1b6757fafa21\">source</a>\n",
    "</center>\n",
    "\n"
   ]
  },
  {
   "cell_type": "markdown",
   "id": "6ae955bd",
   "metadata": {},
   "source": [
    "- Kita akan tentukan suatu data adalah outlier, apabila nilainya lebih besar dari Q3 + 1.5 IQR"
   ]
  },
  {
   "cell_type": "code",
   "execution_count": 41,
   "id": "e1ec7329",
   "metadata": {},
   "outputs": [
    {
     "name": "stdout",
     "output_type": "stream",
     "text": [
      "Q1 :  162.00\n",
      "Q3 :  315.00\n"
     ]
    }
   ],
   "source": [
    "# cari Q1 dan Q3 \n",
    "Q1 = bnb.price.quantile(0.25)\n",
    "Q3 = bnb.price.quantile(0.75)\n",
    "\n",
    "print(f\"Q1 : {Q1: .2f}\")\n",
    "print(f\"Q3 : {Q3: .2f}\")"
   ]
  },
  {
   "cell_type": "code",
   "execution_count": 42,
   "id": "a78f2bcd",
   "metadata": {},
   "outputs": [
    {
     "name": "stdout",
     "output_type": "stream",
     "text": [
      "IQR :  153.00\n",
      "Maximum Boundary :  544.50\n"
     ]
    }
   ],
   "source": [
    "# cari IQR & BATAS MAXIMUM\n",
    "IQR = Q3 - Q1\n",
    "max_bound = Q3 + 1.5*IQR\n",
    "\n",
    "print(f\"IQR : {IQR: .2F}\")\n",
    "print(f\"Maximum Boundary : {max_bound: .2F}\")"
   ]
  },
  {
   "cell_type": "code",
   "execution_count": 44,
   "id": "c59a1175",
   "metadata": {},
   "outputs": [],
   "source": [
    "# filter data tanpa outlier\n",
    "bnb = bnb[bnb['price'] < max_bound]"
   ]
  },
  {
   "cell_type": "code",
   "execution_count": 45,
   "id": "c4ca0f0c",
   "metadata": {},
   "outputs": [
    {
     "data": {
      "application/vnd.microsoft.datawrangler.viewer.v0+json": {
       "columns": [
        {
         "name": "index",
         "rawType": "object",
         "type": "string"
        },
        {
         "name": "price",
         "rawType": "float64",
         "type": "float"
        }
       ],
       "ref": "4b77ce14-5abc-40cd-ac55-590bde587eb2",
       "rows": [
        [
         "count",
         "5984.0"
        ],
        [
         "mean",
         "233.60929144385025"
        ],
        [
         "std",
         "102.66379437503667"
        ],
        [
         "min",
         "8.0"
        ],
        [
         "25%",
         "158.0"
        ],
        [
         "50%",
         "215.0"
        ],
        [
         "75%",
         "296.0"
        ],
        [
         "max",
         "544.0"
        ]
       ],
       "shape": {
        "columns": 1,
        "rows": 8
       }
      },
      "text/plain": [
       "count    5984.000000\n",
       "mean      233.609291\n",
       "std       102.663794\n",
       "min         8.000000\n",
       "25%       158.000000\n",
       "50%       215.000000\n",
       "75%       296.000000\n",
       "max       544.000000\n",
       "Name: price, dtype: float64"
      ]
     },
     "execution_count": 45,
     "metadata": {},
     "output_type": "execute_result"
    }
   ],
   "source": [
    "# validasi hasil filter\n",
    "bnb['price'].describe()"
   ]
  },
  {
   "cell_type": "markdown",
   "id": "030850d2",
   "metadata": {},
   "source": [
    "- Terlihat Q3 dan nilai maximum sudah tidak berbeda jauh\n",
    "- Outlier telah dihilangkan"
   ]
  },
  {
   "cell_type": "code",
   "execution_count": 46,
   "id": "8fd2d883",
   "metadata": {},
   "outputs": [
    {
     "data": {
      "text/plain": [
       "<Axes: xlabel='price', ylabel='Count'>"
      ]
     },
     "execution_count": 46,
     "metadata": {},
     "output_type": "execute_result"
    },
    {
     "data": {
      "image/png": "[encoded data removed]",
      "text/plain": [
       "<Figure size 1000x600 with 1 Axes>"
      ]
     },
     "metadata": {},
     "output_type": "display_data"
    }
   ],
   "source": [
    "# buat figure dan Axes \n",
    "fig, ax = plt.subplots(figsize = (10, 6))\n",
    "\n",
    "# buat hsitogram plot price\n",
    "sns.histplot(data = bnb,\n",
    "             x = 'price', \n",
    "             bins = 100, \n",
    "             ax = ax)\n",
    "\n",
    "# visualisasi"
   ]
  },
  {
   "cell_type": "markdown",
   "id": "4e41e568",
   "metadata": {},
   "source": [
    "---\n",
    "# **KEY TAKEAWAYS**\n",
    "\n",
    "Sampai disini kita telah berhasil mengatasi beberapa permasalahan pada data yang dimiliki.\n",
    "1. Menghapus kolom yang memiliki persentase missing value diatas 90%\n",
    "2. Mengatasi inkonsistensi pada kolom price\n",
    "3. Memfilter outlier pada kolom price"
   ]
  },
  {
   "cell_type": "code",
   "execution_count": null,
   "id": "817c2883",
   "metadata": {},
   "outputs": [],
   "source": []
  }
 ],
 "metadata": {
  "kernelspec": {
   "display_name": "Python 3",
   "language": "python",
   "name": "python3"
  },
  "language_info": {
   "codemirror_mode": {
    "name": "ipython",
    "version": 3
   },
   "file_extension": ".py",
   "mimetype": "text/x-python",
   "name": "python",
   "nbconvert_exporter": "python",
   "pygments_lexer": "ipython3",
   "version": "3.12.7"
  }
 },
 "nbformat": 4,
 "nbformat_minor": 5
}
