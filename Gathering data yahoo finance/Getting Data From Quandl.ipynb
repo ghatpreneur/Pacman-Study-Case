{
 "cells": [
  {
   "cell_type": "markdown",
   "id": "971ab849",
   "metadata": {},
   "source": [
    "import library"
   ]
  },
  {
   "cell_type": "code",
   "execution_count": 1,
   "id": "89947b82",
   "metadata": {},
   "outputs": [
    {
     "name": "stdout",
     "output_type": "stream",
     "text": [
      "Collecting quandl\n",
      "  Downloading Quandl-3.7.0-py2.py3-none-any.whl.metadata (1.3 kB)\n",
      "Requirement already satisfied: pandas>=0.14 in c:\\users\\ghatfan\\appdata\\local\\programs\\python\\python312\\lib\\site-packages (from quandl) (2.2.3)\n",
      "Requirement already satisfied: numpy>=1.8 in c:\\users\\ghatfan\\appdata\\local\\programs\\python\\python312\\lib\\site-packages (from quandl) (1.26.4)\n",
      "Requirement already satisfied: requests>=2.7.0 in c:\\users\\ghatfan\\appdata\\local\\programs\\python\\python312\\lib\\site-packages (from quandl) (2.32.3)\n",
      "Collecting inflection>=0.3.1 (from quandl)\n",
      "  Downloading inflection-0.5.1-py2.py3-none-any.whl.metadata (1.7 kB)\n",
      "Requirement already satisfied: python-dateutil in c:\\users\\ghatfan\\appdata\\roaming\\python\\python312\\site-packages (from quandl) (2.9.0.post0)\n",
      "Requirement already satisfied: six in c:\\users\\ghatfan\\appdata\\roaming\\python\\python312\\site-packages (from quandl) (1.17.0)\n",
      "Collecting more-itertools (from quandl)\n",
      "  Using cached more_itertools-10.8.0-py3-none-any.whl.metadata (39 kB)\n",
      "Requirement already satisfied: pytz>=2020.1 in c:\\users\\ghatfan\\appdata\\local\\programs\\python\\python312\\lib\\site-packages (from pandas>=0.14->quandl) (2025.1)\n",
      "Requirement already satisfied: tzdata>=2022.7 in c:\\users\\ghatfan\\appdata\\local\\programs\\python\\python312\\lib\\site-packages (from pandas>=0.14->quandl) (2025.1)\n",
      "Requirement already satisfied: charset-normalizer<4,>=2 in c:\\users\\ghatfan\\appdata\\local\\programs\\python\\python312\\lib\\site-packages (from requests>=2.7.0->quandl) (3.4.1)\n",
      "Requirement already satisfied: idna<4,>=2.5 in c:\\users\\ghatfan\\appdata\\local\\programs\\python\\python312\\lib\\site-packages (from requests>=2.7.0->quandl) (3.10)\n",
      "Requirement already satisfied: urllib3<3,>=1.21.1 in c:\\users\\ghatfan\\appdata\\local\\programs\\python\\python312\\lib\\site-packages (from requests>=2.7.0->quandl) (2.4.0)\n",
      "Requirement already satisfied: certifi>=2017.4.17 in c:\\users\\ghatfan\\appdata\\local\\programs\\python\\python312\\lib\\site-packages (from requests>=2.7.0->quandl) (2025.4.26)\n",
      "Downloading Quandl-3.7.0-py2.py3-none-any.whl (26 kB)\n",
      "Downloading inflection-0.5.1-py2.py3-none-any.whl (9.5 kB)\n",
      "Downloading more_itertools-10.8.0-py3-none-any.whl (69 kB)\n",
      "Installing collected packages: more-itertools, inflection, quandl\n",
      "\n",
      "   ------------- -------------------------- 1/3 [inflection]\n",
      "   -------------------------- ------------- 2/3 [quandl]\n",
      "   -------------------------- ------------- 2/3 [quandl]\n",
      "   -------------------------- ------------- 2/3 [quandl]\n",
      "   -------------------------- ------------- 2/3 [quandl]\n",
      "   ---------------------------------------- 3/3 [quandl]\n",
      "\n",
      "Successfully installed inflection-0.5.1 more-itertools-10.8.0 quandl-3.7.0\n",
      "Note: you may need to restart the kernel to use updated packages.\n"
     ]
    }
   ],
   "source": [
    "%pip install quandl"
   ]
  },
  {
   "cell_type": "code",
   "execution_count": 2,
   "id": "77a64f2a",
   "metadata": {},
   "outputs": [],
   "source": [
    "import pandas as pd\n",
    "import quandl"
   ]
  },
  {
   "cell_type": "markdown",
   "id": "b97bffa7",
   "metadata": {},
   "source": [
    "authenticate using personal API key"
   ]
  },
  {
   "cell_type": "code",
   "execution_count": null,
   "id": "9441bfaa",
   "metadata": {},
   "outputs": [],
   "source": [
    "# QUANDL_KEY = '(KEY)' #replace (KEY) with your own\n"
   ]
  }
 ],
 "metadata": {
  "kernelspec": {
   "display_name": "Python 3",
   "language": "python",
   "name": "python3"
  },
  "language_info": {
   "codemirror_mode": {
    "name": "ipython",
    "version": 3
   },
   "file_extension": ".py",
   "mimetype": "text/x-python",
   "name": "python",
   "nbconvert_exporter": "python",
   "pygments_lexer": "ipython3",
   "version": "3.12.7"
  }
 },
 "nbformat": 4,
 "nbformat_minor": 5
}
