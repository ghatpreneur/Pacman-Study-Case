{
 "cells": [
  {
   "cell_type": "markdown",
   "id": "847cce45",
   "metadata": {},
   "source": [
    "# Converting Prices to returns"
   ]
  },
  {
   "cell_type": "markdown",
   "id": "d6279aae",
   "metadata": {},
   "source": [
    "1. import library"
   ]
  },
  {
   "cell_type": "code",
   "execution_count": 75,
   "id": "276368db",
   "metadata": {},
   "outputs": [],
   "source": [
    "import pandas as pd\n",
    "import numpy as np\n",
    "import yfinance as yf"
   ]
  },
  {
   "cell_type": "markdown",
   "id": "8ec7a3e1",
   "metadata": {},
   "source": [
    "2. Download the data and keep the adjusted close prices only"
   ]
  },
  {
   "cell_type": "code",
   "execution_count": 76,
   "id": "0306a2c4",
   "metadata": {},
   "outputs": [
    {
     "name": "stderr",
     "output_type": "stream",
     "text": [
      "C:\\Users\\ghatfan\\AppData\\Local\\Temp\\ipykernel_21408\\147211321.py:1: FutureWarning: YF.download() has changed argument auto_adjust default to True\n",
      "  df = yf.download('AAPL',\n"
     ]
    },
    {
     "data": {
      "application/vnd.microsoft.datawrangler.viewer.v0+json": {
       "columns": [
        {
         "name": "Date",
         "rawType": "datetime64[ns]",
         "type": "datetime"
        },
        {
         "name": "('Close', 'AAPL')",
         "rawType": "float64",
         "type": "float"
        },
        {
         "name": "('High', 'AAPL')",
         "rawType": "float64",
         "type": "float"
        },
        {
         "name": "('Low', 'AAPL')",
         "rawType": "float64",
         "type": "float"
        },
        {
         "name": "('Open', 'AAPL')",
         "rawType": "float64",
         "type": "float"
        },
        {
         "name": "('Volume', 'AAPL')",
         "rawType": "int64",
         "type": "integer"
        }
       ],
       "ref": "8eda70fa-d319-431f-bf6f-58f50541e9f2",
       "rows": [
        [
         "2000-01-03 00:00:00",
         "0.8400942087173462",
         "0.8443155585483794",
         "0.7631675531258697",
         "0.7870900051449747",
         "535796800"
        ],
        [
         "2000-01-04 00:00:00",
         "0.7692657113075256",
         "0.8302435030866655",
         "0.7594151620470131",
         "0.8124193557534954",
         "512377600"
        ],
        [
         "2000-01-05 00:00:00",
         "0.7805227637290955",
         "0.8297747245140543",
         "0.7730182131188515",
         "0.7786466135511642",
         "778321600"
        ],
        [
         "2000-01-06 00:00:00",
         "0.7129774689674377",
         "0.8030379717499876",
         "0.7129774689674377",
         "0.7964714723821259",
         "767972800"
        ],
        [
         "2000-01-07 00:00:00",
         "0.7467504739761353",
         "0.7580081746532202",
         "0.7167306235573667",
         "0.7242351728249103",
         "460734400"
        ]
       ],
       "shape": {
        "columns": 5,
        "rows": 5
       }
      },
      "text/html": [
       "<div>\n",
       "<style scoped>\n",
       "    .dataframe tbody tr th:only-of-type {\n",
       "        vertical-align: middle;\n",
       "    }\n",
       "\n",
       "    .dataframe tbody tr th {\n",
       "        vertical-align: top;\n",
       "    }\n",
       "\n",
       "    .dataframe thead tr th {\n",
       "        text-align: left;\n",
       "    }\n",
       "\n",
       "    .dataframe thead tr:last-of-type th {\n",
       "        text-align: right;\n",
       "    }\n",
       "</style>\n",
       "<table border=\"1\" class=\"dataframe\">\n",
       "  <thead>\n",
       "    <tr>\n",
       "      <th>Price</th>\n",
       "      <th>Close</th>\n",
       "      <th>High</th>\n",
       "      <th>Low</th>\n",
       "      <th>Open</th>\n",
       "      <th>Volume</th>\n",
       "    </tr>\n",
       "    <tr>\n",
       "      <th>Ticker</th>\n",
       "      <th>AAPL</th>\n",
       "      <th>AAPL</th>\n",
       "      <th>AAPL</th>\n",
       "      <th>AAPL</th>\n",
       "      <th>AAPL</th>\n",
       "    </tr>\n",
       "    <tr>\n",
       "      <th>Date</th>\n",
       "      <th></th>\n",
       "      <th></th>\n",
       "      <th></th>\n",
       "      <th></th>\n",
       "      <th></th>\n",
       "    </tr>\n",
       "  </thead>\n",
       "  <tbody>\n",
       "    <tr>\n",
       "      <th>2000-01-03</th>\n",
       "      <td>0.840094</td>\n",
       "      <td>0.844316</td>\n",
       "      <td>0.763168</td>\n",
       "      <td>0.787090</td>\n",
       "      <td>535796800</td>\n",
       "    </tr>\n",
       "    <tr>\n",
       "      <th>2000-01-04</th>\n",
       "      <td>0.769266</td>\n",
       "      <td>0.830244</td>\n",
       "      <td>0.759415</td>\n",
       "      <td>0.812419</td>\n",
       "      <td>512377600</td>\n",
       "    </tr>\n",
       "    <tr>\n",
       "      <th>2000-01-05</th>\n",
       "      <td>0.780523</td>\n",
       "      <td>0.829775</td>\n",
       "      <td>0.773018</td>\n",
       "      <td>0.778647</td>\n",
       "      <td>778321600</td>\n",
       "    </tr>\n",
       "    <tr>\n",
       "      <th>2000-01-06</th>\n",
       "      <td>0.712977</td>\n",
       "      <td>0.803038</td>\n",
       "      <td>0.712977</td>\n",
       "      <td>0.796471</td>\n",
       "      <td>767972800</td>\n",
       "    </tr>\n",
       "    <tr>\n",
       "      <th>2000-01-07</th>\n",
       "      <td>0.746750</td>\n",
       "      <td>0.758008</td>\n",
       "      <td>0.716731</td>\n",
       "      <td>0.724235</td>\n",
       "      <td>460734400</td>\n",
       "    </tr>\n",
       "  </tbody>\n",
       "</table>\n",
       "</div>"
      ],
      "text/plain": [
       "Price          Close      High       Low      Open     Volume\n",
       "Ticker          AAPL      AAPL      AAPL      AAPL       AAPL\n",
       "Date                                                         \n",
       "2000-01-03  0.840094  0.844316  0.763168  0.787090  535796800\n",
       "2000-01-04  0.769266  0.830244  0.759415  0.812419  512377600\n",
       "2000-01-05  0.780523  0.829775  0.773018  0.778647  778321600\n",
       "2000-01-06  0.712977  0.803038  0.712977  0.796471  767972800\n",
       "2000-01-07  0.746750  0.758008  0.716731  0.724235  460734400"
      ]
     },
     "execution_count": 76,
     "metadata": {},
     "output_type": "execute_result"
    }
   ],
   "source": [
    "df = yf.download('AAPL',\n",
    "                 start='2000-01-01',\n",
    "                 end= '2025-07-09',\n",
    "                 progress=False)\n",
    "\n",
    "df.head()"
   ]
  },
  {
   "cell_type": "markdown",
   "id": "28b361e0",
   "metadata": {},
   "source": [
    "mengubah nama df menjadi menggunakan fungsi (map)"
   ]
  },
  {
   "cell_type": "code",
   "execution_count": 77,
   "id": "96f5ba70",
   "metadata": {},
   "outputs": [],
   "source": [
    "df.columns = df.columns.map('_'.join)"
   ]
  },
  {
   "cell_type": "markdown",
   "id": "f5b6c5b3",
   "metadata": {},
   "source": [
    "3. calculate adjused close prices to simple log returns: "
   ]
  },
  {
   "cell_type": "code",
   "execution_count": 78,
   "id": "52a4fda3",
   "metadata": {},
   "outputs": [],
   "source": [
    "df['simple_rtrn'] = df.Close_AAPL.pct_change()\n",
    "df['log_rtrn'] = np.log(df.Close_AAPL/df.Close_AAPL.shift(1))"
   ]
  },
  {
   "cell_type": "markdown",
   "id": "a935e06f",
   "metadata": {},
   "source": [
    "4. inspect the output"
   ]
  },
  {
   "cell_type": "code",
   "execution_count": 79,
   "id": "a0d7ff4e",
   "metadata": {},
   "outputs": [
    {
     "data": {
      "application/vnd.microsoft.datawrangler.viewer.v0+json": {
       "columns": [
        {
         "name": "Date",
         "rawType": "datetime64[ns]",
         "type": "datetime"
        },
        {
         "name": "Close_AAPL",
         "rawType": "float64",
         "type": "float"
        },
        {
         "name": "High_AAPL",
         "rawType": "float64",
         "type": "float"
        },
        {
         "name": "Low_AAPL",
         "rawType": "float64",
         "type": "float"
        },
        {
         "name": "Open_AAPL",
         "rawType": "float64",
         "type": "float"
        },
        {
         "name": "Volume_AAPL",
         "rawType": "int64",
         "type": "integer"
        },
        {
         "name": "simple_rtrn",
         "rawType": "float64",
         "type": "float"
        },
        {
         "name": "log_rtrn",
         "rawType": "float64",
         "type": "float"
        }
       ],
       "ref": "57c7e00e-907b-44b0-9ed1-ca995235bc42",
       "rows": [
        [
         "2000-01-03 00:00:00",
         "0.8400942087173462",
         "0.8443155585483794",
         "0.7631675531258697",
         "0.7870900051449747",
         "535796800",
         null,
         null
        ],
        [
         "2000-01-04 00:00:00",
         "0.7692657113075256",
         "0.8302435030866655",
         "0.7594151620470131",
         "0.8124193557534954",
         "512377600",
         "-0.0843101841137095",
         "-0.08807760060083249"
        ],
        [
         "2000-01-05 00:00:00",
         "0.7805227637290955",
         "0.8297747245140543",
         "0.7730182131188515",
         "0.7786466135511642",
         "778321600",
         "0.014633503425540928",
         "0.014527466919612361"
        ],
        [
         "2000-01-06 00:00:00",
         "0.7129774689674377",
         "0.8030379717499876",
         "0.7129774689674377",
         "0.7964714723821259",
         "767972800",
         "-0.08653853276353818",
         "-0.09051408551355035"
        ],
        [
         "2000-01-07 00:00:00",
         "0.7467504739761353",
         "0.7580081746532202",
         "0.7167306235573667",
         "0.7242351728249103",
         "460734400",
         "0.047368965330151225",
         "0.046281272225824656"
        ]
       ],
       "shape": {
        "columns": 7,
        "rows": 5
       }
      },
      "text/html": [
       "<div>\n",
       "<style scoped>\n",
       "    .dataframe tbody tr th:only-of-type {\n",
       "        vertical-align: middle;\n",
       "    }\n",
       "\n",
       "    .dataframe tbody tr th {\n",
       "        vertical-align: top;\n",
       "    }\n",
       "\n",
       "    .dataframe thead th {\n",
       "        text-align: right;\n",
       "    }\n",
       "</style>\n",
       "<table border=\"1\" class=\"dataframe\">\n",
       "  <thead>\n",
       "    <tr style=\"text-align: right;\">\n",
       "      <th></th>\n",
       "      <th>Close_AAPL</th>\n",
       "      <th>High_AAPL</th>\n",
       "      <th>Low_AAPL</th>\n",
       "      <th>Open_AAPL</th>\n",
       "      <th>Volume_AAPL</th>\n",
       "      <th>simple_rtrn</th>\n",
       "      <th>log_rtrn</th>\n",
       "    </tr>\n",
       "    <tr>\n",
       "      <th>Date</th>\n",
       "      <th></th>\n",
       "      <th></th>\n",
       "      <th></th>\n",
       "      <th></th>\n",
       "      <th></th>\n",
       "      <th></th>\n",
       "      <th></th>\n",
       "    </tr>\n",
       "  </thead>\n",
       "  <tbody>\n",
       "    <tr>\n",
       "      <th>2000-01-03</th>\n",
       "      <td>0.840094</td>\n",
       "      <td>0.844316</td>\n",
       "      <td>0.763168</td>\n",
       "      <td>0.787090</td>\n",
       "      <td>535796800</td>\n",
       "      <td>NaN</td>\n",
       "      <td>NaN</td>\n",
       "    </tr>\n",
       "    <tr>\n",
       "      <th>2000-01-04</th>\n",
       "      <td>0.769266</td>\n",
       "      <td>0.830244</td>\n",
       "      <td>0.759415</td>\n",
       "      <td>0.812419</td>\n",
       "      <td>512377600</td>\n",
       "      <td>-0.084310</td>\n",
       "      <td>-0.088078</td>\n",
       "    </tr>\n",
       "    <tr>\n",
       "      <th>2000-01-05</th>\n",
       "      <td>0.780523</td>\n",
       "      <td>0.829775</td>\n",
       "      <td>0.773018</td>\n",
       "      <td>0.778647</td>\n",
       "      <td>778321600</td>\n",
       "      <td>0.014634</td>\n",
       "      <td>0.014527</td>\n",
       "    </tr>\n",
       "    <tr>\n",
       "      <th>2000-01-06</th>\n",
       "      <td>0.712977</td>\n",
       "      <td>0.803038</td>\n",
       "      <td>0.712977</td>\n",
       "      <td>0.796471</td>\n",
       "      <td>767972800</td>\n",
       "      <td>-0.086539</td>\n",
       "      <td>-0.090514</td>\n",
       "    </tr>\n",
       "    <tr>\n",
       "      <th>2000-01-07</th>\n",
       "      <td>0.746750</td>\n",
       "      <td>0.758008</td>\n",
       "      <td>0.716731</td>\n",
       "      <td>0.724235</td>\n",
       "      <td>460734400</td>\n",
       "      <td>0.047369</td>\n",
       "      <td>0.046281</td>\n",
       "    </tr>\n",
       "  </tbody>\n",
       "</table>\n",
       "</div>"
      ],
      "text/plain": [
       "            Close_AAPL  High_AAPL  Low_AAPL  Open_AAPL  Volume_AAPL  \\\n",
       "Date                                                                  \n",
       "2000-01-03    0.840094   0.844316  0.763168   0.787090    535796800   \n",
       "2000-01-04    0.769266   0.830244  0.759415   0.812419    512377600   \n",
       "2000-01-05    0.780523   0.829775  0.773018   0.778647    778321600   \n",
       "2000-01-06    0.712977   0.803038  0.712977   0.796471    767972800   \n",
       "2000-01-07    0.746750   0.758008  0.716731   0.724235    460734400   \n",
       "\n",
       "            simple_rtrn  log_rtrn  \n",
       "Date                               \n",
       "2000-01-03          NaN       NaN  \n",
       "2000-01-04    -0.084310 -0.088078  \n",
       "2000-01-05     0.014634  0.014527  \n",
       "2000-01-06    -0.086539 -0.090514  \n",
       "2000-01-07     0.047369  0.046281  "
      ]
     },
     "execution_count": 79,
     "metadata": {},
     "output_type": "execute_result"
    }
   ],
   "source": [
    "df.head()"
   ]
  },
  {
   "cell_type": "markdown",
   "id": "b34229b8",
   "metadata": {},
   "source": [
    "There's more"
   ]
  },
  {
   "cell_type": "markdown",
   "id": "f6202d14",
   "metadata": {},
   "source": [
    "1. import library  and authenticate"
   ]
  },
  {
   "cell_type": "code",
   "execution_count": 80,
   "id": "0f3ab174",
   "metadata": {},
   "outputs": [],
   "source": [
    "import pandas as pd\n",
    "import quandl\n",
    "\n",
    "QUANDL_KEY = 'TkpUxzzm12EfxUqyxkja'\n",
    "quandl.ApiConfig.api_key = QUANDL_KEY"
   ]
  },
  {
   "cell_type": "markdown",
   "id": "1db013d3",
   "metadata": {},
   "source": [
    "2. create a DataFrame with all possible dates and left join the procces on it"
   ]
  },
  {
   "cell_type": "code",
   "execution_count": null,
   "id": "88179c7e",
   "metadata": {},
   "outputs": [
    {
     "name": "stderr",
     "output_type": "stream",
     "text": [
      "C:\\Users\\ghatfan\\AppData\\Local\\Temp\\ipykernel_21408\\2131693292.py:4: FutureWarning: DataFrame.fillna with 'method' is deprecated and will raise in a future version. Use obj.ffill() or obj.bfill() instead.\n",
      "  .fillna(method='ffill') \\\n",
      "C:\\Users\\ghatfan\\AppData\\Local\\Temp\\ipykernel_21408\\2131693292.py:5: FutureWarning: 'M' is deprecated and will be removed in a future version, please use 'ME' instead.\n",
      "  .asfreq('M')\n"
     ]
    }
   ],
   "source": [
    "df_all_dates = pd.DataFrame(index=pd.date_range(start='1999-12-31', \n",
    "                                                end = '2010-12-31'))\n",
    "df = df_all_dates.join(df[['Close_AAPL']], how='left') \\\n",
    ".fillna(method='ffill') \\\n",
    ".asfreq('M')"
   ]
  },
  {
   "cell_type": "markdown",
   "id": "2a5f9c6b",
   "metadata": {},
   "source": [
    "3. Download the inflation data from Quandl"
   ]
  },
  {
   "cell_type": "code",
   "execution_count": 90,
   "id": "5caed9ff",
   "metadata": {},
   "outputs": [
    {
     "ename": "QuandlError",
     "evalue": "(Status 403) Something went wrong. Please try again. If you continue to have problems, please contact us at connect@quandl.com.",
     "output_type": "error",
     "traceback": [
      "\u001b[31m---------------------------------------------------------------------------\u001b[39m",
      "\u001b[31mJSONDecodeError\u001b[39m                           Traceback (most recent call last)",
      "\u001b[36mFile \u001b[39m\u001b[32mc:\\Users\\ghatfan\\AppData\\Local\\Programs\\Python\\Python312\\Lib\\site-packages\\requests\\models.py:974\u001b[39m, in \u001b[36mResponse.json\u001b[39m\u001b[34m(self, **kwargs)\u001b[39m\n\u001b[32m    973\u001b[39m \u001b[38;5;28;01mtry\u001b[39;00m:\n\u001b[32m--> \u001b[39m\u001b[32m974\u001b[39m     \u001b[38;5;28;01mreturn\u001b[39;00m \u001b[43mcomplexjson\u001b[49m\u001b[43m.\u001b[49m\u001b[43mloads\u001b[49m\u001b[43m(\u001b[49m\u001b[38;5;28;43mself\u001b[39;49m\u001b[43m.\u001b[49m\u001b[43mtext\u001b[49m\u001b[43m,\u001b[49m\u001b[43m \u001b[49m\u001b[43m*\u001b[49m\u001b[43m*\u001b[49m\u001b[43mkwargs\u001b[49m\u001b[43m)\u001b[49m\n\u001b[32m    975\u001b[39m \u001b[38;5;28;01mexcept\u001b[39;00m JSONDecodeError \u001b[38;5;28;01mas\u001b[39;00m e:\n\u001b[32m    976\u001b[39m     \u001b[38;5;66;03m# Catch JSON-related errors and raise as requests.JSONDecodeError\u001b[39;00m\n\u001b[32m    977\u001b[39m     \u001b[38;5;66;03m# This aliases json.JSONDecodeError and simplejson.JSONDecodeError\u001b[39;00m\n",
      "\u001b[36mFile \u001b[39m\u001b[32mc:\\Users\\ghatfan\\AppData\\Local\\Programs\\Python\\Python312\\Lib\\json\\__init__.py:346\u001b[39m, in \u001b[36mloads\u001b[39m\u001b[34m(s, cls, object_hook, parse_float, parse_int, parse_constant, object_pairs_hook, **kw)\u001b[39m\n\u001b[32m    343\u001b[39m \u001b[38;5;28;01mif\u001b[39;00m (\u001b[38;5;28mcls\u001b[39m \u001b[38;5;129;01mis\u001b[39;00m \u001b[38;5;28;01mNone\u001b[39;00m \u001b[38;5;129;01mand\u001b[39;00m object_hook \u001b[38;5;129;01mis\u001b[39;00m \u001b[38;5;28;01mNone\u001b[39;00m \u001b[38;5;129;01mand\u001b[39;00m\n\u001b[32m    344\u001b[39m         parse_int \u001b[38;5;129;01mis\u001b[39;00m \u001b[38;5;28;01mNone\u001b[39;00m \u001b[38;5;129;01mand\u001b[39;00m parse_float \u001b[38;5;129;01mis\u001b[39;00m \u001b[38;5;28;01mNone\u001b[39;00m \u001b[38;5;129;01mand\u001b[39;00m\n\u001b[32m    345\u001b[39m         parse_constant \u001b[38;5;129;01mis\u001b[39;00m \u001b[38;5;28;01mNone\u001b[39;00m \u001b[38;5;129;01mand\u001b[39;00m object_pairs_hook \u001b[38;5;129;01mis\u001b[39;00m \u001b[38;5;28;01mNone\u001b[39;00m \u001b[38;5;129;01mand\u001b[39;00m \u001b[38;5;129;01mnot\u001b[39;00m kw):\n\u001b[32m--> \u001b[39m\u001b[32m346\u001b[39m     \u001b[38;5;28;01mreturn\u001b[39;00m \u001b[43m_default_decoder\u001b[49m\u001b[43m.\u001b[49m\u001b[43mdecode\u001b[49m\u001b[43m(\u001b[49m\u001b[43ms\u001b[49m\u001b[43m)\u001b[49m\n\u001b[32m    347\u001b[39m \u001b[38;5;28;01mif\u001b[39;00m \u001b[38;5;28mcls\u001b[39m \u001b[38;5;129;01mis\u001b[39;00m \u001b[38;5;28;01mNone\u001b[39;00m:\n",
      "\u001b[36mFile \u001b[39m\u001b[32mc:\\Users\\ghatfan\\AppData\\Local\\Programs\\Python\\Python312\\Lib\\json\\decoder.py:337\u001b[39m, in \u001b[36mJSONDecoder.decode\u001b[39m\u001b[34m(self, s, _w)\u001b[39m\n\u001b[32m    333\u001b[39m \u001b[38;5;250m\u001b[39m\u001b[33;03m\"\"\"Return the Python representation of ``s`` (a ``str`` instance\u001b[39;00m\n\u001b[32m    334\u001b[39m \u001b[33;03mcontaining a JSON document).\u001b[39;00m\n\u001b[32m    335\u001b[39m \n\u001b[32m    336\u001b[39m \u001b[33;03m\"\"\"\u001b[39;00m\n\u001b[32m--> \u001b[39m\u001b[32m337\u001b[39m obj, end = \u001b[38;5;28;43mself\u001b[39;49m\u001b[43m.\u001b[49m\u001b[43mraw_decode\u001b[49m\u001b[43m(\u001b[49m\u001b[43ms\u001b[49m\u001b[43m,\u001b[49m\u001b[43m \u001b[49m\u001b[43midx\u001b[49m\u001b[43m=\u001b[49m\u001b[43m_w\u001b[49m\u001b[43m(\u001b[49m\u001b[43ms\u001b[49m\u001b[43m,\u001b[49m\u001b[43m \u001b[49m\u001b[32;43m0\u001b[39;49m\u001b[43m)\u001b[49m\u001b[43m.\u001b[49m\u001b[43mend\u001b[49m\u001b[43m(\u001b[49m\u001b[43m)\u001b[49m\u001b[43m)\u001b[49m\n\u001b[32m    338\u001b[39m end = _w(s, end).end()\n",
      "\u001b[36mFile \u001b[39m\u001b[32mc:\\Users\\ghatfan\\AppData\\Local\\Programs\\Python\\Python312\\Lib\\json\\decoder.py:355\u001b[39m, in \u001b[36mJSONDecoder.raw_decode\u001b[39m\u001b[34m(self, s, idx)\u001b[39m\n\u001b[32m    354\u001b[39m \u001b[38;5;28;01mexcept\u001b[39;00m \u001b[38;5;167;01mStopIteration\u001b[39;00m \u001b[38;5;28;01mas\u001b[39;00m err:\n\u001b[32m--> \u001b[39m\u001b[32m355\u001b[39m     \u001b[38;5;28;01mraise\u001b[39;00m JSONDecodeError(\u001b[33m\"\u001b[39m\u001b[33mExpecting value\u001b[39m\u001b[33m\"\u001b[39m, s, err.value) \u001b[38;5;28;01mfrom\u001b[39;00m\u001b[38;5;250m \u001b[39m\u001b[38;5;28;01mNone\u001b[39;00m\n\u001b[32m    356\u001b[39m \u001b[38;5;28;01mreturn\u001b[39;00m obj, end\n",
      "\u001b[31mJSONDecodeError\u001b[39m: Expecting value: line 1 column 1 (char 0)",
      "\nDuring handling of the above exception, another exception occurred:\n",
      "\u001b[31mJSONDecodeError\u001b[39m                           Traceback (most recent call last)",
      "\u001b[36mFile \u001b[39m\u001b[32mc:\\Users\\ghatfan\\AppData\\Local\\Programs\\Python\\Python312\\Lib\\site-packages\\quandl\\connection.py:84\u001b[39m, in \u001b[36mConnection.parse\u001b[39m\u001b[34m(cls, response)\u001b[39m\n\u001b[32m     83\u001b[39m \u001b[38;5;28;01mtry\u001b[39;00m:\n\u001b[32m---> \u001b[39m\u001b[32m84\u001b[39m     \u001b[38;5;28;01mreturn\u001b[39;00m \u001b[43mresponse\u001b[49m\u001b[43m.\u001b[49m\u001b[43mjson\u001b[49m\u001b[43m(\u001b[49m\u001b[43m)\u001b[49m\n\u001b[32m     85\u001b[39m \u001b[38;5;28;01mexcept\u001b[39;00m \u001b[38;5;167;01mValueError\u001b[39;00m:\n",
      "\u001b[36mFile \u001b[39m\u001b[32mc:\\Users\\ghatfan\\AppData\\Local\\Programs\\Python\\Python312\\Lib\\site-packages\\requests\\models.py:978\u001b[39m, in \u001b[36mResponse.json\u001b[39m\u001b[34m(self, **kwargs)\u001b[39m\n\u001b[32m    975\u001b[39m \u001b[38;5;28;01mexcept\u001b[39;00m JSONDecodeError \u001b[38;5;28;01mas\u001b[39;00m e:\n\u001b[32m    976\u001b[39m     \u001b[38;5;66;03m# Catch JSON-related errors and raise as requests.JSONDecodeError\u001b[39;00m\n\u001b[32m    977\u001b[39m     \u001b[38;5;66;03m# This aliases json.JSONDecodeError and simplejson.JSONDecodeError\u001b[39;00m\n\u001b[32m--> \u001b[39m\u001b[32m978\u001b[39m     \u001b[38;5;28;01mraise\u001b[39;00m RequestsJSONDecodeError(e.msg, e.doc, e.pos)\n",
      "\u001b[31mJSONDecodeError\u001b[39m: Expecting value: line 1 column 1 (char 0)",
      "\nDuring handling of the above exception, another exception occurred:\n",
      "\u001b[31mQuandlError\u001b[39m                               Traceback (most recent call last)",
      "\u001b[36mCell\u001b[39m\u001b[36m \u001b[39m\u001b[32mIn[90]\u001b[39m\u001b[32m, line 1\u001b[39m\n\u001b[32m----> \u001b[39m\u001b[32m1\u001b[39m df_cpi = \u001b[43mquandl\u001b[49m\u001b[43m.\u001b[49m\u001b[43mget\u001b[49m\u001b[43m(\u001b[49m\u001b[43mdataset\u001b[49m\u001b[43m=\u001b[49m\u001b[33;43m'\u001b[39;49m\u001b[33;43mRATEINF/CPI_USA\u001b[39;49m\u001b[33;43m'\u001b[39;49m\u001b[43m,\u001b[49m\u001b[43m \u001b[49m\n\u001b[32m      2\u001b[39m \u001b[43m                   \u001b[49m\u001b[43mstart_date\u001b[49m\u001b[43m=\u001b[49m\u001b[33;43m'\u001b[39;49m\u001b[33;43m1999-12-01\u001b[39;49m\u001b[33;43m'\u001b[39;49m\u001b[43m,\u001b[49m\u001b[43m \u001b[49m\n\u001b[32m      3\u001b[39m \u001b[43m                   \u001b[49m\u001b[43mend_date\u001b[49m\u001b[43m=\u001b[49m\u001b[33;43m'\u001b[39;49m\u001b[33;43m2010-12-31\u001b[39;49m\u001b[33;43m'\u001b[39;49m\u001b[43m)\u001b[49m\n\u001b[32m      4\u001b[39m df_cpi.rename(columns={\u001b[33m'\u001b[39m\u001b[33mValue\u001b[39m\u001b[33m'\u001b[39m:\u001b[33m'\u001b[39m\u001b[33mcpi\u001b[39m\u001b[33m'\u001b[39m}, inplace=\u001b[38;5;28;01mTrue\u001b[39;00m)\n",
      "\u001b[36mFile \u001b[39m\u001b[32mc:\\Users\\ghatfan\\AppData\\Local\\Programs\\Python\\Python312\\Lib\\site-packages\\quandl\\get.py:48\u001b[39m, in \u001b[36mget\u001b[39m\u001b[34m(dataset, **kwargs)\u001b[39m\n\u001b[32m     46\u001b[39m     \u001b[38;5;28;01mif\u001b[39;00m dataset_args[\u001b[33m'\u001b[39m\u001b[33mcolumn_index\u001b[39m\u001b[33m'\u001b[39m] \u001b[38;5;129;01mis\u001b[39;00m \u001b[38;5;129;01mnot\u001b[39;00m \u001b[38;5;28;01mNone\u001b[39;00m:\n\u001b[32m     47\u001b[39m         kwargs.update({\u001b[33m'\u001b[39m\u001b[33mcolumn_index\u001b[39m\u001b[33m'\u001b[39m: dataset_args[\u001b[33m'\u001b[39m\u001b[33mcolumn_index\u001b[39m\u001b[33m'\u001b[39m]})\n\u001b[32m---> \u001b[39m\u001b[32m48\u001b[39m     data = \u001b[43mDataset\u001b[49m\u001b[43m(\u001b[49m\u001b[43mdataset_args\u001b[49m\u001b[43m[\u001b[49m\u001b[33;43m'\u001b[39;49m\u001b[33;43mcode\u001b[39;49m\u001b[33;43m'\u001b[39;49m\u001b[43m]\u001b[49m\u001b[43m)\u001b[49m\u001b[43m.\u001b[49m\u001b[43mdata\u001b[49m\u001b[43m(\u001b[49m\u001b[43mparams\u001b[49m\u001b[43m=\u001b[49m\u001b[43mkwargs\u001b[49m\u001b[43m,\u001b[49m\u001b[43m \u001b[49m\u001b[43mhandle_column_not_found\u001b[49m\u001b[43m=\u001b[49m\u001b[38;5;28;43;01mTrue\u001b[39;49;00m\u001b[43m)\u001b[49m\n\u001b[32m     49\u001b[39m \u001b[38;5;66;03m# Array\u001b[39;00m\n\u001b[32m     50\u001b[39m \u001b[38;5;28;01melif\u001b[39;00m \u001b[38;5;28misinstance\u001b[39m(dataset, \u001b[38;5;28mlist\u001b[39m):\n",
      "\u001b[36mFile \u001b[39m\u001b[32mc:\\Users\\ghatfan\\AppData\\Local\\Programs\\Python\\Python312\\Lib\\site-packages\\quandl\\model\\dataset.py:47\u001b[39m, in \u001b[36mDataset.data\u001b[39m\u001b[34m(self, **options)\u001b[39m\n\u001b[32m     45\u001b[39m updated_options = Util.merge_options(\u001b[33m'\u001b[39m\u001b[33mparams\u001b[39m\u001b[33m'\u001b[39m, params, **options)\n\u001b[32m     46\u001b[39m \u001b[38;5;28;01mtry\u001b[39;00m:\n\u001b[32m---> \u001b[39m\u001b[32m47\u001b[39m     \u001b[38;5;28;01mreturn\u001b[39;00m \u001b[43mData\u001b[49m\u001b[43m.\u001b[49m\u001b[43mall\u001b[49m\u001b[43m(\u001b[49m\u001b[43m*\u001b[49m\u001b[43m*\u001b[49m\u001b[43mupdated_options\u001b[49m\u001b[43m)\u001b[49m\n\u001b[32m     48\u001b[39m \u001b[38;5;28;01mexcept\u001b[39;00m NotFoundError:\n\u001b[32m     49\u001b[39m     \u001b[38;5;28;01mif\u001b[39;00m handle_not_found_error:\n",
      "\u001b[36mFile \u001b[39m\u001b[32mc:\\Users\\ghatfan\\AppData\\Local\\Programs\\Python\\Python312\\Lib\\site-packages\\quandl\\operations\\list.py:15\u001b[39m, in \u001b[36mListOperation.all\u001b[39m\u001b[34m(cls, **options)\u001b[39m\n\u001b[32m     13\u001b[39m     options[\u001b[33m'\u001b[39m\u001b[33mparams\u001b[39m\u001b[33m'\u001b[39m] = {}\n\u001b[32m     14\u001b[39m path = Util.constructed_path(\u001b[38;5;28mcls\u001b[39m.list_path(), options[\u001b[33m'\u001b[39m\u001b[33mparams\u001b[39m\u001b[33m'\u001b[39m])\n\u001b[32m---> \u001b[39m\u001b[32m15\u001b[39m r = \u001b[43mConnection\u001b[49m\u001b[43m.\u001b[49m\u001b[43mrequest\u001b[49m\u001b[43m(\u001b[49m\u001b[33;43m'\u001b[39;49m\u001b[33;43mget\u001b[39;49m\u001b[33;43m'\u001b[39;49m\u001b[43m,\u001b[49m\u001b[43m \u001b[49m\u001b[43mpath\u001b[49m\u001b[43m,\u001b[49m\u001b[43m \u001b[49m\u001b[43m*\u001b[49m\u001b[43m*\u001b[49m\u001b[43moptions\u001b[49m\u001b[43m)\u001b[49m\n\u001b[32m     16\u001b[39m response_data = r.json()\n\u001b[32m     17\u001b[39m Util.convert_to_dates(response_data)\n",
      "\u001b[36mFile \u001b[39m\u001b[32mc:\\Users\\ghatfan\\AppData\\Local\\Programs\\Python\\Python312\\Lib\\site-packages\\quandl\\connection.py:38\u001b[39m, in \u001b[36mConnection.request\u001b[39m\u001b[34m(cls, http_verb, url, **options)\u001b[39m\n\u001b[32m     34\u001b[39m options[\u001b[33m'\u001b[39m\u001b[33mheaders\u001b[39m\u001b[33m'\u001b[39m] = headers\n\u001b[32m     36\u001b[39m abs_url = \u001b[33m'\u001b[39m\u001b[38;5;132;01m%s\u001b[39;00m\u001b[33m/\u001b[39m\u001b[38;5;132;01m%s\u001b[39;00m\u001b[33m'\u001b[39m % (ApiConfig.api_base, url)\n\u001b[32m---> \u001b[39m\u001b[32m38\u001b[39m \u001b[38;5;28;01mreturn\u001b[39;00m \u001b[38;5;28;43mcls\u001b[39;49m\u001b[43m.\u001b[49m\u001b[43mexecute_request\u001b[49m\u001b[43m(\u001b[49m\u001b[43mhttp_verb\u001b[49m\u001b[43m,\u001b[49m\u001b[43m \u001b[49m\u001b[43mabs_url\u001b[49m\u001b[43m,\u001b[49m\u001b[43m \u001b[49m\u001b[43m*\u001b[49m\u001b[43m*\u001b[49m\u001b[43moptions\u001b[49m\u001b[43m)\u001b[49m\n",
      "\u001b[36mFile \u001b[39m\u001b[32mc:\\Users\\ghatfan\\AppData\\Local\\Programs\\Python\\Python312\\Lib\\site-packages\\quandl\\connection.py:50\u001b[39m, in \u001b[36mConnection.execute_request\u001b[39m\u001b[34m(cls, http_verb, url, **options)\u001b[39m\n\u001b[32m     45\u001b[39m response = session.request(method=http_verb,\n\u001b[32m     46\u001b[39m                            url=url,\n\u001b[32m     47\u001b[39m                            verify=ApiConfig.verify_ssl,\n\u001b[32m     48\u001b[39m                            **options)\n\u001b[32m     49\u001b[39m \u001b[38;5;28;01mif\u001b[39;00m response.status_code < \u001b[32m200\u001b[39m \u001b[38;5;129;01mor\u001b[39;00m response.status_code >= \u001b[32m300\u001b[39m:\n\u001b[32m---> \u001b[39m\u001b[32m50\u001b[39m     \u001b[38;5;28;43mcls\u001b[39;49m\u001b[43m.\u001b[49m\u001b[43mhandle_api_error\u001b[49m\u001b[43m(\u001b[49m\u001b[43mresponse\u001b[49m\u001b[43m)\u001b[49m\n\u001b[32m     51\u001b[39m \u001b[38;5;28;01melse\u001b[39;00m:\n\u001b[32m     52\u001b[39m     \u001b[38;5;28;01mreturn\u001b[39;00m response\n",
      "\u001b[36mFile \u001b[39m\u001b[32mc:\\Users\\ghatfan\\AppData\\Local\\Programs\\Python\\Python312\\Lib\\site-packages\\quandl\\connection.py:90\u001b[39m, in \u001b[36mConnection.handle_api_error\u001b[39m\u001b[34m(cls, resp)\u001b[39m\n\u001b[32m     88\u001b[39m \u001b[38;5;129m@classmethod\u001b[39m\n\u001b[32m     89\u001b[39m \u001b[38;5;28;01mdef\u001b[39;00m\u001b[38;5;250m \u001b[39m\u001b[34mhandle_api_error\u001b[39m(\u001b[38;5;28mcls\u001b[39m, resp):\n\u001b[32m---> \u001b[39m\u001b[32m90\u001b[39m     error_body = \u001b[38;5;28;43mcls\u001b[39;49m\u001b[43m.\u001b[49m\u001b[43mparse\u001b[49m\u001b[43m(\u001b[49m\u001b[43mresp\u001b[49m\u001b[43m)\u001b[49m\n\u001b[32m     92\u001b[39m     \u001b[38;5;66;03m# if our app does not form a proper quandl_error response\u001b[39;00m\n\u001b[32m     93\u001b[39m     \u001b[38;5;66;03m# throw generic error\u001b[39;00m\n\u001b[32m     94\u001b[39m     \u001b[38;5;28;01mif\u001b[39;00m \u001b[33m'\u001b[39m\u001b[33mquandl_error\u001b[39m\u001b[33m'\u001b[39m \u001b[38;5;129;01mnot\u001b[39;00m \u001b[38;5;129;01min\u001b[39;00m error_body:\n",
      "\u001b[36mFile \u001b[39m\u001b[32mc:\\Users\\ghatfan\\AppData\\Local\\Programs\\Python\\Python312\\Lib\\site-packages\\quandl\\connection.py:86\u001b[39m, in \u001b[36mConnection.parse\u001b[39m\u001b[34m(cls, response)\u001b[39m\n\u001b[32m     84\u001b[39m     \u001b[38;5;28;01mreturn\u001b[39;00m response.json()\n\u001b[32m     85\u001b[39m \u001b[38;5;28;01mexcept\u001b[39;00m \u001b[38;5;167;01mValueError\u001b[39;00m:\n\u001b[32m---> \u001b[39m\u001b[32m86\u001b[39m     \u001b[38;5;28;01mraise\u001b[39;00m QuandlError(http_status=response.status_code, http_body=response.text)\n",
      "\u001b[31mQuandlError\u001b[39m: (Status 403) Something went wrong. Please try again. If you continue to have problems, please contact us at connect@quandl.com."
     ]
    }
   ],
   "source": [
    "df_cpi = quandl.get(dataset='RATEINF/CPI_USA', \n",
    "                   start_date='1999-12-01', \n",
    "                   end_date='2010-12-31')\n",
    "df_cpi.rename(columns={'Value':'cpi'}, inplace=True)"
   ]
  }
 ],
 "metadata": {
  "kernelspec": {
   "display_name": "Python 3",
   "language": "python",
   "name": "python3"
  },
  "language_info": {
   "codemirror_mode": {
    "name": "ipython",
    "version": 3
   },
   "file_extension": ".py",
   "mimetype": "text/x-python",
   "name": "python",
   "nbconvert_exporter": "python",
   "pygments_lexer": "ipython3",
   "version": "3.12.7"
  }
 },
 "nbformat": 4,
 "nbformat_minor": 5
}
